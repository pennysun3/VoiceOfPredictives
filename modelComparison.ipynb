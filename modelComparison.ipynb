{
 "cells": [
  {
   "cell_type": "markdown",
   "metadata": {},
   "source": [
    "# Set Up\n",
    "\n",
    "## Load libraries"
   ]
  },
  {
   "cell_type": "code",
   "execution_count": 87,
   "metadata": {},
   "outputs": [],
   "source": [
    "import pandas as pd\n",
    "import sklearn\n",
    "\n",
    "from sklearn.model_selection import cross_val_score, GridSearchCV\n",
    "from sklearn.linear_model import LogisticRegression\n",
    "from sklearn import svm\n",
    "from sklearn.tree import DecisionTreeClassifier\n",
    "from sklearn.ensemble import RandomForestClassifier, AdaBoostClassifier, GradientBoostingClassifier\n",
    "from sklearn.neighbors import KNeighborsClassifier\n",
    "from sklearn.neural_network import MLPClassifier\n",
    "from sklearn.naive_bayes import GaussianNB\n",
    "from sklearn.decomposition import PCA"
   ]
  },
  {
   "cell_type": "markdown",
   "metadata": {},
   "source": [
    "## Read in data"
   ]
  },
  {
   "cell_type": "code",
   "execution_count": 5,
   "metadata": {},
   "outputs": [
    {
     "data": {
      "text/html": [
       "<div>\n",
       "<style>\n",
       "    .dataframe thead tr:only-child th {\n",
       "        text-align: right;\n",
       "    }\n",
       "\n",
       "    .dataframe thead th {\n",
       "        text-align: left;\n",
       "    }\n",
       "\n",
       "    .dataframe tbody tr th {\n",
       "        vertical-align: top;\n",
       "    }\n",
       "</style>\n",
       "<table border=\"1\" class=\"dataframe\">\n",
       "  <thead>\n",
       "    <tr style=\"text-align: right;\">\n",
       "      <th></th>\n",
       "      <th>meanfreq</th>\n",
       "      <th>sd</th>\n",
       "      <th>median</th>\n",
       "      <th>Q25</th>\n",
       "      <th>Q75</th>\n",
       "      <th>IQR</th>\n",
       "      <th>skew</th>\n",
       "      <th>kurt</th>\n",
       "      <th>sp.ent</th>\n",
       "      <th>sfm</th>\n",
       "      <th>...</th>\n",
       "      <th>centroid</th>\n",
       "      <th>meanfun</th>\n",
       "      <th>minfun</th>\n",
       "      <th>maxfun</th>\n",
       "      <th>meandom</th>\n",
       "      <th>mindom</th>\n",
       "      <th>maxdom</th>\n",
       "      <th>dfrange</th>\n",
       "      <th>modindx</th>\n",
       "      <th>label</th>\n",
       "    </tr>\n",
       "  </thead>\n",
       "  <tbody>\n",
       "    <tr>\n",
       "      <th>0</th>\n",
       "      <td>0.059781</td>\n",
       "      <td>0.064241</td>\n",
       "      <td>0.032027</td>\n",
       "      <td>0.015071</td>\n",
       "      <td>0.090193</td>\n",
       "      <td>0.075122</td>\n",
       "      <td>12.863462</td>\n",
       "      <td>274.402906</td>\n",
       "      <td>0.893369</td>\n",
       "      <td>0.491918</td>\n",
       "      <td>...</td>\n",
       "      <td>0.059781</td>\n",
       "      <td>0.084279</td>\n",
       "      <td>0.015702</td>\n",
       "      <td>0.275862</td>\n",
       "      <td>0.007812</td>\n",
       "      <td>0.007812</td>\n",
       "      <td>0.007812</td>\n",
       "      <td>0.000000</td>\n",
       "      <td>0.000000</td>\n",
       "      <td>male</td>\n",
       "    </tr>\n",
       "    <tr>\n",
       "      <th>1</th>\n",
       "      <td>0.066009</td>\n",
       "      <td>0.067310</td>\n",
       "      <td>0.040229</td>\n",
       "      <td>0.019414</td>\n",
       "      <td>0.092666</td>\n",
       "      <td>0.073252</td>\n",
       "      <td>22.423285</td>\n",
       "      <td>634.613855</td>\n",
       "      <td>0.892193</td>\n",
       "      <td>0.513724</td>\n",
       "      <td>...</td>\n",
       "      <td>0.066009</td>\n",
       "      <td>0.107937</td>\n",
       "      <td>0.015826</td>\n",
       "      <td>0.250000</td>\n",
       "      <td>0.009014</td>\n",
       "      <td>0.007812</td>\n",
       "      <td>0.054688</td>\n",
       "      <td>0.046875</td>\n",
       "      <td>0.052632</td>\n",
       "      <td>male</td>\n",
       "    </tr>\n",
       "    <tr>\n",
       "      <th>2</th>\n",
       "      <td>0.077316</td>\n",
       "      <td>0.083829</td>\n",
       "      <td>0.036718</td>\n",
       "      <td>0.008701</td>\n",
       "      <td>0.131908</td>\n",
       "      <td>0.123207</td>\n",
       "      <td>30.757155</td>\n",
       "      <td>1024.927705</td>\n",
       "      <td>0.846389</td>\n",
       "      <td>0.478905</td>\n",
       "      <td>...</td>\n",
       "      <td>0.077316</td>\n",
       "      <td>0.098706</td>\n",
       "      <td>0.015656</td>\n",
       "      <td>0.271186</td>\n",
       "      <td>0.007990</td>\n",
       "      <td>0.007812</td>\n",
       "      <td>0.015625</td>\n",
       "      <td>0.007812</td>\n",
       "      <td>0.046512</td>\n",
       "      <td>male</td>\n",
       "    </tr>\n",
       "    <tr>\n",
       "      <th>3</th>\n",
       "      <td>0.151228</td>\n",
       "      <td>0.072111</td>\n",
       "      <td>0.158011</td>\n",
       "      <td>0.096582</td>\n",
       "      <td>0.207955</td>\n",
       "      <td>0.111374</td>\n",
       "      <td>1.232831</td>\n",
       "      <td>4.177296</td>\n",
       "      <td>0.963322</td>\n",
       "      <td>0.727232</td>\n",
       "      <td>...</td>\n",
       "      <td>0.151228</td>\n",
       "      <td>0.088965</td>\n",
       "      <td>0.017798</td>\n",
       "      <td>0.250000</td>\n",
       "      <td>0.201497</td>\n",
       "      <td>0.007812</td>\n",
       "      <td>0.562500</td>\n",
       "      <td>0.554688</td>\n",
       "      <td>0.247119</td>\n",
       "      <td>male</td>\n",
       "    </tr>\n",
       "    <tr>\n",
       "      <th>4</th>\n",
       "      <td>0.135120</td>\n",
       "      <td>0.079146</td>\n",
       "      <td>0.124656</td>\n",
       "      <td>0.078720</td>\n",
       "      <td>0.206045</td>\n",
       "      <td>0.127325</td>\n",
       "      <td>1.101174</td>\n",
       "      <td>4.333713</td>\n",
       "      <td>0.971955</td>\n",
       "      <td>0.783568</td>\n",
       "      <td>...</td>\n",
       "      <td>0.135120</td>\n",
       "      <td>0.106398</td>\n",
       "      <td>0.016931</td>\n",
       "      <td>0.266667</td>\n",
       "      <td>0.712812</td>\n",
       "      <td>0.007812</td>\n",
       "      <td>5.484375</td>\n",
       "      <td>5.476562</td>\n",
       "      <td>0.208274</td>\n",
       "      <td>male</td>\n",
       "    </tr>\n",
       "  </tbody>\n",
       "</table>\n",
       "<p>5 rows × 21 columns</p>\n",
       "</div>"
      ],
      "text/plain": [
       "   meanfreq        sd    median       Q25       Q75       IQR       skew  \\\n",
       "0  0.059781  0.064241  0.032027  0.015071  0.090193  0.075122  12.863462   \n",
       "1  0.066009  0.067310  0.040229  0.019414  0.092666  0.073252  22.423285   \n",
       "2  0.077316  0.083829  0.036718  0.008701  0.131908  0.123207  30.757155   \n",
       "3  0.151228  0.072111  0.158011  0.096582  0.207955  0.111374   1.232831   \n",
       "4  0.135120  0.079146  0.124656  0.078720  0.206045  0.127325   1.101174   \n",
       "\n",
       "          kurt    sp.ent       sfm  ...    centroid   meanfun    minfun  \\\n",
       "0   274.402906  0.893369  0.491918  ...    0.059781  0.084279  0.015702   \n",
       "1   634.613855  0.892193  0.513724  ...    0.066009  0.107937  0.015826   \n",
       "2  1024.927705  0.846389  0.478905  ...    0.077316  0.098706  0.015656   \n",
       "3     4.177296  0.963322  0.727232  ...    0.151228  0.088965  0.017798   \n",
       "4     4.333713  0.971955  0.783568  ...    0.135120  0.106398  0.016931   \n",
       "\n",
       "     maxfun   meandom    mindom    maxdom   dfrange   modindx  label  \n",
       "0  0.275862  0.007812  0.007812  0.007812  0.000000  0.000000   male  \n",
       "1  0.250000  0.009014  0.007812  0.054688  0.046875  0.052632   male  \n",
       "2  0.271186  0.007990  0.007812  0.015625  0.007812  0.046512   male  \n",
       "3  0.250000  0.201497  0.007812  0.562500  0.554688  0.247119   male  \n",
       "4  0.266667  0.712812  0.007812  5.484375  5.476562  0.208274   male  \n",
       "\n",
       "[5 rows x 21 columns]"
      ]
     },
     "execution_count": 5,
     "metadata": {},
     "output_type": "execute_result"
    }
   ],
   "source": [
    "df = pd.read_csv(\"voice.csv\")\n",
    "df.head()"
   ]
  },
  {
   "cell_type": "code",
   "execution_count": 23,
   "metadata": {},
   "outputs": [
    {
     "data": {
      "text/html": [
       "<div>\n",
       "<style>\n",
       "    .dataframe thead tr:only-child th {\n",
       "        text-align: right;\n",
       "    }\n",
       "\n",
       "    .dataframe thead th {\n",
       "        text-align: left;\n",
       "    }\n",
       "\n",
       "    .dataframe tbody tr th {\n",
       "        vertical-align: top;\n",
       "    }\n",
       "</style>\n",
       "<table border=\"1\" class=\"dataframe\">\n",
       "  <thead>\n",
       "    <tr style=\"text-align: right;\">\n",
       "      <th></th>\n",
       "      <th>meanfreq</th>\n",
       "      <th>sd</th>\n",
       "      <th>median</th>\n",
       "      <th>Q25</th>\n",
       "      <th>Q75</th>\n",
       "      <th>IQR</th>\n",
       "      <th>skew</th>\n",
       "      <th>kurt</th>\n",
       "      <th>sp.ent</th>\n",
       "      <th>sfm</th>\n",
       "      <th>mode</th>\n",
       "      <th>centroid</th>\n",
       "      <th>meanfun</th>\n",
       "      <th>minfun</th>\n",
       "      <th>maxfun</th>\n",
       "      <th>meandom</th>\n",
       "      <th>mindom</th>\n",
       "      <th>maxdom</th>\n",
       "      <th>dfrange</th>\n",
       "      <th>modindx</th>\n",
       "    </tr>\n",
       "  </thead>\n",
       "  <tbody>\n",
       "    <tr>\n",
       "      <th>0</th>\n",
       "      <td>0.059781</td>\n",
       "      <td>0.064241</td>\n",
       "      <td>0.032027</td>\n",
       "      <td>0.015071</td>\n",
       "      <td>0.090193</td>\n",
       "      <td>0.075122</td>\n",
       "      <td>12.863462</td>\n",
       "      <td>274.402906</td>\n",
       "      <td>0.893369</td>\n",
       "      <td>0.491918</td>\n",
       "      <td>0.000000</td>\n",
       "      <td>0.059781</td>\n",
       "      <td>0.084279</td>\n",
       "      <td>0.015702</td>\n",
       "      <td>0.275862</td>\n",
       "      <td>0.007812</td>\n",
       "      <td>0.007812</td>\n",
       "      <td>0.007812</td>\n",
       "      <td>0.000000</td>\n",
       "      <td>0.000000</td>\n",
       "    </tr>\n",
       "    <tr>\n",
       "      <th>1</th>\n",
       "      <td>0.066009</td>\n",
       "      <td>0.067310</td>\n",
       "      <td>0.040229</td>\n",
       "      <td>0.019414</td>\n",
       "      <td>0.092666</td>\n",
       "      <td>0.073252</td>\n",
       "      <td>22.423285</td>\n",
       "      <td>634.613855</td>\n",
       "      <td>0.892193</td>\n",
       "      <td>0.513724</td>\n",
       "      <td>0.000000</td>\n",
       "      <td>0.066009</td>\n",
       "      <td>0.107937</td>\n",
       "      <td>0.015826</td>\n",
       "      <td>0.250000</td>\n",
       "      <td>0.009014</td>\n",
       "      <td>0.007812</td>\n",
       "      <td>0.054688</td>\n",
       "      <td>0.046875</td>\n",
       "      <td>0.052632</td>\n",
       "    </tr>\n",
       "    <tr>\n",
       "      <th>2</th>\n",
       "      <td>0.077316</td>\n",
       "      <td>0.083829</td>\n",
       "      <td>0.036718</td>\n",
       "      <td>0.008701</td>\n",
       "      <td>0.131908</td>\n",
       "      <td>0.123207</td>\n",
       "      <td>30.757155</td>\n",
       "      <td>1024.927705</td>\n",
       "      <td>0.846389</td>\n",
       "      <td>0.478905</td>\n",
       "      <td>0.000000</td>\n",
       "      <td>0.077316</td>\n",
       "      <td>0.098706</td>\n",
       "      <td>0.015656</td>\n",
       "      <td>0.271186</td>\n",
       "      <td>0.007990</td>\n",
       "      <td>0.007812</td>\n",
       "      <td>0.015625</td>\n",
       "      <td>0.007812</td>\n",
       "      <td>0.046512</td>\n",
       "    </tr>\n",
       "    <tr>\n",
       "      <th>3</th>\n",
       "      <td>0.151228</td>\n",
       "      <td>0.072111</td>\n",
       "      <td>0.158011</td>\n",
       "      <td>0.096582</td>\n",
       "      <td>0.207955</td>\n",
       "      <td>0.111374</td>\n",
       "      <td>1.232831</td>\n",
       "      <td>4.177296</td>\n",
       "      <td>0.963322</td>\n",
       "      <td>0.727232</td>\n",
       "      <td>0.083878</td>\n",
       "      <td>0.151228</td>\n",
       "      <td>0.088965</td>\n",
       "      <td>0.017798</td>\n",
       "      <td>0.250000</td>\n",
       "      <td>0.201497</td>\n",
       "      <td>0.007812</td>\n",
       "      <td>0.562500</td>\n",
       "      <td>0.554688</td>\n",
       "      <td>0.247119</td>\n",
       "    </tr>\n",
       "    <tr>\n",
       "      <th>4</th>\n",
       "      <td>0.135120</td>\n",
       "      <td>0.079146</td>\n",
       "      <td>0.124656</td>\n",
       "      <td>0.078720</td>\n",
       "      <td>0.206045</td>\n",
       "      <td>0.127325</td>\n",
       "      <td>1.101174</td>\n",
       "      <td>4.333713</td>\n",
       "      <td>0.971955</td>\n",
       "      <td>0.783568</td>\n",
       "      <td>0.104261</td>\n",
       "      <td>0.135120</td>\n",
       "      <td>0.106398</td>\n",
       "      <td>0.016931</td>\n",
       "      <td>0.266667</td>\n",
       "      <td>0.712812</td>\n",
       "      <td>0.007812</td>\n",
       "      <td>5.484375</td>\n",
       "      <td>5.476562</td>\n",
       "      <td>0.208274</td>\n",
       "    </tr>\n",
       "  </tbody>\n",
       "</table>\n",
       "</div>"
      ],
      "text/plain": [
       "   meanfreq        sd    median       Q25       Q75       IQR       skew  \\\n",
       "0  0.059781  0.064241  0.032027  0.015071  0.090193  0.075122  12.863462   \n",
       "1  0.066009  0.067310  0.040229  0.019414  0.092666  0.073252  22.423285   \n",
       "2  0.077316  0.083829  0.036718  0.008701  0.131908  0.123207  30.757155   \n",
       "3  0.151228  0.072111  0.158011  0.096582  0.207955  0.111374   1.232831   \n",
       "4  0.135120  0.079146  0.124656  0.078720  0.206045  0.127325   1.101174   \n",
       "\n",
       "          kurt    sp.ent       sfm      mode  centroid   meanfun    minfun  \\\n",
       "0   274.402906  0.893369  0.491918  0.000000  0.059781  0.084279  0.015702   \n",
       "1   634.613855  0.892193  0.513724  0.000000  0.066009  0.107937  0.015826   \n",
       "2  1024.927705  0.846389  0.478905  0.000000  0.077316  0.098706  0.015656   \n",
       "3     4.177296  0.963322  0.727232  0.083878  0.151228  0.088965  0.017798   \n",
       "4     4.333713  0.971955  0.783568  0.104261  0.135120  0.106398  0.016931   \n",
       "\n",
       "     maxfun   meandom    mindom    maxdom   dfrange   modindx  \n",
       "0  0.275862  0.007812  0.007812  0.007812  0.000000  0.000000  \n",
       "1  0.250000  0.009014  0.007812  0.054688  0.046875  0.052632  \n",
       "2  0.271186  0.007990  0.007812  0.015625  0.007812  0.046512  \n",
       "3  0.250000  0.201497  0.007812  0.562500  0.554688  0.247119  \n",
       "4  0.266667  0.712812  0.007812  5.484375  5.476562  0.208274  "
      ]
     },
     "execution_count": 23,
     "metadata": {},
     "output_type": "execute_result"
    }
   ],
   "source": [
    "X = df.loc[:, df.columns != 'label']\n",
    "X.head()"
   ]
  },
  {
   "cell_type": "code",
   "execution_count": 22,
   "metadata": {},
   "outputs": [
    {
     "data": {
      "text/plain": [
       "0    male\n",
       "1    male\n",
       "2    male\n",
       "3    male\n",
       "4    male\n",
       "Name: label, dtype: object"
      ]
     },
     "execution_count": 22,
     "metadata": {},
     "output_type": "execute_result"
    }
   ],
   "source": [
    "y = df['label']\n",
    "y.head()"
   ]
  },
  {
   "cell_type": "markdown",
   "metadata": {},
   "source": [
    "### Test/train split for grid searches"
   ]
  },
  {
   "cell_type": "code",
   "execution_count": 54,
   "metadata": {},
   "outputs": [],
   "source": [
    "X_train, X_test, y_train, y_test = train_test_split(X, y, test_size=0.20, random_state=101)"
   ]
  },
  {
   "cell_type": "markdown",
   "metadata": {},
   "source": [
    "# Model Comparisons\n",
    "\n",
    "## Logistic Regression"
   ]
  },
  {
   "cell_type": "code",
   "execution_count": 30,
   "metadata": {},
   "outputs": [
    {
     "name": "stdout",
     "output_type": "stream",
     "text": [
      "Logistic Regression CV Accuracy: 89.44% (+/- 18.25%)\n"
     ]
    }
   ],
   "source": [
    "lm_model = LogisticRegression()\n",
    "lm_scores = cross_val_score(lm_model, X, y, cv=10)\n",
    "print(\"Logistic Regression CV Accuracy: %0.2f%% (+/- %0.2f%%)\" % (lm_scores.mean()*100, lm_scores.std() * 2*100))"
   ]
  },
  {
   "cell_type": "markdown",
   "metadata": {},
   "source": [
    "## SVM"
   ]
  },
  {
   "cell_type": "code",
   "execution_count": 37,
   "metadata": {},
   "outputs": [
    {
     "name": "stdout",
     "output_type": "stream",
     "text": [
      "Support Vector Machine CV Accuracy: 91.93% (+/- 15.34%)\n"
     ]
    }
   ],
   "source": [
    "svm_model = svm.SVC(kernel='linear')\n",
    "svm_scores = cross_val_score(svm_model, X, y, cv=10)\n",
    "print(\"Support Vector Machine CV Accuracy: %0.2f%% (+/- %0.2f%%)\" % (svm_scores.mean()*100, svm_scores.std() * 2*100))"
   ]
  },
  {
   "cell_type": "markdown",
   "metadata": {},
   "source": [
    "## CART"
   ]
  },
  {
   "cell_type": "code",
   "execution_count": 41,
   "metadata": {},
   "outputs": [
    {
     "name": "stdout",
     "output_type": "stream",
     "text": [
      "CART CV Accuracy: 94.99% (+/- 6.51%)\n"
     ]
    }
   ],
   "source": [
    "CART_model = DecisionTreeClassifier(random_state=0)\n",
    "CART_scores = cross_val_score(CART_model, X, y, cv=10)\n",
    "print(\"CART CV Accuracy: %0.2f%% (+/- %0.2f%%)\" % (CART_scores.mean()*100, CART_scores.std() * 2*100))"
   ]
  },
  {
   "cell_type": "markdown",
   "metadata": {},
   "source": [
    "## Random Forest\n",
    "\n",
    "** Modify once we cover Random Forest **"
   ]
  },
  {
   "cell_type": "code",
   "execution_count": 55,
   "metadata": {},
   "outputs": [
    {
     "name": "stdout",
     "output_type": "stream",
     "text": [
      "Fitting 3 folds for each of 36 candidates, totalling 108 fits\n",
      "[CV] criterion=gini, max_depth=3, n_estimators=3 .....................\n",
      "[CV]  criterion=gini, max_depth=3, n_estimators=3, score=0.936094674556213, total=   0.0s\n",
      "[CV] criterion=gini, max_depth=3, n_estimators=3 .....................\n",
      "[CV]  criterion=gini, max_depth=3, n_estimators=3, score=0.9633136094674556, total=   0.0s\n",
      "[CV] criterion=gini, max_depth=3, n_estimators=3 .....................\n",
      "[CV]  criterion=gini, max_depth=3, n_estimators=3, score=0.9597156398104265, total=   0.0s\n",
      "[CV] criterion=gini, max_depth=3, n_estimators=5 .....................\n",
      "[CV]  criterion=gini, max_depth=3, n_estimators=5, score=0.9526627218934911, total=   0.0s\n",
      "[CV] criterion=gini, max_depth=3, n_estimators=5 .....................\n",
      "[CV]  criterion=gini, max_depth=3, n_estimators=5, score=0.9644970414201184, total=   0.0s\n",
      "[CV] criterion=gini, max_depth=3, n_estimators=5 .....................\n",
      "[CV]  criterion=gini, max_depth=3, n_estimators=5, score=0.9549763033175356, total=   0.0s\n",
      "[CV] criterion=gini, max_depth=3, n_estimators=10 ....................\n",
      "[CV]  criterion=gini, max_depth=3, n_estimators=10, score=0.9656804733727811, total=   0.0s\n",
      "[CV] criterion=gini, max_depth=3, n_estimators=10 ....................\n",
      "[CV]  criterion=gini, max_depth=3, n_estimators=10, score=0.9704142011834319, total=   0.0s\n",
      "[CV] criterion=gini, max_depth=3, n_estimators=10 ....................\n"
     ]
    },
    {
     "name": "stderr",
     "output_type": "stream",
     "text": [
      "[Parallel(n_jobs=1)]: Done   1 out of   1 | elapsed:    0.0s remaining:    0.0s\n",
      "[Parallel(n_jobs=1)]: Done   2 out of   2 | elapsed:    0.0s remaining:    0.0s\n",
      "[Parallel(n_jobs=1)]: Done   3 out of   3 | elapsed:    0.1s remaining:    0.0s\n"
     ]
    },
    {
     "name": "stdout",
     "output_type": "stream",
     "text": [
      "[CV]  criterion=gini, max_depth=3, n_estimators=10, score=0.9514218009478673, total=   0.0s\n",
      "[CV] criterion=gini, max_depth=3, n_estimators=20 ....................\n",
      "[CV]  criterion=gini, max_depth=3, n_estimators=20, score=0.9633136094674556, total=   0.1s\n",
      "[CV] criterion=gini, max_depth=3, n_estimators=20 ....................\n",
      "[CV]  criterion=gini, max_depth=3, n_estimators=20, score=0.9751479289940829, total=   0.1s\n",
      "[CV] criterion=gini, max_depth=3, n_estimators=20 ....................\n",
      "[CV]  criterion=gini, max_depth=3, n_estimators=20, score=0.9609004739336493, total=   0.1s\n",
      "[CV] criterion=gini, max_depth=3, n_estimators=30 ....................\n",
      "[CV]  criterion=gini, max_depth=3, n_estimators=30, score=0.9668639053254438, total=   0.1s\n",
      "[CV] criterion=gini, max_depth=3, n_estimators=30 ....................\n",
      "[CV]  criterion=gini, max_depth=3, n_estimators=30, score=0.9763313609467456, total=   0.1s\n",
      "[CV] criterion=gini, max_depth=3, n_estimators=30 ....................\n",
      "[CV]  criterion=gini, max_depth=3, n_estimators=30, score=0.9620853080568721, total=   0.1s\n",
      "[CV] criterion=gini, max_depth=3, n_estimators=40 ....................\n",
      "[CV]  criterion=gini, max_depth=3, n_estimators=40, score=0.9621301775147929, total=   0.1s\n",
      "[CV] criterion=gini, max_depth=3, n_estimators=40 ....................\n",
      "[CV]  criterion=gini, max_depth=3, n_estimators=40, score=0.978698224852071, total=   0.1s\n",
      "[CV] criterion=gini, max_depth=3, n_estimators=40 ....................\n",
      "[CV]  criterion=gini, max_depth=3, n_estimators=40, score=0.9609004739336493, total=   0.2s\n",
      "[CV] criterion=gini, max_depth=5, n_estimators=3 .....................\n",
      "[CV]  criterion=gini, max_depth=5, n_estimators=3, score=0.9396449704142011, total=   0.0s\n",
      "[CV] criterion=gini, max_depth=5, n_estimators=3 .....................\n",
      "[CV]  criterion=gini, max_depth=5, n_estimators=3, score=0.9692307692307692, total=   0.0s\n",
      "[CV] criterion=gini, max_depth=5, n_estimators=3 .....................\n",
      "[CV]  criterion=gini, max_depth=5, n_estimators=3, score=0.9585308056872038, total=   0.0s\n",
      "[CV] criterion=gini, max_depth=5, n_estimators=5 .....................\n",
      "[CV]  criterion=gini, max_depth=5, n_estimators=5, score=0.9455621301775148, total=   0.0s\n",
      "[CV] criterion=gini, max_depth=5, n_estimators=5 .....................\n",
      "[CV]  criterion=gini, max_depth=5, n_estimators=5, score=0.9704142011834319, total=   0.0s\n",
      "[CV] criterion=gini, max_depth=5, n_estimators=5 .....................\n",
      "[CV]  criterion=gini, max_depth=5, n_estimators=5, score=0.9609004739336493, total=   0.0s\n",
      "[CV] criterion=gini, max_depth=5, n_estimators=10 ....................\n",
      "[CV]  criterion=gini, max_depth=5, n_estimators=10, score=0.9644970414201184, total=   0.0s\n",
      "[CV] criterion=gini, max_depth=5, n_estimators=10 ....................\n",
      "[CV]  criterion=gini, max_depth=5, n_estimators=10, score=0.9846153846153847, total=   0.0s\n",
      "[CV] criterion=gini, max_depth=5, n_estimators=10 ....................\n",
      "[CV]  criterion=gini, max_depth=5, n_estimators=10, score=0.9620853080568721, total=   0.1s\n",
      "[CV] criterion=gini, max_depth=5, n_estimators=20 ....................\n",
      "[CV]  criterion=gini, max_depth=5, n_estimators=20, score=0.9692307692307692, total=   0.1s\n",
      "[CV] criterion=gini, max_depth=5, n_estimators=20 ....................\n",
      "[CV]  criterion=gini, max_depth=5, n_estimators=20, score=0.9798816568047337, total=   0.1s\n",
      "[CV] criterion=gini, max_depth=5, n_estimators=20 ....................\n",
      "[CV]  criterion=gini, max_depth=5, n_estimators=20, score=0.9680094786729858, total=   0.1s\n",
      "[CV] criterion=gini, max_depth=5, n_estimators=30 ....................\n",
      "[CV]  criterion=gini, max_depth=5, n_estimators=30, score=0.9727810650887574, total=   0.1s\n",
      "[CV] criterion=gini, max_depth=5, n_estimators=30 ....................\n",
      "[CV]  criterion=gini, max_depth=5, n_estimators=30, score=0.9822485207100592, total=   0.1s\n",
      "[CV] criterion=gini, max_depth=5, n_estimators=30 ....................\n",
      "[CV]  criterion=gini, max_depth=5, n_estimators=30, score=0.9656398104265402, total=   0.1s\n",
      "[CV] criterion=gini, max_depth=5, n_estimators=40 ....................\n",
      "[CV]  criterion=gini, max_depth=5, n_estimators=40, score=0.9692307692307692, total=   0.2s\n",
      "[CV] criterion=gini, max_depth=5, n_estimators=40 ....................\n",
      "[CV]  criterion=gini, max_depth=5, n_estimators=40, score=0.9822485207100592, total=   0.1s\n",
      "[CV] criterion=gini, max_depth=5, n_estimators=40 ....................\n",
      "[CV]  criterion=gini, max_depth=5, n_estimators=40, score=0.9703791469194313, total=   0.1s\n",
      "[CV] criterion=gini, max_depth=7, n_estimators=3 .....................\n",
      "[CV]  criterion=gini, max_depth=7, n_estimators=3, score=0.9704142011834319, total=   0.0s\n",
      "[CV] criterion=gini, max_depth=7, n_estimators=3 .....................\n",
      "[CV]  criterion=gini, max_depth=7, n_estimators=3, score=0.9727810650887574, total=   0.0s\n",
      "[CV] criterion=gini, max_depth=7, n_estimators=3 .....................\n",
      "[CV]  criterion=gini, max_depth=7, n_estimators=3, score=0.9514218009478673, total=   0.0s\n",
      "[CV] criterion=gini, max_depth=7, n_estimators=5 .....................\n",
      "[CV]  criterion=gini, max_depth=7, n_estimators=5, score=0.9704142011834319, total=   0.0s\n",
      "[CV] criterion=gini, max_depth=7, n_estimators=5 .....................\n",
      "[CV]  criterion=gini, max_depth=7, n_estimators=5, score=0.9798816568047337, total=   0.0s\n",
      "[CV] criterion=gini, max_depth=7, n_estimators=5 .....................\n",
      "[CV]  criterion=gini, max_depth=7, n_estimators=5, score=0.9680094786729858, total=   0.0s\n",
      "[CV] criterion=gini, max_depth=7, n_estimators=10 ....................\n",
      "[CV]  criterion=gini, max_depth=7, n_estimators=10, score=0.9739644970414201, total=   0.0s\n",
      "[CV] criterion=gini, max_depth=7, n_estimators=10 ....................\n",
      "[CV]  criterion=gini, max_depth=7, n_estimators=10, score=0.9834319526627219, total=   0.0s\n",
      "[CV] criterion=gini, max_depth=7, n_estimators=10 ....................\n",
      "[CV]  criterion=gini, max_depth=7, n_estimators=10, score=0.9644549763033176, total=   0.0s\n",
      "[CV] criterion=gini, max_depth=7, n_estimators=20 ....................\n",
      "[CV]  criterion=gini, max_depth=7, n_estimators=20, score=0.9727810650887574, total=   0.1s\n",
      "[CV] criterion=gini, max_depth=7, n_estimators=20 ....................\n",
      "[CV]  criterion=gini, max_depth=7, n_estimators=20, score=0.9822485207100592, total=   0.1s\n",
      "[CV] criterion=gini, max_depth=7, n_estimators=20 ....................\n",
      "[CV]  criterion=gini, max_depth=7, n_estimators=20, score=0.966824644549763, total=   0.1s\n",
      "[CV] criterion=gini, max_depth=7, n_estimators=30 ....................\n",
      "[CV]  criterion=gini, max_depth=7, n_estimators=30, score=0.9763313609467456, total=   0.1s\n",
      "[CV] criterion=gini, max_depth=7, n_estimators=30 ....................\n",
      "[CV]  criterion=gini, max_depth=7, n_estimators=30, score=0.9834319526627219, total=   0.1s\n",
      "[CV] criterion=gini, max_depth=7, n_estimators=30 ....................\n",
      "[CV]  criterion=gini, max_depth=7, n_estimators=30, score=0.9680094786729858, total=   0.1s\n",
      "[CV] criterion=gini, max_depth=7, n_estimators=40 ....................\n",
      "[CV]  criterion=gini, max_depth=7, n_estimators=40, score=0.9739644970414201, total=   0.1s\n",
      "[CV] criterion=gini, max_depth=7, n_estimators=40 ....................\n",
      "[CV]  criterion=gini, max_depth=7, n_estimators=40, score=0.9822485207100592, total=   0.1s\n",
      "[CV] criterion=gini, max_depth=7, n_estimators=40 ....................\n",
      "[CV]  criterion=gini, max_depth=7, n_estimators=40, score=0.9703791469194313, total=   0.1s\n",
      "[CV] criterion=entropy, max_depth=3, n_estimators=3 ..................\n",
      "[CV]  criterion=entropy, max_depth=3, n_estimators=3, score=0.8816568047337278, total=   0.0s\n",
      "[CV] criterion=entropy, max_depth=3, n_estimators=3 ..................\n",
      "[CV]  criterion=entropy, max_depth=3, n_estimators=3, score=0.9644970414201184, total=   0.0s\n",
      "[CV] criterion=entropy, max_depth=3, n_estimators=3 ..................\n",
      "[CV]  criterion=entropy, max_depth=3, n_estimators=3, score=0.957345971563981, total=   0.0s\n",
      "[CV] criterion=entropy, max_depth=3, n_estimators=5 ..................\n",
      "[CV]  criterion=entropy, max_depth=3, n_estimators=5, score=0.9573964497041421, total=   0.0s\n",
      "[CV] criterion=entropy, max_depth=3, n_estimators=5 ..................\n",
      "[CV]  criterion=entropy, max_depth=3, n_estimators=5, score=0.9349112426035503, total=   0.0s\n",
      "[CV] criterion=entropy, max_depth=3, n_estimators=5 ..................\n",
      "[CV]  criterion=entropy, max_depth=3, n_estimators=5, score=0.9372037914691943, total=   0.0s\n",
      "[CV] criterion=entropy, max_depth=3, n_estimators=10 .................\n",
      "[CV]  criterion=entropy, max_depth=3, n_estimators=10, score=0.9550295857988166, total=   0.0s\n",
      "[CV] criterion=entropy, max_depth=3, n_estimators=10 .................\n",
      "[CV]  criterion=entropy, max_depth=3, n_estimators=10, score=0.9775147928994082, total=   0.1s\n"
     ]
    },
    {
     "name": "stdout",
     "output_type": "stream",
     "text": [
      "[CV] criterion=entropy, max_depth=3, n_estimators=10 .................\n",
      "[CV]  criterion=entropy, max_depth=3, n_estimators=10, score=0.8708530805687204, total=   0.0s\n",
      "[CV] criterion=entropy, max_depth=3, n_estimators=20 .................\n",
      "[CV]  criterion=entropy, max_depth=3, n_estimators=20, score=0.9633136094674556, total=   0.1s\n",
      "[CV] criterion=entropy, max_depth=3, n_estimators=20 .................\n",
      "[CV]  criterion=entropy, max_depth=3, n_estimators=20, score=0.9822485207100592, total=   0.1s\n",
      "[CV] criterion=entropy, max_depth=3, n_estimators=20 .................\n",
      "[CV]  criterion=entropy, max_depth=3, n_estimators=20, score=0.9620853080568721, total=   0.1s\n",
      "[CV] criterion=entropy, max_depth=3, n_estimators=30 .................\n",
      "[CV]  criterion=entropy, max_depth=3, n_estimators=30, score=0.9609467455621302, total=   0.1s\n",
      "[CV] criterion=entropy, max_depth=3, n_estimators=30 .................\n",
      "[CV]  criterion=entropy, max_depth=3, n_estimators=30, score=0.9739644970414201, total=   0.1s\n",
      "[CV] criterion=entropy, max_depth=3, n_estimators=30 .................\n",
      "[CV]  criterion=entropy, max_depth=3, n_estimators=30, score=0.9632701421800948, total=   0.1s\n",
      "[CV] criterion=entropy, max_depth=3, n_estimators=40 .................\n",
      "[CV]  criterion=entropy, max_depth=3, n_estimators=40, score=0.9550295857988166, total=   0.1s\n",
      "[CV] criterion=entropy, max_depth=3, n_estimators=40 .................\n",
      "[CV]  criterion=entropy, max_depth=3, n_estimators=40, score=0.9763313609467456, total=   0.1s\n",
      "[CV] criterion=entropy, max_depth=3, n_estimators=40 .................\n",
      "[CV]  criterion=entropy, max_depth=3, n_estimators=40, score=0.9585308056872038, total=   0.1s\n",
      "[CV] criterion=entropy, max_depth=5, n_estimators=3 ..................\n",
      "[CV]  criterion=entropy, max_depth=5, n_estimators=3, score=0.9455621301775148, total=   0.0s\n",
      "[CV] criterion=entropy, max_depth=5, n_estimators=3 ..................\n",
      "[CV]  criterion=entropy, max_depth=5, n_estimators=3, score=0.9668639053254438, total=   0.0s\n",
      "[CV] criterion=entropy, max_depth=5, n_estimators=3 ..................\n",
      "[CV]  criterion=entropy, max_depth=5, n_estimators=3, score=0.9585308056872038, total=   0.0s\n",
      "[CV] criterion=entropy, max_depth=5, n_estimators=5 ..................\n",
      "[CV]  criterion=entropy, max_depth=5, n_estimators=5, score=0.9692307692307692, total=   0.0s\n",
      "[CV] criterion=entropy, max_depth=5, n_estimators=5 ..................\n",
      "[CV]  criterion=entropy, max_depth=5, n_estimators=5, score=0.9763313609467456, total=   0.0s\n",
      "[CV] criterion=entropy, max_depth=5, n_estimators=5 ..................\n",
      "[CV]  criterion=entropy, max_depth=5, n_estimators=5, score=0.957345971563981, total=   0.0s\n",
      "[CV] criterion=entropy, max_depth=5, n_estimators=10 .................\n",
      "[CV]  criterion=entropy, max_depth=5, n_estimators=10, score=0.9704142011834319, total=   0.0s\n",
      "[CV] criterion=entropy, max_depth=5, n_estimators=10 .................\n",
      "[CV]  criterion=entropy, max_depth=5, n_estimators=10, score=0.9846153846153847, total=   0.0s\n",
      "[CV] criterion=entropy, max_depth=5, n_estimators=10 .................\n",
      "[CV]  criterion=entropy, max_depth=5, n_estimators=10, score=0.9644549763033176, total=   0.0s\n",
      "[CV] criterion=entropy, max_depth=5, n_estimators=20 .................\n",
      "[CV]  criterion=entropy, max_depth=5, n_estimators=20, score=0.9763313609467456, total=   0.1s\n",
      "[CV] criterion=entropy, max_depth=5, n_estimators=20 .................\n",
      "[CV]  criterion=entropy, max_depth=5, n_estimators=20, score=0.9846153846153847, total=   0.1s\n",
      "[CV] criterion=entropy, max_depth=5, n_estimators=20 .................\n",
      "[CV]  criterion=entropy, max_depth=5, n_estimators=20, score=0.9644549763033176, total=   0.1s\n",
      "[CV] criterion=entropy, max_depth=5, n_estimators=30 .................\n",
      "[CV]  criterion=entropy, max_depth=5, n_estimators=30, score=0.9763313609467456, total=   0.1s\n",
      "[CV] criterion=entropy, max_depth=5, n_estimators=30 .................\n",
      "[CV]  criterion=entropy, max_depth=5, n_estimators=30, score=0.9857988165680474, total=   0.1s\n",
      "[CV] criterion=entropy, max_depth=5, n_estimators=30 .................\n",
      "[CV]  criterion=entropy, max_depth=5, n_estimators=30, score=0.966824644549763, total=   0.1s\n",
      "[CV] criterion=entropy, max_depth=5, n_estimators=40 .................\n",
      "[CV]  criterion=entropy, max_depth=5, n_estimators=40, score=0.9775147928994082, total=   0.2s\n",
      "[CV] criterion=entropy, max_depth=5, n_estimators=40 .................\n",
      "[CV]  criterion=entropy, max_depth=5, n_estimators=40, score=0.9822485207100592, total=   0.2s\n",
      "[CV] criterion=entropy, max_depth=5, n_estimators=40 .................\n",
      "[CV]  criterion=entropy, max_depth=5, n_estimators=40, score=0.9691943127962085, total=   0.2s\n",
      "[CV] criterion=entropy, max_depth=7, n_estimators=3 ..................\n",
      "[CV]  criterion=entropy, max_depth=7, n_estimators=3, score=0.9680473372781065, total=   0.0s\n",
      "[CV] criterion=entropy, max_depth=7, n_estimators=3 ..................\n",
      "[CV]  criterion=entropy, max_depth=7, n_estimators=3, score=0.9775147928994082, total=   0.0s\n",
      "[CV] criterion=entropy, max_depth=7, n_estimators=3 ..................\n",
      "[CV]  criterion=entropy, max_depth=7, n_estimators=3, score=0.966824644549763, total=   0.0s\n",
      "[CV] criterion=entropy, max_depth=7, n_estimators=5 ..................\n",
      "[CV]  criterion=entropy, max_depth=7, n_estimators=5, score=0.9692307692307692, total=   0.0s\n",
      "[CV] criterion=entropy, max_depth=7, n_estimators=5 ..................\n",
      "[CV]  criterion=entropy, max_depth=7, n_estimators=5, score=0.9798816568047337, total=   0.0s\n",
      "[CV] criterion=entropy, max_depth=7, n_estimators=5 ..................\n",
      "[CV]  criterion=entropy, max_depth=7, n_estimators=5, score=0.9680094786729858, total=   0.0s\n",
      "[CV] criterion=entropy, max_depth=7, n_estimators=10 .................\n",
      "[CV]  criterion=entropy, max_depth=7, n_estimators=10, score=0.978698224852071, total=   0.0s\n",
      "[CV] criterion=entropy, max_depth=7, n_estimators=10 .................\n",
      "[CV]  criterion=entropy, max_depth=7, n_estimators=10, score=0.9834319526627219, total=   0.0s\n",
      "[CV] criterion=entropy, max_depth=7, n_estimators=10 .................\n",
      "[CV]  criterion=entropy, max_depth=7, n_estimators=10, score=0.9751184834123223, total=   0.0s\n",
      "[CV] criterion=entropy, max_depth=7, n_estimators=20 .................\n",
      "[CV]  criterion=entropy, max_depth=7, n_estimators=20, score=0.9704142011834319, total=   0.1s\n",
      "[CV] criterion=entropy, max_depth=7, n_estimators=20 .................\n",
      "[CV]  criterion=entropy, max_depth=7, n_estimators=20, score=0.9857988165680474, total=   0.1s\n",
      "[CV] criterion=entropy, max_depth=7, n_estimators=20 .................\n",
      "[CV]  criterion=entropy, max_depth=7, n_estimators=20, score=0.9680094786729858, total=   0.1s\n",
      "[CV] criterion=entropy, max_depth=7, n_estimators=30 .................\n",
      "[CV]  criterion=entropy, max_depth=7, n_estimators=30, score=0.9763313609467456, total=   0.1s\n",
      "[CV] criterion=entropy, max_depth=7, n_estimators=30 .................\n",
      "[CV]  criterion=entropy, max_depth=7, n_estimators=30, score=0.9834319526627219, total=   0.1s\n",
      "[CV] criterion=entropy, max_depth=7, n_estimators=30 .................\n",
      "[CV]  criterion=entropy, max_depth=7, n_estimators=30, score=0.9691943127962085, total=   0.1s\n",
      "[CV] criterion=entropy, max_depth=7, n_estimators=40 .................\n",
      "[CV]  criterion=entropy, max_depth=7, n_estimators=40, score=0.9775147928994082, total=   0.2s\n",
      "[CV] criterion=entropy, max_depth=7, n_estimators=40 .................\n",
      "[CV]  criterion=entropy, max_depth=7, n_estimators=40, score=0.9881656804733728, total=   0.1s\n",
      "[CV] criterion=entropy, max_depth=7, n_estimators=40 .................\n",
      "[CV]  criterion=entropy, max_depth=7, n_estimators=40, score=0.966824644549763, total=   0.1s\n",
      "Best score: 0.9790844514601421\n",
      "Best parameter set: {'criterion': 'entropy', 'max_depth': 7, 'n_estimators': 10}\n"
     ]
    },
    {
     "name": "stderr",
     "output_type": "stream",
     "text": [
      "[Parallel(n_jobs=1)]: Done 108 out of 108 | elapsed:    7.9s finished\n"
     ]
    }
   ],
   "source": [
    "param_grid = {'max_depth': [3,5,7],\n",
    "              'n_estimators':[3,5,10,20,30,40],\n",
    "              'criterion': ['gini', 'entropy']}\n",
    "random_forest_model = GridSearchCV(RandomForestClassifier(),param_grid,refit=True,verbose=4)\n",
    "random_forest_model = random_forest_model.fit(X_train, y_train)\n",
    "print(\"Best score: %s\" % (random_forest_model.best_score_))\n",
    "print(\"Best parameter set: %s\" % (random_forest_model.best_params_))"
   ]
  },
  {
   "cell_type": "code",
   "execution_count": 56,
   "metadata": {},
   "outputs": [
    {
     "name": "stdout",
     "output_type": "stream",
     "text": [
      "Random Forest CV Accuracy: 96.18% (+/- 5.30%)\n"
     ]
    }
   ],
   "source": [
    "random_forest_model = RandomForestClassifier(max_depth=7, criterion='entropy', n_estimators=10, random_state=0)\n",
    "random_forest_scores = cross_val_score(random_forest_model, X, y, cv=10)\n",
    "print(\"Random Forest CV Accuracy: %0.2f%% (+/- %0.2f%%)\" % (random_forest_scores.mean()*100, random_forest_scores.std() * 2*100))"
   ]
  },
  {
   "cell_type": "markdown",
   "metadata": {},
   "source": [
    "## Nearest Neighbors"
   ]
  },
  {
   "cell_type": "code",
   "execution_count": 59,
   "metadata": {},
   "outputs": [
    {
     "name": "stdout",
     "output_type": "stream",
     "text": [
      "Fitting 3 folds for each of 7 candidates, totalling 21 fits\n",
      "[CV] n_neighbors=3 ...................................................\n",
      "[CV] .......... n_neighbors=3, score=0.7124260355029586, total=   0.0s\n",
      "[CV] n_neighbors=3 ...................................................\n",
      "[CV] .......... n_neighbors=3, score=0.7159763313609467, total=   0.0s\n",
      "[CV] n_neighbors=3 ...................................................\n",
      "[CV] .......... n_neighbors=3, score=0.7002369668246445, total=   0.0s\n",
      "[CV] n_neighbors=5 ...................................................\n",
      "[CV] .......... n_neighbors=5, score=0.6946745562130178, total=   0.0s\n",
      "[CV] n_neighbors=5 ...................................................\n",
      "[CV] .......... n_neighbors=5, score=0.7112426035502959, total=   0.0s\n",
      "[CV] n_neighbors=5 ...................................................\n",
      "[CV] .......... n_neighbors=5, score=0.6990521327014217, total=   0.0s\n",
      "[CV] n_neighbors=7 ...................................................\n",
      "[CV] .......... n_neighbors=7, score=0.7029585798816568, total=   0.0s\n",
      "[CV] n_neighbors=7 ...................................................\n"
     ]
    },
    {
     "name": "stderr",
     "output_type": "stream",
     "text": [
      "[Parallel(n_jobs=1)]: Done   1 out of   1 | elapsed:    0.0s remaining:    0.0s\n",
      "[Parallel(n_jobs=1)]: Done   2 out of   2 | elapsed:    0.1s remaining:    0.0s\n",
      "[Parallel(n_jobs=1)]: Done   3 out of   3 | elapsed:    0.1s remaining:    0.0s\n"
     ]
    },
    {
     "name": "stdout",
     "output_type": "stream",
     "text": [
      "[CV] .......... n_neighbors=7, score=0.7041420118343196, total=   0.0s\n",
      "[CV] n_neighbors=7 ...................................................\n",
      "[CV] .......... n_neighbors=7, score=0.6883886255924171, total=   0.0s\n",
      "[CV] n_neighbors=9 ...................................................\n",
      "[CV] .......... n_neighbors=9, score=0.6994082840236686, total=   0.0s\n",
      "[CV] n_neighbors=9 ...................................................\n",
      "[CV] ........... n_neighbors=9, score=0.714792899408284, total=   0.0s\n",
      "[CV] n_neighbors=9 ...................................................\n",
      "[CV] .......... n_neighbors=9, score=0.6883886255924171, total=   0.0s\n",
      "[CV] n_neighbors=11 ..................................................\n",
      "[CV] ......... n_neighbors=11, score=0.7005917159763314, total=   0.0s\n",
      "[CV] n_neighbors=11 ..................................................\n",
      "[CV] ......... n_neighbors=11, score=0.7017751479289941, total=   0.0s\n",
      "[CV] n_neighbors=11 ..................................................\n",
      "[CV] ......... n_neighbors=11, score=0.6954976303317536, total=   0.0s\n",
      "[CV] n_neighbors=13 ..................................................\n",
      "[CV] ......... n_neighbors=13, score=0.6970414201183432, total=   0.0s\n",
      "[CV] n_neighbors=13 ..................................................\n",
      "[CV] ......... n_neighbors=13, score=0.7005917159763314, total=   0.0s\n",
      "[CV] n_neighbors=13 ..................................................\n",
      "[CV] ......... n_neighbors=13, score=0.6860189573459715, total=   0.0s\n",
      "[CV] n_neighbors=15 ..................................................\n",
      "[CV] ......... n_neighbors=15, score=0.6863905325443787, total=   0.0s\n",
      "[CV] n_neighbors=15 ..................................................\n",
      "[CV] ......... n_neighbors=15, score=0.6828402366863905, total=   0.0s\n",
      "[CV] n_neighbors=15 ..................................................\n",
      "[CV] .......... n_neighbors=15, score=0.693127962085308, total=   0.0s\n",
      "Best score: 0.7095501183898973\n",
      "Best parameter set: {'n_neighbors': 3}\n"
     ]
    },
    {
     "name": "stderr",
     "output_type": "stream",
     "text": [
      "[Parallel(n_jobs=1)]: Done  21 out of  21 | elapsed:    0.6s finished\n"
     ]
    }
   ],
   "source": [
    "param_grid = {'n_neighbors': [3,5,7,9,11,13,15]}\n",
    "nearest_neighbors_model = GridSearchCV(KNeighborsClassifier(),param_grid,refit=True,verbose=4)\n",
    "nearest_neighbors_model = nearest_neighbors_model.fit(X_train, y_train)\n",
    "print(\"Best score: %s\" % (nearest_neighbors_model.best_score_))\n",
    "print(\"Best parameter set: %s\" % (nearest_neighbors_model.best_params_))"
   ]
  },
  {
   "cell_type": "code",
   "execution_count": 60,
   "metadata": {},
   "outputs": [
    {
     "name": "stdout",
     "output_type": "stream",
     "text": [
      "Nearest Neighbors CV Accuracy: 68.79% (+/- 11.95%)\n"
     ]
    }
   ],
   "source": [
    "nearest_neighbors_model = KNeighborsClassifier(n_neighbors=3)\n",
    "nearest_neighbors_scores = cross_val_score(nearest_neighbors_model, X, y, cv=10)\n",
    "print(\"Nearest Neighbors CV Accuracy: %0.2f%% (+/- %0.2f%%)\" % (nearest_neighbors_scores.mean()*100, nearest_neighbors_scores.std() * 2*100))"
   ]
  },
  {
   "cell_type": "markdown",
   "metadata": {},
   "source": [
    "## Neural Network"
   ]
  },
  {
   "cell_type": "code",
   "execution_count": 73,
   "metadata": {},
   "outputs": [
    {
     "name": "stdout",
     "output_type": "stream",
     "text": [
      "Fitting 3 folds for each of 72 candidates, totalling 216 fits\n",
      "[CV] activation=logistic, alpha=0.0001, hidden_layer_sizes=2, solver=lbfgs \n",
      "[CV]  activation=logistic, alpha=0.0001, hidden_layer_sizes=2, solver=lbfgs, score=0.8355029585798817, total=   0.2s\n",
      "[CV] activation=logistic, alpha=0.0001, hidden_layer_sizes=2, solver=lbfgs \n"
     ]
    },
    {
     "name": "stderr",
     "output_type": "stream",
     "text": [
      "[Parallel(n_jobs=1)]: Done   1 out of   1 | elapsed:    0.2s remaining:    0.0s\n",
      "[Parallel(n_jobs=1)]: Done   2 out of   2 | elapsed:    0.4s remaining:    0.0s\n"
     ]
    },
    {
     "name": "stdout",
     "output_type": "stream",
     "text": [
      "[CV]  activation=logistic, alpha=0.0001, hidden_layer_sizes=2, solver=lbfgs, score=0.919526627218935, total=   0.2s\n",
      "[CV] activation=logistic, alpha=0.0001, hidden_layer_sizes=2, solver=lbfgs \n",
      "[CV]  activation=logistic, alpha=0.0001, hidden_layer_sizes=2, solver=lbfgs, score=0.8649289099526066, total=   0.1s\n",
      "[CV] activation=logistic, alpha=0.0001, hidden_layer_sizes=2, solver=adam \n"
     ]
    },
    {
     "name": "stderr",
     "output_type": "stream",
     "text": [
      "[Parallel(n_jobs=1)]: Done   3 out of   3 | elapsed:    0.5s remaining:    0.0s\n",
      "/Users/laurenelisegardiner/anaconda/lib/python3.6/site-packages/sklearn/neural_network/multilayer_perceptron.py:564: ConvergenceWarning: Stochastic Optimizer: Maximum iterations (200) reached and the optimization hasn't converged yet.\n",
      "  % self.max_iter, ConvergenceWarning)\n"
     ]
    },
    {
     "name": "stdout",
     "output_type": "stream",
     "text": [
      "[CV]  activation=logistic, alpha=0.0001, hidden_layer_sizes=2, solver=adam, score=0.7905325443786982, total=   0.5s\n",
      "[CV] activation=logistic, alpha=0.0001, hidden_layer_sizes=2, solver=adam \n"
     ]
    },
    {
     "name": "stderr",
     "output_type": "stream",
     "text": [
      "/Users/laurenelisegardiner/anaconda/lib/python3.6/site-packages/sklearn/neural_network/multilayer_perceptron.py:564: ConvergenceWarning: Stochastic Optimizer: Maximum iterations (200) reached and the optimization hasn't converged yet.\n",
      "  % self.max_iter, ConvergenceWarning)\n"
     ]
    },
    {
     "name": "stdout",
     "output_type": "stream",
     "text": [
      "[CV]  activation=logistic, alpha=0.0001, hidden_layer_sizes=2, solver=adam, score=0.7751479289940828, total=   0.5s\n",
      "[CV] activation=logistic, alpha=0.0001, hidden_layer_sizes=2, solver=adam \n"
     ]
    },
    {
     "name": "stderr",
     "output_type": "stream",
     "text": [
      "/Users/laurenelisegardiner/anaconda/lib/python3.6/site-packages/sklearn/neural_network/multilayer_perceptron.py:564: ConvergenceWarning: Stochastic Optimizer: Maximum iterations (200) reached and the optimization hasn't converged yet.\n",
      "  % self.max_iter, ConvergenceWarning)\n"
     ]
    },
    {
     "name": "stdout",
     "output_type": "stream",
     "text": [
      "[CV]  activation=logistic, alpha=0.0001, hidden_layer_sizes=2, solver=adam, score=0.7665876777251185, total=   0.6s\n",
      "[CV] activation=logistic, alpha=0.0001, hidden_layer_sizes=4, solver=lbfgs \n",
      "[CV]  activation=logistic, alpha=0.0001, hidden_layer_sizes=4, solver=lbfgs, score=0.9183431952662722, total=   0.2s\n",
      "[CV] activation=logistic, alpha=0.0001, hidden_layer_sizes=4, solver=lbfgs \n",
      "[CV]  activation=logistic, alpha=0.0001, hidden_layer_sizes=4, solver=lbfgs, score=0.9396449704142011, total=   0.2s\n",
      "[CV] activation=logistic, alpha=0.0001, hidden_layer_sizes=4, solver=lbfgs \n",
      "[CV]  activation=logistic, alpha=0.0001, hidden_layer_sizes=4, solver=lbfgs, score=0.8696682464454977, total=   0.1s\n",
      "[CV] activation=logistic, alpha=0.0001, hidden_layer_sizes=4, solver=adam \n"
     ]
    },
    {
     "name": "stderr",
     "output_type": "stream",
     "text": [
      "/Users/laurenelisegardiner/anaconda/lib/python3.6/site-packages/sklearn/neural_network/multilayer_perceptron.py:564: ConvergenceWarning: Stochastic Optimizer: Maximum iterations (200) reached and the optimization hasn't converged yet.\n",
      "  % self.max_iter, ConvergenceWarning)\n"
     ]
    },
    {
     "name": "stdout",
     "output_type": "stream",
     "text": [
      "[CV]  activation=logistic, alpha=0.0001, hidden_layer_sizes=4, solver=adam, score=0.7739644970414201, total=   0.5s\n",
      "[CV] activation=logistic, alpha=0.0001, hidden_layer_sizes=4, solver=adam \n"
     ]
    },
    {
     "name": "stderr",
     "output_type": "stream",
     "text": [
      "/Users/laurenelisegardiner/anaconda/lib/python3.6/site-packages/sklearn/neural_network/multilayer_perceptron.py:564: ConvergenceWarning: Stochastic Optimizer: Maximum iterations (200) reached and the optimization hasn't converged yet.\n",
      "  % self.max_iter, ConvergenceWarning)\n"
     ]
    },
    {
     "name": "stdout",
     "output_type": "stream",
     "text": [
      "[CV]  activation=logistic, alpha=0.0001, hidden_layer_sizes=4, solver=adam, score=0.7550295857988165, total=   0.6s\n",
      "[CV] activation=logistic, alpha=0.0001, hidden_layer_sizes=4, solver=adam \n"
     ]
    },
    {
     "name": "stderr",
     "output_type": "stream",
     "text": [
      "/Users/laurenelisegardiner/anaconda/lib/python3.6/site-packages/sklearn/neural_network/multilayer_perceptron.py:564: ConvergenceWarning: Stochastic Optimizer: Maximum iterations (200) reached and the optimization hasn't converged yet.\n",
      "  % self.max_iter, ConvergenceWarning)\n"
     ]
    },
    {
     "name": "stdout",
     "output_type": "stream",
     "text": [
      "[CV]  activation=logistic, alpha=0.0001, hidden_layer_sizes=4, solver=adam, score=0.7322274881516587, total=   0.5s\n",
      "[CV] activation=logistic, alpha=0.0001, hidden_layer_sizes=8, solver=lbfgs \n",
      "[CV]  activation=logistic, alpha=0.0001, hidden_layer_sizes=8, solver=lbfgs, score=0.8319526627218935, total=   0.2s\n",
      "[CV] activation=logistic, alpha=0.0001, hidden_layer_sizes=8, solver=lbfgs \n",
      "[CV]  activation=logistic, alpha=0.0001, hidden_layer_sizes=8, solver=lbfgs, score=0.9325443786982248, total=   0.2s\n",
      "[CV] activation=logistic, alpha=0.0001, hidden_layer_sizes=8, solver=lbfgs \n",
      "[CV]  activation=logistic, alpha=0.0001, hidden_layer_sizes=8, solver=lbfgs, score=0.943127962085308, total=   0.2s\n",
      "[CV] activation=logistic, alpha=0.0001, hidden_layer_sizes=8, solver=adam \n"
     ]
    },
    {
     "name": "stderr",
     "output_type": "stream",
     "text": [
      "/Users/laurenelisegardiner/anaconda/lib/python3.6/site-packages/sklearn/neural_network/multilayer_perceptron.py:564: ConvergenceWarning: Stochastic Optimizer: Maximum iterations (200) reached and the optimization hasn't converged yet.\n",
      "  % self.max_iter, ConvergenceWarning)\n"
     ]
    },
    {
     "name": "stdout",
     "output_type": "stream",
     "text": [
      "[CV]  activation=logistic, alpha=0.0001, hidden_layer_sizes=8, solver=adam, score=0.8130177514792899, total=   0.6s\n",
      "[CV] activation=logistic, alpha=0.0001, hidden_layer_sizes=8, solver=adam \n"
     ]
    },
    {
     "name": "stderr",
     "output_type": "stream",
     "text": [
      "/Users/laurenelisegardiner/anaconda/lib/python3.6/site-packages/sklearn/neural_network/multilayer_perceptron.py:564: ConvergenceWarning: Stochastic Optimizer: Maximum iterations (200) reached and the optimization hasn't converged yet.\n",
      "  % self.max_iter, ConvergenceWarning)\n"
     ]
    },
    {
     "name": "stdout",
     "output_type": "stream",
     "text": [
      "[CV]  activation=logistic, alpha=0.0001, hidden_layer_sizes=8, solver=adam, score=0.7893491124260354, total=   0.6s\n",
      "[CV] activation=logistic, alpha=0.0001, hidden_layer_sizes=8, solver=adam \n"
     ]
    },
    {
     "name": "stderr",
     "output_type": "stream",
     "text": [
      "/Users/laurenelisegardiner/anaconda/lib/python3.6/site-packages/sklearn/neural_network/multilayer_perceptron.py:564: ConvergenceWarning: Stochastic Optimizer: Maximum iterations (200) reached and the optimization hasn't converged yet.\n",
      "  % self.max_iter, ConvergenceWarning)\n"
     ]
    },
    {
     "name": "stdout",
     "output_type": "stream",
     "text": [
      "[CV]  activation=logistic, alpha=0.0001, hidden_layer_sizes=8, solver=adam, score=0.7914691943127962, total=   0.5s\n",
      "[CV] activation=logistic, alpha=0.0001, hidden_layer_sizes=16, solver=lbfgs \n",
      "[CV]  activation=logistic, alpha=0.0001, hidden_layer_sizes=16, solver=lbfgs, score=0.8899408284023669, total=   0.2s\n",
      "[CV] activation=logistic, alpha=0.0001, hidden_layer_sizes=16, solver=lbfgs \n",
      "[CV]  activation=logistic, alpha=0.0001, hidden_layer_sizes=16, solver=lbfgs, score=0.9266272189349113, total=   0.2s\n",
      "[CV] activation=logistic, alpha=0.0001, hidden_layer_sizes=16, solver=lbfgs \n",
      "[CV]  activation=logistic, alpha=0.0001, hidden_layer_sizes=16, solver=lbfgs, score=0.8637440758293838, total=   0.2s\n",
      "[CV] activation=logistic, alpha=0.0001, hidden_layer_sizes=16, solver=adam \n"
     ]
    },
    {
     "name": "stderr",
     "output_type": "stream",
     "text": [
      "/Users/laurenelisegardiner/anaconda/lib/python3.6/site-packages/sklearn/neural_network/multilayer_perceptron.py:564: ConvergenceWarning: Stochastic Optimizer: Maximum iterations (200) reached and the optimization hasn't converged yet.\n",
      "  % self.max_iter, ConvergenceWarning)\n"
     ]
    },
    {
     "name": "stdout",
     "output_type": "stream",
     "text": [
      "[CV]  activation=logistic, alpha=0.0001, hidden_layer_sizes=16, solver=adam, score=0.8248520710059172, total=   0.8s\n",
      "[CV] activation=logistic, alpha=0.0001, hidden_layer_sizes=16, solver=adam \n"
     ]
    },
    {
     "name": "stderr",
     "output_type": "stream",
     "text": [
      "/Users/laurenelisegardiner/anaconda/lib/python3.6/site-packages/sklearn/neural_network/multilayer_perceptron.py:564: ConvergenceWarning: Stochastic Optimizer: Maximum iterations (200) reached and the optimization hasn't converged yet.\n",
      "  % self.max_iter, ConvergenceWarning)\n"
     ]
    },
    {
     "name": "stdout",
     "output_type": "stream",
     "text": [
      "[CV]  activation=logistic, alpha=0.0001, hidden_layer_sizes=16, solver=adam, score=0.8035502958579882, total=   0.8s\n",
      "[CV] activation=logistic, alpha=0.0001, hidden_layer_sizes=16, solver=adam \n"
     ]
    },
    {
     "name": "stderr",
     "output_type": "stream",
     "text": [
      "/Users/laurenelisegardiner/anaconda/lib/python3.6/site-packages/sklearn/neural_network/multilayer_perceptron.py:564: ConvergenceWarning: Stochastic Optimizer: Maximum iterations (200) reached and the optimization hasn't converged yet.\n",
      "  % self.max_iter, ConvergenceWarning)\n"
     ]
    },
    {
     "name": "stdout",
     "output_type": "stream",
     "text": [
      "[CV]  activation=logistic, alpha=0.0001, hidden_layer_sizes=16, solver=adam, score=0.8199052132701422, total=   0.8s\n",
      "[CV] activation=logistic, alpha=0.0001, hidden_layer_sizes=32, solver=lbfgs \n",
      "[CV]  activation=logistic, alpha=0.0001, hidden_layer_sizes=32, solver=lbfgs, score=0.808284023668639, total=   0.4s\n",
      "[CV] activation=logistic, alpha=0.0001, hidden_layer_sizes=32, solver=lbfgs \n",
      "[CV]  activation=logistic, alpha=0.0001, hidden_layer_sizes=32, solver=lbfgs, score=0.9230769230769231, total=   0.4s\n",
      "[CV] activation=logistic, alpha=0.0001, hidden_layer_sizes=32, solver=lbfgs \n",
      "[CV]  activation=logistic, alpha=0.0001, hidden_layer_sizes=32, solver=lbfgs, score=0.8151658767772512, total=   0.3s\n",
      "[CV] activation=logistic, alpha=0.0001, hidden_layer_sizes=32, solver=adam \n"
     ]
    },
    {
     "name": "stderr",
     "output_type": "stream",
     "text": [
      "/Users/laurenelisegardiner/anaconda/lib/python3.6/site-packages/sklearn/neural_network/multilayer_perceptron.py:564: ConvergenceWarning: Stochastic Optimizer: Maximum iterations (200) reached and the optimization hasn't converged yet.\n",
      "  % self.max_iter, ConvergenceWarning)\n"
     ]
    },
    {
     "name": "stdout",
     "output_type": "stream",
     "text": [
      "[CV]  activation=logistic, alpha=0.0001, hidden_layer_sizes=32, solver=adam, score=0.8579881656804734, total=   0.9s\n",
      "[CV] activation=logistic, alpha=0.0001, hidden_layer_sizes=32, solver=adam \n"
     ]
    },
    {
     "name": "stderr",
     "output_type": "stream",
     "text": [
      "/Users/laurenelisegardiner/anaconda/lib/python3.6/site-packages/sklearn/neural_network/multilayer_perceptron.py:564: ConvergenceWarning: Stochastic Optimizer: Maximum iterations (200) reached and the optimization hasn't converged yet.\n",
      "  % self.max_iter, ConvergenceWarning)\n"
     ]
    },
    {
     "name": "stdout",
     "output_type": "stream",
     "text": [
      "[CV]  activation=logistic, alpha=0.0001, hidden_layer_sizes=32, solver=adam, score=0.8473372781065088, total=   0.8s\n",
      "[CV] activation=logistic, alpha=0.0001, hidden_layer_sizes=32, solver=adam \n"
     ]
    },
    {
     "name": "stderr",
     "output_type": "stream",
     "text": [
      "/Users/laurenelisegardiner/anaconda/lib/python3.6/site-packages/sklearn/neural_network/multilayer_perceptron.py:564: ConvergenceWarning: Stochastic Optimizer: Maximum iterations (200) reached and the optimization hasn't converged yet.\n",
      "  % self.max_iter, ConvergenceWarning)\n"
     ]
    },
    {
     "name": "stdout",
     "output_type": "stream",
     "text": [
      "[CV]  activation=logistic, alpha=0.0001, hidden_layer_sizes=32, solver=adam, score=0.8483412322274881, total=   0.9s\n",
      "[CV] activation=logistic, alpha=0.0001, hidden_layer_sizes=64, solver=lbfgs \n",
      "[CV]  activation=logistic, alpha=0.0001, hidden_layer_sizes=64, solver=lbfgs, score=0.808284023668639, total=   0.6s\n",
      "[CV] activation=logistic, alpha=0.0001, hidden_layer_sizes=64, solver=lbfgs \n",
      "[CV]  activation=logistic, alpha=0.0001, hidden_layer_sizes=64, solver=lbfgs, score=0.8532544378698225, total=   0.6s\n",
      "[CV] activation=logistic, alpha=0.0001, hidden_layer_sizes=64, solver=lbfgs \n",
      "[CV]  activation=logistic, alpha=0.0001, hidden_layer_sizes=64, solver=lbfgs, score=0.8258293838862559, total=   0.6s\n",
      "[CV] activation=logistic, alpha=0.0001, hidden_layer_sizes=64, solver=adam \n"
     ]
    },
    {
     "name": "stderr",
     "output_type": "stream",
     "text": [
      "/Users/laurenelisegardiner/anaconda/lib/python3.6/site-packages/sklearn/neural_network/multilayer_perceptron.py:564: ConvergenceWarning: Stochastic Optimizer: Maximum iterations (200) reached and the optimization hasn't converged yet.\n",
      "  % self.max_iter, ConvergenceWarning)\n"
     ]
    },
    {
     "name": "stdout",
     "output_type": "stream",
     "text": [
      "[CV]  activation=logistic, alpha=0.0001, hidden_layer_sizes=64, solver=adam, score=0.8994082840236687, total=   1.2s\n",
      "[CV] activation=logistic, alpha=0.0001, hidden_layer_sizes=64, solver=adam \n"
     ]
    },
    {
     "name": "stderr",
     "output_type": "stream",
     "text": [
      "/Users/laurenelisegardiner/anaconda/lib/python3.6/site-packages/sklearn/neural_network/multilayer_perceptron.py:564: ConvergenceWarning: Stochastic Optimizer: Maximum iterations (200) reached and the optimization hasn't converged yet.\n",
      "  % self.max_iter, ConvergenceWarning)\n"
     ]
    },
    {
     "name": "stdout",
     "output_type": "stream",
     "text": [
      "[CV]  activation=logistic, alpha=0.0001, hidden_layer_sizes=64, solver=adam, score=0.8804733727810651, total=   1.1s\n",
      "[CV] activation=logistic, alpha=0.0001, hidden_layer_sizes=64, solver=adam \n"
     ]
    },
    {
     "name": "stderr",
     "output_type": "stream",
     "text": [
      "/Users/laurenelisegardiner/anaconda/lib/python3.6/site-packages/sklearn/neural_network/multilayer_perceptron.py:564: ConvergenceWarning: Stochastic Optimizer: Maximum iterations (200) reached and the optimization hasn't converged yet.\n",
      "  % self.max_iter, ConvergenceWarning)\n"
     ]
    },
    {
     "name": "stdout",
     "output_type": "stream",
     "text": [
      "[CV]  activation=logistic, alpha=0.0001, hidden_layer_sizes=64, solver=adam, score=0.8838862559241706, total=   1.1s\n",
      "[CV] activation=logistic, alpha=0.001, hidden_layer_sizes=2, solver=lbfgs \n",
      "[CV]  activation=logistic, alpha=0.001, hidden_layer_sizes=2, solver=lbfgs, score=0.8520710059171598, total=   0.1s\n",
      "[CV] activation=logistic, alpha=0.001, hidden_layer_sizes=2, solver=lbfgs \n",
      "[CV]  activation=logistic, alpha=0.001, hidden_layer_sizes=2, solver=lbfgs, score=0.914792899408284, total=   0.1s\n",
      "[CV] activation=logistic, alpha=0.001, hidden_layer_sizes=2, solver=lbfgs \n",
      "[CV]  activation=logistic, alpha=0.001, hidden_layer_sizes=2, solver=lbfgs, score=0.8969194312796208, total=   0.1s\n",
      "[CV] activation=logistic, alpha=0.001, hidden_layer_sizes=2, solver=adam \n"
     ]
    },
    {
     "name": "stderr",
     "output_type": "stream",
     "text": [
      "/Users/laurenelisegardiner/anaconda/lib/python3.6/site-packages/sklearn/neural_network/multilayer_perceptron.py:564: ConvergenceWarning: Stochastic Optimizer: Maximum iterations (200) reached and the optimization hasn't converged yet.\n",
      "  % self.max_iter, ConvergenceWarning)\n"
     ]
    },
    {
     "name": "stdout",
     "output_type": "stream",
     "text": [
      "[CV]  activation=logistic, alpha=0.001, hidden_layer_sizes=2, solver=adam, score=0.7905325443786982, total=   0.4s\n",
      "[CV] activation=logistic, alpha=0.001, hidden_layer_sizes=2, solver=adam \n"
     ]
    },
    {
     "name": "stderr",
     "output_type": "stream",
     "text": [
      "/Users/laurenelisegardiner/anaconda/lib/python3.6/site-packages/sklearn/neural_network/multilayer_perceptron.py:564: ConvergenceWarning: Stochastic Optimizer: Maximum iterations (200) reached and the optimization hasn't converged yet.\n",
      "  % self.max_iter, ConvergenceWarning)\n"
     ]
    },
    {
     "name": "stdout",
     "output_type": "stream",
     "text": [
      "[CV]  activation=logistic, alpha=0.001, hidden_layer_sizes=2, solver=adam, score=0.7751479289940828, total=   0.4s\n",
      "[CV] activation=logistic, alpha=0.001, hidden_layer_sizes=2, solver=adam \n"
     ]
    },
    {
     "name": "stderr",
     "output_type": "stream",
     "text": [
      "/Users/laurenelisegardiner/anaconda/lib/python3.6/site-packages/sklearn/neural_network/multilayer_perceptron.py:564: ConvergenceWarning: Stochastic Optimizer: Maximum iterations (200) reached and the optimization hasn't converged yet.\n",
      "  % self.max_iter, ConvergenceWarning)\n"
     ]
    },
    {
     "name": "stdout",
     "output_type": "stream",
     "text": [
      "[CV]  activation=logistic, alpha=0.001, hidden_layer_sizes=2, solver=adam, score=0.7665876777251185, total=   0.4s\n",
      "[CV] activation=logistic, alpha=0.001, hidden_layer_sizes=4, solver=lbfgs \n",
      "[CV]  activation=logistic, alpha=0.001, hidden_layer_sizes=4, solver=lbfgs, score=0.9230769230769231, total=   0.1s\n",
      "[CV] activation=logistic, alpha=0.001, hidden_layer_sizes=4, solver=lbfgs \n",
      "[CV]  activation=logistic, alpha=0.001, hidden_layer_sizes=4, solver=lbfgs, score=0.9183431952662722, total=   0.2s\n",
      "[CV] activation=logistic, alpha=0.001, hidden_layer_sizes=4, solver=lbfgs \n",
      "[CV]  activation=logistic, alpha=0.001, hidden_layer_sizes=4, solver=lbfgs, score=0.8862559241706162, total=   0.1s\n",
      "[CV] activation=logistic, alpha=0.001, hidden_layer_sizes=4, solver=adam \n"
     ]
    },
    {
     "name": "stderr",
     "output_type": "stream",
     "text": [
      "/Users/laurenelisegardiner/anaconda/lib/python3.6/site-packages/sklearn/neural_network/multilayer_perceptron.py:564: ConvergenceWarning: Stochastic Optimizer: Maximum iterations (200) reached and the optimization hasn't converged yet.\n",
      "  % self.max_iter, ConvergenceWarning)\n"
     ]
    },
    {
     "name": "stdout",
     "output_type": "stream",
     "text": [
      "[CV]  activation=logistic, alpha=0.001, hidden_layer_sizes=4, solver=adam, score=0.7727810650887574, total=   0.4s\n",
      "[CV] activation=logistic, alpha=0.001, hidden_layer_sizes=4, solver=adam \n"
     ]
    },
    {
     "name": "stderr",
     "output_type": "stream",
     "text": [
      "/Users/laurenelisegardiner/anaconda/lib/python3.6/site-packages/sklearn/neural_network/multilayer_perceptron.py:564: ConvergenceWarning: Stochastic Optimizer: Maximum iterations (200) reached and the optimization hasn't converged yet.\n",
      "  % self.max_iter, ConvergenceWarning)\n"
     ]
    },
    {
     "name": "stdout",
     "output_type": "stream",
     "text": [
      "[CV]  activation=logistic, alpha=0.001, hidden_layer_sizes=4, solver=adam, score=0.7550295857988165, total=   0.4s\n",
      "[CV] activation=logistic, alpha=0.001, hidden_layer_sizes=4, solver=adam \n"
     ]
    },
    {
     "name": "stderr",
     "output_type": "stream",
     "text": [
      "/Users/laurenelisegardiner/anaconda/lib/python3.6/site-packages/sklearn/neural_network/multilayer_perceptron.py:564: ConvergenceWarning: Stochastic Optimizer: Maximum iterations (200) reached and the optimization hasn't converged yet.\n",
      "  % self.max_iter, ConvergenceWarning)\n"
     ]
    },
    {
     "name": "stdout",
     "output_type": "stream",
     "text": [
      "[CV]  activation=logistic, alpha=0.001, hidden_layer_sizes=4, solver=adam, score=0.7322274881516587, total=   0.4s\n",
      "[CV] activation=logistic, alpha=0.001, hidden_layer_sizes=8, solver=lbfgs \n",
      "[CV]  activation=logistic, alpha=0.001, hidden_layer_sizes=8, solver=lbfgs, score=0.8579881656804734, total=   0.2s\n",
      "[CV] activation=logistic, alpha=0.001, hidden_layer_sizes=8, solver=lbfgs \n",
      "[CV]  activation=logistic, alpha=0.001, hidden_layer_sizes=8, solver=lbfgs, score=0.9337278106508876, total=   0.2s\n",
      "[CV] activation=logistic, alpha=0.001, hidden_layer_sizes=8, solver=lbfgs \n",
      "[CV]  activation=logistic, alpha=0.001, hidden_layer_sizes=8, solver=lbfgs, score=0.8471563981042654, total=   0.2s\n",
      "[CV] activation=logistic, alpha=0.001, hidden_layer_sizes=8, solver=adam \n"
     ]
    },
    {
     "name": "stderr",
     "output_type": "stream",
     "text": [
      "/Users/laurenelisegardiner/anaconda/lib/python3.6/site-packages/sklearn/neural_network/multilayer_perceptron.py:564: ConvergenceWarning: Stochastic Optimizer: Maximum iterations (200) reached and the optimization hasn't converged yet.\n",
      "  % self.max_iter, ConvergenceWarning)\n"
     ]
    },
    {
     "name": "stdout",
     "output_type": "stream",
     "text": [
      "[CV]  activation=logistic, alpha=0.001, hidden_layer_sizes=8, solver=adam, score=0.8130177514792899, total=   0.5s\n",
      "[CV] activation=logistic, alpha=0.001, hidden_layer_sizes=8, solver=adam \n"
     ]
    },
    {
     "name": "stderr",
     "output_type": "stream",
     "text": [
      "/Users/laurenelisegardiner/anaconda/lib/python3.6/site-packages/sklearn/neural_network/multilayer_perceptron.py:564: ConvergenceWarning: Stochastic Optimizer: Maximum iterations (200) reached and the optimization hasn't converged yet.\n",
      "  % self.max_iter, ConvergenceWarning)\n"
     ]
    },
    {
     "name": "stdout",
     "output_type": "stream",
     "text": [
      "[CV]  activation=logistic, alpha=0.001, hidden_layer_sizes=8, solver=adam, score=0.7893491124260354, total=   0.5s\n",
      "[CV] activation=logistic, alpha=0.001, hidden_layer_sizes=8, solver=adam \n"
     ]
    },
    {
     "name": "stderr",
     "output_type": "stream",
     "text": [
      "/Users/laurenelisegardiner/anaconda/lib/python3.6/site-packages/sklearn/neural_network/multilayer_perceptron.py:564: ConvergenceWarning: Stochastic Optimizer: Maximum iterations (200) reached and the optimization hasn't converged yet.\n",
      "  % self.max_iter, ConvergenceWarning)\n"
     ]
    },
    {
     "name": "stdout",
     "output_type": "stream",
     "text": [
      "[CV]  activation=logistic, alpha=0.001, hidden_layer_sizes=8, solver=adam, score=0.7914691943127962, total=   0.5s\n",
      "[CV] activation=logistic, alpha=0.001, hidden_layer_sizes=16, solver=lbfgs \n",
      "[CV]  activation=logistic, alpha=0.001, hidden_layer_sizes=16, solver=lbfgs, score=0.8698224852071006, total=   0.2s\n",
      "[CV] activation=logistic, alpha=0.001, hidden_layer_sizes=16, solver=lbfgs \n",
      "[CV]  activation=logistic, alpha=0.001, hidden_layer_sizes=16, solver=lbfgs, score=0.9076923076923077, total=   0.2s\n",
      "[CV] activation=logistic, alpha=0.001, hidden_layer_sizes=16, solver=lbfgs \n",
      "[CV]  activation=logistic, alpha=0.001, hidden_layer_sizes=16, solver=lbfgs, score=0.7879146919431279, total=   0.2s\n",
      "[CV] activation=logistic, alpha=0.001, hidden_layer_sizes=16, solver=adam \n"
     ]
    },
    {
     "name": "stderr",
     "output_type": "stream",
     "text": [
      "/Users/laurenelisegardiner/anaconda/lib/python3.6/site-packages/sklearn/neural_network/multilayer_perceptron.py:564: ConvergenceWarning: Stochastic Optimizer: Maximum iterations (200) reached and the optimization hasn't converged yet.\n",
      "  % self.max_iter, ConvergenceWarning)\n"
     ]
    },
    {
     "name": "stdout",
     "output_type": "stream",
     "text": [
      "[CV]  activation=logistic, alpha=0.001, hidden_layer_sizes=16, solver=adam, score=0.821301775147929, total=   0.7s\n",
      "[CV] activation=logistic, alpha=0.001, hidden_layer_sizes=16, solver=adam \n"
     ]
    },
    {
     "name": "stderr",
     "output_type": "stream",
     "text": [
      "/Users/laurenelisegardiner/anaconda/lib/python3.6/site-packages/sklearn/neural_network/multilayer_perceptron.py:564: ConvergenceWarning: Stochastic Optimizer: Maximum iterations (200) reached and the optimization hasn't converged yet.\n",
      "  % self.max_iter, ConvergenceWarning)\n"
     ]
    },
    {
     "name": "stdout",
     "output_type": "stream",
     "text": [
      "[CV]  activation=logistic, alpha=0.001, hidden_layer_sizes=16, solver=adam, score=0.8059171597633136, total=   0.7s\n",
      "[CV] activation=logistic, alpha=0.001, hidden_layer_sizes=16, solver=adam \n"
     ]
    },
    {
     "name": "stderr",
     "output_type": "stream",
     "text": [
      "/Users/laurenelisegardiner/anaconda/lib/python3.6/site-packages/sklearn/neural_network/multilayer_perceptron.py:564: ConvergenceWarning: Stochastic Optimizer: Maximum iterations (200) reached and the optimization hasn't converged yet.\n",
      "  % self.max_iter, ConvergenceWarning)\n"
     ]
    },
    {
     "name": "stdout",
     "output_type": "stream",
     "text": [
      "[CV]  activation=logistic, alpha=0.001, hidden_layer_sizes=16, solver=adam, score=0.8199052132701422, total=   0.7s\n",
      "[CV] activation=logistic, alpha=0.001, hidden_layer_sizes=32, solver=lbfgs \n",
      "[CV]  activation=logistic, alpha=0.001, hidden_layer_sizes=32, solver=lbfgs, score=0.8721893491124261, total=   0.3s\n",
      "[CV] activation=logistic, alpha=0.001, hidden_layer_sizes=32, solver=lbfgs \n",
      "[CV]  activation=logistic, alpha=0.001, hidden_layer_sizes=32, solver=lbfgs, score=0.906508875739645, total=   0.3s\n",
      "[CV] activation=logistic, alpha=0.001, hidden_layer_sizes=32, solver=lbfgs \n",
      "[CV]  activation=logistic, alpha=0.001, hidden_layer_sizes=32, solver=lbfgs, score=0.7748815165876777, total=   0.3s\n",
      "[CV] activation=logistic, alpha=0.001, hidden_layer_sizes=32, solver=adam \n"
     ]
    },
    {
     "name": "stderr",
     "output_type": "stream",
     "text": [
      "/Users/laurenelisegardiner/anaconda/lib/python3.6/site-packages/sklearn/neural_network/multilayer_perceptron.py:564: ConvergenceWarning: Stochastic Optimizer: Maximum iterations (200) reached and the optimization hasn't converged yet.\n",
      "  % self.max_iter, ConvergenceWarning)\n"
     ]
    },
    {
     "name": "stdout",
     "output_type": "stream",
     "text": [
      "[CV]  activation=logistic, alpha=0.001, hidden_layer_sizes=32, solver=adam, score=0.8579881656804734, total=   0.8s\n",
      "[CV] activation=logistic, alpha=0.001, hidden_layer_sizes=32, solver=adam \n"
     ]
    },
    {
     "name": "stderr",
     "output_type": "stream",
     "text": [
      "/Users/laurenelisegardiner/anaconda/lib/python3.6/site-packages/sklearn/neural_network/multilayer_perceptron.py:564: ConvergenceWarning: Stochastic Optimizer: Maximum iterations (200) reached and the optimization hasn't converged yet.\n",
      "  % self.max_iter, ConvergenceWarning)\n"
     ]
    },
    {
     "name": "stdout",
     "output_type": "stream",
     "text": [
      "[CV]  activation=logistic, alpha=0.001, hidden_layer_sizes=32, solver=adam, score=0.8461538461538461, total=   0.8s\n",
      "[CV] activation=logistic, alpha=0.001, hidden_layer_sizes=32, solver=adam \n"
     ]
    },
    {
     "name": "stderr",
     "output_type": "stream",
     "text": [
      "/Users/laurenelisegardiner/anaconda/lib/python3.6/site-packages/sklearn/neural_network/multilayer_perceptron.py:564: ConvergenceWarning: Stochastic Optimizer: Maximum iterations (200) reached and the optimization hasn't converged yet.\n",
      "  % self.max_iter, ConvergenceWarning)\n"
     ]
    },
    {
     "name": "stdout",
     "output_type": "stream",
     "text": [
      "[CV]  activation=logistic, alpha=0.001, hidden_layer_sizes=32, solver=adam, score=0.8483412322274881, total=   0.8s\n",
      "[CV] activation=logistic, alpha=0.001, hidden_layer_sizes=64, solver=lbfgs \n",
      "[CV]  activation=logistic, alpha=0.001, hidden_layer_sizes=64, solver=lbfgs, score=0.7940828402366864, total=   0.6s\n",
      "[CV] activation=logistic, alpha=0.001, hidden_layer_sizes=64, solver=lbfgs \n",
      "[CV]  activation=logistic, alpha=0.001, hidden_layer_sizes=64, solver=lbfgs, score=0.8497041420118343, total=   0.7s\n",
      "[CV] activation=logistic, alpha=0.001, hidden_layer_sizes=64, solver=lbfgs \n",
      "[CV]  activation=logistic, alpha=0.001, hidden_layer_sizes=64, solver=lbfgs, score=0.8139810426540285, total=   0.6s\n",
      "[CV] activation=logistic, alpha=0.001, hidden_layer_sizes=64, solver=adam \n"
     ]
    },
    {
     "name": "stderr",
     "output_type": "stream",
     "text": [
      "/Users/laurenelisegardiner/anaconda/lib/python3.6/site-packages/sklearn/neural_network/multilayer_perceptron.py:564: ConvergenceWarning: Stochastic Optimizer: Maximum iterations (200) reached and the optimization hasn't converged yet.\n",
      "  % self.max_iter, ConvergenceWarning)\n"
     ]
    },
    {
     "name": "stdout",
     "output_type": "stream",
     "text": [
      "[CV]  activation=logistic, alpha=0.001, hidden_layer_sizes=64, solver=adam, score=0.8970414201183432, total=   1.1s\n",
      "[CV] activation=logistic, alpha=0.001, hidden_layer_sizes=64, solver=adam \n"
     ]
    },
    {
     "name": "stderr",
     "output_type": "stream",
     "text": [
      "/Users/laurenelisegardiner/anaconda/lib/python3.6/site-packages/sklearn/neural_network/multilayer_perceptron.py:564: ConvergenceWarning: Stochastic Optimizer: Maximum iterations (200) reached and the optimization hasn't converged yet.\n",
      "  % self.max_iter, ConvergenceWarning)\n"
     ]
    },
    {
     "name": "stdout",
     "output_type": "stream",
     "text": [
      "[CV]  activation=logistic, alpha=0.001, hidden_layer_sizes=64, solver=adam, score=0.8804733727810651, total=   1.2s\n",
      "[CV] activation=logistic, alpha=0.001, hidden_layer_sizes=64, solver=adam \n"
     ]
    },
    {
     "name": "stderr",
     "output_type": "stream",
     "text": [
      "/Users/laurenelisegardiner/anaconda/lib/python3.6/site-packages/sklearn/neural_network/multilayer_perceptron.py:564: ConvergenceWarning: Stochastic Optimizer: Maximum iterations (200) reached and the optimization hasn't converged yet.\n",
      "  % self.max_iter, ConvergenceWarning)\n"
     ]
    },
    {
     "name": "stdout",
     "output_type": "stream",
     "text": [
      "[CV]  activation=logistic, alpha=0.001, hidden_layer_sizes=64, solver=adam, score=0.8838862559241706, total=   1.4s\n",
      "[CV] activation=logistic, alpha=0.01, hidden_layer_sizes=2, solver=lbfgs \n",
      "[CV]  activation=logistic, alpha=0.01, hidden_layer_sizes=2, solver=lbfgs, score=0.7917159763313609, total=   0.2s\n",
      "[CV] activation=logistic, alpha=0.01, hidden_layer_sizes=2, solver=lbfgs \n",
      "[CV]  activation=logistic, alpha=0.01, hidden_layer_sizes=2, solver=lbfgs, score=0.9230769230769231, total=   0.1s\n",
      "[CV] activation=logistic, alpha=0.01, hidden_layer_sizes=2, solver=lbfgs \n",
      "[CV]  activation=logistic, alpha=0.01, hidden_layer_sizes=2, solver=lbfgs, score=0.7784360189573459, total=   0.1s\n",
      "[CV] activation=logistic, alpha=0.01, hidden_layer_sizes=2, solver=adam \n"
     ]
    },
    {
     "name": "stderr",
     "output_type": "stream",
     "text": [
      "/Users/laurenelisegardiner/anaconda/lib/python3.6/site-packages/sklearn/neural_network/multilayer_perceptron.py:564: ConvergenceWarning: Stochastic Optimizer: Maximum iterations (200) reached and the optimization hasn't converged yet.\n",
      "  % self.max_iter, ConvergenceWarning)\n"
     ]
    },
    {
     "name": "stdout",
     "output_type": "stream",
     "text": [
      "[CV]  activation=logistic, alpha=0.01, hidden_layer_sizes=2, solver=adam, score=0.7893491124260354, total=   0.6s\n",
      "[CV] activation=logistic, alpha=0.01, hidden_layer_sizes=2, solver=adam \n"
     ]
    },
    {
     "name": "stderr",
     "output_type": "stream",
     "text": [
      "/Users/laurenelisegardiner/anaconda/lib/python3.6/site-packages/sklearn/neural_network/multilayer_perceptron.py:564: ConvergenceWarning: Stochastic Optimizer: Maximum iterations (200) reached and the optimization hasn't converged yet.\n",
      "  % self.max_iter, ConvergenceWarning)\n"
     ]
    },
    {
     "name": "stdout",
     "output_type": "stream",
     "text": [
      "[CV]  activation=logistic, alpha=0.01, hidden_layer_sizes=2, solver=adam, score=0.7727810650887574, total=   0.6s\n",
      "[CV] activation=logistic, alpha=0.01, hidden_layer_sizes=2, solver=adam \n"
     ]
    },
    {
     "name": "stderr",
     "output_type": "stream",
     "text": [
      "/Users/laurenelisegardiner/anaconda/lib/python3.6/site-packages/sklearn/neural_network/multilayer_perceptron.py:564: ConvergenceWarning: Stochastic Optimizer: Maximum iterations (200) reached and the optimization hasn't converged yet.\n",
      "  % self.max_iter, ConvergenceWarning)\n"
     ]
    },
    {
     "name": "stdout",
     "output_type": "stream",
     "text": [
      "[CV]  activation=logistic, alpha=0.01, hidden_layer_sizes=2, solver=adam, score=0.7654028436018957, total=   0.7s\n",
      "[CV] activation=logistic, alpha=0.01, hidden_layer_sizes=4, solver=lbfgs \n",
      "[CV]  activation=logistic, alpha=0.01, hidden_layer_sizes=4, solver=lbfgs, score=0.9230769230769231, total=   0.3s\n",
      "[CV] activation=logistic, alpha=0.01, hidden_layer_sizes=4, solver=lbfgs \n",
      "[CV]  activation=logistic, alpha=0.01, hidden_layer_sizes=4, solver=lbfgs, score=0.9242603550295858, total=   0.3s\n",
      "[CV] activation=logistic, alpha=0.01, hidden_layer_sizes=4, solver=lbfgs \n",
      "[CV]  activation=logistic, alpha=0.01, hidden_layer_sizes=4, solver=lbfgs, score=0.9016587677725119, total=   0.2s\n",
      "[CV] activation=logistic, alpha=0.01, hidden_layer_sizes=4, solver=adam \n"
     ]
    },
    {
     "name": "stderr",
     "output_type": "stream",
     "text": [
      "/Users/laurenelisegardiner/anaconda/lib/python3.6/site-packages/sklearn/neural_network/multilayer_perceptron.py:564: ConvergenceWarning: Stochastic Optimizer: Maximum iterations (200) reached and the optimization hasn't converged yet.\n",
      "  % self.max_iter, ConvergenceWarning)\n"
     ]
    },
    {
     "name": "stdout",
     "output_type": "stream",
     "text": [
      "[CV]  activation=logistic, alpha=0.01, hidden_layer_sizes=4, solver=adam, score=0.7668639053254438, total=   0.8s\n",
      "[CV] activation=logistic, alpha=0.01, hidden_layer_sizes=4, solver=adam \n"
     ]
    },
    {
     "name": "stderr",
     "output_type": "stream",
     "text": [
      "/Users/laurenelisegardiner/anaconda/lib/python3.6/site-packages/sklearn/neural_network/multilayer_perceptron.py:564: ConvergenceWarning: Stochastic Optimizer: Maximum iterations (200) reached and the optimization hasn't converged yet.\n",
      "  % self.max_iter, ConvergenceWarning)\n"
     ]
    },
    {
     "name": "stdout",
     "output_type": "stream",
     "text": [
      "[CV]  activation=logistic, alpha=0.01, hidden_layer_sizes=4, solver=adam, score=0.7562130177514793, total=   0.8s\n",
      "[CV] activation=logistic, alpha=0.01, hidden_layer_sizes=4, solver=adam \n"
     ]
    },
    {
     "name": "stderr",
     "output_type": "stream",
     "text": [
      "/Users/laurenelisegardiner/anaconda/lib/python3.6/site-packages/sklearn/neural_network/multilayer_perceptron.py:564: ConvergenceWarning: Stochastic Optimizer: Maximum iterations (200) reached and the optimization hasn't converged yet.\n",
      "  % self.max_iter, ConvergenceWarning)\n"
     ]
    },
    {
     "name": "stdout",
     "output_type": "stream",
     "text": [
      "[CV]  activation=logistic, alpha=0.01, hidden_layer_sizes=4, solver=adam, score=0.7345971563981043, total=   0.6s\n",
      "[CV] activation=logistic, alpha=0.01, hidden_layer_sizes=8, solver=lbfgs \n",
      "[CV]  activation=logistic, alpha=0.01, hidden_layer_sizes=8, solver=lbfgs, score=0.8710059171597633, total=   0.2s\n",
      "[CV] activation=logistic, alpha=0.01, hidden_layer_sizes=8, solver=lbfgs \n",
      "[CV]  activation=logistic, alpha=0.01, hidden_layer_sizes=8, solver=lbfgs, score=0.914792899408284, total=   0.3s\n",
      "[CV] activation=logistic, alpha=0.01, hidden_layer_sizes=8, solver=lbfgs \n",
      "[CV]  activation=logistic, alpha=0.01, hidden_layer_sizes=8, solver=lbfgs, score=0.8459715639810427, total=   0.2s\n",
      "[CV] activation=logistic, alpha=0.01, hidden_layer_sizes=8, solver=adam \n"
     ]
    },
    {
     "name": "stderr",
     "output_type": "stream",
     "text": [
      "/Users/laurenelisegardiner/anaconda/lib/python3.6/site-packages/sklearn/neural_network/multilayer_perceptron.py:564: ConvergenceWarning: Stochastic Optimizer: Maximum iterations (200) reached and the optimization hasn't converged yet.\n",
      "  % self.max_iter, ConvergenceWarning)\n"
     ]
    },
    {
     "name": "stdout",
     "output_type": "stream",
     "text": [
      "[CV]  activation=logistic, alpha=0.01, hidden_layer_sizes=8, solver=adam, score=0.8130177514792899, total=   0.6s\n",
      "[CV] activation=logistic, alpha=0.01, hidden_layer_sizes=8, solver=adam \n"
     ]
    },
    {
     "name": "stderr",
     "output_type": "stream",
     "text": [
      "/Users/laurenelisegardiner/anaconda/lib/python3.6/site-packages/sklearn/neural_network/multilayer_perceptron.py:564: ConvergenceWarning: Stochastic Optimizer: Maximum iterations (200) reached and the optimization hasn't converged yet.\n",
      "  % self.max_iter, ConvergenceWarning)\n"
     ]
    },
    {
     "name": "stdout",
     "output_type": "stream",
     "text": [
      "[CV]  activation=logistic, alpha=0.01, hidden_layer_sizes=8, solver=adam, score=0.7881656804733728, total=   0.6s\n",
      "[CV] activation=logistic, alpha=0.01, hidden_layer_sizes=8, solver=adam \n"
     ]
    },
    {
     "name": "stderr",
     "output_type": "stream",
     "text": [
      "/Users/laurenelisegardiner/anaconda/lib/python3.6/site-packages/sklearn/neural_network/multilayer_perceptron.py:564: ConvergenceWarning: Stochastic Optimizer: Maximum iterations (200) reached and the optimization hasn't converged yet.\n",
      "  % self.max_iter, ConvergenceWarning)\n"
     ]
    },
    {
     "name": "stdout",
     "output_type": "stream",
     "text": [
      "[CV]  activation=logistic, alpha=0.01, hidden_layer_sizes=8, solver=adam, score=0.7914691943127962, total=   0.8s\n",
      "[CV] activation=logistic, alpha=0.01, hidden_layer_sizes=16, solver=lbfgs \n",
      "[CV]  activation=logistic, alpha=0.01, hidden_layer_sizes=16, solver=lbfgs, score=0.8544378698224852, total=   0.4s\n",
      "[CV] activation=logistic, alpha=0.01, hidden_layer_sizes=16, solver=lbfgs \n",
      "[CV]  activation=logistic, alpha=0.01, hidden_layer_sizes=16, solver=lbfgs, score=0.9159763313609467, total=   0.4s\n",
      "[CV] activation=logistic, alpha=0.01, hidden_layer_sizes=16, solver=lbfgs \n",
      "[CV]  activation=logistic, alpha=0.01, hidden_layer_sizes=16, solver=lbfgs, score=0.830568720379147, total=   0.4s\n",
      "[CV] activation=logistic, alpha=0.01, hidden_layer_sizes=16, solver=adam \n"
     ]
    },
    {
     "name": "stderr",
     "output_type": "stream",
     "text": [
      "/Users/laurenelisegardiner/anaconda/lib/python3.6/site-packages/sklearn/neural_network/multilayer_perceptron.py:564: ConvergenceWarning: Stochastic Optimizer: Maximum iterations (200) reached and the optimization hasn't converged yet.\n",
      "  % self.max_iter, ConvergenceWarning)\n"
     ]
    },
    {
     "name": "stdout",
     "output_type": "stream",
     "text": [
      "[CV]  activation=logistic, alpha=0.01, hidden_layer_sizes=16, solver=adam, score=0.8189349112426035, total=   0.8s\n",
      "[CV] activation=logistic, alpha=0.01, hidden_layer_sizes=16, solver=adam \n"
     ]
    },
    {
     "name": "stderr",
     "output_type": "stream",
     "text": [
      "/Users/laurenelisegardiner/anaconda/lib/python3.6/site-packages/sklearn/neural_network/multilayer_perceptron.py:564: ConvergenceWarning: Stochastic Optimizer: Maximum iterations (200) reached and the optimization hasn't converged yet.\n",
      "  % self.max_iter, ConvergenceWarning)\n"
     ]
    },
    {
     "name": "stdout",
     "output_type": "stream",
     "text": [
      "[CV]  activation=logistic, alpha=0.01, hidden_layer_sizes=16, solver=adam, score=0.8047337278106509, total=   0.9s\n",
      "[CV] activation=logistic, alpha=0.01, hidden_layer_sizes=16, solver=adam \n"
     ]
    },
    {
     "name": "stderr",
     "output_type": "stream",
     "text": [
      "/Users/laurenelisegardiner/anaconda/lib/python3.6/site-packages/sklearn/neural_network/multilayer_perceptron.py:564: ConvergenceWarning: Stochastic Optimizer: Maximum iterations (200) reached and the optimization hasn't converged yet.\n",
      "  % self.max_iter, ConvergenceWarning)\n"
     ]
    },
    {
     "name": "stdout",
     "output_type": "stream",
     "text": [
      "[CV]  activation=logistic, alpha=0.01, hidden_layer_sizes=16, solver=adam, score=0.8116113744075829, total=   0.9s\n",
      "[CV] activation=logistic, alpha=0.01, hidden_layer_sizes=32, solver=lbfgs \n",
      "[CV]  activation=logistic, alpha=0.01, hidden_layer_sizes=32, solver=lbfgs, score=0.8568047337278106, total=   0.4s\n",
      "[CV] activation=logistic, alpha=0.01, hidden_layer_sizes=32, solver=lbfgs \n",
      "[CV]  activation=logistic, alpha=0.01, hidden_layer_sizes=32, solver=lbfgs, score=0.7692307692307693, total=   0.3s\n",
      "[CV] activation=logistic, alpha=0.01, hidden_layer_sizes=32, solver=lbfgs \n",
      "[CV]  activation=logistic, alpha=0.01, hidden_layer_sizes=32, solver=lbfgs, score=0.9241706161137441, total=   0.3s\n",
      "[CV] activation=logistic, alpha=0.01, hidden_layer_sizes=32, solver=adam \n"
     ]
    },
    {
     "name": "stderr",
     "output_type": "stream",
     "text": [
      "/Users/laurenelisegardiner/anaconda/lib/python3.6/site-packages/sklearn/neural_network/multilayer_perceptron.py:564: ConvergenceWarning: Stochastic Optimizer: Maximum iterations (200) reached and the optimization hasn't converged yet.\n",
      "  % self.max_iter, ConvergenceWarning)\n"
     ]
    },
    {
     "name": "stdout",
     "output_type": "stream",
     "text": [
      "[CV]  activation=logistic, alpha=0.01, hidden_layer_sizes=32, solver=adam, score=0.855621301775148, total=   0.8s\n",
      "[CV] activation=logistic, alpha=0.01, hidden_layer_sizes=32, solver=adam \n"
     ]
    },
    {
     "name": "stderr",
     "output_type": "stream",
     "text": [
      "/Users/laurenelisegardiner/anaconda/lib/python3.6/site-packages/sklearn/neural_network/multilayer_perceptron.py:564: ConvergenceWarning: Stochastic Optimizer: Maximum iterations (200) reached and the optimization hasn't converged yet.\n",
      "  % self.max_iter, ConvergenceWarning)\n"
     ]
    },
    {
     "name": "stdout",
     "output_type": "stream",
     "text": [
      "[CV]  activation=logistic, alpha=0.01, hidden_layer_sizes=32, solver=adam, score=0.8437869822485207, total=   1.0s\n",
      "[CV] activation=logistic, alpha=0.01, hidden_layer_sizes=32, solver=adam \n"
     ]
    },
    {
     "name": "stderr",
     "output_type": "stream",
     "text": [
      "/Users/laurenelisegardiner/anaconda/lib/python3.6/site-packages/sklearn/neural_network/multilayer_perceptron.py:564: ConvergenceWarning: Stochastic Optimizer: Maximum iterations (200) reached and the optimization hasn't converged yet.\n",
      "  % self.max_iter, ConvergenceWarning)\n"
     ]
    },
    {
     "name": "stdout",
     "output_type": "stream",
     "text": [
      "[CV]  activation=logistic, alpha=0.01, hidden_layer_sizes=32, solver=adam, score=0.8459715639810427, total=   0.9s\n",
      "[CV] activation=logistic, alpha=0.01, hidden_layer_sizes=64, solver=lbfgs \n",
      "[CV]  activation=logistic, alpha=0.01, hidden_layer_sizes=64, solver=lbfgs, score=0.8023668639053254, total=   0.7s\n",
      "[CV] activation=logistic, alpha=0.01, hidden_layer_sizes=64, solver=lbfgs \n",
      "[CV]  activation=logistic, alpha=0.01, hidden_layer_sizes=64, solver=lbfgs, score=0.8189349112426035, total=   0.6s\n",
      "[CV] activation=logistic, alpha=0.01, hidden_layer_sizes=64, solver=lbfgs \n",
      "[CV]  activation=logistic, alpha=0.01, hidden_layer_sizes=64, solver=lbfgs, score=0.8447867298578199, total=   0.7s\n",
      "[CV] activation=logistic, alpha=0.01, hidden_layer_sizes=64, solver=adam \n"
     ]
    },
    {
     "name": "stderr",
     "output_type": "stream",
     "text": [
      "/Users/laurenelisegardiner/anaconda/lib/python3.6/site-packages/sklearn/neural_network/multilayer_perceptron.py:564: ConvergenceWarning: Stochastic Optimizer: Maximum iterations (200) reached and the optimization hasn't converged yet.\n",
      "  % self.max_iter, ConvergenceWarning)\n"
     ]
    },
    {
     "name": "stdout",
     "output_type": "stream",
     "text": [
      "[CV]  activation=logistic, alpha=0.01, hidden_layer_sizes=64, solver=adam, score=0.8875739644970414, total=   1.1s\n",
      "[CV] activation=logistic, alpha=0.01, hidden_layer_sizes=64, solver=adam \n"
     ]
    },
    {
     "name": "stderr",
     "output_type": "stream",
     "text": [
      "/Users/laurenelisegardiner/anaconda/lib/python3.6/site-packages/sklearn/neural_network/multilayer_perceptron.py:564: ConvergenceWarning: Stochastic Optimizer: Maximum iterations (200) reached and the optimization hasn't converged yet.\n",
      "  % self.max_iter, ConvergenceWarning)\n"
     ]
    },
    {
     "name": "stdout",
     "output_type": "stream",
     "text": [
      "[CV]  activation=logistic, alpha=0.01, hidden_layer_sizes=64, solver=adam, score=0.8769230769230769, total=   1.2s\n",
      "[CV] activation=logistic, alpha=0.01, hidden_layer_sizes=64, solver=adam \n"
     ]
    },
    {
     "name": "stderr",
     "output_type": "stream",
     "text": [
      "/Users/laurenelisegardiner/anaconda/lib/python3.6/site-packages/sklearn/neural_network/multilayer_perceptron.py:564: ConvergenceWarning: Stochastic Optimizer: Maximum iterations (200) reached and the optimization hasn't converged yet.\n",
      "  % self.max_iter, ConvergenceWarning)\n"
     ]
    },
    {
     "name": "stdout",
     "output_type": "stream",
     "text": [
      "[CV]  activation=logistic, alpha=0.01, hidden_layer_sizes=64, solver=adam, score=0.8779620853080569, total=   1.4s\n",
      "[CV] activation=logistic, alpha=0.1, hidden_layer_sizes=2, solver=lbfgs \n",
      "[CV]  activation=logistic, alpha=0.1, hidden_layer_sizes=2, solver=lbfgs, score=0.9171597633136095, total=   0.1s\n",
      "[CV] activation=logistic, alpha=0.1, hidden_layer_sizes=2, solver=lbfgs \n",
      "[CV]  activation=logistic, alpha=0.1, hidden_layer_sizes=2, solver=lbfgs, score=0.9396449704142011, total=   0.1s\n",
      "[CV] activation=logistic, alpha=0.1, hidden_layer_sizes=2, solver=lbfgs \n",
      "[CV]  activation=logistic, alpha=0.1, hidden_layer_sizes=2, solver=lbfgs, score=0.8270142180094787, total=   0.1s\n",
      "[CV] activation=logistic, alpha=0.1, hidden_layer_sizes=2, solver=adam \n"
     ]
    },
    {
     "name": "stderr",
     "output_type": "stream",
     "text": [
      "/Users/laurenelisegardiner/anaconda/lib/python3.6/site-packages/sklearn/neural_network/multilayer_perceptron.py:564: ConvergenceWarning: Stochastic Optimizer: Maximum iterations (200) reached and the optimization hasn't converged yet.\n",
      "  % self.max_iter, ConvergenceWarning)\n"
     ]
    },
    {
     "name": "stdout",
     "output_type": "stream",
     "text": [
      "[CV]  activation=logistic, alpha=0.1, hidden_layer_sizes=2, solver=adam, score=0.778698224852071, total=   0.4s\n",
      "[CV] activation=logistic, alpha=0.1, hidden_layer_sizes=2, solver=adam \n"
     ]
    },
    {
     "name": "stderr",
     "output_type": "stream",
     "text": [
      "/Users/laurenelisegardiner/anaconda/lib/python3.6/site-packages/sklearn/neural_network/multilayer_perceptron.py:564: ConvergenceWarning: Stochastic Optimizer: Maximum iterations (200) reached and the optimization hasn't converged yet.\n",
      "  % self.max_iter, ConvergenceWarning)\n"
     ]
    },
    {
     "name": "stdout",
     "output_type": "stream",
     "text": [
      "[CV]  activation=logistic, alpha=0.1, hidden_layer_sizes=2, solver=adam, score=0.7597633136094675, total=   0.5s\n",
      "[CV] activation=logistic, alpha=0.1, hidden_layer_sizes=2, solver=adam \n"
     ]
    },
    {
     "name": "stderr",
     "output_type": "stream",
     "text": [
      "/Users/laurenelisegardiner/anaconda/lib/python3.6/site-packages/sklearn/neural_network/multilayer_perceptron.py:564: ConvergenceWarning: Stochastic Optimizer: Maximum iterations (200) reached and the optimization hasn't converged yet.\n",
      "  % self.max_iter, ConvergenceWarning)\n"
     ]
    },
    {
     "name": "stdout",
     "output_type": "stream",
     "text": [
      "[CV]  activation=logistic, alpha=0.1, hidden_layer_sizes=2, solver=adam, score=0.7582938388625592, total=   0.4s\n",
      "[CV] activation=logistic, alpha=0.1, hidden_layer_sizes=4, solver=lbfgs \n",
      "[CV]  activation=logistic, alpha=0.1, hidden_layer_sizes=4, solver=lbfgs, score=0.9550295857988166, total=   0.1s\n",
      "[CV] activation=logistic, alpha=0.1, hidden_layer_sizes=4, solver=lbfgs \n",
      "[CV]  activation=logistic, alpha=0.1, hidden_layer_sizes=4, solver=lbfgs, score=0.8532544378698225, total=   0.2s\n",
      "[CV] activation=logistic, alpha=0.1, hidden_layer_sizes=4, solver=lbfgs \n",
      "[CV]  activation=logistic, alpha=0.1, hidden_layer_sizes=4, solver=lbfgs, score=0.8459715639810427, total=   0.1s\n",
      "[CV] activation=logistic, alpha=0.1, hidden_layer_sizes=4, solver=adam \n"
     ]
    },
    {
     "name": "stderr",
     "output_type": "stream",
     "text": [
      "/Users/laurenelisegardiner/anaconda/lib/python3.6/site-packages/sklearn/neural_network/multilayer_perceptron.py:564: ConvergenceWarning: Stochastic Optimizer: Maximum iterations (200) reached and the optimization hasn't converged yet.\n",
      "  % self.max_iter, ConvergenceWarning)\n"
     ]
    },
    {
     "name": "stdout",
     "output_type": "stream",
     "text": [
      "[CV]  activation=logistic, alpha=0.1, hidden_layer_sizes=4, solver=adam, score=0.7502958579881657, total=   0.4s\n",
      "[CV] activation=logistic, alpha=0.1, hidden_layer_sizes=4, solver=adam \n"
     ]
    },
    {
     "name": "stderr",
     "output_type": "stream",
     "text": [
      "/Users/laurenelisegardiner/anaconda/lib/python3.6/site-packages/sklearn/neural_network/multilayer_perceptron.py:564: ConvergenceWarning: Stochastic Optimizer: Maximum iterations (200) reached and the optimization hasn't converged yet.\n",
      "  % self.max_iter, ConvergenceWarning)\n"
     ]
    },
    {
     "name": "stdout",
     "output_type": "stream",
     "text": [
      "[CV]  activation=logistic, alpha=0.1, hidden_layer_sizes=4, solver=adam, score=0.7479289940828402, total=   0.4s\n",
      "[CV] activation=logistic, alpha=0.1, hidden_layer_sizes=4, solver=adam \n"
     ]
    },
    {
     "name": "stderr",
     "output_type": "stream",
     "text": [
      "/Users/laurenelisegardiner/anaconda/lib/python3.6/site-packages/sklearn/neural_network/multilayer_perceptron.py:564: ConvergenceWarning: Stochastic Optimizer: Maximum iterations (200) reached and the optimization hasn't converged yet.\n",
      "  % self.max_iter, ConvergenceWarning)\n"
     ]
    },
    {
     "name": "stdout",
     "output_type": "stream",
     "text": [
      "[CV]  activation=logistic, alpha=0.1, hidden_layer_sizes=4, solver=adam, score=0.7215639810426541, total=   0.4s\n",
      "[CV] activation=logistic, alpha=0.1, hidden_layer_sizes=8, solver=lbfgs \n",
      "[CV]  activation=logistic, alpha=0.1, hidden_layer_sizes=8, solver=lbfgs, score=0.9325443786982248, total=   0.2s\n",
      "[CV] activation=logistic, alpha=0.1, hidden_layer_sizes=8, solver=lbfgs \n",
      "[CV]  activation=logistic, alpha=0.1, hidden_layer_sizes=8, solver=lbfgs, score=0.9159763313609467, total=   0.2s\n",
      "[CV] activation=logistic, alpha=0.1, hidden_layer_sizes=8, solver=lbfgs \n",
      "[CV]  activation=logistic, alpha=0.1, hidden_layer_sizes=8, solver=lbfgs, score=0.8270142180094787, total=   0.2s\n",
      "[CV] activation=logistic, alpha=0.1, hidden_layer_sizes=8, solver=adam \n"
     ]
    },
    {
     "name": "stderr",
     "output_type": "stream",
     "text": [
      "/Users/laurenelisegardiner/anaconda/lib/python3.6/site-packages/sklearn/neural_network/multilayer_perceptron.py:564: ConvergenceWarning: Stochastic Optimizer: Maximum iterations (200) reached and the optimization hasn't converged yet.\n",
      "  % self.max_iter, ConvergenceWarning)\n"
     ]
    },
    {
     "name": "stdout",
     "output_type": "stream",
     "text": [
      "[CV]  activation=logistic, alpha=0.1, hidden_layer_sizes=8, solver=adam, score=0.7869822485207101, total=   0.5s\n",
      "[CV] activation=logistic, alpha=0.1, hidden_layer_sizes=8, solver=adam \n"
     ]
    },
    {
     "name": "stderr",
     "output_type": "stream",
     "text": [
      "/Users/laurenelisegardiner/anaconda/lib/python3.6/site-packages/sklearn/neural_network/multilayer_perceptron.py:564: ConvergenceWarning: Stochastic Optimizer: Maximum iterations (200) reached and the optimization hasn't converged yet.\n",
      "  % self.max_iter, ConvergenceWarning)\n"
     ]
    },
    {
     "name": "stdout",
     "output_type": "stream",
     "text": [
      "[CV]  activation=logistic, alpha=0.1, hidden_layer_sizes=8, solver=adam, score=0.7715976331360946, total=   0.5s\n",
      "[CV] activation=logistic, alpha=0.1, hidden_layer_sizes=8, solver=adam \n"
     ]
    },
    {
     "name": "stderr",
     "output_type": "stream",
     "text": [
      "/Users/laurenelisegardiner/anaconda/lib/python3.6/site-packages/sklearn/neural_network/multilayer_perceptron.py:564: ConvergenceWarning: Stochastic Optimizer: Maximum iterations (200) reached and the optimization hasn't converged yet.\n",
      "  % self.max_iter, ConvergenceWarning)\n"
     ]
    },
    {
     "name": "stdout",
     "output_type": "stream",
     "text": [
      "[CV]  activation=logistic, alpha=0.1, hidden_layer_sizes=8, solver=adam, score=0.7654028436018957, total=   0.5s\n",
      "[CV] activation=logistic, alpha=0.1, hidden_layer_sizes=16, solver=lbfgs \n",
      "[CV]  activation=logistic, alpha=0.1, hidden_layer_sizes=16, solver=lbfgs, score=0.8615384615384616, total=   0.2s\n",
      "[CV] activation=logistic, alpha=0.1, hidden_layer_sizes=16, solver=lbfgs \n",
      "[CV]  activation=logistic, alpha=0.1, hidden_layer_sizes=16, solver=lbfgs, score=0.8627218934911243, total=   0.2s\n",
      "[CV] activation=logistic, alpha=0.1, hidden_layer_sizes=16, solver=lbfgs \n",
      "[CV]  activation=logistic, alpha=0.1, hidden_layer_sizes=16, solver=lbfgs, score=0.8507109004739336, total=   0.2s\n",
      "[CV] activation=logistic, alpha=0.1, hidden_layer_sizes=16, solver=adam \n"
     ]
    },
    {
     "name": "stderr",
     "output_type": "stream",
     "text": [
      "/Users/laurenelisegardiner/anaconda/lib/python3.6/site-packages/sklearn/neural_network/multilayer_perceptron.py:564: ConvergenceWarning: Stochastic Optimizer: Maximum iterations (200) reached and the optimization hasn't converged yet.\n",
      "  % self.max_iter, ConvergenceWarning)\n"
     ]
    },
    {
     "name": "stdout",
     "output_type": "stream",
     "text": [
      "[CV]  activation=logistic, alpha=0.1, hidden_layer_sizes=16, solver=adam, score=0.7988165680473372, total=   0.7s\n",
      "[CV] activation=logistic, alpha=0.1, hidden_layer_sizes=16, solver=adam \n"
     ]
    },
    {
     "name": "stderr",
     "output_type": "stream",
     "text": [
      "/Users/laurenelisegardiner/anaconda/lib/python3.6/site-packages/sklearn/neural_network/multilayer_perceptron.py:564: ConvergenceWarning: Stochastic Optimizer: Maximum iterations (200) reached and the optimization hasn't converged yet.\n",
      "  % self.max_iter, ConvergenceWarning)\n"
     ]
    },
    {
     "name": "stdout",
     "output_type": "stream",
     "text": [
      "[CV]  activation=logistic, alpha=0.1, hidden_layer_sizes=16, solver=adam, score=0.7928994082840237, total=   0.7s\n",
      "[CV] activation=logistic, alpha=0.1, hidden_layer_sizes=16, solver=adam \n"
     ]
    },
    {
     "name": "stderr",
     "output_type": "stream",
     "text": [
      "/Users/laurenelisegardiner/anaconda/lib/python3.6/site-packages/sklearn/neural_network/multilayer_perceptron.py:564: ConvergenceWarning: Stochastic Optimizer: Maximum iterations (200) reached and the optimization hasn't converged yet.\n",
      "  % self.max_iter, ConvergenceWarning)\n"
     ]
    },
    {
     "name": "stdout",
     "output_type": "stream",
     "text": [
      "[CV]  activation=logistic, alpha=0.1, hidden_layer_sizes=16, solver=adam, score=0.7701421800947867, total=   0.7s\n",
      "[CV] activation=logistic, alpha=0.1, hidden_layer_sizes=32, solver=lbfgs \n",
      "[CV]  activation=logistic, alpha=0.1, hidden_layer_sizes=32, solver=lbfgs, score=0.7976331360946746, total=   0.4s\n",
      "[CV] activation=logistic, alpha=0.1, hidden_layer_sizes=32, solver=lbfgs \n",
      "[CV]  activation=logistic, alpha=0.1, hidden_layer_sizes=32, solver=lbfgs, score=0.8260355029585799, total=   0.3s\n",
      "[CV] activation=logistic, alpha=0.1, hidden_layer_sizes=32, solver=lbfgs \n",
      "[CV]  activation=logistic, alpha=0.1, hidden_layer_sizes=32, solver=lbfgs, score=0.8495260663507109, total=   0.3s\n",
      "[CV] activation=logistic, alpha=0.1, hidden_layer_sizes=32, solver=adam \n"
     ]
    },
    {
     "name": "stderr",
     "output_type": "stream",
     "text": [
      "/Users/laurenelisegardiner/anaconda/lib/python3.6/site-packages/sklearn/neural_network/multilayer_perceptron.py:564: ConvergenceWarning: Stochastic Optimizer: Maximum iterations (200) reached and the optimization hasn't converged yet.\n",
      "  % self.max_iter, ConvergenceWarning)\n"
     ]
    },
    {
     "name": "stdout",
     "output_type": "stream",
     "text": [
      "[CV]  activation=logistic, alpha=0.1, hidden_layer_sizes=32, solver=adam, score=0.8236686390532545, total=   0.8s\n",
      "[CV] activation=logistic, alpha=0.1, hidden_layer_sizes=32, solver=adam \n"
     ]
    },
    {
     "name": "stderr",
     "output_type": "stream",
     "text": [
      "/Users/laurenelisegardiner/anaconda/lib/python3.6/site-packages/sklearn/neural_network/multilayer_perceptron.py:564: ConvergenceWarning: Stochastic Optimizer: Maximum iterations (200) reached and the optimization hasn't converged yet.\n",
      "  % self.max_iter, ConvergenceWarning)\n"
     ]
    },
    {
     "name": "stdout",
     "output_type": "stream",
     "text": [
      "[CV]  activation=logistic, alpha=0.1, hidden_layer_sizes=32, solver=adam, score=0.8153846153846154, total=   0.8s\n",
      "[CV] activation=logistic, alpha=0.1, hidden_layer_sizes=32, solver=adam \n"
     ]
    },
    {
     "name": "stderr",
     "output_type": "stream",
     "text": [
      "/Users/laurenelisegardiner/anaconda/lib/python3.6/site-packages/sklearn/neural_network/multilayer_perceptron.py:564: ConvergenceWarning: Stochastic Optimizer: Maximum iterations (200) reached and the optimization hasn't converged yet.\n",
      "  % self.max_iter, ConvergenceWarning)\n"
     ]
    },
    {
     "name": "stdout",
     "output_type": "stream",
     "text": [
      "[CV]  activation=logistic, alpha=0.1, hidden_layer_sizes=32, solver=adam, score=0.8127962085308057, total=   0.8s\n",
      "[CV] activation=logistic, alpha=0.1, hidden_layer_sizes=64, solver=lbfgs \n",
      "[CV]  activation=logistic, alpha=0.1, hidden_layer_sizes=64, solver=lbfgs, score=0.8402366863905325, total=   0.6s\n",
      "[CV] activation=logistic, alpha=0.1, hidden_layer_sizes=64, solver=lbfgs \n",
      "[CV]  activation=logistic, alpha=0.1, hidden_layer_sizes=64, solver=lbfgs, score=0.850887573964497, total=   0.6s\n",
      "[CV] activation=logistic, alpha=0.1, hidden_layer_sizes=64, solver=lbfgs \n",
      "[CV]  activation=logistic, alpha=0.1, hidden_layer_sizes=64, solver=lbfgs, score=0.8045023696682464, total=   0.7s\n",
      "[CV] activation=logistic, alpha=0.1, hidden_layer_sizes=64, solver=adam \n",
      "[CV]  activation=logistic, alpha=0.1, hidden_layer_sizes=64, solver=adam, score=0.7005917159763314, total=   0.6s\n",
      "[CV] activation=logistic, alpha=0.1, hidden_layer_sizes=64, solver=adam \n",
      "[CV]  activation=logistic, alpha=0.1, hidden_layer_sizes=64, solver=adam, score=0.8189349112426035, total=   1.7s\n",
      "[CV] activation=logistic, alpha=0.1, hidden_layer_sizes=64, solver=adam \n",
      "[CV]  activation=logistic, alpha=0.1, hidden_layer_sizes=64, solver=adam, score=0.830568720379147, total=   1.3s\n",
      "[CV] activation=logistic, alpha=1, hidden_layer_sizes=2, solver=lbfgs \n",
      "[CV]  activation=logistic, alpha=1, hidden_layer_sizes=2, solver=lbfgs, score=0.8355029585798817, total=   0.1s\n",
      "[CV] activation=logistic, alpha=1, hidden_layer_sizes=2, solver=lbfgs \n",
      "[CV]  activation=logistic, alpha=1, hidden_layer_sizes=2, solver=lbfgs, score=0.9076923076923077, total=   0.2s\n",
      "[CV] activation=logistic, alpha=1, hidden_layer_sizes=2, solver=lbfgs \n",
      "[CV]  activation=logistic, alpha=1, hidden_layer_sizes=2, solver=lbfgs, score=0.8424170616113744, total=   0.1s\n",
      "[CV] activation=logistic, alpha=1, hidden_layer_sizes=2, solver=adam .\n",
      "[CV]  activation=logistic, alpha=1, hidden_layer_sizes=2, solver=adam, score=0.6994082840236686, total=   0.4s\n",
      "[CV] activation=logistic, alpha=1, hidden_layer_sizes=2, solver=adam .\n"
     ]
    },
    {
     "name": "stderr",
     "output_type": "stream",
     "text": [
      "/Users/laurenelisegardiner/anaconda/lib/python3.6/site-packages/sklearn/neural_network/multilayer_perceptron.py:564: ConvergenceWarning: Stochastic Optimizer: Maximum iterations (200) reached and the optimization hasn't converged yet.\n",
      "  % self.max_iter, ConvergenceWarning)\n"
     ]
    },
    {
     "name": "stdout",
     "output_type": "stream",
     "text": [
      "[CV]  activation=logistic, alpha=1, hidden_layer_sizes=2, solver=adam, score=0.6982248520710059, total=   0.7s\n",
      "[CV] activation=logistic, alpha=1, hidden_layer_sizes=2, solver=adam .\n"
     ]
    },
    {
     "name": "stderr",
     "output_type": "stream",
     "text": [
      "/Users/laurenelisegardiner/anaconda/lib/python3.6/site-packages/sklearn/neural_network/multilayer_perceptron.py:564: ConvergenceWarning: Stochastic Optimizer: Maximum iterations (200) reached and the optimization hasn't converged yet.\n",
      "  % self.max_iter, ConvergenceWarning)\n"
     ]
    },
    {
     "name": "stdout",
     "output_type": "stream",
     "text": [
      "[CV]  activation=logistic, alpha=1, hidden_layer_sizes=2, solver=adam, score=0.6895734597156398, total=   0.7s\n",
      "[CV] activation=logistic, alpha=1, hidden_layer_sizes=4, solver=lbfgs \n",
      "[CV]  activation=logistic, alpha=1, hidden_layer_sizes=4, solver=lbfgs, score=0.8402366863905325, total=   0.2s\n",
      "[CV] activation=logistic, alpha=1, hidden_layer_sizes=4, solver=lbfgs \n",
      "[CV]  activation=logistic, alpha=1, hidden_layer_sizes=4, solver=lbfgs, score=0.9029585798816568, total=   0.2s\n",
      "[CV] activation=logistic, alpha=1, hidden_layer_sizes=4, solver=lbfgs \n",
      "[CV]  activation=logistic, alpha=1, hidden_layer_sizes=4, solver=lbfgs, score=0.8483412322274881, total=   0.1s\n",
      "[CV] activation=logistic, alpha=1, hidden_layer_sizes=4, solver=adam .\n"
     ]
    },
    {
     "name": "stderr",
     "output_type": "stream",
     "text": [
      "/Users/laurenelisegardiner/anaconda/lib/python3.6/site-packages/sklearn/neural_network/multilayer_perceptron.py:564: ConvergenceWarning: Stochastic Optimizer: Maximum iterations (200) reached and the optimization hasn't converged yet.\n",
      "  % self.max_iter, ConvergenceWarning)\n"
     ]
    },
    {
     "name": "stdout",
     "output_type": "stream",
     "text": [
      "[CV]  activation=logistic, alpha=1, hidden_layer_sizes=4, solver=adam, score=0.6686390532544378, total=   0.5s\n",
      "[CV] activation=logistic, alpha=1, hidden_layer_sizes=4, solver=adam .\n"
     ]
    },
    {
     "name": "stderr",
     "output_type": "stream",
     "text": [
      "/Users/laurenelisegardiner/anaconda/lib/python3.6/site-packages/sklearn/neural_network/multilayer_perceptron.py:564: ConvergenceWarning: Stochastic Optimizer: Maximum iterations (200) reached and the optimization hasn't converged yet.\n",
      "  % self.max_iter, ConvergenceWarning)\n"
     ]
    },
    {
     "name": "stdout",
     "output_type": "stream",
     "text": [
      "[CV]  activation=logistic, alpha=1, hidden_layer_sizes=4, solver=adam, score=0.6710059171597633, total=   0.6s\n",
      "[CV] activation=logistic, alpha=1, hidden_layer_sizes=4, solver=adam .\n"
     ]
    },
    {
     "name": "stderr",
     "output_type": "stream",
     "text": [
      "/Users/laurenelisegardiner/anaconda/lib/python3.6/site-packages/sklearn/neural_network/multilayer_perceptron.py:564: ConvergenceWarning: Stochastic Optimizer: Maximum iterations (200) reached and the optimization hasn't converged yet.\n",
      "  % self.max_iter, ConvergenceWarning)\n"
     ]
    },
    {
     "name": "stdout",
     "output_type": "stream",
     "text": [
      "[CV]  activation=logistic, alpha=1, hidden_layer_sizes=4, solver=adam, score=0.6421800947867299, total=   0.7s\n",
      "[CV] activation=logistic, alpha=1, hidden_layer_sizes=8, solver=lbfgs \n",
      "[CV]  activation=logistic, alpha=1, hidden_layer_sizes=8, solver=lbfgs, score=0.8355029585798817, total=   0.2s\n",
      "[CV] activation=logistic, alpha=1, hidden_layer_sizes=8, solver=lbfgs \n",
      "[CV]  activation=logistic, alpha=1, hidden_layer_sizes=8, solver=lbfgs, score=0.8710059171597633, total=   0.2s\n",
      "[CV] activation=logistic, alpha=1, hidden_layer_sizes=8, solver=lbfgs \n",
      "[CV]  activation=logistic, alpha=1, hidden_layer_sizes=8, solver=lbfgs, score=0.8933649289099526, total=   0.2s\n",
      "[CV] activation=logistic, alpha=1, hidden_layer_sizes=8, solver=adam .\n"
     ]
    },
    {
     "name": "stderr",
     "output_type": "stream",
     "text": [
      "/Users/laurenelisegardiner/anaconda/lib/python3.6/site-packages/sklearn/neural_network/multilayer_perceptron.py:564: ConvergenceWarning: Stochastic Optimizer: Maximum iterations (200) reached and the optimization hasn't converged yet.\n",
      "  % self.max_iter, ConvergenceWarning)\n"
     ]
    },
    {
     "name": "stdout",
     "output_type": "stream",
     "text": [
      "[CV]  activation=logistic, alpha=1, hidden_layer_sizes=8, solver=adam, score=0.7076923076923077, total=   0.5s\n",
      "[CV] activation=logistic, alpha=1, hidden_layer_sizes=8, solver=adam .\n"
     ]
    },
    {
     "name": "stderr",
     "output_type": "stream",
     "text": [
      "/Users/laurenelisegardiner/anaconda/lib/python3.6/site-packages/sklearn/neural_network/multilayer_perceptron.py:564: ConvergenceWarning: Stochastic Optimizer: Maximum iterations (200) reached and the optimization hasn't converged yet.\n",
      "  % self.max_iter, ConvergenceWarning)\n"
     ]
    },
    {
     "name": "stdout",
     "output_type": "stream",
     "text": [
      "[CV]  activation=logistic, alpha=1, hidden_layer_sizes=8, solver=adam, score=0.7076923076923077, total=   0.5s\n",
      "[CV] activation=logistic, alpha=1, hidden_layer_sizes=8, solver=adam .\n"
     ]
    },
    {
     "name": "stderr",
     "output_type": "stream",
     "text": [
      "/Users/laurenelisegardiner/anaconda/lib/python3.6/site-packages/sklearn/neural_network/multilayer_perceptron.py:564: ConvergenceWarning: Stochastic Optimizer: Maximum iterations (200) reached and the optimization hasn't converged yet.\n",
      "  % self.max_iter, ConvergenceWarning)\n"
     ]
    },
    {
     "name": "stdout",
     "output_type": "stream",
     "text": [
      "[CV]  activation=logistic, alpha=1, hidden_layer_sizes=8, solver=adam, score=0.6943127962085308, total=   0.5s\n",
      "[CV] activation=logistic, alpha=1, hidden_layer_sizes=16, solver=lbfgs \n",
      "[CV]  activation=logistic, alpha=1, hidden_layer_sizes=16, solver=lbfgs, score=0.7905325443786982, total=   0.2s\n",
      "[CV] activation=logistic, alpha=1, hidden_layer_sizes=16, solver=lbfgs \n",
      "[CV]  activation=logistic, alpha=1, hidden_layer_sizes=16, solver=lbfgs, score=0.7751479289940828, total=   0.2s\n",
      "[CV] activation=logistic, alpha=1, hidden_layer_sizes=16, solver=lbfgs \n",
      "[CV]  activation=logistic, alpha=1, hidden_layer_sizes=16, solver=lbfgs, score=0.8045023696682464, total=   0.2s\n",
      "[CV] activation=logistic, alpha=1, hidden_layer_sizes=16, solver=adam \n",
      "[CV]  activation=logistic, alpha=1, hidden_layer_sizes=16, solver=adam, score=0.685207100591716, total=   0.5s\n",
      "[CV] activation=logistic, alpha=1, hidden_layer_sizes=16, solver=adam \n"
     ]
    },
    {
     "name": "stderr",
     "output_type": "stream",
     "text": [
      "/Users/laurenelisegardiner/anaconda/lib/python3.6/site-packages/sklearn/neural_network/multilayer_perceptron.py:564: ConvergenceWarning: Stochastic Optimizer: Maximum iterations (200) reached and the optimization hasn't converged yet.\n",
      "  % self.max_iter, ConvergenceWarning)\n"
     ]
    },
    {
     "name": "stdout",
     "output_type": "stream",
     "text": [
      "[CV]  activation=logistic, alpha=1, hidden_layer_sizes=16, solver=adam, score=0.6994082840236686, total=   0.7s\n",
      "[CV] activation=logistic, alpha=1, hidden_layer_sizes=16, solver=adam \n",
      "[CV]  activation=logistic, alpha=1, hidden_layer_sizes=16, solver=adam, score=0.6729857819905213, total=   0.7s\n",
      "[CV] activation=logistic, alpha=1, hidden_layer_sizes=32, solver=lbfgs \n",
      "[CV]  activation=logistic, alpha=1, hidden_layer_sizes=32, solver=lbfgs, score=0.7751479289940828, total=   0.4s\n",
      "[CV] activation=logistic, alpha=1, hidden_layer_sizes=32, solver=lbfgs \n",
      "[CV]  activation=logistic, alpha=1, hidden_layer_sizes=32, solver=lbfgs, score=0.8650887573964497, total=   0.3s\n",
      "[CV] activation=logistic, alpha=1, hidden_layer_sizes=32, solver=lbfgs \n",
      "[CV]  activation=logistic, alpha=1, hidden_layer_sizes=32, solver=lbfgs, score=0.7819905213270142, total=   0.3s\n",
      "[CV] activation=logistic, alpha=1, hidden_layer_sizes=32, solver=adam \n",
      "[CV]  activation=logistic, alpha=1, hidden_layer_sizes=32, solver=adam, score=0.6710059171597633, total=   0.3s\n",
      "[CV] activation=logistic, alpha=1, hidden_layer_sizes=32, solver=adam \n",
      "[CV]  activation=logistic, alpha=1, hidden_layer_sizes=32, solver=adam, score=0.6816568047337278, total=   0.5s\n",
      "[CV] activation=logistic, alpha=1, hidden_layer_sizes=32, solver=adam \n",
      "[CV]  activation=logistic, alpha=1, hidden_layer_sizes=32, solver=adam, score=0.659952606635071, total=   0.4s\n",
      "[CV] activation=logistic, alpha=1, hidden_layer_sizes=64, solver=lbfgs \n",
      "[CV]  activation=logistic, alpha=1, hidden_layer_sizes=64, solver=lbfgs, score=0.7775147928994083, total=   0.5s\n",
      "[CV] activation=logistic, alpha=1, hidden_layer_sizes=64, solver=lbfgs \n",
      "[CV]  activation=logistic, alpha=1, hidden_layer_sizes=64, solver=lbfgs, score=0.8331360946745562, total=   0.5s\n",
      "[CV] activation=logistic, alpha=1, hidden_layer_sizes=64, solver=lbfgs \n",
      "[CV]  activation=logistic, alpha=1, hidden_layer_sizes=64, solver=lbfgs, score=0.8388625592417062, total=   0.5s\n",
      "[CV] activation=logistic, alpha=1, hidden_layer_sizes=64, solver=adam \n",
      "[CV]  activation=logistic, alpha=1, hidden_layer_sizes=64, solver=adam, score=0.6757396449704142, total=   0.3s\n",
      "[CV] activation=logistic, alpha=1, hidden_layer_sizes=64, solver=adam \n",
      "[CV]  activation=logistic, alpha=1, hidden_layer_sizes=64, solver=adam, score=0.6863905325443787, total=   0.3s\n",
      "[CV] activation=logistic, alpha=1, hidden_layer_sizes=64, solver=adam \n",
      "[CV]  activation=logistic, alpha=1, hidden_layer_sizes=64, solver=adam, score=0.6587677725118484, total=   0.3s\n",
      "[CV] activation=logistic, alpha=10, hidden_layer_sizes=2, solver=lbfgs \n",
      "[CV]  activation=logistic, alpha=10, hidden_layer_sizes=2, solver=lbfgs, score=0.7230769230769231, total=   0.1s\n",
      "[CV] activation=logistic, alpha=10, hidden_layer_sizes=2, solver=lbfgs \n",
      "[CV]  activation=logistic, alpha=10, hidden_layer_sizes=2, solver=lbfgs, score=0.7313609467455622, total=   0.1s\n",
      "[CV] activation=logistic, alpha=10, hidden_layer_sizes=2, solver=lbfgs \n",
      "[CV]  activation=logistic, alpha=10, hidden_layer_sizes=2, solver=lbfgs, score=0.7203791469194313, total=   0.1s\n",
      "[CV] activation=logistic, alpha=10, hidden_layer_sizes=2, solver=adam \n",
      "[CV]  activation=logistic, alpha=10, hidden_layer_sizes=2, solver=adam, score=0.6224852071005917, total=   0.1s\n",
      "[CV] activation=logistic, alpha=10, hidden_layer_sizes=2, solver=adam \n",
      "[CV]  activation=logistic, alpha=10, hidden_layer_sizes=2, solver=adam, score=0.6378698224852071, total=   0.1s\n",
      "[CV] activation=logistic, alpha=10, hidden_layer_sizes=2, solver=adam \n",
      "[CV]  activation=logistic, alpha=10, hidden_layer_sizes=2, solver=adam, score=0.6149289099526066, total=   0.1s\n",
      "[CV] activation=logistic, alpha=10, hidden_layer_sizes=4, solver=lbfgs \n",
      "[CV]  activation=logistic, alpha=10, hidden_layer_sizes=4, solver=lbfgs, score=0.7242603550295857, total=   0.1s\n",
      "[CV] activation=logistic, alpha=10, hidden_layer_sizes=4, solver=lbfgs \n",
      "[CV]  activation=logistic, alpha=10, hidden_layer_sizes=4, solver=lbfgs, score=0.7301775147928994, total=   0.1s\n",
      "[CV] activation=logistic, alpha=10, hidden_layer_sizes=4, solver=lbfgs \n",
      "[CV]  activation=logistic, alpha=10, hidden_layer_sizes=4, solver=lbfgs, score=0.70260663507109, total=   0.1s\n",
      "[CV] activation=logistic, alpha=10, hidden_layer_sizes=4, solver=adam \n",
      "[CV]  activation=logistic, alpha=10, hidden_layer_sizes=4, solver=adam, score=0.5668639053254438, total=   0.1s\n",
      "[CV] activation=logistic, alpha=10, hidden_layer_sizes=4, solver=adam \n",
      "[CV]  activation=logistic, alpha=10, hidden_layer_sizes=4, solver=adam, score=0.5822485207100592, total=   0.1s\n",
      "[CV] activation=logistic, alpha=10, hidden_layer_sizes=4, solver=adam \n",
      "[CV]  activation=logistic, alpha=10, hidden_layer_sizes=4, solver=adam, score=0.5675355450236966, total=   0.1s\n",
      "[CV] activation=logistic, alpha=10, hidden_layer_sizes=8, solver=lbfgs \n",
      "[CV]  activation=logistic, alpha=10, hidden_layer_sizes=8, solver=lbfgs, score=0.7124260355029586, total=   0.2s\n",
      "[CV] activation=logistic, alpha=10, hidden_layer_sizes=8, solver=lbfgs \n",
      "[CV]  activation=logistic, alpha=10, hidden_layer_sizes=8, solver=lbfgs, score=0.749112426035503, total=   0.2s\n",
      "[CV] activation=logistic, alpha=10, hidden_layer_sizes=8, solver=lbfgs \n",
      "[CV]  activation=logistic, alpha=10, hidden_layer_sizes=8, solver=lbfgs, score=0.7049763033175356, total=   0.2s\n",
      "[CV] activation=logistic, alpha=10, hidden_layer_sizes=8, solver=adam \n",
      "[CV]  activation=logistic, alpha=10, hidden_layer_sizes=8, solver=adam, score=0.557396449704142, total=   0.2s\n",
      "[CV] activation=logistic, alpha=10, hidden_layer_sizes=8, solver=adam \n",
      "[CV]  activation=logistic, alpha=10, hidden_layer_sizes=8, solver=adam, score=0.5775147928994083, total=   0.2s\n",
      "[CV] activation=logistic, alpha=10, hidden_layer_sizes=8, solver=adam \n",
      "[CV]  activation=logistic, alpha=10, hidden_layer_sizes=8, solver=adam, score=0.590047393364929, total=   0.2s\n",
      "[CV] activation=logistic, alpha=10, hidden_layer_sizes=16, solver=lbfgs \n",
      "[CV]  activation=logistic, alpha=10, hidden_layer_sizes=16, solver=lbfgs, score=0.7136094674556213, total=   0.2s\n",
      "[CV] activation=logistic, alpha=10, hidden_layer_sizes=16, solver=lbfgs \n",
      "[CV]  activation=logistic, alpha=10, hidden_layer_sizes=16, solver=lbfgs, score=0.736094674556213, total=   0.2s\n",
      "[CV] activation=logistic, alpha=10, hidden_layer_sizes=16, solver=lbfgs \n",
      "[CV]  activation=logistic, alpha=10, hidden_layer_sizes=16, solver=lbfgs, score=0.7085308056872038, total=   0.2s\n",
      "[CV] activation=logistic, alpha=10, hidden_layer_sizes=16, solver=adam \n",
      "[CV]  activation=logistic, alpha=10, hidden_layer_sizes=16, solver=adam, score=0.6224852071005917, total=   0.2s\n",
      "[CV] activation=logistic, alpha=10, hidden_layer_sizes=16, solver=adam \n",
      "[CV]  activation=logistic, alpha=10, hidden_layer_sizes=16, solver=adam, score=0.6284023668639053, total=   0.2s\n",
      "[CV] activation=logistic, alpha=10, hidden_layer_sizes=16, solver=adam \n",
      "[CV]  activation=logistic, alpha=10, hidden_layer_sizes=16, solver=adam, score=0.6303317535545023, total=   0.2s\n",
      "[CV] activation=logistic, alpha=10, hidden_layer_sizes=32, solver=lbfgs \n",
      "[CV]  activation=logistic, alpha=10, hidden_layer_sizes=32, solver=lbfgs, score=0.7053254437869823, total=   0.3s\n",
      "[CV] activation=logistic, alpha=10, hidden_layer_sizes=32, solver=lbfgs \n",
      "[CV]  activation=logistic, alpha=10, hidden_layer_sizes=32, solver=lbfgs, score=0.7254437869822485, total=   0.5s\n",
      "[CV] activation=logistic, alpha=10, hidden_layer_sizes=32, solver=lbfgs \n",
      "[CV]  activation=logistic, alpha=10, hidden_layer_sizes=32, solver=lbfgs, score=0.7109004739336493, total=   0.4s\n",
      "[CV] activation=logistic, alpha=10, hidden_layer_sizes=32, solver=adam \n",
      "[CV]  activation=logistic, alpha=10, hidden_layer_sizes=32, solver=adam, score=0.6449704142011834, total=   0.4s\n",
      "[CV] activation=logistic, alpha=10, hidden_layer_sizes=32, solver=adam \n",
      "[CV]  activation=logistic, alpha=10, hidden_layer_sizes=32, solver=adam, score=0.6520710059171597, total=   0.2s\n",
      "[CV] activation=logistic, alpha=10, hidden_layer_sizes=32, solver=adam \n",
      "[CV]  activation=logistic, alpha=10, hidden_layer_sizes=32, solver=adam, score=0.6421800947867299, total=   0.2s\n",
      "[CV] activation=logistic, alpha=10, hidden_layer_sizes=64, solver=lbfgs \n",
      "[CV]  activation=logistic, alpha=10, hidden_layer_sizes=64, solver=lbfgs, score=0.7065088757396449, total=   0.6s\n",
      "[CV] activation=logistic, alpha=10, hidden_layer_sizes=64, solver=lbfgs \n"
     ]
    },
    {
     "name": "stdout",
     "output_type": "stream",
     "text": [
      "[CV]  activation=logistic, alpha=10, hidden_layer_sizes=64, solver=lbfgs, score=0.7171597633136094, total=   0.6s\n",
      "[CV] activation=logistic, alpha=10, hidden_layer_sizes=64, solver=lbfgs \n",
      "[CV]  activation=logistic, alpha=10, hidden_layer_sizes=64, solver=lbfgs, score=0.7049763033175356, total=   0.6s\n",
      "[CV] activation=logistic, alpha=10, hidden_layer_sizes=64, solver=adam \n",
      "[CV]  activation=logistic, alpha=10, hidden_layer_sizes=64, solver=adam, score=0.6497041420118344, total=   0.2s\n",
      "[CV] activation=logistic, alpha=10, hidden_layer_sizes=64, solver=adam \n",
      "[CV]  activation=logistic, alpha=10, hidden_layer_sizes=64, solver=adam, score=0.6792899408284023, total=   0.2s\n",
      "[CV] activation=logistic, alpha=10, hidden_layer_sizes=64, solver=adam \n",
      "[CV]  activation=logistic, alpha=10, hidden_layer_sizes=64, solver=adam, score=0.6670616113744076, total=   0.2s\n",
      "Best score: 0.9163378058405682\n",
      "Best parameter set: {'activation': 'logistic', 'alpha': 0.01, 'hidden_layer_sizes': 4, 'solver': 'lbfgs'}\n"
     ]
    },
    {
     "name": "stderr",
     "output_type": "stream",
     "text": [
      "[Parallel(n_jobs=1)]: Done 216 out of 216 | elapsed:  1.6min finished\n"
     ]
    }
   ],
   "source": [
    "param_grid = {'hidden_layer_sizes': [2, 4, 8, 16, 32, 64],\n",
    "              'alpha': [0.0001, 0.001,0.01,0.1,1,10],\n",
    "              'solver' : ['lbfgs', 'adam'],\n",
    "              'activation': ['logistic']}\n",
    "\n",
    "neural_network_model = GridSearchCV(MLPClassifier(random_state=0),param_grid,refit=True,verbose=4)\n",
    "neural_network_model = neural_network_model.fit(X_train, y_train)\n",
    "print(\"Best score: %s\" % (neural_network_model.best_score_))\n",
    "print(\"Best parameter set: %s\" % (neural_network_model.best_params_))"
   ]
  },
  {
   "cell_type": "code",
   "execution_count": 75,
   "metadata": {},
   "outputs": [
    {
     "name": "stdout",
     "output_type": "stream",
     "text": [
      "Neural Network CV Accuracy: 87.04% (+/- 18.04%)\n"
     ]
    }
   ],
   "source": [
    "neural_network_model = MLPClassifier(activation='logistic', solver='lbfgs', alpha=0.01, hidden_layer_sizes=4, random_state=0)\n",
    "neural_network_scores = cross_val_score(neural_network_model, X, y, cv=10)\n",
    "print(\"Neural Network CV Accuracy: %0.2f%% (+/- %0.2f%%)\" % (neural_network_scores.mean()*100, neural_network_scores.std() * 2*100))"
   ]
  },
  {
   "cell_type": "markdown",
   "metadata": {},
   "source": [
    "## Boosted Trees\n",
    "\n",
    "### AdaBoost Tree"
   ]
  },
  {
   "cell_type": "code",
   "execution_count": 79,
   "metadata": {
    "scrolled": true
   },
   "outputs": [
    {
     "name": "stdout",
     "output_type": "stream",
     "text": [
      "Fitting 3 folds for each of 9 candidates, totalling 27 fits\n",
      "[CV] n_estimators=10 .................................................\n",
      "[CV] ........ n_estimators=10, score=0.9633136094674556, total=   0.1s\n",
      "[CV] n_estimators=10 .................................................\n",
      "[CV] ........ n_estimators=10, score=0.9680473372781065, total=   0.1s\n",
      "[CV] n_estimators=10 .................................................\n"
     ]
    },
    {
     "name": "stderr",
     "output_type": "stream",
     "text": [
      "[Parallel(n_jobs=1)]: Done   1 out of   1 | elapsed:    0.1s remaining:    0.0s\n",
      "[Parallel(n_jobs=1)]: Done   2 out of   2 | elapsed:    0.2s remaining:    0.0s\n",
      "[Parallel(n_jobs=1)]: Done   3 out of   3 | elapsed:    0.3s remaining:    0.0s\n"
     ]
    },
    {
     "name": "stdout",
     "output_type": "stream",
     "text": [
      "[CV] ........ n_estimators=10, score=0.9644549763033176, total=   0.1s\n",
      "[CV] n_estimators=50 .................................................\n",
      "[CV] ........ n_estimators=50, score=0.9727810650887574, total=   0.3s\n",
      "[CV] n_estimators=50 .................................................\n",
      "[CV] ......... n_estimators=50, score=0.978698224852071, total=   0.4s\n",
      "[CV] n_estimators=50 .................................................\n",
      "[CV] ........ n_estimators=50, score=0.9715639810426541, total=   0.4s\n",
      "[CV] n_estimators=100 ................................................\n",
      "[CV] ....... n_estimators=100, score=0.9775147928994082, total=   0.6s\n",
      "[CV] n_estimators=100 ................................................\n",
      "[CV] ....... n_estimators=100, score=0.9810650887573964, total=   0.6s\n",
      "[CV] n_estimators=100 ................................................\n",
      "[CV] ....... n_estimators=100, score=0.9774881516587678, total=   0.5s\n",
      "[CV] n_estimators=150 ................................................\n",
      "[CV] ....... n_estimators=150, score=0.9775147928994082, total=   0.8s\n",
      "[CV] n_estimators=150 ................................................\n",
      "[CV] ....... n_estimators=150, score=0.9822485207100592, total=   0.8s\n",
      "[CV] n_estimators=150 ................................................\n",
      "[CV] ....... n_estimators=150, score=0.9774881516587678, total=   0.8s\n",
      "[CV] n_estimators=200 ................................................\n",
      "[CV] ....... n_estimators=200, score=0.9775147928994082, total=   1.2s\n",
      "[CV] n_estimators=200 ................................................\n",
      "[CV] ....... n_estimators=200, score=0.9834319526627219, total=   1.2s\n",
      "[CV] n_estimators=200 ................................................\n",
      "[CV] ....... n_estimators=200, score=0.9798578199052133, total=   1.1s\n",
      "[CV] n_estimators=250 ................................................\n",
      "[CV] ........ n_estimators=250, score=0.978698224852071, total=   1.4s\n",
      "[CV] n_estimators=250 ................................................\n",
      "[CV] ....... n_estimators=250, score=0.9822485207100592, total=   1.5s\n",
      "[CV] n_estimators=250 ................................................\n",
      "[CV] ........ n_estimators=250, score=0.981042654028436, total=   1.4s\n",
      "[CV] n_estimators=300 ................................................\n",
      "[CV] ........ n_estimators=300, score=0.978698224852071, total=   1.7s\n",
      "[CV] n_estimators=300 ................................................\n",
      "[CV] ....... n_estimators=300, score=0.9822485207100592, total=   1.6s\n",
      "[CV] n_estimators=300 ................................................\n",
      "[CV] ........ n_estimators=300, score=0.981042654028436, total=   1.7s\n",
      "[CV] n_estimators=350 ................................................\n",
      "[CV] ....... n_estimators=350, score=0.9798816568047337, total=   1.9s\n",
      "[CV] n_estimators=350 ................................................\n",
      "[CV] ....... n_estimators=350, score=0.9834319526627219, total=   2.0s\n",
      "[CV] n_estimators=350 ................................................\n",
      "[CV] ........ n_estimators=350, score=0.981042654028436, total=   2.0s\n",
      "[CV] n_estimators=400 ................................................\n",
      "[CV] ........ n_estimators=400, score=0.978698224852071, total=   2.2s\n",
      "[CV] n_estimators=400 ................................................\n",
      "[CV] ......... n_estimators=400, score=0.98698224852071, total=   2.3s\n",
      "[CV] n_estimators=400 ................................................\n",
      "[CV] ....... n_estimators=400, score=0.9798578199052133, total=   2.2s\n"
     ]
    },
    {
     "name": "stderr",
     "output_type": "stream",
     "text": [
      "[Parallel(n_jobs=1)]: Done  27 out of  27 | elapsed:   32.2s finished\n"
     ]
    },
    {
     "name": "stdout",
     "output_type": "stream",
     "text": [
      "Best score: 0.9818468823993686\n",
      "Best parameter set: {'n_estimators': 400}\n"
     ]
    }
   ],
   "source": [
    "param_grid = {'n_estimators': [10,50,100,150,200,250,300,350,400]}\n",
    "adaboost_model = GridSearchCV(AdaBoostClassifier(),param_grid,refit=True,verbose=4)\n",
    "adaboost_model = adaboost_model.fit(X_train, y_train)\n",
    "print(\"Best score: %s\" % (adaboost_model.best_score_))\n",
    "print(\"Best parameter set: %s\" % (adaboost_model.best_params_))"
   ]
  },
  {
   "cell_type": "code",
   "execution_count": 81,
   "metadata": {},
   "outputs": [
    {
     "name": "stdout",
     "output_type": "stream",
     "text": [
      "AdaBoost Tree CV Accuracy: 96.06% (+/- 6.21%)\n"
     ]
    }
   ],
   "source": [
    "adaboost_model = AdaBoostClassifier(n_estimators=200)\n",
    "adaboost_model_scores = cross_val_score(adaboost_model, X, y, cv=10)\n",
    "print(\"AdaBoost Tree CV Accuracy: %0.2f%% (+/- %0.2f%%)\" % (adaboost_model_scores.mean()*100, adaboost_model_scores.std() * 2*100))"
   ]
  },
  {
   "cell_type": "markdown",
   "metadata": {},
   "source": [
    "### Gradient Boosted Tree"
   ]
  },
  {
   "cell_type": "code",
   "execution_count": 83,
   "metadata": {
    "scrolled": true
   },
   "outputs": [
    {
     "name": "stdout",
     "output_type": "stream",
     "text": [
      "Fitting 3 folds for each of 225 candidates, totalling 675 fits\n",
      "[CV] learning_rate=0.001, max_depth=1, n_estimators=10 ...............\n",
      "[CV]  learning_rate=0.001, max_depth=1, n_estimators=10, score=0.9562130177514793, total=   0.0s\n",
      "[CV] learning_rate=0.001, max_depth=1, n_estimators=10 ...............\n",
      "[CV]  learning_rate=0.001, max_depth=1, n_estimators=10, score=0.9538461538461539, total=   0.0s\n",
      "[CV] learning_rate=0.001, max_depth=1, n_estimators=10 ...............\n",
      "[CV]  learning_rate=0.001, max_depth=1, n_estimators=10, score=0.9490521327014217, total=   0.0s\n",
      "[CV] learning_rate=0.001, max_depth=1, n_estimators=50 ...............\n",
      "[CV]  learning_rate=0.001, max_depth=1, n_estimators=50, score=0.9562130177514793, total=   0.1s\n",
      "[CV] learning_rate=0.001, max_depth=1, n_estimators=50 ...............\n"
     ]
    },
    {
     "name": "stderr",
     "output_type": "stream",
     "text": [
      "[Parallel(n_jobs=1)]: Done   1 out of   1 | elapsed:    0.0s remaining:    0.0s\n",
      "[Parallel(n_jobs=1)]: Done   2 out of   2 | elapsed:    0.1s remaining:    0.0s\n",
      "[Parallel(n_jobs=1)]: Done   3 out of   3 | elapsed:    0.1s remaining:    0.0s\n"
     ]
    },
    {
     "name": "stdout",
     "output_type": "stream",
     "text": [
      "[CV]  learning_rate=0.001, max_depth=1, n_estimators=50, score=0.9538461538461539, total=   0.1s\n",
      "[CV] learning_rate=0.001, max_depth=1, n_estimators=50 ...............\n",
      "[CV]  learning_rate=0.001, max_depth=1, n_estimators=50, score=0.9490521327014217, total=   0.1s\n",
      "[CV] learning_rate=0.001, max_depth=1, n_estimators=100 ..............\n",
      "[CV]  learning_rate=0.001, max_depth=1, n_estimators=100, score=0.9562130177514793, total=   0.1s\n",
      "[CV] learning_rate=0.001, max_depth=1, n_estimators=100 ..............\n",
      "[CV]  learning_rate=0.001, max_depth=1, n_estimators=100, score=0.9538461538461539, total=   0.1s\n",
      "[CV] learning_rate=0.001, max_depth=1, n_estimators=100 ..............\n",
      "[CV]  learning_rate=0.001, max_depth=1, n_estimators=100, score=0.9490521327014217, total=   0.1s\n",
      "[CV] learning_rate=0.001, max_depth=1, n_estimators=150 ..............\n",
      "[CV]  learning_rate=0.001, max_depth=1, n_estimators=150, score=0.9562130177514793, total=   0.2s\n",
      "[CV] learning_rate=0.001, max_depth=1, n_estimators=150 ..............\n",
      "[CV]  learning_rate=0.001, max_depth=1, n_estimators=150, score=0.9538461538461539, total=   0.3s\n",
      "[CV] learning_rate=0.001, max_depth=1, n_estimators=150 ..............\n",
      "[CV]  learning_rate=0.001, max_depth=1, n_estimators=150, score=0.9490521327014217, total=   0.2s\n",
      "[CV] learning_rate=0.001, max_depth=1, n_estimators=200 ..............\n",
      "[CV]  learning_rate=0.001, max_depth=1, n_estimators=200, score=0.9562130177514793, total=   0.2s\n",
      "[CV] learning_rate=0.001, max_depth=1, n_estimators=200 ..............\n",
      "[CV]  learning_rate=0.001, max_depth=1, n_estimators=200, score=0.9538461538461539, total=   0.3s\n",
      "[CV] learning_rate=0.001, max_depth=1, n_estimators=200 ..............\n",
      "[CV]  learning_rate=0.001, max_depth=1, n_estimators=200, score=0.9490521327014217, total=   0.2s\n",
      "[CV] learning_rate=0.001, max_depth=1, n_estimators=250 ..............\n",
      "[CV]  learning_rate=0.001, max_depth=1, n_estimators=250, score=0.9562130177514793, total=   0.3s\n",
      "[CV] learning_rate=0.001, max_depth=1, n_estimators=250 ..............\n",
      "[CV]  learning_rate=0.001, max_depth=1, n_estimators=250, score=0.9538461538461539, total=   0.3s\n",
      "[CV] learning_rate=0.001, max_depth=1, n_estimators=250 ..............\n",
      "[CV]  learning_rate=0.001, max_depth=1, n_estimators=250, score=0.9490521327014217, total=   0.3s\n",
      "[CV] learning_rate=0.001, max_depth=1, n_estimators=300 ..............\n",
      "[CV]  learning_rate=0.001, max_depth=1, n_estimators=300, score=0.9562130177514793, total=   0.3s\n",
      "[CV] learning_rate=0.001, max_depth=1, n_estimators=300 ..............\n",
      "[CV]  learning_rate=0.001, max_depth=1, n_estimators=300, score=0.9538461538461539, total=   0.4s\n",
      "[CV] learning_rate=0.001, max_depth=1, n_estimators=300 ..............\n",
      "[CV]  learning_rate=0.001, max_depth=1, n_estimators=300, score=0.9490521327014217, total=   0.4s\n",
      "[CV] learning_rate=0.001, max_depth=1, n_estimators=350 ..............\n",
      "[CV]  learning_rate=0.001, max_depth=1, n_estimators=350, score=0.9562130177514793, total=   0.4s\n",
      "[CV] learning_rate=0.001, max_depth=1, n_estimators=350 ..............\n",
      "[CV]  learning_rate=0.001, max_depth=1, n_estimators=350, score=0.9538461538461539, total=   0.4s\n",
      "[CV] learning_rate=0.001, max_depth=1, n_estimators=350 ..............\n",
      "[CV]  learning_rate=0.001, max_depth=1, n_estimators=350, score=0.9490521327014217, total=   0.4s\n",
      "[CV] learning_rate=0.001, max_depth=1, n_estimators=400 ..............\n",
      "[CV]  learning_rate=0.001, max_depth=1, n_estimators=400, score=0.9562130177514793, total=   0.4s\n",
      "[CV] learning_rate=0.001, max_depth=1, n_estimators=400 ..............\n",
      "[CV]  learning_rate=0.001, max_depth=1, n_estimators=400, score=0.9538461538461539, total=   0.4s\n",
      "[CV] learning_rate=0.001, max_depth=1, n_estimators=400 ..............\n",
      "[CV]  learning_rate=0.001, max_depth=1, n_estimators=400, score=0.9490521327014217, total=   0.4s\n",
      "[CV] learning_rate=0.001, max_depth=2, n_estimators=10 ...............\n",
      "[CV]  learning_rate=0.001, max_depth=2, n_estimators=10, score=0.9491124260355029, total=   0.0s\n",
      "[CV] learning_rate=0.001, max_depth=2, n_estimators=10 ...............\n",
      "[CV]  learning_rate=0.001, max_depth=2, n_estimators=10, score=0.9656804733727811, total=   0.0s\n",
      "[CV] learning_rate=0.001, max_depth=2, n_estimators=10 ...............\n",
      "[CV]  learning_rate=0.001, max_depth=2, n_estimators=10, score=0.9597156398104265, total=   0.0s\n",
      "[CV] learning_rate=0.001, max_depth=2, n_estimators=50 ...............\n",
      "[CV]  learning_rate=0.001, max_depth=2, n_estimators=50, score=0.9491124260355029, total=   0.1s\n",
      "[CV] learning_rate=0.001, max_depth=2, n_estimators=50 ...............\n",
      "[CV]  learning_rate=0.001, max_depth=2, n_estimators=50, score=0.9656804733727811, total=   0.1s\n",
      "[CV] learning_rate=0.001, max_depth=2, n_estimators=50 ...............\n",
      "[CV]  learning_rate=0.001, max_depth=2, n_estimators=50, score=0.9597156398104265, total=   0.1s\n",
      "[CV] learning_rate=0.001, max_depth=2, n_estimators=100 ..............\n",
      "[CV]  learning_rate=0.001, max_depth=2, n_estimators=100, score=0.9491124260355029, total=   0.2s\n",
      "[CV] learning_rate=0.001, max_depth=2, n_estimators=100 ..............\n",
      "[CV]  learning_rate=0.001, max_depth=2, n_estimators=100, score=0.9656804733727811, total=   0.2s\n",
      "[CV] learning_rate=0.001, max_depth=2, n_estimators=100 ..............\n",
      "[CV]  learning_rate=0.001, max_depth=2, n_estimators=100, score=0.9597156398104265, total=   0.2s\n",
      "[CV] learning_rate=0.001, max_depth=2, n_estimators=150 ..............\n",
      "[CV]  learning_rate=0.001, max_depth=2, n_estimators=150, score=0.9491124260355029, total=   0.3s\n",
      "[CV] learning_rate=0.001, max_depth=2, n_estimators=150 ..............\n",
      "[CV]  learning_rate=0.001, max_depth=2, n_estimators=150, score=0.9656804733727811, total=   0.3s\n",
      "[CV] learning_rate=0.001, max_depth=2, n_estimators=150 ..............\n",
      "[CV]  learning_rate=0.001, max_depth=2, n_estimators=150, score=0.9597156398104265, total=   0.4s\n",
      "[CV] learning_rate=0.001, max_depth=2, n_estimators=200 ..............\n",
      "[CV]  learning_rate=0.001, max_depth=2, n_estimators=200, score=0.9491124260355029, total=   0.6s\n",
      "[CV] learning_rate=0.001, max_depth=2, n_estimators=200 ..............\n",
      "[CV]  learning_rate=0.001, max_depth=2, n_estimators=200, score=0.9656804733727811, total=   0.6s\n",
      "[CV] learning_rate=0.001, max_depth=2, n_estimators=200 ..............\n",
      "[CV]  learning_rate=0.001, max_depth=2, n_estimators=200, score=0.9597156398104265, total=   0.4s\n",
      "[CV] learning_rate=0.001, max_depth=2, n_estimators=250 ..............\n",
      "[CV]  learning_rate=0.001, max_depth=2, n_estimators=250, score=0.9491124260355029, total=   0.6s\n",
      "[CV] learning_rate=0.001, max_depth=2, n_estimators=250 ..............\n",
      "[CV]  learning_rate=0.001, max_depth=2, n_estimators=250, score=0.9656804733727811, total=   0.6s\n",
      "[CV] learning_rate=0.001, max_depth=2, n_estimators=250 ..............\n",
      "[CV]  learning_rate=0.001, max_depth=2, n_estimators=250, score=0.9597156398104265, total=   0.5s\n",
      "[CV] learning_rate=0.001, max_depth=2, n_estimators=300 ..............\n",
      "[CV]  learning_rate=0.001, max_depth=2, n_estimators=300, score=0.9502958579881656, total=   0.7s\n",
      "[CV] learning_rate=0.001, max_depth=2, n_estimators=300 ..............\n",
      "[CV]  learning_rate=0.001, max_depth=2, n_estimators=300, score=0.9656804733727811, total=   0.6s\n",
      "[CV] learning_rate=0.001, max_depth=2, n_estimators=300 ..............\n",
      "[CV]  learning_rate=0.001, max_depth=2, n_estimators=300, score=0.9597156398104265, total=   0.6s\n",
      "[CV] learning_rate=0.001, max_depth=2, n_estimators=350 ..............\n",
      "[CV]  learning_rate=0.001, max_depth=2, n_estimators=350, score=0.9502958579881656, total=   0.7s\n",
      "[CV] learning_rate=0.001, max_depth=2, n_estimators=350 ..............\n",
      "[CV]  learning_rate=0.001, max_depth=2, n_estimators=350, score=0.9715976331360947, total=   0.8s\n",
      "[CV] learning_rate=0.001, max_depth=2, n_estimators=350 ..............\n",
      "[CV]  learning_rate=0.001, max_depth=2, n_estimators=350, score=0.9597156398104265, total=   0.7s\n",
      "[CV] learning_rate=0.001, max_depth=2, n_estimators=400 ..............\n",
      "[CV]  learning_rate=0.001, max_depth=2, n_estimators=400, score=0.9502958579881656, total=   0.8s\n",
      "[CV] learning_rate=0.001, max_depth=2, n_estimators=400 ..............\n",
      "[CV]  learning_rate=0.001, max_depth=2, n_estimators=400, score=0.9715976331360947, total=   0.8s\n",
      "[CV] learning_rate=0.001, max_depth=2, n_estimators=400 ..............\n"
     ]
    },
    {
     "name": "stdout",
     "output_type": "stream",
     "text": [
      "[CV]  learning_rate=0.001, max_depth=2, n_estimators=400, score=0.9597156398104265, total=   0.9s\n",
      "[CV] learning_rate=0.001, max_depth=3, n_estimators=10 ...............\n",
      "[CV]  learning_rate=0.001, max_depth=3, n_estimators=10, score=0.9644970414201184, total=   0.0s\n",
      "[CV] learning_rate=0.001, max_depth=3, n_estimators=10 ...............\n",
      "[CV]  learning_rate=0.001, max_depth=3, n_estimators=10, score=0.9313609467455621, total=   0.0s\n",
      "[CV] learning_rate=0.001, max_depth=3, n_estimators=10 ...............\n",
      "[CV]  learning_rate=0.001, max_depth=3, n_estimators=10, score=0.9443127962085308, total=   0.0s\n",
      "[CV] learning_rate=0.001, max_depth=3, n_estimators=50 ...............\n",
      "[CV]  learning_rate=0.001, max_depth=3, n_estimators=50, score=0.9609467455621302, total=   0.2s\n",
      "[CV] learning_rate=0.001, max_depth=3, n_estimators=50 ...............\n",
      "[CV]  learning_rate=0.001, max_depth=3, n_estimators=50, score=0.9739644970414201, total=   0.2s\n",
      "[CV] learning_rate=0.001, max_depth=3, n_estimators=50 ...............\n",
      "[CV]  learning_rate=0.001, max_depth=3, n_estimators=50, score=0.9632701421800948, total=   0.2s\n",
      "[CV] learning_rate=0.001, max_depth=3, n_estimators=100 ..............\n",
      "[CV]  learning_rate=0.001, max_depth=3, n_estimators=100, score=0.9609467455621302, total=   0.3s\n",
      "[CV] learning_rate=0.001, max_depth=3, n_estimators=100 ..............\n",
      "[CV]  learning_rate=0.001, max_depth=3, n_estimators=100, score=0.9739644970414201, total=   0.4s\n",
      "[CV] learning_rate=0.001, max_depth=3, n_estimators=100 ..............\n",
      "[CV]  learning_rate=0.001, max_depth=3, n_estimators=100, score=0.9632701421800948, total=   0.3s\n",
      "[CV] learning_rate=0.001, max_depth=3, n_estimators=150 ..............\n",
      "[CV]  learning_rate=0.001, max_depth=3, n_estimators=150, score=0.9609467455621302, total=   0.5s\n",
      "[CV] learning_rate=0.001, max_depth=3, n_estimators=150 ..............\n",
      "[CV]  learning_rate=0.001, max_depth=3, n_estimators=150, score=0.9739644970414201, total=   0.5s\n",
      "[CV] learning_rate=0.001, max_depth=3, n_estimators=150 ..............\n",
      "[CV]  learning_rate=0.001, max_depth=3, n_estimators=150, score=0.9656398104265402, total=   0.5s\n",
      "[CV] learning_rate=0.001, max_depth=3, n_estimators=200 ..............\n",
      "[CV]  learning_rate=0.001, max_depth=3, n_estimators=200, score=0.9609467455621302, total=   0.8s\n",
      "[CV] learning_rate=0.001, max_depth=3, n_estimators=200 ..............\n",
      "[CV]  learning_rate=0.001, max_depth=3, n_estimators=200, score=0.9739644970414201, total=   0.8s\n",
      "[CV] learning_rate=0.001, max_depth=3, n_estimators=200 ..............\n",
      "[CV]  learning_rate=0.001, max_depth=3, n_estimators=200, score=0.966824644549763, total=   0.7s\n",
      "[CV] learning_rate=0.001, max_depth=3, n_estimators=250 ..............\n",
      "[CV]  learning_rate=0.001, max_depth=3, n_estimators=250, score=0.9609467455621302, total=   0.8s\n",
      "[CV] learning_rate=0.001, max_depth=3, n_estimators=250 ..............\n",
      "[CV]  learning_rate=0.001, max_depth=3, n_estimators=250, score=0.9739644970414201, total=   0.9s\n",
      "[CV] learning_rate=0.001, max_depth=3, n_estimators=250 ..............\n",
      "[CV]  learning_rate=0.001, max_depth=3, n_estimators=250, score=0.9680094786729858, total=   0.9s\n",
      "[CV] learning_rate=0.001, max_depth=3, n_estimators=300 ..............\n",
      "[CV]  learning_rate=0.001, max_depth=3, n_estimators=300, score=0.9609467455621302, total=   1.0s\n",
      "[CV] learning_rate=0.001, max_depth=3, n_estimators=300 ..............\n",
      "[CV]  learning_rate=0.001, max_depth=3, n_estimators=300, score=0.978698224852071, total=   1.0s\n",
      "[CV] learning_rate=0.001, max_depth=3, n_estimators=300 ..............\n",
      "[CV]  learning_rate=0.001, max_depth=3, n_estimators=300, score=0.9680094786729858, total=   1.0s\n",
      "[CV] learning_rate=0.001, max_depth=3, n_estimators=350 ..............\n",
      "[CV]  learning_rate=0.001, max_depth=3, n_estimators=350, score=0.9609467455621302, total=   1.3s\n",
      "[CV] learning_rate=0.001, max_depth=3, n_estimators=350 ..............\n",
      "[CV]  learning_rate=0.001, max_depth=3, n_estimators=350, score=0.978698224852071, total=   1.2s\n",
      "[CV] learning_rate=0.001, max_depth=3, n_estimators=350 ..............\n",
      "[CV]  learning_rate=0.001, max_depth=3, n_estimators=350, score=0.9680094786729858, total=   1.2s\n",
      "[CV] learning_rate=0.001, max_depth=3, n_estimators=400 ..............\n",
      "[CV]  learning_rate=0.001, max_depth=3, n_estimators=400, score=0.9609467455621302, total=   1.3s\n",
      "[CV] learning_rate=0.001, max_depth=3, n_estimators=400 ..............\n",
      "[CV]  learning_rate=0.001, max_depth=3, n_estimators=400, score=0.978698224852071, total=   1.4s\n",
      "[CV] learning_rate=0.001, max_depth=3, n_estimators=400 ..............\n",
      "[CV]  learning_rate=0.001, max_depth=3, n_estimators=400, score=0.9691943127962085, total=   1.3s\n",
      "[CV] learning_rate=0.001, max_depth=4, n_estimators=10 ...............\n",
      "[CV]  learning_rate=0.001, max_depth=4, n_estimators=10, score=0.9656804733727811, total=   0.0s\n",
      "[CV] learning_rate=0.001, max_depth=4, n_estimators=10 ...............\n",
      "[CV]  learning_rate=0.001, max_depth=4, n_estimators=10, score=0.9704142011834319, total=   0.0s\n",
      "[CV] learning_rate=0.001, max_depth=4, n_estimators=10 ...............\n",
      "[CV]  learning_rate=0.001, max_depth=4, n_estimators=10, score=0.9561611374407583, total=   0.1s\n",
      "[CV] learning_rate=0.001, max_depth=4, n_estimators=50 ...............\n",
      "[CV]  learning_rate=0.001, max_depth=4, n_estimators=50, score=0.9656804733727811, total=   0.2s\n",
      "[CV] learning_rate=0.001, max_depth=4, n_estimators=50 ...............\n",
      "[CV]  learning_rate=0.001, max_depth=4, n_estimators=50, score=0.978698224852071, total=   0.2s\n",
      "[CV] learning_rate=0.001, max_depth=4, n_estimators=50 ...............\n",
      "[CV]  learning_rate=0.001, max_depth=4, n_estimators=50, score=0.9597156398104265, total=   0.2s\n",
      "[CV] learning_rate=0.001, max_depth=4, n_estimators=100 ..............\n",
      "[CV]  learning_rate=0.001, max_depth=4, n_estimators=100, score=0.9656804733727811, total=   0.4s\n",
      "[CV] learning_rate=0.001, max_depth=4, n_estimators=100 ..............\n",
      "[CV]  learning_rate=0.001, max_depth=4, n_estimators=100, score=0.978698224852071, total=   0.5s\n",
      "[CV] learning_rate=0.001, max_depth=4, n_estimators=100 ..............\n",
      "[CV]  learning_rate=0.001, max_depth=4, n_estimators=100, score=0.9597156398104265, total=   0.5s\n",
      "[CV] learning_rate=0.001, max_depth=4, n_estimators=150 ..............\n",
      "[CV]  learning_rate=0.001, max_depth=4, n_estimators=150, score=0.9656804733727811, total=   0.7s\n",
      "[CV] learning_rate=0.001, max_depth=4, n_estimators=150 ..............\n",
      "[CV]  learning_rate=0.001, max_depth=4, n_estimators=150, score=0.978698224852071, total=   0.7s\n",
      "[CV] learning_rate=0.001, max_depth=4, n_estimators=150 ..............\n",
      "[CV]  learning_rate=0.001, max_depth=4, n_estimators=150, score=0.9597156398104265, total=   0.8s\n",
      "[CV] learning_rate=0.001, max_depth=4, n_estimators=200 ..............\n",
      "[CV]  learning_rate=0.001, max_depth=4, n_estimators=200, score=0.9656804733727811, total=   0.9s\n",
      "[CV] learning_rate=0.001, max_depth=4, n_estimators=200 ..............\n",
      "[CV]  learning_rate=0.001, max_depth=4, n_estimators=200, score=0.978698224852071, total=   0.9s\n",
      "[CV] learning_rate=0.001, max_depth=4, n_estimators=200 ..............\n",
      "[CV]  learning_rate=0.001, max_depth=4, n_estimators=200, score=0.9597156398104265, total=   0.9s\n",
      "[CV] learning_rate=0.001, max_depth=4, n_estimators=250 ..............\n",
      "[CV]  learning_rate=0.001, max_depth=4, n_estimators=250, score=0.9656804733727811, total=   1.1s\n",
      "[CV] learning_rate=0.001, max_depth=4, n_estimators=250 ..............\n",
      "[CV]  learning_rate=0.001, max_depth=4, n_estimators=250, score=0.978698224852071, total=   1.2s\n",
      "[CV] learning_rate=0.001, max_depth=4, n_estimators=250 ..............\n",
      "[CV]  learning_rate=0.001, max_depth=4, n_estimators=250, score=0.9644549763033176, total=   1.1s\n",
      "[CV] learning_rate=0.001, max_depth=4, n_estimators=300 ..............\n",
      "[CV]  learning_rate=0.001, max_depth=4, n_estimators=300, score=0.9656804733727811, total=   1.3s\n",
      "[CV] learning_rate=0.001, max_depth=4, n_estimators=300 ..............\n",
      "[CV]  learning_rate=0.001, max_depth=4, n_estimators=300, score=0.978698224852071, total=   1.4s\n",
      "[CV] learning_rate=0.001, max_depth=4, n_estimators=300 ..............\n",
      "[CV]  learning_rate=0.001, max_depth=4, n_estimators=300, score=0.9632701421800948, total=   1.5s\n",
      "[CV] learning_rate=0.001, max_depth=4, n_estimators=350 ..............\n"
     ]
    },
    {
     "name": "stdout",
     "output_type": "stream",
     "text": [
      "[CV]  learning_rate=0.001, max_depth=4, n_estimators=350, score=0.9656804733727811, total=   1.5s\n",
      "[CV] learning_rate=0.001, max_depth=4, n_estimators=350 ..............\n",
      "[CV]  learning_rate=0.001, max_depth=4, n_estimators=350, score=0.978698224852071, total=   1.7s\n",
      "[CV] learning_rate=0.001, max_depth=4, n_estimators=350 ..............\n",
      "[CV]  learning_rate=0.001, max_depth=4, n_estimators=350, score=0.9644549763033176, total=   1.6s\n",
      "[CV] learning_rate=0.001, max_depth=4, n_estimators=400 ..............\n",
      "[CV]  learning_rate=0.001, max_depth=4, n_estimators=400, score=0.9656804733727811, total=   1.9s\n",
      "[CV] learning_rate=0.001, max_depth=4, n_estimators=400 ..............\n",
      "[CV]  learning_rate=0.001, max_depth=4, n_estimators=400, score=0.978698224852071, total=   1.9s\n",
      "[CV] learning_rate=0.001, max_depth=4, n_estimators=400 ..............\n",
      "[CV]  learning_rate=0.001, max_depth=4, n_estimators=400, score=0.9632701421800948, total=   1.8s\n",
      "[CV] learning_rate=0.001, max_depth=5, n_estimators=10 ...............\n",
      "[CV]  learning_rate=0.001, max_depth=5, n_estimators=10, score=0.9633136094674556, total=   0.1s\n",
      "[CV] learning_rate=0.001, max_depth=5, n_estimators=10 ...............\n",
      "[CV]  learning_rate=0.001, max_depth=5, n_estimators=10, score=0.9739644970414201, total=   0.1s\n",
      "[CV] learning_rate=0.001, max_depth=5, n_estimators=10 ...............\n",
      "[CV]  learning_rate=0.001, max_depth=5, n_estimators=10, score=0.9561611374407583, total=   0.1s\n",
      "[CV] learning_rate=0.001, max_depth=5, n_estimators=50 ...............\n",
      "[CV]  learning_rate=0.001, max_depth=5, n_estimators=50, score=0.9668639053254438, total=   0.4s\n",
      "[CV] learning_rate=0.001, max_depth=5, n_estimators=50 ...............\n",
      "[CV]  learning_rate=0.001, max_depth=5, n_estimators=50, score=0.9775147928994082, total=   0.4s\n",
      "[CV] learning_rate=0.001, max_depth=5, n_estimators=50 ...............\n",
      "[CV]  learning_rate=0.001, max_depth=5, n_estimators=50, score=0.9585308056872038, total=   0.4s\n",
      "[CV] learning_rate=0.001, max_depth=5, n_estimators=100 ..............\n",
      "[CV]  learning_rate=0.001, max_depth=5, n_estimators=100, score=0.9680473372781065, total=   0.6s\n",
      "[CV] learning_rate=0.001, max_depth=5, n_estimators=100 ..............\n",
      "[CV]  learning_rate=0.001, max_depth=5, n_estimators=100, score=0.9798816568047337, total=   0.6s\n",
      "[CV] learning_rate=0.001, max_depth=5, n_estimators=100 ..............\n",
      "[CV]  learning_rate=0.001, max_depth=5, n_estimators=100, score=0.9597156398104265, total=   0.6s\n",
      "[CV] learning_rate=0.001, max_depth=5, n_estimators=150 ..............\n",
      "[CV]  learning_rate=0.001, max_depth=5, n_estimators=150, score=0.9680473372781065, total=   0.8s\n",
      "[CV] learning_rate=0.001, max_depth=5, n_estimators=150 ..............\n",
      "[CV]  learning_rate=0.001, max_depth=5, n_estimators=150, score=0.9798816568047337, total=   1.0s\n",
      "[CV] learning_rate=0.001, max_depth=5, n_estimators=150 ..............\n",
      "[CV]  learning_rate=0.001, max_depth=5, n_estimators=150, score=0.9597156398104265, total=   1.0s\n",
      "[CV] learning_rate=0.001, max_depth=5, n_estimators=200 ..............\n",
      "[CV]  learning_rate=0.001, max_depth=5, n_estimators=200, score=0.9680473372781065, total=   1.1s\n",
      "[CV] learning_rate=0.001, max_depth=5, n_estimators=200 ..............\n",
      "[CV]  learning_rate=0.001, max_depth=5, n_estimators=200, score=0.9798816568047337, total=   1.2s\n",
      "[CV] learning_rate=0.001, max_depth=5, n_estimators=200 ..............\n",
      "[CV]  learning_rate=0.001, max_depth=5, n_estimators=200, score=0.9609004739336493, total=   1.2s\n",
      "[CV] learning_rate=0.001, max_depth=5, n_estimators=250 ..............\n",
      "[CV]  learning_rate=0.001, max_depth=5, n_estimators=250, score=0.9680473372781065, total=   1.3s\n",
      "[CV] learning_rate=0.001, max_depth=5, n_estimators=250 ..............\n",
      "[CV]  learning_rate=0.001, max_depth=5, n_estimators=250, score=0.9763313609467456, total=   1.4s\n",
      "[CV] learning_rate=0.001, max_depth=5, n_estimators=250 ..............\n",
      "[CV]  learning_rate=0.001, max_depth=5, n_estimators=250, score=0.9597156398104265, total=   1.4s\n",
      "[CV] learning_rate=0.001, max_depth=5, n_estimators=300 ..............\n",
      "[CV]  learning_rate=0.001, max_depth=5, n_estimators=300, score=0.9668639053254438, total=   1.5s\n",
      "[CV] learning_rate=0.001, max_depth=5, n_estimators=300 ..............\n",
      "[CV]  learning_rate=0.001, max_depth=5, n_estimators=300, score=0.9751479289940829, total=   1.6s\n",
      "[CV] learning_rate=0.001, max_depth=5, n_estimators=300 ..............\n",
      "[CV]  learning_rate=0.001, max_depth=5, n_estimators=300, score=0.9620853080568721, total=   1.7s\n",
      "[CV] learning_rate=0.001, max_depth=5, n_estimators=350 ..............\n",
      "[CV]  learning_rate=0.001, max_depth=5, n_estimators=350, score=0.9668639053254438, total=   1.8s\n",
      "[CV] learning_rate=0.001, max_depth=5, n_estimators=350 ..............\n",
      "[CV]  learning_rate=0.001, max_depth=5, n_estimators=350, score=0.9775147928994082, total=   2.1s\n",
      "[CV] learning_rate=0.001, max_depth=5, n_estimators=350 ..............\n",
      "[CV]  learning_rate=0.001, max_depth=5, n_estimators=350, score=0.9620853080568721, total=   2.0s\n",
      "[CV] learning_rate=0.001, max_depth=5, n_estimators=400 ..............\n",
      "[CV]  learning_rate=0.001, max_depth=5, n_estimators=400, score=0.9668639053254438, total=   2.2s\n",
      "[CV] learning_rate=0.001, max_depth=5, n_estimators=400 ..............\n",
      "[CV]  learning_rate=0.001, max_depth=5, n_estimators=400, score=0.9775147928994082, total=   2.3s\n",
      "[CV] learning_rate=0.001, max_depth=5, n_estimators=400 ..............\n",
      "[CV]  learning_rate=0.001, max_depth=5, n_estimators=400, score=0.9620853080568721, total=   2.6s\n",
      "[CV] learning_rate=0.01, max_depth=1, n_estimators=10 ................\n",
      "[CV]  learning_rate=0.01, max_depth=1, n_estimators=10, score=0.9562130177514793, total=   0.0s\n",
      "[CV] learning_rate=0.01, max_depth=1, n_estimators=10 ................\n",
      "[CV]  learning_rate=0.01, max_depth=1, n_estimators=10, score=0.9538461538461539, total=   0.0s\n",
      "[CV] learning_rate=0.01, max_depth=1, n_estimators=10 ................\n",
      "[CV]  learning_rate=0.01, max_depth=1, n_estimators=10, score=0.9502369668246445, total=   0.0s\n",
      "[CV] learning_rate=0.01, max_depth=1, n_estimators=50 ................\n",
      "[CV]  learning_rate=0.01, max_depth=1, n_estimators=50, score=0.9562130177514793, total=   0.1s\n",
      "[CV] learning_rate=0.01, max_depth=1, n_estimators=50 ................\n",
      "[CV]  learning_rate=0.01, max_depth=1, n_estimators=50, score=0.9538461538461539, total=   0.1s\n",
      "[CV] learning_rate=0.01, max_depth=1, n_estimators=50 ................\n",
      "[CV]  learning_rate=0.01, max_depth=1, n_estimators=50, score=0.9502369668246445, total=   0.1s\n",
      "[CV] learning_rate=0.01, max_depth=1, n_estimators=100 ...............\n",
      "[CV]  learning_rate=0.01, max_depth=1, n_estimators=100, score=0.9562130177514793, total=   0.1s\n",
      "[CV] learning_rate=0.01, max_depth=1, n_estimators=100 ...............\n",
      "[CV]  learning_rate=0.01, max_depth=1, n_estimators=100, score=0.9550295857988166, total=   0.1s\n",
      "[CV] learning_rate=0.01, max_depth=1, n_estimators=100 ...............\n",
      "[CV]  learning_rate=0.01, max_depth=1, n_estimators=100, score=0.9537914691943128, total=   0.1s\n",
      "[CV] learning_rate=0.01, max_depth=1, n_estimators=150 ...............\n",
      "[CV]  learning_rate=0.01, max_depth=1, n_estimators=150, score=0.9562130177514793, total=   0.2s\n",
      "[CV] learning_rate=0.01, max_depth=1, n_estimators=150 ...............\n",
      "[CV]  learning_rate=0.01, max_depth=1, n_estimators=150, score=0.9550295857988166, total=   0.2s\n",
      "[CV] learning_rate=0.01, max_depth=1, n_estimators=150 ...............\n",
      "[CV]  learning_rate=0.01, max_depth=1, n_estimators=150, score=0.9561611374407583, total=   0.2s\n",
      "[CV] learning_rate=0.01, max_depth=1, n_estimators=200 ...............\n",
      "[CV]  learning_rate=0.01, max_depth=1, n_estimators=200, score=0.9621301775147929, total=   0.3s\n",
      "[CV] learning_rate=0.01, max_depth=1, n_estimators=200 ...............\n",
      "[CV]  learning_rate=0.01, max_depth=1, n_estimators=200, score=0.9656804733727811, total=   0.2s\n",
      "[CV] learning_rate=0.01, max_depth=1, n_estimators=200 ...............\n",
      "[CV]  learning_rate=0.01, max_depth=1, n_estimators=200, score=0.9561611374407583, total=   0.2s\n",
      "[CV] learning_rate=0.01, max_depth=1, n_estimators=250 ...............\n",
      "[CV]  learning_rate=0.01, max_depth=1, n_estimators=250, score=0.9621301775147929, total=   0.3s\n",
      "[CV] learning_rate=0.01, max_depth=1, n_estimators=250 ...............\n"
     ]
    },
    {
     "name": "stdout",
     "output_type": "stream",
     "text": [
      "[CV]  learning_rate=0.01, max_depth=1, n_estimators=250, score=0.9656804733727811, total=   0.3s\n",
      "[CV] learning_rate=0.01, max_depth=1, n_estimators=250 ...............\n",
      "[CV]  learning_rate=0.01, max_depth=1, n_estimators=250, score=0.9561611374407583, total=   0.3s\n",
      "[CV] learning_rate=0.01, max_depth=1, n_estimators=300 ...............\n",
      "[CV]  learning_rate=0.01, max_depth=1, n_estimators=300, score=0.9621301775147929, total=   0.3s\n",
      "[CV] learning_rate=0.01, max_depth=1, n_estimators=300 ...............\n",
      "[CV]  learning_rate=0.01, max_depth=1, n_estimators=300, score=0.9656804733727811, total=   0.3s\n",
      "[CV] learning_rate=0.01, max_depth=1, n_estimators=300 ...............\n",
      "[CV]  learning_rate=0.01, max_depth=1, n_estimators=300, score=0.9585308056872038, total=   0.3s\n",
      "[CV] learning_rate=0.01, max_depth=1, n_estimators=350 ...............\n",
      "[CV]  learning_rate=0.01, max_depth=1, n_estimators=350, score=0.9621301775147929, total=   0.4s\n",
      "[CV] learning_rate=0.01, max_depth=1, n_estimators=350 ...............\n",
      "[CV]  learning_rate=0.01, max_depth=1, n_estimators=350, score=0.9692307692307692, total=   0.4s\n",
      "[CV] learning_rate=0.01, max_depth=1, n_estimators=350 ...............\n",
      "[CV]  learning_rate=0.01, max_depth=1, n_estimators=350, score=0.9585308056872038, total=   0.6s\n",
      "[CV] learning_rate=0.01, max_depth=1, n_estimators=400 ...............\n",
      "[CV]  learning_rate=0.01, max_depth=1, n_estimators=400, score=0.9621301775147929, total=   0.6s\n",
      "[CV] learning_rate=0.01, max_depth=1, n_estimators=400 ...............\n",
      "[CV]  learning_rate=0.01, max_depth=1, n_estimators=400, score=0.9692307692307692, total=   0.5s\n",
      "[CV] learning_rate=0.01, max_depth=1, n_estimators=400 ...............\n",
      "[CV]  learning_rate=0.01, max_depth=1, n_estimators=400, score=0.9620853080568721, total=   0.4s\n",
      "[CV] learning_rate=0.01, max_depth=2, n_estimators=10 ................\n",
      "[CV]  learning_rate=0.01, max_depth=2, n_estimators=10, score=0.9491124260355029, total=   0.0s\n",
      "[CV] learning_rate=0.01, max_depth=2, n_estimators=10 ................\n",
      "[CV]  learning_rate=0.01, max_depth=2, n_estimators=10, score=0.9656804733727811, total=   0.0s\n",
      "[CV] learning_rate=0.01, max_depth=2, n_estimators=10 ................\n",
      "[CV]  learning_rate=0.01, max_depth=2, n_estimators=10, score=0.9597156398104265, total=   0.0s\n",
      "[CV] learning_rate=0.01, max_depth=2, n_estimators=50 ................\n",
      "[CV]  learning_rate=0.01, max_depth=2, n_estimators=50, score=0.9502958579881656, total=   0.1s\n",
      "[CV] learning_rate=0.01, max_depth=2, n_estimators=50 ................\n",
      "[CV]  learning_rate=0.01, max_depth=2, n_estimators=50, score=0.9715976331360947, total=   0.1s\n",
      "[CV] learning_rate=0.01, max_depth=2, n_estimators=50 ................\n",
      "[CV]  learning_rate=0.01, max_depth=2, n_estimators=50, score=0.9597156398104265, total=   0.1s\n",
      "[CV] learning_rate=0.01, max_depth=2, n_estimators=100 ...............\n",
      "[CV]  learning_rate=0.01, max_depth=2, n_estimators=100, score=0.9621301775147929, total=   0.2s\n",
      "[CV] learning_rate=0.01, max_depth=2, n_estimators=100 ...............\n",
      "[CV]  learning_rate=0.01, max_depth=2, n_estimators=100, score=0.9715976331360947, total=   0.2s\n",
      "[CV] learning_rate=0.01, max_depth=2, n_estimators=100 ...............\n",
      "[CV]  learning_rate=0.01, max_depth=2, n_estimators=100, score=0.957345971563981, total=   0.2s\n",
      "[CV] learning_rate=0.01, max_depth=2, n_estimators=150 ...............\n",
      "[CV]  learning_rate=0.01, max_depth=2, n_estimators=150, score=0.9644970414201184, total=   0.3s\n",
      "[CV] learning_rate=0.01, max_depth=2, n_estimators=150 ...............\n",
      "[CV]  learning_rate=0.01, max_depth=2, n_estimators=150, score=0.9715976331360947, total=   0.3s\n",
      "[CV] learning_rate=0.01, max_depth=2, n_estimators=150 ...............\n",
      "[CV]  learning_rate=0.01, max_depth=2, n_estimators=150, score=0.9597156398104265, total=   0.3s\n",
      "[CV] learning_rate=0.01, max_depth=2, n_estimators=200 ...............\n",
      "[CV]  learning_rate=0.01, max_depth=2, n_estimators=200, score=0.9656804733727811, total=   0.4s\n",
      "[CV] learning_rate=0.01, max_depth=2, n_estimators=200 ...............\n",
      "[CV]  learning_rate=0.01, max_depth=2, n_estimators=200, score=0.9715976331360947, total=   0.4s\n",
      "[CV] learning_rate=0.01, max_depth=2, n_estimators=200 ...............\n",
      "[CV]  learning_rate=0.01, max_depth=2, n_estimators=200, score=0.9632701421800948, total=   0.4s\n",
      "[CV] learning_rate=0.01, max_depth=2, n_estimators=250 ...............\n",
      "[CV]  learning_rate=0.01, max_depth=2, n_estimators=250, score=0.9656804733727811, total=   0.5s\n",
      "[CV] learning_rate=0.01, max_depth=2, n_estimators=250 ...............\n",
      "[CV]  learning_rate=0.01, max_depth=2, n_estimators=250, score=0.9715976331360947, total=   0.5s\n",
      "[CV] learning_rate=0.01, max_depth=2, n_estimators=250 ...............\n",
      "[CV]  learning_rate=0.01, max_depth=2, n_estimators=250, score=0.966824644549763, total=   0.5s\n",
      "[CV] learning_rate=0.01, max_depth=2, n_estimators=300 ...............\n",
      "[CV]  learning_rate=0.01, max_depth=2, n_estimators=300, score=0.9644970414201184, total=   0.6s\n",
      "[CV] learning_rate=0.01, max_depth=2, n_estimators=300 ...............\n",
      "[CV]  learning_rate=0.01, max_depth=2, n_estimators=300, score=0.9715976331360947, total=   0.6s\n",
      "[CV] learning_rate=0.01, max_depth=2, n_estimators=300 ...............\n",
      "[CV]  learning_rate=0.01, max_depth=2, n_estimators=300, score=0.966824644549763, total=   0.6s\n",
      "[CV] learning_rate=0.01, max_depth=2, n_estimators=350 ...............\n",
      "[CV]  learning_rate=0.01, max_depth=2, n_estimators=350, score=0.9644970414201184, total=   0.7s\n",
      "[CV] learning_rate=0.01, max_depth=2, n_estimators=350 ...............\n",
      "[CV]  learning_rate=0.01, max_depth=2, n_estimators=350, score=0.9727810650887574, total=   0.7s\n",
      "[CV] learning_rate=0.01, max_depth=2, n_estimators=350 ...............\n",
      "[CV]  learning_rate=0.01, max_depth=2, n_estimators=350, score=0.9680094786729858, total=   0.9s\n",
      "[CV] learning_rate=0.01, max_depth=2, n_estimators=400 ...............\n",
      "[CV]  learning_rate=0.01, max_depth=2, n_estimators=400, score=0.9680473372781065, total=   1.0s\n",
      "[CV] learning_rate=0.01, max_depth=2, n_estimators=400 ...............\n",
      "[CV]  learning_rate=0.01, max_depth=2, n_estimators=400, score=0.9727810650887574, total=   0.9s\n",
      "[CV] learning_rate=0.01, max_depth=2, n_estimators=400 ...............\n",
      "[CV]  learning_rate=0.01, max_depth=2, n_estimators=400, score=0.9691943127962085, total=   0.9s\n",
      "[CV] learning_rate=0.01, max_depth=3, n_estimators=10 ................\n",
      "[CV]  learning_rate=0.01, max_depth=3, n_estimators=10, score=0.9609467455621302, total=   0.0s\n",
      "[CV] learning_rate=0.01, max_depth=3, n_estimators=10 ................\n",
      "[CV]  learning_rate=0.01, max_depth=3, n_estimators=10, score=0.9739644970414201, total=   0.0s\n",
      "[CV] learning_rate=0.01, max_depth=3, n_estimators=10 ................\n",
      "[CV]  learning_rate=0.01, max_depth=3, n_estimators=10, score=0.9632701421800948, total=   0.0s\n",
      "[CV] learning_rate=0.01, max_depth=3, n_estimators=50 ................\n",
      "[CV]  learning_rate=0.01, max_depth=3, n_estimators=50, score=0.9609467455621302, total=   0.2s\n",
      "[CV] learning_rate=0.01, max_depth=3, n_estimators=50 ................\n",
      "[CV]  learning_rate=0.01, max_depth=3, n_estimators=50, score=0.9798816568047337, total=   0.2s\n",
      "[CV] learning_rate=0.01, max_depth=3, n_estimators=50 ................\n",
      "[CV]  learning_rate=0.01, max_depth=3, n_estimators=50, score=0.966824644549763, total=   0.2s\n",
      "[CV] learning_rate=0.01, max_depth=3, n_estimators=100 ...............\n",
      "[CV]  learning_rate=0.01, max_depth=3, n_estimators=100, score=0.9633136094674556, total=   0.3s\n",
      "[CV] learning_rate=0.01, max_depth=3, n_estimators=100 ...............\n",
      "[CV]  learning_rate=0.01, max_depth=3, n_estimators=100, score=0.978698224852071, total=   0.3s\n",
      "[CV] learning_rate=0.01, max_depth=3, n_estimators=100 ...............\n",
      "[CV]  learning_rate=0.01, max_depth=3, n_estimators=100, score=0.9632701421800948, total=   0.3s\n",
      "[CV] learning_rate=0.01, max_depth=3, n_estimators=150 ...............\n",
      "[CV]  learning_rate=0.01, max_depth=3, n_estimators=150, score=0.9633136094674556, total=   0.5s\n",
      "[CV] learning_rate=0.01, max_depth=3, n_estimators=150 ...............\n",
      "[CV]  learning_rate=0.01, max_depth=3, n_estimators=150, score=0.978698224852071, total=   0.5s\n",
      "[CV] learning_rate=0.01, max_depth=3, n_estimators=150 ...............\n"
     ]
    },
    {
     "name": "stdout",
     "output_type": "stream",
     "text": [
      "[CV]  learning_rate=0.01, max_depth=3, n_estimators=150, score=0.966824644549763, total=   0.5s\n",
      "[CV] learning_rate=0.01, max_depth=3, n_estimators=200 ...............\n",
      "[CV]  learning_rate=0.01, max_depth=3, n_estimators=200, score=0.9668639053254438, total=   0.6s\n",
      "[CV] learning_rate=0.01, max_depth=3, n_estimators=200 ...............\n",
      "[CV]  learning_rate=0.01, max_depth=3, n_estimators=200, score=0.9798816568047337, total=   0.7s\n",
      "[CV] learning_rate=0.01, max_depth=3, n_estimators=200 ...............\n",
      "[CV]  learning_rate=0.01, max_depth=3, n_estimators=200, score=0.966824644549763, total=   0.7s\n",
      "[CV] learning_rate=0.01, max_depth=3, n_estimators=250 ...............\n",
      "[CV]  learning_rate=0.01, max_depth=3, n_estimators=250, score=0.9704142011834319, total=   0.9s\n",
      "[CV] learning_rate=0.01, max_depth=3, n_estimators=250 ...............\n",
      "[CV]  learning_rate=0.01, max_depth=3, n_estimators=250, score=0.9798816568047337, total=   0.8s\n",
      "[CV] learning_rate=0.01, max_depth=3, n_estimators=250 ...............\n",
      "[CV]  learning_rate=0.01, max_depth=3, n_estimators=250, score=0.966824644549763, total=   0.9s\n",
      "[CV] learning_rate=0.01, max_depth=3, n_estimators=300 ...............\n",
      "[CV]  learning_rate=0.01, max_depth=3, n_estimators=300, score=0.9715976331360947, total=   1.0s\n",
      "[CV] learning_rate=0.01, max_depth=3, n_estimators=300 ...............\n",
      "[CV]  learning_rate=0.01, max_depth=3, n_estimators=300, score=0.9798816568047337, total=   1.1s\n",
      "[CV] learning_rate=0.01, max_depth=3, n_estimators=300 ...............\n",
      "[CV]  learning_rate=0.01, max_depth=3, n_estimators=300, score=0.9680094786729858, total=   1.1s\n",
      "[CV] learning_rate=0.01, max_depth=3, n_estimators=350 ...............\n",
      "[CV]  learning_rate=0.01, max_depth=3, n_estimators=350, score=0.9704142011834319, total=   1.3s\n",
      "[CV] learning_rate=0.01, max_depth=3, n_estimators=350 ...............\n",
      "[CV]  learning_rate=0.01, max_depth=3, n_estimators=350, score=0.9810650887573964, total=   1.1s\n",
      "[CV] learning_rate=0.01, max_depth=3, n_estimators=350 ...............\n",
      "[CV]  learning_rate=0.01, max_depth=3, n_estimators=350, score=0.9703791469194313, total=   1.1s\n",
      "[CV] learning_rate=0.01, max_depth=3, n_estimators=400 ...............\n",
      "[CV]  learning_rate=0.01, max_depth=3, n_estimators=400, score=0.9704142011834319, total=   1.2s\n",
      "[CV] learning_rate=0.01, max_depth=3, n_estimators=400 ...............\n",
      "[CV]  learning_rate=0.01, max_depth=3, n_estimators=400, score=0.9822485207100592, total=   1.2s\n",
      "[CV] learning_rate=0.01, max_depth=3, n_estimators=400 ...............\n",
      "[CV]  learning_rate=0.01, max_depth=3, n_estimators=400, score=0.9703791469194313, total=   1.3s\n",
      "[CV] learning_rate=0.01, max_depth=4, n_estimators=10 ................\n",
      "[CV]  learning_rate=0.01, max_depth=4, n_estimators=10, score=0.9668639053254438, total=   0.0s\n",
      "[CV] learning_rate=0.01, max_depth=4, n_estimators=10 ................\n",
      "[CV]  learning_rate=0.01, max_depth=4, n_estimators=10, score=0.9763313609467456, total=   0.1s\n",
      "[CV] learning_rate=0.01, max_depth=4, n_estimators=10 ................\n",
      "[CV]  learning_rate=0.01, max_depth=4, n_estimators=10, score=0.9597156398104265, total=   0.1s\n",
      "[CV] learning_rate=0.01, max_depth=4, n_estimators=50 ................\n",
      "[CV]  learning_rate=0.01, max_depth=4, n_estimators=50, score=0.9680473372781065, total=   0.2s\n",
      "[CV] learning_rate=0.01, max_depth=4, n_estimators=50 ................\n",
      "[CV]  learning_rate=0.01, max_depth=4, n_estimators=50, score=0.9798816568047337, total=   0.2s\n",
      "[CV] learning_rate=0.01, max_depth=4, n_estimators=50 ................\n",
      "[CV]  learning_rate=0.01, max_depth=4, n_estimators=50, score=0.9644549763033176, total=   0.2s\n",
      "[CV] learning_rate=0.01, max_depth=4, n_estimators=100 ...............\n",
      "[CV]  learning_rate=0.01, max_depth=4, n_estimators=100, score=0.9704142011834319, total=   0.4s\n",
      "[CV] learning_rate=0.01, max_depth=4, n_estimators=100 ...............\n",
      "[CV]  learning_rate=0.01, max_depth=4, n_estimators=100, score=0.9810650887573964, total=   0.5s\n",
      "[CV] learning_rate=0.01, max_depth=4, n_estimators=100 ...............\n",
      "[CV]  learning_rate=0.01, max_depth=4, n_estimators=100, score=0.9656398104265402, total=   0.5s\n",
      "[CV] learning_rate=0.01, max_depth=4, n_estimators=150 ...............\n",
      "[CV]  learning_rate=0.01, max_depth=4, n_estimators=150, score=0.9704142011834319, total=   0.7s\n",
      "[CV] learning_rate=0.01, max_depth=4, n_estimators=150 ...............\n",
      "[CV]  learning_rate=0.01, max_depth=4, n_estimators=150, score=0.9798816568047337, total=   0.7s\n",
      "[CV] learning_rate=0.01, max_depth=4, n_estimators=150 ...............\n",
      "[CV]  learning_rate=0.01, max_depth=4, n_estimators=150, score=0.966824644549763, total=   0.7s\n",
      "[CV] learning_rate=0.01, max_depth=4, n_estimators=200 ...............\n",
      "[CV]  learning_rate=0.01, max_depth=4, n_estimators=200, score=0.9704142011834319, total=   1.0s\n",
      "[CV] learning_rate=0.01, max_depth=4, n_estimators=200 ...............\n",
      "[CV]  learning_rate=0.01, max_depth=4, n_estimators=200, score=0.9763313609467456, total=   1.0s\n",
      "[CV] learning_rate=0.01, max_depth=4, n_estimators=200 ...............\n",
      "[CV]  learning_rate=0.01, max_depth=4, n_estimators=200, score=0.9680094786729858, total=   1.3s\n",
      "[CV] learning_rate=0.01, max_depth=4, n_estimators=250 ...............\n",
      "[CV]  learning_rate=0.01, max_depth=4, n_estimators=250, score=0.9704142011834319, total=   1.2s\n",
      "[CV] learning_rate=0.01, max_depth=4, n_estimators=250 ...............\n",
      "[CV]  learning_rate=0.01, max_depth=4, n_estimators=250, score=0.9798816568047337, total=   1.2s\n",
      "[CV] learning_rate=0.01, max_depth=4, n_estimators=250 ...............\n",
      "[CV]  learning_rate=0.01, max_depth=4, n_estimators=250, score=0.9680094786729858, total=   1.2s\n",
      "[CV] learning_rate=0.01, max_depth=4, n_estimators=300 ...............\n",
      "[CV]  learning_rate=0.01, max_depth=4, n_estimators=300, score=0.9704142011834319, total=   1.6s\n",
      "[CV] learning_rate=0.01, max_depth=4, n_estimators=300 ...............\n",
      "[CV]  learning_rate=0.01, max_depth=4, n_estimators=300, score=0.9763313609467456, total=   1.5s\n",
      "[CV] learning_rate=0.01, max_depth=4, n_estimators=300 ...............\n",
      "[CV]  learning_rate=0.01, max_depth=4, n_estimators=300, score=0.966824644549763, total=   1.3s\n",
      "[CV] learning_rate=0.01, max_depth=4, n_estimators=350 ...............\n",
      "[CV]  learning_rate=0.01, max_depth=4, n_estimators=350, score=0.9715976331360947, total=   1.5s\n",
      "[CV] learning_rate=0.01, max_depth=4, n_estimators=350 ...............\n",
      "[CV]  learning_rate=0.01, max_depth=4, n_estimators=350, score=0.9763313609467456, total=   1.5s\n",
      "[CV] learning_rate=0.01, max_depth=4, n_estimators=350 ...............\n",
      "[CV]  learning_rate=0.01, max_depth=4, n_estimators=350, score=0.9680094786729858, total=   1.5s\n",
      "[CV] learning_rate=0.01, max_depth=4, n_estimators=400 ...............\n",
      "[CV]  learning_rate=0.01, max_depth=4, n_estimators=400, score=0.9715976331360947, total=   1.8s\n",
      "[CV] learning_rate=0.01, max_depth=4, n_estimators=400 ...............\n",
      "[CV]  learning_rate=0.01, max_depth=4, n_estimators=400, score=0.9775147928994082, total=   1.9s\n",
      "[CV] learning_rate=0.01, max_depth=4, n_estimators=400 ...............\n",
      "[CV]  learning_rate=0.01, max_depth=4, n_estimators=400, score=0.9680094786729858, total=   1.9s\n",
      "[CV] learning_rate=0.01, max_depth=5, n_estimators=10 ................\n",
      "[CV]  learning_rate=0.01, max_depth=5, n_estimators=10, score=0.9656804733727811, total=   0.1s\n",
      "[CV] learning_rate=0.01, max_depth=5, n_estimators=10 ................\n",
      "[CV]  learning_rate=0.01, max_depth=5, n_estimators=10, score=0.9798816568047337, total=   0.1s\n",
      "[CV] learning_rate=0.01, max_depth=5, n_estimators=10 ................\n",
      "[CV]  learning_rate=0.01, max_depth=5, n_estimators=10, score=0.9585308056872038, total=   0.1s\n",
      "[CV] learning_rate=0.01, max_depth=5, n_estimators=50 ................\n",
      "[CV]  learning_rate=0.01, max_depth=5, n_estimators=50, score=0.9656804733727811, total=   0.3s\n",
      "[CV] learning_rate=0.01, max_depth=5, n_estimators=50 ................\n",
      "[CV]  learning_rate=0.01, max_depth=5, n_estimators=50, score=0.978698224852071, total=   0.3s\n",
      "[CV] learning_rate=0.01, max_depth=5, n_estimators=50 ................\n",
      "[CV]  learning_rate=0.01, max_depth=5, n_estimators=50, score=0.9609004739336493, total=   0.3s\n",
      "[CV] learning_rate=0.01, max_depth=5, n_estimators=100 ...............\n"
     ]
    },
    {
     "name": "stdout",
     "output_type": "stream",
     "text": [
      "[CV]  learning_rate=0.01, max_depth=5, n_estimators=100, score=0.9692307692307692, total=   0.5s\n",
      "[CV] learning_rate=0.01, max_depth=5, n_estimators=100 ...............\n",
      "[CV]  learning_rate=0.01, max_depth=5, n_estimators=100, score=0.9822485207100592, total=   0.6s\n",
      "[CV] learning_rate=0.01, max_depth=5, n_estimators=100 ...............\n",
      "[CV]  learning_rate=0.01, max_depth=5, n_estimators=100, score=0.9620853080568721, total=   0.6s\n",
      "[CV] learning_rate=0.01, max_depth=5, n_estimators=150 ...............\n",
      "[CV]  learning_rate=0.01, max_depth=5, n_estimators=150, score=0.9692307692307692, total=   0.8s\n",
      "[CV] learning_rate=0.01, max_depth=5, n_estimators=150 ...............\n",
      "[CV]  learning_rate=0.01, max_depth=5, n_estimators=150, score=0.9810650887573964, total=   0.9s\n",
      "[CV] learning_rate=0.01, max_depth=5, n_estimators=150 ...............\n",
      "[CV]  learning_rate=0.01, max_depth=5, n_estimators=150, score=0.9680094786729858, total=   0.9s\n",
      "[CV] learning_rate=0.01, max_depth=5, n_estimators=200 ...............\n",
      "[CV]  learning_rate=0.01, max_depth=5, n_estimators=200, score=0.9692307692307692, total=   1.2s\n",
      "[CV] learning_rate=0.01, max_depth=5, n_estimators=200 ...............\n",
      "[CV]  learning_rate=0.01, max_depth=5, n_estimators=200, score=0.9810650887573964, total=   1.2s\n",
      "[CV] learning_rate=0.01, max_depth=5, n_estimators=200 ...............\n",
      "[CV]  learning_rate=0.01, max_depth=5, n_estimators=200, score=0.9680094786729858, total=   1.1s\n",
      "[CV] learning_rate=0.01, max_depth=5, n_estimators=250 ...............\n",
      "[CV]  learning_rate=0.01, max_depth=5, n_estimators=250, score=0.9704142011834319, total=   1.6s\n",
      "[CV] learning_rate=0.01, max_depth=5, n_estimators=250 ...............\n",
      "[CV]  learning_rate=0.01, max_depth=5, n_estimators=250, score=0.9810650887573964, total=   1.8s\n",
      "[CV] learning_rate=0.01, max_depth=5, n_estimators=250 ...............\n",
      "[CV]  learning_rate=0.01, max_depth=5, n_estimators=250, score=0.9715639810426541, total=   1.9s\n",
      "[CV] learning_rate=0.01, max_depth=5, n_estimators=300 ...............\n",
      "[CV]  learning_rate=0.01, max_depth=5, n_estimators=300, score=0.9704142011834319, total=   1.9s\n",
      "[CV] learning_rate=0.01, max_depth=5, n_estimators=300 ...............\n",
      "[CV]  learning_rate=0.01, max_depth=5, n_estimators=300, score=0.9798816568047337, total=   1.8s\n",
      "[CV] learning_rate=0.01, max_depth=5, n_estimators=300 ...............\n",
      "[CV]  learning_rate=0.01, max_depth=5, n_estimators=300, score=0.9703791469194313, total=   1.9s\n",
      "[CV] learning_rate=0.01, max_depth=5, n_estimators=350 ...............\n",
      "[CV]  learning_rate=0.01, max_depth=5, n_estimators=350, score=0.9692307692307692, total=   2.5s\n",
      "[CV] learning_rate=0.01, max_depth=5, n_estimators=350 ...............\n",
      "[CV]  learning_rate=0.01, max_depth=5, n_estimators=350, score=0.9798816568047337, total=   2.2s\n",
      "[CV] learning_rate=0.01, max_depth=5, n_estimators=350 ...............\n",
      "[CV]  learning_rate=0.01, max_depth=5, n_estimators=350, score=0.9715639810426541, total=   2.2s\n",
      "[CV] learning_rate=0.01, max_depth=5, n_estimators=400 ...............\n",
      "[CV]  learning_rate=0.01, max_depth=5, n_estimators=400, score=0.9692307692307692, total=   2.6s\n",
      "[CV] learning_rate=0.01, max_depth=5, n_estimators=400 ...............\n",
      "[CV]  learning_rate=0.01, max_depth=5, n_estimators=400, score=0.978698224852071, total=   2.5s\n",
      "[CV] learning_rate=0.01, max_depth=5, n_estimators=400 ...............\n",
      "[CV]  learning_rate=0.01, max_depth=5, n_estimators=400, score=0.9715639810426541, total=   2.4s\n",
      "[CV] learning_rate=0.1, max_depth=1, n_estimators=10 .................\n",
      "[CV]  learning_rate=0.1, max_depth=1, n_estimators=10, score=0.9562130177514793, total=   0.0s\n",
      "[CV] learning_rate=0.1, max_depth=1, n_estimators=10 .................\n",
      "[CV]  learning_rate=0.1, max_depth=1, n_estimators=10, score=0.9550295857988166, total=   0.0s\n",
      "[CV] learning_rate=0.1, max_depth=1, n_estimators=10 .................\n",
      "[CV]  learning_rate=0.1, max_depth=1, n_estimators=10, score=0.9502369668246445, total=   0.0s\n",
      "[CV] learning_rate=0.1, max_depth=1, n_estimators=50 .................\n",
      "[CV]  learning_rate=0.1, max_depth=1, n_estimators=50, score=0.9633136094674556, total=   0.1s\n",
      "[CV] learning_rate=0.1, max_depth=1, n_estimators=50 .................\n",
      "[CV]  learning_rate=0.1, max_depth=1, n_estimators=50, score=0.9715976331360947, total=   0.1s\n",
      "[CV] learning_rate=0.1, max_depth=1, n_estimators=50 .................\n",
      "[CV]  learning_rate=0.1, max_depth=1, n_estimators=50, score=0.9644549763033176, total=   0.1s\n",
      "[CV] learning_rate=0.1, max_depth=1, n_estimators=100 ................\n",
      "[CV]  learning_rate=0.1, max_depth=1, n_estimators=100, score=0.9704142011834319, total=   0.1s\n",
      "[CV] learning_rate=0.1, max_depth=1, n_estimators=100 ................\n",
      "[CV]  learning_rate=0.1, max_depth=1, n_estimators=100, score=0.9775147928994082, total=   0.1s\n",
      "[CV] learning_rate=0.1, max_depth=1, n_estimators=100 ................\n",
      "[CV]  learning_rate=0.1, max_depth=1, n_estimators=100, score=0.9680094786729858, total=   0.1s\n",
      "[CV] learning_rate=0.1, max_depth=1, n_estimators=150 ................\n",
      "[CV]  learning_rate=0.1, max_depth=1, n_estimators=150, score=0.9751479289940829, total=   0.2s\n",
      "[CV] learning_rate=0.1, max_depth=1, n_estimators=150 ................\n",
      "[CV]  learning_rate=0.1, max_depth=1, n_estimators=150, score=0.978698224852071, total=   0.2s\n",
      "[CV] learning_rate=0.1, max_depth=1, n_estimators=150 ................\n",
      "[CV]  learning_rate=0.1, max_depth=1, n_estimators=150, score=0.9715639810426541, total=   0.2s\n",
      "[CV] learning_rate=0.1, max_depth=1, n_estimators=200 ................\n",
      "[CV]  learning_rate=0.1, max_depth=1, n_estimators=200, score=0.9763313609467456, total=   0.2s\n",
      "[CV] learning_rate=0.1, max_depth=1, n_estimators=200 ................\n",
      "[CV]  learning_rate=0.1, max_depth=1, n_estimators=200, score=0.9822485207100592, total=   0.2s\n",
      "[CV] learning_rate=0.1, max_depth=1, n_estimators=200 ................\n",
      "[CV]  learning_rate=0.1, max_depth=1, n_estimators=200, score=0.9715639810426541, total=   0.2s\n",
      "[CV] learning_rate=0.1, max_depth=1, n_estimators=250 ................\n",
      "[CV]  learning_rate=0.1, max_depth=1, n_estimators=250, score=0.978698224852071, total=   0.3s\n",
      "[CV] learning_rate=0.1, max_depth=1, n_estimators=250 ................\n",
      "[CV]  learning_rate=0.1, max_depth=1, n_estimators=250, score=0.9834319526627219, total=   0.3s\n",
      "[CV] learning_rate=0.1, max_depth=1, n_estimators=250 ................\n",
      "[CV]  learning_rate=0.1, max_depth=1, n_estimators=250, score=0.9715639810426541, total=   0.3s\n",
      "[CV] learning_rate=0.1, max_depth=1, n_estimators=300 ................\n",
      "[CV]  learning_rate=0.1, max_depth=1, n_estimators=300, score=0.9810650887573964, total=   0.4s\n",
      "[CV] learning_rate=0.1, max_depth=1, n_estimators=300 ................\n",
      "[CV]  learning_rate=0.1, max_depth=1, n_estimators=300, score=0.9834319526627219, total=   0.4s\n",
      "[CV] learning_rate=0.1, max_depth=1, n_estimators=300 ................\n",
      "[CV]  learning_rate=0.1, max_depth=1, n_estimators=300, score=0.9715639810426541, total=   0.3s\n",
      "[CV] learning_rate=0.1, max_depth=1, n_estimators=350 ................\n",
      "[CV]  learning_rate=0.1, max_depth=1, n_estimators=350, score=0.9822485207100592, total=   0.5s\n",
      "[CV] learning_rate=0.1, max_depth=1, n_estimators=350 ................\n",
      "[CV]  learning_rate=0.1, max_depth=1, n_estimators=350, score=0.9822485207100592, total=   0.4s\n",
      "[CV] learning_rate=0.1, max_depth=1, n_estimators=350 ................\n",
      "[CV]  learning_rate=0.1, max_depth=1, n_estimators=350, score=0.9715639810426541, total=   0.4s\n",
      "[CV] learning_rate=0.1, max_depth=1, n_estimators=400 ................\n",
      "[CV]  learning_rate=0.1, max_depth=1, n_estimators=400, score=0.9822485207100592, total=   0.5s\n",
      "[CV] learning_rate=0.1, max_depth=1, n_estimators=400 ................\n",
      "[CV]  learning_rate=0.1, max_depth=1, n_estimators=400, score=0.9822485207100592, total=   0.5s\n",
      "[CV] learning_rate=0.1, max_depth=1, n_estimators=400 ................\n",
      "[CV]  learning_rate=0.1, max_depth=1, n_estimators=400, score=0.9727488151658767, total=   0.5s\n",
      "[CV] learning_rate=0.1, max_depth=2, n_estimators=10 .................\n",
      "[CV]  learning_rate=0.1, max_depth=2, n_estimators=10, score=0.9621301775147929, total=   0.0s\n",
      "[CV] learning_rate=0.1, max_depth=2, n_estimators=10 .................\n",
      "[CV]  learning_rate=0.1, max_depth=2, n_estimators=10, score=0.9715976331360947, total=   0.0s\n",
      "[CV] learning_rate=0.1, max_depth=2, n_estimators=10 .................\n",
      "[CV]  learning_rate=0.1, max_depth=2, n_estimators=10, score=0.957345971563981, total=   0.0s\n",
      "[CV] learning_rate=0.1, max_depth=2, n_estimators=50 .................\n"
     ]
    },
    {
     "name": "stdout",
     "output_type": "stream",
     "text": [
      "[CV]  learning_rate=0.1, max_depth=2, n_estimators=50, score=0.9692307692307692, total=   0.1s\n",
      "[CV] learning_rate=0.1, max_depth=2, n_estimators=50 .................\n",
      "[CV]  learning_rate=0.1, max_depth=2, n_estimators=50, score=0.9798816568047337, total=   0.1s\n",
      "[CV] learning_rate=0.1, max_depth=2, n_estimators=50 .................\n",
      "[CV]  learning_rate=0.1, max_depth=2, n_estimators=50, score=0.9691943127962085, total=   0.1s\n",
      "[CV] learning_rate=0.1, max_depth=2, n_estimators=100 ................\n",
      "[CV]  learning_rate=0.1, max_depth=2, n_estimators=100, score=0.9739644970414201, total=   0.2s\n",
      "[CV] learning_rate=0.1, max_depth=2, n_estimators=100 ................\n",
      "[CV]  learning_rate=0.1, max_depth=2, n_estimators=100, score=0.9834319526627219, total=   0.3s\n",
      "[CV] learning_rate=0.1, max_depth=2, n_estimators=100 ................\n",
      "[CV]  learning_rate=0.1, max_depth=2, n_estimators=100, score=0.9715639810426541, total=   0.2s\n",
      "[CV] learning_rate=0.1, max_depth=2, n_estimators=150 ................\n",
      "[CV]  learning_rate=0.1, max_depth=2, n_estimators=150, score=0.9810650887573964, total=   0.3s\n",
      "[CV] learning_rate=0.1, max_depth=2, n_estimators=150 ................\n",
      "[CV]  learning_rate=0.1, max_depth=2, n_estimators=150, score=0.9834319526627219, total=   0.3s\n",
      "[CV] learning_rate=0.1, max_depth=2, n_estimators=150 ................\n",
      "[CV]  learning_rate=0.1, max_depth=2, n_estimators=150, score=0.9715639810426541, total=   0.3s\n",
      "[CV] learning_rate=0.1, max_depth=2, n_estimators=200 ................\n",
      "[CV]  learning_rate=0.1, max_depth=2, n_estimators=200, score=0.9822485207100592, total=   0.4s\n",
      "[CV] learning_rate=0.1, max_depth=2, n_estimators=200 ................\n",
      "[CV]  learning_rate=0.1, max_depth=2, n_estimators=200, score=0.9834319526627219, total=   0.4s\n",
      "[CV] learning_rate=0.1, max_depth=2, n_estimators=200 ................\n",
      "[CV]  learning_rate=0.1, max_depth=2, n_estimators=200, score=0.9715639810426541, total=   0.5s\n",
      "[CV] learning_rate=0.1, max_depth=2, n_estimators=250 ................\n",
      "[CV]  learning_rate=0.1, max_depth=2, n_estimators=250, score=0.9822485207100592, total=   0.5s\n",
      "[CV] learning_rate=0.1, max_depth=2, n_estimators=250 ................\n",
      "[CV]  learning_rate=0.1, max_depth=2, n_estimators=250, score=0.9822485207100592, total=   0.5s\n",
      "[CV] learning_rate=0.1, max_depth=2, n_estimators=250 ................\n",
      "[CV]  learning_rate=0.1, max_depth=2, n_estimators=250, score=0.9715639810426541, total=   0.5s\n",
      "[CV] learning_rate=0.1, max_depth=2, n_estimators=300 ................\n",
      "[CV]  learning_rate=0.1, max_depth=2, n_estimators=300, score=0.9822485207100592, total=   0.7s\n",
      "[CV] learning_rate=0.1, max_depth=2, n_estimators=300 ................\n",
      "[CV]  learning_rate=0.1, max_depth=2, n_estimators=300, score=0.9834319526627219, total=   0.6s\n",
      "[CV] learning_rate=0.1, max_depth=2, n_estimators=300 ................\n",
      "[CV]  learning_rate=0.1, max_depth=2, n_estimators=300, score=0.9739336492890995, total=   0.6s\n",
      "[CV] learning_rate=0.1, max_depth=2, n_estimators=350 ................\n",
      "[CV]  learning_rate=0.1, max_depth=2, n_estimators=350, score=0.9810650887573964, total=   0.7s\n",
      "[CV] learning_rate=0.1, max_depth=2, n_estimators=350 ................\n",
      "[CV]  learning_rate=0.1, max_depth=2, n_estimators=350, score=0.9834319526627219, total=   0.7s\n",
      "[CV] learning_rate=0.1, max_depth=2, n_estimators=350 ................\n",
      "[CV]  learning_rate=0.1, max_depth=2, n_estimators=350, score=0.9739336492890995, total=   0.7s\n",
      "[CV] learning_rate=0.1, max_depth=2, n_estimators=400 ................\n",
      "[CV]  learning_rate=0.1, max_depth=2, n_estimators=400, score=0.9822485207100592, total=   0.9s\n",
      "[CV] learning_rate=0.1, max_depth=2, n_estimators=400 ................\n",
      "[CV]  learning_rate=0.1, max_depth=2, n_estimators=400, score=0.9846153846153847, total=   0.8s\n",
      "[CV] learning_rate=0.1, max_depth=2, n_estimators=400 ................\n",
      "[CV]  learning_rate=0.1, max_depth=2, n_estimators=400, score=0.9751184834123223, total=   0.8s\n",
      "[CV] learning_rate=0.1, max_depth=3, n_estimators=10 .................\n",
      "[CV]  learning_rate=0.1, max_depth=3, n_estimators=10, score=0.9621301775147929, total=   0.0s\n",
      "[CV] learning_rate=0.1, max_depth=3, n_estimators=10 .................\n",
      "[CV]  learning_rate=0.1, max_depth=3, n_estimators=10, score=0.978698224852071, total=   0.0s\n",
      "[CV] learning_rate=0.1, max_depth=3, n_estimators=10 .................\n",
      "[CV]  learning_rate=0.1, max_depth=3, n_estimators=10, score=0.9632701421800948, total=   0.0s\n",
      "[CV] learning_rate=0.1, max_depth=3, n_estimators=50 .................\n",
      "[CV]  learning_rate=0.1, max_depth=3, n_estimators=50, score=0.9763313609467456, total=   0.2s\n",
      "[CV] learning_rate=0.1, max_depth=3, n_estimators=50 .................\n",
      "[CV]  learning_rate=0.1, max_depth=3, n_estimators=50, score=0.9810650887573964, total=   0.2s\n",
      "[CV] learning_rate=0.1, max_depth=3, n_estimators=50 .................\n",
      "[CV]  learning_rate=0.1, max_depth=3, n_estimators=50, score=0.9715639810426541, total=   0.2s\n",
      "[CV] learning_rate=0.1, max_depth=3, n_estimators=100 ................\n",
      "[CV]  learning_rate=0.1, max_depth=3, n_estimators=100, score=0.9810650887573964, total=   0.3s\n",
      "[CV] learning_rate=0.1, max_depth=3, n_estimators=100 ................\n",
      "[CV]  learning_rate=0.1, max_depth=3, n_estimators=100, score=0.9822485207100592, total=   0.4s\n",
      "[CV] learning_rate=0.1, max_depth=3, n_estimators=100 ................\n",
      "[CV]  learning_rate=0.1, max_depth=3, n_estimators=100, score=0.9739336492890995, total=   0.3s\n",
      "[CV] learning_rate=0.1, max_depth=3, n_estimators=150 ................\n",
      "[CV]  learning_rate=0.1, max_depth=3, n_estimators=150, score=0.9798816568047337, total=   0.5s\n",
      "[CV] learning_rate=0.1, max_depth=3, n_estimators=150 ................\n",
      "[CV]  learning_rate=0.1, max_depth=3, n_estimators=150, score=0.9834319526627219, total=   0.5s\n",
      "[CV] learning_rate=0.1, max_depth=3, n_estimators=150 ................\n",
      "[CV]  learning_rate=0.1, max_depth=3, n_estimators=150, score=0.9727488151658767, total=   0.4s\n",
      "[CV] learning_rate=0.1, max_depth=3, n_estimators=200 ................\n",
      "[CV]  learning_rate=0.1, max_depth=3, n_estimators=200, score=0.9810650887573964, total=   0.6s\n",
      "[CV] learning_rate=0.1, max_depth=3, n_estimators=200 ................\n",
      "[CV]  learning_rate=0.1, max_depth=3, n_estimators=200, score=0.9810650887573964, total=   0.7s\n",
      "[CV] learning_rate=0.1, max_depth=3, n_estimators=200 ................\n",
      "[CV]  learning_rate=0.1, max_depth=3, n_estimators=200, score=0.9715639810426541, total=   0.6s\n",
      "[CV] learning_rate=0.1, max_depth=3, n_estimators=250 ................\n",
      "[CV]  learning_rate=0.1, max_depth=3, n_estimators=250, score=0.9810650887573964, total=   0.8s\n",
      "[CV] learning_rate=0.1, max_depth=3, n_estimators=250 ................\n",
      "[CV]  learning_rate=0.1, max_depth=3, n_estimators=250, score=0.9834319526627219, total=   0.8s\n",
      "[CV] learning_rate=0.1, max_depth=3, n_estimators=250 ................\n",
      "[CV]  learning_rate=0.1, max_depth=3, n_estimators=250, score=0.9715639810426541, total=   0.7s\n",
      "[CV] learning_rate=0.1, max_depth=3, n_estimators=300 ................\n",
      "[CV]  learning_rate=0.1, max_depth=3, n_estimators=300, score=0.9810650887573964, total=   1.0s\n",
      "[CV] learning_rate=0.1, max_depth=3, n_estimators=300 ................\n",
      "[CV]  learning_rate=0.1, max_depth=3, n_estimators=300, score=0.9810650887573964, total=   1.0s\n",
      "[CV] learning_rate=0.1, max_depth=3, n_estimators=300 ................\n",
      "[CV]  learning_rate=0.1, max_depth=3, n_estimators=300, score=0.9727488151658767, total=   1.0s\n",
      "[CV] learning_rate=0.1, max_depth=3, n_estimators=350 ................\n",
      "[CV]  learning_rate=0.1, max_depth=3, n_estimators=350, score=0.9810650887573964, total=   1.1s\n",
      "[CV] learning_rate=0.1, max_depth=3, n_estimators=350 ................\n",
      "[CV]  learning_rate=0.1, max_depth=3, n_estimators=350, score=0.9822485207100592, total=   1.1s\n",
      "[CV] learning_rate=0.1, max_depth=3, n_estimators=350 ................\n",
      "[CV]  learning_rate=0.1, max_depth=3, n_estimators=350, score=0.9727488151658767, total=   1.0s\n",
      "[CV] learning_rate=0.1, max_depth=3, n_estimators=400 ................\n",
      "[CV]  learning_rate=0.1, max_depth=3, n_estimators=400, score=0.9822485207100592, total=   1.2s\n",
      "[CV] learning_rate=0.1, max_depth=3, n_estimators=400 ................\n",
      "[CV]  learning_rate=0.1, max_depth=3, n_estimators=400, score=0.9810650887573964, total=   1.6s\n",
      "[CV] learning_rate=0.1, max_depth=3, n_estimators=400 ................\n"
     ]
    },
    {
     "name": "stdout",
     "output_type": "stream",
     "text": [
      "[CV]  learning_rate=0.1, max_depth=3, n_estimators=400, score=0.9727488151658767, total=   1.4s\n",
      "[CV] learning_rate=0.1, max_depth=4, n_estimators=10 .................\n",
      "[CV]  learning_rate=0.1, max_depth=4, n_estimators=10, score=0.9704142011834319, total=   0.1s\n",
      "[CV] learning_rate=0.1, max_depth=4, n_estimators=10 .................\n",
      "[CV]  learning_rate=0.1, max_depth=4, n_estimators=10, score=0.9798816568047337, total=   0.1s\n",
      "[CV] learning_rate=0.1, max_depth=4, n_estimators=10 .................\n",
      "[CV]  learning_rate=0.1, max_depth=4, n_estimators=10, score=0.966824644549763, total=   0.0s\n",
      "[CV] learning_rate=0.1, max_depth=4, n_estimators=50 .................\n",
      "[CV]  learning_rate=0.1, max_depth=4, n_estimators=50, score=0.9715976331360947, total=   0.2s\n",
      "[CV] learning_rate=0.1, max_depth=4, n_estimators=50 .................\n",
      "[CV]  learning_rate=0.1, max_depth=4, n_estimators=50, score=0.9798816568047337, total=   0.2s\n",
      "[CV] learning_rate=0.1, max_depth=4, n_estimators=50 .................\n",
      "[CV]  learning_rate=0.1, max_depth=4, n_estimators=50, score=0.9680094786729858, total=   0.2s\n",
      "[CV] learning_rate=0.1, max_depth=4, n_estimators=100 ................\n",
      "[CV]  learning_rate=0.1, max_depth=4, n_estimators=100, score=0.9739644970414201, total=   0.5s\n",
      "[CV] learning_rate=0.1, max_depth=4, n_estimators=100 ................\n",
      "[CV]  learning_rate=0.1, max_depth=4, n_estimators=100, score=0.9798816568047337, total=   0.6s\n",
      "[CV] learning_rate=0.1, max_depth=4, n_estimators=100 ................\n",
      "[CV]  learning_rate=0.1, max_depth=4, n_estimators=100, score=0.9703791469194313, total=   0.6s\n",
      "[CV] learning_rate=0.1, max_depth=4, n_estimators=150 ................\n",
      "[CV]  learning_rate=0.1, max_depth=4, n_estimators=150, score=0.978698224852071, total=   0.8s\n",
      "[CV] learning_rate=0.1, max_depth=4, n_estimators=150 ................\n",
      "[CV]  learning_rate=0.1, max_depth=4, n_estimators=150, score=0.9810650887573964, total=   0.7s\n",
      "[CV] learning_rate=0.1, max_depth=4, n_estimators=150 ................\n",
      "[CV]  learning_rate=0.1, max_depth=4, n_estimators=150, score=0.9680094786729858, total=   0.6s\n",
      "[CV] learning_rate=0.1, max_depth=4, n_estimators=200 ................\n",
      "[CV]  learning_rate=0.1, max_depth=4, n_estimators=200, score=0.9798816568047337, total=   0.8s\n",
      "[CV] learning_rate=0.1, max_depth=4, n_estimators=200 ................\n",
      "[CV]  learning_rate=0.1, max_depth=4, n_estimators=200, score=0.9810650887573964, total=   0.9s\n",
      "[CV] learning_rate=0.1, max_depth=4, n_estimators=200 ................\n",
      "[CV]  learning_rate=0.1, max_depth=4, n_estimators=200, score=0.9739336492890995, total=   0.8s\n",
      "[CV] learning_rate=0.1, max_depth=4, n_estimators=250 ................\n",
      "[CV]  learning_rate=0.1, max_depth=4, n_estimators=250, score=0.9822485207100592, total=   1.1s\n",
      "[CV] learning_rate=0.1, max_depth=4, n_estimators=250 ................\n",
      "[CV]  learning_rate=0.1, max_depth=4, n_estimators=250, score=0.978698224852071, total=   1.1s\n",
      "[CV] learning_rate=0.1, max_depth=4, n_estimators=250 ................\n",
      "[CV]  learning_rate=0.1, max_depth=4, n_estimators=250, score=0.9727488151658767, total=   1.1s\n",
      "[CV] learning_rate=0.1, max_depth=4, n_estimators=300 ................\n",
      "[CV]  learning_rate=0.1, max_depth=4, n_estimators=300, score=0.9822485207100592, total=   1.2s\n",
      "[CV] learning_rate=0.1, max_depth=4, n_estimators=300 ................\n",
      "[CV]  learning_rate=0.1, max_depth=4, n_estimators=300, score=0.9798816568047337, total=   1.3s\n",
      "[CV] learning_rate=0.1, max_depth=4, n_estimators=300 ................\n",
      "[CV]  learning_rate=0.1, max_depth=4, n_estimators=300, score=0.9739336492890995, total=   1.3s\n",
      "[CV] learning_rate=0.1, max_depth=4, n_estimators=350 ................\n",
      "[CV]  learning_rate=0.1, max_depth=4, n_estimators=350, score=0.9822485207100592, total=   1.5s\n",
      "[CV] learning_rate=0.1, max_depth=4, n_estimators=350 ................\n",
      "[CV]  learning_rate=0.1, max_depth=4, n_estimators=350, score=0.9798816568047337, total=   1.5s\n",
      "[CV] learning_rate=0.1, max_depth=4, n_estimators=350 ................\n",
      "[CV]  learning_rate=0.1, max_depth=4, n_estimators=350, score=0.9739336492890995, total=   1.4s\n",
      "[CV] learning_rate=0.1, max_depth=4, n_estimators=400 ................\n",
      "[CV]  learning_rate=0.1, max_depth=4, n_estimators=400, score=0.9822485207100592, total=   1.5s\n",
      "[CV] learning_rate=0.1, max_depth=4, n_estimators=400 ................\n",
      "[CV]  learning_rate=0.1, max_depth=4, n_estimators=400, score=0.9798816568047337, total=   1.5s\n",
      "[CV] learning_rate=0.1, max_depth=4, n_estimators=400 ................\n",
      "[CV]  learning_rate=0.1, max_depth=4, n_estimators=400, score=0.9739336492890995, total=   1.3s\n",
      "[CV] learning_rate=0.1, max_depth=5, n_estimators=10 .................\n",
      "[CV]  learning_rate=0.1, max_depth=5, n_estimators=10, score=0.9680473372781065, total=   0.1s\n",
      "[CV] learning_rate=0.1, max_depth=5, n_estimators=10 .................\n",
      "[CV]  learning_rate=0.1, max_depth=5, n_estimators=10, score=0.9798816568047337, total=   0.1s\n",
      "[CV] learning_rate=0.1, max_depth=5, n_estimators=10 .................\n",
      "[CV]  learning_rate=0.1, max_depth=5, n_estimators=10, score=0.9632701421800948, total=   0.1s\n",
      "[CV] learning_rate=0.1, max_depth=5, n_estimators=50 .................\n",
      "[CV]  learning_rate=0.1, max_depth=5, n_estimators=50, score=0.9704142011834319, total=   0.3s\n",
      "[CV] learning_rate=0.1, max_depth=5, n_estimators=50 .................\n",
      "[CV]  learning_rate=0.1, max_depth=5, n_estimators=50, score=0.9810650887573964, total=   0.3s\n",
      "[CV] learning_rate=0.1, max_depth=5, n_estimators=50 .................\n",
      "[CV]  learning_rate=0.1, max_depth=5, n_estimators=50, score=0.9703791469194313, total=   0.3s\n",
      "[CV] learning_rate=0.1, max_depth=5, n_estimators=100 ................\n",
      "[CV]  learning_rate=0.1, max_depth=5, n_estimators=100, score=0.9751479289940829, total=   0.6s\n",
      "[CV] learning_rate=0.1, max_depth=5, n_estimators=100 ................\n",
      "[CV]  learning_rate=0.1, max_depth=5, n_estimators=100, score=0.9822485207100592, total=   0.6s\n",
      "[CV] learning_rate=0.1, max_depth=5, n_estimators=100 ................\n",
      "[CV]  learning_rate=0.1, max_depth=5, n_estimators=100, score=0.9703791469194313, total=   0.7s\n",
      "[CV] learning_rate=0.1, max_depth=5, n_estimators=150 ................\n",
      "[CV]  learning_rate=0.1, max_depth=5, n_estimators=150, score=0.9775147928994082, total=   0.8s\n",
      "[CV] learning_rate=0.1, max_depth=5, n_estimators=150 ................\n",
      "[CV]  learning_rate=0.1, max_depth=5, n_estimators=150, score=0.9846153846153847, total=   0.9s\n",
      "[CV] learning_rate=0.1, max_depth=5, n_estimators=150 ................\n",
      "[CV]  learning_rate=0.1, max_depth=5, n_estimators=150, score=0.9703791469194313, total=   0.8s\n",
      "[CV] learning_rate=0.1, max_depth=5, n_estimators=200 ................\n",
      "[CV]  learning_rate=0.1, max_depth=5, n_estimators=200, score=0.9775147928994082, total=   1.1s\n",
      "[CV] learning_rate=0.1, max_depth=5, n_estimators=200 ................\n",
      "[CV]  learning_rate=0.1, max_depth=5, n_estimators=200, score=0.9846153846153847, total=   1.2s\n",
      "[CV] learning_rate=0.1, max_depth=5, n_estimators=200 ................\n",
      "[CV]  learning_rate=0.1, max_depth=5, n_estimators=200, score=0.9715639810426541, total=   1.4s\n",
      "[CV] learning_rate=0.1, max_depth=5, n_estimators=250 ................\n",
      "[CV]  learning_rate=0.1, max_depth=5, n_estimators=250, score=0.9775147928994082, total=   1.3s\n",
      "[CV] learning_rate=0.1, max_depth=5, n_estimators=250 ................\n",
      "[CV]  learning_rate=0.1, max_depth=5, n_estimators=250, score=0.9846153846153847, total=   1.2s\n",
      "[CV] learning_rate=0.1, max_depth=5, n_estimators=250 ................\n",
      "[CV]  learning_rate=0.1, max_depth=5, n_estimators=250, score=0.9715639810426541, total=   1.1s\n",
      "[CV] learning_rate=0.1, max_depth=5, n_estimators=300 ................\n",
      "[CV]  learning_rate=0.1, max_depth=5, n_estimators=300, score=0.9775147928994082, total=   1.3s\n",
      "[CV] learning_rate=0.1, max_depth=5, n_estimators=300 ................\n",
      "[CV]  learning_rate=0.1, max_depth=5, n_estimators=300, score=0.9846153846153847, total=   1.1s\n",
      "[CV] learning_rate=0.1, max_depth=5, n_estimators=300 ................\n",
      "[CV]  learning_rate=0.1, max_depth=5, n_estimators=300, score=0.9715639810426541, total=   1.0s\n",
      "[CV] learning_rate=0.1, max_depth=5, n_estimators=350 ................\n",
      "[CV]  learning_rate=0.1, max_depth=5, n_estimators=350, score=0.9775147928994082, total=   1.1s\n",
      "[CV] learning_rate=0.1, max_depth=5, n_estimators=350 ................\n"
     ]
    },
    {
     "name": "stdout",
     "output_type": "stream",
     "text": [
      "[CV]  learning_rate=0.1, max_depth=5, n_estimators=350, score=0.9846153846153847, total=   1.1s\n",
      "[CV] learning_rate=0.1, max_depth=5, n_estimators=350 ................\n",
      "[CV]  learning_rate=0.1, max_depth=5, n_estimators=350, score=0.9715639810426541, total=   1.0s\n",
      "[CV] learning_rate=0.1, max_depth=5, n_estimators=400 ................\n",
      "[CV]  learning_rate=0.1, max_depth=5, n_estimators=400, score=0.9775147928994082, total=   1.2s\n",
      "[CV] learning_rate=0.1, max_depth=5, n_estimators=400 ................\n",
      "[CV]  learning_rate=0.1, max_depth=5, n_estimators=400, score=0.9846153846153847, total=   1.1s\n",
      "[CV] learning_rate=0.1, max_depth=5, n_estimators=400 ................\n",
      "[CV]  learning_rate=0.1, max_depth=5, n_estimators=400, score=0.9715639810426541, total=   1.0s\n",
      "[CV] learning_rate=1, max_depth=1, n_estimators=10 ...................\n",
      "[CV]  learning_rate=1, max_depth=1, n_estimators=10, score=0.9727810650887574, total=   0.0s\n",
      "[CV] learning_rate=1, max_depth=1, n_estimators=10 ...................\n",
      "[CV]  learning_rate=1, max_depth=1, n_estimators=10, score=0.9739644970414201, total=   0.0s\n",
      "[CV] learning_rate=1, max_depth=1, n_estimators=10 ...................\n",
      "[CV]  learning_rate=1, max_depth=1, n_estimators=10, score=0.9644549763033176, total=   0.0s\n",
      "[CV] learning_rate=1, max_depth=1, n_estimators=50 ...................\n",
      "[CV]  learning_rate=1, max_depth=1, n_estimators=50, score=0.9727810650887574, total=   0.1s\n",
      "[CV] learning_rate=1, max_depth=1, n_estimators=50 ...................\n",
      "[CV]  learning_rate=1, max_depth=1, n_estimators=50, score=0.9822485207100592, total=   0.1s\n",
      "[CV] learning_rate=1, max_depth=1, n_estimators=50 ...................\n",
      "[CV]  learning_rate=1, max_depth=1, n_estimators=50, score=0.966824644549763, total=   0.1s\n",
      "[CV] learning_rate=1, max_depth=1, n_estimators=100 ..................\n",
      "[CV]  learning_rate=1, max_depth=1, n_estimators=100, score=0.9775147928994082, total=   0.1s\n",
      "[CV] learning_rate=1, max_depth=1, n_estimators=100 ..................\n",
      "[CV]  learning_rate=1, max_depth=1, n_estimators=100, score=0.9846153846153847, total=   0.1s\n",
      "[CV] learning_rate=1, max_depth=1, n_estimators=100 ..................\n",
      "[CV]  learning_rate=1, max_depth=1, n_estimators=100, score=0.9739336492890995, total=   0.1s\n",
      "[CV] learning_rate=1, max_depth=1, n_estimators=150 ..................\n",
      "[CV]  learning_rate=1, max_depth=1, n_estimators=150, score=0.978698224852071, total=   0.2s\n",
      "[CV] learning_rate=1, max_depth=1, n_estimators=150 ..................\n",
      "[CV]  learning_rate=1, max_depth=1, n_estimators=150, score=0.9857988165680474, total=   0.2s\n",
      "[CV] learning_rate=1, max_depth=1, n_estimators=150 ..................\n",
      "[CV]  learning_rate=1, max_depth=1, n_estimators=150, score=0.9739336492890995, total=   0.2s\n",
      "[CV] learning_rate=1, max_depth=1, n_estimators=200 ..................\n",
      "[CV]  learning_rate=1, max_depth=1, n_estimators=200, score=0.978698224852071, total=   0.2s\n",
      "[CV] learning_rate=1, max_depth=1, n_estimators=200 ..................\n",
      "[CV]  learning_rate=1, max_depth=1, n_estimators=200, score=0.9846153846153847, total=   0.2s\n",
      "[CV] learning_rate=1, max_depth=1, n_estimators=200 ..................\n",
      "[CV]  learning_rate=1, max_depth=1, n_estimators=200, score=0.9751184834123223, total=   0.2s\n",
      "[CV] learning_rate=1, max_depth=1, n_estimators=250 ..................\n",
      "[CV]  learning_rate=1, max_depth=1, n_estimators=250, score=0.9775147928994082, total=   0.3s\n",
      "[CV] learning_rate=1, max_depth=1, n_estimators=250 ..................\n",
      "[CV]  learning_rate=1, max_depth=1, n_estimators=250, score=0.9857988165680474, total=   0.3s\n",
      "[CV] learning_rate=1, max_depth=1, n_estimators=250 ..................\n",
      "[CV]  learning_rate=1, max_depth=1, n_estimators=250, score=0.9727488151658767, total=   0.3s\n",
      "[CV] learning_rate=1, max_depth=1, n_estimators=300 ..................\n",
      "[CV]  learning_rate=1, max_depth=1, n_estimators=300, score=0.978698224852071, total=   0.5s\n",
      "[CV] learning_rate=1, max_depth=1, n_estimators=300 ..................\n",
      "[CV]  learning_rate=1, max_depth=1, n_estimators=300, score=0.9846153846153847, total=   0.5s\n",
      "[CV] learning_rate=1, max_depth=1, n_estimators=300 ..................\n",
      "[CV]  learning_rate=1, max_depth=1, n_estimators=300, score=0.9751184834123223, total=   0.4s\n",
      "[CV] learning_rate=1, max_depth=1, n_estimators=350 ..................\n",
      "[CV]  learning_rate=1, max_depth=1, n_estimators=350, score=0.9798816568047337, total=   0.4s\n",
      "[CV] learning_rate=1, max_depth=1, n_estimators=350 ..................\n",
      "[CV]  learning_rate=1, max_depth=1, n_estimators=350, score=0.9857988165680474, total=   0.4s\n",
      "[CV] learning_rate=1, max_depth=1, n_estimators=350 ..................\n",
      "[CV]  learning_rate=1, max_depth=1, n_estimators=350, score=0.9751184834123223, total=   0.4s\n",
      "[CV] learning_rate=1, max_depth=1, n_estimators=400 ..................\n",
      "[CV]  learning_rate=1, max_depth=1, n_estimators=400, score=0.9798816568047337, total=   0.5s\n",
      "[CV] learning_rate=1, max_depth=1, n_estimators=400 ..................\n",
      "[CV]  learning_rate=1, max_depth=1, n_estimators=400, score=0.9846153846153847, total=   0.5s\n",
      "[CV] learning_rate=1, max_depth=1, n_estimators=400 ..................\n",
      "[CV]  learning_rate=1, max_depth=1, n_estimators=400, score=0.9739336492890995, total=   0.4s\n",
      "[CV] learning_rate=1, max_depth=2, n_estimators=10 ...................\n",
      "[CV]  learning_rate=1, max_depth=2, n_estimators=10, score=0.9692307692307692, total=   0.0s\n",
      "[CV] learning_rate=1, max_depth=2, n_estimators=10 ...................\n",
      "[CV]  learning_rate=1, max_depth=2, n_estimators=10, score=0.9668639053254438, total=   0.0s\n",
      "[CV] learning_rate=1, max_depth=2, n_estimators=10 ...................\n",
      "[CV]  learning_rate=1, max_depth=2, n_estimators=10, score=0.9656398104265402, total=   0.0s\n",
      "[CV] learning_rate=1, max_depth=2, n_estimators=50 ...................\n",
      "[CV]  learning_rate=1, max_depth=2, n_estimators=50, score=0.9704142011834319, total=   0.1s\n",
      "[CV] learning_rate=1, max_depth=2, n_estimators=50 ...................\n",
      "[CV]  learning_rate=1, max_depth=2, n_estimators=50, score=0.9763313609467456, total=   0.1s\n",
      "[CV] learning_rate=1, max_depth=2, n_estimators=50 ...................\n",
      "[CV]  learning_rate=1, max_depth=2, n_estimators=50, score=0.9739336492890995, total=   0.1s\n",
      "[CV] learning_rate=1, max_depth=2, n_estimators=100 ..................\n",
      "[CV]  learning_rate=1, max_depth=2, n_estimators=100, score=0.9727810650887574, total=   0.2s\n",
      "[CV] learning_rate=1, max_depth=2, n_estimators=100 ..................\n",
      "[CV]  learning_rate=1, max_depth=2, n_estimators=100, score=0.9822485207100592, total=   0.2s\n",
      "[CV] learning_rate=1, max_depth=2, n_estimators=100 ..................\n",
      "[CV]  learning_rate=1, max_depth=2, n_estimators=100, score=0.9751184834123223, total=   0.2s\n",
      "[CV] learning_rate=1, max_depth=2, n_estimators=150 ..................\n",
      "[CV]  learning_rate=1, max_depth=2, n_estimators=150, score=0.9727810650887574, total=   0.2s\n",
      "[CV] learning_rate=1, max_depth=2, n_estimators=150 ..................\n",
      "[CV]  learning_rate=1, max_depth=2, n_estimators=150, score=0.9822485207100592, total=   0.3s\n",
      "[CV] learning_rate=1, max_depth=2, n_estimators=150 ..................\n",
      "[CV]  learning_rate=1, max_depth=2, n_estimators=150, score=0.9751184834123223, total=   0.2s\n",
      "[CV] learning_rate=1, max_depth=2, n_estimators=200 ..................\n",
      "[CV]  learning_rate=1, max_depth=2, n_estimators=200, score=0.9727810650887574, total=   0.3s\n",
      "[CV] learning_rate=1, max_depth=2, n_estimators=200 ..................\n",
      "[CV]  learning_rate=1, max_depth=2, n_estimators=200, score=0.9822485207100592, total=   0.4s\n",
      "[CV] learning_rate=1, max_depth=2, n_estimators=200 ..................\n",
      "[CV]  learning_rate=1, max_depth=2, n_estimators=200, score=0.9751184834123223, total=   0.3s\n",
      "[CV] learning_rate=1, max_depth=2, n_estimators=250 ..................\n",
      "[CV]  learning_rate=1, max_depth=2, n_estimators=250, score=0.9727810650887574, total=   0.3s\n",
      "[CV] learning_rate=1, max_depth=2, n_estimators=250 ..................\n",
      "[CV]  learning_rate=1, max_depth=2, n_estimators=250, score=0.9822485207100592, total=   0.3s\n",
      "[CV] learning_rate=1, max_depth=2, n_estimators=250 ..................\n",
      "[CV]  learning_rate=1, max_depth=2, n_estimators=250, score=0.9751184834123223, total=   0.2s\n",
      "[CV] learning_rate=1, max_depth=2, n_estimators=300 ..................\n"
     ]
    },
    {
     "name": "stdout",
     "output_type": "stream",
     "text": [
      "[CV]  learning_rate=1, max_depth=2, n_estimators=300, score=0.9727810650887574, total=   0.3s\n",
      "[CV] learning_rate=1, max_depth=2, n_estimators=300 ..................\n",
      "[CV]  learning_rate=1, max_depth=2, n_estimators=300, score=0.9822485207100592, total=   0.3s\n",
      "[CV] learning_rate=1, max_depth=2, n_estimators=300 ..................\n",
      "[CV]  learning_rate=1, max_depth=2, n_estimators=300, score=0.9751184834123223, total=   0.3s\n",
      "[CV] learning_rate=1, max_depth=2, n_estimators=350 ..................\n",
      "[CV]  learning_rate=1, max_depth=2, n_estimators=350, score=0.9727810650887574, total=   0.3s\n",
      "[CV] learning_rate=1, max_depth=2, n_estimators=350 ..................\n",
      "[CV]  learning_rate=1, max_depth=2, n_estimators=350, score=0.9822485207100592, total=   0.3s\n",
      "[CV] learning_rate=1, max_depth=2, n_estimators=350 ..................\n",
      "[CV]  learning_rate=1, max_depth=2, n_estimators=350, score=0.9751184834123223, total=   0.2s\n",
      "[CV] learning_rate=1, max_depth=2, n_estimators=400 ..................\n",
      "[CV]  learning_rate=1, max_depth=2, n_estimators=400, score=0.9727810650887574, total=   0.3s\n",
      "[CV] learning_rate=1, max_depth=2, n_estimators=400 ..................\n",
      "[CV]  learning_rate=1, max_depth=2, n_estimators=400, score=0.9822485207100592, total=   0.3s\n",
      "[CV] learning_rate=1, max_depth=2, n_estimators=400 ..................\n",
      "[CV]  learning_rate=1, max_depth=2, n_estimators=400, score=0.9751184834123223, total=   0.3s\n",
      "[CV] learning_rate=1, max_depth=3, n_estimators=10 ...................\n",
      "[CV]  learning_rate=1, max_depth=3, n_estimators=10, score=0.9621301775147929, total=   0.0s\n",
      "[CV] learning_rate=1, max_depth=3, n_estimators=10 ...................\n",
      "[CV]  learning_rate=1, max_depth=3, n_estimators=10, score=0.9715976331360947, total=   0.0s\n",
      "[CV] learning_rate=1, max_depth=3, n_estimators=10 ...................\n",
      "[CV]  learning_rate=1, max_depth=3, n_estimators=10, score=0.9609004739336493, total=   0.0s\n",
      "[CV] learning_rate=1, max_depth=3, n_estimators=50 ...................\n",
      "[CV]  learning_rate=1, max_depth=3, n_estimators=50, score=0.9704142011834319, total=   0.1s\n",
      "[CV] learning_rate=1, max_depth=3, n_estimators=50 ...................\n",
      "[CV]  learning_rate=1, max_depth=3, n_estimators=50, score=0.9834319526627219, total=   0.1s\n",
      "[CV] learning_rate=1, max_depth=3, n_estimators=50 ...................\n",
      "[CV]  learning_rate=1, max_depth=3, n_estimators=50, score=0.966824644549763, total=   0.1s\n",
      "[CV] learning_rate=1, max_depth=3, n_estimators=100 ..................\n",
      "[CV]  learning_rate=1, max_depth=3, n_estimators=100, score=0.9704142011834319, total=   0.2s\n",
      "[CV] learning_rate=1, max_depth=3, n_estimators=100 ..................\n",
      "[CV]  learning_rate=1, max_depth=3, n_estimators=100, score=0.9810650887573964, total=   0.2s\n",
      "[CV] learning_rate=1, max_depth=3, n_estimators=100 ..................\n",
      "[CV]  learning_rate=1, max_depth=3, n_estimators=100, score=0.966824644549763, total=   0.1s\n",
      "[CV] learning_rate=1, max_depth=3, n_estimators=150 ..................\n",
      "[CV]  learning_rate=1, max_depth=3, n_estimators=150, score=0.9704142011834319, total=   0.2s\n",
      "[CV] learning_rate=1, max_depth=3, n_estimators=150 ..................\n",
      "[CV]  learning_rate=1, max_depth=3, n_estimators=150, score=0.9810650887573964, total=   0.2s\n",
      "[CV] learning_rate=1, max_depth=3, n_estimators=150 ..................\n",
      "[CV]  learning_rate=1, max_depth=3, n_estimators=150, score=0.966824644549763, total=   0.2s\n",
      "[CV] learning_rate=1, max_depth=3, n_estimators=200 ..................\n",
      "[CV]  learning_rate=1, max_depth=3, n_estimators=200, score=0.9704142011834319, total=   0.2s\n",
      "[CV] learning_rate=1, max_depth=3, n_estimators=200 ..................\n",
      "[CV]  learning_rate=1, max_depth=3, n_estimators=200, score=0.9810650887573964, total=   0.2s\n",
      "[CV] learning_rate=1, max_depth=3, n_estimators=200 ..................\n",
      "[CV]  learning_rate=1, max_depth=3, n_estimators=200, score=0.966824644549763, total=   0.2s\n",
      "[CV] learning_rate=1, max_depth=3, n_estimators=250 ..................\n",
      "[CV]  learning_rate=1, max_depth=3, n_estimators=250, score=0.9704142011834319, total=   0.2s\n",
      "[CV] learning_rate=1, max_depth=3, n_estimators=250 ..................\n",
      "[CV]  learning_rate=1, max_depth=3, n_estimators=250, score=0.9810650887573964, total=   0.3s\n",
      "[CV] learning_rate=1, max_depth=3, n_estimators=250 ..................\n",
      "[CV]  learning_rate=1, max_depth=3, n_estimators=250, score=0.966824644549763, total=   0.3s\n",
      "[CV] learning_rate=1, max_depth=3, n_estimators=300 ..................\n",
      "[CV]  learning_rate=1, max_depth=3, n_estimators=300, score=0.9704142011834319, total=   0.3s\n",
      "[CV] learning_rate=1, max_depth=3, n_estimators=300 ..................\n",
      "[CV]  learning_rate=1, max_depth=3, n_estimators=300, score=0.9810650887573964, total=   0.3s\n",
      "[CV] learning_rate=1, max_depth=3, n_estimators=300 ..................\n",
      "[CV]  learning_rate=1, max_depth=3, n_estimators=300, score=0.966824644549763, total=   0.2s\n",
      "[CV] learning_rate=1, max_depth=3, n_estimators=350 ..................\n",
      "[CV]  learning_rate=1, max_depth=3, n_estimators=350, score=0.9704142011834319, total=   0.3s\n",
      "[CV] learning_rate=1, max_depth=3, n_estimators=350 ..................\n",
      "[CV]  learning_rate=1, max_depth=3, n_estimators=350, score=0.9810650887573964, total=   0.3s\n",
      "[CV] learning_rate=1, max_depth=3, n_estimators=350 ..................\n",
      "[CV]  learning_rate=1, max_depth=3, n_estimators=350, score=0.966824644549763, total=   0.3s\n",
      "[CV] learning_rate=1, max_depth=3, n_estimators=400 ..................\n",
      "[CV]  learning_rate=1, max_depth=3, n_estimators=400, score=0.9704142011834319, total=   0.3s\n",
      "[CV] learning_rate=1, max_depth=3, n_estimators=400 ..................\n",
      "[CV]  learning_rate=1, max_depth=3, n_estimators=400, score=0.9810650887573964, total=   0.3s\n",
      "[CV] learning_rate=1, max_depth=3, n_estimators=400 ..................\n",
      "[CV]  learning_rate=1, max_depth=3, n_estimators=400, score=0.966824644549763, total=   0.3s\n",
      "[CV] learning_rate=1, max_depth=4, n_estimators=10 ...................\n",
      "[CV]  learning_rate=1, max_depth=4, n_estimators=10, score=0.9656804733727811, total=   0.1s\n",
      "[CV] learning_rate=1, max_depth=4, n_estimators=10 ...................\n",
      "[CV]  learning_rate=1, max_depth=4, n_estimators=10, score=0.9680473372781065, total=   0.0s\n",
      "[CV] learning_rate=1, max_depth=4, n_estimators=10 ...................\n",
      "[CV]  learning_rate=1, max_depth=4, n_estimators=10, score=0.9597156398104265, total=   0.0s\n",
      "[CV] learning_rate=1, max_depth=4, n_estimators=50 ...................\n",
      "[CV]  learning_rate=1, max_depth=4, n_estimators=50, score=0.9775147928994082, total=   0.2s\n",
      "[CV] learning_rate=1, max_depth=4, n_estimators=50 ...................\n",
      "[CV]  learning_rate=1, max_depth=4, n_estimators=50, score=0.9739644970414201, total=   0.2s\n",
      "[CV] learning_rate=1, max_depth=4, n_estimators=50 ...................\n",
      "[CV]  learning_rate=1, max_depth=4, n_estimators=50, score=0.9656398104265402, total=   0.1s\n",
      "[CV] learning_rate=1, max_depth=4, n_estimators=100 ..................\n",
      "[CV]  learning_rate=1, max_depth=4, n_estimators=100, score=0.9775147928994082, total=   0.2s\n",
      "[CV] learning_rate=1, max_depth=4, n_estimators=100 ..................\n",
      "[CV]  learning_rate=1, max_depth=4, n_estimators=100, score=0.9739644970414201, total=   0.2s\n",
      "[CV] learning_rate=1, max_depth=4, n_estimators=100 ..................\n",
      "[CV]  learning_rate=1, max_depth=4, n_estimators=100, score=0.9656398104265402, total=   0.2s\n",
      "[CV] learning_rate=1, max_depth=4, n_estimators=150 ..................\n",
      "[CV]  learning_rate=1, max_depth=4, n_estimators=150, score=0.9775147928994082, total=   0.2s\n",
      "[CV] learning_rate=1, max_depth=4, n_estimators=150 ..................\n",
      "[CV]  learning_rate=1, max_depth=4, n_estimators=150, score=0.9739644970414201, total=   0.2s\n",
      "[CV] learning_rate=1, max_depth=4, n_estimators=150 ..................\n",
      "[CV]  learning_rate=1, max_depth=4, n_estimators=150, score=0.9656398104265402, total=   0.2s\n",
      "[CV] learning_rate=1, max_depth=4, n_estimators=200 ..................\n",
      "[CV]  learning_rate=1, max_depth=4, n_estimators=200, score=0.9775147928994082, total=   0.2s\n",
      "[CV] learning_rate=1, max_depth=4, n_estimators=200 ..................\n",
      "[CV]  learning_rate=1, max_depth=4, n_estimators=200, score=0.9739644970414201, total=   0.2s\n",
      "[CV] learning_rate=1, max_depth=4, n_estimators=200 ..................\n"
     ]
    },
    {
     "name": "stdout",
     "output_type": "stream",
     "text": [
      "[CV]  learning_rate=1, max_depth=4, n_estimators=200, score=0.9656398104265402, total=   0.2s\n",
      "[CV] learning_rate=1, max_depth=4, n_estimators=250 ..................\n",
      "[CV]  learning_rate=1, max_depth=4, n_estimators=250, score=0.9775147928994082, total=   0.3s\n",
      "[CV] learning_rate=1, max_depth=4, n_estimators=250 ..................\n",
      "[CV]  learning_rate=1, max_depth=4, n_estimators=250, score=0.9739644970414201, total=   0.3s\n",
      "[CV] learning_rate=1, max_depth=4, n_estimators=250 ..................\n",
      "[CV]  learning_rate=1, max_depth=4, n_estimators=250, score=0.9656398104265402, total=   0.2s\n",
      "[CV] learning_rate=1, max_depth=4, n_estimators=300 ..................\n",
      "[CV]  learning_rate=1, max_depth=4, n_estimators=300, score=0.9775147928994082, total=   0.3s\n",
      "[CV] learning_rate=1, max_depth=4, n_estimators=300 ..................\n",
      "[CV]  learning_rate=1, max_depth=4, n_estimators=300, score=0.9739644970414201, total=   0.3s\n",
      "[CV] learning_rate=1, max_depth=4, n_estimators=300 ..................\n",
      "[CV]  learning_rate=1, max_depth=4, n_estimators=300, score=0.9656398104265402, total=   0.3s\n",
      "[CV] learning_rate=1, max_depth=4, n_estimators=350 ..................\n",
      "[CV]  learning_rate=1, max_depth=4, n_estimators=350, score=0.9775147928994082, total=   0.3s\n",
      "[CV] learning_rate=1, max_depth=4, n_estimators=350 ..................\n",
      "[CV]  learning_rate=1, max_depth=4, n_estimators=350, score=0.9739644970414201, total=   0.3s\n",
      "[CV] learning_rate=1, max_depth=4, n_estimators=350 ..................\n",
      "[CV]  learning_rate=1, max_depth=4, n_estimators=350, score=0.9656398104265402, total=   0.3s\n",
      "[CV] learning_rate=1, max_depth=4, n_estimators=400 ..................\n",
      "[CV]  learning_rate=1, max_depth=4, n_estimators=400, score=0.9775147928994082, total=   0.3s\n",
      "[CV] learning_rate=1, max_depth=4, n_estimators=400 ..................\n",
      "[CV]  learning_rate=1, max_depth=4, n_estimators=400, score=0.9739644970414201, total=   0.4s\n",
      "[CV] learning_rate=1, max_depth=4, n_estimators=400 ..................\n",
      "[CV]  learning_rate=1, max_depth=4, n_estimators=400, score=0.9656398104265402, total=   0.2s\n",
      "[CV] learning_rate=1, max_depth=5, n_estimators=10 ...................\n",
      "[CV]  learning_rate=1, max_depth=5, n_estimators=10, score=0.9680473372781065, total=   0.1s\n",
      "[CV] learning_rate=1, max_depth=5, n_estimators=10 ...................\n",
      "[CV]  learning_rate=1, max_depth=5, n_estimators=10, score=0.9822485207100592, total=   0.1s\n",
      "[CV] learning_rate=1, max_depth=5, n_estimators=10 ...................\n",
      "[CV]  learning_rate=1, max_depth=5, n_estimators=10, score=0.9691943127962085, total=   0.1s\n",
      "[CV] learning_rate=1, max_depth=5, n_estimators=50 ...................\n",
      "[CV]  learning_rate=1, max_depth=5, n_estimators=50, score=0.9751479289940829, total=   0.2s\n",
      "[CV] learning_rate=1, max_depth=5, n_estimators=50 ...................\n",
      "[CV]  learning_rate=1, max_depth=5, n_estimators=50, score=0.9810650887573964, total=   0.2s\n",
      "[CV] learning_rate=1, max_depth=5, n_estimators=50 ...................\n",
      "[CV]  learning_rate=1, max_depth=5, n_estimators=50, score=0.9703791469194313, total=   0.1s\n",
      "[CV] learning_rate=1, max_depth=5, n_estimators=100 ..................\n",
      "[CV]  learning_rate=1, max_depth=5, n_estimators=100, score=0.9751479289940829, total=   0.1s\n",
      "[CV] learning_rate=1, max_depth=5, n_estimators=100 ..................\n",
      "[CV]  learning_rate=1, max_depth=5, n_estimators=100, score=0.9810650887573964, total=   0.1s\n",
      "[CV] learning_rate=1, max_depth=5, n_estimators=100 ..................\n",
      "[CV]  learning_rate=1, max_depth=5, n_estimators=100, score=0.9703791469194313, total=   0.1s\n",
      "[CV] learning_rate=1, max_depth=5, n_estimators=150 ..................\n",
      "[CV]  learning_rate=1, max_depth=5, n_estimators=150, score=0.9751479289940829, total=   0.2s\n",
      "[CV] learning_rate=1, max_depth=5, n_estimators=150 ..................\n",
      "[CV]  learning_rate=1, max_depth=5, n_estimators=150, score=0.9810650887573964, total=   0.2s\n",
      "[CV] learning_rate=1, max_depth=5, n_estimators=150 ..................\n",
      "[CV]  learning_rate=1, max_depth=5, n_estimators=150, score=0.9703791469194313, total=   0.2s\n",
      "[CV] learning_rate=1, max_depth=5, n_estimators=200 ..................\n",
      "[CV]  learning_rate=1, max_depth=5, n_estimators=200, score=0.9751479289940829, total=   0.3s\n",
      "[CV] learning_rate=1, max_depth=5, n_estimators=200 ..................\n",
      "[CV]  learning_rate=1, max_depth=5, n_estimators=200, score=0.9810650887573964, total=   0.2s\n",
      "[CV] learning_rate=1, max_depth=5, n_estimators=200 ..................\n",
      "[CV]  learning_rate=1, max_depth=5, n_estimators=200, score=0.9703791469194313, total=   0.2s\n",
      "[CV] learning_rate=1, max_depth=5, n_estimators=250 ..................\n",
      "[CV]  learning_rate=1, max_depth=5, n_estimators=250, score=0.9751479289940829, total=   0.2s\n",
      "[CV] learning_rate=1, max_depth=5, n_estimators=250 ..................\n",
      "[CV]  learning_rate=1, max_depth=5, n_estimators=250, score=0.9810650887573964, total=   0.2s\n",
      "[CV] learning_rate=1, max_depth=5, n_estimators=250 ..................\n",
      "[CV]  learning_rate=1, max_depth=5, n_estimators=250, score=0.9703791469194313, total=   0.2s\n",
      "[CV] learning_rate=1, max_depth=5, n_estimators=300 ..................\n",
      "[CV]  learning_rate=1, max_depth=5, n_estimators=300, score=0.9751479289940829, total=   0.2s\n",
      "[CV] learning_rate=1, max_depth=5, n_estimators=300 ..................\n",
      "[CV]  learning_rate=1, max_depth=5, n_estimators=300, score=0.9810650887573964, total=   0.2s\n",
      "[CV] learning_rate=1, max_depth=5, n_estimators=300 ..................\n",
      "[CV]  learning_rate=1, max_depth=5, n_estimators=300, score=0.9703791469194313, total=   0.3s\n",
      "[CV] learning_rate=1, max_depth=5, n_estimators=350 ..................\n",
      "[CV]  learning_rate=1, max_depth=5, n_estimators=350, score=0.9751479289940829, total=   0.2s\n",
      "[CV] learning_rate=1, max_depth=5, n_estimators=350 ..................\n",
      "[CV]  learning_rate=1, max_depth=5, n_estimators=350, score=0.9810650887573964, total=   0.3s\n",
      "[CV] learning_rate=1, max_depth=5, n_estimators=350 ..................\n",
      "[CV]  learning_rate=1, max_depth=5, n_estimators=350, score=0.9703791469194313, total=   0.2s\n",
      "[CV] learning_rate=1, max_depth=5, n_estimators=400 ..................\n",
      "[CV]  learning_rate=1, max_depth=5, n_estimators=400, score=0.9751479289940829, total=   0.3s\n",
      "[CV] learning_rate=1, max_depth=5, n_estimators=400 ..................\n",
      "[CV]  learning_rate=1, max_depth=5, n_estimators=400, score=0.9810650887573964, total=   0.3s\n",
      "[CV] learning_rate=1, max_depth=5, n_estimators=400 ..................\n",
      "[CV]  learning_rate=1, max_depth=5, n_estimators=400, score=0.9703791469194313, total=   0.3s\n",
      "[CV] learning_rate=10, max_depth=1, n_estimators=10 ..................\n",
      "[CV]  learning_rate=10, max_depth=1, n_estimators=10, score=0.04497041420118343, total=   0.0s\n",
      "[CV] learning_rate=10, max_depth=1, n_estimators=10 ..................\n",
      "[CV]  learning_rate=10, max_depth=1, n_estimators=10, score=0.046153846153846156, total=   0.0s\n",
      "[CV] learning_rate=10, max_depth=1, n_estimators=10 ..................\n",
      "[CV]  learning_rate=10, max_depth=1, n_estimators=10, score=0.0509478672985782, total=   0.0s\n",
      "[CV] learning_rate=10, max_depth=1, n_estimators=50 ..................\n",
      "[CV]  learning_rate=10, max_depth=1, n_estimators=50, score=0.04497041420118343, total=   0.1s\n",
      "[CV] learning_rate=10, max_depth=1, n_estimators=50 ..................\n",
      "[CV]  learning_rate=10, max_depth=1, n_estimators=50, score=0.046153846153846156, total=   0.1s\n",
      "[CV] learning_rate=10, max_depth=1, n_estimators=50 ..................\n",
      "[CV]  learning_rate=10, max_depth=1, n_estimators=50, score=0.0509478672985782, total=   0.1s\n",
      "[CV] learning_rate=10, max_depth=1, n_estimators=100 .................\n",
      "[CV]  learning_rate=10, max_depth=1, n_estimators=100, score=0.04497041420118343, total=   0.1s\n",
      "[CV] learning_rate=10, max_depth=1, n_estimators=100 .................\n",
      "[CV]  learning_rate=10, max_depth=1, n_estimators=100, score=0.046153846153846156, total=   0.1s\n",
      "[CV] learning_rate=10, max_depth=1, n_estimators=100 .................\n",
      "[CV]  learning_rate=10, max_depth=1, n_estimators=100, score=0.0509478672985782, total=   0.1s\n",
      "[CV] learning_rate=10, max_depth=1, n_estimators=150 .................\n",
      "[CV]  learning_rate=10, max_depth=1, n_estimators=150, score=0.04497041420118343, total=   0.2s\n",
      "[CV] learning_rate=10, max_depth=1, n_estimators=150 .................\n",
      "[CV]  learning_rate=10, max_depth=1, n_estimators=150, score=0.046153846153846156, total=   0.2s\n",
      "[CV] learning_rate=10, max_depth=1, n_estimators=150 .................\n"
     ]
    },
    {
     "name": "stdout",
     "output_type": "stream",
     "text": [
      "[CV]  learning_rate=10, max_depth=1, n_estimators=150, score=0.0509478672985782, total=   0.2s\n",
      "[CV] learning_rate=10, max_depth=1, n_estimators=200 .................\n",
      "[CV]  learning_rate=10, max_depth=1, n_estimators=200, score=0.04497041420118343, total=   0.2s\n",
      "[CV] learning_rate=10, max_depth=1, n_estimators=200 .................\n",
      "[CV]  learning_rate=10, max_depth=1, n_estimators=200, score=0.046153846153846156, total=   0.2s\n",
      "[CV] learning_rate=10, max_depth=1, n_estimators=200 .................\n",
      "[CV]  learning_rate=10, max_depth=1, n_estimators=200, score=0.0509478672985782, total=   0.2s\n",
      "[CV] learning_rate=10, max_depth=1, n_estimators=250 .................\n",
      "[CV]  learning_rate=10, max_depth=1, n_estimators=250, score=0.04497041420118343, total=   0.3s\n",
      "[CV] learning_rate=10, max_depth=1, n_estimators=250 .................\n",
      "[CV]  learning_rate=10, max_depth=1, n_estimators=250, score=0.046153846153846156, total=   0.3s\n",
      "[CV] learning_rate=10, max_depth=1, n_estimators=250 .................\n",
      "[CV]  learning_rate=10, max_depth=1, n_estimators=250, score=0.0509478672985782, total=   0.3s\n",
      "[CV] learning_rate=10, max_depth=1, n_estimators=300 .................\n",
      "[CV]  learning_rate=10, max_depth=1, n_estimators=300, score=0.04497041420118343, total=   0.3s\n",
      "[CV] learning_rate=10, max_depth=1, n_estimators=300 .................\n",
      "[CV]  learning_rate=10, max_depth=1, n_estimators=300, score=0.046153846153846156, total=   0.3s\n",
      "[CV] learning_rate=10, max_depth=1, n_estimators=300 .................\n",
      "[CV]  learning_rate=10, max_depth=1, n_estimators=300, score=0.0509478672985782, total=   0.3s\n",
      "[CV] learning_rate=10, max_depth=1, n_estimators=350 .................\n",
      "[CV]  learning_rate=10, max_depth=1, n_estimators=350, score=0.04497041420118343, total=   0.4s\n",
      "[CV] learning_rate=10, max_depth=1, n_estimators=350 .................\n",
      "[CV]  learning_rate=10, max_depth=1, n_estimators=350, score=0.046153846153846156, total=   0.4s\n",
      "[CV] learning_rate=10, max_depth=1, n_estimators=350 .................\n",
      "[CV]  learning_rate=10, max_depth=1, n_estimators=350, score=0.0509478672985782, total=   0.4s\n",
      "[CV] learning_rate=10, max_depth=1, n_estimators=400 .................\n",
      "[CV]  learning_rate=10, max_depth=1, n_estimators=400, score=0.04497041420118343, total=   0.4s\n",
      "[CV] learning_rate=10, max_depth=1, n_estimators=400 .................\n",
      "[CV]  learning_rate=10, max_depth=1, n_estimators=400, score=0.046153846153846156, total=   0.4s\n",
      "[CV] learning_rate=10, max_depth=1, n_estimators=400 .................\n",
      "[CV]  learning_rate=10, max_depth=1, n_estimators=400, score=0.0509478672985782, total=   0.4s\n",
      "[CV] learning_rate=10, max_depth=2, n_estimators=10 ..................\n",
      "[CV]  learning_rate=10, max_depth=2, n_estimators=10, score=0.9550295857988166, total=   0.0s\n",
      "[CV] learning_rate=10, max_depth=2, n_estimators=10 ..................\n",
      "[CV]  learning_rate=10, max_depth=2, n_estimators=10, score=0.4982248520710059, total=   0.0s\n",
      "[CV] learning_rate=10, max_depth=2, n_estimators=10 ..................\n",
      "[CV]  learning_rate=10, max_depth=2, n_estimators=10, score=0.06635071090047394, total=   0.0s\n",
      "[CV] learning_rate=10, max_depth=2, n_estimators=50 ..................\n",
      "[CV]  learning_rate=10, max_depth=2, n_estimators=50, score=0.9550295857988166, total=   0.1s\n",
      "[CV] learning_rate=10, max_depth=2, n_estimators=50 ..................\n",
      "[CV]  learning_rate=10, max_depth=2, n_estimators=50, score=0.4982248520710059, total=   0.1s\n",
      "[CV] learning_rate=10, max_depth=2, n_estimators=50 ..................\n",
      "[CV]  learning_rate=10, max_depth=2, n_estimators=50, score=0.06635071090047394, total=   0.1s\n",
      "[CV] learning_rate=10, max_depth=2, n_estimators=100 .................\n",
      "[CV]  learning_rate=10, max_depth=2, n_estimators=100, score=0.9550295857988166, total=   0.2s\n",
      "[CV] learning_rate=10, max_depth=2, n_estimators=100 .................\n",
      "[CV]  learning_rate=10, max_depth=2, n_estimators=100, score=0.4982248520710059, total=   0.2s\n",
      "[CV] learning_rate=10, max_depth=2, n_estimators=100 .................\n",
      "[CV]  learning_rate=10, max_depth=2, n_estimators=100, score=0.06635071090047394, total=   0.2s\n",
      "[CV] learning_rate=10, max_depth=2, n_estimators=150 .................\n",
      "[CV]  learning_rate=10, max_depth=2, n_estimators=150, score=0.9550295857988166, total=   0.3s\n",
      "[CV] learning_rate=10, max_depth=2, n_estimators=150 .................\n",
      "[CV]  learning_rate=10, max_depth=2, n_estimators=150, score=0.4982248520710059, total=   0.3s\n",
      "[CV] learning_rate=10, max_depth=2, n_estimators=150 .................\n",
      "[CV]  learning_rate=10, max_depth=2, n_estimators=150, score=0.06635071090047394, total=   0.3s\n",
      "[CV] learning_rate=10, max_depth=2, n_estimators=200 .................\n",
      "[CV]  learning_rate=10, max_depth=2, n_estimators=200, score=0.9550295857988166, total=   0.4s\n",
      "[CV] learning_rate=10, max_depth=2, n_estimators=200 .................\n",
      "[CV]  learning_rate=10, max_depth=2, n_estimators=200, score=0.4982248520710059, total=   0.4s\n",
      "[CV] learning_rate=10, max_depth=2, n_estimators=200 .................\n",
      "[CV]  learning_rate=10, max_depth=2, n_estimators=200, score=0.06635071090047394, total=   0.4s\n",
      "[CV] learning_rate=10, max_depth=2, n_estimators=250 .................\n",
      "[CV]  learning_rate=10, max_depth=2, n_estimators=250, score=0.9550295857988166, total=   0.5s\n",
      "[CV] learning_rate=10, max_depth=2, n_estimators=250 .................\n",
      "[CV]  learning_rate=10, max_depth=2, n_estimators=250, score=0.4982248520710059, total=   0.5s\n",
      "[CV] learning_rate=10, max_depth=2, n_estimators=250 .................\n",
      "[CV]  learning_rate=10, max_depth=2, n_estimators=250, score=0.06635071090047394, total=   0.5s\n",
      "[CV] learning_rate=10, max_depth=2, n_estimators=300 .................\n",
      "[CV]  learning_rate=10, max_depth=2, n_estimators=300, score=0.9550295857988166, total=   0.6s\n",
      "[CV] learning_rate=10, max_depth=2, n_estimators=300 .................\n",
      "[CV]  learning_rate=10, max_depth=2, n_estimators=300, score=0.4982248520710059, total=   0.6s\n",
      "[CV] learning_rate=10, max_depth=2, n_estimators=300 .................\n",
      "[CV]  learning_rate=10, max_depth=2, n_estimators=300, score=0.06635071090047394, total=   0.6s\n",
      "[CV] learning_rate=10, max_depth=2, n_estimators=350 .................\n",
      "[CV]  learning_rate=10, max_depth=2, n_estimators=350, score=0.9550295857988166, total=   0.7s\n",
      "[CV] learning_rate=10, max_depth=2, n_estimators=350 .................\n",
      "[CV]  learning_rate=10, max_depth=2, n_estimators=350, score=0.4982248520710059, total=   0.7s\n",
      "[CV] learning_rate=10, max_depth=2, n_estimators=350 .................\n",
      "[CV]  learning_rate=10, max_depth=2, n_estimators=350, score=0.06635071090047394, total=   0.7s\n",
      "[CV] learning_rate=10, max_depth=2, n_estimators=400 .................\n",
      "[CV]  learning_rate=10, max_depth=2, n_estimators=400, score=0.9550295857988166, total=   0.8s\n",
      "[CV] learning_rate=10, max_depth=2, n_estimators=400 .................\n",
      "[CV]  learning_rate=10, max_depth=2, n_estimators=400, score=0.4982248520710059, total=   0.8s\n",
      "[CV] learning_rate=10, max_depth=2, n_estimators=400 .................\n",
      "[CV]  learning_rate=10, max_depth=2, n_estimators=400, score=0.06635071090047394, total=   0.8s\n",
      "[CV] learning_rate=10, max_depth=3, n_estimators=10 ..................\n",
      "[CV]  learning_rate=10, max_depth=3, n_estimators=10, score=0.41893491124260357, total=   0.0s\n",
      "[CV] learning_rate=10, max_depth=3, n_estimators=10 ..................\n",
      "[CV]  learning_rate=10, max_depth=3, n_estimators=10, score=0.1408284023668639, total=   0.0s\n",
      "[CV] learning_rate=10, max_depth=3, n_estimators=10 ..................\n",
      "[CV]  learning_rate=10, max_depth=3, n_estimators=10, score=0.5035545023696683, total=   0.0s\n",
      "[CV] learning_rate=10, max_depth=3, n_estimators=50 ..................\n",
      "[CV]  learning_rate=10, max_depth=3, n_estimators=50, score=0.41893491124260357, total=   0.2s\n",
      "[CV] learning_rate=10, max_depth=3, n_estimators=50 ..................\n",
      "[CV]  learning_rate=10, max_depth=3, n_estimators=50, score=0.1408284023668639, total=   0.2s\n",
      "[CV] learning_rate=10, max_depth=3, n_estimators=50 ..................\n",
      "[CV]  learning_rate=10, max_depth=3, n_estimators=50, score=0.5035545023696683, total=   0.2s\n",
      "[CV] learning_rate=10, max_depth=3, n_estimators=100 .................\n",
      "[CV]  learning_rate=10, max_depth=3, n_estimators=100, score=0.41893491124260357, total=   0.3s\n",
      "[CV] learning_rate=10, max_depth=3, n_estimators=100 .................\n"
     ]
    },
    {
     "name": "stdout",
     "output_type": "stream",
     "text": [
      "[CV]  learning_rate=10, max_depth=3, n_estimators=100, score=0.1408284023668639, total=   0.3s\n",
      "[CV] learning_rate=10, max_depth=3, n_estimators=100 .................\n",
      "[CV]  learning_rate=10, max_depth=3, n_estimators=100, score=0.5035545023696683, total=   0.3s\n",
      "[CV] learning_rate=10, max_depth=3, n_estimators=150 .................\n",
      "[CV]  learning_rate=10, max_depth=3, n_estimators=150, score=0.41893491124260357, total=   0.5s\n",
      "[CV] learning_rate=10, max_depth=3, n_estimators=150 .................\n",
      "[CV]  learning_rate=10, max_depth=3, n_estimators=150, score=0.1408284023668639, total=   0.5s\n",
      "[CV] learning_rate=10, max_depth=3, n_estimators=150 .................\n",
      "[CV]  learning_rate=10, max_depth=3, n_estimators=150, score=0.5035545023696683, total=   0.5s\n",
      "[CV] learning_rate=10, max_depth=3, n_estimators=200 .................\n",
      "[CV]  learning_rate=10, max_depth=3, n_estimators=200, score=0.41893491124260357, total=   0.6s\n",
      "[CV] learning_rate=10, max_depth=3, n_estimators=200 .................\n",
      "[CV]  learning_rate=10, max_depth=3, n_estimators=200, score=0.1408284023668639, total=   0.6s\n",
      "[CV] learning_rate=10, max_depth=3, n_estimators=200 .................\n",
      "[CV]  learning_rate=10, max_depth=3, n_estimators=200, score=0.5035545023696683, total=   0.8s\n",
      "[CV] learning_rate=10, max_depth=3, n_estimators=250 .................\n",
      "[CV]  learning_rate=10, max_depth=3, n_estimators=250, score=0.41893491124260357, total=   1.1s\n",
      "[CV] learning_rate=10, max_depth=3, n_estimators=250 .................\n",
      "[CV]  learning_rate=10, max_depth=3, n_estimators=250, score=0.1408284023668639, total=   0.9s\n",
      "[CV] learning_rate=10, max_depth=3, n_estimators=250 .................\n",
      "[CV]  learning_rate=10, max_depth=3, n_estimators=250, score=0.5035545023696683, total=   0.8s\n",
      "[CV] learning_rate=10, max_depth=3, n_estimators=300 .................\n",
      "[CV]  learning_rate=10, max_depth=3, n_estimators=300, score=0.41893491124260357, total=   1.1s\n",
      "[CV] learning_rate=10, max_depth=3, n_estimators=300 .................\n",
      "[CV]  learning_rate=10, max_depth=3, n_estimators=300, score=0.1408284023668639, total=   1.2s\n",
      "[CV] learning_rate=10, max_depth=3, n_estimators=300 .................\n",
      "[CV]  learning_rate=10, max_depth=3, n_estimators=300, score=0.5035545023696683, total=   1.1s\n",
      "[CV] learning_rate=10, max_depth=3, n_estimators=350 .................\n",
      "[CV]  learning_rate=10, max_depth=3, n_estimators=350, score=0.41893491124260357, total=   1.2s\n",
      "[CV] learning_rate=10, max_depth=3, n_estimators=350 .................\n",
      "[CV]  learning_rate=10, max_depth=3, n_estimators=350, score=0.1408284023668639, total=   1.1s\n",
      "[CV] learning_rate=10, max_depth=3, n_estimators=350 .................\n",
      "[CV]  learning_rate=10, max_depth=3, n_estimators=350, score=0.5035545023696683, total=   1.1s\n",
      "[CV] learning_rate=10, max_depth=3, n_estimators=400 .................\n",
      "[CV]  learning_rate=10, max_depth=3, n_estimators=400, score=0.41893491124260357, total=   1.3s\n",
      "[CV] learning_rate=10, max_depth=3, n_estimators=400 .................\n",
      "[CV]  learning_rate=10, max_depth=3, n_estimators=400, score=0.1408284023668639, total=   1.3s\n",
      "[CV] learning_rate=10, max_depth=3, n_estimators=400 .................\n",
      "[CV]  learning_rate=10, max_depth=3, n_estimators=400, score=0.5035545023696683, total=   1.5s\n",
      "[CV] learning_rate=10, max_depth=4, n_estimators=10 ..................\n",
      "[CV]  learning_rate=10, max_depth=4, n_estimators=10, score=0.8402366863905325, total=   0.0s\n",
      "[CV] learning_rate=10, max_depth=4, n_estimators=10 ..................\n",
      "[CV]  learning_rate=10, max_depth=4, n_estimators=10, score=0.3810650887573965, total=   0.0s\n",
      "[CV] learning_rate=10, max_depth=4, n_estimators=10 ..................\n",
      "[CV]  learning_rate=10, max_depth=4, n_estimators=10, score=0.04739336492890995, total=   0.0s\n",
      "[CV] learning_rate=10, max_depth=4, n_estimators=50 ..................\n",
      "[CV]  learning_rate=10, max_depth=4, n_estimators=50, score=0.8402366863905325, total=   0.2s\n",
      "[CV] learning_rate=10, max_depth=4, n_estimators=50 ..................\n",
      "[CV]  learning_rate=10, max_depth=4, n_estimators=50, score=0.3810650887573965, total=   0.2s\n",
      "[CV] learning_rate=10, max_depth=4, n_estimators=50 ..................\n",
      "[CV]  learning_rate=10, max_depth=4, n_estimators=50, score=0.04739336492890995, total=   0.2s\n",
      "[CV] learning_rate=10, max_depth=4, n_estimators=100 .................\n",
      "[CV]  learning_rate=10, max_depth=4, n_estimators=100, score=0.8414201183431953, total=   0.4s\n",
      "[CV] learning_rate=10, max_depth=4, n_estimators=100 .................\n",
      "[CV]  learning_rate=10, max_depth=4, n_estimators=100, score=0.3810650887573965, total=   0.5s\n",
      "[CV] learning_rate=10, max_depth=4, n_estimators=100 .................\n",
      "[CV]  learning_rate=10, max_depth=4, n_estimators=100, score=0.04739336492890995, total=   0.4s\n",
      "[CV] learning_rate=10, max_depth=4, n_estimators=150 .................\n",
      "[CV]  learning_rate=10, max_depth=4, n_estimators=150, score=0.8402366863905325, total=   0.6s\n",
      "[CV] learning_rate=10, max_depth=4, n_estimators=150 .................\n",
      "[CV]  learning_rate=10, max_depth=4, n_estimators=150, score=0.3810650887573965, total=   0.7s\n",
      "[CV] learning_rate=10, max_depth=4, n_estimators=150 .................\n",
      "[CV]  learning_rate=10, max_depth=4, n_estimators=150, score=0.04739336492890995, total=   0.6s\n",
      "[CV] learning_rate=10, max_depth=4, n_estimators=200 .................\n",
      "[CV]  learning_rate=10, max_depth=4, n_estimators=200, score=0.8402366863905325, total=   0.8s\n",
      "[CV] learning_rate=10, max_depth=4, n_estimators=200 .................\n",
      "[CV]  learning_rate=10, max_depth=4, n_estimators=200, score=0.3810650887573965, total=   1.0s\n",
      "[CV] learning_rate=10, max_depth=4, n_estimators=200 .................\n",
      "[CV]  learning_rate=10, max_depth=4, n_estimators=200, score=0.04739336492890995, total=   1.0s\n",
      "[CV] learning_rate=10, max_depth=4, n_estimators=250 .................\n",
      "[CV]  learning_rate=10, max_depth=4, n_estimators=250, score=0.8402366863905325, total=   0.9s\n",
      "[CV] learning_rate=10, max_depth=4, n_estimators=250 .................\n",
      "[CV]  learning_rate=10, max_depth=4, n_estimators=250, score=0.3810650887573965, total=   1.2s\n",
      "[CV] learning_rate=10, max_depth=4, n_estimators=250 .................\n",
      "[CV]  learning_rate=10, max_depth=4, n_estimators=250, score=0.04739336492890995, total=   1.0s\n",
      "[CV] learning_rate=10, max_depth=4, n_estimators=300 .................\n",
      "[CV]  learning_rate=10, max_depth=4, n_estimators=300, score=0.8402366863905325, total=   1.1s\n",
      "[CV] learning_rate=10, max_depth=4, n_estimators=300 .................\n",
      "[CV]  learning_rate=10, max_depth=4, n_estimators=300, score=0.3810650887573965, total=   1.3s\n",
      "[CV] learning_rate=10, max_depth=4, n_estimators=300 .................\n",
      "[CV]  learning_rate=10, max_depth=4, n_estimators=300, score=0.04739336492890995, total=   1.2s\n",
      "[CV] learning_rate=10, max_depth=4, n_estimators=350 .................\n",
      "[CV]  learning_rate=10, max_depth=4, n_estimators=350, score=0.8402366863905325, total=   1.3s\n",
      "[CV] learning_rate=10, max_depth=4, n_estimators=350 .................\n",
      "[CV]  learning_rate=10, max_depth=4, n_estimators=350, score=0.3810650887573965, total=   1.6s\n",
      "[CV] learning_rate=10, max_depth=4, n_estimators=350 .................\n",
      "[CV]  learning_rate=10, max_depth=4, n_estimators=350, score=0.04739336492890995, total=   1.5s\n",
      "[CV] learning_rate=10, max_depth=4, n_estimators=400 .................\n",
      "[CV]  learning_rate=10, max_depth=4, n_estimators=400, score=0.8402366863905325, total=   1.5s\n",
      "[CV] learning_rate=10, max_depth=4, n_estimators=400 .................\n",
      "[CV]  learning_rate=10, max_depth=4, n_estimators=400, score=0.3810650887573965, total=   2.0s\n",
      "[CV] learning_rate=10, max_depth=4, n_estimators=400 .................\n",
      "[CV]  learning_rate=10, max_depth=4, n_estimators=400, score=0.04739336492890995, total=   1.6s\n",
      "[CV] learning_rate=10, max_depth=5, n_estimators=10 ..................\n",
      "[CV]  learning_rate=10, max_depth=5, n_estimators=10, score=0.3408284023668639, total=   0.1s\n",
      "[CV] learning_rate=10, max_depth=5, n_estimators=10 ..................\n",
      "[CV]  learning_rate=10, max_depth=5, n_estimators=10, score=0.41183431952662725, total=   0.1s\n",
      "[CV] learning_rate=10, max_depth=5, n_estimators=10 ..................\n",
      "[CV]  learning_rate=10, max_depth=5, n_estimators=10, score=0.07464454976303317, total=   0.1s\n",
      "[CV] learning_rate=10, max_depth=5, n_estimators=50 ..................\n"
     ]
    },
    {
     "name": "stdout",
     "output_type": "stream",
     "text": [
      "[CV]  learning_rate=10, max_depth=5, n_estimators=50, score=0.3408284023668639, total=   0.3s\n",
      "[CV] learning_rate=10, max_depth=5, n_estimators=50 ..................\n",
      "[CV]  learning_rate=10, max_depth=5, n_estimators=50, score=0.41183431952662725, total=   0.3s\n",
      "[CV] learning_rate=10, max_depth=5, n_estimators=50 ..................\n",
      "[CV]  learning_rate=10, max_depth=5, n_estimators=50, score=0.07464454976303317, total=   0.3s\n",
      "[CV] learning_rate=10, max_depth=5, n_estimators=100 .................\n",
      "[CV]  learning_rate=10, max_depth=5, n_estimators=100, score=0.3408284023668639, total=   0.6s\n",
      "[CV] learning_rate=10, max_depth=5, n_estimators=100 .................\n",
      "[CV]  learning_rate=10, max_depth=5, n_estimators=100, score=0.41183431952662725, total=   0.7s\n",
      "[CV] learning_rate=10, max_depth=5, n_estimators=100 .................\n",
      "[CV]  learning_rate=10, max_depth=5, n_estimators=100, score=0.07464454976303317, total=   0.6s\n",
      "[CV] learning_rate=10, max_depth=5, n_estimators=150 .................\n",
      "[CV]  learning_rate=10, max_depth=5, n_estimators=150, score=0.3408284023668639, total=   0.9s\n",
      "[CV] learning_rate=10, max_depth=5, n_estimators=150 .................\n",
      "[CV]  learning_rate=10, max_depth=5, n_estimators=150, score=0.41183431952662725, total=   1.0s\n",
      "[CV] learning_rate=10, max_depth=5, n_estimators=150 .................\n",
      "[CV]  learning_rate=10, max_depth=5, n_estimators=150, score=0.07464454976303317, total=   0.8s\n",
      "[CV] learning_rate=10, max_depth=5, n_estimators=200 .................\n",
      "[CV]  learning_rate=10, max_depth=5, n_estimators=200, score=0.3408284023668639, total=   1.1s\n",
      "[CV] learning_rate=10, max_depth=5, n_estimators=200 .................\n",
      "[CV]  learning_rate=10, max_depth=5, n_estimators=200, score=0.41183431952662725, total=   1.2s\n",
      "[CV] learning_rate=10, max_depth=5, n_estimators=200 .................\n",
      "[CV]  learning_rate=10, max_depth=5, n_estimators=200, score=0.07464454976303317, total=   1.0s\n",
      "[CV] learning_rate=10, max_depth=5, n_estimators=250 .................\n",
      "[CV]  learning_rate=10, max_depth=5, n_estimators=250, score=0.3408284023668639, total=   1.4s\n",
      "[CV] learning_rate=10, max_depth=5, n_estimators=250 .................\n",
      "[CV]  learning_rate=10, max_depth=5, n_estimators=250, score=0.41183431952662725, total=   1.5s\n",
      "[CV] learning_rate=10, max_depth=5, n_estimators=250 .................\n",
      "[CV]  learning_rate=10, max_depth=5, n_estimators=250, score=0.07464454976303317, total=   1.3s\n",
      "[CV] learning_rate=10, max_depth=5, n_estimators=300 .................\n",
      "[CV]  learning_rate=10, max_depth=5, n_estimators=300, score=0.3408284023668639, total=   1.9s\n",
      "[CV] learning_rate=10, max_depth=5, n_estimators=300 .................\n",
      "[CV]  learning_rate=10, max_depth=5, n_estimators=300, score=0.41183431952662725, total=   2.0s\n",
      "[CV] learning_rate=10, max_depth=5, n_estimators=300 .................\n",
      "[CV]  learning_rate=10, max_depth=5, n_estimators=300, score=0.07464454976303317, total=   1.5s\n",
      "[CV] learning_rate=10, max_depth=5, n_estimators=350 .................\n",
      "[CV]  learning_rate=10, max_depth=5, n_estimators=350, score=0.3408284023668639, total=   2.0s\n",
      "[CV] learning_rate=10, max_depth=5, n_estimators=350 .................\n",
      "[CV]  learning_rate=10, max_depth=5, n_estimators=350, score=0.41183431952662725, total=   2.2s\n",
      "[CV] learning_rate=10, max_depth=5, n_estimators=350 .................\n",
      "[CV]  learning_rate=10, max_depth=5, n_estimators=350, score=0.07464454976303317, total=   1.8s\n",
      "[CV] learning_rate=10, max_depth=5, n_estimators=400 .................\n",
      "[CV]  learning_rate=10, max_depth=5, n_estimators=400, score=0.3408284023668639, total=   2.4s\n",
      "[CV] learning_rate=10, max_depth=5, n_estimators=400 .................\n",
      "[CV]  learning_rate=10, max_depth=5, n_estimators=400, score=0.41183431952662725, total=   2.5s\n",
      "[CV] learning_rate=10, max_depth=5, n_estimators=400 .................\n",
      "[CV]  learning_rate=10, max_depth=5, n_estimators=400, score=0.07464454976303317, total=   2.0s\n"
     ]
    },
    {
     "name": "stderr",
     "output_type": "stream",
     "text": [
      "[Parallel(n_jobs=1)]: Done 675 out of 675 | elapsed:  6.6min finished\n"
     ]
    },
    {
     "name": "stdout",
     "output_type": "stream",
     "text": [
      "Best score: 0.9806629834254144\n",
      "Best parameter set: {'learning_rate': 0.1, 'max_depth': 2, 'n_estimators': 400}\n"
     ]
    }
   ],
   "source": [
    "param_grid = {'n_estimators': [10,50,100,150,200,250,300,350,400],\n",
    "             'learning_rate': [0.001, 0.01, 0.1, 1, 10],\n",
    "             'max_depth': [1,2,3,4,5]}\n",
    "gb_tree_model = GridSearchCV(GradientBoostingClassifier(random_state=0),param_grid,refit=True,verbose=4)\n",
    "gb_tree_model = gb_tree_model.fit(X_train, y_train)\n",
    "print(\"Best score: %s\" % (gb_tree_model.best_score_))\n",
    "print(\"Best parameter set: %s\" % (gb_tree_model.best_params_))"
   ]
  },
  {
   "cell_type": "code",
   "execution_count": 85,
   "metadata": {},
   "outputs": [
    {
     "name": "stdout",
     "output_type": "stream",
     "text": [
      "Gradient Boosted Tree CV Accuracy: 97.00% (+/- 4.75%)\n"
     ]
    }
   ],
   "source": [
    "gb_tree_model = GradientBoostingClassifier(n_estimators=400, learning_rate=0.1, max_depth=2, random_state=0)\n",
    "gb_tree_scores = cross_val_score(gb_tree_model, X, y, cv=10)\n",
    "print(\"Gradient Boosted Tree CV Accuracy: %0.2f%% (+/- %0.2f%%)\" % (gb_tree_scores.mean()*100, gb_tree_scores.std() * 2*100))"
   ]
  },
  {
   "cell_type": "markdown",
   "metadata": {},
   "source": [
    "## Naive Bayes"
   ]
  },
  {
   "cell_type": "code",
   "execution_count": 86,
   "metadata": {
    "scrolled": true
   },
   "outputs": [
    {
     "name": "stdout",
     "output_type": "stream",
     "text": [
      "Naive Bayes CV Accuracy: 85.67% (+/- 15.46%)\n"
     ]
    }
   ],
   "source": [
    "naive_bayes_model = GaussianNB()\n",
    "naive_bayes_scores = cross_val_score(naive_bayes_model, X, y, cv=10)\n",
    "print(\"Naive Bayes CV Accuracy: %0.2f%% (+/- %0.2f%%)\" % (naive_bayes_scores.mean()*100, naive_bayes_scores.std() * 2*100))"
   ]
  },
  {
   "cell_type": "markdown",
   "metadata": {},
   "source": [
    "# Model Comparison Using Principal Component Analysis\n",
    "\n",
    "## PCA"
   ]
  },
  {
   "cell_type": "code",
   "execution_count": 91,
   "metadata": {
    "scrolled": true
   },
   "outputs": [
    {
     "name": "stdout",
     "output_type": "stream",
     "text": [
      "Fitting 3 folds for each of 8 candidates, totalling 24 fits\n",
      "[CV] n_components=1 ..................................................\n",
      "[CV] ........ n_components=1, score=-35.682692247528166, total=   0.0s\n",
      "[CV] n_components=1 ..................................................\n",
      "[CV] ......... n_components=1, score=-34.98405588269396, total=   0.0s\n",
      "[CV] n_components=1 ..................................................\n",
      "[CV] ......... n_components=1, score=-36.52779392790749, total=   0.0s\n",
      "[CV] n_components=2 ..................................................\n",
      "[CV] .......... n_components=2, score=-8.26304640386624, total=   0.0s\n",
      "[CV] n_components=2 ..................................................\n",
      "[CV] ......... n_components=2, score=-7.928744471857906, total=   0.0s\n",
      "[CV] n_components=2 ..................................................\n",
      "[CV] ......... n_components=2, score=-8.787424580373761, total=   0.0s\n",
      "[CV] n_components=3 ..................................................\n",
      "[CV] .......... n_components=3, score=5.425058314922497, total=   0.0s\n",
      "[CV] n_components=3 ..................................................\n",
      "[CV] .......... n_components=3, score=5.789309201631828, total=   0.0s\n",
      "[CV] n_components=3 ..................................................\n",
      "[CV] .......... n_components=3, score=5.983770104312265, total=   0.0s\n",
      "[CV] n_components=4 ..................................................\n",
      "[CV] ......... n_components=4, score=12.214864388562686, total=   0.0s\n",
      "[CV] n_components=4 ..................................................\n",
      "[CV] ......... n_components=4, score=12.533359120886471, total=   0.0s\n",
      "[CV] n_components=4 ..................................................\n",
      "[CV] ......... n_components=4, score=12.324015662119027, total=   0.0s\n",
      "[CV] n_components=5 ..................................................\n",
      "[CV] ......... n_components=5, score=16.552218937985963, total=   0.0s\n",
      "[CV] n_components=5 ..................................................\n",
      "[CV] ......... n_components=5, score=16.772025522069452, total=   0.0s\n",
      "[CV] n_components=5 ..................................................\n",
      "[CV] ......... n_components=5, score=17.142802243099347, total=   0.0s\n",
      "[CV] n_components=6 ..................................................\n",
      "[CV] ......... n_components=6, score=19.546240109888128, total=   0.0s\n",
      "[CV] n_components=6 ..................................................\n",
      "[CV] .......... n_components=6, score=19.26655889346994, total=   0.0s\n",
      "[CV] n_components=6 ..................................................\n",
      "[CV] ......... n_components=6, score=19.567532102748366, total=   0.0s\n",
      "[CV] n_components=7 ..................................................\n",
      "[CV] ......... n_components=7, score=21.368809131147444, total=   0.0s\n",
      "[CV] n_components=7 ..................................................\n",
      "[CV] ......... n_components=7, score=20.970224571824982, total=   0.0s\n",
      "[CV] n_components=7 ..................................................\n",
      "[CV] ......... n_components=7, score=21.345691145336083, total=   0.0s\n",
      "[CV] n_components=8 ..................................................\n"
     ]
    },
    {
     "name": "stderr",
     "output_type": "stream",
     "text": [
      "[Parallel(n_jobs=1)]: Done   1 out of   1 | elapsed:    0.0s remaining:    0.0s\n",
      "[Parallel(n_jobs=1)]: Done   2 out of   2 | elapsed:    0.0s remaining:    0.0s\n",
      "[Parallel(n_jobs=1)]: Done   3 out of   3 | elapsed:    0.0s remaining:    0.0s\n"
     ]
    },
    {
     "name": "stdout",
     "output_type": "stream",
     "text": [
      "[CV] .......... n_components=8, score=23.28535872068322, total=   0.0s\n",
      "[CV] n_components=8 ..................................................\n",
      "[CV] ......... n_components=8, score=22.673176359623124, total=   0.0s\n",
      "[CV] n_components=8 ..................................................\n",
      "[CV] ......... n_components=8, score=23.307115332290437, total=   0.0s\n",
      "Best score: 23.088463884495656\n",
      "Best parameter set: {'n_components': 8}\n"
     ]
    },
    {
     "name": "stderr",
     "output_type": "stream",
     "text": [
      "[Parallel(n_jobs=1)]: Done  24 out of  24 | elapsed:    0.2s finished\n"
     ]
    }
   ],
   "source": [
    "param_grid = {'n_components': [1,2,3,4,5,6,7,8]}\n",
    "pca_model = GridSearchCV(PCA(),param_grid,refit=True,verbose=4)\n",
    "pca_model = pca_model.fit(X_train, y_train)\n",
    "print(\"Best score: %s\" % (pca_model.best_score_))\n",
    "print(\"Best parameter set: %s\" % (pca_model.best_params_))"
   ]
  },
  {
   "cell_type": "code",
   "execution_count": 105,
   "metadata": {},
   "outputs": [
    {
     "name": "stdout",
     "output_type": "stream",
     "text": [
      "1 components captures 0.99869 of the variance\n",
      "2 components captures 0.99995 of the variance\n",
      "3 components captures 0.99999 of the variance\n",
      "4 components captures 1.00000 of the variance\n",
      "5 components captures 1.00000 of the variance\n",
      "6 components captures 1.00000 of the variance\n",
      "7 components captures 1.00000 of the variance\n",
      "8 components captures 1.00000 of the variance\n",
      "9 components captures 1.00000 of the variance\n",
      "10 components captures 1.00000 of the variance\n"
     ]
    }
   ],
   "source": [
    "n_components = [1,2,3,4,5,6,7,8,9,10]\n",
    "for n in n_components:\n",
    "    pca = PCA(n_components=n).fit(X_train)\n",
    "    print(\"%d components captures %0.5f of the variance\" % (n, sum(pca.explained_variance_ratio_)))"
   ]
  },
  {
   "cell_type": "code",
   "execution_count": 114,
   "metadata": {},
   "outputs": [],
   "source": [
    "pca = PCA(n_components=3).fit(X_train)\n",
    "X_pca = pca.transform(X)\n",
    "X_train_pca = pca.transform(X_train)\n",
    "X_test_pca = pca.transform(X_test)"
   ]
  },
  {
   "cell_type": "markdown",
   "metadata": {},
   "source": [
    "## Logicstic Regression "
   ]
  },
  {
   "cell_type": "code",
   "execution_count": 113,
   "metadata": {},
   "outputs": [
    {
     "name": "stdout",
     "output_type": "stream",
     "text": [
      "Logistic Regression CV Accuracy: 66.40% (+/- 18.98%)\n"
     ]
    }
   ],
   "source": [
    "lm_model = LogisticRegression()\n",
    "lm_scores = cross_val_score(lm_model, X_pca, y, cv=10)\n",
    "print(\"Logistic Regression CV Accuracy: %0.2f%% (+/- %0.2f%%)\" % (lm_scores.mean()*100, lm_scores.std() * 2*100))"
   ]
  },
  {
   "cell_type": "markdown",
   "metadata": {},
   "source": [
    "## Support Vector Machine"
   ]
  },
  {
   "cell_type": "code",
   "execution_count": 115,
   "metadata": {},
   "outputs": [
    {
     "name": "stdout",
     "output_type": "stream",
     "text": [
      "Support Vector Machine CV Accuracy: 66.49% (+/- 17.99%)\n"
     ]
    }
   ],
   "source": [
    "svm_model = svm.SVC(kernel='linear')\n",
    "svm_scores = cross_val_score(svm_model, X_pca, y, cv=10)\n",
    "print(\"Support Vector Machine CV Accuracy: %0.2f%% (+/- %0.2f%%)\" % (svm_scores.mean()*100, svm_scores.std() * 2*100))"
   ]
  },
  {
   "cell_type": "markdown",
   "metadata": {},
   "source": [
    "## CART"
   ]
  },
  {
   "cell_type": "code",
   "execution_count": 116,
   "metadata": {},
   "outputs": [
    {
     "name": "stdout",
     "output_type": "stream",
     "text": [
      "CART CV Accuracy: 65.25% (+/- 12.69%)\n"
     ]
    }
   ],
   "source": [
    "CART_model = DecisionTreeClassifier(random_state=0)\n",
    "CART_scores = cross_val_score(CART_model, X_pca, y, cv=10)\n",
    "print(\"CART CV Accuracy: %0.2f%% (+/- %0.2f%%)\" % (CART_scores.mean()*100, CART_scores.std() * 2*100))"
   ]
  },
  {
   "cell_type": "markdown",
   "metadata": {},
   "source": [
    "## Random Forest\n",
    "\n",
    "** Modify once we cover Random Forest **"
   ]
  },
  {
   "cell_type": "code",
   "execution_count": 117,
   "metadata": {},
   "outputs": [
    {
     "name": "stdout",
     "output_type": "stream",
     "text": [
      "Fitting 3 folds for each of 36 candidates, totalling 108 fits\n",
      "[CV] criterion=gini, max_depth=3, n_estimators=3 .....................\n",
      "[CV]  criterion=gini, max_depth=3, n_estimators=3, score=0.6568047337278107, total=   0.0s\n",
      "[CV] criterion=gini, max_depth=3, n_estimators=3 .....................\n",
      "[CV]  criterion=gini, max_depth=3, n_estimators=3, score=0.676923076923077, total=   0.0s\n",
      "[CV] criterion=gini, max_depth=3, n_estimators=3 .....................\n",
      "[CV]  criterion=gini, max_depth=3, n_estimators=3, score=0.6883886255924171, total=   0.0s\n",
      "[CV] criterion=gini, max_depth=3, n_estimators=5 .....................\n",
      "[CV]  criterion=gini, max_depth=3, n_estimators=5, score=0.663905325443787, total=   0.0s\n",
      "[CV] criterion=gini, max_depth=3, n_estimators=5 .....................\n",
      "[CV]  criterion=gini, max_depth=3, n_estimators=5, score=0.6863905325443787, total=   0.0s\n",
      "[CV] criterion=gini, max_depth=3, n_estimators=5 .....................\n",
      "[CV]  criterion=gini, max_depth=3, n_estimators=5, score=0.683649289099526, total=   0.0s\n",
      "[CV] criterion=gini, max_depth=3, n_estimators=10 ....................\n",
      "[CV]  criterion=gini, max_depth=3, n_estimators=10, score=0.693491124260355, total=   0.0s\n",
      "[CV] criterion=gini, max_depth=3, n_estimators=10 ....................\n",
      "[CV]  criterion=gini, max_depth=3, n_estimators=10, score=0.6804733727810651, total=   0.0s\n",
      "[CV] criterion=gini, max_depth=3, n_estimators=10 ....................\n",
      "[CV]  criterion=gini, max_depth=3, n_estimators=10, score=0.6729857819905213, total=   0.0s\n",
      "[CV] criterion=gini, max_depth=3, n_estimators=20 ....................\n"
     ]
    },
    {
     "name": "stderr",
     "output_type": "stream",
     "text": [
      "[Parallel(n_jobs=1)]: Done   1 out of   1 | elapsed:    0.0s remaining:    0.0s\n",
      "[Parallel(n_jobs=1)]: Done   2 out of   2 | elapsed:    0.0s remaining:    0.0s\n",
      "[Parallel(n_jobs=1)]: Done   3 out of   3 | elapsed:    0.0s remaining:    0.0s\n"
     ]
    },
    {
     "name": "stdout",
     "output_type": "stream",
     "text": [
      "[CV]  criterion=gini, max_depth=3, n_estimators=20, score=0.6733727810650888, total=   0.0s\n",
      "[CV] criterion=gini, max_depth=3, n_estimators=20 ....................\n",
      "[CV]  criterion=gini, max_depth=3, n_estimators=20, score=0.6946745562130178, total=   0.0s\n",
      "[CV] criterion=gini, max_depth=3, n_estimators=20 ....................\n",
      "[CV]  criterion=gini, max_depth=3, n_estimators=20, score=0.6682464454976303, total=   0.1s\n",
      "[CV] criterion=gini, max_depth=3, n_estimators=30 ....................\n",
      "[CV]  criterion=gini, max_depth=3, n_estimators=30, score=0.6863905325443787, total=   0.1s\n",
      "[CV] criterion=gini, max_depth=3, n_estimators=30 ....................\n",
      "[CV]  criterion=gini, max_depth=3, n_estimators=30, score=0.6816568047337278, total=   0.1s\n",
      "[CV] criterion=gini, max_depth=3, n_estimators=30 ....................\n",
      "[CV]  criterion=gini, max_depth=3, n_estimators=30, score=0.6753554502369669, total=   0.1s\n",
      "[CV] criterion=gini, max_depth=3, n_estimators=40 ....................\n",
      "[CV]  criterion=gini, max_depth=3, n_estimators=40, score=0.6816568047337278, total=   0.1s\n",
      "[CV] criterion=gini, max_depth=3, n_estimators=40 ....................\n",
      "[CV]  criterion=gini, max_depth=3, n_estimators=40, score=0.685207100591716, total=   0.1s\n",
      "[CV] criterion=gini, max_depth=3, n_estimators=40 ....................\n",
      "[CV]  criterion=gini, max_depth=3, n_estimators=40, score=0.6777251184834123, total=   0.1s\n",
      "[CV] criterion=gini, max_depth=5, n_estimators=3 .....................\n",
      "[CV]  criterion=gini, max_depth=5, n_estimators=3, score=0.7100591715976331, total=   0.0s\n",
      "[CV] criterion=gini, max_depth=5, n_estimators=3 .....................\n",
      "[CV]  criterion=gini, max_depth=5, n_estimators=3, score=0.685207100591716, total=   0.0s\n",
      "[CV] criterion=gini, max_depth=5, n_estimators=3 .....................\n",
      "[CV]  criterion=gini, max_depth=5, n_estimators=3, score=0.6990521327014217, total=   0.0s\n",
      "[CV] criterion=gini, max_depth=5, n_estimators=5 .....................\n",
      "[CV]  criterion=gini, max_depth=5, n_estimators=5, score=0.6970414201183432, total=   0.0s\n",
      "[CV] criterion=gini, max_depth=5, n_estimators=5 .....................\n",
      "[CV]  criterion=gini, max_depth=5, n_estimators=5, score=0.6982248520710059, total=   0.0s\n",
      "[CV] criterion=gini, max_depth=5, n_estimators=5 .....................\n",
      "[CV]  criterion=gini, max_depth=5, n_estimators=5, score=0.6860189573459715, total=   0.0s\n",
      "[CV] criterion=gini, max_depth=5, n_estimators=10 ....................\n",
      "[CV]  criterion=gini, max_depth=5, n_estimators=10, score=0.6958579881656805, total=   0.0s\n",
      "[CV] criterion=gini, max_depth=5, n_estimators=10 ....................\n",
      "[CV]  criterion=gini, max_depth=5, n_estimators=10, score=0.7005917159763314, total=   0.0s\n",
      "[CV] criterion=gini, max_depth=5, n_estimators=10 ....................\n",
      "[CV]  criterion=gini, max_depth=5, n_estimators=10, score=0.7156398104265402, total=   0.0s\n",
      "[CV] criterion=gini, max_depth=5, n_estimators=20 ....................\n",
      "[CV]  criterion=gini, max_depth=5, n_estimators=20, score=0.7112426035502959, total=   0.1s\n",
      "[CV] criterion=gini, max_depth=5, n_estimators=20 ....................\n",
      "[CV]  criterion=gini, max_depth=5, n_estimators=20, score=0.7041420118343196, total=   0.0s\n",
      "[CV] criterion=gini, max_depth=5, n_estimators=20 ....................\n",
      "[CV]  criterion=gini, max_depth=5, n_estimators=20, score=0.707345971563981, total=   0.1s\n",
      "[CV] criterion=gini, max_depth=5, n_estimators=30 ....................\n",
      "[CV]  criterion=gini, max_depth=5, n_estimators=30, score=0.7088757396449704, total=   0.1s\n",
      "[CV] criterion=gini, max_depth=5, n_estimators=30 ....................\n",
      "[CV]  criterion=gini, max_depth=5, n_estimators=30, score=0.7289940828402367, total=   0.1s\n",
      "[CV] criterion=gini, max_depth=5, n_estimators=30 ....................\n",
      "[CV]  criterion=gini, max_depth=5, n_estimators=30, score=0.716824644549763, total=   0.1s\n",
      "[CV] criterion=gini, max_depth=5, n_estimators=40 ....................\n",
      "[CV]  criterion=gini, max_depth=5, n_estimators=40, score=0.7017751479289941, total=   0.1s\n",
      "[CV] criterion=gini, max_depth=5, n_estimators=40 ....................\n",
      "[CV]  criterion=gini, max_depth=5, n_estimators=40, score=0.7254437869822485, total=   0.1s\n",
      "[CV] criterion=gini, max_depth=5, n_estimators=40 ....................\n",
      "[CV]  criterion=gini, max_depth=5, n_estimators=40, score=0.7085308056872038, total=   0.1s\n",
      "[CV] criterion=gini, max_depth=7, n_estimators=3 .....................\n",
      "[CV]  criterion=gini, max_depth=7, n_estimators=3, score=0.7159763313609467, total=   0.0s\n",
      "[CV] criterion=gini, max_depth=7, n_estimators=3 .....................\n",
      "[CV]  criterion=gini, max_depth=7, n_estimators=3, score=0.6994082840236686, total=   0.0s\n",
      "[CV] criterion=gini, max_depth=7, n_estimators=3 .....................\n",
      "[CV]  criterion=gini, max_depth=7, n_estimators=3, score=0.6872037914691943, total=   0.0s\n",
      "[CV] criterion=gini, max_depth=7, n_estimators=5 .....................\n",
      "[CV]  criterion=gini, max_depth=7, n_estimators=5, score=0.7183431952662722, total=   0.0s\n",
      "[CV] criterion=gini, max_depth=7, n_estimators=5 .....................\n",
      "[CV]  criterion=gini, max_depth=7, n_estimators=5, score=0.7112426035502959, total=   0.0s\n",
      "[CV] criterion=gini, max_depth=7, n_estimators=5 .....................\n",
      "[CV]  criterion=gini, max_depth=7, n_estimators=5, score=0.6978672985781991, total=   0.0s\n",
      "[CV] criterion=gini, max_depth=7, n_estimators=10 ....................\n",
      "[CV]  criterion=gini, max_depth=7, n_estimators=10, score=0.6982248520710059, total=   0.0s\n",
      "[CV] criterion=gini, max_depth=7, n_estimators=10 ....................\n",
      "[CV]  criterion=gini, max_depth=7, n_estimators=10, score=0.7349112426035503, total=   0.0s\n",
      "[CV] criterion=gini, max_depth=7, n_estimators=10 ....................\n",
      "[CV]  criterion=gini, max_depth=7, n_estimators=10, score=0.7191943127962085, total=   0.0s\n",
      "[CV] criterion=gini, max_depth=7, n_estimators=20 ....................\n",
      "[CV]  criterion=gini, max_depth=7, n_estimators=20, score=0.7218934911242604, total=   0.1s\n",
      "[CV] criterion=gini, max_depth=7, n_estimators=20 ....................\n",
      "[CV]  criterion=gini, max_depth=7, n_estimators=20, score=0.7349112426035503, total=   0.1s\n",
      "[CV] criterion=gini, max_depth=7, n_estimators=20 ....................\n",
      "[CV]  criterion=gini, max_depth=7, n_estimators=20, score=0.7085308056872038, total=   0.1s\n",
      "[CV] criterion=gini, max_depth=7, n_estimators=30 ....................\n",
      "[CV]  criterion=gini, max_depth=7, n_estimators=30, score=0.7076923076923077, total=   0.1s\n",
      "[CV] criterion=gini, max_depth=7, n_estimators=30 ....................\n",
      "[CV]  criterion=gini, max_depth=7, n_estimators=30, score=0.7384615384615385, total=   0.1s\n",
      "[CV] criterion=gini, max_depth=7, n_estimators=30 ....................\n",
      "[CV]  criterion=gini, max_depth=7, n_estimators=30, score=0.7120853080568721, total=   0.1s\n",
      "[CV] criterion=gini, max_depth=7, n_estimators=40 ....................\n",
      "[CV]  criterion=gini, max_depth=7, n_estimators=40, score=0.7230769230769231, total=   0.1s\n",
      "[CV] criterion=gini, max_depth=7, n_estimators=40 ....................\n",
      "[CV]  criterion=gini, max_depth=7, n_estimators=40, score=0.7372781065088757, total=   0.1s\n",
      "[CV] criterion=gini, max_depth=7, n_estimators=40 ....................\n",
      "[CV]  criterion=gini, max_depth=7, n_estimators=40, score=0.7215639810426541, total=   0.1s\n",
      "[CV] criterion=entropy, max_depth=3, n_estimators=3 ..................\n",
      "[CV]  criterion=entropy, max_depth=3, n_estimators=3, score=0.6698224852071006, total=   0.0s\n",
      "[CV] criterion=entropy, max_depth=3, n_estimators=3 ..................\n",
      "[CV]  criterion=entropy, max_depth=3, n_estimators=3, score=0.672189349112426, total=   0.0s\n",
      "[CV] criterion=entropy, max_depth=3, n_estimators=3 ..................\n",
      "[CV]  criterion=entropy, max_depth=3, n_estimators=3, score=0.6777251184834123, total=   0.0s\n",
      "[CV] criterion=entropy, max_depth=3, n_estimators=5 ..................\n",
      "[CV]  criterion=entropy, max_depth=3, n_estimators=5, score=0.6615384615384615, total=   0.0s\n",
      "[CV] criterion=entropy, max_depth=3, n_estimators=5 ..................\n",
      "[CV]  criterion=entropy, max_depth=3, n_estimators=5, score=0.6686390532544378, total=   0.0s\n",
      "[CV] criterion=entropy, max_depth=3, n_estimators=5 ..................\n",
      "[CV]  criterion=entropy, max_depth=3, n_estimators=5, score=0.6682464454976303, total=   0.0s\n",
      "[CV] criterion=entropy, max_depth=3, n_estimators=10 .................\n",
      "[CV]  criterion=entropy, max_depth=3, n_estimators=10, score=0.6863905325443787, total=   0.0s\n",
      "[CV] criterion=entropy, max_depth=3, n_estimators=10 .................\n"
     ]
    },
    {
     "name": "stdout",
     "output_type": "stream",
     "text": [
      "[CV]  criterion=entropy, max_depth=3, n_estimators=10, score=0.6911242603550296, total=   0.0s\n",
      "[CV] criterion=entropy, max_depth=3, n_estimators=10 .................\n",
      "[CV]  criterion=entropy, max_depth=3, n_estimators=10, score=0.6777251184834123, total=   0.0s\n",
      "[CV] criterion=entropy, max_depth=3, n_estimators=20 .................\n",
      "[CV]  criterion=entropy, max_depth=3, n_estimators=20, score=0.6840236686390533, total=   0.1s\n",
      "[CV] criterion=entropy, max_depth=3, n_estimators=20 .................\n",
      "[CV]  criterion=entropy, max_depth=3, n_estimators=20, score=0.6804733727810651, total=   0.1s\n",
      "[CV] criterion=entropy, max_depth=3, n_estimators=20 .................\n",
      "[CV]  criterion=entropy, max_depth=3, n_estimators=20, score=0.6765402843601895, total=   0.0s\n",
      "[CV] criterion=entropy, max_depth=3, n_estimators=30 .................\n",
      "[CV]  criterion=entropy, max_depth=3, n_estimators=30, score=0.6840236686390533, total=   0.1s\n",
      "[CV] criterion=entropy, max_depth=3, n_estimators=30 .................\n",
      "[CV]  criterion=entropy, max_depth=3, n_estimators=30, score=0.6840236686390533, total=   0.1s\n",
      "[CV] criterion=entropy, max_depth=3, n_estimators=30 .................\n",
      "[CV]  criterion=entropy, max_depth=3, n_estimators=30, score=0.6777251184834123, total=   0.1s\n",
      "[CV] criterion=entropy, max_depth=3, n_estimators=40 .................\n",
      "[CV]  criterion=entropy, max_depth=3, n_estimators=40, score=0.6757396449704142, total=   0.1s\n",
      "[CV] criterion=entropy, max_depth=3, n_estimators=40 .................\n",
      "[CV]  criterion=entropy, max_depth=3, n_estimators=40, score=0.6875739644970414, total=   0.1s\n",
      "[CV] criterion=entropy, max_depth=3, n_estimators=40 .................\n",
      "[CV]  criterion=entropy, max_depth=3, n_estimators=40, score=0.6848341232227488, total=   0.1s\n",
      "[CV] criterion=entropy, max_depth=5, n_estimators=3 ..................\n",
      "[CV]  criterion=entropy, max_depth=5, n_estimators=3, score=0.676923076923077, total=   0.0s\n",
      "[CV] criterion=entropy, max_depth=5, n_estimators=3 ..................\n",
      "[CV]  criterion=entropy, max_depth=5, n_estimators=3, score=0.6899408284023668, total=   0.0s\n",
      "[CV] criterion=entropy, max_depth=5, n_estimators=3 ..................\n",
      "[CV]  criterion=entropy, max_depth=5, n_estimators=3, score=0.6729857819905213, total=   0.0s\n",
      "[CV] criterion=entropy, max_depth=5, n_estimators=5 ..................\n",
      "[CV]  criterion=entropy, max_depth=5, n_estimators=5, score=0.7100591715976331, total=   0.0s\n",
      "[CV] criterion=entropy, max_depth=5, n_estimators=5 ..................\n",
      "[CV]  criterion=entropy, max_depth=5, n_estimators=5, score=0.7325443786982249, total=   0.0s\n",
      "[CV] criterion=entropy, max_depth=5, n_estimators=5 ..................\n",
      "[CV]  criterion=entropy, max_depth=5, n_estimators=5, score=0.693127962085308, total=   0.0s\n",
      "[CV] criterion=entropy, max_depth=5, n_estimators=10 .................\n",
      "[CV]  criterion=entropy, max_depth=5, n_estimators=10, score=0.7017751479289941, total=   0.0s\n",
      "[CV] criterion=entropy, max_depth=5, n_estimators=10 .................\n",
      "[CV]  criterion=entropy, max_depth=5, n_estimators=10, score=0.7088757396449704, total=   0.0s\n",
      "[CV] criterion=entropy, max_depth=5, n_estimators=10 .................\n",
      "[CV]  criterion=entropy, max_depth=5, n_estimators=10, score=0.7215639810426541, total=   0.0s\n",
      "[CV] criterion=entropy, max_depth=5, n_estimators=20 .................\n",
      "[CV]  criterion=entropy, max_depth=5, n_estimators=20, score=0.7112426035502959, total=   0.1s\n",
      "[CV] criterion=entropy, max_depth=5, n_estimators=20 .................\n",
      "[CV]  criterion=entropy, max_depth=5, n_estimators=20, score=0.7017751479289941, total=   0.1s\n",
      "[CV] criterion=entropy, max_depth=5, n_estimators=20 .................\n",
      "[CV]  criterion=entropy, max_depth=5, n_estimators=20, score=0.7109004739336493, total=   0.1s\n",
      "[CV] criterion=entropy, max_depth=5, n_estimators=30 .................\n",
      "[CV]  criterion=entropy, max_depth=5, n_estimators=30, score=0.693491124260355, total=   0.1s\n",
      "[CV] criterion=entropy, max_depth=5, n_estimators=30 .................\n",
      "[CV]  criterion=entropy, max_depth=5, n_estimators=30, score=0.7041420118343196, total=   0.1s\n",
      "[CV] criterion=entropy, max_depth=5, n_estimators=30 .................\n",
      "[CV]  criterion=entropy, max_depth=5, n_estimators=30, score=0.6990521327014217, total=   0.1s\n",
      "[CV] criterion=entropy, max_depth=5, n_estimators=40 .................\n",
      "[CV]  criterion=entropy, max_depth=5, n_estimators=40, score=0.7088757396449704, total=   0.1s\n",
      "[CV] criterion=entropy, max_depth=5, n_estimators=40 .................\n",
      "[CV]  criterion=entropy, max_depth=5, n_estimators=40, score=0.7207100591715976, total=   0.1s\n",
      "[CV] criterion=entropy, max_depth=5, n_estimators=40 .................\n",
      "[CV]  criterion=entropy, max_depth=5, n_estimators=40, score=0.7120853080568721, total=   0.1s\n",
      "[CV] criterion=entropy, max_depth=7, n_estimators=3 ..................\n",
      "[CV]  criterion=entropy, max_depth=7, n_estimators=3, score=0.7005917159763314, total=   0.0s\n",
      "[CV] criterion=entropy, max_depth=7, n_estimators=3 ..................\n",
      "[CV]  criterion=entropy, max_depth=7, n_estimators=3, score=0.6863905325443787, total=   0.0s\n",
      "[CV] criterion=entropy, max_depth=7, n_estimators=3 ..................\n",
      "[CV]  criterion=entropy, max_depth=7, n_estimators=3, score=0.6718009478672986, total=   0.0s\n",
      "[CV] criterion=entropy, max_depth=7, n_estimators=5 ..................\n",
      "[CV]  criterion=entropy, max_depth=7, n_estimators=5, score=0.6982248520710059, total=   0.0s\n",
      "[CV] criterion=entropy, max_depth=7, n_estimators=5 ..................\n",
      "[CV]  criterion=entropy, max_depth=7, n_estimators=5, score=0.7195266272189349, total=   0.0s\n",
      "[CV] criterion=entropy, max_depth=7, n_estimators=5 ..................\n",
      "[CV]  criterion=entropy, max_depth=7, n_estimators=5, score=0.6883886255924171, total=   0.0s\n",
      "[CV] criterion=entropy, max_depth=7, n_estimators=10 .................\n",
      "[CV]  criterion=entropy, max_depth=7, n_estimators=10, score=0.7076923076923077, total=   0.0s\n",
      "[CV] criterion=entropy, max_depth=7, n_estimators=10 .................\n",
      "[CV]  criterion=entropy, max_depth=7, n_estimators=10, score=0.7195266272189349, total=   0.0s\n",
      "[CV] criterion=entropy, max_depth=7, n_estimators=10 .................\n",
      "[CV]  criterion=entropy, max_depth=7, n_estimators=10, score=0.7239336492890995, total=   0.0s\n",
      "[CV] criterion=entropy, max_depth=7, n_estimators=20 .................\n",
      "[CV]  criterion=entropy, max_depth=7, n_estimators=20, score=0.7218934911242604, total=   0.0s\n",
      "[CV] criterion=entropy, max_depth=7, n_estimators=20 .................\n",
      "[CV]  criterion=entropy, max_depth=7, n_estimators=20, score=0.7242603550295857, total=   0.1s\n",
      "[CV] criterion=entropy, max_depth=7, n_estimators=20 .................\n",
      "[CV]  criterion=entropy, max_depth=7, n_estimators=20, score=0.7049763033175356, total=   0.0s\n",
      "[CV] criterion=entropy, max_depth=7, n_estimators=30 .................\n",
      "[CV]  criterion=entropy, max_depth=7, n_estimators=30, score=0.7242603550295857, total=   0.1s\n",
      "[CV] criterion=entropy, max_depth=7, n_estimators=30 .................\n",
      "[CV]  criterion=entropy, max_depth=7, n_estimators=30, score=0.7408284023668639, total=   0.1s\n",
      "[CV] criterion=entropy, max_depth=7, n_estimators=30 .................\n",
      "[CV]  criterion=entropy, max_depth=7, n_estimators=30, score=0.716824644549763, total=   0.1s\n",
      "[CV] criterion=entropy, max_depth=7, n_estimators=40 .................\n",
      "[CV]  criterion=entropy, max_depth=7, n_estimators=40, score=0.7124260355029586, total=   0.1s\n",
      "[CV] criterion=entropy, max_depth=7, n_estimators=40 .................\n",
      "[CV]  criterion=entropy, max_depth=7, n_estimators=40, score=0.727810650887574, total=   0.1s\n",
      "[CV] criterion=entropy, max_depth=7, n_estimators=40 .................\n",
      "[CV]  criterion=entropy, max_depth=7, n_estimators=40, score=0.7227488151658767, total=   0.1s\n",
      "Best score: 0.7273086029992107\n",
      "Best parameter set: {'criterion': 'gini', 'max_depth': 7, 'n_estimators': 40}\n"
     ]
    },
    {
     "name": "stderr",
     "output_type": "stream",
     "text": [
      "[Parallel(n_jobs=1)]: Done 108 out of 108 | elapsed:    5.5s finished\n"
     ]
    }
   ],
   "source": [
    "param_grid = {'max_depth': [3,5,7],\n",
    "              'n_estimators':[3,5,10,20,30,40],\n",
    "              'criterion': ['gini', 'entropy']}\n",
    "random_forest_model = GridSearchCV(RandomForestClassifier(),param_grid,refit=True,verbose=4)\n",
    "random_forest_model = random_forest_model.fit(X_train_pca, y_train)\n",
    "print(\"Best score: %s\" % (random_forest_model.best_score_))\n",
    "print(\"Best parameter set: %s\" % (random_forest_model.best_params_))"
   ]
  },
  {
   "cell_type": "code",
   "execution_count": 121,
   "metadata": {},
   "outputs": [
    {
     "name": "stdout",
     "output_type": "stream",
     "text": [
      "Random Forest CV Accuracy: 69.19% (+/- 16.13%)\n"
     ]
    }
   ],
   "source": [
    "random_forest_model = RandomForestClassifier(max_depth=7, criterion='gini', n_estimators=40, random_state=0)\n",
    "random_forest_scores = cross_val_score(random_forest_model, X_pca, y, cv=10)\n",
    "print(\"Random Forest CV Accuracy: %0.2f%% (+/- %0.2f%%)\" % (random_forest_scores.mean()*100, random_forest_scores.std() * 2*100))"
   ]
  },
  {
   "cell_type": "markdown",
   "metadata": {},
   "source": [
    "## Nearest Neighbors"
   ]
  },
  {
   "cell_type": "code",
   "execution_count": 120,
   "metadata": {},
   "outputs": [
    {
     "name": "stdout",
     "output_type": "stream",
     "text": [
      "Fitting 3 folds for each of 7 candidates, totalling 21 fits\n",
      "[CV] n_neighbors=3 ...................................................\n",
      "[CV] .......... n_neighbors=3, score=0.7124260355029586, total=   0.0s\n",
      "[CV] n_neighbors=3 ...................................................\n",
      "[CV] .......... n_neighbors=3, score=0.7159763313609467, total=   0.0s\n",
      "[CV] n_neighbors=3 ...................................................\n",
      "[CV] .......... n_neighbors=3, score=0.7002369668246445, total=   0.0s\n",
      "[CV] n_neighbors=5 ...................................................\n",
      "[CV] .......... n_neighbors=5, score=0.6946745562130178, total=   0.0s\n",
      "[CV] n_neighbors=5 ...................................................\n",
      "[CV] .......... n_neighbors=5, score=0.7112426035502959, total=   0.0s\n",
      "[CV] n_neighbors=5 ...................................................\n",
      "[CV] .......... n_neighbors=5, score=0.6990521327014217, total=   0.0s\n",
      "[CV] n_neighbors=7 ...................................................\n"
     ]
    },
    {
     "name": "stderr",
     "output_type": "stream",
     "text": [
      "[Parallel(n_jobs=1)]: Done   1 out of   1 | elapsed:    0.0s remaining:    0.0s\n",
      "[Parallel(n_jobs=1)]: Done   2 out of   2 | elapsed:    0.1s remaining:    0.0s\n",
      "[Parallel(n_jobs=1)]: Done   3 out of   3 | elapsed:    0.1s remaining:    0.0s\n"
     ]
    },
    {
     "name": "stdout",
     "output_type": "stream",
     "text": [
      "[CV] .......... n_neighbors=7, score=0.7029585798816568, total=   0.0s\n",
      "[CV] n_neighbors=7 ...................................................\n",
      "[CV] .......... n_neighbors=7, score=0.7041420118343196, total=   0.0s\n",
      "[CV] n_neighbors=7 ...................................................\n",
      "[CV] .......... n_neighbors=7, score=0.6883886255924171, total=   0.0s\n",
      "[CV] n_neighbors=9 ...................................................\n",
      "[CV] .......... n_neighbors=9, score=0.6994082840236686, total=   0.0s\n",
      "[CV] n_neighbors=9 ...................................................\n",
      "[CV] ........... n_neighbors=9, score=0.714792899408284, total=   0.0s\n",
      "[CV] n_neighbors=9 ...................................................\n",
      "[CV] .......... n_neighbors=9, score=0.6883886255924171, total=   0.0s\n",
      "[CV] n_neighbors=11 ..................................................\n",
      "[CV] ......... n_neighbors=11, score=0.7005917159763314, total=   0.0s\n",
      "[CV] n_neighbors=11 ..................................................\n",
      "[CV] ......... n_neighbors=11, score=0.7017751479289941, total=   0.0s\n",
      "[CV] n_neighbors=11 ..................................................\n",
      "[CV] ......... n_neighbors=11, score=0.6954976303317536, total=   0.0s\n",
      "[CV] n_neighbors=13 ..................................................\n",
      "[CV] ......... n_neighbors=13, score=0.6970414201183432, total=   0.0s\n",
      "[CV] n_neighbors=13 ..................................................\n",
      "[CV] ......... n_neighbors=13, score=0.7005917159763314, total=   0.0s\n",
      "[CV] n_neighbors=13 ..................................................\n",
      "[CV] ......... n_neighbors=13, score=0.6860189573459715, total=   0.0s\n",
      "[CV] n_neighbors=15 ..................................................\n",
      "[CV] ......... n_neighbors=15, score=0.6863905325443787, total=   0.0s\n",
      "[CV] n_neighbors=15 ..................................................\n",
      "[CV] ......... n_neighbors=15, score=0.6828402366863905, total=   0.0s\n",
      "[CV] n_neighbors=15 ..................................................\n",
      "[CV] .......... n_neighbors=15, score=0.693127962085308, total=   0.0s\n",
      "Best score: 0.7095501183898973\n",
      "Best parameter set: {'n_neighbors': 3}\n"
     ]
    },
    {
     "name": "stderr",
     "output_type": "stream",
     "text": [
      "[Parallel(n_jobs=1)]: Done  21 out of  21 | elapsed:    0.7s finished\n"
     ]
    }
   ],
   "source": [
    "param_grid = {'n_neighbors': [3,5,7,9,11,13,15]}\n",
    "nearest_neighbors_model = GridSearchCV(KNeighborsClassifier(),param_grid,refit=True,verbose=4)\n",
    "nearest_neighbors_model = nearest_neighbors_model.fit(X_train_pca, y_train)\n",
    "print(\"Best score: %s\" % (nearest_neighbors_model.best_score_))\n",
    "print(\"Best parameter set: %s\" % (nearest_neighbors_model.best_params_))"
   ]
  },
  {
   "cell_type": "code",
   "execution_count": 124,
   "metadata": {},
   "outputs": [
    {
     "name": "stdout",
     "output_type": "stream",
     "text": [
      "Nearest Neighbors CV Accuracy: 64.15% (+/- 12.16%)\n"
     ]
    }
   ],
   "source": [
    "nearest_neighbors_model = KNeighborsClassifier(n_neighbors=3)\n",
    "nearest_neighbors_scores = cross_val_score(nearest_neighbors_model, X_pca, y, cv=10)\n",
    "print(\"Nearest Neighbors CV Accuracy: %0.2f%% (+/- %0.2f%%)\" % (nearest_neighbors_scores.mean()*100, nearest_neighbors_scores.std() * 2*100))"
   ]
  },
  {
   "cell_type": "markdown",
   "metadata": {},
   "source": [
    "## Neural Network"
   ]
  },
  {
   "cell_type": "code",
   "execution_count": 125,
   "metadata": {
    "scrolled": true
   },
   "outputs": [
    {
     "name": "stdout",
     "output_type": "stream",
     "text": [
      "Fitting 3 folds for each of 72 candidates, totalling 216 fits\n",
      "[CV] activation=logistic, alpha=0.0001, hidden_layer_sizes=2, solver=lbfgs \n",
      "[CV]  activation=logistic, alpha=0.0001, hidden_layer_sizes=2, solver=lbfgs, score=0.693491124260355, total=   0.1s\n",
      "[CV] activation=logistic, alpha=0.0001, hidden_layer_sizes=2, solver=lbfgs \n"
     ]
    },
    {
     "name": "stderr",
     "output_type": "stream",
     "text": [
      "[Parallel(n_jobs=1)]: Done   1 out of   1 | elapsed:    0.1s remaining:    0.0s\n",
      "[Parallel(n_jobs=1)]: Done   2 out of   2 | elapsed:    0.2s remaining:    0.0s\n"
     ]
    },
    {
     "name": "stdout",
     "output_type": "stream",
     "text": [
      "[CV]  activation=logistic, alpha=0.0001, hidden_layer_sizes=2, solver=lbfgs, score=0.7005917159763314, total=   0.1s\n",
      "[CV] activation=logistic, alpha=0.0001, hidden_layer_sizes=2, solver=lbfgs \n",
      "[CV]  activation=logistic, alpha=0.0001, hidden_layer_sizes=2, solver=lbfgs, score=0.693127962085308, total=   0.1s\n",
      "[CV] activation=logistic, alpha=0.0001, hidden_layer_sizes=2, solver=adam \n"
     ]
    },
    {
     "name": "stderr",
     "output_type": "stream",
     "text": [
      "[Parallel(n_jobs=1)]: Done   3 out of   3 | elapsed:    0.3s remaining:    0.0s\n",
      "/Users/laurenelisegardiner/anaconda/lib/python3.6/site-packages/sklearn/neural_network/multilayer_perceptron.py:564: ConvergenceWarning: Stochastic Optimizer: Maximum iterations (200) reached and the optimization hasn't converged yet.\n",
      "  % self.max_iter, ConvergenceWarning)\n"
     ]
    },
    {
     "name": "stdout",
     "output_type": "stream",
     "text": [
      "[CV]  activation=logistic, alpha=0.0001, hidden_layer_sizes=2, solver=adam, score=0.6958579881656805, total=   0.5s\n",
      "[CV] activation=logistic, alpha=0.0001, hidden_layer_sizes=2, solver=adam \n"
     ]
    },
    {
     "name": "stderr",
     "output_type": "stream",
     "text": [
      "/Users/laurenelisegardiner/anaconda/lib/python3.6/site-packages/sklearn/neural_network/multilayer_perceptron.py:564: ConvergenceWarning: Stochastic Optimizer: Maximum iterations (200) reached and the optimization hasn't converged yet.\n",
      "  % self.max_iter, ConvergenceWarning)\n"
     ]
    },
    {
     "name": "stdout",
     "output_type": "stream",
     "text": [
      "[CV]  activation=logistic, alpha=0.0001, hidden_layer_sizes=2, solver=adam, score=0.6863905325443787, total=   0.5s\n",
      "[CV] activation=logistic, alpha=0.0001, hidden_layer_sizes=2, solver=adam \n"
     ]
    },
    {
     "name": "stderr",
     "output_type": "stream",
     "text": [
      "/Users/laurenelisegardiner/anaconda/lib/python3.6/site-packages/sklearn/neural_network/multilayer_perceptron.py:564: ConvergenceWarning: Stochastic Optimizer: Maximum iterations (200) reached and the optimization hasn't converged yet.\n",
      "  % self.max_iter, ConvergenceWarning)\n"
     ]
    },
    {
     "name": "stdout",
     "output_type": "stream",
     "text": [
      "[CV]  activation=logistic, alpha=0.0001, hidden_layer_sizes=2, solver=adam, score=0.6753554502369669, total=   0.4s\n",
      "[CV] activation=logistic, alpha=0.0001, hidden_layer_sizes=4, solver=lbfgs \n",
      "[CV]  activation=logistic, alpha=0.0001, hidden_layer_sizes=4, solver=lbfgs, score=0.6674556213017752, total=   0.1s\n",
      "[CV] activation=logistic, alpha=0.0001, hidden_layer_sizes=4, solver=lbfgs \n",
      "[CV]  activation=logistic, alpha=0.0001, hidden_layer_sizes=4, solver=lbfgs, score=0.6946745562130178, total=   0.1s\n",
      "[CV] activation=logistic, alpha=0.0001, hidden_layer_sizes=4, solver=lbfgs \n",
      "[CV]  activation=logistic, alpha=0.0001, hidden_layer_sizes=4, solver=lbfgs, score=0.6860189573459715, total=   0.2s\n",
      "[CV] activation=logistic, alpha=0.0001, hidden_layer_sizes=4, solver=adam \n"
     ]
    },
    {
     "name": "stderr",
     "output_type": "stream",
     "text": [
      "/Users/laurenelisegardiner/anaconda/lib/python3.6/site-packages/sklearn/neural_network/multilayer_perceptron.py:564: ConvergenceWarning: Stochastic Optimizer: Maximum iterations (200) reached and the optimization hasn't converged yet.\n",
      "  % self.max_iter, ConvergenceWarning)\n"
     ]
    },
    {
     "name": "stdout",
     "output_type": "stream",
     "text": [
      "[CV]  activation=logistic, alpha=0.0001, hidden_layer_sizes=4, solver=adam, score=0.6887573964497041, total=   0.5s\n",
      "[CV] activation=logistic, alpha=0.0001, hidden_layer_sizes=4, solver=adam \n"
     ]
    },
    {
     "name": "stderr",
     "output_type": "stream",
     "text": [
      "/Users/laurenelisegardiner/anaconda/lib/python3.6/site-packages/sklearn/neural_network/multilayer_perceptron.py:564: ConvergenceWarning: Stochastic Optimizer: Maximum iterations (200) reached and the optimization hasn't converged yet.\n",
      "  % self.max_iter, ConvergenceWarning)\n"
     ]
    },
    {
     "name": "stdout",
     "output_type": "stream",
     "text": [
      "[CV]  activation=logistic, alpha=0.0001, hidden_layer_sizes=4, solver=adam, score=0.693491124260355, total=   0.5s\n",
      "[CV] activation=logistic, alpha=0.0001, hidden_layer_sizes=4, solver=adam \n"
     ]
    },
    {
     "name": "stderr",
     "output_type": "stream",
     "text": [
      "/Users/laurenelisegardiner/anaconda/lib/python3.6/site-packages/sklearn/neural_network/multilayer_perceptron.py:564: ConvergenceWarning: Stochastic Optimizer: Maximum iterations (200) reached and the optimization hasn't converged yet.\n",
      "  % self.max_iter, ConvergenceWarning)\n"
     ]
    },
    {
     "name": "stdout",
     "output_type": "stream",
     "text": [
      "[CV]  activation=logistic, alpha=0.0001, hidden_layer_sizes=4, solver=adam, score=0.6872037914691943, total=   0.5s\n",
      "[CV] activation=logistic, alpha=0.0001, hidden_layer_sizes=8, solver=lbfgs \n",
      "[CV]  activation=logistic, alpha=0.0001, hidden_layer_sizes=8, solver=lbfgs, score=0.6911242603550296, total=   0.1s\n",
      "[CV] activation=logistic, alpha=0.0001, hidden_layer_sizes=8, solver=lbfgs \n",
      "[CV]  activation=logistic, alpha=0.0001, hidden_layer_sizes=8, solver=lbfgs, score=0.7005917159763314, total=   0.2s\n",
      "[CV] activation=logistic, alpha=0.0001, hidden_layer_sizes=8, solver=lbfgs \n",
      "[CV]  activation=logistic, alpha=0.0001, hidden_layer_sizes=8, solver=lbfgs, score=0.6895734597156398, total=   0.2s\n",
      "[CV] activation=logistic, alpha=0.0001, hidden_layer_sizes=8, solver=adam \n",
      "[CV]  activation=logistic, alpha=0.0001, hidden_layer_sizes=8, solver=adam, score=0.7029585798816568, total=   0.4s\n",
      "[CV] activation=logistic, alpha=0.0001, hidden_layer_sizes=8, solver=adam \n",
      "[CV]  activation=logistic, alpha=0.0001, hidden_layer_sizes=8, solver=adam, score=0.7029585798816568, total=   0.4s\n",
      "[CV] activation=logistic, alpha=0.0001, hidden_layer_sizes=8, solver=adam \n",
      "[CV]  activation=logistic, alpha=0.0001, hidden_layer_sizes=8, solver=adam, score=0.683649289099526, total=   0.4s\n",
      "[CV] activation=logistic, alpha=0.0001, hidden_layer_sizes=16, solver=lbfgs \n",
      "[CV]  activation=logistic, alpha=0.0001, hidden_layer_sizes=16, solver=lbfgs, score=0.7242603550295857, total=   0.2s\n",
      "[CV] activation=logistic, alpha=0.0001, hidden_layer_sizes=16, solver=lbfgs \n",
      "[CV]  activation=logistic, alpha=0.0001, hidden_layer_sizes=16, solver=lbfgs, score=0.7183431952662722, total=   0.3s\n",
      "[CV] activation=logistic, alpha=0.0001, hidden_layer_sizes=16, solver=lbfgs \n",
      "[CV]  activation=logistic, alpha=0.0001, hidden_layer_sizes=16, solver=lbfgs, score=0.7037914691943128, total=   0.2s\n",
      "[CV] activation=logistic, alpha=0.0001, hidden_layer_sizes=16, solver=adam \n",
      "[CV]  activation=logistic, alpha=0.0001, hidden_layer_sizes=16, solver=adam, score=0.6958579881656805, total=   0.4s\n",
      "[CV] activation=logistic, alpha=0.0001, hidden_layer_sizes=16, solver=adam \n",
      "[CV]  activation=logistic, alpha=0.0001, hidden_layer_sizes=16, solver=adam, score=0.693491124260355, total=   0.8s\n",
      "[CV] activation=logistic, alpha=0.0001, hidden_layer_sizes=16, solver=adam \n",
      "[CV]  activation=logistic, alpha=0.0001, hidden_layer_sizes=16, solver=adam, score=0.6789099526066351, total=   0.6s\n",
      "[CV] activation=logistic, alpha=0.0001, hidden_layer_sizes=32, solver=lbfgs \n",
      "[CV]  activation=logistic, alpha=0.0001, hidden_layer_sizes=32, solver=lbfgs, score=0.7230769230769231, total=   0.4s\n",
      "[CV] activation=logistic, alpha=0.0001, hidden_layer_sizes=32, solver=lbfgs \n",
      "[CV]  activation=logistic, alpha=0.0001, hidden_layer_sizes=32, solver=lbfgs, score=0.7124260355029586, total=   0.5s\n",
      "[CV] activation=logistic, alpha=0.0001, hidden_layer_sizes=32, solver=lbfgs \n",
      "[CV]  activation=logistic, alpha=0.0001, hidden_layer_sizes=32, solver=lbfgs, score=0.6860189573459715, total=   0.4s\n",
      "[CV] activation=logistic, alpha=0.0001, hidden_layer_sizes=32, solver=adam \n",
      "[CV]  activation=logistic, alpha=0.0001, hidden_layer_sizes=32, solver=adam, score=0.6970414201183432, total=   0.5s\n",
      "[CV] activation=logistic, alpha=0.0001, hidden_layer_sizes=32, solver=adam \n",
      "[CV]  activation=logistic, alpha=0.0001, hidden_layer_sizes=32, solver=adam, score=0.6958579881656805, total=   0.3s\n",
      "[CV] activation=logistic, alpha=0.0001, hidden_layer_sizes=32, solver=adam \n",
      "[CV]  activation=logistic, alpha=0.0001, hidden_layer_sizes=32, solver=adam, score=0.6800947867298578, total=   0.4s\n",
      "[CV] activation=logistic, alpha=0.0001, hidden_layer_sizes=64, solver=lbfgs \n",
      "[CV]  activation=logistic, alpha=0.0001, hidden_layer_sizes=64, solver=lbfgs, score=0.7230769230769231, total=   0.7s\n",
      "[CV] activation=logistic, alpha=0.0001, hidden_layer_sizes=64, solver=lbfgs \n",
      "[CV]  activation=logistic, alpha=0.0001, hidden_layer_sizes=64, solver=lbfgs, score=0.7017751479289941, total=   0.7s\n",
      "[CV] activation=logistic, alpha=0.0001, hidden_layer_sizes=64, solver=lbfgs \n",
      "[CV]  activation=logistic, alpha=0.0001, hidden_layer_sizes=64, solver=lbfgs, score=0.6954976303317536, total=   0.6s\n",
      "[CV] activation=logistic, alpha=0.0001, hidden_layer_sizes=64, solver=adam \n",
      "[CV]  activation=logistic, alpha=0.0001, hidden_layer_sizes=64, solver=adam, score=0.6899408284023668, total=   0.5s\n",
      "[CV] activation=logistic, alpha=0.0001, hidden_layer_sizes=64, solver=adam \n",
      "[CV]  activation=logistic, alpha=0.0001, hidden_layer_sizes=64, solver=adam, score=0.6923076923076923, total=   0.6s\n",
      "[CV] activation=logistic, alpha=0.0001, hidden_layer_sizes=64, solver=adam \n",
      "[CV]  activation=logistic, alpha=0.0001, hidden_layer_sizes=64, solver=adam, score=0.6789099526066351, total=   0.5s\n",
      "[CV] activation=logistic, alpha=0.001, hidden_layer_sizes=2, solver=lbfgs \n",
      "[CV]  activation=logistic, alpha=0.001, hidden_layer_sizes=2, solver=lbfgs, score=0.7195266272189349, total=   0.1s\n",
      "[CV] activation=logistic, alpha=0.001, hidden_layer_sizes=2, solver=lbfgs \n",
      "[CV]  activation=logistic, alpha=0.001, hidden_layer_sizes=2, solver=lbfgs, score=0.7171597633136094, total=   0.1s\n",
      "[CV] activation=logistic, alpha=0.001, hidden_layer_sizes=2, solver=lbfgs \n",
      "[CV]  activation=logistic, alpha=0.001, hidden_layer_sizes=2, solver=lbfgs, score=0.6895734597156398, total=   0.1s\n",
      "[CV] activation=logistic, alpha=0.001, hidden_layer_sizes=2, solver=adam \n"
     ]
    },
    {
     "name": "stderr",
     "output_type": "stream",
     "text": [
      "/Users/laurenelisegardiner/anaconda/lib/python3.6/site-packages/sklearn/neural_network/multilayer_perceptron.py:564: ConvergenceWarning: Stochastic Optimizer: Maximum iterations (200) reached and the optimization hasn't converged yet.\n",
      "  % self.max_iter, ConvergenceWarning)\n"
     ]
    },
    {
     "name": "stdout",
     "output_type": "stream",
     "text": [
      "[CV]  activation=logistic, alpha=0.001, hidden_layer_sizes=2, solver=adam, score=0.6958579881656805, total=   0.4s\n",
      "[CV] activation=logistic, alpha=0.001, hidden_layer_sizes=2, solver=adam \n"
     ]
    },
    {
     "name": "stderr",
     "output_type": "stream",
     "text": [
      "/Users/laurenelisegardiner/anaconda/lib/python3.6/site-packages/sklearn/neural_network/multilayer_perceptron.py:564: ConvergenceWarning: Stochastic Optimizer: Maximum iterations (200) reached and the optimization hasn't converged yet.\n",
      "  % self.max_iter, ConvergenceWarning)\n"
     ]
    },
    {
     "name": "stdout",
     "output_type": "stream",
     "text": [
      "[CV]  activation=logistic, alpha=0.001, hidden_layer_sizes=2, solver=adam, score=0.6863905325443787, total=   0.4s\n",
      "[CV] activation=logistic, alpha=0.001, hidden_layer_sizes=2, solver=adam \n"
     ]
    },
    {
     "name": "stderr",
     "output_type": "stream",
     "text": [
      "/Users/laurenelisegardiner/anaconda/lib/python3.6/site-packages/sklearn/neural_network/multilayer_perceptron.py:564: ConvergenceWarning: Stochastic Optimizer: Maximum iterations (200) reached and the optimization hasn't converged yet.\n",
      "  % self.max_iter, ConvergenceWarning)\n"
     ]
    },
    {
     "name": "stdout",
     "output_type": "stream",
     "text": [
      "[CV]  activation=logistic, alpha=0.001, hidden_layer_sizes=2, solver=adam, score=0.6753554502369669, total=   0.5s\n",
      "[CV] activation=logistic, alpha=0.001, hidden_layer_sizes=4, solver=lbfgs \n",
      "[CV]  activation=logistic, alpha=0.001, hidden_layer_sizes=4, solver=lbfgs, score=0.6923076923076923, total=   0.1s\n",
      "[CV] activation=logistic, alpha=0.001, hidden_layer_sizes=4, solver=lbfgs \n",
      "[CV]  activation=logistic, alpha=0.001, hidden_layer_sizes=4, solver=lbfgs, score=0.6970414201183432, total=   0.2s\n",
      "[CV] activation=logistic, alpha=0.001, hidden_layer_sizes=4, solver=lbfgs \n",
      "[CV]  activation=logistic, alpha=0.001, hidden_layer_sizes=4, solver=lbfgs, score=0.6966824644549763, total=   0.2s\n",
      "[CV] activation=logistic, alpha=0.001, hidden_layer_sizes=4, solver=adam \n"
     ]
    },
    {
     "name": "stderr",
     "output_type": "stream",
     "text": [
      "/Users/laurenelisegardiner/anaconda/lib/python3.6/site-packages/sklearn/neural_network/multilayer_perceptron.py:564: ConvergenceWarning: Stochastic Optimizer: Maximum iterations (200) reached and the optimization hasn't converged yet.\n",
      "  % self.max_iter, ConvergenceWarning)\n"
     ]
    },
    {
     "name": "stdout",
     "output_type": "stream",
     "text": [
      "[CV]  activation=logistic, alpha=0.001, hidden_layer_sizes=4, solver=adam, score=0.6887573964497041, total=   0.4s\n",
      "[CV] activation=logistic, alpha=0.001, hidden_layer_sizes=4, solver=adam \n"
     ]
    },
    {
     "name": "stderr",
     "output_type": "stream",
     "text": [
      "/Users/laurenelisegardiner/anaconda/lib/python3.6/site-packages/sklearn/neural_network/multilayer_perceptron.py:564: ConvergenceWarning: Stochastic Optimizer: Maximum iterations (200) reached and the optimization hasn't converged yet.\n",
      "  % self.max_iter, ConvergenceWarning)\n"
     ]
    },
    {
     "name": "stdout",
     "output_type": "stream",
     "text": [
      "[CV]  activation=logistic, alpha=0.001, hidden_layer_sizes=4, solver=adam, score=0.693491124260355, total=   0.5s\n",
      "[CV] activation=logistic, alpha=0.001, hidden_layer_sizes=4, solver=adam \n"
     ]
    },
    {
     "name": "stderr",
     "output_type": "stream",
     "text": [
      "/Users/laurenelisegardiner/anaconda/lib/python3.6/site-packages/sklearn/neural_network/multilayer_perceptron.py:564: ConvergenceWarning: Stochastic Optimizer: Maximum iterations (200) reached and the optimization hasn't converged yet.\n",
      "  % self.max_iter, ConvergenceWarning)\n"
     ]
    },
    {
     "name": "stdout",
     "output_type": "stream",
     "text": [
      "[CV]  activation=logistic, alpha=0.001, hidden_layer_sizes=4, solver=adam, score=0.6872037914691943, total=   0.5s\n",
      "[CV] activation=logistic, alpha=0.001, hidden_layer_sizes=8, solver=lbfgs \n",
      "[CV]  activation=logistic, alpha=0.001, hidden_layer_sizes=8, solver=lbfgs, score=0.693491124260355, total=   0.1s\n",
      "[CV] activation=logistic, alpha=0.001, hidden_layer_sizes=8, solver=lbfgs \n",
      "[CV]  activation=logistic, alpha=0.001, hidden_layer_sizes=8, solver=lbfgs, score=0.6982248520710059, total=   0.2s\n",
      "[CV] activation=logistic, alpha=0.001, hidden_layer_sizes=8, solver=lbfgs \n",
      "[CV]  activation=logistic, alpha=0.001, hidden_layer_sizes=8, solver=lbfgs, score=0.7002369668246445, total=   0.1s\n",
      "[CV] activation=logistic, alpha=0.001, hidden_layer_sizes=8, solver=adam \n",
      "[CV]  activation=logistic, alpha=0.001, hidden_layer_sizes=8, solver=adam, score=0.7041420118343196, total=   0.5s\n",
      "[CV] activation=logistic, alpha=0.001, hidden_layer_sizes=8, solver=adam \n",
      "[CV]  activation=logistic, alpha=0.001, hidden_layer_sizes=8, solver=adam, score=0.7029585798816568, total=   0.5s\n",
      "[CV] activation=logistic, alpha=0.001, hidden_layer_sizes=8, solver=adam \n",
      "[CV]  activation=logistic, alpha=0.001, hidden_layer_sizes=8, solver=adam, score=0.683649289099526, total=   0.4s\n",
      "[CV] activation=logistic, alpha=0.001, hidden_layer_sizes=16, solver=lbfgs \n",
      "[CV]  activation=logistic, alpha=0.001, hidden_layer_sizes=16, solver=lbfgs, score=0.7289940828402367, total=   0.2s\n",
      "[CV] activation=logistic, alpha=0.001, hidden_layer_sizes=16, solver=lbfgs \n",
      "[CV]  activation=logistic, alpha=0.001, hidden_layer_sizes=16, solver=lbfgs, score=0.7053254437869823, total=   0.2s\n",
      "[CV] activation=logistic, alpha=0.001, hidden_layer_sizes=16, solver=lbfgs \n",
      "[CV]  activation=logistic, alpha=0.001, hidden_layer_sizes=16, solver=lbfgs, score=0.683649289099526, total=   0.2s\n",
      "[CV] activation=logistic, alpha=0.001, hidden_layer_sizes=16, solver=adam \n",
      "[CV]  activation=logistic, alpha=0.001, hidden_layer_sizes=16, solver=adam, score=0.6958579881656805, total=   0.5s\n",
      "[CV] activation=logistic, alpha=0.001, hidden_layer_sizes=16, solver=adam \n",
      "[CV]  activation=logistic, alpha=0.001, hidden_layer_sizes=16, solver=adam, score=0.693491124260355, total=   0.6s\n",
      "[CV] activation=logistic, alpha=0.001, hidden_layer_sizes=16, solver=adam \n",
      "[CV]  activation=logistic, alpha=0.001, hidden_layer_sizes=16, solver=adam, score=0.6789099526066351, total=   0.4s\n",
      "[CV] activation=logistic, alpha=0.001, hidden_layer_sizes=32, solver=lbfgs \n",
      "[CV]  activation=logistic, alpha=0.001, hidden_layer_sizes=32, solver=lbfgs, score=0.7207100591715976, total=   0.4s\n",
      "[CV] activation=logistic, alpha=0.001, hidden_layer_sizes=32, solver=lbfgs \n",
      "[CV]  activation=logistic, alpha=0.001, hidden_layer_sizes=32, solver=lbfgs, score=0.6958579881656805, total=   0.4s\n",
      "[CV] activation=logistic, alpha=0.001, hidden_layer_sizes=32, solver=lbfgs \n",
      "[CV]  activation=logistic, alpha=0.001, hidden_layer_sizes=32, solver=lbfgs, score=0.6966824644549763, total=   0.4s\n",
      "[CV] activation=logistic, alpha=0.001, hidden_layer_sizes=32, solver=adam \n",
      "[CV]  activation=logistic, alpha=0.001, hidden_layer_sizes=32, solver=adam, score=0.6970414201183432, total=   0.6s\n",
      "[CV] activation=logistic, alpha=0.001, hidden_layer_sizes=32, solver=adam \n",
      "[CV]  activation=logistic, alpha=0.001, hidden_layer_sizes=32, solver=adam, score=0.6958579881656805, total=   0.4s\n",
      "[CV] activation=logistic, alpha=0.001, hidden_layer_sizes=32, solver=adam \n",
      "[CV]  activation=logistic, alpha=0.001, hidden_layer_sizes=32, solver=adam, score=0.6800947867298578, total=   0.5s\n",
      "[CV] activation=logistic, alpha=0.001, hidden_layer_sizes=64, solver=lbfgs \n",
      "[CV]  activation=logistic, alpha=0.001, hidden_layer_sizes=64, solver=lbfgs, score=0.7041420118343196, total=   0.8s\n",
      "[CV] activation=logistic, alpha=0.001, hidden_layer_sizes=64, solver=lbfgs \n",
      "[CV]  activation=logistic, alpha=0.001, hidden_layer_sizes=64, solver=lbfgs, score=0.7076923076923077, total=   0.5s\n",
      "[CV] activation=logistic, alpha=0.001, hidden_layer_sizes=64, solver=lbfgs \n",
      "[CV]  activation=logistic, alpha=0.001, hidden_layer_sizes=64, solver=lbfgs, score=0.7132701421800948, total=   0.6s\n",
      "[CV] activation=logistic, alpha=0.001, hidden_layer_sizes=64, solver=adam \n",
      "[CV]  activation=logistic, alpha=0.001, hidden_layer_sizes=64, solver=adam, score=0.6899408284023668, total=   0.7s\n",
      "[CV] activation=logistic, alpha=0.001, hidden_layer_sizes=64, solver=adam \n",
      "[CV]  activation=logistic, alpha=0.001, hidden_layer_sizes=64, solver=adam, score=0.6923076923076923, total=   0.6s\n",
      "[CV] activation=logistic, alpha=0.001, hidden_layer_sizes=64, solver=adam \n",
      "[CV]  activation=logistic, alpha=0.001, hidden_layer_sizes=64, solver=adam, score=0.683649289099526, total=   0.6s\n",
      "[CV] activation=logistic, alpha=0.01, hidden_layer_sizes=2, solver=lbfgs \n",
      "[CV]  activation=logistic, alpha=0.01, hidden_layer_sizes=2, solver=lbfgs, score=0.6899408284023668, total=   0.1s\n",
      "[CV] activation=logistic, alpha=0.01, hidden_layer_sizes=2, solver=lbfgs \n",
      "[CV]  activation=logistic, alpha=0.01, hidden_layer_sizes=2, solver=lbfgs, score=0.7100591715976331, total=   0.1s\n",
      "[CV] activation=logistic, alpha=0.01, hidden_layer_sizes=2, solver=lbfgs \n",
      "[CV]  activation=logistic, alpha=0.01, hidden_layer_sizes=2, solver=lbfgs, score=0.6872037914691943, total=   0.1s\n",
      "[CV] activation=logistic, alpha=0.01, hidden_layer_sizes=2, solver=adam \n"
     ]
    },
    {
     "name": "stderr",
     "output_type": "stream",
     "text": [
      "/Users/laurenelisegardiner/anaconda/lib/python3.6/site-packages/sklearn/neural_network/multilayer_perceptron.py:564: ConvergenceWarning: Stochastic Optimizer: Maximum iterations (200) reached and the optimization hasn't converged yet.\n",
      "  % self.max_iter, ConvergenceWarning)\n"
     ]
    },
    {
     "name": "stdout",
     "output_type": "stream",
     "text": [
      "[CV]  activation=logistic, alpha=0.01, hidden_layer_sizes=2, solver=adam, score=0.6958579881656805, total=   0.5s\n",
      "[CV] activation=logistic, alpha=0.01, hidden_layer_sizes=2, solver=adam \n"
     ]
    },
    {
     "name": "stderr",
     "output_type": "stream",
     "text": [
      "/Users/laurenelisegardiner/anaconda/lib/python3.6/site-packages/sklearn/neural_network/multilayer_perceptron.py:564: ConvergenceWarning: Stochastic Optimizer: Maximum iterations (200) reached and the optimization hasn't converged yet.\n",
      "  % self.max_iter, ConvergenceWarning)\n"
     ]
    },
    {
     "name": "stdout",
     "output_type": "stream",
     "text": [
      "[CV]  activation=logistic, alpha=0.01, hidden_layer_sizes=2, solver=adam, score=0.6863905325443787, total=   0.6s\n",
      "[CV] activation=logistic, alpha=0.01, hidden_layer_sizes=2, solver=adam \n"
     ]
    },
    {
     "name": "stderr",
     "output_type": "stream",
     "text": [
      "/Users/laurenelisegardiner/anaconda/lib/python3.6/site-packages/sklearn/neural_network/multilayer_perceptron.py:564: ConvergenceWarning: Stochastic Optimizer: Maximum iterations (200) reached and the optimization hasn't converged yet.\n",
      "  % self.max_iter, ConvergenceWarning)\n"
     ]
    },
    {
     "name": "stdout",
     "output_type": "stream",
     "text": [
      "[CV]  activation=logistic, alpha=0.01, hidden_layer_sizes=2, solver=adam, score=0.6753554502369669, total=   0.5s\n",
      "[CV] activation=logistic, alpha=0.01, hidden_layer_sizes=4, solver=lbfgs \n",
      "[CV]  activation=logistic, alpha=0.01, hidden_layer_sizes=4, solver=lbfgs, score=0.6958579881656805, total=   0.2s\n",
      "[CV] activation=logistic, alpha=0.01, hidden_layer_sizes=4, solver=lbfgs \n",
      "[CV]  activation=logistic, alpha=0.01, hidden_layer_sizes=4, solver=lbfgs, score=0.6958579881656805, total=   0.1s\n",
      "[CV] activation=logistic, alpha=0.01, hidden_layer_sizes=4, solver=lbfgs \n",
      "[CV]  activation=logistic, alpha=0.01, hidden_layer_sizes=4, solver=lbfgs, score=0.693127962085308, total=   0.1s\n",
      "[CV] activation=logistic, alpha=0.01, hidden_layer_sizes=4, solver=adam \n"
     ]
    },
    {
     "name": "stderr",
     "output_type": "stream",
     "text": [
      "/Users/laurenelisegardiner/anaconda/lib/python3.6/site-packages/sklearn/neural_network/multilayer_perceptron.py:564: ConvergenceWarning: Stochastic Optimizer: Maximum iterations (200) reached and the optimization hasn't converged yet.\n",
      "  % self.max_iter, ConvergenceWarning)\n"
     ]
    },
    {
     "name": "stdout",
     "output_type": "stream",
     "text": [
      "[CV]  activation=logistic, alpha=0.01, hidden_layer_sizes=4, solver=adam, score=0.6887573964497041, total=   0.8s\n",
      "[CV] activation=logistic, alpha=0.01, hidden_layer_sizes=4, solver=adam \n"
     ]
    },
    {
     "name": "stderr",
     "output_type": "stream",
     "text": [
      "/Users/laurenelisegardiner/anaconda/lib/python3.6/site-packages/sklearn/neural_network/multilayer_perceptron.py:564: ConvergenceWarning: Stochastic Optimizer: Maximum iterations (200) reached and the optimization hasn't converged yet.\n",
      "  % self.max_iter, ConvergenceWarning)\n"
     ]
    },
    {
     "name": "stdout",
     "output_type": "stream",
     "text": [
      "[CV]  activation=logistic, alpha=0.01, hidden_layer_sizes=4, solver=adam, score=0.6946745562130178, total=   0.7s\n",
      "[CV] activation=logistic, alpha=0.01, hidden_layer_sizes=4, solver=adam \n"
     ]
    },
    {
     "name": "stderr",
     "output_type": "stream",
     "text": [
      "/Users/laurenelisegardiner/anaconda/lib/python3.6/site-packages/sklearn/neural_network/multilayer_perceptron.py:564: ConvergenceWarning: Stochastic Optimizer: Maximum iterations (200) reached and the optimization hasn't converged yet.\n",
      "  % self.max_iter, ConvergenceWarning)\n"
     ]
    },
    {
     "name": "stdout",
     "output_type": "stream",
     "text": [
      "[CV]  activation=logistic, alpha=0.01, hidden_layer_sizes=4, solver=adam, score=0.6860189573459715, total=   0.5s\n",
      "[CV] activation=logistic, alpha=0.01, hidden_layer_sizes=8, solver=lbfgs \n",
      "[CV]  activation=logistic, alpha=0.01, hidden_layer_sizes=8, solver=lbfgs, score=0.7076923076923077, total=   0.3s\n",
      "[CV] activation=logistic, alpha=0.01, hidden_layer_sizes=8, solver=lbfgs \n",
      "[CV]  activation=logistic, alpha=0.01, hidden_layer_sizes=8, solver=lbfgs, score=0.6970414201183432, total=   0.2s\n",
      "[CV] activation=logistic, alpha=0.01, hidden_layer_sizes=8, solver=lbfgs \n",
      "[CV]  activation=logistic, alpha=0.01, hidden_layer_sizes=8, solver=lbfgs, score=0.6966824644549763, total=   0.2s\n",
      "[CV] activation=logistic, alpha=0.01, hidden_layer_sizes=8, solver=adam \n",
      "[CV]  activation=logistic, alpha=0.01, hidden_layer_sizes=8, solver=adam, score=0.7029585798816568, total=   0.7s\n",
      "[CV] activation=logistic, alpha=0.01, hidden_layer_sizes=8, solver=adam \n",
      "[CV]  activation=logistic, alpha=0.01, hidden_layer_sizes=8, solver=adam, score=0.7029585798816568, total=   0.4s\n",
      "[CV] activation=logistic, alpha=0.01, hidden_layer_sizes=8, solver=adam \n",
      "[CV]  activation=logistic, alpha=0.01, hidden_layer_sizes=8, solver=adam, score=0.683649289099526, total=   0.6s\n",
      "[CV] activation=logistic, alpha=0.01, hidden_layer_sizes=16, solver=lbfgs \n",
      "[CV]  activation=logistic, alpha=0.01, hidden_layer_sizes=16, solver=lbfgs, score=0.7242603550295857, total=   0.2s\n",
      "[CV] activation=logistic, alpha=0.01, hidden_layer_sizes=16, solver=lbfgs \n",
      "[CV]  activation=logistic, alpha=0.01, hidden_layer_sizes=16, solver=lbfgs, score=0.7159763313609467, total=   0.3s\n",
      "[CV] activation=logistic, alpha=0.01, hidden_layer_sizes=16, solver=lbfgs \n",
      "[CV]  activation=logistic, alpha=0.01, hidden_layer_sizes=16, solver=lbfgs, score=0.6848341232227488, total=   0.4s\n",
      "[CV] activation=logistic, alpha=0.01, hidden_layer_sizes=16, solver=adam \n",
      "[CV]  activation=logistic, alpha=0.01, hidden_layer_sizes=16, solver=adam, score=0.6958579881656805, total=   0.7s\n",
      "[CV] activation=logistic, alpha=0.01, hidden_layer_sizes=16, solver=adam \n",
      "[CV]  activation=logistic, alpha=0.01, hidden_layer_sizes=16, solver=adam, score=0.6970414201183432, total=   0.8s\n",
      "[CV] activation=logistic, alpha=0.01, hidden_layer_sizes=16, solver=adam \n",
      "[CV]  activation=logistic, alpha=0.01, hidden_layer_sizes=16, solver=adam, score=0.6789099526066351, total=   0.6s\n",
      "[CV] activation=logistic, alpha=0.01, hidden_layer_sizes=32, solver=lbfgs \n",
      "[CV]  activation=logistic, alpha=0.01, hidden_layer_sizes=32, solver=lbfgs, score=0.7136094674556213, total=   0.4s\n",
      "[CV] activation=logistic, alpha=0.01, hidden_layer_sizes=32, solver=lbfgs \n",
      "[CV]  activation=logistic, alpha=0.01, hidden_layer_sizes=32, solver=lbfgs, score=0.7088757396449704, total=   0.3s\n",
      "[CV] activation=logistic, alpha=0.01, hidden_layer_sizes=32, solver=lbfgs \n",
      "[CV]  activation=logistic, alpha=0.01, hidden_layer_sizes=32, solver=lbfgs, score=0.6895734597156398, total=   0.4s\n",
      "[CV] activation=logistic, alpha=0.01, hidden_layer_sizes=32, solver=adam \n",
      "[CV]  activation=logistic, alpha=0.01, hidden_layer_sizes=32, solver=adam, score=0.6970414201183432, total=   0.4s\n",
      "[CV] activation=logistic, alpha=0.01, hidden_layer_sizes=32, solver=adam \n",
      "[CV]  activation=logistic, alpha=0.01, hidden_layer_sizes=32, solver=adam, score=0.6946745562130178, total=   0.4s\n",
      "[CV] activation=logistic, alpha=0.01, hidden_layer_sizes=32, solver=adam \n",
      "[CV]  activation=logistic, alpha=0.01, hidden_layer_sizes=32, solver=adam, score=0.6824644549763034, total=   0.3s\n",
      "[CV] activation=logistic, alpha=0.01, hidden_layer_sizes=64, solver=lbfgs \n",
      "[CV]  activation=logistic, alpha=0.01, hidden_layer_sizes=64, solver=lbfgs, score=0.7124260355029586, total=   0.5s\n",
      "[CV] activation=logistic, alpha=0.01, hidden_layer_sizes=64, solver=lbfgs \n",
      "[CV]  activation=logistic, alpha=0.01, hidden_layer_sizes=64, solver=lbfgs, score=0.7041420118343196, total=   0.5s\n",
      "[CV] activation=logistic, alpha=0.01, hidden_layer_sizes=64, solver=lbfgs \n",
      "[CV]  activation=logistic, alpha=0.01, hidden_layer_sizes=64, solver=lbfgs, score=0.6848341232227488, total=   0.5s\n",
      "[CV] activation=logistic, alpha=0.01, hidden_layer_sizes=64, solver=adam \n",
      "[CV]  activation=logistic, alpha=0.01, hidden_layer_sizes=64, solver=adam, score=0.6899408284023668, total=   0.5s\n",
      "[CV] activation=logistic, alpha=0.01, hidden_layer_sizes=64, solver=adam \n",
      "[CV]  activation=logistic, alpha=0.01, hidden_layer_sizes=64, solver=adam, score=0.6899408284023668, total=   0.4s\n",
      "[CV] activation=logistic, alpha=0.01, hidden_layer_sizes=64, solver=adam \n",
      "[CV]  activation=logistic, alpha=0.01, hidden_layer_sizes=64, solver=adam, score=0.683649289099526, total=   0.5s\n",
      "[CV] activation=logistic, alpha=0.1, hidden_layer_sizes=2, solver=lbfgs \n",
      "[CV]  activation=logistic, alpha=0.1, hidden_layer_sizes=2, solver=lbfgs, score=0.6911242603550296, total=   0.1s\n",
      "[CV] activation=logistic, alpha=0.1, hidden_layer_sizes=2, solver=lbfgs \n",
      "[CV]  activation=logistic, alpha=0.1, hidden_layer_sizes=2, solver=lbfgs, score=0.6946745562130178, total=   0.1s\n",
      "[CV] activation=logistic, alpha=0.1, hidden_layer_sizes=2, solver=lbfgs \n",
      "[CV]  activation=logistic, alpha=0.1, hidden_layer_sizes=2, solver=lbfgs, score=0.6895734597156398, total=   0.2s\n",
      "[CV] activation=logistic, alpha=0.1, hidden_layer_sizes=2, solver=adam \n"
     ]
    },
    {
     "name": "stderr",
     "output_type": "stream",
     "text": [
      "/Users/laurenelisegardiner/anaconda/lib/python3.6/site-packages/sklearn/neural_network/multilayer_perceptron.py:564: ConvergenceWarning: Stochastic Optimizer: Maximum iterations (200) reached and the optimization hasn't converged yet.\n",
      "  % self.max_iter, ConvergenceWarning)\n"
     ]
    },
    {
     "name": "stdout",
     "output_type": "stream",
     "text": [
      "[CV]  activation=logistic, alpha=0.1, hidden_layer_sizes=2, solver=adam, score=0.6958579881656805, total=   0.7s\n",
      "[CV] activation=logistic, alpha=0.1, hidden_layer_sizes=2, solver=adam \n"
     ]
    },
    {
     "name": "stderr",
     "output_type": "stream",
     "text": [
      "/Users/laurenelisegardiner/anaconda/lib/python3.6/site-packages/sklearn/neural_network/multilayer_perceptron.py:564: ConvergenceWarning: Stochastic Optimizer: Maximum iterations (200) reached and the optimization hasn't converged yet.\n",
      "  % self.max_iter, ConvergenceWarning)\n"
     ]
    },
    {
     "name": "stdout",
     "output_type": "stream",
     "text": [
      "[CV]  activation=logistic, alpha=0.1, hidden_layer_sizes=2, solver=adam, score=0.6863905325443787, total=   0.8s\n",
      "[CV] activation=logistic, alpha=0.1, hidden_layer_sizes=2, solver=adam \n"
     ]
    },
    {
     "name": "stderr",
     "output_type": "stream",
     "text": [
      "/Users/laurenelisegardiner/anaconda/lib/python3.6/site-packages/sklearn/neural_network/multilayer_perceptron.py:564: ConvergenceWarning: Stochastic Optimizer: Maximum iterations (200) reached and the optimization hasn't converged yet.\n",
      "  % self.max_iter, ConvergenceWarning)\n"
     ]
    },
    {
     "name": "stdout",
     "output_type": "stream",
     "text": [
      "[CV]  activation=logistic, alpha=0.1, hidden_layer_sizes=2, solver=adam, score=0.6741706161137441, total=   0.8s\n",
      "[CV] activation=logistic, alpha=0.1, hidden_layer_sizes=4, solver=lbfgs \n",
      "[CV]  activation=logistic, alpha=0.1, hidden_layer_sizes=4, solver=lbfgs, score=0.6899408284023668, total=   0.2s\n",
      "[CV] activation=logistic, alpha=0.1, hidden_layer_sizes=4, solver=lbfgs \n",
      "[CV]  activation=logistic, alpha=0.1, hidden_layer_sizes=4, solver=lbfgs, score=0.7029585798816568, total=   0.2s\n",
      "[CV] activation=logistic, alpha=0.1, hidden_layer_sizes=4, solver=lbfgs \n",
      "[CV]  activation=logistic, alpha=0.1, hidden_layer_sizes=4, solver=lbfgs, score=0.6966824644549763, total=   0.2s\n",
      "[CV] activation=logistic, alpha=0.1, hidden_layer_sizes=4, solver=adam \n"
     ]
    },
    {
     "name": "stderr",
     "output_type": "stream",
     "text": [
      "/Users/laurenelisegardiner/anaconda/lib/python3.6/site-packages/sklearn/neural_network/multilayer_perceptron.py:564: ConvergenceWarning: Stochastic Optimizer: Maximum iterations (200) reached and the optimization hasn't converged yet.\n",
      "  % self.max_iter, ConvergenceWarning)\n"
     ]
    },
    {
     "name": "stdout",
     "output_type": "stream",
     "text": [
      "[CV]  activation=logistic, alpha=0.1, hidden_layer_sizes=4, solver=adam, score=0.6899408284023668, total=   0.8s\n",
      "[CV] activation=logistic, alpha=0.1, hidden_layer_sizes=4, solver=adam \n"
     ]
    },
    {
     "name": "stderr",
     "output_type": "stream",
     "text": [
      "/Users/laurenelisegardiner/anaconda/lib/python3.6/site-packages/sklearn/neural_network/multilayer_perceptron.py:564: ConvergenceWarning: Stochastic Optimizer: Maximum iterations (200) reached and the optimization hasn't converged yet.\n",
      "  % self.max_iter, ConvergenceWarning)\n"
     ]
    },
    {
     "name": "stdout",
     "output_type": "stream",
     "text": [
      "[CV]  activation=logistic, alpha=0.1, hidden_layer_sizes=4, solver=adam, score=0.6923076923076923, total=   0.5s\n",
      "[CV] activation=logistic, alpha=0.1, hidden_layer_sizes=4, solver=adam \n"
     ]
    },
    {
     "name": "stderr",
     "output_type": "stream",
     "text": [
      "/Users/laurenelisegardiner/anaconda/lib/python3.6/site-packages/sklearn/neural_network/multilayer_perceptron.py:564: ConvergenceWarning: Stochastic Optimizer: Maximum iterations (200) reached and the optimization hasn't converged yet.\n",
      "  % self.max_iter, ConvergenceWarning)\n"
     ]
    },
    {
     "name": "stdout",
     "output_type": "stream",
     "text": [
      "[CV]  activation=logistic, alpha=0.1, hidden_layer_sizes=4, solver=adam, score=0.6860189573459715, total=   0.6s\n",
      "[CV] activation=logistic, alpha=0.1, hidden_layer_sizes=8, solver=lbfgs \n",
      "[CV]  activation=logistic, alpha=0.1, hidden_layer_sizes=8, solver=lbfgs, score=0.7112426035502959, total=   0.2s\n",
      "[CV] activation=logistic, alpha=0.1, hidden_layer_sizes=8, solver=lbfgs \n",
      "[CV]  activation=logistic, alpha=0.1, hidden_layer_sizes=8, solver=lbfgs, score=0.7005917159763314, total=   0.2s\n",
      "[CV] activation=logistic, alpha=0.1, hidden_layer_sizes=8, solver=lbfgs \n",
      "[CV]  activation=logistic, alpha=0.1, hidden_layer_sizes=8, solver=lbfgs, score=0.6800947867298578, total=   0.2s\n",
      "[CV] activation=logistic, alpha=0.1, hidden_layer_sizes=8, solver=adam \n",
      "[CV]  activation=logistic, alpha=0.1, hidden_layer_sizes=8, solver=adam, score=0.7065088757396449, total=   0.4s\n",
      "[CV] activation=logistic, alpha=0.1, hidden_layer_sizes=8, solver=adam \n",
      "[CV]  activation=logistic, alpha=0.1, hidden_layer_sizes=8, solver=adam, score=0.7029585798816568, total=   0.5s\n",
      "[CV] activation=logistic, alpha=0.1, hidden_layer_sizes=8, solver=adam \n",
      "[CV]  activation=logistic, alpha=0.1, hidden_layer_sizes=8, solver=adam, score=0.6860189573459715, total=   0.5s\n",
      "[CV] activation=logistic, alpha=0.1, hidden_layer_sizes=16, solver=lbfgs \n",
      "[CV]  activation=logistic, alpha=0.1, hidden_layer_sizes=16, solver=lbfgs, score=0.7325443786982249, total=   0.2s\n",
      "[CV] activation=logistic, alpha=0.1, hidden_layer_sizes=16, solver=lbfgs \n",
      "[CV]  activation=logistic, alpha=0.1, hidden_layer_sizes=16, solver=lbfgs, score=0.6911242603550296, total=   0.4s\n",
      "[CV] activation=logistic, alpha=0.1, hidden_layer_sizes=16, solver=lbfgs \n",
      "[CV]  activation=logistic, alpha=0.1, hidden_layer_sizes=16, solver=lbfgs, score=0.683649289099526, total=   0.2s\n",
      "[CV] activation=logistic, alpha=0.1, hidden_layer_sizes=16, solver=adam \n",
      "[CV]  activation=logistic, alpha=0.1, hidden_layer_sizes=16, solver=adam, score=0.6958579881656805, total=   0.6s\n",
      "[CV] activation=logistic, alpha=0.1, hidden_layer_sizes=16, solver=adam \n",
      "[CV]  activation=logistic, alpha=0.1, hidden_layer_sizes=16, solver=adam, score=0.7005917159763314, total=   0.7s\n",
      "[CV] activation=logistic, alpha=0.1, hidden_layer_sizes=16, solver=adam \n",
      "[CV]  activation=logistic, alpha=0.1, hidden_layer_sizes=16, solver=adam, score=0.6800947867298578, total=   0.4s\n",
      "[CV] activation=logistic, alpha=0.1, hidden_layer_sizes=32, solver=lbfgs \n",
      "[CV]  activation=logistic, alpha=0.1, hidden_layer_sizes=32, solver=lbfgs, score=0.7100591715976331, total=   0.4s\n",
      "[CV] activation=logistic, alpha=0.1, hidden_layer_sizes=32, solver=lbfgs \n",
      "[CV]  activation=logistic, alpha=0.1, hidden_layer_sizes=32, solver=lbfgs, score=0.6970414201183432, total=   0.3s\n",
      "[CV] activation=logistic, alpha=0.1, hidden_layer_sizes=32, solver=lbfgs \n",
      "[CV]  activation=logistic, alpha=0.1, hidden_layer_sizes=32, solver=lbfgs, score=0.6907582938388626, total=   0.4s\n",
      "[CV] activation=logistic, alpha=0.1, hidden_layer_sizes=32, solver=adam \n",
      "[CV]  activation=logistic, alpha=0.1, hidden_layer_sizes=32, solver=adam, score=0.693491124260355, total=   0.4s\n",
      "[CV] activation=logistic, alpha=0.1, hidden_layer_sizes=32, solver=adam \n",
      "[CV]  activation=logistic, alpha=0.1, hidden_layer_sizes=32, solver=adam, score=0.6982248520710059, total=   0.3s\n",
      "[CV] activation=logistic, alpha=0.1, hidden_layer_sizes=32, solver=adam \n",
      "[CV]  activation=logistic, alpha=0.1, hidden_layer_sizes=32, solver=adam, score=0.6860189573459715, total=   0.4s\n",
      "[CV] activation=logistic, alpha=0.1, hidden_layer_sizes=64, solver=lbfgs \n",
      "[CV]  activation=logistic, alpha=0.1, hidden_layer_sizes=64, solver=lbfgs, score=0.7100591715976331, total=   0.6s\n",
      "[CV] activation=logistic, alpha=0.1, hidden_layer_sizes=64, solver=lbfgs \n",
      "[CV]  activation=logistic, alpha=0.1, hidden_layer_sizes=64, solver=lbfgs, score=0.7100591715976331, total=   0.6s\n",
      "[CV] activation=logistic, alpha=0.1, hidden_layer_sizes=64, solver=lbfgs \n",
      "[CV]  activation=logistic, alpha=0.1, hidden_layer_sizes=64, solver=lbfgs, score=0.6872037914691943, total=   0.5s\n",
      "[CV] activation=logistic, alpha=0.1, hidden_layer_sizes=64, solver=adam \n",
      "[CV]  activation=logistic, alpha=0.1, hidden_layer_sizes=64, solver=adam, score=0.6899408284023668, total=   0.6s\n",
      "[CV] activation=logistic, alpha=0.1, hidden_layer_sizes=64, solver=adam \n",
      "[CV]  activation=logistic, alpha=0.1, hidden_layer_sizes=64, solver=adam, score=0.6899408284023668, total=   0.5s\n",
      "[CV] activation=logistic, alpha=0.1, hidden_layer_sizes=64, solver=adam \n",
      "[CV]  activation=logistic, alpha=0.1, hidden_layer_sizes=64, solver=adam, score=0.6812796208530806, total=   0.6s\n",
      "[CV] activation=logistic, alpha=1, hidden_layer_sizes=2, solver=lbfgs \n",
      "[CV]  activation=logistic, alpha=1, hidden_layer_sizes=2, solver=lbfgs, score=0.6970414201183432, total=   0.1s\n",
      "[CV] activation=logistic, alpha=1, hidden_layer_sizes=2, solver=lbfgs \n",
      "[CV]  activation=logistic, alpha=1, hidden_layer_sizes=2, solver=lbfgs, score=0.6923076923076923, total=   0.1s\n",
      "[CV] activation=logistic, alpha=1, hidden_layer_sizes=2, solver=lbfgs \n",
      "[CV]  activation=logistic, alpha=1, hidden_layer_sizes=2, solver=lbfgs, score=0.6919431279620853, total=   0.1s\n",
      "[CV] activation=logistic, alpha=1, hidden_layer_sizes=2, solver=adam .\n",
      "[CV]  activation=logistic, alpha=1, hidden_layer_sizes=2, solver=adam, score=0.672189349112426, total=   0.5s\n",
      "[CV] activation=logistic, alpha=1, hidden_layer_sizes=2, solver=adam .\n",
      "[CV]  activation=logistic, alpha=1, hidden_layer_sizes=2, solver=adam, score=0.6840236686390533, total=   0.5s\n",
      "[CV] activation=logistic, alpha=1, hidden_layer_sizes=2, solver=adam .\n",
      "[CV]  activation=logistic, alpha=1, hidden_layer_sizes=2, solver=adam, score=0.6433649289099526, total=   0.4s\n",
      "[CV] activation=logistic, alpha=1, hidden_layer_sizes=4, solver=lbfgs \n",
      "[CV]  activation=logistic, alpha=1, hidden_layer_sizes=4, solver=lbfgs, score=0.685207100591716, total=   0.1s\n",
      "[CV] activation=logistic, alpha=1, hidden_layer_sizes=4, solver=lbfgs \n",
      "[CV]  activation=logistic, alpha=1, hidden_layer_sizes=4, solver=lbfgs, score=0.6970414201183432, total=   0.1s\n",
      "[CV] activation=logistic, alpha=1, hidden_layer_sizes=4, solver=lbfgs \n",
      "[CV]  activation=logistic, alpha=1, hidden_layer_sizes=4, solver=lbfgs, score=0.6883886255924171, total=   0.1s\n",
      "[CV] activation=logistic, alpha=1, hidden_layer_sizes=4, solver=adam .\n"
     ]
    },
    {
     "name": "stderr",
     "output_type": "stream",
     "text": [
      "/Users/laurenelisegardiner/anaconda/lib/python3.6/site-packages/sklearn/neural_network/multilayer_perceptron.py:564: ConvergenceWarning: Stochastic Optimizer: Maximum iterations (200) reached and the optimization hasn't converged yet.\n",
      "  % self.max_iter, ConvergenceWarning)\n"
     ]
    },
    {
     "name": "stdout",
     "output_type": "stream",
     "text": [
      "[CV]  activation=logistic, alpha=1, hidden_layer_sizes=4, solver=adam, score=0.6816568047337278, total=   0.4s\n",
      "[CV] activation=logistic, alpha=1, hidden_layer_sizes=4, solver=adam .\n"
     ]
    },
    {
     "name": "stderr",
     "output_type": "stream",
     "text": [
      "/Users/laurenelisegardiner/anaconda/lib/python3.6/site-packages/sklearn/neural_network/multilayer_perceptron.py:564: ConvergenceWarning: Stochastic Optimizer: Maximum iterations (200) reached and the optimization hasn't converged yet.\n",
      "  % self.max_iter, ConvergenceWarning)\n"
     ]
    },
    {
     "name": "stdout",
     "output_type": "stream",
     "text": [
      "[CV]  activation=logistic, alpha=1, hidden_layer_sizes=4, solver=adam, score=0.7076923076923077, total=   0.5s\n",
      "[CV] activation=logistic, alpha=1, hidden_layer_sizes=4, solver=adam .\n"
     ]
    },
    {
     "name": "stderr",
     "output_type": "stream",
     "text": [
      "/Users/laurenelisegardiner/anaconda/lib/python3.6/site-packages/sklearn/neural_network/multilayer_perceptron.py:564: ConvergenceWarning: Stochastic Optimizer: Maximum iterations (200) reached and the optimization hasn't converged yet.\n",
      "  % self.max_iter, ConvergenceWarning)\n"
     ]
    },
    {
     "name": "stdout",
     "output_type": "stream",
     "text": [
      "[CV]  activation=logistic, alpha=1, hidden_layer_sizes=4, solver=adam, score=0.6907582938388626, total=   0.4s\n",
      "[CV] activation=logistic, alpha=1, hidden_layer_sizes=8, solver=lbfgs \n",
      "[CV]  activation=logistic, alpha=1, hidden_layer_sizes=8, solver=lbfgs, score=0.693491124260355, total=   0.1s\n",
      "[CV] activation=logistic, alpha=1, hidden_layer_sizes=8, solver=lbfgs \n",
      "[CV]  activation=logistic, alpha=1, hidden_layer_sizes=8, solver=lbfgs, score=0.6982248520710059, total=   0.2s\n",
      "[CV] activation=logistic, alpha=1, hidden_layer_sizes=8, solver=lbfgs \n",
      "[CV]  activation=logistic, alpha=1, hidden_layer_sizes=8, solver=lbfgs, score=0.6954976303317536, total=   0.1s\n",
      "[CV] activation=logistic, alpha=1, hidden_layer_sizes=8, solver=adam .\n",
      "[CV]  activation=logistic, alpha=1, hidden_layer_sizes=8, solver=adam, score=0.6911242603550296, total=   0.3s\n",
      "[CV] activation=logistic, alpha=1, hidden_layer_sizes=8, solver=adam .\n",
      "[CV]  activation=logistic, alpha=1, hidden_layer_sizes=8, solver=adam, score=0.6982248520710059, total=   0.4s\n",
      "[CV] activation=logistic, alpha=1, hidden_layer_sizes=8, solver=adam .\n",
      "[CV]  activation=logistic, alpha=1, hidden_layer_sizes=8, solver=adam, score=0.6812796208530806, total=   0.4s\n",
      "[CV] activation=logistic, alpha=1, hidden_layer_sizes=16, solver=lbfgs \n",
      "[CV]  activation=logistic, alpha=1, hidden_layer_sizes=16, solver=lbfgs, score=0.6804733727810651, total=   0.2s\n",
      "[CV] activation=logistic, alpha=1, hidden_layer_sizes=16, solver=lbfgs \n",
      "[CV]  activation=logistic, alpha=1, hidden_layer_sizes=16, solver=lbfgs, score=0.7183431952662722, total=   0.2s\n",
      "[CV] activation=logistic, alpha=1, hidden_layer_sizes=16, solver=lbfgs \n",
      "[CV]  activation=logistic, alpha=1, hidden_layer_sizes=16, solver=lbfgs, score=0.693127962085308, total=   0.2s\n",
      "[CV] activation=logistic, alpha=1, hidden_layer_sizes=16, solver=adam \n",
      "[CV]  activation=logistic, alpha=1, hidden_layer_sizes=16, solver=adam, score=0.6899408284023668, total=   0.3s\n",
      "[CV] activation=logistic, alpha=1, hidden_layer_sizes=16, solver=adam \n",
      "[CV]  activation=logistic, alpha=1, hidden_layer_sizes=16, solver=adam, score=0.6887573964497041, total=   0.3s\n",
      "[CV] activation=logistic, alpha=1, hidden_layer_sizes=16, solver=adam \n",
      "[CV]  activation=logistic, alpha=1, hidden_layer_sizes=16, solver=adam, score=0.6753554502369669, total=   0.3s\n",
      "[CV] activation=logistic, alpha=1, hidden_layer_sizes=32, solver=lbfgs \n",
      "[CV]  activation=logistic, alpha=1, hidden_layer_sizes=32, solver=lbfgs, score=0.7124260355029586, total=   0.3s\n",
      "[CV] activation=logistic, alpha=1, hidden_layer_sizes=32, solver=lbfgs \n",
      "[CV]  activation=logistic, alpha=1, hidden_layer_sizes=32, solver=lbfgs, score=0.7254437869822485, total=   0.3s\n",
      "[CV] activation=logistic, alpha=1, hidden_layer_sizes=32, solver=lbfgs \n",
      "[CV]  activation=logistic, alpha=1, hidden_layer_sizes=32, solver=lbfgs, score=0.7085308056872038, total=   0.3s\n",
      "[CV] activation=logistic, alpha=1, hidden_layer_sizes=32, solver=adam \n",
      "[CV]  activation=logistic, alpha=1, hidden_layer_sizes=32, solver=adam, score=0.6899408284023668, total=   0.4s\n",
      "[CV] activation=logistic, alpha=1, hidden_layer_sizes=32, solver=adam \n",
      "[CV]  activation=logistic, alpha=1, hidden_layer_sizes=32, solver=adam, score=0.6946745562130178, total=   0.2s\n",
      "[CV] activation=logistic, alpha=1, hidden_layer_sizes=32, solver=adam \n",
      "[CV]  activation=logistic, alpha=1, hidden_layer_sizes=32, solver=adam, score=0.6800947867298578, total=   0.3s\n",
      "[CV] activation=logistic, alpha=1, hidden_layer_sizes=64, solver=lbfgs \n",
      "[CV]  activation=logistic, alpha=1, hidden_layer_sizes=64, solver=lbfgs, score=0.7041420118343196, total=   0.5s\n",
      "[CV] activation=logistic, alpha=1, hidden_layer_sizes=64, solver=lbfgs \n",
      "[CV]  activation=logistic, alpha=1, hidden_layer_sizes=64, solver=lbfgs, score=0.6994082840236686, total=   0.5s\n",
      "[CV] activation=logistic, alpha=1, hidden_layer_sizes=64, solver=lbfgs \n",
      "[CV]  activation=logistic, alpha=1, hidden_layer_sizes=64, solver=lbfgs, score=0.6966824644549763, total=   0.6s\n",
      "[CV] activation=logistic, alpha=1, hidden_layer_sizes=64, solver=adam \n",
      "[CV]  activation=logistic, alpha=1, hidden_layer_sizes=64, solver=adam, score=0.6923076923076923, total=   0.6s\n",
      "[CV] activation=logistic, alpha=1, hidden_layer_sizes=64, solver=adam \n",
      "[CV]  activation=logistic, alpha=1, hidden_layer_sizes=64, solver=adam, score=0.6946745562130178, total=   0.5s\n",
      "[CV] activation=logistic, alpha=1, hidden_layer_sizes=64, solver=adam \n",
      "[CV]  activation=logistic, alpha=1, hidden_layer_sizes=64, solver=adam, score=0.6789099526066351, total=   0.8s\n",
      "[CV] activation=logistic, alpha=10, hidden_layer_sizes=2, solver=lbfgs \n",
      "[CV]  activation=logistic, alpha=10, hidden_layer_sizes=2, solver=lbfgs, score=0.6982248520710059, total=   0.1s\n",
      "[CV] activation=logistic, alpha=10, hidden_layer_sizes=2, solver=lbfgs \n",
      "[CV]  activation=logistic, alpha=10, hidden_layer_sizes=2, solver=lbfgs, score=0.6923076923076923, total=   0.2s\n",
      "[CV] activation=logistic, alpha=10, hidden_layer_sizes=2, solver=lbfgs \n",
      "[CV]  activation=logistic, alpha=10, hidden_layer_sizes=2, solver=lbfgs, score=0.6872037914691943, total=   0.2s\n",
      "[CV] activation=logistic, alpha=10, hidden_layer_sizes=2, solver=adam \n",
      "[CV]  activation=logistic, alpha=10, hidden_layer_sizes=2, solver=adam, score=0.6449704142011834, total=   0.3s\n",
      "[CV] activation=logistic, alpha=10, hidden_layer_sizes=2, solver=adam \n",
      "[CV]  activation=logistic, alpha=10, hidden_layer_sizes=2, solver=adam, score=0.6781065088757396, total=   0.2s\n",
      "[CV] activation=logistic, alpha=10, hidden_layer_sizes=2, solver=adam \n",
      "[CV]  activation=logistic, alpha=10, hidden_layer_sizes=2, solver=adam, score=0.6563981042654028, total=   0.3s\n",
      "[CV] activation=logistic, alpha=10, hidden_layer_sizes=4, solver=lbfgs \n",
      "[CV]  activation=logistic, alpha=10, hidden_layer_sizes=4, solver=lbfgs, score=0.6970414201183432, total=   0.2s\n",
      "[CV] activation=logistic, alpha=10, hidden_layer_sizes=4, solver=lbfgs \n",
      "[CV]  activation=logistic, alpha=10, hidden_layer_sizes=4, solver=lbfgs, score=0.6982248520710059, total=   0.2s\n",
      "[CV] activation=logistic, alpha=10, hidden_layer_sizes=4, solver=lbfgs \n",
      "[CV]  activation=logistic, alpha=10, hidden_layer_sizes=4, solver=lbfgs, score=0.683649289099526, total=   0.2s\n",
      "[CV] activation=logistic, alpha=10, hidden_layer_sizes=4, solver=adam \n",
      "[CV]  activation=logistic, alpha=10, hidden_layer_sizes=4, solver=adam, score=0.5775147928994083, total=   0.5s\n",
      "[CV] activation=logistic, alpha=10, hidden_layer_sizes=4, solver=adam \n",
      "[CV]  activation=logistic, alpha=10, hidden_layer_sizes=4, solver=adam, score=0.5928994082840237, total=   0.4s\n",
      "[CV] activation=logistic, alpha=10, hidden_layer_sizes=4, solver=adam \n",
      "[CV]  activation=logistic, alpha=10, hidden_layer_sizes=4, solver=adam, score=0.5722748815165877, total=   0.3s\n",
      "[CV] activation=logistic, alpha=10, hidden_layer_sizes=8, solver=lbfgs \n",
      "[CV]  activation=logistic, alpha=10, hidden_layer_sizes=8, solver=lbfgs, score=0.6828402366863905, total=   0.2s\n",
      "[CV] activation=logistic, alpha=10, hidden_layer_sizes=8, solver=lbfgs \n",
      "[CV]  activation=logistic, alpha=10, hidden_layer_sizes=8, solver=lbfgs, score=0.6970414201183432, total=   0.2s\n",
      "[CV] activation=logistic, alpha=10, hidden_layer_sizes=8, solver=lbfgs \n",
      "[CV]  activation=logistic, alpha=10, hidden_layer_sizes=8, solver=lbfgs, score=0.6848341232227488, total=   0.2s\n",
      "[CV] activation=logistic, alpha=10, hidden_layer_sizes=8, solver=adam \n",
      "[CV]  activation=logistic, alpha=10, hidden_layer_sizes=8, solver=adam, score=0.6307692307692307, total=   0.2s\n",
      "[CV] activation=logistic, alpha=10, hidden_layer_sizes=8, solver=adam \n",
      "[CV]  activation=logistic, alpha=10, hidden_layer_sizes=8, solver=adam, score=0.6473372781065089, total=   0.2s\n",
      "[CV] activation=logistic, alpha=10, hidden_layer_sizes=8, solver=adam \n",
      "[CV]  activation=logistic, alpha=10, hidden_layer_sizes=8, solver=adam, score=0.6196682464454977, total=   0.2s\n",
      "[CV] activation=logistic, alpha=10, hidden_layer_sizes=16, solver=lbfgs \n",
      "[CV]  activation=logistic, alpha=10, hidden_layer_sizes=16, solver=lbfgs, score=0.7005917159763314, total=   0.2s\n",
      "[CV] activation=logistic, alpha=10, hidden_layer_sizes=16, solver=lbfgs \n",
      "[CV]  activation=logistic, alpha=10, hidden_layer_sizes=16, solver=lbfgs, score=0.6970414201183432, total=   0.2s\n",
      "[CV] activation=logistic, alpha=10, hidden_layer_sizes=16, solver=lbfgs \n"
     ]
    },
    {
     "name": "stdout",
     "output_type": "stream",
     "text": [
      "[CV]  activation=logistic, alpha=10, hidden_layer_sizes=16, solver=lbfgs, score=0.6800947867298578, total=   0.2s\n",
      "[CV] activation=logistic, alpha=10, hidden_layer_sizes=16, solver=adam \n",
      "[CV]  activation=logistic, alpha=10, hidden_layer_sizes=16, solver=adam, score=0.6295857988165681, total=   0.2s\n",
      "[CV] activation=logistic, alpha=10, hidden_layer_sizes=16, solver=adam \n",
      "[CV]  activation=logistic, alpha=10, hidden_layer_sizes=16, solver=adam, score=0.6319526627218935, total=   0.3s\n",
      "[CV] activation=logistic, alpha=10, hidden_layer_sizes=16, solver=adam \n",
      "[CV]  activation=logistic, alpha=10, hidden_layer_sizes=16, solver=adam, score=0.6279620853080569, total=   0.2s\n",
      "[CV] activation=logistic, alpha=10, hidden_layer_sizes=32, solver=lbfgs \n",
      "[CV]  activation=logistic, alpha=10, hidden_layer_sizes=32, solver=lbfgs, score=0.7029585798816568, total=   0.3s\n",
      "[CV] activation=logistic, alpha=10, hidden_layer_sizes=32, solver=lbfgs \n",
      "[CV]  activation=logistic, alpha=10, hidden_layer_sizes=32, solver=lbfgs, score=0.693491124260355, total=   0.4s\n",
      "[CV] activation=logistic, alpha=10, hidden_layer_sizes=32, solver=lbfgs \n",
      "[CV]  activation=logistic, alpha=10, hidden_layer_sizes=32, solver=lbfgs, score=0.683649289099526, total=   0.4s\n",
      "[CV] activation=logistic, alpha=10, hidden_layer_sizes=32, solver=adam \n",
      "[CV]  activation=logistic, alpha=10, hidden_layer_sizes=32, solver=adam, score=0.6307692307692307, total=   0.2s\n",
      "[CV] activation=logistic, alpha=10, hidden_layer_sizes=32, solver=adam \n",
      "[CV]  activation=logistic, alpha=10, hidden_layer_sizes=32, solver=adam, score=0.650887573964497, total=   0.2s\n",
      "[CV] activation=logistic, alpha=10, hidden_layer_sizes=32, solver=adam \n",
      "[CV]  activation=logistic, alpha=10, hidden_layer_sizes=32, solver=adam, score=0.6137440758293838, total=   0.2s\n",
      "[CV] activation=logistic, alpha=10, hidden_layer_sizes=64, solver=lbfgs \n",
      "[CV]  activation=logistic, alpha=10, hidden_layer_sizes=64, solver=lbfgs, score=0.6994082840236686, total=   1.1s\n",
      "[CV] activation=logistic, alpha=10, hidden_layer_sizes=64, solver=lbfgs \n",
      "[CV]  activation=logistic, alpha=10, hidden_layer_sizes=64, solver=lbfgs, score=0.693491124260355, total=   0.8s\n",
      "[CV] activation=logistic, alpha=10, hidden_layer_sizes=64, solver=lbfgs \n",
      "[CV]  activation=logistic, alpha=10, hidden_layer_sizes=64, solver=lbfgs, score=0.6824644549763034, total=   0.7s\n",
      "[CV] activation=logistic, alpha=10, hidden_layer_sizes=64, solver=adam \n",
      "[CV]  activation=logistic, alpha=10, hidden_layer_sizes=64, solver=adam, score=0.5727810650887574, total=   0.2s\n",
      "[CV] activation=logistic, alpha=10, hidden_layer_sizes=64, solver=adam \n",
      "[CV]  activation=logistic, alpha=10, hidden_layer_sizes=64, solver=adam, score=0.650887573964497, total=   0.3s\n",
      "[CV] activation=logistic, alpha=10, hidden_layer_sizes=64, solver=adam \n",
      "[CV]  activation=logistic, alpha=10, hidden_layer_sizes=64, solver=adam, score=0.6161137440758294, total=   0.4s\n"
     ]
    },
    {
     "name": "stderr",
     "output_type": "stream",
     "text": [
      "[Parallel(n_jobs=1)]: Done 216 out of 216 | elapsed:  1.4min finished\n"
     ]
    },
    {
     "name": "stdout",
     "output_type": "stream",
     "text": [
      "Best score: 0.7154696132596685\n",
      "Best parameter set: {'activation': 'logistic', 'alpha': 0.0001, 'hidden_layer_sizes': 16, 'solver': 'lbfgs'}\n"
     ]
    }
   ],
   "source": [
    "param_grid = {'hidden_layer_sizes': [2, 4, 8, 16, 32, 64],\n",
    "              'alpha': [0.0001, 0.001,0.01,0.1,1,10],\n",
    "              'solver' : ['lbfgs', 'adam'],\n",
    "              'activation': ['logistic']}\n",
    "\n",
    "neural_network_model = GridSearchCV(MLPClassifier(random_state=0),param_grid,refit=True,verbose=4)\n",
    "neural_network_model = neural_network_model.fit(X_train_pca, y_train)\n",
    "print(\"Best score: %s\" % (neural_network_model.best_score_))\n",
    "print(\"Best parameter set: %s\" % (neural_network_model.best_params_))"
   ]
  },
  {
   "cell_type": "code",
   "execution_count": 126,
   "metadata": {},
   "outputs": [
    {
     "name": "stdout",
     "output_type": "stream",
     "text": [
      "Neural Network CV Accuracy: 67.21% (+/- 15.96%)\n"
     ]
    }
   ],
   "source": [
    "neural_network_model = MLPClassifier(activation='logistic', solver='lbfgs', alpha=0.0001, hidden_layer_sizes=16, random_state=0)\n",
    "neural_network_scores = cross_val_score(neural_network_model, X_pca, y, cv=10)\n",
    "print(\"Neural Network CV Accuracy: %0.2f%% (+/- %0.2f%%)\" % (neural_network_scores.mean()*100, neural_network_scores.std() * 2*100))"
   ]
  },
  {
   "cell_type": "markdown",
   "metadata": {},
   "source": [
    "## Boosted Trees\n",
    "\n",
    "### AdaBoost Tree"
   ]
  },
  {
   "cell_type": "code",
   "execution_count": 127,
   "metadata": {
    "scrolled": true
   },
   "outputs": [
    {
     "name": "stdout",
     "output_type": "stream",
     "text": [
      "Fitting 3 folds for each of 9 candidates, totalling 27 fits\n",
      "[CV] n_estimators=10 .................................................\n",
      "[CV] ........ n_estimators=10, score=0.6745562130177515, total=   0.0s\n",
      "[CV] n_estimators=10 .................................................\n",
      "[CV] ........ n_estimators=10, score=0.6828402366863905, total=   0.0s\n",
      "[CV] n_estimators=10 .................................................\n",
      "[CV] ........ n_estimators=10, score=0.6765402843601895, total=   0.0s\n",
      "[CV] n_estimators=50 .................................................\n"
     ]
    },
    {
     "name": "stderr",
     "output_type": "stream",
     "text": [
      "[Parallel(n_jobs=1)]: Done   1 out of   1 | elapsed:    0.0s remaining:    0.0s\n",
      "[Parallel(n_jobs=1)]: Done   2 out of   2 | elapsed:    0.1s remaining:    0.0s\n",
      "[Parallel(n_jobs=1)]: Done   3 out of   3 | elapsed:    0.1s remaining:    0.0s\n"
     ]
    },
    {
     "name": "stdout",
     "output_type": "stream",
     "text": [
      "[CV] ........ n_estimators=50, score=0.7053254437869823, total=   0.2s\n",
      "[CV] n_estimators=50 .................................................\n",
      "[CV] ........ n_estimators=50, score=0.6840236686390533, total=   0.2s\n",
      "[CV] n_estimators=50 .................................................\n",
      "[CV] ........ n_estimators=50, score=0.6824644549763034, total=   0.2s\n",
      "[CV] n_estimators=100 ................................................\n",
      "[CV] ....... n_estimators=100, score=0.7088757396449704, total=   0.3s\n",
      "[CV] n_estimators=100 ................................................\n",
      "[CV] ....... n_estimators=100, score=0.6923076923076923, total=   0.3s\n",
      "[CV] n_estimators=100 ................................................\n",
      "[CV] ....... n_estimators=100, score=0.6943127962085308, total=   0.3s\n",
      "[CV] n_estimators=150 ................................................\n",
      "[CV] ....... n_estimators=150, score=0.7053254437869823, total=   0.5s\n",
      "[CV] n_estimators=150 ................................................\n",
      "[CV] ....... n_estimators=150, score=0.6923076923076923, total=   0.5s\n",
      "[CV] n_estimators=150 ................................................\n",
      "[CV] ....... n_estimators=150, score=0.6990521327014217, total=   0.5s\n",
      "[CV] n_estimators=200 ................................................\n",
      "[CV] ....... n_estimators=200, score=0.7088757396449704, total=   0.7s\n",
      "[CV] n_estimators=200 ................................................\n",
      "[CV] ....... n_estimators=200, score=0.7088757396449704, total=   0.6s\n",
      "[CV] n_estimators=200 ................................................\n",
      "[CV] ....... n_estimators=200, score=0.7049763033175356, total=   0.6s\n",
      "[CV] n_estimators=250 ................................................\n",
      "[CV] ....... n_estimators=250, score=0.7053254437869823, total=   0.7s\n",
      "[CV] n_estimators=250 ................................................\n",
      "[CV] ....... n_estimators=250, score=0.7029585798816568, total=   0.7s\n",
      "[CV] n_estimators=250 ................................................\n",
      "[CV] ....... n_estimators=250, score=0.6978672985781991, total=   0.8s\n",
      "[CV] n_estimators=300 ................................................\n",
      "[CV] ....... n_estimators=300, score=0.7029585798816568, total=   0.9s\n",
      "[CV] n_estimators=300 ................................................\n",
      "[CV] ....... n_estimators=300, score=0.7065088757396449, total=   1.0s\n",
      "[CV] n_estimators=300 ................................................\n",
      "[CV] ....... n_estimators=300, score=0.6954976303317536, total=   1.2s\n",
      "[CV] n_estimators=350 ................................................\n",
      "[CV] ....... n_estimators=350, score=0.7005917159763314, total=   1.5s\n",
      "[CV] n_estimators=350 ................................................\n",
      "[CV] ....... n_estimators=350, score=0.7053254437869823, total=   1.3s\n",
      "[CV] n_estimators=350 ................................................\n",
      "[CV] ....... n_estimators=350, score=0.6966824644549763, total=   1.2s\n",
      "[CV] n_estimators=400 ................................................\n",
      "[CV] ....... n_estimators=400, score=0.7017751479289941, total=   1.4s\n",
      "[CV] n_estimators=400 ................................................\n",
      "[CV] ....... n_estimators=400, score=0.7041420118343196, total=   1.2s\n",
      "[CV] n_estimators=400 ................................................\n",
      "[CV] ....... n_estimators=400, score=0.6919431279620853, total=   1.4s\n"
     ]
    },
    {
     "name": "stderr",
     "output_type": "stream",
     "text": [
      "[Parallel(n_jobs=1)]: Done  27 out of  27 | elapsed:   19.7s finished\n"
     ]
    },
    {
     "name": "stdout",
     "output_type": "stream",
     "text": [
      "Best score: 0.7075769534333071\n",
      "Best parameter set: {'n_estimators': 200}\n"
     ]
    }
   ],
   "source": [
    "param_grid = {'n_estimators': [10,50,100,150,200,250,300,350,400]}\n",
    "adaboost_model = GridSearchCV(AdaBoostClassifier(),param_grid,refit=True,verbose=4)\n",
    "adaboost_model = adaboost_model.fit(X_train_pca, y_train)\n",
    "print(\"Best score: %s\" % (adaboost_model.best_score_))\n",
    "print(\"Best parameter set: %s\" % (adaboost_model.best_params_))"
   ]
  },
  {
   "cell_type": "code",
   "execution_count": 128,
   "metadata": {},
   "outputs": [
    {
     "name": "stdout",
     "output_type": "stream",
     "text": [
      "AdaBoost Tree CV Accuracy: 67.78% (+/- 16.51%)\n"
     ]
    }
   ],
   "source": [
    "adaboost_model = AdaBoostClassifier(n_estimators=200)\n",
    "adaboost_model_scores = cross_val_score(adaboost_model, X_pca, y, cv=10)\n",
    "print(\"AdaBoost Tree CV Accuracy: %0.2f%% (+/- %0.2f%%)\" % (adaboost_model_scores.mean()*100, adaboost_model_scores.std() * 2*100))"
   ]
  },
  {
   "cell_type": "markdown",
   "metadata": {},
   "source": [
    "### Gradient Boosted Tree"
   ]
  },
  {
   "cell_type": "code",
   "execution_count": 129,
   "metadata": {
    "scrolled": true
   },
   "outputs": [
    {
     "name": "stdout",
     "output_type": "stream",
     "text": [
      "Fitting 3 folds for each of 225 candidates, totalling 675 fits\n",
      "[CV] learning_rate=0.001, max_depth=1, n_estimators=10 ...............\n",
      "[CV]  learning_rate=0.001, max_depth=1, n_estimators=10, score=0.5029585798816568, total=   0.0s\n",
      "[CV] learning_rate=0.001, max_depth=1, n_estimators=10 ...............\n",
      "[CV]  learning_rate=0.001, max_depth=1, n_estimators=10, score=0.5029585798816568, total=   0.0s\n",
      "[CV] learning_rate=0.001, max_depth=1, n_estimators=10 ...............\n",
      "[CV]  learning_rate=0.001, max_depth=1, n_estimators=10, score=0.5035545023696683, total=   0.0s\n",
      "[CV] learning_rate=0.001, max_depth=1, n_estimators=50 ...............\n",
      "[CV]  learning_rate=0.001, max_depth=1, n_estimators=50, score=0.6544378698224852, total=   0.0s\n",
      "[CV] learning_rate=0.001, max_depth=1, n_estimators=50 ...............\n",
      "[CV]  learning_rate=0.001, max_depth=1, n_estimators=50, score=0.6568047337278107, total=   0.0s\n",
      "[CV] learning_rate=0.001, max_depth=1, n_estimators=50 ...............\n",
      "[CV]  learning_rate=0.001, max_depth=1, n_estimators=50, score=0.6492890995260664, total=   0.0s\n",
      "[CV] learning_rate=0.001, max_depth=1, n_estimators=100 ..............\n"
     ]
    },
    {
     "name": "stderr",
     "output_type": "stream",
     "text": [
      "[Parallel(n_jobs=1)]: Done   1 out of   1 | elapsed:    0.0s remaining:    0.0s\n",
      "[Parallel(n_jobs=1)]: Done   2 out of   2 | elapsed:    0.0s remaining:    0.0s\n",
      "[Parallel(n_jobs=1)]: Done   3 out of   3 | elapsed:    0.0s remaining:    0.0s\n"
     ]
    },
    {
     "name": "stdout",
     "output_type": "stream",
     "text": [
      "[CV]  learning_rate=0.001, max_depth=1, n_estimators=100, score=0.6544378698224852, total=   0.1s\n",
      "[CV] learning_rate=0.001, max_depth=1, n_estimators=100 ..............\n",
      "[CV]  learning_rate=0.001, max_depth=1, n_estimators=100, score=0.6568047337278107, total=   0.1s\n",
      "[CV] learning_rate=0.001, max_depth=1, n_estimators=100 ..............\n",
      "[CV]  learning_rate=0.001, max_depth=1, n_estimators=100, score=0.6492890995260664, total=   0.1s\n",
      "[CV] learning_rate=0.001, max_depth=1, n_estimators=150 ..............\n",
      "[CV]  learning_rate=0.001, max_depth=1, n_estimators=150, score=0.6544378698224852, total=   0.1s\n",
      "[CV] learning_rate=0.001, max_depth=1, n_estimators=150 ..............\n",
      "[CV]  learning_rate=0.001, max_depth=1, n_estimators=150, score=0.6568047337278107, total=   0.1s\n",
      "[CV] learning_rate=0.001, max_depth=1, n_estimators=150 ..............\n",
      "[CV]  learning_rate=0.001, max_depth=1, n_estimators=150, score=0.6492890995260664, total=   0.1s\n",
      "[CV] learning_rate=0.001, max_depth=1, n_estimators=200 ..............\n",
      "[CV]  learning_rate=0.001, max_depth=1, n_estimators=200, score=0.6544378698224852, total=   0.1s\n",
      "[CV] learning_rate=0.001, max_depth=1, n_estimators=200 ..............\n",
      "[CV]  learning_rate=0.001, max_depth=1, n_estimators=200, score=0.6568047337278107, total=   0.1s\n",
      "[CV] learning_rate=0.001, max_depth=1, n_estimators=200 ..............\n",
      "[CV]  learning_rate=0.001, max_depth=1, n_estimators=200, score=0.6492890995260664, total=   0.1s\n",
      "[CV] learning_rate=0.001, max_depth=1, n_estimators=250 ..............\n",
      "[CV]  learning_rate=0.001, max_depth=1, n_estimators=250, score=0.6544378698224852, total=   0.2s\n",
      "[CV] learning_rate=0.001, max_depth=1, n_estimators=250 ..............\n",
      "[CV]  learning_rate=0.001, max_depth=1, n_estimators=250, score=0.6568047337278107, total=   0.2s\n",
      "[CV] learning_rate=0.001, max_depth=1, n_estimators=250 ..............\n",
      "[CV]  learning_rate=0.001, max_depth=1, n_estimators=250, score=0.6492890995260664, total=   0.2s\n",
      "[CV] learning_rate=0.001, max_depth=1, n_estimators=300 ..............\n",
      "[CV]  learning_rate=0.001, max_depth=1, n_estimators=300, score=0.6544378698224852, total=   0.2s\n",
      "[CV] learning_rate=0.001, max_depth=1, n_estimators=300 ..............\n",
      "[CV]  learning_rate=0.001, max_depth=1, n_estimators=300, score=0.6568047337278107, total=   0.2s\n",
      "[CV] learning_rate=0.001, max_depth=1, n_estimators=300 ..............\n",
      "[CV]  learning_rate=0.001, max_depth=1, n_estimators=300, score=0.6492890995260664, total=   0.2s\n",
      "[CV] learning_rate=0.001, max_depth=1, n_estimators=350 ..............\n",
      "[CV]  learning_rate=0.001, max_depth=1, n_estimators=350, score=0.6544378698224852, total=   0.2s\n",
      "[CV] learning_rate=0.001, max_depth=1, n_estimators=350 ..............\n",
      "[CV]  learning_rate=0.001, max_depth=1, n_estimators=350, score=0.6568047337278107, total=   0.2s\n",
      "[CV] learning_rate=0.001, max_depth=1, n_estimators=350 ..............\n",
      "[CV]  learning_rate=0.001, max_depth=1, n_estimators=350, score=0.6492890995260664, total=   0.2s\n",
      "[CV] learning_rate=0.001, max_depth=1, n_estimators=400 ..............\n",
      "[CV]  learning_rate=0.001, max_depth=1, n_estimators=400, score=0.6544378698224852, total=   0.2s\n",
      "[CV] learning_rate=0.001, max_depth=1, n_estimators=400 ..............\n",
      "[CV]  learning_rate=0.001, max_depth=1, n_estimators=400, score=0.6568047337278107, total=   0.2s\n",
      "[CV] learning_rate=0.001, max_depth=1, n_estimators=400 ..............\n",
      "[CV]  learning_rate=0.001, max_depth=1, n_estimators=400, score=0.6492890995260664, total=   0.2s\n",
      "[CV] learning_rate=0.001, max_depth=2, n_estimators=10 ...............\n",
      "[CV]  learning_rate=0.001, max_depth=2, n_estimators=10, score=0.5029585798816568, total=   0.0s\n",
      "[CV] learning_rate=0.001, max_depth=2, n_estimators=10 ...............\n",
      "[CV]  learning_rate=0.001, max_depth=2, n_estimators=10, score=0.5029585798816568, total=   0.0s\n",
      "[CV] learning_rate=0.001, max_depth=2, n_estimators=10 ...............\n",
      "[CV]  learning_rate=0.001, max_depth=2, n_estimators=10, score=0.5035545023696683, total=   0.0s\n",
      "[CV] learning_rate=0.001, max_depth=2, n_estimators=50 ...............\n",
      "[CV]  learning_rate=0.001, max_depth=2, n_estimators=50, score=0.6544378698224852, total=   0.0s\n",
      "[CV] learning_rate=0.001, max_depth=2, n_estimators=50 ...............\n",
      "[CV]  learning_rate=0.001, max_depth=2, n_estimators=50, score=0.6650887573964497, total=   0.0s\n",
      "[CV] learning_rate=0.001, max_depth=2, n_estimators=50 ...............\n",
      "[CV]  learning_rate=0.001, max_depth=2, n_estimators=50, score=0.6481042654028436, total=   0.0s\n",
      "[CV] learning_rate=0.001, max_depth=2, n_estimators=100 ..............\n",
      "[CV]  learning_rate=0.001, max_depth=2, n_estimators=100, score=0.6603550295857988, total=   0.1s\n",
      "[CV] learning_rate=0.001, max_depth=2, n_estimators=100 ..............\n",
      "[CV]  learning_rate=0.001, max_depth=2, n_estimators=100, score=0.6650887573964497, total=   0.1s\n",
      "[CV] learning_rate=0.001, max_depth=2, n_estimators=100 ..............\n",
      "[CV]  learning_rate=0.001, max_depth=2, n_estimators=100, score=0.6481042654028436, total=   0.1s\n",
      "[CV] learning_rate=0.001, max_depth=2, n_estimators=150 ..............\n",
      "[CV]  learning_rate=0.001, max_depth=2, n_estimators=150, score=0.6674556213017752, total=   0.1s\n",
      "[CV] learning_rate=0.001, max_depth=2, n_estimators=150 ..............\n",
      "[CV]  learning_rate=0.001, max_depth=2, n_estimators=150, score=0.6650887573964497, total=   0.1s\n",
      "[CV] learning_rate=0.001, max_depth=2, n_estimators=150 ..............\n",
      "[CV]  learning_rate=0.001, max_depth=2, n_estimators=150, score=0.6481042654028436, total=   0.1s\n",
      "[CV] learning_rate=0.001, max_depth=2, n_estimators=200 ..............\n",
      "[CV]  learning_rate=0.001, max_depth=2, n_estimators=200, score=0.6674556213017752, total=   0.2s\n",
      "[CV] learning_rate=0.001, max_depth=2, n_estimators=200 ..............\n",
      "[CV]  learning_rate=0.001, max_depth=2, n_estimators=200, score=0.6650887573964497, total=   0.2s\n",
      "[CV] learning_rate=0.001, max_depth=2, n_estimators=200 ..............\n",
      "[CV]  learning_rate=0.001, max_depth=2, n_estimators=200, score=0.6481042654028436, total=   0.1s\n",
      "[CV] learning_rate=0.001, max_depth=2, n_estimators=250 ..............\n",
      "[CV]  learning_rate=0.001, max_depth=2, n_estimators=250, score=0.6674556213017752, total=   0.2s\n",
      "[CV] learning_rate=0.001, max_depth=2, n_estimators=250 ..............\n",
      "[CV]  learning_rate=0.001, max_depth=2, n_estimators=250, score=0.6733727810650888, total=   0.2s\n",
      "[CV] learning_rate=0.001, max_depth=2, n_estimators=250 ..............\n",
      "[CV]  learning_rate=0.001, max_depth=2, n_estimators=250, score=0.6492890995260664, total=   0.2s\n",
      "[CV] learning_rate=0.001, max_depth=2, n_estimators=300 ..............\n",
      "[CV]  learning_rate=0.001, max_depth=2, n_estimators=300, score=0.6674556213017752, total=   0.2s\n",
      "[CV] learning_rate=0.001, max_depth=2, n_estimators=300 ..............\n",
      "[CV]  learning_rate=0.001, max_depth=2, n_estimators=300, score=0.672189349112426, total=   0.2s\n",
      "[CV] learning_rate=0.001, max_depth=2, n_estimators=300 ..............\n",
      "[CV]  learning_rate=0.001, max_depth=2, n_estimators=300, score=0.659952606635071, total=   0.2s\n",
      "[CV] learning_rate=0.001, max_depth=2, n_estimators=350 ..............\n",
      "[CV]  learning_rate=0.001, max_depth=2, n_estimators=350, score=0.6674556213017752, total=   0.3s\n",
      "[CV] learning_rate=0.001, max_depth=2, n_estimators=350 ..............\n",
      "[CV]  learning_rate=0.001, max_depth=2, n_estimators=350, score=0.672189349112426, total=   0.3s\n",
      "[CV] learning_rate=0.001, max_depth=2, n_estimators=350 ..............\n",
      "[CV]  learning_rate=0.001, max_depth=2, n_estimators=350, score=0.6552132701421801, total=   0.3s\n",
      "[CV] learning_rate=0.001, max_depth=2, n_estimators=400 ..............\n",
      "[CV]  learning_rate=0.001, max_depth=2, n_estimators=400, score=0.6674556213017752, total=   0.3s\n",
      "[CV] learning_rate=0.001, max_depth=2, n_estimators=400 ..............\n",
      "[CV]  learning_rate=0.001, max_depth=2, n_estimators=400, score=0.6662721893491125, total=   0.3s\n",
      "[CV] learning_rate=0.001, max_depth=2, n_estimators=400 ..............\n",
      "[CV]  learning_rate=0.001, max_depth=2, n_estimators=400, score=0.6587677725118484, total=   0.3s\n",
      "[CV] learning_rate=0.001, max_depth=3, n_estimators=10 ...............\n",
      "[CV]  learning_rate=0.001, max_depth=3, n_estimators=10, score=0.5029585798816568, total=   0.0s\n",
      "[CV] learning_rate=0.001, max_depth=3, n_estimators=10 ...............\n",
      "[CV]  learning_rate=0.001, max_depth=3, n_estimators=10, score=0.5124260355029586, total=   0.0s\n",
      "[CV] learning_rate=0.001, max_depth=3, n_estimators=10 ...............\n",
      "[CV]  learning_rate=0.001, max_depth=3, n_estimators=10, score=0.6445497630331753, total=   0.0s\n",
      "[CV] learning_rate=0.001, max_depth=3, n_estimators=50 ...............\n",
      "[CV]  learning_rate=0.001, max_depth=3, n_estimators=50, score=0.6674556213017752, total=   0.1s\n",
      "[CV] learning_rate=0.001, max_depth=3, n_estimators=50 ...............\n",
      "[CV]  learning_rate=0.001, max_depth=3, n_estimators=50, score=0.7041420118343196, total=   0.1s\n",
      "[CV] learning_rate=0.001, max_depth=3, n_estimators=50 ...............\n"
     ]
    },
    {
     "name": "stdout",
     "output_type": "stream",
     "text": [
      "[CV]  learning_rate=0.001, max_depth=3, n_estimators=50, score=0.6741706161137441, total=   0.1s\n",
      "[CV] learning_rate=0.001, max_depth=3, n_estimators=100 ..............\n",
      "[CV]  learning_rate=0.001, max_depth=3, n_estimators=100, score=0.6923076923076923, total=   0.1s\n",
      "[CV] learning_rate=0.001, max_depth=3, n_estimators=100 ..............\n",
      "[CV]  learning_rate=0.001, max_depth=3, n_estimators=100, score=0.7041420118343196, total=   0.1s\n",
      "[CV] learning_rate=0.001, max_depth=3, n_estimators=100 ..............\n",
      "[CV]  learning_rate=0.001, max_depth=3, n_estimators=100, score=0.6741706161137441, total=   0.1s\n",
      "[CV] learning_rate=0.001, max_depth=3, n_estimators=150 ..............\n",
      "[CV]  learning_rate=0.001, max_depth=3, n_estimators=150, score=0.6923076923076923, total=   0.2s\n",
      "[CV] learning_rate=0.001, max_depth=3, n_estimators=150 ..............\n",
      "[CV]  learning_rate=0.001, max_depth=3, n_estimators=150, score=0.7041420118343196, total=   0.2s\n",
      "[CV] learning_rate=0.001, max_depth=3, n_estimators=150 ..............\n",
      "[CV]  learning_rate=0.001, max_depth=3, n_estimators=150, score=0.683649289099526, total=   0.2s\n",
      "[CV] learning_rate=0.001, max_depth=3, n_estimators=200 ..............\n",
      "[CV]  learning_rate=0.001, max_depth=3, n_estimators=200, score=0.6923076923076923, total=   0.2s\n",
      "[CV] learning_rate=0.001, max_depth=3, n_estimators=200 ..............\n",
      "[CV]  learning_rate=0.001, max_depth=3, n_estimators=200, score=0.6946745562130178, total=   0.2s\n",
      "[CV] learning_rate=0.001, max_depth=3, n_estimators=200 ..............\n",
      "[CV]  learning_rate=0.001, max_depth=3, n_estimators=200, score=0.683649289099526, total=   0.2s\n",
      "[CV] learning_rate=0.001, max_depth=3, n_estimators=250 ..............\n",
      "[CV]  learning_rate=0.001, max_depth=3, n_estimators=250, score=0.6923076923076923, total=   0.3s\n",
      "[CV] learning_rate=0.001, max_depth=3, n_estimators=250 ..............\n",
      "[CV]  learning_rate=0.001, max_depth=3, n_estimators=250, score=0.6946745562130178, total=   0.3s\n",
      "[CV] learning_rate=0.001, max_depth=3, n_estimators=250 ..............\n",
      "[CV]  learning_rate=0.001, max_depth=3, n_estimators=250, score=0.683649289099526, total=   0.3s\n",
      "[CV] learning_rate=0.001, max_depth=3, n_estimators=300 ..............\n",
      "[CV]  learning_rate=0.001, max_depth=3, n_estimators=300, score=0.6982248520710059, total=   0.3s\n",
      "[CV] learning_rate=0.001, max_depth=3, n_estimators=300 ..............\n",
      "[CV]  learning_rate=0.001, max_depth=3, n_estimators=300, score=0.7076923076923077, total=   0.3s\n",
      "[CV] learning_rate=0.001, max_depth=3, n_estimators=300 ..............\n",
      "[CV]  learning_rate=0.001, max_depth=3, n_estimators=300, score=0.683649289099526, total=   0.3s\n",
      "[CV] learning_rate=0.001, max_depth=3, n_estimators=350 ..............\n",
      "[CV]  learning_rate=0.001, max_depth=3, n_estimators=350, score=0.6994082840236686, total=   0.4s\n",
      "[CV] learning_rate=0.001, max_depth=3, n_estimators=350 ..............\n",
      "[CV]  learning_rate=0.001, max_depth=3, n_estimators=350, score=0.7112426035502959, total=   0.4s\n",
      "[CV] learning_rate=0.001, max_depth=3, n_estimators=350 ..............\n",
      "[CV]  learning_rate=0.001, max_depth=3, n_estimators=350, score=0.693127962085308, total=   0.4s\n",
      "[CV] learning_rate=0.001, max_depth=3, n_estimators=400 ..............\n",
      "[CV]  learning_rate=0.001, max_depth=3, n_estimators=400, score=0.6994082840236686, total=   0.4s\n",
      "[CV] learning_rate=0.001, max_depth=3, n_estimators=400 ..............\n",
      "[CV]  learning_rate=0.001, max_depth=3, n_estimators=400, score=0.7124260355029586, total=   0.4s\n",
      "[CV] learning_rate=0.001, max_depth=3, n_estimators=400 ..............\n",
      "[CV]  learning_rate=0.001, max_depth=3, n_estimators=400, score=0.693127962085308, total=   0.4s\n",
      "[CV] learning_rate=0.001, max_depth=4, n_estimators=10 ...............\n",
      "[CV]  learning_rate=0.001, max_depth=4, n_estimators=10, score=0.6615384615384615, total=   0.0s\n",
      "[CV] learning_rate=0.001, max_depth=4, n_estimators=10 ...............\n",
      "[CV]  learning_rate=0.001, max_depth=4, n_estimators=10, score=0.6355029585798817, total=   0.0s\n",
      "[CV] learning_rate=0.001, max_depth=4, n_estimators=10 ...............\n",
      "[CV]  learning_rate=0.001, max_depth=4, n_estimators=10, score=0.6433649289099526, total=   0.0s\n",
      "[CV] learning_rate=0.001, max_depth=4, n_estimators=50 ...............\n",
      "[CV]  learning_rate=0.001, max_depth=4, n_estimators=50, score=0.6887573964497041, total=   0.1s\n",
      "[CV] learning_rate=0.001, max_depth=4, n_estimators=50 ...............\n",
      "[CV]  learning_rate=0.001, max_depth=4, n_estimators=50, score=0.7065088757396449, total=   0.1s\n",
      "[CV] learning_rate=0.001, max_depth=4, n_estimators=50 ...............\n",
      "[CV]  learning_rate=0.001, max_depth=4, n_estimators=50, score=0.6860189573459715, total=   0.1s\n",
      "[CV] learning_rate=0.001, max_depth=4, n_estimators=100 ..............\n",
      "[CV]  learning_rate=0.001, max_depth=4, n_estimators=100, score=0.6887573964497041, total=   0.1s\n",
      "[CV] learning_rate=0.001, max_depth=4, n_estimators=100 ..............\n",
      "[CV]  learning_rate=0.001, max_depth=4, n_estimators=100, score=0.7065088757396449, total=   0.2s\n",
      "[CV] learning_rate=0.001, max_depth=4, n_estimators=100 ..............\n",
      "[CV]  learning_rate=0.001, max_depth=4, n_estimators=100, score=0.7002369668246445, total=   0.1s\n",
      "[CV] learning_rate=0.001, max_depth=4, n_estimators=150 ..............\n",
      "[CV]  learning_rate=0.001, max_depth=4, n_estimators=150, score=0.7112426035502959, total=   0.2s\n",
      "[CV] learning_rate=0.001, max_depth=4, n_estimators=150 ..............\n",
      "[CV]  learning_rate=0.001, max_depth=4, n_estimators=150, score=0.7088757396449704, total=   0.2s\n",
      "[CV] learning_rate=0.001, max_depth=4, n_estimators=150 ..............\n",
      "[CV]  learning_rate=0.001, max_depth=4, n_estimators=150, score=0.70260663507109, total=   0.2s\n",
      "[CV] learning_rate=0.001, max_depth=4, n_estimators=200 ..............\n",
      "[CV]  learning_rate=0.001, max_depth=4, n_estimators=200, score=0.7124260355029586, total=   0.3s\n",
      "[CV] learning_rate=0.001, max_depth=4, n_estimators=200 ..............\n",
      "[CV]  learning_rate=0.001, max_depth=4, n_estimators=200, score=0.7112426035502959, total=   0.3s\n",
      "[CV] learning_rate=0.001, max_depth=4, n_estimators=200 ..............\n",
      "[CV]  learning_rate=0.001, max_depth=4, n_estimators=200, score=0.7014218009478673, total=   0.3s\n",
      "[CV] learning_rate=0.001, max_depth=4, n_estimators=250 ..............\n",
      "[CV]  learning_rate=0.001, max_depth=4, n_estimators=250, score=0.7124260355029586, total=   0.4s\n",
      "[CV] learning_rate=0.001, max_depth=4, n_estimators=250 ..............\n",
      "[CV]  learning_rate=0.001, max_depth=4, n_estimators=250, score=0.7112426035502959, total=   0.4s\n",
      "[CV] learning_rate=0.001, max_depth=4, n_estimators=250 ..............\n",
      "[CV]  learning_rate=0.001, max_depth=4, n_estimators=250, score=0.7037914691943128, total=   0.4s\n",
      "[CV] learning_rate=0.001, max_depth=4, n_estimators=300 ..............\n",
      "[CV]  learning_rate=0.001, max_depth=4, n_estimators=300, score=0.7183431952662722, total=   0.5s\n",
      "[CV] learning_rate=0.001, max_depth=4, n_estimators=300 ..............\n",
      "[CV]  learning_rate=0.001, max_depth=4, n_estimators=300, score=0.7112426035502959, total=   0.5s\n",
      "[CV] learning_rate=0.001, max_depth=4, n_estimators=300 ..............\n",
      "[CV]  learning_rate=0.001, max_depth=4, n_estimators=300, score=0.7061611374407583, total=   0.5s\n",
      "[CV] learning_rate=0.001, max_depth=4, n_estimators=350 ..............\n",
      "[CV]  learning_rate=0.001, max_depth=4, n_estimators=350, score=0.7183431952662722, total=   0.6s\n",
      "[CV] learning_rate=0.001, max_depth=4, n_estimators=350 ..............\n",
      "[CV]  learning_rate=0.001, max_depth=4, n_estimators=350, score=0.7100591715976331, total=   0.6s\n",
      "[CV] learning_rate=0.001, max_depth=4, n_estimators=350 ..............\n",
      "[CV]  learning_rate=0.001, max_depth=4, n_estimators=350, score=0.7097156398104265, total=   0.6s\n",
      "[CV] learning_rate=0.001, max_depth=4, n_estimators=400 ..............\n",
      "[CV]  learning_rate=0.001, max_depth=4, n_estimators=400, score=0.7325443786982249, total=   0.7s\n",
      "[CV] learning_rate=0.001, max_depth=4, n_estimators=400 ..............\n",
      "[CV]  learning_rate=0.001, max_depth=4, n_estimators=400, score=0.714792899408284, total=   0.6s\n",
      "[CV] learning_rate=0.001, max_depth=4, n_estimators=400 ..............\n",
      "[CV]  learning_rate=0.001, max_depth=4, n_estimators=400, score=0.7120853080568721, total=   0.6s\n",
      "[CV] learning_rate=0.001, max_depth=5, n_estimators=10 ...............\n",
      "[CV]  learning_rate=0.001, max_depth=5, n_estimators=10, score=0.6449704142011834, total=   0.0s\n",
      "[CV] learning_rate=0.001, max_depth=5, n_estimators=10 ...............\n",
      "[CV]  learning_rate=0.001, max_depth=5, n_estimators=10, score=0.6023668639053255, total=   0.0s\n",
      "[CV] learning_rate=0.001, max_depth=5, n_estimators=10 ...............\n",
      "[CV]  learning_rate=0.001, max_depth=5, n_estimators=10, score=0.6540284360189573, total=   0.0s\n",
      "[CV] learning_rate=0.001, max_depth=5, n_estimators=50 ...............\n"
     ]
    },
    {
     "name": "stdout",
     "output_type": "stream",
     "text": [
      "[CV]  learning_rate=0.001, max_depth=5, n_estimators=50, score=0.6840236686390533, total=   0.1s\n",
      "[CV] learning_rate=0.001, max_depth=5, n_estimators=50 ...............\n",
      "[CV]  learning_rate=0.001, max_depth=5, n_estimators=50, score=0.6804733727810651, total=   0.1s\n",
      "[CV] learning_rate=0.001, max_depth=5, n_estimators=50 ...............\n",
      "[CV]  learning_rate=0.001, max_depth=5, n_estimators=50, score=0.6978672985781991, total=   0.1s\n",
      "[CV] learning_rate=0.001, max_depth=5, n_estimators=100 ..............\n",
      "[CV]  learning_rate=0.001, max_depth=5, n_estimators=100, score=0.7053254437869823, total=   0.3s\n",
      "[CV] learning_rate=0.001, max_depth=5, n_estimators=100 ..............\n",
      "[CV]  learning_rate=0.001, max_depth=5, n_estimators=100, score=0.7017751479289941, total=   0.2s\n",
      "[CV] learning_rate=0.001, max_depth=5, n_estimators=100 ..............\n",
      "[CV]  learning_rate=0.001, max_depth=5, n_estimators=100, score=0.6966824644549763, total=   0.2s\n",
      "[CV] learning_rate=0.001, max_depth=5, n_estimators=150 ..............\n",
      "[CV]  learning_rate=0.001, max_depth=5, n_estimators=150, score=0.7053254437869823, total=   0.3s\n",
      "[CV] learning_rate=0.001, max_depth=5, n_estimators=150 ..............\n",
      "[CV]  learning_rate=0.001, max_depth=5, n_estimators=150, score=0.7159763313609467, total=   0.4s\n",
      "[CV] learning_rate=0.001, max_depth=5, n_estimators=150 ..............\n",
      "[CV]  learning_rate=0.001, max_depth=5, n_estimators=150, score=0.6990521327014217, total=   0.3s\n",
      "[CV] learning_rate=0.001, max_depth=5, n_estimators=200 ..............\n",
      "[CV]  learning_rate=0.001, max_depth=5, n_estimators=200, score=0.7076923076923077, total=   0.4s\n",
      "[CV] learning_rate=0.001, max_depth=5, n_estimators=200 ..............\n",
      "[CV]  learning_rate=0.001, max_depth=5, n_estimators=200, score=0.7171597633136094, total=   0.4s\n",
      "[CV] learning_rate=0.001, max_depth=5, n_estimators=200 ..............\n",
      "[CV]  learning_rate=0.001, max_depth=5, n_estimators=200, score=0.7049763033175356, total=   0.4s\n",
      "[CV] learning_rate=0.001, max_depth=5, n_estimators=250 ..............\n",
      "[CV]  learning_rate=0.001, max_depth=5, n_estimators=250, score=0.7065088757396449, total=   0.5s\n",
      "[CV] learning_rate=0.001, max_depth=5, n_estimators=250 ..............\n",
      "[CV]  learning_rate=0.001, max_depth=5, n_estimators=250, score=0.7195266272189349, total=   0.5s\n",
      "[CV] learning_rate=0.001, max_depth=5, n_estimators=250 ..............\n",
      "[CV]  learning_rate=0.001, max_depth=5, n_estimators=250, score=0.70260663507109, total=   0.5s\n",
      "[CV] learning_rate=0.001, max_depth=5, n_estimators=300 ..............\n",
      "[CV]  learning_rate=0.001, max_depth=5, n_estimators=300, score=0.7088757396449704, total=   0.6s\n",
      "[CV] learning_rate=0.001, max_depth=5, n_estimators=300 ..............\n",
      "[CV]  learning_rate=0.001, max_depth=5, n_estimators=300, score=0.7207100591715976, total=   0.7s\n",
      "[CV] learning_rate=0.001, max_depth=5, n_estimators=300 ..............\n",
      "[CV]  learning_rate=0.001, max_depth=5, n_estimators=300, score=0.7049763033175356, total=   0.6s\n",
      "[CV] learning_rate=0.001, max_depth=5, n_estimators=350 ..............\n",
      "[CV]  learning_rate=0.001, max_depth=5, n_estimators=350, score=0.7065088757396449, total=   0.7s\n",
      "[CV] learning_rate=0.001, max_depth=5, n_estimators=350 ..............\n",
      "[CV]  learning_rate=0.001, max_depth=5, n_estimators=350, score=0.7195266272189349, total=   0.8s\n",
      "[CV] learning_rate=0.001, max_depth=5, n_estimators=350 ..............\n",
      "[CV]  learning_rate=0.001, max_depth=5, n_estimators=350, score=0.7120853080568721, total=   0.7s\n",
      "[CV] learning_rate=0.001, max_depth=5, n_estimators=400 ..............\n",
      "[CV]  learning_rate=0.001, max_depth=5, n_estimators=400, score=0.7112426035502959, total=   0.9s\n",
      "[CV] learning_rate=0.001, max_depth=5, n_estimators=400 ..............\n",
      "[CV]  learning_rate=0.001, max_depth=5, n_estimators=400, score=0.7183431952662722, total=   0.9s\n",
      "[CV] learning_rate=0.001, max_depth=5, n_estimators=400 ..............\n",
      "[CV]  learning_rate=0.001, max_depth=5, n_estimators=400, score=0.7191943127962085, total=   0.8s\n",
      "[CV] learning_rate=0.01, max_depth=1, n_estimators=10 ................\n",
      "[CV]  learning_rate=0.01, max_depth=1, n_estimators=10, score=0.6544378698224852, total=   0.0s\n",
      "[CV] learning_rate=0.01, max_depth=1, n_estimators=10 ................\n",
      "[CV]  learning_rate=0.01, max_depth=1, n_estimators=10, score=0.6568047337278107, total=   0.0s\n",
      "[CV] learning_rate=0.01, max_depth=1, n_estimators=10 ................\n",
      "[CV]  learning_rate=0.01, max_depth=1, n_estimators=10, score=0.6492890995260664, total=   0.0s\n",
      "[CV] learning_rate=0.01, max_depth=1, n_estimators=50 ................\n",
      "[CV]  learning_rate=0.01, max_depth=1, n_estimators=50, score=0.6627218934911243, total=   0.0s\n",
      "[CV] learning_rate=0.01, max_depth=1, n_estimators=50 ................\n",
      "[CV]  learning_rate=0.01, max_depth=1, n_estimators=50, score=0.6568047337278107, total=   0.0s\n",
      "[CV] learning_rate=0.01, max_depth=1, n_estimators=50 ................\n",
      "[CV]  learning_rate=0.01, max_depth=1, n_estimators=50, score=0.6492890995260664, total=   0.0s\n",
      "[CV] learning_rate=0.01, max_depth=1, n_estimators=100 ...............\n",
      "[CV]  learning_rate=0.01, max_depth=1, n_estimators=100, score=0.6674556213017752, total=   0.1s\n",
      "[CV] learning_rate=0.01, max_depth=1, n_estimators=100 ...............\n",
      "[CV]  learning_rate=0.01, max_depth=1, n_estimators=100, score=0.6733727810650888, total=   0.1s\n",
      "[CV] learning_rate=0.01, max_depth=1, n_estimators=100 ...............\n",
      "[CV]  learning_rate=0.01, max_depth=1, n_estimators=100, score=0.6481042654028436, total=   0.1s\n",
      "[CV] learning_rate=0.01, max_depth=1, n_estimators=150 ...............\n",
      "[CV]  learning_rate=0.01, max_depth=1, n_estimators=150, score=0.6674556213017752, total=   0.1s\n",
      "[CV] learning_rate=0.01, max_depth=1, n_estimators=150 ...............\n",
      "[CV]  learning_rate=0.01, max_depth=1, n_estimators=150, score=0.6757396449704142, total=   0.1s\n",
      "[CV] learning_rate=0.01, max_depth=1, n_estimators=150 ...............\n",
      "[CV]  learning_rate=0.01, max_depth=1, n_estimators=150, score=0.6481042654028436, total=   0.1s\n",
      "[CV] learning_rate=0.01, max_depth=1, n_estimators=200 ...............\n",
      "[CV]  learning_rate=0.01, max_depth=1, n_estimators=200, score=0.6650887573964497, total=   0.1s\n",
      "[CV] learning_rate=0.01, max_depth=1, n_estimators=200 ...............\n",
      "[CV]  learning_rate=0.01, max_depth=1, n_estimators=200, score=0.6828402366863905, total=   0.2s\n",
      "[CV] learning_rate=0.01, max_depth=1, n_estimators=200 ...............\n",
      "[CV]  learning_rate=0.01, max_depth=1, n_estimators=200, score=0.6481042654028436, total=   0.2s\n",
      "[CV] learning_rate=0.01, max_depth=1, n_estimators=250 ...............\n",
      "[CV]  learning_rate=0.01, max_depth=1, n_estimators=250, score=0.6816568047337278, total=   0.1s\n",
      "[CV] learning_rate=0.01, max_depth=1, n_estimators=250 ...............\n",
      "[CV]  learning_rate=0.01, max_depth=1, n_estimators=250, score=0.685207100591716, total=   0.1s\n",
      "[CV] learning_rate=0.01, max_depth=1, n_estimators=250 ...............\n",
      "[CV]  learning_rate=0.01, max_depth=1, n_estimators=250, score=0.6492890995260664, total=   0.2s\n",
      "[CV] learning_rate=0.01, max_depth=1, n_estimators=300 ...............\n",
      "[CV]  learning_rate=0.01, max_depth=1, n_estimators=300, score=0.6816568047337278, total=   0.2s\n",
      "[CV] learning_rate=0.01, max_depth=1, n_estimators=300 ...............\n",
      "[CV]  learning_rate=0.01, max_depth=1, n_estimators=300, score=0.6875739644970414, total=   0.2s\n",
      "[CV] learning_rate=0.01, max_depth=1, n_estimators=300 ...............\n",
      "[CV]  learning_rate=0.01, max_depth=1, n_estimators=300, score=0.669431279620853, total=   0.2s\n",
      "[CV] learning_rate=0.01, max_depth=1, n_estimators=350 ...............\n",
      "[CV]  learning_rate=0.01, max_depth=1, n_estimators=350, score=0.6816568047337278, total=   0.3s\n",
      "[CV] learning_rate=0.01, max_depth=1, n_estimators=350 ...............\n",
      "[CV]  learning_rate=0.01, max_depth=1, n_estimators=350, score=0.685207100591716, total=   0.2s\n",
      "[CV] learning_rate=0.01, max_depth=1, n_estimators=350 ...............\n",
      "[CV]  learning_rate=0.01, max_depth=1, n_estimators=350, score=0.669431279620853, total=   0.2s\n",
      "[CV] learning_rate=0.01, max_depth=1, n_estimators=400 ...............\n",
      "[CV]  learning_rate=0.01, max_depth=1, n_estimators=400, score=0.6828402366863905, total=   0.2s\n",
      "[CV] learning_rate=0.01, max_depth=1, n_estimators=400 ...............\n"
     ]
    },
    {
     "name": "stdout",
     "output_type": "stream",
     "text": [
      "[CV]  learning_rate=0.01, max_depth=1, n_estimators=400, score=0.6863905325443787, total=   0.2s\n",
      "[CV] learning_rate=0.01, max_depth=1, n_estimators=400 ...............\n",
      "[CV]  learning_rate=0.01, max_depth=1, n_estimators=400, score=0.6706161137440758, total=   0.2s\n",
      "[CV] learning_rate=0.01, max_depth=2, n_estimators=10 ................\n",
      "[CV]  learning_rate=0.01, max_depth=2, n_estimators=10, score=0.6603550295857988, total=   0.0s\n",
      "[CV] learning_rate=0.01, max_depth=2, n_estimators=10 ................\n",
      "[CV]  learning_rate=0.01, max_depth=2, n_estimators=10, score=0.6650887573964497, total=   0.0s\n",
      "[CV] learning_rate=0.01, max_depth=2, n_estimators=10 ................\n",
      "[CV]  learning_rate=0.01, max_depth=2, n_estimators=10, score=0.6481042654028436, total=   0.0s\n",
      "[CV] learning_rate=0.01, max_depth=2, n_estimators=50 ................\n",
      "[CV]  learning_rate=0.01, max_depth=2, n_estimators=50, score=0.6674556213017752, total=   0.0s\n",
      "[CV] learning_rate=0.01, max_depth=2, n_estimators=50 ................\n",
      "[CV]  learning_rate=0.01, max_depth=2, n_estimators=50, score=0.6674556213017752, total=   0.0s\n",
      "[CV] learning_rate=0.01, max_depth=2, n_estimators=50 ................\n",
      "[CV]  learning_rate=0.01, max_depth=2, n_estimators=50, score=0.6587677725118484, total=   0.0s\n",
      "[CV] learning_rate=0.01, max_depth=2, n_estimators=100 ...............\n",
      "[CV]  learning_rate=0.01, max_depth=2, n_estimators=100, score=0.685207100591716, total=   0.1s\n",
      "[CV] learning_rate=0.01, max_depth=2, n_estimators=100 ...............\n",
      "[CV]  learning_rate=0.01, max_depth=2, n_estimators=100, score=0.6875739644970414, total=   0.1s\n",
      "[CV] learning_rate=0.01, max_depth=2, n_estimators=100 ...............\n",
      "[CV]  learning_rate=0.01, max_depth=2, n_estimators=100, score=0.6611374407582938, total=   0.1s\n",
      "[CV] learning_rate=0.01, max_depth=2, n_estimators=150 ...............\n",
      "[CV]  learning_rate=0.01, max_depth=2, n_estimators=150, score=0.6863905325443787, total=   0.1s\n",
      "[CV] learning_rate=0.01, max_depth=2, n_estimators=150 ...............\n",
      "[CV]  learning_rate=0.01, max_depth=2, n_estimators=150, score=0.6982248520710059, total=   0.1s\n",
      "[CV] learning_rate=0.01, max_depth=2, n_estimators=150 ...............\n",
      "[CV]  learning_rate=0.01, max_depth=2, n_estimators=150, score=0.6658767772511849, total=   0.2s\n",
      "[CV] learning_rate=0.01, max_depth=2, n_estimators=200 ...............\n",
      "[CV]  learning_rate=0.01, max_depth=2, n_estimators=200, score=0.7088757396449704, total=   0.2s\n",
      "[CV] learning_rate=0.01, max_depth=2, n_estimators=200 ...............\n",
      "[CV]  learning_rate=0.01, max_depth=2, n_estimators=200, score=0.6994082840236686, total=   0.2s\n",
      "[CV] learning_rate=0.01, max_depth=2, n_estimators=200 ...............\n",
      "[CV]  learning_rate=0.01, max_depth=2, n_estimators=200, score=0.669431279620853, total=   0.2s\n",
      "[CV] learning_rate=0.01, max_depth=2, n_estimators=250 ...............\n",
      "[CV]  learning_rate=0.01, max_depth=2, n_estimators=250, score=0.7088757396449704, total=   0.2s\n",
      "[CV] learning_rate=0.01, max_depth=2, n_estimators=250 ...............\n",
      "[CV]  learning_rate=0.01, max_depth=2, n_estimators=250, score=0.7124260355029586, total=   0.2s\n",
      "[CV] learning_rate=0.01, max_depth=2, n_estimators=250 ...............\n",
      "[CV]  learning_rate=0.01, max_depth=2, n_estimators=250, score=0.683649289099526, total=   0.2s\n",
      "[CV] learning_rate=0.01, max_depth=2, n_estimators=300 ...............\n",
      "[CV]  learning_rate=0.01, max_depth=2, n_estimators=300, score=0.7100591715976331, total=   0.2s\n",
      "[CV] learning_rate=0.01, max_depth=2, n_estimators=300 ...............\n",
      "[CV]  learning_rate=0.01, max_depth=2, n_estimators=300, score=0.7124260355029586, total=   0.3s\n",
      "[CV] learning_rate=0.01, max_depth=2, n_estimators=300 ...............\n",
      "[CV]  learning_rate=0.01, max_depth=2, n_estimators=300, score=0.6895734597156398, total=   0.2s\n",
      "[CV] learning_rate=0.01, max_depth=2, n_estimators=350 ...............\n",
      "[CV]  learning_rate=0.01, max_depth=2, n_estimators=350, score=0.7112426035502959, total=   0.3s\n",
      "[CV] learning_rate=0.01, max_depth=2, n_estimators=350 ...............\n",
      "[CV]  learning_rate=0.01, max_depth=2, n_estimators=350, score=0.7124260355029586, total=   0.3s\n",
      "[CV] learning_rate=0.01, max_depth=2, n_estimators=350 ...............\n",
      "[CV]  learning_rate=0.01, max_depth=2, n_estimators=350, score=0.6907582938388626, total=   0.3s\n",
      "[CV] learning_rate=0.01, max_depth=2, n_estimators=400 ...............\n",
      "[CV]  learning_rate=0.01, max_depth=2, n_estimators=400, score=0.7112426035502959, total=   0.3s\n",
      "[CV] learning_rate=0.01, max_depth=2, n_estimators=400 ...............\n",
      "[CV]  learning_rate=0.01, max_depth=2, n_estimators=400, score=0.7183431952662722, total=   0.3s\n",
      "[CV] learning_rate=0.01, max_depth=2, n_estimators=400 ...............\n",
      "[CV]  learning_rate=0.01, max_depth=2, n_estimators=400, score=0.6943127962085308, total=   0.3s\n",
      "[CV] learning_rate=0.01, max_depth=3, n_estimators=10 ................\n",
      "[CV]  learning_rate=0.01, max_depth=3, n_estimators=10, score=0.6923076923076923, total=   0.0s\n",
      "[CV] learning_rate=0.01, max_depth=3, n_estimators=10 ................\n",
      "[CV]  learning_rate=0.01, max_depth=3, n_estimators=10, score=0.7041420118343196, total=   0.0s\n",
      "[CV] learning_rate=0.01, max_depth=3, n_estimators=10 ................\n",
      "[CV]  learning_rate=0.01, max_depth=3, n_estimators=10, score=0.6741706161137441, total=   0.0s\n",
      "[CV] learning_rate=0.01, max_depth=3, n_estimators=50 ................\n",
      "[CV]  learning_rate=0.01, max_depth=3, n_estimators=50, score=0.6994082840236686, total=   0.1s\n",
      "[CV] learning_rate=0.01, max_depth=3, n_estimators=50 ................\n",
      "[CV]  learning_rate=0.01, max_depth=3, n_estimators=50, score=0.7124260355029586, total=   0.1s\n",
      "[CV] learning_rate=0.01, max_depth=3, n_estimators=50 ................\n",
      "[CV]  learning_rate=0.01, max_depth=3, n_estimators=50, score=0.6966824644549763, total=   0.1s\n",
      "[CV] learning_rate=0.01, max_depth=3, n_estimators=100 ...............\n",
      "[CV]  learning_rate=0.01, max_depth=3, n_estimators=100, score=0.7124260355029586, total=   0.1s\n",
      "[CV] learning_rate=0.01, max_depth=3, n_estimators=100 ...............\n",
      "[CV]  learning_rate=0.01, max_depth=3, n_estimators=100, score=0.7207100591715976, total=   0.1s\n",
      "[CV] learning_rate=0.01, max_depth=3, n_estimators=100 ...............\n",
      "[CV]  learning_rate=0.01, max_depth=3, n_estimators=100, score=0.6943127962085308, total=   0.1s\n",
      "[CV] learning_rate=0.01, max_depth=3, n_estimators=150 ...............\n",
      "[CV]  learning_rate=0.01, max_depth=3, n_estimators=150, score=0.7396449704142012, total=   0.2s\n",
      "[CV] learning_rate=0.01, max_depth=3, n_estimators=150 ...............\n",
      "[CV]  learning_rate=0.01, max_depth=3, n_estimators=150, score=0.7254437869822485, total=   0.2s\n",
      "[CV] learning_rate=0.01, max_depth=3, n_estimators=150 ...............\n",
      "[CV]  learning_rate=0.01, max_depth=3, n_estimators=150, score=0.7085308056872038, total=   0.2s\n",
      "[CV] learning_rate=0.01, max_depth=3, n_estimators=200 ...............\n",
      "[CV]  learning_rate=0.01, max_depth=3, n_estimators=200, score=0.7337278106508875, total=   0.2s\n",
      "[CV] learning_rate=0.01, max_depth=3, n_estimators=200 ...............\n",
      "[CV]  learning_rate=0.01, max_depth=3, n_estimators=200, score=0.7313609467455622, total=   0.2s\n",
      "[CV] learning_rate=0.01, max_depth=3, n_estimators=200 ...............\n",
      "[CV]  learning_rate=0.01, max_depth=3, n_estimators=200, score=0.7227488151658767, total=   0.2s\n",
      "[CV] learning_rate=0.01, max_depth=3, n_estimators=250 ...............\n",
      "[CV]  learning_rate=0.01, max_depth=3, n_estimators=250, score=0.7289940828402367, total=   0.3s\n",
      "[CV] learning_rate=0.01, max_depth=3, n_estimators=250 ...............\n",
      "[CV]  learning_rate=0.01, max_depth=3, n_estimators=250, score=0.7242603550295857, total=   0.3s\n",
      "[CV] learning_rate=0.01, max_depth=3, n_estimators=250 ...............\n",
      "[CV]  learning_rate=0.01, max_depth=3, n_estimators=250, score=0.7156398104265402, total=   0.3s\n",
      "[CV] learning_rate=0.01, max_depth=3, n_estimators=300 ...............\n",
      "[CV]  learning_rate=0.01, max_depth=3, n_estimators=300, score=0.7325443786982249, total=   0.3s\n",
      "[CV] learning_rate=0.01, max_depth=3, n_estimators=300 ...............\n",
      "[CV]  learning_rate=0.01, max_depth=3, n_estimators=300, score=0.7301775147928994, total=   0.3s\n",
      "[CV] learning_rate=0.01, max_depth=3, n_estimators=300 ...............\n"
     ]
    },
    {
     "name": "stdout",
     "output_type": "stream",
     "text": [
      "[CV]  learning_rate=0.01, max_depth=3, n_estimators=300, score=0.7191943127962085, total=   0.3s\n",
      "[CV] learning_rate=0.01, max_depth=3, n_estimators=350 ...............\n",
      "[CV]  learning_rate=0.01, max_depth=3, n_estimators=350, score=0.7337278106508875, total=   0.4s\n",
      "[CV] learning_rate=0.01, max_depth=3, n_estimators=350 ...............\n",
      "[CV]  learning_rate=0.01, max_depth=3, n_estimators=350, score=0.7313609467455622, total=   0.4s\n",
      "[CV] learning_rate=0.01, max_depth=3, n_estimators=350 ...............\n",
      "[CV]  learning_rate=0.01, max_depth=3, n_estimators=350, score=0.7203791469194313, total=   0.3s\n",
      "[CV] learning_rate=0.01, max_depth=3, n_estimators=400 ...............\n",
      "[CV]  learning_rate=0.01, max_depth=3, n_estimators=400, score=0.7372781065088757, total=   0.4s\n",
      "[CV] learning_rate=0.01, max_depth=3, n_estimators=400 ...............\n",
      "[CV]  learning_rate=0.01, max_depth=3, n_estimators=400, score=0.7313609467455622, total=   0.4s\n",
      "[CV] learning_rate=0.01, max_depth=3, n_estimators=400 ...............\n",
      "[CV]  learning_rate=0.01, max_depth=3, n_estimators=400, score=0.7251184834123223, total=   0.4s\n",
      "[CV] learning_rate=0.01, max_depth=4, n_estimators=10 ................\n",
      "[CV]  learning_rate=0.01, max_depth=4, n_estimators=10, score=0.6887573964497041, total=   0.0s\n",
      "[CV] learning_rate=0.01, max_depth=4, n_estimators=10 ................\n",
      "[CV]  learning_rate=0.01, max_depth=4, n_estimators=10, score=0.7065088757396449, total=   0.0s\n",
      "[CV] learning_rate=0.01, max_depth=4, n_estimators=10 ................\n",
      "[CV]  learning_rate=0.01, max_depth=4, n_estimators=10, score=0.7002369668246445, total=   0.0s\n",
      "[CV] learning_rate=0.01, max_depth=4, n_estimators=50 ................\n",
      "[CV]  learning_rate=0.01, max_depth=4, n_estimators=50, score=0.7325443786982249, total=   0.1s\n",
      "[CV] learning_rate=0.01, max_depth=4, n_estimators=50 ................\n",
      "[CV]  learning_rate=0.01, max_depth=4, n_estimators=50, score=0.7242603550295857, total=   0.1s\n",
      "[CV] learning_rate=0.01, max_depth=4, n_estimators=50 ................\n",
      "[CV]  learning_rate=0.01, max_depth=4, n_estimators=50, score=0.7156398104265402, total=   0.1s\n",
      "[CV] learning_rate=0.01, max_depth=4, n_estimators=100 ...............\n",
      "[CV]  learning_rate=0.01, max_depth=4, n_estimators=100, score=0.7289940828402367, total=   0.2s\n",
      "[CV] learning_rate=0.01, max_depth=4, n_estimators=100 ...............\n",
      "[CV]  learning_rate=0.01, max_depth=4, n_estimators=100, score=0.7289940828402367, total=   0.1s\n",
      "[CV] learning_rate=0.01, max_depth=4, n_estimators=100 ...............\n",
      "[CV]  learning_rate=0.01, max_depth=4, n_estimators=100, score=0.7239336492890995, total=   0.2s\n",
      "[CV] learning_rate=0.01, max_depth=4, n_estimators=150 ...............\n",
      "[CV]  learning_rate=0.01, max_depth=4, n_estimators=150, score=0.7384615384615385, total=   0.2s\n",
      "[CV] learning_rate=0.01, max_depth=4, n_estimators=150 ...............\n",
      "[CV]  learning_rate=0.01, max_depth=4, n_estimators=150, score=0.7266272189349112, total=   0.2s\n",
      "[CV] learning_rate=0.01, max_depth=4, n_estimators=150 ...............\n",
      "[CV]  learning_rate=0.01, max_depth=4, n_estimators=150, score=0.7227488151658767, total=   0.2s\n",
      "[CV] learning_rate=0.01, max_depth=4, n_estimators=200 ...............\n",
      "[CV]  learning_rate=0.01, max_depth=4, n_estimators=200, score=0.7349112426035503, total=   0.3s\n",
      "[CV] learning_rate=0.01, max_depth=4, n_estimators=200 ...............\n",
      "[CV]  learning_rate=0.01, max_depth=4, n_estimators=200, score=0.7289940828402367, total=   0.3s\n",
      "[CV] learning_rate=0.01, max_depth=4, n_estimators=200 ...............\n",
      "[CV]  learning_rate=0.01, max_depth=4, n_estimators=200, score=0.731042654028436, total=   0.3s\n",
      "[CV] learning_rate=0.01, max_depth=4, n_estimators=250 ...............\n",
      "[CV]  learning_rate=0.01, max_depth=4, n_estimators=250, score=0.7396449704142012, total=   0.4s\n",
      "[CV] learning_rate=0.01, max_depth=4, n_estimators=250 ...............\n",
      "[CV]  learning_rate=0.01, max_depth=4, n_estimators=250, score=0.736094674556213, total=   0.4s\n",
      "[CV] learning_rate=0.01, max_depth=4, n_estimators=250 ...............\n",
      "[CV]  learning_rate=0.01, max_depth=4, n_estimators=250, score=0.7286729857819905, total=   0.4s\n",
      "[CV] learning_rate=0.01, max_depth=4, n_estimators=300 ...............\n",
      "[CV]  learning_rate=0.01, max_depth=4, n_estimators=300, score=0.7396449704142012, total=   0.4s\n",
      "[CV] learning_rate=0.01, max_depth=4, n_estimators=300 ...............\n",
      "[CV]  learning_rate=0.01, max_depth=4, n_estimators=300, score=0.7455621301775148, total=   0.5s\n",
      "[CV] learning_rate=0.01, max_depth=4, n_estimators=300 ...............\n",
      "[CV]  learning_rate=0.01, max_depth=4, n_estimators=300, score=0.735781990521327, total=   0.4s\n",
      "[CV] learning_rate=0.01, max_depth=4, n_estimators=350 ...............\n",
      "[CV]  learning_rate=0.01, max_depth=4, n_estimators=350, score=0.7408284023668639, total=   0.5s\n",
      "[CV] learning_rate=0.01, max_depth=4, n_estimators=350 ...............\n",
      "[CV]  learning_rate=0.01, max_depth=4, n_estimators=350, score=0.7467455621301775, total=   0.5s\n",
      "[CV] learning_rate=0.01, max_depth=4, n_estimators=350 ...............\n",
      "[CV]  learning_rate=0.01, max_depth=4, n_estimators=350, score=0.7298578199052133, total=   0.5s\n",
      "[CV] learning_rate=0.01, max_depth=4, n_estimators=400 ...............\n",
      "[CV]  learning_rate=0.01, max_depth=4, n_estimators=400, score=0.7420118343195267, total=   0.6s\n",
      "[CV] learning_rate=0.01, max_depth=4, n_estimators=400 ...............\n",
      "[CV]  learning_rate=0.01, max_depth=4, n_estimators=400, score=0.7479289940828402, total=   0.5s\n",
      "[CV] learning_rate=0.01, max_depth=4, n_estimators=400 ...............\n",
      "[CV]  learning_rate=0.01, max_depth=4, n_estimators=400, score=0.7251184834123223, total=   0.5s\n",
      "[CV] learning_rate=0.01, max_depth=5, n_estimators=10 ................\n",
      "[CV]  learning_rate=0.01, max_depth=5, n_estimators=10, score=0.7053254437869823, total=   0.0s\n",
      "[CV] learning_rate=0.01, max_depth=5, n_estimators=10 ................\n",
      "[CV]  learning_rate=0.01, max_depth=5, n_estimators=10, score=0.7017751479289941, total=   0.0s\n",
      "[CV] learning_rate=0.01, max_depth=5, n_estimators=10 ................\n",
      "[CV]  learning_rate=0.01, max_depth=5, n_estimators=10, score=0.6978672985781991, total=   0.0s\n",
      "[CV] learning_rate=0.01, max_depth=5, n_estimators=50 ................\n",
      "[CV]  learning_rate=0.01, max_depth=5, n_estimators=50, score=0.7053254437869823, total=   0.1s\n",
      "[CV] learning_rate=0.01, max_depth=5, n_estimators=50 ................\n",
      "[CV]  learning_rate=0.01, max_depth=5, n_estimators=50, score=0.7195266272189349, total=   0.1s\n",
      "[CV] learning_rate=0.01, max_depth=5, n_estimators=50 ................\n",
      "[CV]  learning_rate=0.01, max_depth=5, n_estimators=50, score=0.7215639810426541, total=   0.1s\n",
      "[CV] learning_rate=0.01, max_depth=5, n_estimators=100 ...............\n",
      "[CV]  learning_rate=0.01, max_depth=5, n_estimators=100, score=0.727810650887574, total=   0.2s\n",
      "[CV] learning_rate=0.01, max_depth=5, n_estimators=100 ...............\n",
      "[CV]  learning_rate=0.01, max_depth=5, n_estimators=100, score=0.7349112426035503, total=   0.2s\n",
      "[CV] learning_rate=0.01, max_depth=5, n_estimators=100 ...............\n",
      "[CV]  learning_rate=0.01, max_depth=5, n_estimators=100, score=0.7180094786729858, total=   0.2s\n",
      "[CV] learning_rate=0.01, max_depth=5, n_estimators=150 ...............\n",
      "[CV]  learning_rate=0.01, max_depth=5, n_estimators=150, score=0.7289940828402367, total=   0.3s\n",
      "[CV] learning_rate=0.01, max_depth=5, n_estimators=150 ...............\n",
      "[CV]  learning_rate=0.01, max_depth=5, n_estimators=150, score=0.7349112426035503, total=   0.3s\n",
      "[CV] learning_rate=0.01, max_depth=5, n_estimators=150 ...............\n",
      "[CV]  learning_rate=0.01, max_depth=5, n_estimators=150, score=0.7239336492890995, total=   0.3s\n",
      "[CV] learning_rate=0.01, max_depth=5, n_estimators=200 ...............\n",
      "[CV]  learning_rate=0.01, max_depth=5, n_estimators=200, score=0.7301775147928994, total=   0.4s\n",
      "[CV] learning_rate=0.01, max_depth=5, n_estimators=200 ...............\n",
      "[CV]  learning_rate=0.01, max_depth=5, n_estimators=200, score=0.7408284023668639, total=   0.4s\n",
      "[CV] learning_rate=0.01, max_depth=5, n_estimators=200 ...............\n",
      "[CV]  learning_rate=0.01, max_depth=5, n_estimators=200, score=0.726303317535545, total=   0.4s\n",
      "[CV] learning_rate=0.01, max_depth=5, n_estimators=250 ...............\n"
     ]
    },
    {
     "name": "stdout",
     "output_type": "stream",
     "text": [
      "[CV]  learning_rate=0.01, max_depth=5, n_estimators=250, score=0.7325443786982249, total=   0.5s\n",
      "[CV] learning_rate=0.01, max_depth=5, n_estimators=250 ...............\n",
      "[CV]  learning_rate=0.01, max_depth=5, n_estimators=250, score=0.7372781065088757, total=   0.5s\n",
      "[CV] learning_rate=0.01, max_depth=5, n_estimators=250 ...............\n",
      "[CV]  learning_rate=0.01, max_depth=5, n_estimators=250, score=0.726303317535545, total=   0.5s\n",
      "[CV] learning_rate=0.01, max_depth=5, n_estimators=300 ...............\n",
      "[CV]  learning_rate=0.01, max_depth=5, n_estimators=300, score=0.7289940828402367, total=   0.6s\n",
      "[CV] learning_rate=0.01, max_depth=5, n_estimators=300 ...............\n",
      "[CV]  learning_rate=0.01, max_depth=5, n_estimators=300, score=0.7467455621301775, total=   0.6s\n",
      "[CV] learning_rate=0.01, max_depth=5, n_estimators=300 ...............\n",
      "[CV]  learning_rate=0.01, max_depth=5, n_estimators=300, score=0.731042654028436, total=   0.6s\n",
      "[CV] learning_rate=0.01, max_depth=5, n_estimators=350 ...............\n",
      "[CV]  learning_rate=0.01, max_depth=5, n_estimators=350, score=0.7266272189349112, total=   0.7s\n",
      "[CV] learning_rate=0.01, max_depth=5, n_estimators=350 ...............\n",
      "[CV]  learning_rate=0.01, max_depth=5, n_estimators=350, score=0.7467455621301775, total=   0.7s\n",
      "[CV] learning_rate=0.01, max_depth=5, n_estimators=350 ...............\n",
      "[CV]  learning_rate=0.01, max_depth=5, n_estimators=350, score=0.7286729857819905, total=   0.7s\n",
      "[CV] learning_rate=0.01, max_depth=5, n_estimators=400 ...............\n",
      "[CV]  learning_rate=0.01, max_depth=5, n_estimators=400, score=0.7289940828402367, total=   0.8s\n",
      "[CV] learning_rate=0.01, max_depth=5, n_estimators=400 ...............\n",
      "[CV]  learning_rate=0.01, max_depth=5, n_estimators=400, score=0.7455621301775148, total=   0.7s\n",
      "[CV] learning_rate=0.01, max_depth=5, n_estimators=400 ...............\n",
      "[CV]  learning_rate=0.01, max_depth=5, n_estimators=400, score=0.7274881516587678, total=   0.8s\n",
      "[CV] learning_rate=0.1, max_depth=1, n_estimators=10 .................\n",
      "[CV]  learning_rate=0.1, max_depth=1, n_estimators=10, score=0.6674556213017752, total=   0.0s\n",
      "[CV] learning_rate=0.1, max_depth=1, n_estimators=10 .................\n",
      "[CV]  learning_rate=0.1, max_depth=1, n_estimators=10, score=0.6733727810650888, total=   0.0s\n",
      "[CV] learning_rate=0.1, max_depth=1, n_estimators=10 .................\n",
      "[CV]  learning_rate=0.1, max_depth=1, n_estimators=10, score=0.6481042654028436, total=   0.0s\n",
      "[CV] learning_rate=0.1, max_depth=1, n_estimators=50 .................\n",
      "[CV]  learning_rate=0.1, max_depth=1, n_estimators=50, score=0.6840236686390533, total=   0.0s\n",
      "[CV] learning_rate=0.1, max_depth=1, n_estimators=50 .................\n",
      "[CV]  learning_rate=0.1, max_depth=1, n_estimators=50, score=0.6863905325443787, total=   0.0s\n",
      "[CV] learning_rate=0.1, max_depth=1, n_estimators=50 .................\n",
      "[CV]  learning_rate=0.1, max_depth=1, n_estimators=50, score=0.6718009478672986, total=   0.0s\n",
      "[CV] learning_rate=0.1, max_depth=1, n_estimators=100 ................\n",
      "[CV]  learning_rate=0.1, max_depth=1, n_estimators=100, score=0.6899408284023668, total=   0.1s\n",
      "[CV] learning_rate=0.1, max_depth=1, n_estimators=100 ................\n",
      "[CV]  learning_rate=0.1, max_depth=1, n_estimators=100, score=0.6887573964497041, total=   0.1s\n",
      "[CV] learning_rate=0.1, max_depth=1, n_estimators=100 ................\n",
      "[CV]  learning_rate=0.1, max_depth=1, n_estimators=100, score=0.6706161137440758, total=   0.1s\n",
      "[CV] learning_rate=0.1, max_depth=1, n_estimators=150 ................\n",
      "[CV]  learning_rate=0.1, max_depth=1, n_estimators=150, score=0.7065088757396449, total=   0.1s\n",
      "[CV] learning_rate=0.1, max_depth=1, n_estimators=150 ................\n",
      "[CV]  learning_rate=0.1, max_depth=1, n_estimators=150, score=0.6911242603550296, total=   0.1s\n",
      "[CV] learning_rate=0.1, max_depth=1, n_estimators=150 ................\n",
      "[CV]  learning_rate=0.1, max_depth=1, n_estimators=150, score=0.6765402843601895, total=   0.1s\n",
      "[CV] learning_rate=0.1, max_depth=1, n_estimators=200 ................\n",
      "[CV]  learning_rate=0.1, max_depth=1, n_estimators=200, score=0.7053254437869823, total=   0.1s\n",
      "[CV] learning_rate=0.1, max_depth=1, n_estimators=200 ................\n",
      "[CV]  learning_rate=0.1, max_depth=1, n_estimators=200, score=0.6958579881656805, total=   0.1s\n",
      "[CV] learning_rate=0.1, max_depth=1, n_estimators=200 ................\n",
      "[CV]  learning_rate=0.1, max_depth=1, n_estimators=200, score=0.6883886255924171, total=   0.1s\n",
      "[CV] learning_rate=0.1, max_depth=1, n_estimators=250 ................\n",
      "[CV]  learning_rate=0.1, max_depth=1, n_estimators=250, score=0.7088757396449704, total=   0.1s\n",
      "[CV] learning_rate=0.1, max_depth=1, n_estimators=250 ................\n",
      "[CV]  learning_rate=0.1, max_depth=1, n_estimators=250, score=0.6994082840236686, total=   0.1s\n",
      "[CV] learning_rate=0.1, max_depth=1, n_estimators=250 ................\n",
      "[CV]  learning_rate=0.1, max_depth=1, n_estimators=250, score=0.6966824644549763, total=   0.1s\n",
      "[CV] learning_rate=0.1, max_depth=1, n_estimators=300 ................\n",
      "[CV]  learning_rate=0.1, max_depth=1, n_estimators=300, score=0.7112426035502959, total=   0.2s\n",
      "[CV] learning_rate=0.1, max_depth=1, n_estimators=300 ................\n",
      "[CV]  learning_rate=0.1, max_depth=1, n_estimators=300, score=0.7005917159763314, total=   0.2s\n",
      "[CV] learning_rate=0.1, max_depth=1, n_estimators=300 ................\n",
      "[CV]  learning_rate=0.1, max_depth=1, n_estimators=300, score=0.6943127962085308, total=   0.1s\n",
      "[CV] learning_rate=0.1, max_depth=1, n_estimators=350 ................\n",
      "[CV]  learning_rate=0.1, max_depth=1, n_estimators=350, score=0.7136094674556213, total=   0.2s\n",
      "[CV] learning_rate=0.1, max_depth=1, n_estimators=350 ................\n",
      "[CV]  learning_rate=0.1, max_depth=1, n_estimators=350, score=0.7029585798816568, total=   0.2s\n",
      "[CV] learning_rate=0.1, max_depth=1, n_estimators=350 ................\n",
      "[CV]  learning_rate=0.1, max_depth=1, n_estimators=350, score=0.7014218009478673, total=   0.2s\n",
      "[CV] learning_rate=0.1, max_depth=1, n_estimators=400 ................\n",
      "[CV]  learning_rate=0.1, max_depth=1, n_estimators=400, score=0.7136094674556213, total=   0.2s\n",
      "[CV] learning_rate=0.1, max_depth=1, n_estimators=400 ................\n",
      "[CV]  learning_rate=0.1, max_depth=1, n_estimators=400, score=0.7017751479289941, total=   0.2s\n",
      "[CV] learning_rate=0.1, max_depth=1, n_estimators=400 ................\n",
      "[CV]  learning_rate=0.1, max_depth=1, n_estimators=400, score=0.6990521327014217, total=   0.2s\n",
      "[CV] learning_rate=0.1, max_depth=2, n_estimators=10 .................\n",
      "[CV]  learning_rate=0.1, max_depth=2, n_estimators=10, score=0.6792899408284023, total=   0.0s\n",
      "[CV] learning_rate=0.1, max_depth=2, n_estimators=10 .................\n",
      "[CV]  learning_rate=0.1, max_depth=2, n_estimators=10, score=0.6863905325443787, total=   0.0s\n",
      "[CV] learning_rate=0.1, max_depth=2, n_estimators=10 .................\n",
      "[CV]  learning_rate=0.1, max_depth=2, n_estimators=10, score=0.6670616113744076, total=   0.0s\n",
      "[CV] learning_rate=0.1, max_depth=2, n_estimators=50 .................\n",
      "[CV]  learning_rate=0.1, max_depth=2, n_estimators=50, score=0.714792899408284, total=   0.0s\n",
      "[CV] learning_rate=0.1, max_depth=2, n_estimators=50 .................\n",
      "[CV]  learning_rate=0.1, max_depth=2, n_estimators=50, score=0.714792899408284, total=   0.0s\n",
      "[CV] learning_rate=0.1, max_depth=2, n_estimators=50 .................\n",
      "[CV]  learning_rate=0.1, max_depth=2, n_estimators=50, score=0.6978672985781991, total=   0.0s\n",
      "[CV] learning_rate=0.1, max_depth=2, n_estimators=100 ................\n",
      "[CV]  learning_rate=0.1, max_depth=2, n_estimators=100, score=0.7254437869822485, total=   0.1s\n",
      "[CV] learning_rate=0.1, max_depth=2, n_estimators=100 ................\n",
      "[CV]  learning_rate=0.1, max_depth=2, n_estimators=100, score=0.7230769230769231, total=   0.1s\n",
      "[CV] learning_rate=0.1, max_depth=2, n_estimators=100 ................\n",
      "[CV]  learning_rate=0.1, max_depth=2, n_estimators=100, score=0.7085308056872038, total=   0.1s\n",
      "[CV] learning_rate=0.1, max_depth=2, n_estimators=150 ................\n",
      "[CV]  learning_rate=0.1, max_depth=2, n_estimators=150, score=0.7183431952662722, total=   0.1s\n",
      "[CV] learning_rate=0.1, max_depth=2, n_estimators=150 ................\n",
      "[CV]  learning_rate=0.1, max_depth=2, n_estimators=150, score=0.7325443786982249, total=   0.1s\n",
      "[CV] learning_rate=0.1, max_depth=2, n_estimators=150 ................\n"
     ]
    },
    {
     "name": "stdout",
     "output_type": "stream",
     "text": [
      "[CV]  learning_rate=0.1, max_depth=2, n_estimators=150, score=0.7002369668246445, total=   0.1s\n",
      "[CV] learning_rate=0.1, max_depth=2, n_estimators=200 ................\n",
      "[CV]  learning_rate=0.1, max_depth=2, n_estimators=200, score=0.7183431952662722, total=   0.1s\n",
      "[CV] learning_rate=0.1, max_depth=2, n_estimators=200 ................\n",
      "[CV]  learning_rate=0.1, max_depth=2, n_estimators=200, score=0.7396449704142012, total=   0.2s\n",
      "[CV] learning_rate=0.1, max_depth=2, n_estimators=200 ................\n",
      "[CV]  learning_rate=0.1, max_depth=2, n_estimators=200, score=0.6978672985781991, total=   0.1s\n",
      "[CV] learning_rate=0.1, max_depth=2, n_estimators=250 ................\n",
      "[CV]  learning_rate=0.1, max_depth=2, n_estimators=250, score=0.7171597633136094, total=   0.2s\n",
      "[CV] learning_rate=0.1, max_depth=2, n_estimators=250 ................\n",
      "[CV]  learning_rate=0.1, max_depth=2, n_estimators=250, score=0.7396449704142012, total=   0.2s\n",
      "[CV] learning_rate=0.1, max_depth=2, n_estimators=250 ................\n",
      "[CV]  learning_rate=0.1, max_depth=2, n_estimators=250, score=0.7085308056872038, total=   0.2s\n",
      "[CV] learning_rate=0.1, max_depth=2, n_estimators=300 ................\n",
      "[CV]  learning_rate=0.1, max_depth=2, n_estimators=300, score=0.7195266272189349, total=   0.2s\n",
      "[CV] learning_rate=0.1, max_depth=2, n_estimators=300 ................\n",
      "[CV]  learning_rate=0.1, max_depth=2, n_estimators=300, score=0.7384615384615385, total=   0.2s\n",
      "[CV] learning_rate=0.1, max_depth=2, n_estimators=300 ................\n",
      "[CV]  learning_rate=0.1, max_depth=2, n_estimators=300, score=0.7085308056872038, total=   0.2s\n",
      "[CV] learning_rate=0.1, max_depth=2, n_estimators=350 ................\n",
      "[CV]  learning_rate=0.1, max_depth=2, n_estimators=350, score=0.7171597633136094, total=   0.2s\n",
      "[CV] learning_rate=0.1, max_depth=2, n_estimators=350 ................\n",
      "[CV]  learning_rate=0.1, max_depth=2, n_estimators=350, score=0.7396449704142012, total=   0.2s\n",
      "[CV] learning_rate=0.1, max_depth=2, n_estimators=350 ................\n",
      "[CV]  learning_rate=0.1, max_depth=2, n_estimators=350, score=0.7156398104265402, total=   0.2s\n",
      "[CV] learning_rate=0.1, max_depth=2, n_estimators=400 ................\n",
      "[CV]  learning_rate=0.1, max_depth=2, n_estimators=400, score=0.7242603550295857, total=   0.3s\n",
      "[CV] learning_rate=0.1, max_depth=2, n_estimators=400 ................\n",
      "[CV]  learning_rate=0.1, max_depth=2, n_estimators=400, score=0.7431952662721893, total=   0.3s\n",
      "[CV] learning_rate=0.1, max_depth=2, n_estimators=400 ................\n",
      "[CV]  learning_rate=0.1, max_depth=2, n_estimators=400, score=0.7120853080568721, total=   0.3s\n",
      "[CV] learning_rate=0.1, max_depth=3, n_estimators=10 .................\n",
      "[CV]  learning_rate=0.1, max_depth=3, n_estimators=10, score=0.7100591715976331, total=   0.0s\n",
      "[CV] learning_rate=0.1, max_depth=3, n_estimators=10 .................\n",
      "[CV]  learning_rate=0.1, max_depth=3, n_estimators=10, score=0.7065088757396449, total=   0.0s\n",
      "[CV] learning_rate=0.1, max_depth=3, n_estimators=10 .................\n",
      "[CV]  learning_rate=0.1, max_depth=3, n_estimators=10, score=0.7097156398104265, total=   0.0s\n",
      "[CV] learning_rate=0.1, max_depth=3, n_estimators=50 .................\n",
      "[CV]  learning_rate=0.1, max_depth=3, n_estimators=50, score=0.7384615384615385, total=   0.0s\n",
      "[CV] learning_rate=0.1, max_depth=3, n_estimators=50 .................\n",
      "[CV]  learning_rate=0.1, max_depth=3, n_estimators=50, score=0.7301775147928994, total=   0.1s\n",
      "[CV] learning_rate=0.1, max_depth=3, n_estimators=50 .................\n",
      "[CV]  learning_rate=0.1, max_depth=3, n_estimators=50, score=0.7144549763033176, total=   0.1s\n",
      "[CV] learning_rate=0.1, max_depth=3, n_estimators=100 ................\n",
      "[CV]  learning_rate=0.1, max_depth=3, n_estimators=100, score=0.7230769230769231, total=   0.1s\n",
      "[CV] learning_rate=0.1, max_depth=3, n_estimators=100 ................\n",
      "[CV]  learning_rate=0.1, max_depth=3, n_estimators=100, score=0.7408284023668639, total=   0.1s\n",
      "[CV] learning_rate=0.1, max_depth=3, n_estimators=100 ................\n",
      "[CV]  learning_rate=0.1, max_depth=3, n_estimators=100, score=0.7191943127962085, total=   0.1s\n",
      "[CV] learning_rate=0.1, max_depth=3, n_estimators=150 ................\n",
      "[CV]  learning_rate=0.1, max_depth=3, n_estimators=150, score=0.7195266272189349, total=   0.1s\n",
      "[CV] learning_rate=0.1, max_depth=3, n_estimators=150 ................\n",
      "[CV]  learning_rate=0.1, max_depth=3, n_estimators=150, score=0.7420118343195267, total=   0.1s\n",
      "[CV] learning_rate=0.1, max_depth=3, n_estimators=150 ................\n",
      "[CV]  learning_rate=0.1, max_depth=3, n_estimators=150, score=0.7132701421800948, total=   0.2s\n",
      "[CV] learning_rate=0.1, max_depth=3, n_estimators=200 ................\n",
      "[CV]  learning_rate=0.1, max_depth=3, n_estimators=200, score=0.7124260355029586, total=   0.2s\n",
      "[CV] learning_rate=0.1, max_depth=3, n_estimators=200 ................\n",
      "[CV]  learning_rate=0.1, max_depth=3, n_estimators=200, score=0.749112426035503, total=   0.2s\n",
      "[CV] learning_rate=0.1, max_depth=3, n_estimators=200 ................\n",
      "[CV]  learning_rate=0.1, max_depth=3, n_estimators=200, score=0.7144549763033176, total=   0.2s\n",
      "[CV] learning_rate=0.1, max_depth=3, n_estimators=250 ................\n",
      "[CV]  learning_rate=0.1, max_depth=3, n_estimators=250, score=0.7124260355029586, total=   0.2s\n",
      "[CV] learning_rate=0.1, max_depth=3, n_estimators=250 ................\n",
      "[CV]  learning_rate=0.1, max_depth=3, n_estimators=250, score=0.7384615384615385, total=   0.2s\n",
      "[CV] learning_rate=0.1, max_depth=3, n_estimators=250 ................\n",
      "[CV]  learning_rate=0.1, max_depth=3, n_estimators=250, score=0.7085308056872038, total=   0.2s\n",
      "[CV] learning_rate=0.1, max_depth=3, n_estimators=300 ................\n",
      "[CV]  learning_rate=0.1, max_depth=3, n_estimators=300, score=0.7136094674556213, total=   0.3s\n",
      "[CV] learning_rate=0.1, max_depth=3, n_estimators=300 ................\n",
      "[CV]  learning_rate=0.1, max_depth=3, n_estimators=300, score=0.744378698224852, total=   0.3s\n",
      "[CV] learning_rate=0.1, max_depth=3, n_estimators=300 ................\n",
      "[CV]  learning_rate=0.1, max_depth=3, n_estimators=300, score=0.7109004739336493, total=   0.3s\n",
      "[CV] learning_rate=0.1, max_depth=3, n_estimators=350 ................\n",
      "[CV]  learning_rate=0.1, max_depth=3, n_estimators=350, score=0.7136094674556213, total=   0.3s\n",
      "[CV] learning_rate=0.1, max_depth=3, n_estimators=350 ................\n",
      "[CV]  learning_rate=0.1, max_depth=3, n_estimators=350, score=0.7289940828402367, total=   0.3s\n",
      "[CV] learning_rate=0.1, max_depth=3, n_estimators=350 ................\n",
      "[CV]  learning_rate=0.1, max_depth=3, n_estimators=350, score=0.7120853080568721, total=   0.3s\n",
      "[CV] learning_rate=0.1, max_depth=3, n_estimators=400 ................\n",
      "[CV]  learning_rate=0.1, max_depth=3, n_estimators=400, score=0.7195266272189349, total=   0.4s\n",
      "[CV] learning_rate=0.1, max_depth=3, n_estimators=400 ................\n",
      "[CV]  learning_rate=0.1, max_depth=3, n_estimators=400, score=0.7289940828402367, total=   0.4s\n",
      "[CV] learning_rate=0.1, max_depth=3, n_estimators=400 ................\n",
      "[CV]  learning_rate=0.1, max_depth=3, n_estimators=400, score=0.7120853080568721, total=   0.4s\n",
      "[CV] learning_rate=0.1, max_depth=4, n_estimators=10 .................\n",
      "[CV]  learning_rate=0.1, max_depth=4, n_estimators=10, score=0.7230769230769231, total=   0.0s\n",
      "[CV] learning_rate=0.1, max_depth=4, n_estimators=10 .................\n",
      "[CV]  learning_rate=0.1, max_depth=4, n_estimators=10, score=0.7266272189349112, total=   0.0s\n",
      "[CV] learning_rate=0.1, max_depth=4, n_estimators=10 .................\n",
      "[CV]  learning_rate=0.1, max_depth=4, n_estimators=10, score=0.7203791469194313, total=   0.0s\n",
      "[CV] learning_rate=0.1, max_depth=4, n_estimators=50 .................\n",
      "[CV]  learning_rate=0.1, max_depth=4, n_estimators=50, score=0.7396449704142012, total=   0.1s\n",
      "[CV] learning_rate=0.1, max_depth=4, n_estimators=50 .................\n",
      "[CV]  learning_rate=0.1, max_depth=4, n_estimators=50, score=0.7467455621301775, total=   0.1s\n",
      "[CV] learning_rate=0.1, max_depth=4, n_estimators=50 .................\n",
      "[CV]  learning_rate=0.1, max_depth=4, n_estimators=50, score=0.726303317535545, total=   0.1s\n",
      "[CV] learning_rate=0.1, max_depth=4, n_estimators=100 ................\n",
      "[CV]  learning_rate=0.1, max_depth=4, n_estimators=100, score=0.7301775147928994, total=   0.1s\n",
      "[CV] learning_rate=0.1, max_depth=4, n_estimators=100 ................\n",
      "[CV]  learning_rate=0.1, max_depth=4, n_estimators=100, score=0.744378698224852, total=   0.1s\n",
      "[CV] learning_rate=0.1, max_depth=4, n_estimators=100 ................\n"
     ]
    },
    {
     "name": "stdout",
     "output_type": "stream",
     "text": [
      "[CV]  learning_rate=0.1, max_depth=4, n_estimators=100, score=0.7215639810426541, total=   0.1s\n",
      "[CV] learning_rate=0.1, max_depth=4, n_estimators=150 ................\n",
      "[CV]  learning_rate=0.1, max_depth=4, n_estimators=150, score=0.7313609467455622, total=   0.2s\n",
      "[CV] learning_rate=0.1, max_depth=4, n_estimators=150 ................\n",
      "[CV]  learning_rate=0.1, max_depth=4, n_estimators=150, score=0.736094674556213, total=   0.2s\n",
      "[CV] learning_rate=0.1, max_depth=4, n_estimators=150 ................\n",
      "[CV]  learning_rate=0.1, max_depth=4, n_estimators=150, score=0.7120853080568721, total=   0.2s\n",
      "[CV] learning_rate=0.1, max_depth=4, n_estimators=200 ................\n",
      "[CV]  learning_rate=0.1, max_depth=4, n_estimators=200, score=0.7183431952662722, total=   0.3s\n",
      "[CV] learning_rate=0.1, max_depth=4, n_estimators=200 ................\n",
      "[CV]  learning_rate=0.1, max_depth=4, n_estimators=200, score=0.7337278106508875, total=   0.3s\n",
      "[CV] learning_rate=0.1, max_depth=4, n_estimators=200 ................\n",
      "[CV]  learning_rate=0.1, max_depth=4, n_estimators=200, score=0.7037914691943128, total=   0.3s\n",
      "[CV] learning_rate=0.1, max_depth=4, n_estimators=250 ................\n",
      "[CV]  learning_rate=0.1, max_depth=4, n_estimators=250, score=0.7124260355029586, total=   0.3s\n",
      "[CV] learning_rate=0.1, max_depth=4, n_estimators=250 ................\n",
      "[CV]  learning_rate=0.1, max_depth=4, n_estimators=250, score=0.7325443786982249, total=   0.3s\n",
      "[CV] learning_rate=0.1, max_depth=4, n_estimators=250 ................\n",
      "[CV]  learning_rate=0.1, max_depth=4, n_estimators=250, score=0.7061611374407583, total=   0.3s\n",
      "[CV] learning_rate=0.1, max_depth=4, n_estimators=300 ................\n",
      "[CV]  learning_rate=0.1, max_depth=4, n_estimators=300, score=0.7100591715976331, total=   0.4s\n",
      "[CV] learning_rate=0.1, max_depth=4, n_estimators=300 ................\n",
      "[CV]  learning_rate=0.1, max_depth=4, n_estimators=300, score=0.7325443786982249, total=   0.4s\n",
      "[CV] learning_rate=0.1, max_depth=4, n_estimators=300 ................\n",
      "[CV]  learning_rate=0.1, max_depth=4, n_estimators=300, score=0.7085308056872038, total=   0.4s\n",
      "[CV] learning_rate=0.1, max_depth=4, n_estimators=350 ................\n",
      "[CV]  learning_rate=0.1, max_depth=4, n_estimators=350, score=0.7124260355029586, total=   0.4s\n",
      "[CV] learning_rate=0.1, max_depth=4, n_estimators=350 ................\n",
      "[CV]  learning_rate=0.1, max_depth=4, n_estimators=350, score=0.7301775147928994, total=   0.4s\n",
      "[CV] learning_rate=0.1, max_depth=4, n_estimators=350 ................\n",
      "[CV]  learning_rate=0.1, max_depth=4, n_estimators=350, score=0.707345971563981, total=   0.4s\n",
      "[CV] learning_rate=0.1, max_depth=4, n_estimators=400 ................\n",
      "[CV]  learning_rate=0.1, max_depth=4, n_estimators=400, score=0.7053254437869823, total=   0.5s\n",
      "[CV] learning_rate=0.1, max_depth=4, n_estimators=400 ................\n",
      "[CV]  learning_rate=0.1, max_depth=4, n_estimators=400, score=0.7230769230769231, total=   0.6s\n",
      "[CV] learning_rate=0.1, max_depth=4, n_estimators=400 ................\n",
      "[CV]  learning_rate=0.1, max_depth=4, n_estimators=400, score=0.7002369668246445, total=   0.6s\n",
      "[CV] learning_rate=0.1, max_depth=5, n_estimators=10 .................\n",
      "[CV]  learning_rate=0.1, max_depth=5, n_estimators=10, score=0.7183431952662722, total=   0.0s\n",
      "[CV] learning_rate=0.1, max_depth=5, n_estimators=10 .................\n",
      "[CV]  learning_rate=0.1, max_depth=5, n_estimators=10, score=0.7384615384615385, total=   0.0s\n",
      "[CV] learning_rate=0.1, max_depth=5, n_estimators=10 .................\n",
      "[CV]  learning_rate=0.1, max_depth=5, n_estimators=10, score=0.7180094786729858, total=   0.0s\n",
      "[CV] learning_rate=0.1, max_depth=5, n_estimators=50 .................\n",
      "[CV]  learning_rate=0.1, max_depth=5, n_estimators=50, score=0.7349112426035503, total=   0.1s\n",
      "[CV] learning_rate=0.1, max_depth=5, n_estimators=50 .................\n",
      "[CV]  learning_rate=0.1, max_depth=5, n_estimators=50, score=0.7455621301775148, total=   0.2s\n",
      "[CV] learning_rate=0.1, max_depth=5, n_estimators=50 .................\n",
      "[CV]  learning_rate=0.1, max_depth=5, n_estimators=50, score=0.7369668246445498, total=   0.1s\n",
      "[CV] learning_rate=0.1, max_depth=5, n_estimators=100 ................\n",
      "[CV]  learning_rate=0.1, max_depth=5, n_estimators=100, score=0.7266272189349112, total=   0.3s\n",
      "[CV] learning_rate=0.1, max_depth=5, n_estimators=100 ................\n",
      "[CV]  learning_rate=0.1, max_depth=5, n_estimators=100, score=0.7431952662721893, total=   0.3s\n",
      "[CV] learning_rate=0.1, max_depth=5, n_estimators=100 ................\n",
      "[CV]  learning_rate=0.1, max_depth=5, n_estimators=100, score=0.7298578199052133, total=   0.4s\n",
      "[CV] learning_rate=0.1, max_depth=5, n_estimators=150 ................\n",
      "[CV]  learning_rate=0.1, max_depth=5, n_estimators=150, score=0.7313609467455622, total=   0.5s\n",
      "[CV] learning_rate=0.1, max_depth=5, n_estimators=150 ................\n",
      "[CV]  learning_rate=0.1, max_depth=5, n_estimators=150, score=0.7372781065088757, total=   0.4s\n",
      "[CV] learning_rate=0.1, max_depth=5, n_estimators=150 ................\n",
      "[CV]  learning_rate=0.1, max_depth=5, n_estimators=150, score=0.716824644549763, total=   0.4s\n",
      "[CV] learning_rate=0.1, max_depth=5, n_estimators=200 ................\n",
      "[CV]  learning_rate=0.1, max_depth=5, n_estimators=200, score=0.727810650887574, total=   0.6s\n",
      "[CV] learning_rate=0.1, max_depth=5, n_estimators=200 ................\n",
      "[CV]  learning_rate=0.1, max_depth=5, n_estimators=200, score=0.7266272189349112, total=   0.6s\n",
      "[CV] learning_rate=0.1, max_depth=5, n_estimators=200 ................\n",
      "[CV]  learning_rate=0.1, max_depth=5, n_estimators=200, score=0.7132701421800948, total=   0.6s\n",
      "[CV] learning_rate=0.1, max_depth=5, n_estimators=250 ................\n",
      "[CV]  learning_rate=0.1, max_depth=5, n_estimators=250, score=0.7195266272189349, total=   0.8s\n",
      "[CV] learning_rate=0.1, max_depth=5, n_estimators=250 ................\n",
      "[CV]  learning_rate=0.1, max_depth=5, n_estimators=250, score=0.7266272189349112, total=   0.7s\n",
      "[CV] learning_rate=0.1, max_depth=5, n_estimators=250 ................\n",
      "[CV]  learning_rate=0.1, max_depth=5, n_estimators=250, score=0.7120853080568721, total=   0.6s\n",
      "[CV] learning_rate=0.1, max_depth=5, n_estimators=300 ................\n",
      "[CV]  learning_rate=0.1, max_depth=5, n_estimators=300, score=0.7183431952662722, total=   0.6s\n",
      "[CV] learning_rate=0.1, max_depth=5, n_estimators=300 ................\n",
      "[CV]  learning_rate=0.1, max_depth=5, n_estimators=300, score=0.7242603550295857, total=   0.7s\n",
      "[CV] learning_rate=0.1, max_depth=5, n_estimators=300 ................\n",
      "[CV]  learning_rate=0.1, max_depth=5, n_estimators=300, score=0.7132701421800948, total=   0.7s\n",
      "[CV] learning_rate=0.1, max_depth=5, n_estimators=350 ................\n",
      "[CV]  learning_rate=0.1, max_depth=5, n_estimators=350, score=0.7053254437869823, total=   0.8s\n",
      "[CV] learning_rate=0.1, max_depth=5, n_estimators=350 ................\n",
      "[CV]  learning_rate=0.1, max_depth=5, n_estimators=350, score=0.7195266272189349, total=   0.8s\n",
      "[CV] learning_rate=0.1, max_depth=5, n_estimators=350 ................\n",
      "[CV]  learning_rate=0.1, max_depth=5, n_estimators=350, score=0.7014218009478673, total=   0.7s\n",
      "[CV] learning_rate=0.1, max_depth=5, n_estimators=400 ................\n",
      "[CV]  learning_rate=0.1, max_depth=5, n_estimators=400, score=0.7053254437869823, total=   0.7s\n",
      "[CV] learning_rate=0.1, max_depth=5, n_estimators=400 ................\n",
      "[CV]  learning_rate=0.1, max_depth=5, n_estimators=400, score=0.7171597633136094, total=   0.7s\n",
      "[CV] learning_rate=0.1, max_depth=5, n_estimators=400 ................\n",
      "[CV]  learning_rate=0.1, max_depth=5, n_estimators=400, score=0.7014218009478673, total=   0.8s\n",
      "[CV] learning_rate=1, max_depth=1, n_estimators=10 ...................\n",
      "[CV]  learning_rate=1, max_depth=1, n_estimators=10, score=0.6958579881656805, total=   0.0s\n",
      "[CV] learning_rate=1, max_depth=1, n_estimators=10 ...................\n",
      "[CV]  learning_rate=1, max_depth=1, n_estimators=10, score=0.6710059171597633, total=   0.0s\n",
      "[CV] learning_rate=1, max_depth=1, n_estimators=10 ...................\n",
      "[CV]  learning_rate=1, max_depth=1, n_estimators=10, score=0.683649289099526, total=   0.0s\n",
      "[CV] learning_rate=1, max_depth=1, n_estimators=50 ...................\n",
      "[CV]  learning_rate=1, max_depth=1, n_estimators=50, score=0.7159763313609467, total=   0.0s\n",
      "[CV] learning_rate=1, max_depth=1, n_estimators=50 ...................\n",
      "[CV]  learning_rate=1, max_depth=1, n_estimators=50, score=0.6899408284023668, total=   0.0s\n",
      "[CV] learning_rate=1, max_depth=1, n_estimators=50 ...................\n"
     ]
    },
    {
     "name": "stdout",
     "output_type": "stream",
     "text": [
      "[CV]  learning_rate=1, max_depth=1, n_estimators=50, score=0.6919431279620853, total=   0.0s\n",
      "[CV] learning_rate=1, max_depth=1, n_estimators=100 ..................\n",
      "[CV]  learning_rate=1, max_depth=1, n_estimators=100, score=0.7076923076923077, total=   0.1s\n",
      "[CV] learning_rate=1, max_depth=1, n_estimators=100 ..................\n",
      "[CV]  learning_rate=1, max_depth=1, n_estimators=100, score=0.7159763313609467, total=   0.1s\n",
      "[CV] learning_rate=1, max_depth=1, n_estimators=100 ..................\n",
      "[CV]  learning_rate=1, max_depth=1, n_estimators=100, score=0.6990521327014217, total=   0.1s\n",
      "[CV] learning_rate=1, max_depth=1, n_estimators=150 ..................\n",
      "[CV]  learning_rate=1, max_depth=1, n_estimators=150, score=0.7088757396449704, total=   0.1s\n",
      "[CV] learning_rate=1, max_depth=1, n_estimators=150 ..................\n",
      "[CV]  learning_rate=1, max_depth=1, n_estimators=150, score=0.714792899408284, total=   0.1s\n",
      "[CV] learning_rate=1, max_depth=1, n_estimators=150 ..................\n",
      "[CV]  learning_rate=1, max_depth=1, n_estimators=150, score=0.7049763033175356, total=   0.1s\n",
      "[CV] learning_rate=1, max_depth=1, n_estimators=200 ..................\n",
      "[CV]  learning_rate=1, max_depth=1, n_estimators=200, score=0.7124260355029586, total=   0.1s\n",
      "[CV] learning_rate=1, max_depth=1, n_estimators=200 ..................\n",
      "[CV]  learning_rate=1, max_depth=1, n_estimators=200, score=0.7171597633136094, total=   0.2s\n",
      "[CV] learning_rate=1, max_depth=1, n_estimators=200 ..................\n",
      "[CV]  learning_rate=1, max_depth=1, n_estimators=200, score=0.70260663507109, total=   0.2s\n",
      "[CV] learning_rate=1, max_depth=1, n_estimators=250 ..................\n",
      "[CV]  learning_rate=1, max_depth=1, n_estimators=250, score=0.7124260355029586, total=   0.2s\n",
      "[CV] learning_rate=1, max_depth=1, n_estimators=250 ..................\n",
      "[CV]  learning_rate=1, max_depth=1, n_estimators=250, score=0.7136094674556213, total=   0.2s\n",
      "[CV] learning_rate=1, max_depth=1, n_estimators=250 ..................\n",
      "[CV]  learning_rate=1, max_depth=1, n_estimators=250, score=0.7014218009478673, total=   0.2s\n",
      "[CV] learning_rate=1, max_depth=1, n_estimators=300 ..................\n",
      "[CV]  learning_rate=1, max_depth=1, n_estimators=300, score=0.7159763313609467, total=   0.2s\n",
      "[CV] learning_rate=1, max_depth=1, n_estimators=300 ..................\n",
      "[CV]  learning_rate=1, max_depth=1, n_estimators=300, score=0.7124260355029586, total=   0.1s\n",
      "[CV] learning_rate=1, max_depth=1, n_estimators=300 ..................\n",
      "[CV]  learning_rate=1, max_depth=1, n_estimators=300, score=0.7002369668246445, total=   0.3s\n",
      "[CV] learning_rate=1, max_depth=1, n_estimators=350 ..................\n",
      "[CV]  learning_rate=1, max_depth=1, n_estimators=350, score=0.7171597633136094, total=   0.2s\n",
      "[CV] learning_rate=1, max_depth=1, n_estimators=350 ..................\n",
      "[CV]  learning_rate=1, max_depth=1, n_estimators=350, score=0.7183431952662722, total=   0.3s\n",
      "[CV] learning_rate=1, max_depth=1, n_estimators=350 ..................\n",
      "[CV]  learning_rate=1, max_depth=1, n_estimators=350, score=0.6966824644549763, total=   0.2s\n",
      "[CV] learning_rate=1, max_depth=1, n_estimators=400 ..................\n",
      "[CV]  learning_rate=1, max_depth=1, n_estimators=400, score=0.7183431952662722, total=   0.3s\n",
      "[CV] learning_rate=1, max_depth=1, n_estimators=400 ..................\n",
      "[CV]  learning_rate=1, max_depth=1, n_estimators=400, score=0.7112426035502959, total=   0.2s\n",
      "[CV] learning_rate=1, max_depth=1, n_estimators=400 ..................\n",
      "[CV]  learning_rate=1, max_depth=1, n_estimators=400, score=0.6919431279620853, total=   0.3s\n",
      "[CV] learning_rate=1, max_depth=2, n_estimators=10 ...................\n",
      "[CV]  learning_rate=1, max_depth=2, n_estimators=10, score=0.7207100591715976, total=   0.0s\n",
      "[CV] learning_rate=1, max_depth=2, n_estimators=10 ...................\n",
      "[CV]  learning_rate=1, max_depth=2, n_estimators=10, score=0.7065088757396449, total=   0.0s\n",
      "[CV] learning_rate=1, max_depth=2, n_estimators=10 ...................\n",
      "[CV]  learning_rate=1, max_depth=2, n_estimators=10, score=0.693127962085308, total=   0.0s\n",
      "[CV] learning_rate=1, max_depth=2, n_estimators=50 ...................\n",
      "[CV]  learning_rate=1, max_depth=2, n_estimators=50, score=0.6899408284023668, total=   0.0s\n",
      "[CV] learning_rate=1, max_depth=2, n_estimators=50 ...................\n",
      "[CV]  learning_rate=1, max_depth=2, n_estimators=50, score=0.7076923076923077, total=   0.0s\n",
      "[CV] learning_rate=1, max_depth=2, n_estimators=50 ...................\n",
      "[CV]  learning_rate=1, max_depth=2, n_estimators=50, score=0.7120853080568721, total=   0.0s\n",
      "[CV] learning_rate=1, max_depth=2, n_estimators=100 ..................\n",
      "[CV]  learning_rate=1, max_depth=2, n_estimators=100, score=0.6792899408284023, total=   0.1s\n",
      "[CV] learning_rate=1, max_depth=2, n_estimators=100 ..................\n",
      "[CV]  learning_rate=1, max_depth=2, n_estimators=100, score=0.7041420118343196, total=   0.1s\n",
      "[CV] learning_rate=1, max_depth=2, n_estimators=100 ..................\n",
      "[CV]  learning_rate=1, max_depth=2, n_estimators=100, score=0.6860189573459715, total=   0.1s\n",
      "[CV] learning_rate=1, max_depth=2, n_estimators=150 ..................\n",
      "[CV]  learning_rate=1, max_depth=2, n_estimators=150, score=0.6875739644970414, total=   0.1s\n",
      "[CV] learning_rate=1, max_depth=2, n_estimators=150 ..................\n",
      "[CV]  learning_rate=1, max_depth=2, n_estimators=150, score=0.6970414201183432, total=   0.1s\n",
      "[CV] learning_rate=1, max_depth=2, n_estimators=150 ..................\n",
      "[CV]  learning_rate=1, max_depth=2, n_estimators=150, score=0.6753554502369669, total=   0.1s\n",
      "[CV] learning_rate=1, max_depth=2, n_estimators=200 ..................\n",
      "[CV]  learning_rate=1, max_depth=2, n_estimators=200, score=0.6816568047337278, total=   0.2s\n",
      "[CV] learning_rate=1, max_depth=2, n_estimators=200 ..................\n",
      "[CV]  learning_rate=1, max_depth=2, n_estimators=200, score=0.7183431952662722, total=   0.2s\n",
      "[CV] learning_rate=1, max_depth=2, n_estimators=200 ..................\n",
      "[CV]  learning_rate=1, max_depth=2, n_estimators=200, score=0.6718009478672986, total=   0.2s\n",
      "[CV] learning_rate=1, max_depth=2, n_estimators=250 ..................\n",
      "[CV]  learning_rate=1, max_depth=2, n_estimators=250, score=0.6781065088757396, total=   0.2s\n",
      "[CV] learning_rate=1, max_depth=2, n_estimators=250 ..................\n",
      "[CV]  learning_rate=1, max_depth=2, n_estimators=250, score=0.714792899408284, total=   0.2s\n",
      "[CV] learning_rate=1, max_depth=2, n_estimators=250 ..................\n",
      "[CV]  learning_rate=1, max_depth=2, n_estimators=250, score=0.6848341232227488, total=   0.2s\n",
      "[CV] learning_rate=1, max_depth=2, n_estimators=300 ..................\n",
      "[CV]  learning_rate=1, max_depth=2, n_estimators=300, score=0.6757396449704142, total=   0.3s\n",
      "[CV] learning_rate=1, max_depth=2, n_estimators=300 ..................\n",
      "[CV]  learning_rate=1, max_depth=2, n_estimators=300, score=0.7065088757396449, total=   0.2s\n",
      "[CV] learning_rate=1, max_depth=2, n_estimators=300 ..................\n",
      "[CV]  learning_rate=1, max_depth=2, n_estimators=300, score=0.6789099526066351, total=   0.2s\n",
      "[CV] learning_rate=1, max_depth=2, n_estimators=350 ..................\n",
      "[CV]  learning_rate=1, max_depth=2, n_estimators=350, score=0.6757396449704142, total=   0.3s\n",
      "[CV] learning_rate=1, max_depth=2, n_estimators=350 ..................\n",
      "[CV]  learning_rate=1, max_depth=2, n_estimators=350, score=0.7088757396449704, total=   0.3s\n",
      "[CV] learning_rate=1, max_depth=2, n_estimators=350 ..................\n",
      "[CV]  learning_rate=1, max_depth=2, n_estimators=350, score=0.6812796208530806, total=   0.2s\n",
      "[CV] learning_rate=1, max_depth=2, n_estimators=400 ..................\n",
      "[CV]  learning_rate=1, max_depth=2, n_estimators=400, score=0.6733727810650888, total=   0.3s\n",
      "[CV] learning_rate=1, max_depth=2, n_estimators=400 ..................\n",
      "[CV]  learning_rate=1, max_depth=2, n_estimators=400, score=0.7088757396449704, total=   0.3s\n",
      "[CV] learning_rate=1, max_depth=2, n_estimators=400 ..................\n",
      "[CV]  learning_rate=1, max_depth=2, n_estimators=400, score=0.6682464454976303, total=   0.5s\n",
      "[CV] learning_rate=1, max_depth=3, n_estimators=10 ...................\n",
      "[CV]  learning_rate=1, max_depth=3, n_estimators=10, score=0.7076923076923077, total=   0.0s\n",
      "[CV] learning_rate=1, max_depth=3, n_estimators=10 ...................\n",
      "[CV]  learning_rate=1, max_depth=3, n_estimators=10, score=0.736094674556213, total=   0.0s\n",
      "[CV] learning_rate=1, max_depth=3, n_estimators=10 ...................\n",
      "[CV]  learning_rate=1, max_depth=3, n_estimators=10, score=0.707345971563981, total=   0.0s\n",
      "[CV] learning_rate=1, max_depth=3, n_estimators=50 ...................\n",
      "[CV]  learning_rate=1, max_depth=3, n_estimators=50, score=0.6863905325443787, total=   0.1s\n",
      "[CV] learning_rate=1, max_depth=3, n_estimators=50 ...................\n",
      "[CV]  learning_rate=1, max_depth=3, n_estimators=50, score=0.6958579881656805, total=   0.1s\n",
      "[CV] learning_rate=1, max_depth=3, n_estimators=50 ...................\n"
     ]
    },
    {
     "name": "stdout",
     "output_type": "stream",
     "text": [
      "[CV]  learning_rate=1, max_depth=3, n_estimators=50, score=0.6789099526066351, total=   0.1s\n",
      "[CV] learning_rate=1, max_depth=3, n_estimators=100 ..................\n",
      "[CV]  learning_rate=1, max_depth=3, n_estimators=100, score=0.6792899408284023, total=   0.1s\n",
      "[CV] learning_rate=1, max_depth=3, n_estimators=100 ..................\n",
      "[CV]  learning_rate=1, max_depth=3, n_estimators=100, score=0.6982248520710059, total=   0.1s\n",
      "[CV] learning_rate=1, max_depth=3, n_estimators=100 ..................\n",
      "[CV]  learning_rate=1, max_depth=3, n_estimators=100, score=0.6706161137440758, total=   0.1s\n",
      "[CV] learning_rate=1, max_depth=3, n_estimators=150 ..................\n",
      "[CV]  learning_rate=1, max_depth=3, n_estimators=150, score=0.6792899408284023, total=   0.2s\n",
      "[CV] learning_rate=1, max_depth=3, n_estimators=150 ..................\n",
      "[CV]  learning_rate=1, max_depth=3, n_estimators=150, score=0.6958579881656805, total=   0.1s\n",
      "[CV] learning_rate=1, max_depth=3, n_estimators=150 ..................\n",
      "[CV]  learning_rate=1, max_depth=3, n_estimators=150, score=0.6635071090047393, total=   0.2s\n",
      "[CV] learning_rate=1, max_depth=3, n_estimators=200 ..................\n",
      "[CV]  learning_rate=1, max_depth=3, n_estimators=200, score=0.6828402366863905, total=   0.2s\n",
      "[CV] learning_rate=1, max_depth=3, n_estimators=200 ..................\n",
      "[CV]  learning_rate=1, max_depth=3, n_estimators=200, score=0.6958579881656805, total=   0.2s\n",
      "[CV] learning_rate=1, max_depth=3, n_estimators=200 ..................\n",
      "[CV]  learning_rate=1, max_depth=3, n_estimators=200, score=0.6706161137440758, total=   0.2s\n",
      "[CV] learning_rate=1, max_depth=3, n_estimators=250 ..................\n",
      "[CV]  learning_rate=1, max_depth=3, n_estimators=250, score=0.6816568047337278, total=   0.2s\n",
      "[CV] learning_rate=1, max_depth=3, n_estimators=250 ..................\n",
      "[CV]  learning_rate=1, max_depth=3, n_estimators=250, score=0.6923076923076923, total=   0.2s\n",
      "[CV] learning_rate=1, max_depth=3, n_estimators=250 ..................\n",
      "[CV]  learning_rate=1, max_depth=3, n_estimators=250, score=0.6658767772511849, total=   0.2s\n",
      "[CV] learning_rate=1, max_depth=3, n_estimators=300 ..................\n",
      "[CV]  learning_rate=1, max_depth=3, n_estimators=300, score=0.6887573964497041, total=   0.3s\n",
      "[CV] learning_rate=1, max_depth=3, n_estimators=300 ..................\n",
      "[CV]  learning_rate=1, max_depth=3, n_estimators=300, score=0.6863905325443787, total=   0.3s\n",
      "[CV] learning_rate=1, max_depth=3, n_estimators=300 ..................\n",
      "[CV]  learning_rate=1, max_depth=3, n_estimators=300, score=0.6777251184834123, total=   0.3s\n",
      "[CV] learning_rate=1, max_depth=3, n_estimators=350 ..................\n",
      "[CV]  learning_rate=1, max_depth=3, n_estimators=350, score=0.6875739644970414, total=   0.3s\n",
      "[CV] learning_rate=1, max_depth=3, n_estimators=350 ..................\n",
      "[CV]  learning_rate=1, max_depth=3, n_estimators=350, score=0.6994082840236686, total=   0.3s\n",
      "[CV] learning_rate=1, max_depth=3, n_estimators=350 ..................\n",
      "[CV]  learning_rate=1, max_depth=3, n_estimators=350, score=0.6753554502369669, total=   0.3s\n",
      "[CV] learning_rate=1, max_depth=3, n_estimators=400 ..................\n",
      "[CV]  learning_rate=1, max_depth=3, n_estimators=400, score=0.6828402366863905, total=   0.4s\n",
      "[CV] learning_rate=1, max_depth=3, n_estimators=400 ..................\n",
      "[CV]  learning_rate=1, max_depth=3, n_estimators=400, score=0.6994082840236686, total=   0.4s\n",
      "[CV] learning_rate=1, max_depth=3, n_estimators=400 ..................\n",
      "[CV]  learning_rate=1, max_depth=3, n_estimators=400, score=0.6777251184834123, total=   0.4s\n",
      "[CV] learning_rate=1, max_depth=4, n_estimators=10 ...................\n",
      "[CV]  learning_rate=1, max_depth=4, n_estimators=10, score=0.7112426035502959, total=   0.0s\n",
      "[CV] learning_rate=1, max_depth=4, n_estimators=10 ...................\n",
      "[CV]  learning_rate=1, max_depth=4, n_estimators=10, score=0.7159763313609467, total=   0.0s\n",
      "[CV] learning_rate=1, max_depth=4, n_estimators=10 ...................\n",
      "[CV]  learning_rate=1, max_depth=4, n_estimators=10, score=0.7014218009478673, total=   0.0s\n",
      "[CV] learning_rate=1, max_depth=4, n_estimators=50 ...................\n",
      "[CV]  learning_rate=1, max_depth=4, n_estimators=50, score=0.7029585798816568, total=   0.1s\n",
      "[CV] learning_rate=1, max_depth=4, n_estimators=50 ...................\n",
      "[CV]  learning_rate=1, max_depth=4, n_estimators=50, score=0.6710059171597633, total=   0.1s\n",
      "[CV] learning_rate=1, max_depth=4, n_estimators=50 ...................\n",
      "[CV]  learning_rate=1, max_depth=4, n_estimators=50, score=0.6978672985781991, total=   0.1s\n",
      "[CV] learning_rate=1, max_depth=4, n_estimators=100 ..................\n",
      "[CV]  learning_rate=1, max_depth=4, n_estimators=100, score=0.6828402366863905, total=   0.1s\n",
      "[CV] learning_rate=1, max_depth=4, n_estimators=100 ..................\n",
      "[CV]  learning_rate=1, max_depth=4, n_estimators=100, score=0.6863905325443787, total=   0.1s\n",
      "[CV] learning_rate=1, max_depth=4, n_estimators=100 ..................\n",
      "[CV]  learning_rate=1, max_depth=4, n_estimators=100, score=0.6978672985781991, total=   0.1s\n",
      "[CV] learning_rate=1, max_depth=4, n_estimators=150 ..................\n",
      "[CV]  learning_rate=1, max_depth=4, n_estimators=150, score=0.6804733727810651, total=   0.2s\n",
      "[CV] learning_rate=1, max_depth=4, n_estimators=150 ..................\n",
      "[CV]  learning_rate=1, max_depth=4, n_estimators=150, score=0.6828402366863905, total=   0.2s\n",
      "[CV] learning_rate=1, max_depth=4, n_estimators=150 ..................\n",
      "[CV]  learning_rate=1, max_depth=4, n_estimators=150, score=0.6907582938388626, total=   0.2s\n",
      "[CV] learning_rate=1, max_depth=4, n_estimators=200 ..................\n",
      "[CV]  learning_rate=1, max_depth=4, n_estimators=200, score=0.672189349112426, total=   0.3s\n",
      "[CV] learning_rate=1, max_depth=4, n_estimators=200 ..................\n",
      "[CV]  learning_rate=1, max_depth=4, n_estimators=200, score=0.6923076923076923, total=   0.3s\n",
      "[CV] learning_rate=1, max_depth=4, n_estimators=200 ..................\n",
      "[CV]  learning_rate=1, max_depth=4, n_estimators=200, score=0.6943127962085308, total=   0.3s\n",
      "[CV] learning_rate=1, max_depth=4, n_estimators=250 ..................\n",
      "[CV]  learning_rate=1, max_depth=4, n_estimators=250, score=0.6863905325443787, total=   0.3s\n",
      "[CV] learning_rate=1, max_depth=4, n_estimators=250 ..................\n",
      "[CV]  learning_rate=1, max_depth=4, n_estimators=250, score=0.685207100591716, total=   0.3s\n",
      "[CV] learning_rate=1, max_depth=4, n_estimators=250 ..................\n",
      "[CV]  learning_rate=1, max_depth=4, n_estimators=250, score=0.6990521327014217, total=   0.3s\n",
      "[CV] learning_rate=1, max_depth=4, n_estimators=300 ..................\n",
      "[CV]  learning_rate=1, max_depth=4, n_estimators=300, score=0.6911242603550296, total=   0.4s\n",
      "[CV] learning_rate=1, max_depth=4, n_estimators=300 ..................\n",
      "[CV]  learning_rate=1, max_depth=4, n_estimators=300, score=0.6840236686390533, total=   0.4s\n",
      "[CV] learning_rate=1, max_depth=4, n_estimators=300 ..................\n",
      "[CV]  learning_rate=1, max_depth=4, n_estimators=300, score=0.6907582938388626, total=   0.4s\n",
      "[CV] learning_rate=1, max_depth=4, n_estimators=350 ..................\n",
      "[CV]  learning_rate=1, max_depth=4, n_estimators=350, score=0.693491124260355, total=   0.4s\n",
      "[CV] learning_rate=1, max_depth=4, n_estimators=350 ..................\n",
      "[CV]  learning_rate=1, max_depth=4, n_estimators=350, score=0.685207100591716, total=   0.4s\n",
      "[CV] learning_rate=1, max_depth=4, n_estimators=350 ..................\n",
      "[CV]  learning_rate=1, max_depth=4, n_estimators=350, score=0.6943127962085308, total=   0.4s\n",
      "[CV] learning_rate=1, max_depth=4, n_estimators=400 ..................\n",
      "[CV]  learning_rate=1, max_depth=4, n_estimators=400, score=0.6923076923076923, total=   0.5s\n",
      "[CV] learning_rate=1, max_depth=4, n_estimators=400 ..................\n",
      "[CV]  learning_rate=1, max_depth=4, n_estimators=400, score=0.6816568047337278, total=   0.5s\n",
      "[CV] learning_rate=1, max_depth=4, n_estimators=400 ..................\n",
      "[CV]  learning_rate=1, max_depth=4, n_estimators=400, score=0.6895734597156398, total=   0.5s\n",
      "[CV] learning_rate=1, max_depth=5, n_estimators=10 ...................\n",
      "[CV]  learning_rate=1, max_depth=5, n_estimators=10, score=0.6970414201183432, total=   0.0s\n",
      "[CV] learning_rate=1, max_depth=5, n_estimators=10 ...................\n",
      "[CV]  learning_rate=1, max_depth=5, n_estimators=10, score=0.7159763313609467, total=   0.0s\n",
      "[CV] learning_rate=1, max_depth=5, n_estimators=10 ...................\n",
      "[CV]  learning_rate=1, max_depth=5, n_estimators=10, score=0.7014218009478673, total=   0.0s\n",
      "[CV] learning_rate=1, max_depth=5, n_estimators=50 ...................\n",
      "[CV]  learning_rate=1, max_depth=5, n_estimators=50, score=0.685207100591716, total=   0.1s\n",
      "[CV] learning_rate=1, max_depth=5, n_estimators=50 ...................\n"
     ]
    },
    {
     "name": "stdout",
     "output_type": "stream",
     "text": [
      "[CV]  learning_rate=1, max_depth=5, n_estimators=50, score=0.6875739644970414, total=   0.1s\n",
      "[CV] learning_rate=1, max_depth=5, n_estimators=50 ...................\n",
      "[CV]  learning_rate=1, max_depth=5, n_estimators=50, score=0.6943127962085308, total=   0.1s\n",
      "[CV] learning_rate=1, max_depth=5, n_estimators=100 ..................\n",
      "[CV]  learning_rate=1, max_depth=5, n_estimators=100, score=0.6958579881656805, total=   0.2s\n",
      "[CV] learning_rate=1, max_depth=5, n_estimators=100 ..................\n",
      "[CV]  learning_rate=1, max_depth=5, n_estimators=100, score=0.6911242603550296, total=   0.2s\n",
      "[CV] learning_rate=1, max_depth=5, n_estimators=100 ..................\n",
      "[CV]  learning_rate=1, max_depth=5, n_estimators=100, score=0.6848341232227488, total=   0.2s\n",
      "[CV] learning_rate=1, max_depth=5, n_estimators=150 ..................\n",
      "[CV]  learning_rate=1, max_depth=5, n_estimators=150, score=0.6863905325443787, total=   0.3s\n",
      "[CV] learning_rate=1, max_depth=5, n_estimators=150 ..................\n",
      "[CV]  learning_rate=1, max_depth=5, n_estimators=150, score=0.6816568047337278, total=   0.3s\n",
      "[CV] learning_rate=1, max_depth=5, n_estimators=150 ..................\n",
      "[CV]  learning_rate=1, max_depth=5, n_estimators=150, score=0.6812796208530806, total=   0.3s\n",
      "[CV] learning_rate=1, max_depth=5, n_estimators=200 ..................\n",
      "[CV]  learning_rate=1, max_depth=5, n_estimators=200, score=0.7053254437869823, total=   0.3s\n",
      "[CV] learning_rate=1, max_depth=5, n_estimators=200 ..................\n",
      "[CV]  learning_rate=1, max_depth=5, n_estimators=200, score=0.6863905325443787, total=   0.3s\n",
      "[CV] learning_rate=1, max_depth=5, n_estimators=200 ..................\n",
      "[CV]  learning_rate=1, max_depth=5, n_estimators=200, score=0.6919431279620853, total=   0.3s\n",
      "[CV] learning_rate=1, max_depth=5, n_estimators=250 ..................\n",
      "[CV]  learning_rate=1, max_depth=5, n_estimators=250, score=0.7041420118343196, total=   0.4s\n",
      "[CV] learning_rate=1, max_depth=5, n_estimators=250 ..................\n",
      "[CV]  learning_rate=1, max_depth=5, n_estimators=250, score=0.6887573964497041, total=   0.4s\n",
      "[CV] learning_rate=1, max_depth=5, n_estimators=250 ..................\n",
      "[CV]  learning_rate=1, max_depth=5, n_estimators=250, score=0.6860189573459715, total=   0.4s\n",
      "[CV] learning_rate=1, max_depth=5, n_estimators=300 ..................\n",
      "[CV]  learning_rate=1, max_depth=5, n_estimators=300, score=0.7041420118343196, total=   0.4s\n",
      "[CV] learning_rate=1, max_depth=5, n_estimators=300 ..................\n",
      "[CV]  learning_rate=1, max_depth=5, n_estimators=300, score=0.6887573964497041, total=   0.4s\n",
      "[CV] learning_rate=1, max_depth=5, n_estimators=300 ..................\n",
      "[CV]  learning_rate=1, max_depth=5, n_estimators=300, score=0.6860189573459715, total=   0.4s\n",
      "[CV] learning_rate=1, max_depth=5, n_estimators=350 ..................\n",
      "[CV]  learning_rate=1, max_depth=5, n_estimators=350, score=0.7041420118343196, total=   0.4s\n",
      "[CV] learning_rate=1, max_depth=5, n_estimators=350 ..................\n",
      "[CV]  learning_rate=1, max_depth=5, n_estimators=350, score=0.6887573964497041, total=   0.4s\n",
      "[CV] learning_rate=1, max_depth=5, n_estimators=350 ..................\n",
      "[CV]  learning_rate=1, max_depth=5, n_estimators=350, score=0.6860189573459715, total=   0.4s\n",
      "[CV] learning_rate=1, max_depth=5, n_estimators=400 ..................\n",
      "[CV]  learning_rate=1, max_depth=5, n_estimators=400, score=0.7041420118343196, total=   0.5s\n",
      "[CV] learning_rate=1, max_depth=5, n_estimators=400 ..................\n",
      "[CV]  learning_rate=1, max_depth=5, n_estimators=400, score=0.6887573964497041, total=   0.4s\n",
      "[CV] learning_rate=1, max_depth=5, n_estimators=400 ..................\n",
      "[CV]  learning_rate=1, max_depth=5, n_estimators=400, score=0.6860189573459715, total=   0.4s\n",
      "[CV] learning_rate=10, max_depth=1, n_estimators=10 ..................\n",
      "[CV]  learning_rate=10, max_depth=1, n_estimators=10, score=0.3467455621301775, total=   0.0s\n",
      "[CV] learning_rate=10, max_depth=1, n_estimators=10 ..................\n",
      "[CV]  learning_rate=10, max_depth=1, n_estimators=10, score=0.3408284023668639, total=   0.0s\n",
      "[CV] learning_rate=10, max_depth=1, n_estimators=10 ..................\n",
      "[CV]  learning_rate=10, max_depth=1, n_estimators=10, score=0.3495260663507109, total=   0.0s\n",
      "[CV] learning_rate=10, max_depth=1, n_estimators=50 ..................\n",
      "[CV]  learning_rate=10, max_depth=1, n_estimators=50, score=0.3467455621301775, total=   0.0s\n",
      "[CV] learning_rate=10, max_depth=1, n_estimators=50 ..................\n",
      "[CV]  learning_rate=10, max_depth=1, n_estimators=50, score=0.3408284023668639, total=   0.0s\n",
      "[CV] learning_rate=10, max_depth=1, n_estimators=50 ..................\n",
      "[CV]  learning_rate=10, max_depth=1, n_estimators=50, score=0.3495260663507109, total=   0.0s\n",
      "[CV] learning_rate=10, max_depth=1, n_estimators=100 .................\n",
      "[CV]  learning_rate=10, max_depth=1, n_estimators=100, score=0.3467455621301775, total=   0.0s\n",
      "[CV] learning_rate=10, max_depth=1, n_estimators=100 .................\n",
      "[CV]  learning_rate=10, max_depth=1, n_estimators=100, score=0.3408284023668639, total=   0.1s\n",
      "[CV] learning_rate=10, max_depth=1, n_estimators=100 .................\n",
      "[CV]  learning_rate=10, max_depth=1, n_estimators=100, score=0.3495260663507109, total=   0.1s\n",
      "[CV] learning_rate=10, max_depth=1, n_estimators=150 .................\n",
      "[CV]  learning_rate=10, max_depth=1, n_estimators=150, score=0.3467455621301775, total=   0.1s\n",
      "[CV] learning_rate=10, max_depth=1, n_estimators=150 .................\n",
      "[CV]  learning_rate=10, max_depth=1, n_estimators=150, score=0.3408284023668639, total=   0.1s\n",
      "[CV] learning_rate=10, max_depth=1, n_estimators=150 .................\n",
      "[CV]  learning_rate=10, max_depth=1, n_estimators=150, score=0.3495260663507109, total=   0.1s\n",
      "[CV] learning_rate=10, max_depth=1, n_estimators=200 .................\n",
      "[CV]  learning_rate=10, max_depth=1, n_estimators=200, score=0.3467455621301775, total=   0.1s\n",
      "[CV] learning_rate=10, max_depth=1, n_estimators=200 .................\n",
      "[CV]  learning_rate=10, max_depth=1, n_estimators=200, score=0.3408284023668639, total=   0.1s\n",
      "[CV] learning_rate=10, max_depth=1, n_estimators=200 .................\n",
      "[CV]  learning_rate=10, max_depth=1, n_estimators=200, score=0.3495260663507109, total=   0.1s\n",
      "[CV] learning_rate=10, max_depth=1, n_estimators=250 .................\n",
      "[CV]  learning_rate=10, max_depth=1, n_estimators=250, score=0.3467455621301775, total=   0.1s\n",
      "[CV] learning_rate=10, max_depth=1, n_estimators=250 .................\n",
      "[CV]  learning_rate=10, max_depth=1, n_estimators=250, score=0.3408284023668639, total=   0.1s\n",
      "[CV] learning_rate=10, max_depth=1, n_estimators=250 .................\n",
      "[CV]  learning_rate=10, max_depth=1, n_estimators=250, score=0.3495260663507109, total=   0.1s\n",
      "[CV] learning_rate=10, max_depth=1, n_estimators=300 .................\n",
      "[CV]  learning_rate=10, max_depth=1, n_estimators=300, score=0.3467455621301775, total=   0.1s\n",
      "[CV] learning_rate=10, max_depth=1, n_estimators=300 .................\n",
      "[CV]  learning_rate=10, max_depth=1, n_estimators=300, score=0.3408284023668639, total=   0.2s\n",
      "[CV] learning_rate=10, max_depth=1, n_estimators=300 .................\n",
      "[CV]  learning_rate=10, max_depth=1, n_estimators=300, score=0.3495260663507109, total=   0.1s\n",
      "[CV] learning_rate=10, max_depth=1, n_estimators=350 .................\n",
      "[CV]  learning_rate=10, max_depth=1, n_estimators=350, score=0.3467455621301775, total=   0.2s\n",
      "[CV] learning_rate=10, max_depth=1, n_estimators=350 .................\n",
      "[CV]  learning_rate=10, max_depth=1, n_estimators=350, score=0.3408284023668639, total=   0.2s\n",
      "[CV] learning_rate=10, max_depth=1, n_estimators=350 .................\n",
      "[CV]  learning_rate=10, max_depth=1, n_estimators=350, score=0.3495260663507109, total=   0.2s\n",
      "[CV] learning_rate=10, max_depth=1, n_estimators=400 .................\n",
      "[CV]  learning_rate=10, max_depth=1, n_estimators=400, score=0.3467455621301775, total=   0.2s\n",
      "[CV] learning_rate=10, max_depth=1, n_estimators=400 .................\n",
      "[CV]  learning_rate=10, max_depth=1, n_estimators=400, score=0.3408284023668639, total=   0.2s\n",
      "[CV] learning_rate=10, max_depth=1, n_estimators=400 .................\n",
      "[CV]  learning_rate=10, max_depth=1, n_estimators=400, score=0.3495260663507109, total=   0.2s\n",
      "[CV] learning_rate=10, max_depth=2, n_estimators=10 ..................\n",
      "[CV]  learning_rate=10, max_depth=2, n_estimators=10, score=0.4284023668639053, total=   0.0s\n",
      "[CV] learning_rate=10, max_depth=2, n_estimators=10 ..................\n",
      "[CV]  learning_rate=10, max_depth=2, n_estimators=10, score=0.34437869822485206, total=   0.0s\n",
      "[CV] learning_rate=10, max_depth=2, n_estimators=10 ..................\n",
      "[CV]  learning_rate=10, max_depth=2, n_estimators=10, score=0.3495260663507109, total=   0.0s\n",
      "[CV] learning_rate=10, max_depth=2, n_estimators=50 ..................\n",
      "[CV]  learning_rate=10, max_depth=2, n_estimators=50, score=0.4284023668639053, total=   0.0s\n",
      "[CV] learning_rate=10, max_depth=2, n_estimators=50 ..................\n",
      "[CV]  learning_rate=10, max_depth=2, n_estimators=50, score=0.34437869822485206, total=   0.0s\n",
      "[CV] learning_rate=10, max_depth=2, n_estimators=50 ..................\n",
      "[CV]  learning_rate=10, max_depth=2, n_estimators=50, score=0.3495260663507109, total=   0.0s\n",
      "[CV] learning_rate=10, max_depth=2, n_estimators=100 .................\n"
     ]
    },
    {
     "name": "stdout",
     "output_type": "stream",
     "text": [
      "[CV]  learning_rate=10, max_depth=2, n_estimators=100, score=0.4284023668639053, total=   0.1s\n",
      "[CV] learning_rate=10, max_depth=2, n_estimators=100 .................\n",
      "[CV]  learning_rate=10, max_depth=2, n_estimators=100, score=0.34437869822485206, total=   0.1s\n",
      "[CV] learning_rate=10, max_depth=2, n_estimators=100 .................\n",
      "[CV]  learning_rate=10, max_depth=2, n_estimators=100, score=0.3495260663507109, total=   0.1s\n",
      "[CV] learning_rate=10, max_depth=2, n_estimators=150 .................\n",
      "[CV]  learning_rate=10, max_depth=2, n_estimators=150, score=0.4284023668639053, total=   0.1s\n",
      "[CV] learning_rate=10, max_depth=2, n_estimators=150 .................\n",
      "[CV]  learning_rate=10, max_depth=2, n_estimators=150, score=0.34437869822485206, total=   0.1s\n",
      "[CV] learning_rate=10, max_depth=2, n_estimators=150 .................\n",
      "[CV]  learning_rate=10, max_depth=2, n_estimators=150, score=0.3495260663507109, total=   0.1s\n",
      "[CV] learning_rate=10, max_depth=2, n_estimators=200 .................\n",
      "[CV]  learning_rate=10, max_depth=2, n_estimators=200, score=0.4284023668639053, total=   0.1s\n",
      "[CV] learning_rate=10, max_depth=2, n_estimators=200 .................\n",
      "[CV]  learning_rate=10, max_depth=2, n_estimators=200, score=0.34437869822485206, total=   0.2s\n",
      "[CV] learning_rate=10, max_depth=2, n_estimators=200 .................\n",
      "[CV]  learning_rate=10, max_depth=2, n_estimators=200, score=0.3495260663507109, total=   0.1s\n",
      "[CV] learning_rate=10, max_depth=2, n_estimators=250 .................\n",
      "[CV]  learning_rate=10, max_depth=2, n_estimators=250, score=0.4284023668639053, total=   0.2s\n",
      "[CV] learning_rate=10, max_depth=2, n_estimators=250 .................\n",
      "[CV]  learning_rate=10, max_depth=2, n_estimators=250, score=0.34437869822485206, total=   0.2s\n",
      "[CV] learning_rate=10, max_depth=2, n_estimators=250 .................\n",
      "[CV]  learning_rate=10, max_depth=2, n_estimators=250, score=0.3495260663507109, total=   0.2s\n",
      "[CV] learning_rate=10, max_depth=2, n_estimators=300 .................\n",
      "[CV]  learning_rate=10, max_depth=2, n_estimators=300, score=0.4284023668639053, total=   0.2s\n",
      "[CV] learning_rate=10, max_depth=2, n_estimators=300 .................\n",
      "[CV]  learning_rate=10, max_depth=2, n_estimators=300, score=0.34437869822485206, total=   0.2s\n",
      "[CV] learning_rate=10, max_depth=2, n_estimators=300 .................\n",
      "[CV]  learning_rate=10, max_depth=2, n_estimators=300, score=0.3495260663507109, total=   0.2s\n",
      "[CV] learning_rate=10, max_depth=2, n_estimators=350 .................\n",
      "[CV]  learning_rate=10, max_depth=2, n_estimators=350, score=0.4284023668639053, total=   0.3s\n",
      "[CV] learning_rate=10, max_depth=2, n_estimators=350 .................\n",
      "[CV]  learning_rate=10, max_depth=2, n_estimators=350, score=0.34437869822485206, total=   0.3s\n",
      "[CV] learning_rate=10, max_depth=2, n_estimators=350 .................\n",
      "[CV]  learning_rate=10, max_depth=2, n_estimators=350, score=0.3495260663507109, total=   0.3s\n",
      "[CV] learning_rate=10, max_depth=2, n_estimators=400 .................\n",
      "[CV]  learning_rate=10, max_depth=2, n_estimators=400, score=0.4284023668639053, total=   0.3s\n",
      "[CV] learning_rate=10, max_depth=2, n_estimators=400 .................\n",
      "[CV]  learning_rate=10, max_depth=2, n_estimators=400, score=0.34437869822485206, total=   0.3s\n",
      "[CV] learning_rate=10, max_depth=2, n_estimators=400 .................\n",
      "[CV]  learning_rate=10, max_depth=2, n_estimators=400, score=0.3495260663507109, total=   0.3s\n",
      "[CV] learning_rate=10, max_depth=3, n_estimators=10 ..................\n",
      "[CV]  learning_rate=10, max_depth=3, n_estimators=10, score=0.44733727810650886, total=   0.0s\n",
      "[CV] learning_rate=10, max_depth=3, n_estimators=10 ..................\n",
      "[CV]  learning_rate=10, max_depth=3, n_estimators=10, score=0.642603550295858, total=   0.0s\n",
      "[CV] learning_rate=10, max_depth=3, n_estimators=10 ..................\n",
      "[CV]  learning_rate=10, max_depth=3, n_estimators=10, score=0.43364928909952605, total=   0.0s\n",
      "[CV] learning_rate=10, max_depth=3, n_estimators=50 ..................\n",
      "[CV]  learning_rate=10, max_depth=3, n_estimators=50, score=0.44733727810650886, total=   0.1s\n",
      "[CV] learning_rate=10, max_depth=3, n_estimators=50 ..................\n",
      "[CV]  learning_rate=10, max_depth=3, n_estimators=50, score=0.642603550295858, total=   0.1s\n",
      "[CV] learning_rate=10, max_depth=3, n_estimators=50 ..................\n",
      "[CV]  learning_rate=10, max_depth=3, n_estimators=50, score=0.43364928909952605, total=   0.1s\n",
      "[CV] learning_rate=10, max_depth=3, n_estimators=100 .................\n",
      "[CV]  learning_rate=10, max_depth=3, n_estimators=100, score=0.44733727810650886, total=   0.1s\n",
      "[CV] learning_rate=10, max_depth=3, n_estimators=100 .................\n",
      "[CV]  learning_rate=10, max_depth=3, n_estimators=100, score=0.642603550295858, total=   0.1s\n",
      "[CV] learning_rate=10, max_depth=3, n_estimators=100 .................\n",
      "[CV]  learning_rate=10, max_depth=3, n_estimators=100, score=0.43364928909952605, total=   0.1s\n",
      "[CV] learning_rate=10, max_depth=3, n_estimators=150 .................\n",
      "[CV]  learning_rate=10, max_depth=3, n_estimators=150, score=0.44733727810650886, total=   0.2s\n",
      "[CV] learning_rate=10, max_depth=3, n_estimators=150 .................\n",
      "[CV]  learning_rate=10, max_depth=3, n_estimators=150, score=0.642603550295858, total=   0.2s\n",
      "[CV] learning_rate=10, max_depth=3, n_estimators=150 .................\n",
      "[CV]  learning_rate=10, max_depth=3, n_estimators=150, score=0.43364928909952605, total=   0.2s\n",
      "[CV] learning_rate=10, max_depth=3, n_estimators=200 .................\n",
      "[CV]  learning_rate=10, max_depth=3, n_estimators=200, score=0.44733727810650886, total=   0.2s\n",
      "[CV] learning_rate=10, max_depth=3, n_estimators=200 .................\n",
      "[CV]  learning_rate=10, max_depth=3, n_estimators=200, score=0.642603550295858, total=   0.2s\n",
      "[CV] learning_rate=10, max_depth=3, n_estimators=200 .................\n",
      "[CV]  learning_rate=10, max_depth=3, n_estimators=200, score=0.43364928909952605, total=   0.2s\n",
      "[CV] learning_rate=10, max_depth=3, n_estimators=250 .................\n",
      "[CV]  learning_rate=10, max_depth=3, n_estimators=250, score=0.44733727810650886, total=   0.3s\n",
      "[CV] learning_rate=10, max_depth=3, n_estimators=250 .................\n",
      "[CV]  learning_rate=10, max_depth=3, n_estimators=250, score=0.642603550295858, total=   0.2s\n",
      "[CV] learning_rate=10, max_depth=3, n_estimators=250 .................\n",
      "[CV]  learning_rate=10, max_depth=3, n_estimators=250, score=0.43364928909952605, total=   0.3s\n",
      "[CV] learning_rate=10, max_depth=3, n_estimators=300 .................\n",
      "[CV]  learning_rate=10, max_depth=3, n_estimators=300, score=0.44733727810650886, total=   0.3s\n",
      "[CV] learning_rate=10, max_depth=3, n_estimators=300 .................\n",
      "[CV]  learning_rate=10, max_depth=3, n_estimators=300, score=0.642603550295858, total=   0.3s\n",
      "[CV] learning_rate=10, max_depth=3, n_estimators=300 .................\n",
      "[CV]  learning_rate=10, max_depth=3, n_estimators=300, score=0.43364928909952605, total=   0.3s\n",
      "[CV] learning_rate=10, max_depth=3, n_estimators=350 .................\n",
      "[CV]  learning_rate=10, max_depth=3, n_estimators=350, score=0.44733727810650886, total=   0.4s\n",
      "[CV] learning_rate=10, max_depth=3, n_estimators=350 .................\n",
      "[CV]  learning_rate=10, max_depth=3, n_estimators=350, score=0.642603550295858, total=   0.3s\n",
      "[CV] learning_rate=10, max_depth=3, n_estimators=350 .................\n",
      "[CV]  learning_rate=10, max_depth=3, n_estimators=350, score=0.43364928909952605, total=   0.4s\n",
      "[CV] learning_rate=10, max_depth=3, n_estimators=400 .................\n",
      "[CV]  learning_rate=10, max_depth=3, n_estimators=400, score=0.44733727810650886, total=   0.4s\n",
      "[CV] learning_rate=10, max_depth=3, n_estimators=400 .................\n",
      "[CV]  learning_rate=10, max_depth=3, n_estimators=400, score=0.642603550295858, total=   0.4s\n",
      "[CV] learning_rate=10, max_depth=3, n_estimators=400 .................\n",
      "[CV]  learning_rate=10, max_depth=3, n_estimators=400, score=0.43364928909952605, total=   0.4s\n",
      "[CV] learning_rate=10, max_depth=4, n_estimators=10 ..................\n",
      "[CV]  learning_rate=10, max_depth=4, n_estimators=10, score=0.47928994082840237, total=   0.0s\n",
      "[CV] learning_rate=10, max_depth=4, n_estimators=10 ..................\n",
      "[CV]  learning_rate=10, max_depth=4, n_estimators=10, score=0.49940828402366866, total=   0.0s\n",
      "[CV] learning_rate=10, max_depth=4, n_estimators=10 ..................\n",
      "[CV]  learning_rate=10, max_depth=4, n_estimators=10, score=0.580568720379147, total=   0.0s\n",
      "[CV] learning_rate=10, max_depth=4, n_estimators=50 ..................\n",
      "[CV]  learning_rate=10, max_depth=4, n_estimators=50, score=0.47928994082840237, total=   0.1s\n",
      "[CV] learning_rate=10, max_depth=4, n_estimators=50 ..................\n"
     ]
    },
    {
     "name": "stdout",
     "output_type": "stream",
     "text": [
      "[CV]  learning_rate=10, max_depth=4, n_estimators=50, score=0.49940828402366866, total=   0.1s\n",
      "[CV] learning_rate=10, max_depth=4, n_estimators=50 ..................\n",
      "[CV]  learning_rate=10, max_depth=4, n_estimators=50, score=0.580568720379147, total=   0.1s\n",
      "[CV] learning_rate=10, max_depth=4, n_estimators=100 .................\n",
      "[CV]  learning_rate=10, max_depth=4, n_estimators=100, score=0.47928994082840237, total=   0.1s\n",
      "[CV] learning_rate=10, max_depth=4, n_estimators=100 .................\n",
      "[CV]  learning_rate=10, max_depth=4, n_estimators=100, score=0.49940828402366866, total=   0.2s\n",
      "[CV] learning_rate=10, max_depth=4, n_estimators=100 .................\n",
      "[CV]  learning_rate=10, max_depth=4, n_estimators=100, score=0.580568720379147, total=   0.1s\n",
      "[CV] learning_rate=10, max_depth=4, n_estimators=150 .................\n",
      "[CV]  learning_rate=10, max_depth=4, n_estimators=150, score=0.47928994082840237, total=   0.2s\n",
      "[CV] learning_rate=10, max_depth=4, n_estimators=150 .................\n",
      "[CV]  learning_rate=10, max_depth=4, n_estimators=150, score=0.49940828402366866, total=   0.2s\n",
      "[CV] learning_rate=10, max_depth=4, n_estimators=150 .................\n",
      "[CV]  learning_rate=10, max_depth=4, n_estimators=150, score=0.580568720379147, total=   0.2s\n",
      "[CV] learning_rate=10, max_depth=4, n_estimators=200 .................\n",
      "[CV]  learning_rate=10, max_depth=4, n_estimators=200, score=0.47928994082840237, total=   0.3s\n",
      "[CV] learning_rate=10, max_depth=4, n_estimators=200 .................\n",
      "[CV]  learning_rate=10, max_depth=4, n_estimators=200, score=0.49940828402366866, total=   0.3s\n",
      "[CV] learning_rate=10, max_depth=4, n_estimators=200 .................\n",
      "[CV]  learning_rate=10, max_depth=4, n_estimators=200, score=0.580568720379147, total=   0.3s\n",
      "[CV] learning_rate=10, max_depth=4, n_estimators=250 .................\n",
      "[CV]  learning_rate=10, max_depth=4, n_estimators=250, score=0.47928994082840237, total=   0.4s\n",
      "[CV] learning_rate=10, max_depth=4, n_estimators=250 .................\n",
      "[CV]  learning_rate=10, max_depth=4, n_estimators=250, score=0.49940828402366866, total=   0.4s\n",
      "[CV] learning_rate=10, max_depth=4, n_estimators=250 .................\n",
      "[CV]  learning_rate=10, max_depth=4, n_estimators=250, score=0.580568720379147, total=   0.4s\n",
      "[CV] learning_rate=10, max_depth=4, n_estimators=300 .................\n",
      "[CV]  learning_rate=10, max_depth=4, n_estimators=300, score=0.47928994082840237, total=   0.4s\n",
      "[CV] learning_rate=10, max_depth=4, n_estimators=300 .................\n",
      "[CV]  learning_rate=10, max_depth=4, n_estimators=300, score=0.49940828402366866, total=   0.4s\n",
      "[CV] learning_rate=10, max_depth=4, n_estimators=300 .................\n",
      "[CV]  learning_rate=10, max_depth=4, n_estimators=300, score=0.580568720379147, total=   0.4s\n",
      "[CV] learning_rate=10, max_depth=4, n_estimators=350 .................\n",
      "[CV]  learning_rate=10, max_depth=4, n_estimators=350, score=0.47928994082840237, total=   0.5s\n",
      "[CV] learning_rate=10, max_depth=4, n_estimators=350 .................\n",
      "[CV]  learning_rate=10, max_depth=4, n_estimators=350, score=0.49940828402366866, total=   0.5s\n",
      "[CV] learning_rate=10, max_depth=4, n_estimators=350 .................\n",
      "[CV]  learning_rate=10, max_depth=4, n_estimators=350, score=0.580568720379147, total=   0.5s\n",
      "[CV] learning_rate=10, max_depth=4, n_estimators=400 .................\n",
      "[CV]  learning_rate=10, max_depth=4, n_estimators=400, score=0.47928994082840237, total=   0.6s\n",
      "[CV] learning_rate=10, max_depth=4, n_estimators=400 .................\n",
      "[CV]  learning_rate=10, max_depth=4, n_estimators=400, score=0.49940828402366866, total=   0.6s\n",
      "[CV] learning_rate=10, max_depth=4, n_estimators=400 .................\n",
      "[CV]  learning_rate=10, max_depth=4, n_estimators=400, score=0.580568720379147, total=   0.6s\n",
      "[CV] learning_rate=10, max_depth=5, n_estimators=10 ..................\n",
      "[CV]  learning_rate=10, max_depth=5, n_estimators=10, score=0.45207100591715976, total=   0.0s\n",
      "[CV] learning_rate=10, max_depth=5, n_estimators=10 ..................\n",
      "[CV]  learning_rate=10, max_depth=5, n_estimators=10, score=0.5112426035502958, total=   0.0s\n",
      "[CV] learning_rate=10, max_depth=5, n_estimators=10 ..................\n",
      "[CV]  learning_rate=10, max_depth=5, n_estimators=10, score=0.47511848341232227, total=   0.0s\n",
      "[CV] learning_rate=10, max_depth=5, n_estimators=50 ..................\n",
      "[CV]  learning_rate=10, max_depth=5, n_estimators=50, score=0.45207100591715976, total=   0.1s\n",
      "[CV] learning_rate=10, max_depth=5, n_estimators=50 ..................\n",
      "[CV]  learning_rate=10, max_depth=5, n_estimators=50, score=0.5112426035502958, total=   0.1s\n",
      "[CV] learning_rate=10, max_depth=5, n_estimators=50 ..................\n",
      "[CV]  learning_rate=10, max_depth=5, n_estimators=50, score=0.47511848341232227, total=   0.1s\n",
      "[CV] learning_rate=10, max_depth=5, n_estimators=100 .................\n",
      "[CV]  learning_rate=10, max_depth=5, n_estimators=100, score=0.45207100591715976, total=   0.2s\n",
      "[CV] learning_rate=10, max_depth=5, n_estimators=100 .................\n",
      "[CV]  learning_rate=10, max_depth=5, n_estimators=100, score=0.5112426035502958, total=   0.2s\n",
      "[CV] learning_rate=10, max_depth=5, n_estimators=100 .................\n",
      "[CV]  learning_rate=10, max_depth=5, n_estimators=100, score=0.47511848341232227, total=   0.3s\n",
      "[CV] learning_rate=10, max_depth=5, n_estimators=150 .................\n",
      "[CV]  learning_rate=10, max_depth=5, n_estimators=150, score=0.45207100591715976, total=   0.3s\n",
      "[CV] learning_rate=10, max_depth=5, n_estimators=150 .................\n",
      "[CV]  learning_rate=10, max_depth=5, n_estimators=150, score=0.5112426035502958, total=   0.3s\n",
      "[CV] learning_rate=10, max_depth=5, n_estimators=150 .................\n",
      "[CV]  learning_rate=10, max_depth=5, n_estimators=150, score=0.47511848341232227, total=   0.3s\n",
      "[CV] learning_rate=10, max_depth=5, n_estimators=200 .................\n",
      "[CV]  learning_rate=10, max_depth=5, n_estimators=200, score=0.45207100591715976, total=   0.4s\n",
      "[CV] learning_rate=10, max_depth=5, n_estimators=200 .................\n",
      "[CV]  learning_rate=10, max_depth=5, n_estimators=200, score=0.5112426035502958, total=   0.4s\n",
      "[CV] learning_rate=10, max_depth=5, n_estimators=200 .................\n",
      "[CV]  learning_rate=10, max_depth=5, n_estimators=200, score=0.47511848341232227, total=   0.4s\n",
      "[CV] learning_rate=10, max_depth=5, n_estimators=250 .................\n",
      "[CV]  learning_rate=10, max_depth=5, n_estimators=250, score=0.45207100591715976, total=   0.5s\n",
      "[CV] learning_rate=10, max_depth=5, n_estimators=250 .................\n",
      "[CV]  learning_rate=10, max_depth=5, n_estimators=250, score=0.5112426035502958, total=   0.5s\n",
      "[CV] learning_rate=10, max_depth=5, n_estimators=250 .................\n",
      "[CV]  learning_rate=10, max_depth=5, n_estimators=250, score=0.47511848341232227, total=   0.5s\n",
      "[CV] learning_rate=10, max_depth=5, n_estimators=300 .................\n",
      "[CV]  learning_rate=10, max_depth=5, n_estimators=300, score=0.45207100591715976, total=   0.6s\n",
      "[CV] learning_rate=10, max_depth=5, n_estimators=300 .................\n",
      "[CV]  learning_rate=10, max_depth=5, n_estimators=300, score=0.5112426035502958, total=   0.6s\n",
      "[CV] learning_rate=10, max_depth=5, n_estimators=300 .................\n",
      "[CV]  learning_rate=10, max_depth=5, n_estimators=300, score=0.47511848341232227, total=   0.7s\n",
      "[CV] learning_rate=10, max_depth=5, n_estimators=350 .................\n",
      "[CV]  learning_rate=10, max_depth=5, n_estimators=350, score=0.45207100591715976, total=   0.7s\n",
      "[CV] learning_rate=10, max_depth=5, n_estimators=350 .................\n",
      "[CV]  learning_rate=10, max_depth=5, n_estimators=350, score=0.5112426035502958, total=   0.7s\n",
      "[CV] learning_rate=10, max_depth=5, n_estimators=350 .................\n",
      "[CV]  learning_rate=10, max_depth=5, n_estimators=350, score=0.47511848341232227, total=   0.8s\n",
      "[CV] learning_rate=10, max_depth=5, n_estimators=400 .................\n",
      "[CV]  learning_rate=10, max_depth=5, n_estimators=400, score=0.45207100591715976, total=   0.8s\n",
      "[CV] learning_rate=10, max_depth=5, n_estimators=400 .................\n",
      "[CV]  learning_rate=10, max_depth=5, n_estimators=400, score=0.5112426035502958, total=   0.8s\n",
      "[CV] learning_rate=10, max_depth=5, n_estimators=400 .................\n",
      "[CV]  learning_rate=10, max_depth=5, n_estimators=400, score=0.47511848341232227, total=   0.8s\n"
     ]
    },
    {
     "name": "stderr",
     "output_type": "stream",
     "text": [
      "[Parallel(n_jobs=1)]: Done 675 out of 675 | elapsed:  2.7min finished\n"
     ]
    },
    {
     "name": "stdout",
     "output_type": "stream",
     "text": [
      "Best score: 0.7403314917127072\n",
      "Best parameter set: {'learning_rate': 0.01, 'max_depth': 4, 'n_estimators': 300}\n"
     ]
    }
   ],
   "source": [
    "param_grid = {'n_estimators': [10,50,100,150,200,250,300,350,400],\n",
    "             'learning_rate': [0.001, 0.01, 0.1, 1, 10],\n",
    "             'max_depth': [1,2,3,4,5]}\n",
    "gb_tree_model = GridSearchCV(GradientBoostingClassifier(random_state=0),param_grid,refit=True,verbose=4)\n",
    "gb_tree_model = gb_tree_model.fit(X_train_pca, y_train)\n",
    "print(\"Best score: %s\" % (gb_tree_model.best_score_))\n",
    "print(\"Best parameter set: %s\" % (gb_tree_model.best_params_))"
   ]
  },
  {
   "cell_type": "code",
   "execution_count": 130,
   "metadata": {},
   "outputs": [
    {
     "name": "stdout",
     "output_type": "stream",
     "text": [
      "Gradient Boosted Tree CV Accuracy: 69.32% (+/- 16.90%)\n"
     ]
    }
   ],
   "source": [
    "gb_tree_model = GradientBoostingClassifier(n_estimators=300, learning_rate=0.01, max_depth=4, random_state=0)\n",
    "gb_tree_scores = cross_val_score(gb_tree_model, X_pca, y, cv=10)\n",
    "print(\"Gradient Boosted Tree CV Accuracy: %0.2f%% (+/- %0.2f%%)\" % (gb_tree_scores.mean()*100, gb_tree_scores.std() * 2*100))"
   ]
  },
  {
   "cell_type": "markdown",
   "metadata": {},
   "source": [
    "## Naive Bayes"
   ]
  },
  {
   "cell_type": "code",
   "execution_count": 131,
   "metadata": {
    "scrolled": true
   },
   "outputs": [
    {
     "name": "stdout",
     "output_type": "stream",
     "text": [
      "Naive Bayes CV Accuracy: 62.75% (+/- 16.82%)\n"
     ]
    }
   ],
   "source": [
    "naive_bayes_model = GaussianNB()\n",
    "naive_bayes_scores = cross_val_score(naive_bayes_model, X_pca, y, cv=10)\n",
    "print(\"Naive Bayes CV Accuracy: %0.2f%% (+/- %0.2f%%)\" % (naive_bayes_scores.mean()*100, naive_bayes_scores.std() * 2*100))"
   ]
  },
  {
   "cell_type": "code",
   "execution_count": null,
   "metadata": {},
   "outputs": [],
   "source": []
  }
 ],
 "metadata": {
  "kernelspec": {
   "display_name": "Python [default]",
   "language": "python",
   "name": "python3"
  },
  "language_info": {
   "codemirror_mode": {
    "name": "ipython",
    "version": 3
   },
   "file_extension": ".py",
   "mimetype": "text/x-python",
   "name": "python",
   "nbconvert_exporter": "python",
   "pygments_lexer": "ipython3",
   "version": "3.6.3"
  }
 },
 "nbformat": 4,
 "nbformat_minor": 2
}
