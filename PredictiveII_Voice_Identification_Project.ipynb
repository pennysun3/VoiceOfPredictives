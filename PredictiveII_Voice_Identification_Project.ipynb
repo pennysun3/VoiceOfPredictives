{
 "cells": [
  {
   "cell_type": "markdown",
   "metadata": {},
   "source": [
    "# Predictive II Voice Identification Project\n",
    "\n",
    "<a name=\"top\"></a>\n",
    "- ### Data Preperation\n",
    "    + [Standardize](#STD)\n",
    "    + [PCA](#PCA)\n",
    "<br>\n",
    "<br>\n",
    "- ### Models\n",
    "    + [Logistic Regression](#LR)\n",
    "    + [Neural Network](#NNET)\n",
    "    + [CART](#CART)\n",
    "    + [KNN](#KNN)\n",
    "    + [SVM](#SVM)\n",
    "    + [Boosted Tree](#BT)\n",
    "    + [Random Forest](#RF)\n",
    "    + [XGBoost](#XGB)\n",
    "    + [GAM](#GAM)\n",
    "    + [Naive Bayes](#NB)\n",
    "<br>\n",
    "<br>\n",
    "- ### Evaluation\n",
    "    + [Results](#RESULTS)"
   ]
  },
  {
   "cell_type": "code",
   "execution_count": 13,
   "metadata": {},
   "outputs": [],
   "source": [
    "import os\n",
    "path=os.getcwd()\n",
    "os.chdir(path)"
   ]
  },
  {
   "cell_type": "code",
   "execution_count": 186,
   "metadata": {},
   "outputs": [
    {
     "name": "stdout",
     "output_type": "stream",
     "text": [
      "The watermark extension is already loaded. To reload it, use:\n",
      "  %reload_ext watermark\n",
      "VoiceGroup 2018-03-09 22:19:21 \n",
      "\n",
      "CPython 3.6.3\n",
      "IPython 6.1.0\n",
      "\n",
      "numpy 1.13.3\n",
      "pandas 0.20.3\n",
      "xgboost 0.4\n",
      "sklearn 0.19.1\n",
      "matplotlib 2.1.0\n",
      "pygam 0.4.0\n"
     ]
    }
   ],
   "source": [
    "from scipy import stats, integrate\n",
    "import matplotlib.pyplot as plt\n",
    "import seaborn as sns\n",
    "import pandas as pd\n",
    "import numpy as np\n",
    "from matplotlib import pyplot as plt\n",
    "from sklearn.decomposition import PCA\n",
    "from sklearn.model_selection import cross_val_score, KFold, train_test_split, GridSearchCV\n",
    "from sklearn.linear_model import LogisticRegression\n",
    "from sklearn.neural_network import MLPClassifier\n",
    "from sklearn import tree\n",
    "from sklearn import neighbors\n",
    "from sklearn.svm import SVC\n",
    "from pygam import LogisticGAM\n",
    "from sklearn.naive_bayes import GaussianNB\n",
    "from sklearn.ensemble import GradientBoostingClassifier\n",
    "from sklearn.ensemble import RandomForestClassifier\n",
    "\n",
    "from sklearn.metrics import accuracy_score\n",
    "from sklearn.metrics import roc_auc_score\n",
    "\n",
    "\n",
    "\n",
    "import xgboost as xgb\n",
    "from xgboost.sklearn import XGBClassifier\n",
    "from xgboost.sklearn import XGBRegressor\n",
    "from xgboost import plot_importance\n",
    "\n",
    "import pickle\n",
    "\n",
    "%matplotlib inline\n",
    "%load_ext watermark\n",
    "%watermark -a 'VoiceGroup' -d -t -v -p numpy,pandas,xgboost,sklearn,matplotlib,pygam"
   ]
  },
  {
   "cell_type": "markdown",
   "metadata": {},
   "source": [
    "\n",
    "## Data Preparation"
   ]
  },
  {
   "cell_type": "markdown",
   "metadata": {},
   "source": [
    "<a name=\"STD\"></a>\n",
    "### Standardize\n",
    "\n",
    "[Return to top](#top)"
   ]
  },
  {
   "cell_type": "code",
   "execution_count": 15,
   "metadata": {
    "collapsed": true
   },
   "outputs": [],
   "source": [
    "def standardize(column):\n",
    "    return (column - np.mean(column))/np.std(column)\n",
    "\n",
    "voice = pd.read_csv(\"voice.csv\")\n",
    "y = voice.label\n",
    "voice = voice.drop(labels = \"label\", axis = 1)\n",
    "voice = voice.apply(standardize)"
   ]
  },
  {
   "cell_type": "markdown",
   "metadata": {},
   "source": [
    "<a name=\"PCA\"></a>\n",
    "### PCA\n",
    "\n",
    "[Return to top](#top)"
   ]
  },
  {
   "cell_type": "code",
   "execution_count": 16,
   "metadata": {},
   "outputs": [
    {
     "data": {
      "text/plain": [
       "PCA(copy=True, iterated_power='auto', n_components=20, random_state=1,\n",
       "  svd_solver='auto', tol=0.0, whiten=False)"
      ]
     },
     "execution_count": 16,
     "metadata": {},
     "output_type": "execute_result"
    }
   ],
   "source": [
    "pca = PCA(n_components=20,random_state=1)\n",
    "pca.fit(voice) "
   ]
  },
  {
   "cell_type": "code",
   "execution_count": 17,
   "metadata": {},
   "outputs": [
    {
     "data": {
      "image/png": "[encoded data removed]",
      "text/plain": [
       "<matplotlib.figure.Figure at 0x1a16c97860>"
      ]
     },
     "metadata": {},
     "output_type": "display_data"
    }
   ],
   "source": [
    "l = pca.explained_variance_ratio_\n",
    "plt.scatter(y=l,x=range(20))\n",
    "plt.show()"
   ]
  },
  {
   "cell_type": "code",
   "execution_count": 18,
   "metadata": {},
   "outputs": [
    {
     "name": "stdout",
     "output_type": "stream",
     "text": [
      "the first six principle components could explain 0.855256063608 variation\n"
     ]
    }
   ],
   "source": [
    "#Choosing the first six principle components based on the plot above\n",
    "print(\"the first six principle components could explain %s variation\" % sum(l[:6]))\n",
    "pca = PCA(n_components=6,random_state=1)\n",
    "pca.fit(voice)\n",
    "voice_pc = pd.DataFrame(pca.transform(voice),columns=[\"PC1\",\"PC2\",\"PC3\",\"PC4\",\"PC5\",\"PC6\"])"
   ]
  },
  {
   "cell_type": "markdown",
   "metadata": {},
   "source": [
    "\n",
    "## Models"
   ]
  },
  {
   "cell_type": "markdown",
   "metadata": {},
   "source": [
    "<a name=\"LR\"></a>\n",
    "### Logistic Regression\n",
    "[Return to top](#top)"
   ]
  },
  {
   "cell_type": "markdown",
   "metadata": {},
   "source": [
    "##### Without PC"
   ]
  },
  {
   "cell_type": "code",
   "execution_count": 31,
   "metadata": {},
   "outputs": [
    {
     "data": {
      "text/plain": [
       "0.95864413209280053"
      ]
     },
     "execution_count": 31,
     "metadata": {},
     "output_type": "execute_result"
    }
   ],
   "source": [
    "lr = LogisticRegression()\n",
    "lr.fit(voice,y)\n",
    "kfold = KFold(n_splits=10,random_state=1)\n",
    "lr_score_pc=np.mean(cross_val_score(lr,X=voice,y=y,cv=kfold))\n",
    "lr_score_pc"
   ]
  },
  {
   "cell_type": "markdown",
   "metadata": {},
   "source": [
    "##### With PC"
   ]
  },
  {
   "cell_type": "code",
   "execution_count": 32,
   "metadata": {},
   "outputs": [
    {
     "data": {
      "text/plain": [
       "0.84406620612546424"
      ]
     },
     "execution_count": 32,
     "metadata": {},
     "output_type": "execute_result"
    }
   ],
   "source": [
    "lr = LogisticRegression()\n",
    "lr.fit(voice_pc,y)\n",
    "kfold = KFold(n_splits=10,random_state=1)\n",
    "lr_score_npc=np.mean(cross_val_score(lr,X=voice_pc,y=y,cv=kfold))\n",
    "lr_score_npc"
   ]
  },
  {
   "cell_type": "markdown",
   "metadata": {},
   "source": [
    "<a name=\"NNET\"></a>\n",
    "## Neural Network\n",
    "\n",
    "[Return to top](#top)"
   ]
  },
  {
   "cell_type": "markdown",
   "metadata": {},
   "source": [
    "#### Without PC"
   ]
  },
  {
   "cell_type": "code",
   "execution_count": null,
   "metadata": {
    "collapsed": true
   },
   "outputs": [],
   "source": [
    "# gird search\n",
    "alphaList = [0.0001,0.001,0.01,0.1,1,10]\n",
    "numNodesList = [20,30,40,50,60,70,80,90,100]\n",
    "solverList = [\"lbfgs\",\"adam\"]\n",
    "ccr = pd.DataFrame(({\"alpha\":[],\"numNodes\":[],\"solver\":[]\"score\":[]}))\n",
    "\n",
    "kfold = KFold(n_splits=10,random_state=1)\n",
    "for alpha in alphaList:\n",
    "    for numNodes in numNodesList:\n",
    "        for solver in solverList:\n",
    "            nn = MLPClassifier(hidden_layer_sizes=numNodes, activation=\"logistic\", alpha=alpha, solver=solver, random_state=1)\n",
    "            nn.fit(X=voice,y=y)\n",
    "            scores = cross_val_score(nn, X=voice, y=y, cv=kfold)\n",
    "            ccr = ccr.append(pd.Series((alpha, numNodes, solver, scores.mean()), index=[\"alpha\", \"numNodes\",\"solver\",\"score\"]), ignore_index=True)\n",
    "        print(str(alpha)+\" \"+str(numNodes)+\" finished\")\n",
    "\n",
    "ccr\n",
    "print(ccr[ccr.score==ccr.score.max()])"
   ]
  },
  {
   "cell_type": "markdown",
   "metadata": {},
   "source": [
    "Best model param: alpha = 0.0001, hidden_layer_sizes=70, solver=\"adam\""
   ]
  },
  {
   "cell_type": "code",
   "execution_count": 33,
   "metadata": {},
   "outputs": [
    {
     "data": {
      "text/plain": [
       "0.96021642774427973"
      ]
     },
     "execution_count": 33,
     "metadata": {},
     "output_type": "execute_result"
    }
   ],
   "source": [
    "# best model\n",
    "kfold = KFold(n_splits=10,random_state=1)\n",
    "nn = MLPClassifier(hidden_layer_sizes=70,activation=\"logistic\",alpha=0.0001,solver=\"adam\",random_state=1)\n",
    "nn.fit(X=voice,y=y)\n",
    "nnet_score_pc=np.mean(cross_val_score(nn, X=voice, y=y, cv=kfold))\n",
    "nnet_score_pc"
   ]
  },
  {
   "cell_type": "markdown",
   "metadata": {},
   "source": [
    "#### With PC"
   ]
  },
  {
   "cell_type": "code",
   "execution_count": null,
   "metadata": {
    "collapsed": true
   },
   "outputs": [],
   "source": [
    "# gird search\n",
    "alphaList = [0.0001,0.001,0.01,0.1,1,10]\n",
    "numNodesList = [20,30,40,50,60,70,80,90,100]\n",
    "solverList = [\"lbfgs\",\"adam\"]\n",
    "ccr = pd.DataFrame(({\"alpha\":[],\"numNodes\":[],\"solver\":[],\"score\":[]}))\n",
    "\n",
    "kfold = KFold(n_splits=10,random_state=1)\n",
    "for alpha in alphaList:\n",
    "    for numNodes in numNodesList:\n",
    "        for solver in solverList:\n",
    "            nn = MLPClassifier(hidden_layer_sizes=numNodes, activation=\"logistic\", alpha=alpha, solver=solver, random_state=1)\n",
    "            nn.fit(X=voice_pc,y=y)\n",
    "            scores = cross_val_score(nn, X=voice_pc, y=y, cv=kfold)\n",
    "            ccr = ccr.append(pd.Series((alpha, numNodes, solver, scores.mean()), index=[\"alpha\", \"numNodes\",\"solver\" ,\"score\"]), ignore_index=True)\n",
    "        print(str(alpha)+\" \"+str(numNodes)+\" finished\")\n",
    "\n",
    "print(ccr)\n",
    "print(ccr[ccr.score==ccr.score.max()])"
   ]
  },
  {
   "cell_type": "markdown",
   "metadata": {},
   "source": [
    "Best model param: alpha=1, hidden_layer_size=30, solver=\"lbfgs\""
   ]
  },
  {
   "cell_type": "code",
   "execution_count": 34,
   "metadata": {},
   "outputs": [
    {
     "data": {
      "text/plain": [
       "0.93181128459050433"
      ]
     },
     "execution_count": 34,
     "metadata": {},
     "output_type": "execute_result"
    }
   ],
   "source": [
    "# Best model\n",
    "kfold = KFold(n_splits=10,random_state=1)\n",
    "nn = MLPClassifier(hidden_layer_sizes=30,activation=\"logistic\",alpha=1,solver=\"lbfgs\",random_state=1)\n",
    "nn.fit(X=voice_pc,y=y)\n",
    "nnet_score_npc=np.mean(cross_val_score(nn, X=voice_pc, y=y, cv=kfold))\n",
    "nnet_score_npc"
   ]
  },
  {
   "cell_type": "markdown",
   "metadata": {},
   "source": [
    "<a name=\"CART\"></a>\n",
    "## CART\n",
    "[Return to top](#top)"
   ]
  },
  {
   "cell_type": "markdown",
   "metadata": {
    "collapsed": true
   },
   "source": [
    "#### Without PC"
   ]
  },
  {
   "cell_type": "code",
   "execution_count": null,
   "metadata": {
    "collapsed": true
   },
   "outputs": [],
   "source": [
    "# grid search\n",
    "leafSizeList = [1,3,5,10,15,20]\n",
    "depthList = [3,5,8,10,15]\n",
    "ccr = pd.DataFrame(({\"leafSize\":[],\"depth\":[],\"score\":[]}))\n",
    "\n",
    "kfold = KFold(n_splits=10,random_state=1)\n",
    "for leafSize in leafSizeList:\n",
    "    for depth in depthList:\n",
    "        ctree = tree.DecisionTreeClassifier(min_samples_leaf=leafSize, max_depth=depth, random_state=1)\n",
    "        ctree.fit(voice, y)\n",
    "        scores = cross_val_score(ctree, X=voice, y=y, cv=kfold)\n",
    "        ccr = ccr.append(pd.Series((leafSize, depth, scores.mean()), index=[\"leafSize\", \"depth\", \"score\"]), ignore_index=True)\n",
    "        print(str(leafSize)+\" \"+str(depth)+\" finished\")\n",
    "\n",
    "ccr\n",
    "print(ccr[ccr.score==ccr.score.max()])"
   ]
  },
  {
   "cell_type": "markdown",
   "metadata": {},
   "source": [
    "Best param: depth =3; min_samples_leaf = 5 / 10 / 15 / 20"
   ]
  },
  {
   "cell_type": "code",
   "execution_count": 223,
   "metadata": {},
   "outputs": [
    {
     "data": {
      "text/plain": [
       "0.95484366888951"
      ]
     },
     "execution_count": 223,
     "metadata": {},
     "output_type": "execute_result"
    }
   ],
   "source": [
    "# Best model\n",
    "kfold = KFold(n_splits=10,random_state=1)\n",
    "ctree = tree.DecisionTreeClassifier(min_samples_leaf=5, max_depth=3, random_state=1)\n",
    "nn.fit(X=voice,y=y)\n",
    "cart_score_pc=np.mean(cross_val_score(nn, X=voice, y=y, cv=kfold))\n",
    "cart_score_pc"
   ]
  },
  {
   "cell_type": "markdown",
   "metadata": {},
   "source": [
    "#### With PC"
   ]
  },
  {
   "cell_type": "code",
   "execution_count": null,
   "metadata": {
    "collapsed": true
   },
   "outputs": [],
   "source": [
    "# grid search\n",
    "leafSizeList = [1,3,5,10,15,20]\n",
    "depthList = [3,5,8,10,15]\n",
    "ccr = pd.DataFrame(({\"leafSize\":[],\"depth\":[],\"score\":[]}))\n",
    "\n",
    "kfold = KFold(n_splits=10,random_state=1)\n",
    "for leafSize in leafSizeList:\n",
    "    for depth in depthList:\n",
    "        ctree = tree.DecisionTreeClassifier(min_samples_leaf=leafSize, max_depth=depth, random_state=1)\n",
    "        ctree.fit(voice_pc, y)\n",
    "        scores = cross_val_score(ctree, X=voice_pc, y=y, cv=kfold)\n",
    "        ccr = ccr.append(pd.Series((leafSize, depth, scores.mean()), index=[\"leafSize\", \"depth\", \"score\"]), ignore_index=True)\n",
    "        print(str(leafSize)+\" \"+str(depth)+\" finished\")\n",
    "\n",
    "ccr\n",
    "print(ccr[ccr.score==ccr.score.max()])"
   ]
  },
  {
   "cell_type": "markdown",
   "metadata": {},
   "source": [
    "Best param: depth =10; min_samples_leaf = 1"
   ]
  },
  {
   "cell_type": "code",
   "execution_count": 224,
   "metadata": {},
   "outputs": [
    {
     "data": {
      "text/plain": [
       "0.93181128459050433"
      ]
     },
     "execution_count": 224,
     "metadata": {},
     "output_type": "execute_result"
    }
   ],
   "source": [
    "# Best model\n",
    "kfold = KFold(n_splits=10,random_state=1)\n",
    "ctree = tree.DecisionTreeClassifier(min_samples_leaf=1, max_depth=10, random_state=1)\n",
    "nn.fit(X=voice_pc,y=y)\n",
    "cart_score_npc=np.mean(cross_val_score(nn, X=voice_pc, y=y, cv=kfold))\n",
    "cart_score_npc"
   ]
  },
  {
   "cell_type": "markdown",
   "metadata": {},
   "source": [
    "<a name=\"KNN\"></a>\n",
    "## KNN\n",
    "[Return to top](#top)"
   ]
  },
  {
   "cell_type": "markdown",
   "metadata": {
    "collapsed": true
   },
   "source": [
    "#### Without PC"
   ]
  },
  {
   "cell_type": "code",
   "execution_count": null,
   "metadata": {
    "collapsed": true
   },
   "outputs": [],
   "source": [
    "# Grid search\n",
    "nnList = [5,10,15,20]\n",
    "weightsList = [\"uniform\",\"distance\"]\n",
    "ccr = pd.DataFrame(({\"nn\":[],\"weights\":[],\"score\":[]}))\n",
    "\n",
    "kfold = KFold(n_splits=10,random_state=1)\n",
    "for nn in nnList:\n",
    "    for weights in weightsList:\n",
    "        knn = neighbors.KNeighborsClassifier(n_neighbors=nn, weights=weights)\n",
    "        knn.fit(X=voice, y=y)\n",
    "        scores = cross_val_score(knn, X=voice, y=y, cv=kfold)\n",
    "        ccr = ccr.append(pd.Series((nn, weights, scores.mean()), index=[\"nn\", \"weights\", \"score\"]), ignore_index=True)\n",
    "        print(str(nn)+\" \"+str(weights)+\" finished\")\n",
    "\n",
    "print(ccr)\n",
    "print(ccr[ccr.score==ccr.score.max()])"
   ]
  },
  {
   "cell_type": "markdown",
   "metadata": {},
   "source": [
    "Best param: nn =3; weights=\"distance\""
   ]
  },
  {
   "cell_type": "code",
   "execution_count": 225,
   "metadata": {},
   "outputs": [
    {
     "data": {
      "text/plain": [
       "0.93748253004831683"
      ]
     },
     "execution_count": 225,
     "metadata": {},
     "output_type": "execute_result"
    }
   ],
   "source": [
    "# Best model\n",
    "kfold = KFold(n_splits=10,random_state=1)\n",
    "knn = neighbors.KNeighborsClassifier(n_neighbors=3, weights=\"distance\")\n",
    "knn.fit(X=voice,y=y)\n",
    "knn_score_pc=np.mean(cross_val_score(knn, X=voice, y=y, cv=kfold))\n",
    "knn_score_pc"
   ]
  },
  {
   "cell_type": "markdown",
   "metadata": {},
   "source": [
    "#### With PC"
   ]
  },
  {
   "cell_type": "code",
   "execution_count": null,
   "metadata": {
    "collapsed": true
   },
   "outputs": [],
   "source": [
    "# Grid search\n",
    "nnList = [5,10,15,20]\n",
    "weightsList = [\"uniform\",\"distance\"]\n",
    "ccr = pd.DataFrame(({\"nn\":[],\"weights\":[],\"score\":[]}))\n",
    "\n",
    "kfold = KFold(n_splits=10,random_state=1)\n",
    "for nn in nnList:\n",
    "    for weights in weightsList:\n",
    "        knn = neighbors.KNeighborsClassifier(n_neighbors=nn, weights=weights)\n",
    "        knn.fit(X=voice_pc, y=y)\n",
    "        scores = cross_val_score(knn, X=voice_pc, y=y, cv=kfold)\n",
    "        ccr = ccr.append(pd.Series((nn, weights, scores.mean()), index=[\"nn\", \"weights\", \"score\"]), ignore_index=True)\n",
    "        print(str(nn)+\" \"+str(weights)+\" finished\")\n",
    "\n",
    "print(ccr)\n",
    "print(ccr[ccr.score==ccr.score.max()])"
   ]
  },
  {
   "cell_type": "markdown",
   "metadata": {},
   "source": [
    "Best param: nn =15; weights=\"distance\""
   ]
  },
  {
   "cell_type": "code",
   "execution_count": 226,
   "metadata": {},
   "outputs": [
    {
     "data": {
      "text/plain": [
       "0.90244479495268126"
      ]
     },
     "execution_count": 226,
     "metadata": {},
     "output_type": "execute_result"
    }
   ],
   "source": [
    "# Best model\n",
    "kfold = KFold(n_splits=10,random_state=1)\n",
    "knn = neighbors.KNeighborsClassifier(n_neighbors=15, weights=\"distance\")\n",
    "knn.fit(X=voice_pc,y=y)\n",
    "knn_score_npc=np.mean(cross_val_score(knn, X=voice_pc, y=y, cv=kfold))\n",
    "knn_score_npc"
   ]
  },
  {
   "cell_type": "markdown",
   "metadata": {},
   "source": [
    "<a name=\"SVM\"></a>\n",
    "## SVM\n",
    "\n",
    "[Return to top](#top)"
   ]
  },
  {
   "cell_type": "markdown",
   "metadata": {
    "collapsed": true
   },
   "source": [
    "#### Without PC"
   ]
  },
  {
   "cell_type": "code",
   "execution_count": 42,
   "metadata": {},
   "outputs": [
    {
     "name": "stdout",
     "output_type": "stream",
     "text": [
      "Fitting 3 folds for each of 28 candidates, totalling 84 fits\n",
      "[CV] C=0.001, kernel=linear ..........................................\n",
      "[CV] . C=0.001, kernel=linear, score=0.8011363636363636, total=   0.1s\n",
      "[CV] C=0.001, kernel=linear ..........................................\n"
     ]
    },
    {
     "name": "stderr",
     "output_type": "stream",
     "text": [
      "[Parallel(n_jobs=1)]: Done   1 out of   1 | elapsed:    0.2s remaining:    0.0s\n"
     ]
    },
    {
     "name": "stdout",
     "output_type": "stream",
     "text": [
      "[CV] . C=0.001, kernel=linear, score=0.9715909090909091, total=   0.3s\n",
      "[CV] C=0.001, kernel=linear ..........................................\n"
     ]
    },
    {
     "name": "stderr",
     "output_type": "stream",
     "text": [
      "[Parallel(n_jobs=1)]: Done   2 out of   2 | elapsed:    0.7s remaining:    0.0s\n"
     ]
    },
    {
     "name": "stdout",
     "output_type": "stream",
     "text": [
      "[CV] . C=0.001, kernel=linear, score=0.9526515151515151, total=   0.1s\n",
      "[CV] C=0.001, kernel=poly ............................................\n"
     ]
    },
    {
     "name": "stderr",
     "output_type": "stream",
     "text": [
      "[Parallel(n_jobs=1)]: Done   3 out of   3 | elapsed:    0.9s remaining:    0.0s\n"
     ]
    },
    {
     "name": "stdout",
     "output_type": "stream",
     "text": [
      "[CV] ... C=0.001, kernel=poly, score=0.5208333333333334, total=   0.2s\n",
      "[CV] C=0.001, kernel=poly ............................................\n",
      "[CV] ... C=0.001, kernel=poly, score=0.5397727272727273, total=   0.2s\n",
      "[CV] C=0.001, kernel=poly ............................................\n",
      "[CV] ... C=0.001, kernel=poly, score=0.5293560606060606, total=   0.4s\n",
      "[CV] C=0.001, kernel=rbf .............................................\n",
      "[CV] .... C=0.001, kernel=rbf, score=0.6837121212121212, total=   0.4s\n",
      "[CV] C=0.001, kernel=rbf .............................................\n",
      "[CV] .... C=0.001, kernel=rbf, score=0.9507575757575758, total=   0.5s\n",
      "[CV] C=0.001, kernel=rbf .............................................\n",
      "[CV] .... C=0.001, kernel=rbf, score=0.8314393939393939, total=   0.4s\n",
      "[CV] C=0.001, kernel=sigmoid .........................................\n",
      "[CV]  C=0.001, kernel=sigmoid, score=0.7140151515151515, total=   0.3s\n",
      "[CV] C=0.001, kernel=sigmoid .........................................\n",
      "[CV]  C=0.001, kernel=sigmoid, score=0.9621212121212122, total=   0.3s\n",
      "[CV] C=0.001, kernel=sigmoid .........................................\n",
      "[CV]  C=0.001, kernel=sigmoid, score=0.6448863636363636, total=   0.4s\n",
      "[CV] C=0.01, kernel=linear ...........................................\n",
      "[CV] .. C=0.01, kernel=linear, score=0.9214015151515151, total=   0.0s\n",
      "[CV] C=0.01, kernel=linear ...........................................\n",
      "[CV] .. C=0.01, kernel=linear, score=0.9791666666666666, total=   0.0s\n",
      "[CV] C=0.01, kernel=linear ...........................................\n",
      "[CV] .. C=0.01, kernel=linear, score=0.9715909090909091, total=   0.0s\n",
      "[CV] C=0.01, kernel=poly .............................................\n",
      "[CV] .... C=0.01, kernel=poly, score=0.5511363636363636, total=   0.1s\n",
      "[CV] C=0.01, kernel=poly .............................................\n",
      "[CV] .... C=0.01, kernel=poly, score=0.9564393939393939, total=   0.2s\n",
      "[CV] C=0.01, kernel=poly .............................................\n",
      "[CV] .... C=0.01, kernel=poly, score=0.7054924242424242, total=   0.1s\n",
      "[CV] C=0.01, kernel=rbf ..............................................\n",
      "[CV] ..... C=0.01, kernel=rbf, score=0.7490530303030303, total=   0.2s\n",
      "[CV] C=0.01, kernel=rbf ..............................................\n",
      "[CV] ..... C=0.01, kernel=rbf, score=0.9611742424242424, total=   0.3s\n",
      "[CV] C=0.01, kernel=rbf ..............................................\n",
      "[CV] ..... C=0.01, kernel=rbf, score=0.8873106060606061, total=   0.2s\n",
      "[CV] C=0.01, kernel=sigmoid ..........................................\n",
      "[CV] . C=0.01, kernel=sigmoid, score=0.7613636363636364, total=   0.2s\n",
      "[CV] C=0.01, kernel=sigmoid ..........................................\n",
      "[CV] . C=0.01, kernel=sigmoid, score=0.9602272727272727, total=   0.3s\n",
      "[CV] C=0.01, kernel=sigmoid ..........................................\n",
      "[CV] . C=0.01, kernel=sigmoid, score=0.9242424242424242, total=   0.2s\n",
      "[CV] C=0.1, kernel=linear ............................................\n",
      "[CV] ... C=0.1, kernel=linear, score=0.9384469696969697, total=   0.0s\n",
      "[CV] C=0.1, kernel=linear ............................................\n",
      "[CV] ... C=0.1, kernel=linear, score=0.9772727272727273, total=   0.0s\n",
      "[CV] C=0.1, kernel=linear ............................................\n",
      "[CV] ... C=0.1, kernel=linear, score=0.9763257575757576, total=   0.0s\n",
      "[CV] C=0.1, kernel=poly ..............................................\n",
      "[CV] ..... C=0.1, kernel=poly, score=0.7291666666666666, total=   0.1s\n",
      "[CV] C=0.1, kernel=poly ..............................................\n",
      "[CV] ..... C=0.1, kernel=poly, score=0.9507575757575758, total=   0.1s\n",
      "[CV] C=0.1, kernel=poly ..............................................\n",
      "[CV] ..... C=0.1, kernel=poly, score=0.9232954545454546, total=   0.1s\n",
      "[CV] C=0.1, kernel=rbf ...............................................\n",
      "[CV] ...... C=0.1, kernel=rbf, score=0.9166666666666666, total=   0.1s\n",
      "[CV] C=0.1, kernel=rbf ...............................................\n",
      "[CV] ...... C=0.1, kernel=rbf, score=0.9734848484848485, total=   0.1s\n",
      "[CV] C=0.1, kernel=rbf ...............................................\n",
      "[CV] ...... C=0.1, kernel=rbf, score=0.9564393939393939, total=   0.1s\n",
      "[CV] C=0.1, kernel=sigmoid ...........................................\n",
      "[CV] .. C=0.1, kernel=sigmoid, score=0.7926136363636364, total=   0.1s\n",
      "[CV] C=0.1, kernel=sigmoid ...........................................\n",
      "[CV] .. C=0.1, kernel=sigmoid, score=0.8579545454545454, total=   0.1s\n",
      "[CV] C=0.1, kernel=sigmoid ...........................................\n",
      "[CV] .. C=0.1, kernel=sigmoid, score=0.7708333333333334, total=   0.1s\n",
      "[CV] C=1, kernel=linear ..............................................\n",
      "[CV] ..... C=1, kernel=linear, score=0.9365530303030303, total=   0.0s\n",
      "[CV] C=1, kernel=linear ..............................................\n",
      "[CV] ...... C=1, kernel=linear, score=0.978219696969697, total=   0.0s\n",
      "[CV] C=1, kernel=linear ..............................................\n",
      "[CV] ..... C=1, kernel=linear, score=0.9706439393939394, total=   0.0s\n",
      "[CV] C=1, kernel=poly ................................................\n",
      "[CV] ....... C=1, kernel=poly, score=0.8494318181818182, total=   0.1s\n",
      "[CV] C=1, kernel=poly ................................................\n",
      "[CV] ....... C=1, kernel=poly, score=0.9573863636363636, total=   0.1s\n",
      "[CV] C=1, kernel=poly ................................................\n",
      "[CV] ....... C=1, kernel=poly, score=0.9403409090909091, total=   0.1s\n",
      "[CV] C=1, kernel=rbf .................................................\n",
      "[CV] ........ C=1, kernel=rbf, score=0.9403409090909091, total=   0.1s\n",
      "[CV] C=1, kernel=rbf .................................................\n",
      "[CV] ........ C=1, kernel=rbf, score=0.9725378787878788, total=   0.1s\n",
      "[CV] C=1, kernel=rbf .................................................\n",
      "[CV] ........ C=1, kernel=rbf, score=0.9668560606060606, total=   0.1s\n",
      "[CV] C=1, kernel=sigmoid .............................................\n",
      "[CV] .... C=1, kernel=sigmoid, score=0.7518939393939394, total=   0.1s\n",
      "[CV] C=1, kernel=sigmoid .............................................\n",
      "[CV] .... C=1, kernel=sigmoid, score=0.9119318181818182, total=   0.1s\n",
      "[CV] C=1, kernel=sigmoid .............................................\n",
      "[CV] .... C=1, kernel=sigmoid, score=0.6808712121212122, total=   0.1s\n",
      "[CV] C=10, kernel=linear .............................................\n",
      "[CV] .... C=10, kernel=linear, score=0.9346590909090909, total=   0.1s\n",
      "[CV] C=10, kernel=linear .............................................\n",
      "[CV] .... C=10, kernel=linear, score=0.9763257575757576, total=   0.1s\n",
      "[CV] C=10, kernel=linear .............................................\n",
      "[CV] .... C=10, kernel=linear, score=0.9678030303030303, total=   0.1s\n",
      "[CV] C=10, kernel=poly ...............................................\n",
      "[CV] ...... C=10, kernel=poly, score=0.9015151515151515, total=   0.1s\n",
      "[CV] C=10, kernel=poly ...............................................\n",
      "[CV] ...... C=10, kernel=poly, score=0.9611742424242424, total=   0.1s\n",
      "[CV] C=10, kernel=poly ...............................................\n",
      "[CV] ...... C=10, kernel=poly, score=0.9507575757575758, total=   0.0s\n",
      "[CV] C=10, kernel=rbf ................................................\n",
      "[CV] ....... C=10, kernel=rbf, score=0.9346590909090909, total=   0.0s\n",
      "[CV] C=10, kernel=rbf ................................................\n",
      "[CV] ....... C=10, kernel=rbf, score=0.9640151515151515, total=   0.0s\n",
      "[CV] C=10, kernel=rbf ................................................\n",
      "[CV] ....... C=10, kernel=rbf, score=0.9554924242424242, total=   0.1s\n",
      "[CV] C=10, kernel=sigmoid ............................................\n",
      "[CV] ... C=10, kernel=sigmoid, score=0.7443181818181818, total=   0.1s\n",
      "[CV] C=10, kernel=sigmoid ............................................\n",
      "[CV] ... C=10, kernel=sigmoid, score=0.7982954545454546, total=   0.1s\n",
      "[CV] C=10, kernel=sigmoid ............................................\n",
      "[CV] ... C=10, kernel=sigmoid, score=0.6676136363636364, total=   0.1s\n",
      "[CV] C=100, kernel=linear ............................................\n",
      "[CV] ... C=100, kernel=linear, score=0.9346590909090909, total=   0.7s\n",
      "[CV] C=100, kernel=linear ............................................\n"
     ]
    },
    {
     "name": "stdout",
     "output_type": "stream",
     "text": [
      "[CV] ... C=100, kernel=linear, score=0.9772727272727273, total=   0.8s\n",
      "[CV] C=100, kernel=linear ............................................\n",
      "[CV] ... C=100, kernel=linear, score=0.9678030303030303, total=   1.0s\n",
      "[CV] C=100, kernel=poly ..............................................\n",
      "[CV] ..... C=100, kernel=poly, score=0.8873106060606061, total=   0.1s\n",
      "[CV] C=100, kernel=poly ..............................................\n",
      "[CV] ..... C=100, kernel=poly, score=0.9640151515151515, total=   0.1s\n",
      "[CV] C=100, kernel=poly ..............................................\n",
      "[CV] ..... C=100, kernel=poly, score=0.9545454545454546, total=   0.1s\n",
      "[CV] C=100, kernel=rbf ...............................................\n",
      "[CV] ...... C=100, kernel=rbf, score=0.9005681818181818, total=   0.0s\n",
      "[CV] C=100, kernel=rbf ...............................................\n",
      "[CV] ...... C=100, kernel=rbf, score=0.9573863636363636, total=   0.0s\n",
      "[CV] C=100, kernel=rbf ...............................................\n",
      "[CV] ...... C=100, kernel=rbf, score=0.9346590909090909, total=   0.0s\n",
      "[CV] C=100, kernel=sigmoid ...........................................\n",
      "[CV] .. C=100, kernel=sigmoid, score=0.7452651515151515, total=   0.1s\n",
      "[CV] C=100, kernel=sigmoid ...........................................\n",
      "[CV] .. C=100, kernel=sigmoid, score=0.8901515151515151, total=   0.1s\n",
      "[CV] C=100, kernel=sigmoid ...........................................\n",
      "[CV] .. C=100, kernel=sigmoid, score=0.6666666666666666, total=   0.1s\n",
      "[CV] C=1000, kernel=linear ...........................................\n",
      "[CV] .. C=1000, kernel=linear, score=0.9337121212121212, total=   4.5s\n",
      "[CV] C=1000, kernel=linear ...........................................\n",
      "[CV] .. C=1000, kernel=linear, score=0.9772727272727273, total=   8.0s\n",
      "[CV] C=1000, kernel=linear ...........................................\n",
      "[CV] .. C=1000, kernel=linear, score=0.9678030303030303, total=  13.4s\n",
      "[CV] C=1000, kernel=poly .............................................\n",
      "[CV] .... C=1000, kernel=poly, score=0.8645833333333334, total=   0.0s\n",
      "[CV] C=1000, kernel=poly .............................................\n",
      "[CV] .... C=1000, kernel=poly, score=0.9649621212121212, total=   0.0s\n",
      "[CV] C=1000, kernel=poly .............................................\n",
      "[CV] .... C=1000, kernel=poly, score=0.9412878787878788, total=   0.1s\n",
      "[CV] C=1000, kernel=rbf ..............................................\n",
      "[CV] ..... C=1000, kernel=rbf, score=0.9005681818181818, total=   0.0s\n",
      "[CV] C=1000, kernel=rbf ..............................................\n",
      "[CV] ..... C=1000, kernel=rbf, score=0.9573863636363636, total=   0.0s\n",
      "[CV] C=1000, kernel=rbf ..............................................\n",
      "[CV] ..... C=1000, kernel=rbf, score=0.9337121212121212, total=   0.0s\n",
      "[CV] C=1000, kernel=sigmoid ..........................................\n",
      "[CV] . C=1000, kernel=sigmoid, score=0.7452651515151515, total=   0.1s\n",
      "[CV] C=1000, kernel=sigmoid ..........................................\n",
      "[CV] . C=1000, kernel=sigmoid, score=0.8901515151515151, total=   0.1s\n",
      "[CV] C=1000, kernel=sigmoid ..........................................\n",
      "[CV] . C=1000, kernel=sigmoid, score=0.6666666666666666, total=   0.1s\n"
     ]
    },
    {
     "name": "stderr",
     "output_type": "stream",
     "text": [
      "[Parallel(n_jobs=1)]: Done  84 out of  84 | elapsed:   42.7s finished\n"
     ]
    },
    {
     "data": {
      "text/plain": [
       "{'C': 0.1, 'kernel': 'linear'}"
      ]
     },
     "execution_count": 42,
     "metadata": {},
     "output_type": "execute_result"
    }
   ],
   "source": [
    "param_grid = {'kernel': [\"linear\",\"poly\",\"rbf\",\"sigmoid\"],\n",
    "             'C': [0.001,0.01,0.1,1,10,100,1000]}\n",
    "svm = GridSearchCV(SVC(),param_grid,refit=True,verbose=4)\n",
    "svm= svm.fit(voice, y)\n",
    "svm.best_params_"
   ]
  },
  {
   "cell_type": "code",
   "execution_count": 43,
   "metadata": {},
   "outputs": [
    {
     "data": {
      "text/plain": [
       "0.96243561074951089"
      ]
     },
     "execution_count": 43,
     "metadata": {},
     "output_type": "execute_result"
    }
   ],
   "source": [
    "# Best parameter: {'C': 0.1, 'kernel': 'linear'}\n",
    "svm = SVC(kernel='linear', C=0.1)\n",
    "svm.fit(voice,y)\n",
    "kfold = KFold(n_splits=10,random_state=1)\n",
    "svm_score_pc=np.mean(cross_val_score(svm,X=voice,y=y,cv=kfold))\n",
    "svm_score_pc"
   ]
  },
  {
   "cell_type": "markdown",
   "metadata": {},
   "source": [
    "#### With PC"
   ]
  },
  {
   "cell_type": "code",
   "execution_count": 44,
   "metadata": {},
   "outputs": [
    {
     "data": {
      "text/plain": [
       "0.85289701713053545"
      ]
     },
     "execution_count": 44,
     "metadata": {},
     "output_type": "execute_result"
    }
   ],
   "source": [
    "svm = SVC(kernel='linear', C=0.1)\n",
    "svm.fit(voice_pc,y)\n",
    "kfold = KFold(n_splits=10,random_state=1)\n",
    "svm_score_npc=np.mean(cross_val_score(svm,X=voice_pc,y=y,cv=kfold))\n",
    "svm_score_npc"
   ]
  },
  {
   "cell_type": "markdown",
   "metadata": {},
   "source": [
    "<a name=\"BT\"></a>\n",
    "## Boosted Tree\n",
    "[Return to top](#top)"
   ]
  },
  {
   "cell_type": "markdown",
   "metadata": {
    "collapsed": true
   },
   "source": [
    "#### Without PC"
   ]
  },
  {
   "cell_type": "code",
   "execution_count": null,
   "metadata": {
    "collapsed": true
   },
   "outputs": [],
   "source": [
    "# Grid search\n",
    "param_grid = {'n_estimators': [10,50,100,150,200,250,300,350,400],\n",
    "             'learning_rate': [0.001, 0.01, 0.1, 1, 10],\n",
    "             'max_depth': [1,2,3,4,5]}\n",
    "gb_tree_model = GridSearchCV(GradientBoostingClassifier(random_state=0),param_grid,refit=True,verbose=4)\n",
    "gb_tree_model = gb_tree_model.fit(voice, y)\n",
    "gb_tree_model.best_params_"
   ]
  },
  {
   "cell_type": "markdown",
   "metadata": {
    "collapsed": true
   },
   "source": [
    "Best param: learning_rate = 0.1; max_depth = 3; n_estimators = 400"
   ]
  },
  {
   "cell_type": "code",
   "execution_count": 227,
   "metadata": {},
   "outputs": [
    {
     "data": {
      "text/plain": [
       "0.96274607674799328"
      ]
     },
     "execution_count": 227,
     "metadata": {},
     "output_type": "execute_result"
    }
   ],
   "source": [
    "# Best model\n",
    "kfold = KFold(n_splits=10,random_state=1)\n",
    "gb = GradientBoostingClassifier(n_estimators = 400, learning_rate = 0.1, max_depth = 3, random_state=0)\n",
    "gb.fit(X=voice,y=y)\n",
    "bt_score_pc=np.mean(cross_val_score(gb, X=voice, y=y, cv=kfold))\n",
    "bt_score_pc"
   ]
  },
  {
   "cell_type": "markdown",
   "metadata": {},
   "source": [
    "#### With PC"
   ]
  },
  {
   "cell_type": "code",
   "execution_count": null,
   "metadata": {
    "collapsed": true
   },
   "outputs": [],
   "source": [
    "# Grid search\n",
    "param_grid = {'n_estimators': [10,50,100,150,200,250,300,350,400],\n",
    "             'learning_rate': [0.001, 0.01, 0.1, 1, 10],\n",
    "             'max_depth': [1,2,3,4,5]}\n",
    "gb_tree_model = GridSearchCV(GradientBoostingClassifier(random_state=0),param_grid,refit=True,verbose=4)\n",
    "gb_tree_model = gb_tree_model.fit(voice_pc, y)\n",
    "gb_tree_model.best_params_"
   ]
  },
  {
   "cell_type": "markdown",
   "metadata": {
    "collapsed": true
   },
   "source": [
    "Best param: learning_rate = 0.1; max_depth = 3; n_estimators = 400"
   ]
  },
  {
   "cell_type": "code",
   "execution_count": 228,
   "metadata": {},
   "outputs": [
    {
     "data": {
      "text/plain": [
       "0.91096713652517669"
      ]
     },
     "execution_count": 228,
     "metadata": {},
     "output_type": "execute_result"
    }
   ],
   "source": [
    "# Best model\n",
    "kfold = KFold(n_splits=10,random_state=1)\n",
    "gb = GradientBoostingClassifier(n_estimators = 400, learning_rate = 0.1, max_depth = 3, random_state=0)\n",
    "gb.fit(X=voice_pc,y=y)\n",
    "bt_score_npc=np.mean(cross_val_score(gb, X=voice_pc, y=y, cv=kfold))\n",
    "bt_score_npc"
   ]
  },
  {
   "cell_type": "markdown",
   "metadata": {},
   "source": [
    "<a name=\"RF\"></a>\n",
    "## Random Forest\n",
    "[Return to top](#top)"
   ]
  },
  {
   "cell_type": "markdown",
   "metadata": {
    "collapsed": true
   },
   "source": [
    "#### Without PC"
   ]
  },
  {
   "cell_type": "code",
   "execution_count": 55,
   "metadata": {},
   "outputs": [
    {
     "name": "stdout",
     "output_type": "stream",
     "text": [
      "Fitting 3 folds for each of 288 candidates, totalling 864 fits\n",
      "[CV] criterion=gini, max_depth=5, max_features=3, min_samples_split=10, n_estimators=100 \n",
      "[CV]  criterion=gini, max_depth=5, max_features=3, min_samples_split=10, n_estimators=100, score=0.9308712121212122, total=   0.4s\n",
      "[CV] criterion=gini, max_depth=5, max_features=3, min_samples_split=10, n_estimators=100 \n"
     ]
    },
    {
     "name": "stderr",
     "output_type": "stream",
     "text": [
      "[Parallel(n_jobs=1)]: Done   1 out of   1 | elapsed:    0.4s remaining:    0.0s\n"
     ]
    },
    {
     "name": "stdout",
     "output_type": "stream",
     "text": [
      "[CV]  criterion=gini, max_depth=5, max_features=3, min_samples_split=10, n_estimators=100, score=0.9810606060606061, total=   0.3s\n",
      "[CV] criterion=gini, max_depth=5, max_features=3, min_samples_split=10, n_estimators=100 \n"
     ]
    },
    {
     "name": "stderr",
     "output_type": "stream",
     "text": [
      "[Parallel(n_jobs=1)]: Done   2 out of   2 | elapsed:    0.8s remaining:    0.0s\n"
     ]
    },
    {
     "name": "stdout",
     "output_type": "stream",
     "text": [
      "[CV]  criterion=gini, max_depth=5, max_features=3, min_samples_split=10, n_estimators=100, score=0.9649621212121212, total=   0.3s\n",
      "[CV] criterion=gini, max_depth=5, max_features=3, min_samples_split=10, n_estimators=200 \n"
     ]
    },
    {
     "name": "stderr",
     "output_type": "stream",
     "text": [
      "[Parallel(n_jobs=1)]: Done   3 out of   3 | elapsed:    1.2s remaining:    0.0s\n"
     ]
    },
    {
     "name": "stdout",
     "output_type": "stream",
     "text": [
      "[CV]  criterion=gini, max_depth=5, max_features=3, min_samples_split=10, n_estimators=200, score=0.9365530303030303, total=   0.6s\n",
      "[CV] criterion=gini, max_depth=5, max_features=3, min_samples_split=10, n_estimators=200 \n",
      "[CV]  criterion=gini, max_depth=5, max_features=3, min_samples_split=10, n_estimators=200, score=0.9848484848484849, total=   0.6s\n",
      "[CV] criterion=gini, max_depth=5, max_features=3, min_samples_split=10, n_estimators=200 \n",
      "[CV]  criterion=gini, max_depth=5, max_features=3, min_samples_split=10, n_estimators=200, score=0.9659090909090909, total=   0.6s\n",
      "[CV] criterion=gini, max_depth=5, max_features=3, min_samples_split=10, n_estimators=300 \n",
      "[CV]  criterion=gini, max_depth=5, max_features=3, min_samples_split=10, n_estimators=300, score=0.9384469696969697, total=   0.9s\n",
      "[CV] criterion=gini, max_depth=5, max_features=3, min_samples_split=10, n_estimators=300 \n",
      "[CV]  criterion=gini, max_depth=5, max_features=3, min_samples_split=10, n_estimators=300, score=0.9839015151515151, total=   1.0s\n",
      "[CV] criterion=gini, max_depth=5, max_features=3, min_samples_split=10, n_estimators=300 \n",
      "[CV]  criterion=gini, max_depth=5, max_features=3, min_samples_split=10, n_estimators=300, score=0.9668560606060606, total=   0.9s\n",
      "[CV] criterion=gini, max_depth=5, max_features=3, min_samples_split=10, n_estimators=500 \n",
      "[CV]  criterion=gini, max_depth=5, max_features=3, min_samples_split=10, n_estimators=500, score=0.9393939393939394, total=   1.5s\n",
      "[CV] criterion=gini, max_depth=5, max_features=3, min_samples_split=10, n_estimators=500 \n",
      "[CV]  criterion=gini, max_depth=5, max_features=3, min_samples_split=10, n_estimators=500, score=0.9848484848484849, total=   1.6s\n",
      "[CV] criterion=gini, max_depth=5, max_features=3, min_samples_split=10, n_estimators=500 \n",
      "[CV]  criterion=gini, max_depth=5, max_features=3, min_samples_split=10, n_estimators=500, score=0.9640151515151515, total=   1.6s\n",
      "[CV] criterion=gini, max_depth=5, max_features=3, min_samples_split=30, n_estimators=100 \n",
      "[CV]  criterion=gini, max_depth=5, max_features=3, min_samples_split=30, n_estimators=100, score=0.9403409090909091, total=   0.3s\n",
      "[CV] criterion=gini, max_depth=5, max_features=3, min_samples_split=30, n_estimators=100 \n",
      "[CV]  criterion=gini, max_depth=5, max_features=3, min_samples_split=30, n_estimators=100, score=0.9829545454545454, total=   0.3s\n",
      "[CV] criterion=gini, max_depth=5, max_features=3, min_samples_split=30, n_estimators=100 \n",
      "[CV]  criterion=gini, max_depth=5, max_features=3, min_samples_split=30, n_estimators=100, score=0.9649621212121212, total=   0.4s\n",
      "[CV] criterion=gini, max_depth=5, max_features=3, min_samples_split=30, n_estimators=200 \n",
      "[CV]  criterion=gini, max_depth=5, max_features=3, min_samples_split=30, n_estimators=200, score=0.9365530303030303, total=   0.7s\n",
      "[CV] criterion=gini, max_depth=5, max_features=3, min_samples_split=30, n_estimators=200 \n",
      "[CV]  criterion=gini, max_depth=5, max_features=3, min_samples_split=30, n_estimators=200, score=0.9839015151515151, total=   0.7s\n",
      "[CV] criterion=gini, max_depth=5, max_features=3, min_samples_split=30, n_estimators=200 \n",
      "[CV]  criterion=gini, max_depth=5, max_features=3, min_samples_split=30, n_estimators=200, score=0.9678030303030303, total=   0.7s\n",
      "[CV] criterion=gini, max_depth=5, max_features=3, min_samples_split=30, n_estimators=300 \n",
      "[CV]  criterion=gini, max_depth=5, max_features=3, min_samples_split=30, n_estimators=300, score=0.9365530303030303, total=   0.9s\n",
      "[CV] criterion=gini, max_depth=5, max_features=3, min_samples_split=30, n_estimators=300 \n",
      "[CV]  criterion=gini, max_depth=5, max_features=3, min_samples_split=30, n_estimators=300, score=0.9839015151515151, total=   0.9s\n",
      "[CV] criterion=gini, max_depth=5, max_features=3, min_samples_split=30, n_estimators=300 \n",
      "[CV]  criterion=gini, max_depth=5, max_features=3, min_samples_split=30, n_estimators=300, score=0.9678030303030303, total=   0.9s\n",
      "[CV] criterion=gini, max_depth=5, max_features=3, min_samples_split=30, n_estimators=500 \n",
      "[CV]  criterion=gini, max_depth=5, max_features=3, min_samples_split=30, n_estimators=500, score=0.9365530303030303, total=   1.6s\n",
      "[CV] criterion=gini, max_depth=5, max_features=3, min_samples_split=30, n_estimators=500 \n",
      "[CV]  criterion=gini, max_depth=5, max_features=3, min_samples_split=30, n_estimators=500, score=0.9839015151515151, total=   1.7s\n",
      "[CV] criterion=gini, max_depth=5, max_features=3, min_samples_split=30, n_estimators=500 \n",
      "[CV]  criterion=gini, max_depth=5, max_features=3, min_samples_split=30, n_estimators=500, score=0.9668560606060606, total=   1.5s\n",
      "[CV] criterion=gini, max_depth=5, max_features=3, min_samples_split=40, n_estimators=100 \n",
      "[CV]  criterion=gini, max_depth=5, max_features=3, min_samples_split=40, n_estimators=100, score=0.9356060606060606, total=   0.3s\n",
      "[CV] criterion=gini, max_depth=5, max_features=3, min_samples_split=40, n_estimators=100 \n",
      "[CV]  criterion=gini, max_depth=5, max_features=3, min_samples_split=40, n_estimators=100, score=0.9839015151515151, total=   0.3s\n",
      "[CV] criterion=gini, max_depth=5, max_features=3, min_samples_split=40, n_estimators=100 \n",
      "[CV]  criterion=gini, max_depth=5, max_features=3, min_samples_split=40, n_estimators=100, score=0.9696969696969697, total=   0.3s\n",
      "[CV] criterion=gini, max_depth=5, max_features=3, min_samples_split=40, n_estimators=200 \n",
      "[CV]  criterion=gini, max_depth=5, max_features=3, min_samples_split=40, n_estimators=200, score=0.9308712121212122, total=   0.6s\n",
      "[CV] criterion=gini, max_depth=5, max_features=3, min_samples_split=40, n_estimators=200 \n",
      "[CV]  criterion=gini, max_depth=5, max_features=3, min_samples_split=40, n_estimators=200, score=0.9829545454545454, total=   0.7s\n",
      "[CV] criterion=gini, max_depth=5, max_features=3, min_samples_split=40, n_estimators=200 \n",
      "[CV]  criterion=gini, max_depth=5, max_features=3, min_samples_split=40, n_estimators=200, score=0.9678030303030303, total=   0.7s\n",
      "[CV] criterion=gini, max_depth=5, max_features=3, min_samples_split=40, n_estimators=300 \n",
      "[CV]  criterion=gini, max_depth=5, max_features=3, min_samples_split=40, n_estimators=300, score=0.9365530303030303, total=   1.0s\n",
      "[CV] criterion=gini, max_depth=5, max_features=3, min_samples_split=40, n_estimators=300 \n",
      "[CV]  criterion=gini, max_depth=5, max_features=3, min_samples_split=40, n_estimators=300, score=0.9839015151515151, total=   1.0s\n",
      "[CV] criterion=gini, max_depth=5, max_features=3, min_samples_split=40, n_estimators=300 \n",
      "[CV]  criterion=gini, max_depth=5, max_features=3, min_samples_split=40, n_estimators=300, score=0.9678030303030303, total=   0.9s\n",
      "[CV] criterion=gini, max_depth=5, max_features=3, min_samples_split=40, n_estimators=500 \n",
      "[CV]  criterion=gini, max_depth=5, max_features=3, min_samples_split=40, n_estimators=500, score=0.9393939393939394, total=   1.6s\n",
      "[CV] criterion=gini, max_depth=5, max_features=3, min_samples_split=40, n_estimators=500 \n",
      "[CV]  criterion=gini, max_depth=5, max_features=3, min_samples_split=40, n_estimators=500, score=0.9848484848484849, total=   1.7s\n",
      "[CV] criterion=gini, max_depth=5, max_features=3, min_samples_split=40, n_estimators=500 \n",
      "[CV]  criterion=gini, max_depth=5, max_features=3, min_samples_split=40, n_estimators=500, score=0.9668560606060606, total=   1.8s\n",
      "[CV] criterion=gini, max_depth=5, max_features=5, min_samples_split=10, n_estimators=100 \n",
      "[CV]  criterion=gini, max_depth=5, max_features=5, min_samples_split=10, n_estimators=100, score=0.9422348484848485, total=   0.5s\n",
      "[CV] criterion=gini, max_depth=5, max_features=5, min_samples_split=10, n_estimators=100 \n",
      "[CV]  criterion=gini, max_depth=5, max_features=5, min_samples_split=10, n_estimators=100, score=0.9829545454545454, total=   0.5s\n",
      "[CV] criterion=gini, max_depth=5, max_features=5, min_samples_split=10, n_estimators=100 \n",
      "[CV]  criterion=gini, max_depth=5, max_features=5, min_samples_split=10, n_estimators=100, score=0.9715909090909091, total=   0.5s\n",
      "[CV] criterion=gini, max_depth=5, max_features=5, min_samples_split=10, n_estimators=200 \n",
      "[CV]  criterion=gini, max_depth=5, max_features=5, min_samples_split=10, n_estimators=200, score=0.9412878787878788, total=   0.9s\n",
      "[CV] criterion=gini, max_depth=5, max_features=5, min_samples_split=10, n_estimators=200 \n",
      "[CV]  criterion=gini, max_depth=5, max_features=5, min_samples_split=10, n_estimators=200, score=0.9820075757575758, total=   0.9s\n",
      "[CV] criterion=gini, max_depth=5, max_features=5, min_samples_split=10, n_estimators=200 \n"
     ]
    },
    {
     "name": "stdout",
     "output_type": "stream",
     "text": [
      "[CV]  criterion=gini, max_depth=5, max_features=5, min_samples_split=10, n_estimators=200, score=0.9715909090909091, total=   1.0s\n",
      "[CV] criterion=gini, max_depth=5, max_features=5, min_samples_split=10, n_estimators=300 \n",
      "[CV]  criterion=gini, max_depth=5, max_features=5, min_samples_split=10, n_estimators=300, score=0.9393939393939394, total=   1.4s\n",
      "[CV] criterion=gini, max_depth=5, max_features=5, min_samples_split=10, n_estimators=300 \n",
      "[CV]  criterion=gini, max_depth=5, max_features=5, min_samples_split=10, n_estimators=300, score=0.9829545454545454, total=   1.5s\n",
      "[CV] criterion=gini, max_depth=5, max_features=5, min_samples_split=10, n_estimators=300 \n",
      "[CV]  criterion=gini, max_depth=5, max_features=5, min_samples_split=10, n_estimators=300, score=0.9715909090909091, total=   1.5s\n",
      "[CV] criterion=gini, max_depth=5, max_features=5, min_samples_split=10, n_estimators=500 \n",
      "[CV]  criterion=gini, max_depth=5, max_features=5, min_samples_split=10, n_estimators=500, score=0.9375, total=   2.4s\n",
      "[CV] criterion=gini, max_depth=5, max_features=5, min_samples_split=10, n_estimators=500 \n",
      "[CV]  criterion=gini, max_depth=5, max_features=5, min_samples_split=10, n_estimators=500, score=0.9829545454545454, total=   2.6s\n",
      "[CV] criterion=gini, max_depth=5, max_features=5, min_samples_split=10, n_estimators=500 \n",
      "[CV]  criterion=gini, max_depth=5, max_features=5, min_samples_split=10, n_estimators=500, score=0.9725378787878788, total=   2.4s\n",
      "[CV] criterion=gini, max_depth=5, max_features=5, min_samples_split=30, n_estimators=100 \n",
      "[CV]  criterion=gini, max_depth=5, max_features=5, min_samples_split=30, n_estimators=100, score=0.9450757575757576, total=   0.6s\n",
      "[CV] criterion=gini, max_depth=5, max_features=5, min_samples_split=30, n_estimators=100 \n",
      "[CV]  criterion=gini, max_depth=5, max_features=5, min_samples_split=30, n_estimators=100, score=0.9810606060606061, total=   0.5s\n",
      "[CV] criterion=gini, max_depth=5, max_features=5, min_samples_split=30, n_estimators=100 \n",
      "[CV]  criterion=gini, max_depth=5, max_features=5, min_samples_split=30, n_estimators=100, score=0.9706439393939394, total=   0.5s\n",
      "[CV] criterion=gini, max_depth=5, max_features=5, min_samples_split=30, n_estimators=200 \n",
      "[CV]  criterion=gini, max_depth=5, max_features=5, min_samples_split=30, n_estimators=200, score=0.9412878787878788, total=   0.9s\n",
      "[CV] criterion=gini, max_depth=5, max_features=5, min_samples_split=30, n_estimators=200 \n",
      "[CV]  criterion=gini, max_depth=5, max_features=5, min_samples_split=30, n_estimators=200, score=0.9839015151515151, total=   1.0s\n",
      "[CV] criterion=gini, max_depth=5, max_features=5, min_samples_split=30, n_estimators=200 \n",
      "[CV]  criterion=gini, max_depth=5, max_features=5, min_samples_split=30, n_estimators=200, score=0.9734848484848485, total=   0.9s\n",
      "[CV] criterion=gini, max_depth=5, max_features=5, min_samples_split=30, n_estimators=300 \n",
      "[CV]  criterion=gini, max_depth=5, max_features=5, min_samples_split=30, n_estimators=300, score=0.9441287878787878, total=   1.3s\n",
      "[CV] criterion=gini, max_depth=5, max_features=5, min_samples_split=30, n_estimators=300 \n",
      "[CV]  criterion=gini, max_depth=5, max_features=5, min_samples_split=30, n_estimators=300, score=0.9839015151515151, total=   1.4s\n",
      "[CV] criterion=gini, max_depth=5, max_features=5, min_samples_split=30, n_estimators=300 \n",
      "[CV]  criterion=gini, max_depth=5, max_features=5, min_samples_split=30, n_estimators=300, score=0.9706439393939394, total=   1.4s\n",
      "[CV] criterion=gini, max_depth=5, max_features=5, min_samples_split=30, n_estimators=500 \n",
      "[CV]  criterion=gini, max_depth=5, max_features=5, min_samples_split=30, n_estimators=500, score=0.9422348484848485, total=   2.3s\n",
      "[CV] criterion=gini, max_depth=5, max_features=5, min_samples_split=30, n_estimators=500 \n",
      "[CV]  criterion=gini, max_depth=5, max_features=5, min_samples_split=30, n_estimators=500, score=0.9829545454545454, total=   2.5s\n",
      "[CV] criterion=gini, max_depth=5, max_features=5, min_samples_split=30, n_estimators=500 \n",
      "[CV]  criterion=gini, max_depth=5, max_features=5, min_samples_split=30, n_estimators=500, score=0.9725378787878788, total=   2.4s\n",
      "[CV] criterion=gini, max_depth=5, max_features=5, min_samples_split=40, n_estimators=100 \n",
      "[CV]  criterion=gini, max_depth=5, max_features=5, min_samples_split=40, n_estimators=100, score=0.9431818181818182, total=   0.4s\n",
      "[CV] criterion=gini, max_depth=5, max_features=5, min_samples_split=40, n_estimators=100 \n",
      "[CV]  criterion=gini, max_depth=5, max_features=5, min_samples_split=40, n_estimators=100, score=0.9829545454545454, total=   0.5s\n",
      "[CV] criterion=gini, max_depth=5, max_features=5, min_samples_split=40, n_estimators=100 \n",
      "[CV]  criterion=gini, max_depth=5, max_features=5, min_samples_split=40, n_estimators=100, score=0.9715909090909091, total=   0.5s\n",
      "[CV] criterion=gini, max_depth=5, max_features=5, min_samples_split=40, n_estimators=200 \n",
      "[CV]  criterion=gini, max_depth=5, max_features=5, min_samples_split=40, n_estimators=200, score=0.9450757575757576, total=   0.8s\n",
      "[CV] criterion=gini, max_depth=5, max_features=5, min_samples_split=40, n_estimators=200 \n",
      "[CV]  criterion=gini, max_depth=5, max_features=5, min_samples_split=40, n_estimators=200, score=0.9848484848484849, total=   0.8s\n",
      "[CV] criterion=gini, max_depth=5, max_features=5, min_samples_split=40, n_estimators=200 \n",
      "[CV]  criterion=gini, max_depth=5, max_features=5, min_samples_split=40, n_estimators=200, score=0.9706439393939394, total=   1.0s\n",
      "[CV] criterion=gini, max_depth=5, max_features=5, min_samples_split=40, n_estimators=300 \n",
      "[CV]  criterion=gini, max_depth=5, max_features=5, min_samples_split=40, n_estimators=300, score=0.9422348484848485, total=   1.3s\n",
      "[CV] criterion=gini, max_depth=5, max_features=5, min_samples_split=40, n_estimators=300 \n",
      "[CV]  criterion=gini, max_depth=5, max_features=5, min_samples_split=40, n_estimators=300, score=0.9839015151515151, total=   1.4s\n",
      "[CV] criterion=gini, max_depth=5, max_features=5, min_samples_split=40, n_estimators=300 \n",
      "[CV]  criterion=gini, max_depth=5, max_features=5, min_samples_split=40, n_estimators=300, score=0.9725378787878788, total=   1.4s\n",
      "[CV] criterion=gini, max_depth=5, max_features=5, min_samples_split=40, n_estimators=500 \n",
      "[CV]  criterion=gini, max_depth=5, max_features=5, min_samples_split=40, n_estimators=500, score=0.9431818181818182, total=   2.0s\n",
      "[CV] criterion=gini, max_depth=5, max_features=5, min_samples_split=40, n_estimators=500 \n",
      "[CV]  criterion=gini, max_depth=5, max_features=5, min_samples_split=40, n_estimators=500, score=0.9829545454545454, total=   2.2s\n",
      "[CV] criterion=gini, max_depth=5, max_features=5, min_samples_split=40, n_estimators=500 \n",
      "[CV]  criterion=gini, max_depth=5, max_features=5, min_samples_split=40, n_estimators=500, score=0.9706439393939394, total=   2.2s\n",
      "[CV] criterion=gini, max_depth=5, max_features=7, min_samples_split=10, n_estimators=100 \n",
      "[CV]  criterion=gini, max_depth=5, max_features=7, min_samples_split=10, n_estimators=100, score=0.9450757575757576, total=   0.5s\n",
      "[CV] criterion=gini, max_depth=5, max_features=7, min_samples_split=10, n_estimators=100 \n",
      "[CV]  criterion=gini, max_depth=5, max_features=7, min_samples_split=10, n_estimators=100, score=0.9848484848484849, total=   0.6s\n",
      "[CV] criterion=gini, max_depth=5, max_features=7, min_samples_split=10, n_estimators=100 \n",
      "[CV]  criterion=gini, max_depth=5, max_features=7, min_samples_split=10, n_estimators=100, score=0.9734848484848485, total=   0.6s\n",
      "[CV] criterion=gini, max_depth=5, max_features=7, min_samples_split=10, n_estimators=200 \n",
      "[CV]  criterion=gini, max_depth=5, max_features=7, min_samples_split=10, n_estimators=200, score=0.9422348484848485, total=   1.1s\n",
      "[CV] criterion=gini, max_depth=5, max_features=7, min_samples_split=10, n_estimators=200 \n",
      "[CV]  criterion=gini, max_depth=5, max_features=7, min_samples_split=10, n_estimators=200, score=0.9810606060606061, total=   1.3s\n",
      "[CV] criterion=gini, max_depth=5, max_features=7, min_samples_split=10, n_estimators=200 \n",
      "[CV]  criterion=gini, max_depth=5, max_features=7, min_samples_split=10, n_estimators=200, score=0.9725378787878788, total=   1.1s\n",
      "[CV] criterion=gini, max_depth=5, max_features=7, min_samples_split=10, n_estimators=300 \n",
      "[CV]  criterion=gini, max_depth=5, max_features=7, min_samples_split=10, n_estimators=300, score=0.9441287878787878, total=   1.6s\n",
      "[CV] criterion=gini, max_depth=5, max_features=7, min_samples_split=10, n_estimators=300 \n"
     ]
    },
    {
     "name": "stdout",
     "output_type": "stream",
     "text": [
      "[CV]  criterion=gini, max_depth=5, max_features=7, min_samples_split=10, n_estimators=300, score=0.9829545454545454, total=   1.6s\n",
      "[CV] criterion=gini, max_depth=5, max_features=7, min_samples_split=10, n_estimators=300 \n",
      "[CV]  criterion=gini, max_depth=5, max_features=7, min_samples_split=10, n_estimators=300, score=0.9734848484848485, total=   1.6s\n",
      "[CV] criterion=gini, max_depth=5, max_features=7, min_samples_split=10, n_estimators=500 \n",
      "[CV]  criterion=gini, max_depth=5, max_features=7, min_samples_split=10, n_estimators=500, score=0.9422348484848485, total=   2.8s\n",
      "[CV] criterion=gini, max_depth=5, max_features=7, min_samples_split=10, n_estimators=500 \n",
      "[CV]  criterion=gini, max_depth=5, max_features=7, min_samples_split=10, n_estimators=500, score=0.9829545454545454, total=   2.8s\n",
      "[CV] criterion=gini, max_depth=5, max_features=7, min_samples_split=10, n_estimators=500 \n",
      "[CV]  criterion=gini, max_depth=5, max_features=7, min_samples_split=10, n_estimators=500, score=0.9744318181818182, total=   3.0s\n",
      "[CV] criterion=gini, max_depth=5, max_features=7, min_samples_split=30, n_estimators=100 \n",
      "[CV]  criterion=gini, max_depth=5, max_features=7, min_samples_split=30, n_estimators=100, score=0.9460227272727273, total=   0.5s\n",
      "[CV] criterion=gini, max_depth=5, max_features=7, min_samples_split=30, n_estimators=100 \n",
      "[CV]  criterion=gini, max_depth=5, max_features=7, min_samples_split=30, n_estimators=100, score=0.9810606060606061, total=   0.6s\n",
      "[CV] criterion=gini, max_depth=5, max_features=7, min_samples_split=30, n_estimators=100 \n",
      "[CV]  criterion=gini, max_depth=5, max_features=7, min_samples_split=30, n_estimators=100, score=0.9715909090909091, total=   0.5s\n",
      "[CV] criterion=gini, max_depth=5, max_features=7, min_samples_split=30, n_estimators=200 \n",
      "[CV]  criterion=gini, max_depth=5, max_features=7, min_samples_split=30, n_estimators=200, score=0.9431818181818182, total=   1.0s\n",
      "[CV] criterion=gini, max_depth=5, max_features=7, min_samples_split=30, n_estimators=200 \n",
      "[CV]  criterion=gini, max_depth=5, max_features=7, min_samples_split=30, n_estimators=200, score=0.9829545454545454, total=   1.1s\n",
      "[CV] criterion=gini, max_depth=5, max_features=7, min_samples_split=30, n_estimators=200 \n",
      "[CV]  criterion=gini, max_depth=5, max_features=7, min_samples_split=30, n_estimators=200, score=0.9715909090909091, total=   1.1s\n",
      "[CV] criterion=gini, max_depth=5, max_features=7, min_samples_split=30, n_estimators=300 \n",
      "[CV]  criterion=gini, max_depth=5, max_features=7, min_samples_split=30, n_estimators=300, score=0.9441287878787878, total=   1.7s\n",
      "[CV] criterion=gini, max_depth=5, max_features=7, min_samples_split=30, n_estimators=300 \n",
      "[CV]  criterion=gini, max_depth=5, max_features=7, min_samples_split=30, n_estimators=300, score=0.9820075757575758, total=   1.8s\n",
      "[CV] criterion=gini, max_depth=5, max_features=7, min_samples_split=30, n_estimators=300 \n",
      "[CV]  criterion=gini, max_depth=5, max_features=7, min_samples_split=30, n_estimators=300, score=0.9696969696969697, total=   1.7s\n",
      "[CV] criterion=gini, max_depth=5, max_features=7, min_samples_split=30, n_estimators=500 \n",
      "[CV]  criterion=gini, max_depth=5, max_features=7, min_samples_split=30, n_estimators=500, score=0.9441287878787878, total=   2.7s\n",
      "[CV] criterion=gini, max_depth=5, max_features=7, min_samples_split=30, n_estimators=500 \n",
      "[CV]  criterion=gini, max_depth=5, max_features=7, min_samples_split=30, n_estimators=500, score=0.9810606060606061, total=   2.8s\n",
      "[CV] criterion=gini, max_depth=5, max_features=7, min_samples_split=30, n_estimators=500 \n",
      "[CV]  criterion=gini, max_depth=5, max_features=7, min_samples_split=30, n_estimators=500, score=0.9696969696969697, total=   3.0s\n",
      "[CV] criterion=gini, max_depth=5, max_features=7, min_samples_split=40, n_estimators=100 \n",
      "[CV]  criterion=gini, max_depth=5, max_features=7, min_samples_split=40, n_estimators=100, score=0.9431818181818182, total=   0.5s\n",
      "[CV] criterion=gini, max_depth=5, max_features=7, min_samples_split=40, n_estimators=100 \n",
      "[CV]  criterion=gini, max_depth=5, max_features=7, min_samples_split=40, n_estimators=100, score=0.9820075757575758, total=   0.6s\n",
      "[CV] criterion=gini, max_depth=5, max_features=7, min_samples_split=40, n_estimators=100 \n",
      "[CV]  criterion=gini, max_depth=5, max_features=7, min_samples_split=40, n_estimators=100, score=0.9706439393939394, total=   0.7s\n",
      "[CV] criterion=gini, max_depth=5, max_features=7, min_samples_split=40, n_estimators=200 \n",
      "[CV]  criterion=gini, max_depth=5, max_features=7, min_samples_split=40, n_estimators=200, score=0.9460227272727273, total=   1.2s\n",
      "[CV] criterion=gini, max_depth=5, max_features=7, min_samples_split=40, n_estimators=200 \n",
      "[CV]  criterion=gini, max_depth=5, max_features=7, min_samples_split=40, n_estimators=200, score=0.9829545454545454, total=   1.1s\n",
      "[CV] criterion=gini, max_depth=5, max_features=7, min_samples_split=40, n_estimators=200 \n",
      "[CV]  criterion=gini, max_depth=5, max_features=7, min_samples_split=40, n_estimators=200, score=0.9706439393939394, total=   1.1s\n",
      "[CV] criterion=gini, max_depth=5, max_features=7, min_samples_split=40, n_estimators=300 \n",
      "[CV]  criterion=gini, max_depth=5, max_features=7, min_samples_split=40, n_estimators=300, score=0.9450757575757576, total=   1.6s\n",
      "[CV] criterion=gini, max_depth=5, max_features=7, min_samples_split=40, n_estimators=300 \n",
      "[CV]  criterion=gini, max_depth=5, max_features=7, min_samples_split=40, n_estimators=300, score=0.9820075757575758, total=   1.6s\n",
      "[CV] criterion=gini, max_depth=5, max_features=7, min_samples_split=40, n_estimators=300 \n",
      "[CV]  criterion=gini, max_depth=5, max_features=7, min_samples_split=40, n_estimators=300, score=0.9696969696969697, total=   1.7s\n",
      "[CV] criterion=gini, max_depth=5, max_features=7, min_samples_split=40, n_estimators=500 \n",
      "[CV]  criterion=gini, max_depth=5, max_features=7, min_samples_split=40, n_estimators=500, score=0.9431818181818182, total=   3.1s\n",
      "[CV] criterion=gini, max_depth=5, max_features=7, min_samples_split=40, n_estimators=500 \n",
      "[CV]  criterion=gini, max_depth=5, max_features=7, min_samples_split=40, n_estimators=500, score=0.9829545454545454, total=   3.0s\n",
      "[CV] criterion=gini, max_depth=5, max_features=7, min_samples_split=40, n_estimators=500 \n",
      "[CV]  criterion=gini, max_depth=5, max_features=7, min_samples_split=40, n_estimators=500, score=0.9696969696969697, total=   3.3s\n",
      "[CV] criterion=gini, max_depth=5, max_features=10, min_samples_split=10, n_estimators=100 \n",
      "[CV]  criterion=gini, max_depth=5, max_features=10, min_samples_split=10, n_estimators=100, score=0.9422348484848485, total=   0.9s\n",
      "[CV] criterion=gini, max_depth=5, max_features=10, min_samples_split=10, n_estimators=100 \n",
      "[CV]  criterion=gini, max_depth=5, max_features=10, min_samples_split=10, n_estimators=100, score=0.9810606060606061, total=   0.9s\n",
      "[CV] criterion=gini, max_depth=5, max_features=10, min_samples_split=10, n_estimators=100 \n",
      "[CV]  criterion=gini, max_depth=5, max_features=10, min_samples_split=10, n_estimators=100, score=0.9734848484848485, total=   0.8s\n",
      "[CV] criterion=gini, max_depth=5, max_features=10, min_samples_split=10, n_estimators=200 \n",
      "[CV]  criterion=gini, max_depth=5, max_features=10, min_samples_split=10, n_estimators=200, score=0.9412878787878788, total=   1.6s\n",
      "[CV] criterion=gini, max_depth=5, max_features=10, min_samples_split=10, n_estimators=200 \n",
      "[CV]  criterion=gini, max_depth=5, max_features=10, min_samples_split=10, n_estimators=200, score=0.9820075757575758, total=   1.5s\n",
      "[CV] criterion=gini, max_depth=5, max_features=10, min_samples_split=10, n_estimators=200 \n",
      "[CV]  criterion=gini, max_depth=5, max_features=10, min_samples_split=10, n_estimators=200, score=0.9715909090909091, total=   1.6s\n",
      "[CV] criterion=gini, max_depth=5, max_features=10, min_samples_split=10, n_estimators=300 \n",
      "[CV]  criterion=gini, max_depth=5, max_features=10, min_samples_split=10, n_estimators=300, score=0.9422348484848485, total=   2.2s\n",
      "[CV] criterion=gini, max_depth=5, max_features=10, min_samples_split=10, n_estimators=300 \n",
      "[CV]  criterion=gini, max_depth=5, max_features=10, min_samples_split=10, n_estimators=300, score=0.9820075757575758, total=   2.3s\n",
      "[CV] criterion=gini, max_depth=5, max_features=10, min_samples_split=10, n_estimators=300 \n"
     ]
    },
    {
     "name": "stdout",
     "output_type": "stream",
     "text": [
      "[CV]  criterion=gini, max_depth=5, max_features=10, min_samples_split=10, n_estimators=300, score=0.9715909090909091, total=   2.4s\n",
      "[CV] criterion=gini, max_depth=5, max_features=10, min_samples_split=10, n_estimators=500 \n",
      "[CV]  criterion=gini, max_depth=5, max_features=10, min_samples_split=10, n_estimators=500, score=0.9412878787878788, total=   3.9s\n",
      "[CV] criterion=gini, max_depth=5, max_features=10, min_samples_split=10, n_estimators=500 \n",
      "[CV]  criterion=gini, max_depth=5, max_features=10, min_samples_split=10, n_estimators=500, score=0.9829545454545454, total=   4.1s\n",
      "[CV] criterion=gini, max_depth=5, max_features=10, min_samples_split=10, n_estimators=500 \n",
      "[CV]  criterion=gini, max_depth=5, max_features=10, min_samples_split=10, n_estimators=500, score=0.9734848484848485, total=   3.9s\n",
      "[CV] criterion=gini, max_depth=5, max_features=10, min_samples_split=30, n_estimators=100 \n",
      "[CV]  criterion=gini, max_depth=5, max_features=10, min_samples_split=30, n_estimators=100, score=0.9460227272727273, total=   0.8s\n",
      "[CV] criterion=gini, max_depth=5, max_features=10, min_samples_split=30, n_estimators=100 \n",
      "[CV]  criterion=gini, max_depth=5, max_features=10, min_samples_split=30, n_estimators=100, score=0.9801136363636364, total=   0.8s\n",
      "[CV] criterion=gini, max_depth=5, max_features=10, min_samples_split=30, n_estimators=100 \n",
      "[CV]  criterion=gini, max_depth=5, max_features=10, min_samples_split=30, n_estimators=100, score=0.9706439393939394, total=   0.8s\n",
      "[CV] criterion=gini, max_depth=5, max_features=10, min_samples_split=30, n_estimators=200 \n",
      "[CV]  criterion=gini, max_depth=5, max_features=10, min_samples_split=30, n_estimators=200, score=0.946969696969697, total=   1.6s\n",
      "[CV] criterion=gini, max_depth=5, max_features=10, min_samples_split=30, n_estimators=200 \n",
      "[CV]  criterion=gini, max_depth=5, max_features=10, min_samples_split=30, n_estimators=200, score=0.9810606060606061, total=   1.6s\n",
      "[CV] criterion=gini, max_depth=5, max_features=10, min_samples_split=30, n_estimators=200 \n",
      "[CV]  criterion=gini, max_depth=5, max_features=10, min_samples_split=30, n_estimators=200, score=0.9696969696969697, total=   1.6s\n",
      "[CV] criterion=gini, max_depth=5, max_features=10, min_samples_split=30, n_estimators=300 \n",
      "[CV]  criterion=gini, max_depth=5, max_features=10, min_samples_split=30, n_estimators=300, score=0.946969696969697, total=   2.1s\n",
      "[CV] criterion=gini, max_depth=5, max_features=10, min_samples_split=30, n_estimators=300 \n",
      "[CV]  criterion=gini, max_depth=5, max_features=10, min_samples_split=30, n_estimators=300, score=0.9801136363636364, total=   2.2s\n",
      "[CV] criterion=gini, max_depth=5, max_features=10, min_samples_split=30, n_estimators=300 \n",
      "[CV]  criterion=gini, max_depth=5, max_features=10, min_samples_split=30, n_estimators=300, score=0.9715909090909091, total=   2.4s\n",
      "[CV] criterion=gini, max_depth=5, max_features=10, min_samples_split=30, n_estimators=500 \n",
      "[CV]  criterion=gini, max_depth=5, max_features=10, min_samples_split=30, n_estimators=500, score=0.9441287878787878, total=   3.9s\n",
      "[CV] criterion=gini, max_depth=5, max_features=10, min_samples_split=30, n_estimators=500 \n",
      "[CV]  criterion=gini, max_depth=5, max_features=10, min_samples_split=30, n_estimators=500, score=0.9810606060606061, total=   3.8s\n",
      "[CV] criterion=gini, max_depth=5, max_features=10, min_samples_split=30, n_estimators=500 \n",
      "[CV]  criterion=gini, max_depth=5, max_features=10, min_samples_split=30, n_estimators=500, score=0.9706439393939394, total=   3.8s\n",
      "[CV] criterion=gini, max_depth=5, max_features=10, min_samples_split=40, n_estimators=100 \n",
      "[CV]  criterion=gini, max_depth=5, max_features=10, min_samples_split=40, n_estimators=100, score=0.9450757575757576, total=   0.8s\n",
      "[CV] criterion=gini, max_depth=5, max_features=10, min_samples_split=40, n_estimators=100 \n",
      "[CV]  criterion=gini, max_depth=5, max_features=10, min_samples_split=40, n_estimators=100, score=0.9791666666666666, total=   0.8s\n",
      "[CV] criterion=gini, max_depth=5, max_features=10, min_samples_split=40, n_estimators=100 \n",
      "[CV]  criterion=gini, max_depth=5, max_features=10, min_samples_split=40, n_estimators=100, score=0.9678030303030303, total=   0.8s\n",
      "[CV] criterion=gini, max_depth=5, max_features=10, min_samples_split=40, n_estimators=200 \n",
      "[CV]  criterion=gini, max_depth=5, max_features=10, min_samples_split=40, n_estimators=200, score=0.9441287878787878, total=   1.5s\n",
      "[CV] criterion=gini, max_depth=5, max_features=10, min_samples_split=40, n_estimators=200 \n",
      "[CV]  criterion=gini, max_depth=5, max_features=10, min_samples_split=40, n_estimators=200, score=0.9810606060606061, total=   1.5s\n",
      "[CV] criterion=gini, max_depth=5, max_features=10, min_samples_split=40, n_estimators=200 \n",
      "[CV]  criterion=gini, max_depth=5, max_features=10, min_samples_split=40, n_estimators=200, score=0.96875, total=   1.6s\n",
      "[CV] criterion=gini, max_depth=5, max_features=10, min_samples_split=40, n_estimators=300 \n",
      "[CV]  criterion=gini, max_depth=5, max_features=10, min_samples_split=40, n_estimators=300, score=0.9479166666666666, total=   2.2s\n",
      "[CV] criterion=gini, max_depth=5, max_features=10, min_samples_split=40, n_estimators=300 \n",
      "[CV]  criterion=gini, max_depth=5, max_features=10, min_samples_split=40, n_estimators=300, score=0.9810606060606061, total=   2.4s\n",
      "[CV] criterion=gini, max_depth=5, max_features=10, min_samples_split=40, n_estimators=300 \n",
      "[CV]  criterion=gini, max_depth=5, max_features=10, min_samples_split=40, n_estimators=300, score=0.9696969696969697, total=   2.3s\n",
      "[CV] criterion=gini, max_depth=5, max_features=10, min_samples_split=40, n_estimators=500 \n",
      "[CV]  criterion=gini, max_depth=5, max_features=10, min_samples_split=40, n_estimators=500, score=0.946969696969697, total=   3.4s\n",
      "[CV] criterion=gini, max_depth=5, max_features=10, min_samples_split=40, n_estimators=500 \n",
      "[CV]  criterion=gini, max_depth=5, max_features=10, min_samples_split=40, n_estimators=500, score=0.9801136363636364, total=   3.8s\n",
      "[CV] criterion=gini, max_depth=5, max_features=10, min_samples_split=40, n_estimators=500 \n",
      "[CV]  criterion=gini, max_depth=5, max_features=10, min_samples_split=40, n_estimators=500, score=0.9696969696969697, total=   3.6s\n",
      "[CV] criterion=gini, max_depth=10, max_features=3, min_samples_split=10, n_estimators=100 \n",
      "[CV]  criterion=gini, max_depth=10, max_features=3, min_samples_split=10, n_estimators=100, score=0.9346590909090909, total=   0.4s\n",
      "[CV] criterion=gini, max_depth=10, max_features=3, min_samples_split=10, n_estimators=100 \n",
      "[CV]  criterion=gini, max_depth=10, max_features=3, min_samples_split=10, n_estimators=100, score=0.9829545454545454, total=   0.4s\n",
      "[CV] criterion=gini, max_depth=10, max_features=3, min_samples_split=10, n_estimators=100 \n",
      "[CV]  criterion=gini, max_depth=10, max_features=3, min_samples_split=10, n_estimators=100, score=0.9678030303030303, total=   0.4s\n",
      "[CV] criterion=gini, max_depth=10, max_features=3, min_samples_split=10, n_estimators=200 \n",
      "[CV]  criterion=gini, max_depth=10, max_features=3, min_samples_split=10, n_estimators=200, score=0.9412878787878788, total=   0.7s\n",
      "[CV] criterion=gini, max_depth=10, max_features=3, min_samples_split=10, n_estimators=200 \n",
      "[CV]  criterion=gini, max_depth=10, max_features=3, min_samples_split=10, n_estimators=200, score=0.9810606060606061, total=   0.8s\n",
      "[CV] criterion=gini, max_depth=10, max_features=3, min_samples_split=10, n_estimators=200 \n",
      "[CV]  criterion=gini, max_depth=10, max_features=3, min_samples_split=10, n_estimators=200, score=0.9715909090909091, total=   0.8s\n",
      "[CV] criterion=gini, max_depth=10, max_features=3, min_samples_split=10, n_estimators=300 \n",
      "[CV]  criterion=gini, max_depth=10, max_features=3, min_samples_split=10, n_estimators=300, score=0.9375, total=   1.2s\n",
      "[CV] criterion=gini, max_depth=10, max_features=3, min_samples_split=10, n_estimators=300 \n",
      "[CV]  criterion=gini, max_depth=10, max_features=3, min_samples_split=10, n_estimators=300, score=0.9839015151515151, total=   1.3s\n",
      "[CV] criterion=gini, max_depth=10, max_features=3, min_samples_split=10, n_estimators=300 \n",
      "[CV]  criterion=gini, max_depth=10, max_features=3, min_samples_split=10, n_estimators=300, score=0.9659090909090909, total=   1.3s\n",
      "[CV] criterion=gini, max_depth=10, max_features=3, min_samples_split=10, n_estimators=500 \n"
     ]
    },
    {
     "name": "stdout",
     "output_type": "stream",
     "text": [
      "[CV]  criterion=gini, max_depth=10, max_features=3, min_samples_split=10, n_estimators=500, score=0.9412878787878788, total=   2.1s\n",
      "[CV] criterion=gini, max_depth=10, max_features=3, min_samples_split=10, n_estimators=500 \n",
      "[CV]  criterion=gini, max_depth=10, max_features=3, min_samples_split=10, n_estimators=500, score=0.9820075757575758, total=   2.4s\n",
      "[CV] criterion=gini, max_depth=10, max_features=3, min_samples_split=10, n_estimators=500 \n",
      "[CV]  criterion=gini, max_depth=10, max_features=3, min_samples_split=10, n_estimators=500, score=0.9668560606060606, total=   2.0s\n",
      "[CV] criterion=gini, max_depth=10, max_features=3, min_samples_split=30, n_estimators=100 \n",
      "[CV]  criterion=gini, max_depth=10, max_features=3, min_samples_split=30, n_estimators=100, score=0.9393939393939394, total=   0.4s\n",
      "[CV] criterion=gini, max_depth=10, max_features=3, min_samples_split=30, n_estimators=100 \n",
      "[CV]  criterion=gini, max_depth=10, max_features=3, min_samples_split=30, n_estimators=100, score=0.9829545454545454, total=   0.5s\n",
      "[CV] criterion=gini, max_depth=10, max_features=3, min_samples_split=30, n_estimators=100 \n",
      "[CV]  criterion=gini, max_depth=10, max_features=3, min_samples_split=30, n_estimators=100, score=0.9706439393939394, total=   0.4s\n",
      "[CV] criterion=gini, max_depth=10, max_features=3, min_samples_split=30, n_estimators=200 \n",
      "[CV]  criterion=gini, max_depth=10, max_features=3, min_samples_split=30, n_estimators=200, score=0.9431818181818182, total=   0.8s\n",
      "[CV] criterion=gini, max_depth=10, max_features=3, min_samples_split=30, n_estimators=200 \n",
      "[CV]  criterion=gini, max_depth=10, max_features=3, min_samples_split=30, n_estimators=200, score=0.9829545454545454, total=   0.8s\n",
      "[CV] criterion=gini, max_depth=10, max_features=3, min_samples_split=30, n_estimators=200 \n",
      "[CV]  criterion=gini, max_depth=10, max_features=3, min_samples_split=30, n_estimators=200, score=0.9715909090909091, total=   0.9s\n",
      "[CV] criterion=gini, max_depth=10, max_features=3, min_samples_split=30, n_estimators=300 \n",
      "[CV]  criterion=gini, max_depth=10, max_features=3, min_samples_split=30, n_estimators=300, score=0.9450757575757576, total=   1.3s\n",
      "[CV] criterion=gini, max_depth=10, max_features=3, min_samples_split=30, n_estimators=300 \n",
      "[CV]  criterion=gini, max_depth=10, max_features=3, min_samples_split=30, n_estimators=300, score=0.9829545454545454, total=   1.2s\n",
      "[CV] criterion=gini, max_depth=10, max_features=3, min_samples_split=30, n_estimators=300 \n",
      "[CV]  criterion=gini, max_depth=10, max_features=3, min_samples_split=30, n_estimators=300, score=0.9696969696969697, total=   1.2s\n",
      "[CV] criterion=gini, max_depth=10, max_features=3, min_samples_split=30, n_estimators=500 \n",
      "[CV]  criterion=gini, max_depth=10, max_features=3, min_samples_split=30, n_estimators=500, score=0.9403409090909091, total=   2.0s\n",
      "[CV] criterion=gini, max_depth=10, max_features=3, min_samples_split=30, n_estimators=500 \n",
      "[CV]  criterion=gini, max_depth=10, max_features=3, min_samples_split=30, n_estimators=500, score=0.9829545454545454, total=   2.1s\n",
      "[CV] criterion=gini, max_depth=10, max_features=3, min_samples_split=30, n_estimators=500 \n",
      "[CV]  criterion=gini, max_depth=10, max_features=3, min_samples_split=30, n_estimators=500, score=0.9734848484848485, total=   2.0s\n",
      "[CV] criterion=gini, max_depth=10, max_features=3, min_samples_split=40, n_estimators=100 \n",
      "[CV]  criterion=gini, max_depth=10, max_features=3, min_samples_split=40, n_estimators=100, score=0.9460227272727273, total=   0.4s\n",
      "[CV] criterion=gini, max_depth=10, max_features=3, min_samples_split=40, n_estimators=100 \n",
      "[CV]  criterion=gini, max_depth=10, max_features=3, min_samples_split=40, n_estimators=100, score=0.9829545454545454, total=   0.4s\n",
      "[CV] criterion=gini, max_depth=10, max_features=3, min_samples_split=40, n_estimators=100 \n",
      "[CV]  criterion=gini, max_depth=10, max_features=3, min_samples_split=40, n_estimators=100, score=0.9696969696969697, total=   0.5s\n",
      "[CV] criterion=gini, max_depth=10, max_features=3, min_samples_split=40, n_estimators=200 \n",
      "[CV]  criterion=gini, max_depth=10, max_features=3, min_samples_split=40, n_estimators=200, score=0.9441287878787878, total=   0.7s\n",
      "[CV] criterion=gini, max_depth=10, max_features=3, min_samples_split=40, n_estimators=200 \n",
      "[CV]  criterion=gini, max_depth=10, max_features=3, min_samples_split=40, n_estimators=200, score=0.9820075757575758, total=   0.8s\n",
      "[CV] criterion=gini, max_depth=10, max_features=3, min_samples_split=40, n_estimators=200 \n",
      "[CV]  criterion=gini, max_depth=10, max_features=3, min_samples_split=40, n_estimators=200, score=0.9696969696969697, total=   0.8s\n",
      "[CV] criterion=gini, max_depth=10, max_features=3, min_samples_split=40, n_estimators=300 \n",
      "[CV]  criterion=gini, max_depth=10, max_features=3, min_samples_split=40, n_estimators=300, score=0.9403409090909091, total=   1.1s\n",
      "[CV] criterion=gini, max_depth=10, max_features=3, min_samples_split=40, n_estimators=300 \n",
      "[CV]  criterion=gini, max_depth=10, max_features=3, min_samples_split=40, n_estimators=300, score=0.9820075757575758, total=   1.1s\n",
      "[CV] criterion=gini, max_depth=10, max_features=3, min_samples_split=40, n_estimators=300 \n",
      "[CV]  criterion=gini, max_depth=10, max_features=3, min_samples_split=40, n_estimators=300, score=0.9734848484848485, total=   1.2s\n",
      "[CV] criterion=gini, max_depth=10, max_features=3, min_samples_split=40, n_estimators=500 \n",
      "[CV]  criterion=gini, max_depth=10, max_features=3, min_samples_split=40, n_estimators=500, score=0.9441287878787878, total=   1.8s\n",
      "[CV] criterion=gini, max_depth=10, max_features=3, min_samples_split=40, n_estimators=500 \n",
      "[CV]  criterion=gini, max_depth=10, max_features=3, min_samples_split=40, n_estimators=500, score=0.9829545454545454, total=   1.9s\n",
      "[CV] criterion=gini, max_depth=10, max_features=3, min_samples_split=40, n_estimators=500 \n",
      "[CV]  criterion=gini, max_depth=10, max_features=3, min_samples_split=40, n_estimators=500, score=0.9668560606060606, total=   1.8s\n",
      "[CV] criterion=gini, max_depth=10, max_features=5, min_samples_split=10, n_estimators=100 \n",
      "[CV]  criterion=gini, max_depth=10, max_features=5, min_samples_split=10, n_estimators=100, score=0.9422348484848485, total=   0.5s\n",
      "[CV] criterion=gini, max_depth=10, max_features=5, min_samples_split=10, n_estimators=100 \n",
      "[CV]  criterion=gini, max_depth=10, max_features=5, min_samples_split=10, n_estimators=100, score=0.9810606060606061, total=   0.5s\n",
      "[CV] criterion=gini, max_depth=10, max_features=5, min_samples_split=10, n_estimators=100 \n",
      "[CV]  criterion=gini, max_depth=10, max_features=5, min_samples_split=10, n_estimators=100, score=0.9734848484848485, total=   0.5s\n",
      "[CV] criterion=gini, max_depth=10, max_features=5, min_samples_split=10, n_estimators=200 \n",
      "[CV]  criterion=gini, max_depth=10, max_features=5, min_samples_split=10, n_estimators=200, score=0.9441287878787878, total=   1.0s\n",
      "[CV] criterion=gini, max_depth=10, max_features=5, min_samples_split=10, n_estimators=200 \n",
      "[CV]  criterion=gini, max_depth=10, max_features=5, min_samples_split=10, n_estimators=200, score=0.9801136363636364, total=   1.1s\n",
      "[CV] criterion=gini, max_depth=10, max_features=5, min_samples_split=10, n_estimators=200 \n",
      "[CV]  criterion=gini, max_depth=10, max_features=5, min_samples_split=10, n_estimators=200, score=0.9753787878787878, total=   1.0s\n",
      "[CV] criterion=gini, max_depth=10, max_features=5, min_samples_split=10, n_estimators=300 \n",
      "[CV]  criterion=gini, max_depth=10, max_features=5, min_samples_split=10, n_estimators=300, score=0.9422348484848485, total=   1.5s\n",
      "[CV] criterion=gini, max_depth=10, max_features=5, min_samples_split=10, n_estimators=300 \n",
      "[CV]  criterion=gini, max_depth=10, max_features=5, min_samples_split=10, n_estimators=300, score=0.9810606060606061, total=   1.6s\n",
      "[CV] criterion=gini, max_depth=10, max_features=5, min_samples_split=10, n_estimators=300 \n",
      "[CV]  criterion=gini, max_depth=10, max_features=5, min_samples_split=10, n_estimators=300, score=0.9734848484848485, total=   1.5s\n",
      "[CV] criterion=gini, max_depth=10, max_features=5, min_samples_split=10, n_estimators=500 \n",
      "[CV]  criterion=gini, max_depth=10, max_features=5, min_samples_split=10, n_estimators=500, score=0.9403409090909091, total=   2.4s\n",
      "[CV] criterion=gini, max_depth=10, max_features=5, min_samples_split=10, n_estimators=500 \n"
     ]
    },
    {
     "name": "stdout",
     "output_type": "stream",
     "text": [
      "[CV]  criterion=gini, max_depth=10, max_features=5, min_samples_split=10, n_estimators=500, score=0.9820075757575758, total=   2.8s\n",
      "[CV] criterion=gini, max_depth=10, max_features=5, min_samples_split=10, n_estimators=500 \n",
      "[CV]  criterion=gini, max_depth=10, max_features=5, min_samples_split=10, n_estimators=500, score=0.9744318181818182, total=   2.7s\n",
      "[CV] criterion=gini, max_depth=10, max_features=5, min_samples_split=30, n_estimators=100 \n",
      "[CV]  criterion=gini, max_depth=10, max_features=5, min_samples_split=30, n_estimators=100, score=0.9412878787878788, total=   0.5s\n",
      "[CV] criterion=gini, max_depth=10, max_features=5, min_samples_split=30, n_estimators=100 \n",
      "[CV]  criterion=gini, max_depth=10, max_features=5, min_samples_split=30, n_estimators=100, score=0.9820075757575758, total=   0.5s\n",
      "[CV] criterion=gini, max_depth=10, max_features=5, min_samples_split=30, n_estimators=100 \n",
      "[CV]  criterion=gini, max_depth=10, max_features=5, min_samples_split=30, n_estimators=100, score=0.9734848484848485, total=   0.5s\n",
      "[CV] criterion=gini, max_depth=10, max_features=5, min_samples_split=30, n_estimators=200 \n",
      "[CV]  criterion=gini, max_depth=10, max_features=5, min_samples_split=30, n_estimators=200, score=0.946969696969697, total=   1.0s\n",
      "[CV] criterion=gini, max_depth=10, max_features=5, min_samples_split=30, n_estimators=200 \n",
      "[CV]  criterion=gini, max_depth=10, max_features=5, min_samples_split=30, n_estimators=200, score=0.9829545454545454, total=   1.1s\n",
      "[CV] criterion=gini, max_depth=10, max_features=5, min_samples_split=30, n_estimators=200 \n",
      "[CV]  criterion=gini, max_depth=10, max_features=5, min_samples_split=30, n_estimators=200, score=0.9744318181818182, total=   1.2s\n",
      "[CV] criterion=gini, max_depth=10, max_features=5, min_samples_split=30, n_estimators=300 \n",
      "[CV]  criterion=gini, max_depth=10, max_features=5, min_samples_split=30, n_estimators=300, score=0.9460227272727273, total=   1.6s\n",
      "[CV] criterion=gini, max_depth=10, max_features=5, min_samples_split=30, n_estimators=300 \n",
      "[CV]  criterion=gini, max_depth=10, max_features=5, min_samples_split=30, n_estimators=300, score=0.9829545454545454, total=   1.8s\n",
      "[CV] criterion=gini, max_depth=10, max_features=5, min_samples_split=30, n_estimators=300 \n",
      "[CV]  criterion=gini, max_depth=10, max_features=5, min_samples_split=30, n_estimators=300, score=0.9734848484848485, total=   1.9s\n",
      "[CV] criterion=gini, max_depth=10, max_features=5, min_samples_split=30, n_estimators=500 \n",
      "[CV]  criterion=gini, max_depth=10, max_features=5, min_samples_split=30, n_estimators=500, score=0.9450757575757576, total=   2.9s\n",
      "[CV] criterion=gini, max_depth=10, max_features=5, min_samples_split=30, n_estimators=500 \n",
      "[CV]  criterion=gini, max_depth=10, max_features=5, min_samples_split=30, n_estimators=500, score=0.9801136363636364, total=   3.0s\n",
      "[CV] criterion=gini, max_depth=10, max_features=5, min_samples_split=30, n_estimators=500 \n",
      "[CV]  criterion=gini, max_depth=10, max_features=5, min_samples_split=30, n_estimators=500, score=0.9725378787878788, total=   2.9s\n",
      "[CV] criterion=gini, max_depth=10, max_features=5, min_samples_split=40, n_estimators=100 \n",
      "[CV]  criterion=gini, max_depth=10, max_features=5, min_samples_split=40, n_estimators=100, score=0.9460227272727273, total=   0.6s\n",
      "[CV] criterion=gini, max_depth=10, max_features=5, min_samples_split=40, n_estimators=100 \n",
      "[CV]  criterion=gini, max_depth=10, max_features=5, min_samples_split=40, n_estimators=100, score=0.9829545454545454, total=   0.6s\n",
      "[CV] criterion=gini, max_depth=10, max_features=5, min_samples_split=40, n_estimators=100 \n",
      "[CV]  criterion=gini, max_depth=10, max_features=5, min_samples_split=40, n_estimators=100, score=0.9715909090909091, total=   0.6s\n",
      "[CV] criterion=gini, max_depth=10, max_features=5, min_samples_split=40, n_estimators=200 \n",
      "[CV]  criterion=gini, max_depth=10, max_features=5, min_samples_split=40, n_estimators=200, score=0.9450757575757576, total=   1.1s\n",
      "[CV] criterion=gini, max_depth=10, max_features=5, min_samples_split=40, n_estimators=200 \n",
      "[CV]  criterion=gini, max_depth=10, max_features=5, min_samples_split=40, n_estimators=200, score=0.9829545454545454, total=   1.1s\n",
      "[CV] criterion=gini, max_depth=10, max_features=5, min_samples_split=40, n_estimators=200 \n",
      "[CV]  criterion=gini, max_depth=10, max_features=5, min_samples_split=40, n_estimators=200, score=0.9715909090909091, total=   1.3s\n",
      "[CV] criterion=gini, max_depth=10, max_features=5, min_samples_split=40, n_estimators=300 \n",
      "[CV]  criterion=gini, max_depth=10, max_features=5, min_samples_split=40, n_estimators=300, score=0.946969696969697, total=   1.8s\n",
      "[CV] criterion=gini, max_depth=10, max_features=5, min_samples_split=40, n_estimators=300 \n",
      "[CV]  criterion=gini, max_depth=10, max_features=5, min_samples_split=40, n_estimators=300, score=0.9829545454545454, total=   1.8s\n",
      "[CV] criterion=gini, max_depth=10, max_features=5, min_samples_split=40, n_estimators=300 \n",
      "[CV]  criterion=gini, max_depth=10, max_features=5, min_samples_split=40, n_estimators=300, score=0.9715909090909091, total=   1.6s\n",
      "[CV] criterion=gini, max_depth=10, max_features=5, min_samples_split=40, n_estimators=500 \n",
      "[CV]  criterion=gini, max_depth=10, max_features=5, min_samples_split=40, n_estimators=500, score=0.9460227272727273, total=   2.8s\n",
      "[CV] criterion=gini, max_depth=10, max_features=5, min_samples_split=40, n_estimators=500 \n",
      "[CV]  criterion=gini, max_depth=10, max_features=5, min_samples_split=40, n_estimators=500, score=0.9829545454545454, total=   3.3s\n",
      "[CV] criterion=gini, max_depth=10, max_features=5, min_samples_split=40, n_estimators=500 \n",
      "[CV]  criterion=gini, max_depth=10, max_features=5, min_samples_split=40, n_estimators=500, score=0.9715909090909091, total=   2.5s\n",
      "[CV] criterion=gini, max_depth=10, max_features=7, min_samples_split=10, n_estimators=100 \n",
      "[CV]  criterion=gini, max_depth=10, max_features=7, min_samples_split=10, n_estimators=100, score=0.946969696969697, total=   0.6s\n",
      "[CV] criterion=gini, max_depth=10, max_features=7, min_samples_split=10, n_estimators=100 \n",
      "[CV]  criterion=gini, max_depth=10, max_features=7, min_samples_split=10, n_estimators=100, score=0.9820075757575758, total=   0.7s\n",
      "[CV] criterion=gini, max_depth=10, max_features=7, min_samples_split=10, n_estimators=100 \n",
      "[CV]  criterion=gini, max_depth=10, max_features=7, min_samples_split=10, n_estimators=100, score=0.9734848484848485, total=   0.7s\n",
      "[CV] criterion=gini, max_depth=10, max_features=7, min_samples_split=10, n_estimators=200 \n",
      "[CV]  criterion=gini, max_depth=10, max_features=7, min_samples_split=10, n_estimators=200, score=0.946969696969697, total=   1.3s\n",
      "[CV] criterion=gini, max_depth=10, max_features=7, min_samples_split=10, n_estimators=200 \n",
      "[CV]  criterion=gini, max_depth=10, max_features=7, min_samples_split=10, n_estimators=200, score=0.9810606060606061, total=   1.7s\n",
      "[CV] criterion=gini, max_depth=10, max_features=7, min_samples_split=10, n_estimators=200 \n",
      "[CV]  criterion=gini, max_depth=10, max_features=7, min_samples_split=10, n_estimators=200, score=0.9734848484848485, total=   1.5s\n",
      "[CV] criterion=gini, max_depth=10, max_features=7, min_samples_split=10, n_estimators=300 \n",
      "[CV]  criterion=gini, max_depth=10, max_features=7, min_samples_split=10, n_estimators=300, score=0.9441287878787878, total=   2.0s\n",
      "[CV] criterion=gini, max_depth=10, max_features=7, min_samples_split=10, n_estimators=300 \n",
      "[CV]  criterion=gini, max_depth=10, max_features=7, min_samples_split=10, n_estimators=300, score=0.9791666666666666, total=   2.3s\n",
      "[CV] criterion=gini, max_depth=10, max_features=7, min_samples_split=10, n_estimators=300 \n",
      "[CV]  criterion=gini, max_depth=10, max_features=7, min_samples_split=10, n_estimators=300, score=0.9734848484848485, total=   2.1s\n",
      "[CV] criterion=gini, max_depth=10, max_features=7, min_samples_split=10, n_estimators=500 \n",
      "[CV]  criterion=gini, max_depth=10, max_features=7, min_samples_split=10, n_estimators=500, score=0.9422348484848485, total=   3.7s\n",
      "[CV] criterion=gini, max_depth=10, max_features=7, min_samples_split=10, n_estimators=500 \n",
      "[CV]  criterion=gini, max_depth=10, max_features=7, min_samples_split=10, n_estimators=500, score=0.9801136363636364, total=   3.7s\n",
      "[CV] criterion=gini, max_depth=10, max_features=7, min_samples_split=10, n_estimators=500 \n"
     ]
    },
    {
     "name": "stdout",
     "output_type": "stream",
     "text": [
      "[CV]  criterion=gini, max_depth=10, max_features=7, min_samples_split=10, n_estimators=500, score=0.9753787878787878, total=   3.8s\n",
      "[CV] criterion=gini, max_depth=10, max_features=7, min_samples_split=30, n_estimators=100 \n",
      "[CV]  criterion=gini, max_depth=10, max_features=7, min_samples_split=30, n_estimators=100, score=0.9507575757575758, total=   0.6s\n",
      "[CV] criterion=gini, max_depth=10, max_features=7, min_samples_split=30, n_estimators=100 \n",
      "[CV]  criterion=gini, max_depth=10, max_features=7, min_samples_split=30, n_estimators=100, score=0.9810606060606061, total=   0.8s\n",
      "[CV] criterion=gini, max_depth=10, max_features=7, min_samples_split=30, n_estimators=100 \n",
      "[CV]  criterion=gini, max_depth=10, max_features=7, min_samples_split=30, n_estimators=100, score=0.9706439393939394, total=   0.7s\n",
      "[CV] criterion=gini, max_depth=10, max_features=7, min_samples_split=30, n_estimators=200 \n",
      "[CV]  criterion=gini, max_depth=10, max_features=7, min_samples_split=30, n_estimators=200, score=0.9450757575757576, total=   1.2s\n",
      "[CV] criterion=gini, max_depth=10, max_features=7, min_samples_split=30, n_estimators=200 \n",
      "[CV]  criterion=gini, max_depth=10, max_features=7, min_samples_split=30, n_estimators=200, score=0.9810606060606061, total=   1.4s\n",
      "[CV] criterion=gini, max_depth=10, max_features=7, min_samples_split=30, n_estimators=200 \n",
      "[CV]  criterion=gini, max_depth=10, max_features=7, min_samples_split=30, n_estimators=200, score=0.9706439393939394, total=   1.5s\n",
      "[CV] criterion=gini, max_depth=10, max_features=7, min_samples_split=30, n_estimators=300 \n",
      "[CV]  criterion=gini, max_depth=10, max_features=7, min_samples_split=30, n_estimators=300, score=0.9479166666666666, total=   1.9s\n",
      "[CV] criterion=gini, max_depth=10, max_features=7, min_samples_split=30, n_estimators=300 \n",
      "[CV]  criterion=gini, max_depth=10, max_features=7, min_samples_split=30, n_estimators=300, score=0.9810606060606061, total=   2.1s\n",
      "[CV] criterion=gini, max_depth=10, max_features=7, min_samples_split=30, n_estimators=300 \n",
      "[CV]  criterion=gini, max_depth=10, max_features=7, min_samples_split=30, n_estimators=300, score=0.9715909090909091, total=   2.4s\n",
      "[CV] criterion=gini, max_depth=10, max_features=7, min_samples_split=30, n_estimators=500 \n",
      "[CV]  criterion=gini, max_depth=10, max_features=7, min_samples_split=30, n_estimators=500, score=0.946969696969697, total=   3.2s\n",
      "[CV] criterion=gini, max_depth=10, max_features=7, min_samples_split=30, n_estimators=500 \n",
      "[CV]  criterion=gini, max_depth=10, max_features=7, min_samples_split=30, n_estimators=500, score=0.9801136363636364, total=   3.7s\n",
      "[CV] criterion=gini, max_depth=10, max_features=7, min_samples_split=30, n_estimators=500 \n",
      "[CV]  criterion=gini, max_depth=10, max_features=7, min_samples_split=30, n_estimators=500, score=0.9715909090909091, total=   3.5s\n",
      "[CV] criterion=gini, max_depth=10, max_features=7, min_samples_split=40, n_estimators=100 \n",
      "[CV]  criterion=gini, max_depth=10, max_features=7, min_samples_split=40, n_estimators=100, score=0.9460227272727273, total=   0.6s\n",
      "[CV] criterion=gini, max_depth=10, max_features=7, min_samples_split=40, n_estimators=100 \n",
      "[CV]  criterion=gini, max_depth=10, max_features=7, min_samples_split=40, n_estimators=100, score=0.9801136363636364, total=   0.8s\n",
      "[CV] criterion=gini, max_depth=10, max_features=7, min_samples_split=40, n_estimators=100 \n",
      "[CV]  criterion=gini, max_depth=10, max_features=7, min_samples_split=40, n_estimators=100, score=0.9696969696969697, total=   0.7s\n",
      "[CV] criterion=gini, max_depth=10, max_features=7, min_samples_split=40, n_estimators=200 \n",
      "[CV]  criterion=gini, max_depth=10, max_features=7, min_samples_split=40, n_estimators=200, score=0.946969696969697, total=   1.3s\n",
      "[CV] criterion=gini, max_depth=10, max_features=7, min_samples_split=40, n_estimators=200 \n",
      "[CV]  criterion=gini, max_depth=10, max_features=7, min_samples_split=40, n_estimators=200, score=0.9820075757575758, total=   1.6s\n",
      "[CV] criterion=gini, max_depth=10, max_features=7, min_samples_split=40, n_estimators=200 \n",
      "[CV]  criterion=gini, max_depth=10, max_features=7, min_samples_split=40, n_estimators=200, score=0.9696969696969697, total=   1.5s\n",
      "[CV] criterion=gini, max_depth=10, max_features=7, min_samples_split=40, n_estimators=300 \n",
      "[CV]  criterion=gini, max_depth=10, max_features=7, min_samples_split=40, n_estimators=300, score=0.946969696969697, total=   2.3s\n",
      "[CV] criterion=gini, max_depth=10, max_features=7, min_samples_split=40, n_estimators=300 \n",
      "[CV]  criterion=gini, max_depth=10, max_features=7, min_samples_split=40, n_estimators=300, score=0.9801136363636364, total=   2.3s\n",
      "[CV] criterion=gini, max_depth=10, max_features=7, min_samples_split=40, n_estimators=300 \n",
      "[CV]  criterion=gini, max_depth=10, max_features=7, min_samples_split=40, n_estimators=300, score=0.9715909090909091, total=   2.2s\n",
      "[CV] criterion=gini, max_depth=10, max_features=7, min_samples_split=40, n_estimators=500 \n",
      "[CV]  criterion=gini, max_depth=10, max_features=7, min_samples_split=40, n_estimators=500, score=0.946969696969697, total=   3.3s\n",
      "[CV] criterion=gini, max_depth=10, max_features=7, min_samples_split=40, n_estimators=500 \n",
      "[CV]  criterion=gini, max_depth=10, max_features=7, min_samples_split=40, n_estimators=500, score=0.9810606060606061, total=   3.6s\n",
      "[CV] criterion=gini, max_depth=10, max_features=7, min_samples_split=40, n_estimators=500 \n",
      "[CV]  criterion=gini, max_depth=10, max_features=7, min_samples_split=40, n_estimators=500, score=0.9696969696969697, total=   3.6s\n",
      "[CV] criterion=gini, max_depth=10, max_features=10, min_samples_split=10, n_estimators=100 \n",
      "[CV]  criterion=gini, max_depth=10, max_features=10, min_samples_split=10, n_estimators=100, score=0.9450757575757576, total=   0.9s\n",
      "[CV] criterion=gini, max_depth=10, max_features=10, min_samples_split=10, n_estimators=100 \n",
      "[CV]  criterion=gini, max_depth=10, max_features=10, min_samples_split=10, n_estimators=100, score=0.9810606060606061, total=   1.1s\n",
      "[CV] criterion=gini, max_depth=10, max_features=10, min_samples_split=10, n_estimators=100 \n",
      "[CV]  criterion=gini, max_depth=10, max_features=10, min_samples_split=10, n_estimators=100, score=0.9734848484848485, total=   1.0s\n",
      "[CV] criterion=gini, max_depth=10, max_features=10, min_samples_split=10, n_estimators=200 \n",
      "[CV]  criterion=gini, max_depth=10, max_features=10, min_samples_split=10, n_estimators=200, score=0.9441287878787878, total=   1.8s\n",
      "[CV] criterion=gini, max_depth=10, max_features=10, min_samples_split=10, n_estimators=200 \n",
      "[CV]  criterion=gini, max_depth=10, max_features=10, min_samples_split=10, n_estimators=200, score=0.9801136363636364, total=   2.2s\n",
      "[CV] criterion=gini, max_depth=10, max_features=10, min_samples_split=10, n_estimators=200 \n",
      "[CV]  criterion=gini, max_depth=10, max_features=10, min_samples_split=10, n_estimators=200, score=0.9734848484848485, total=   1.8s\n",
      "[CV] criterion=gini, max_depth=10, max_features=10, min_samples_split=10, n_estimators=300 \n",
      "[CV]  criterion=gini, max_depth=10, max_features=10, min_samples_split=10, n_estimators=300, score=0.9431818181818182, total=   2.5s\n",
      "[CV] criterion=gini, max_depth=10, max_features=10, min_samples_split=10, n_estimators=300 \n",
      "[CV]  criterion=gini, max_depth=10, max_features=10, min_samples_split=10, n_estimators=300, score=0.9801136363636364, total=   2.9s\n",
      "[CV] criterion=gini, max_depth=10, max_features=10, min_samples_split=10, n_estimators=300 \n",
      "[CV]  criterion=gini, max_depth=10, max_features=10, min_samples_split=10, n_estimators=300, score=0.9744318181818182, total=   2.7s\n",
      "[CV] criterion=gini, max_depth=10, max_features=10, min_samples_split=10, n_estimators=500 \n",
      "[CV]  criterion=gini, max_depth=10, max_features=10, min_samples_split=10, n_estimators=500, score=0.9450757575757576, total=   4.2s\n",
      "[CV] criterion=gini, max_depth=10, max_features=10, min_samples_split=10, n_estimators=500 \n",
      "[CV]  criterion=gini, max_depth=10, max_features=10, min_samples_split=10, n_estimators=500, score=0.9801136363636364, total=   4.8s\n",
      "[CV] criterion=gini, max_depth=10, max_features=10, min_samples_split=10, n_estimators=500 \n",
      "[CV]  criterion=gini, max_depth=10, max_features=10, min_samples_split=10, n_estimators=500, score=0.9725378787878788, total=   4.4s\n",
      "[CV] criterion=gini, max_depth=10, max_features=10, min_samples_split=30, n_estimators=100 \n"
     ]
    },
    {
     "name": "stdout",
     "output_type": "stream",
     "text": [
      "[CV]  criterion=gini, max_depth=10, max_features=10, min_samples_split=30, n_estimators=100, score=0.9422348484848485, total=   0.8s\n",
      "[CV] criterion=gini, max_depth=10, max_features=10, min_samples_split=30, n_estimators=100 \n",
      "[CV]  criterion=gini, max_depth=10, max_features=10, min_samples_split=30, n_estimators=100, score=0.9801136363636364, total=   0.9s\n",
      "[CV] criterion=gini, max_depth=10, max_features=10, min_samples_split=30, n_estimators=100 \n",
      "[CV]  criterion=gini, max_depth=10, max_features=10, min_samples_split=30, n_estimators=100, score=0.96875, total=   0.9s\n",
      "[CV] criterion=gini, max_depth=10, max_features=10, min_samples_split=30, n_estimators=200 \n",
      "[CV]  criterion=gini, max_depth=10, max_features=10, min_samples_split=30, n_estimators=200, score=0.9450757575757576, total=   1.6s\n",
      "[CV] criterion=gini, max_depth=10, max_features=10, min_samples_split=30, n_estimators=200 \n",
      "[CV]  criterion=gini, max_depth=10, max_features=10, min_samples_split=30, n_estimators=200, score=0.9791666666666666, total=   1.9s\n",
      "[CV] criterion=gini, max_depth=10, max_features=10, min_samples_split=30, n_estimators=200 \n",
      "[CV]  criterion=gini, max_depth=10, max_features=10, min_samples_split=30, n_estimators=200, score=0.9715909090909091, total=   1.7s\n",
      "[CV] criterion=gini, max_depth=10, max_features=10, min_samples_split=30, n_estimators=300 \n",
      "[CV]  criterion=gini, max_depth=10, max_features=10, min_samples_split=30, n_estimators=300, score=0.9450757575757576, total=   2.4s\n",
      "[CV] criterion=gini, max_depth=10, max_features=10, min_samples_split=30, n_estimators=300 \n",
      "[CV]  criterion=gini, max_depth=10, max_features=10, min_samples_split=30, n_estimators=300, score=0.9791666666666666, total=   2.9s\n",
      "[CV] criterion=gini, max_depth=10, max_features=10, min_samples_split=30, n_estimators=300 \n",
      "[CV]  criterion=gini, max_depth=10, max_features=10, min_samples_split=30, n_estimators=300, score=0.9706439393939394, total=   2.8s\n",
      "[CV] criterion=gini, max_depth=10, max_features=10, min_samples_split=30, n_estimators=500 \n",
      "[CV]  criterion=gini, max_depth=10, max_features=10, min_samples_split=30, n_estimators=500, score=0.9450757575757576, total=   4.2s\n",
      "[CV] criterion=gini, max_depth=10, max_features=10, min_samples_split=30, n_estimators=500 \n",
      "[CV]  criterion=gini, max_depth=10, max_features=10, min_samples_split=30, n_estimators=500, score=0.9791666666666666, total=   4.9s\n",
      "[CV] criterion=gini, max_depth=10, max_features=10, min_samples_split=30, n_estimators=500 \n",
      "[CV]  criterion=gini, max_depth=10, max_features=10, min_samples_split=30, n_estimators=500, score=0.9706439393939394, total=   4.3s\n",
      "[CV] criterion=gini, max_depth=10, max_features=10, min_samples_split=40, n_estimators=100 \n",
      "[CV]  criterion=gini, max_depth=10, max_features=10, min_samples_split=40, n_estimators=100, score=0.9450757575757576, total=   0.8s\n",
      "[CV] criterion=gini, max_depth=10, max_features=10, min_samples_split=40, n_estimators=100 \n",
      "[CV]  criterion=gini, max_depth=10, max_features=10, min_samples_split=40, n_estimators=100, score=0.9744318181818182, total=   0.9s\n",
      "[CV] criterion=gini, max_depth=10, max_features=10, min_samples_split=40, n_estimators=100 \n",
      "[CV]  criterion=gini, max_depth=10, max_features=10, min_samples_split=40, n_estimators=100, score=0.9696969696969697, total=   0.9s\n",
      "[CV] criterion=gini, max_depth=10, max_features=10, min_samples_split=40, n_estimators=200 \n",
      "[CV]  criterion=gini, max_depth=10, max_features=10, min_samples_split=40, n_estimators=200, score=0.9479166666666666, total=   1.6s\n",
      "[CV] criterion=gini, max_depth=10, max_features=10, min_samples_split=40, n_estimators=200 \n",
      "[CV]  criterion=gini, max_depth=10, max_features=10, min_samples_split=40, n_estimators=200, score=0.9791666666666666, total=   1.9s\n",
      "[CV] criterion=gini, max_depth=10, max_features=10, min_samples_split=40, n_estimators=200 \n",
      "[CV]  criterion=gini, max_depth=10, max_features=10, min_samples_split=40, n_estimators=200, score=0.9706439393939394, total=   1.7s\n",
      "[CV] criterion=gini, max_depth=10, max_features=10, min_samples_split=40, n_estimators=300 \n",
      "[CV]  criterion=gini, max_depth=10, max_features=10, min_samples_split=40, n_estimators=300, score=0.9479166666666666, total=   2.4s\n",
      "[CV] criterion=gini, max_depth=10, max_features=10, min_samples_split=40, n_estimators=300 \n",
      "[CV]  criterion=gini, max_depth=10, max_features=10, min_samples_split=40, n_estimators=300, score=0.9791666666666666, total=   3.0s\n",
      "[CV] criterion=gini, max_depth=10, max_features=10, min_samples_split=40, n_estimators=300 \n",
      "[CV]  criterion=gini, max_depth=10, max_features=10, min_samples_split=40, n_estimators=300, score=0.9715909090909091, total=   2.9s\n",
      "[CV] criterion=gini, max_depth=10, max_features=10, min_samples_split=40, n_estimators=500 \n",
      "[CV]  criterion=gini, max_depth=10, max_features=10, min_samples_split=40, n_estimators=500, score=0.9479166666666666, total=   4.2s\n",
      "[CV] criterion=gini, max_depth=10, max_features=10, min_samples_split=40, n_estimators=500 \n",
      "[CV]  criterion=gini, max_depth=10, max_features=10, min_samples_split=40, n_estimators=500, score=0.9791666666666666, total=   5.0s\n",
      "[CV] criterion=gini, max_depth=10, max_features=10, min_samples_split=40, n_estimators=500 \n",
      "[CV]  criterion=gini, max_depth=10, max_features=10, min_samples_split=40, n_estimators=500, score=0.9696969696969697, total=   4.5s\n",
      "[CV] criterion=gini, max_depth=15, max_features=3, min_samples_split=10, n_estimators=100 \n",
      "[CV]  criterion=gini, max_depth=15, max_features=3, min_samples_split=10, n_estimators=100, score=0.9441287878787878, total=   0.4s\n",
      "[CV] criterion=gini, max_depth=15, max_features=3, min_samples_split=10, n_estimators=100 \n",
      "[CV]  criterion=gini, max_depth=15, max_features=3, min_samples_split=10, n_estimators=100, score=0.9829545454545454, total=   0.5s\n",
      "[CV] criterion=gini, max_depth=15, max_features=3, min_samples_split=10, n_estimators=100 \n",
      "[CV]  criterion=gini, max_depth=15, max_features=3, min_samples_split=10, n_estimators=100, score=0.9659090909090909, total=   0.4s\n",
      "[CV] criterion=gini, max_depth=15, max_features=3, min_samples_split=10, n_estimators=200 \n",
      "[CV]  criterion=gini, max_depth=15, max_features=3, min_samples_split=10, n_estimators=200, score=0.9393939393939394, total=   1.0s\n",
      "[CV] criterion=gini, max_depth=15, max_features=3, min_samples_split=10, n_estimators=200 \n",
      "[CV]  criterion=gini, max_depth=15, max_features=3, min_samples_split=10, n_estimators=200, score=0.9820075757575758, total=   0.9s\n",
      "[CV] criterion=gini, max_depth=15, max_features=3, min_samples_split=10, n_estimators=200 \n",
      "[CV]  criterion=gini, max_depth=15, max_features=3, min_samples_split=10, n_estimators=200, score=0.9706439393939394, total=   0.9s\n",
      "[CV] criterion=gini, max_depth=15, max_features=3, min_samples_split=10, n_estimators=300 \n",
      "[CV]  criterion=gini, max_depth=15, max_features=3, min_samples_split=10, n_estimators=300, score=0.9393939393939394, total=   1.2s\n",
      "[CV] criterion=gini, max_depth=15, max_features=3, min_samples_split=10, n_estimators=300 \n",
      "[CV]  criterion=gini, max_depth=15, max_features=3, min_samples_split=10, n_estimators=300, score=0.9820075757575758, total=   1.4s\n",
      "[CV] criterion=gini, max_depth=15, max_features=3, min_samples_split=10, n_estimators=300 \n",
      "[CV]  criterion=gini, max_depth=15, max_features=3, min_samples_split=10, n_estimators=300, score=0.9668560606060606, total=   1.3s\n",
      "[CV] criterion=gini, max_depth=15, max_features=3, min_samples_split=10, n_estimators=500 \n",
      "[CV]  criterion=gini, max_depth=15, max_features=3, min_samples_split=10, n_estimators=500, score=0.9375, total=   2.0s\n",
      "[CV] criterion=gini, max_depth=15, max_features=3, min_samples_split=10, n_estimators=500 \n",
      "[CV]  criterion=gini, max_depth=15, max_features=3, min_samples_split=10, n_estimators=500, score=0.9829545454545454, total=   2.3s\n",
      "[CV] criterion=gini, max_depth=15, max_features=3, min_samples_split=10, n_estimators=500 \n",
      "[CV]  criterion=gini, max_depth=15, max_features=3, min_samples_split=10, n_estimators=500, score=0.9668560606060606, total=   2.1s\n",
      "[CV] criterion=gini, max_depth=15, max_features=3, min_samples_split=30, n_estimators=100 \n",
      "[CV]  criterion=gini, max_depth=15, max_features=3, min_samples_split=30, n_estimators=100, score=0.9356060606060606, total=   0.4s\n",
      "[CV] criterion=gini, max_depth=15, max_features=3, min_samples_split=30, n_estimators=100 \n"
     ]
    },
    {
     "name": "stdout",
     "output_type": "stream",
     "text": [
      "[CV]  criterion=gini, max_depth=15, max_features=3, min_samples_split=30, n_estimators=100, score=0.9820075757575758, total=   0.5s\n",
      "[CV] criterion=gini, max_depth=15, max_features=3, min_samples_split=30, n_estimators=100 \n",
      "[CV]  criterion=gini, max_depth=15, max_features=3, min_samples_split=30, n_estimators=100, score=0.96875, total=   0.4s\n",
      "[CV] criterion=gini, max_depth=15, max_features=3, min_samples_split=30, n_estimators=200 \n",
      "[CV]  criterion=gini, max_depth=15, max_features=3, min_samples_split=30, n_estimators=200, score=0.9412878787878788, total=   0.8s\n",
      "[CV] criterion=gini, max_depth=15, max_features=3, min_samples_split=30, n_estimators=200 \n",
      "[CV]  criterion=gini, max_depth=15, max_features=3, min_samples_split=30, n_estimators=200, score=0.9839015151515151, total=   0.8s\n",
      "[CV] criterion=gini, max_depth=15, max_features=3, min_samples_split=30, n_estimators=200 \n",
      "[CV]  criterion=gini, max_depth=15, max_features=3, min_samples_split=30, n_estimators=200, score=0.9734848484848485, total=   0.9s\n",
      "[CV] criterion=gini, max_depth=15, max_features=3, min_samples_split=30, n_estimators=300 \n",
      "[CV]  criterion=gini, max_depth=15, max_features=3, min_samples_split=30, n_estimators=300, score=0.9422348484848485, total=   1.1s\n",
      "[CV] criterion=gini, max_depth=15, max_features=3, min_samples_split=30, n_estimators=300 \n",
      "[CV]  criterion=gini, max_depth=15, max_features=3, min_samples_split=30, n_estimators=300, score=0.9839015151515151, total=   1.3s\n",
      "[CV] criterion=gini, max_depth=15, max_features=3, min_samples_split=30, n_estimators=300 \n",
      "[CV]  criterion=gini, max_depth=15, max_features=3, min_samples_split=30, n_estimators=300, score=0.9696969696969697, total=   1.7s\n",
      "[CV] criterion=gini, max_depth=15, max_features=3, min_samples_split=30, n_estimators=500 \n",
      "[CV]  criterion=gini, max_depth=15, max_features=3, min_samples_split=30, n_estimators=500, score=0.9441287878787878, total=   2.2s\n",
      "[CV] criterion=gini, max_depth=15, max_features=3, min_samples_split=30, n_estimators=500 \n",
      "[CV]  criterion=gini, max_depth=15, max_features=3, min_samples_split=30, n_estimators=500, score=0.9829545454545454, total=   2.0s\n",
      "[CV] criterion=gini, max_depth=15, max_features=3, min_samples_split=30, n_estimators=500 \n",
      "[CV]  criterion=gini, max_depth=15, max_features=3, min_samples_split=30, n_estimators=500, score=0.96875, total=   1.9s\n",
      "[CV] criterion=gini, max_depth=15, max_features=3, min_samples_split=40, n_estimators=100 \n",
      "[CV]  criterion=gini, max_depth=15, max_features=3, min_samples_split=40, n_estimators=100, score=0.9422348484848485, total=   0.4s\n",
      "[CV] criterion=gini, max_depth=15, max_features=3, min_samples_split=40, n_estimators=100 \n",
      "[CV]  criterion=gini, max_depth=15, max_features=3, min_samples_split=40, n_estimators=100, score=0.9810606060606061, total=   0.4s\n",
      "[CV] criterion=gini, max_depth=15, max_features=3, min_samples_split=40, n_estimators=100 \n",
      "[CV]  criterion=gini, max_depth=15, max_features=3, min_samples_split=40, n_estimators=100, score=0.96875, total=   0.4s\n",
      "[CV] criterion=gini, max_depth=15, max_features=3, min_samples_split=40, n_estimators=200 \n",
      "[CV]  criterion=gini, max_depth=15, max_features=3, min_samples_split=40, n_estimators=200, score=0.9441287878787878, total=   0.8s\n",
      "[CV] criterion=gini, max_depth=15, max_features=3, min_samples_split=40, n_estimators=200 \n",
      "[CV]  criterion=gini, max_depth=15, max_features=3, min_samples_split=40, n_estimators=200, score=0.9820075757575758, total=   0.9s\n",
      "[CV] criterion=gini, max_depth=15, max_features=3, min_samples_split=40, n_estimators=200 \n",
      "[CV]  criterion=gini, max_depth=15, max_features=3, min_samples_split=40, n_estimators=200, score=0.9715909090909091, total=   0.8s\n",
      "[CV] criterion=gini, max_depth=15, max_features=3, min_samples_split=40, n_estimators=300 \n",
      "[CV]  criterion=gini, max_depth=15, max_features=3, min_samples_split=40, n_estimators=300, score=0.9441287878787878, total=   1.1s\n",
      "[CV] criterion=gini, max_depth=15, max_features=3, min_samples_split=40, n_estimators=300 \n",
      "[CV]  criterion=gini, max_depth=15, max_features=3, min_samples_split=40, n_estimators=300, score=0.9829545454545454, total=   1.4s\n",
      "[CV] criterion=gini, max_depth=15, max_features=3, min_samples_split=40, n_estimators=300 \n",
      "[CV]  criterion=gini, max_depth=15, max_features=3, min_samples_split=40, n_estimators=300, score=0.9725378787878788, total=   1.2s\n",
      "[CV] criterion=gini, max_depth=15, max_features=3, min_samples_split=40, n_estimators=500 \n",
      "[CV]  criterion=gini, max_depth=15, max_features=3, min_samples_split=40, n_estimators=500, score=0.9422348484848485, total=   1.9s\n",
      "[CV] criterion=gini, max_depth=15, max_features=3, min_samples_split=40, n_estimators=500 \n",
      "[CV]  criterion=gini, max_depth=15, max_features=3, min_samples_split=40, n_estimators=500, score=0.9829545454545454, total=   2.1s\n",
      "[CV] criterion=gini, max_depth=15, max_features=3, min_samples_split=40, n_estimators=500 \n",
      "[CV]  criterion=gini, max_depth=15, max_features=3, min_samples_split=40, n_estimators=500, score=0.9706439393939394, total=   1.8s\n",
      "[CV] criterion=gini, max_depth=15, max_features=5, min_samples_split=10, n_estimators=100 \n",
      "[CV]  criterion=gini, max_depth=15, max_features=5, min_samples_split=10, n_estimators=100, score=0.9441287878787878, total=   0.5s\n",
      "[CV] criterion=gini, max_depth=15, max_features=5, min_samples_split=10, n_estimators=100 \n",
      "[CV]  criterion=gini, max_depth=15, max_features=5, min_samples_split=10, n_estimators=100, score=0.9810606060606061, total=   0.6s\n",
      "[CV] criterion=gini, max_depth=15, max_features=5, min_samples_split=10, n_estimators=100 \n",
      "[CV]  criterion=gini, max_depth=15, max_features=5, min_samples_split=10, n_estimators=100, score=0.9715909090909091, total=   0.5s\n",
      "[CV] criterion=gini, max_depth=15, max_features=5, min_samples_split=10, n_estimators=200 \n",
      "[CV]  criterion=gini, max_depth=15, max_features=5, min_samples_split=10, n_estimators=200, score=0.9403409090909091, total=   1.0s\n",
      "[CV] criterion=gini, max_depth=15, max_features=5, min_samples_split=10, n_estimators=200 \n",
      "[CV]  criterion=gini, max_depth=15, max_features=5, min_samples_split=10, n_estimators=200, score=0.9810606060606061, total=   1.1s\n",
      "[CV] criterion=gini, max_depth=15, max_features=5, min_samples_split=10, n_estimators=200 \n",
      "[CV]  criterion=gini, max_depth=15, max_features=5, min_samples_split=10, n_estimators=200, score=0.9744318181818182, total=   1.0s\n",
      "[CV] criterion=gini, max_depth=15, max_features=5, min_samples_split=10, n_estimators=300 \n",
      "[CV]  criterion=gini, max_depth=15, max_features=5, min_samples_split=10, n_estimators=300, score=0.9403409090909091, total=   1.5s\n",
      "[CV] criterion=gini, max_depth=15, max_features=5, min_samples_split=10, n_estimators=300 \n",
      "[CV]  criterion=gini, max_depth=15, max_features=5, min_samples_split=10, n_estimators=300, score=0.9820075757575758, total=   1.7s\n",
      "[CV] criterion=gini, max_depth=15, max_features=5, min_samples_split=10, n_estimators=300 \n",
      "[CV]  criterion=gini, max_depth=15, max_features=5, min_samples_split=10, n_estimators=300, score=0.9734848484848485, total=   1.6s\n",
      "[CV] criterion=gini, max_depth=15, max_features=5, min_samples_split=10, n_estimators=500 \n",
      "[CV]  criterion=gini, max_depth=15, max_features=5, min_samples_split=10, n_estimators=500, score=0.9422348484848485, total=   2.4s\n",
      "[CV] criterion=gini, max_depth=15, max_features=5, min_samples_split=10, n_estimators=500 \n",
      "[CV]  criterion=gini, max_depth=15, max_features=5, min_samples_split=10, n_estimators=500, score=0.9820075757575758, total=   2.9s\n",
      "[CV] criterion=gini, max_depth=15, max_features=5, min_samples_split=10, n_estimators=500 \n",
      "[CV]  criterion=gini, max_depth=15, max_features=5, min_samples_split=10, n_estimators=500, score=0.9734848484848485, total=   2.9s\n",
      "[CV] criterion=gini, max_depth=15, max_features=5, min_samples_split=30, n_estimators=100 \n",
      "[CV]  criterion=gini, max_depth=15, max_features=5, min_samples_split=30, n_estimators=100, score=0.9460227272727273, total=   0.5s\n",
      "[CV] criterion=gini, max_depth=15, max_features=5, min_samples_split=30, n_estimators=100 \n",
      "[CV]  criterion=gini, max_depth=15, max_features=5, min_samples_split=30, n_estimators=100, score=0.9810606060606061, total=   0.5s\n",
      "[CV] criterion=gini, max_depth=15, max_features=5, min_samples_split=30, n_estimators=100 \n"
     ]
    },
    {
     "name": "stdout",
     "output_type": "stream",
     "text": [
      "[CV]  criterion=gini, max_depth=15, max_features=5, min_samples_split=30, n_estimators=100, score=0.9725378787878788, total=   0.5s\n",
      "[CV] criterion=gini, max_depth=15, max_features=5, min_samples_split=30, n_estimators=200 \n",
      "[CV]  criterion=gini, max_depth=15, max_features=5, min_samples_split=30, n_estimators=200, score=0.9412878787878788, total=   1.0s\n",
      "[CV] criterion=gini, max_depth=15, max_features=5, min_samples_split=30, n_estimators=200 \n",
      "[CV]  criterion=gini, max_depth=15, max_features=5, min_samples_split=30, n_estimators=200, score=0.9829545454545454, total=   1.1s\n",
      "[CV] criterion=gini, max_depth=15, max_features=5, min_samples_split=30, n_estimators=200 \n",
      "[CV]  criterion=gini, max_depth=15, max_features=5, min_samples_split=30, n_estimators=200, score=0.9715909090909091, total=   1.1s\n",
      "[CV] criterion=gini, max_depth=15, max_features=5, min_samples_split=30, n_estimators=300 \n",
      "[CV]  criterion=gini, max_depth=15, max_features=5, min_samples_split=30, n_estimators=300, score=0.9441287878787878, total=   1.6s\n",
      "[CV] criterion=gini, max_depth=15, max_features=5, min_samples_split=30, n_estimators=300 \n",
      "[CV]  criterion=gini, max_depth=15, max_features=5, min_samples_split=30, n_estimators=300, score=0.9810606060606061, total=   1.8s\n",
      "[CV] criterion=gini, max_depth=15, max_features=5, min_samples_split=30, n_estimators=300 \n",
      "[CV]  criterion=gini, max_depth=15, max_features=5, min_samples_split=30, n_estimators=300, score=0.9725378787878788, total=   1.7s\n",
      "[CV] criterion=gini, max_depth=15, max_features=5, min_samples_split=30, n_estimators=500 \n",
      "[CV]  criterion=gini, max_depth=15, max_features=5, min_samples_split=30, n_estimators=500, score=0.9460227272727273, total=   2.4s\n",
      "[CV] criterion=gini, max_depth=15, max_features=5, min_samples_split=30, n_estimators=500 \n",
      "[CV]  criterion=gini, max_depth=15, max_features=5, min_samples_split=30, n_estimators=500, score=0.9810606060606061, total=   2.7s\n",
      "[CV] criterion=gini, max_depth=15, max_features=5, min_samples_split=30, n_estimators=500 \n",
      "[CV]  criterion=gini, max_depth=15, max_features=5, min_samples_split=30, n_estimators=500, score=0.9725378787878788, total=   2.7s\n",
      "[CV] criterion=gini, max_depth=15, max_features=5, min_samples_split=40, n_estimators=100 \n",
      "[CV]  criterion=gini, max_depth=15, max_features=5, min_samples_split=40, n_estimators=100, score=0.9431818181818182, total=   0.5s\n",
      "[CV] criterion=gini, max_depth=15, max_features=5, min_samples_split=40, n_estimators=100 \n",
      "[CV]  criterion=gini, max_depth=15, max_features=5, min_samples_split=40, n_estimators=100, score=0.9829545454545454, total=   0.5s\n",
      "[CV] criterion=gini, max_depth=15, max_features=5, min_samples_split=40, n_estimators=100 \n",
      "[CV]  criterion=gini, max_depth=15, max_features=5, min_samples_split=40, n_estimators=100, score=0.9744318181818182, total=   0.5s\n",
      "[CV] criterion=gini, max_depth=15, max_features=5, min_samples_split=40, n_estimators=200 \n",
      "[CV]  criterion=gini, max_depth=15, max_features=5, min_samples_split=40, n_estimators=200, score=0.9460227272727273, total=   1.0s\n",
      "[CV] criterion=gini, max_depth=15, max_features=5, min_samples_split=40, n_estimators=200 \n",
      "[CV]  criterion=gini, max_depth=15, max_features=5, min_samples_split=40, n_estimators=200, score=0.9810606060606061, total=   1.1s\n",
      "[CV] criterion=gini, max_depth=15, max_features=5, min_samples_split=40, n_estimators=200 \n",
      "[CV]  criterion=gini, max_depth=15, max_features=5, min_samples_split=40, n_estimators=200, score=0.9725378787878788, total=   1.0s\n",
      "[CV] criterion=gini, max_depth=15, max_features=5, min_samples_split=40, n_estimators=300 \n",
      "[CV]  criterion=gini, max_depth=15, max_features=5, min_samples_split=40, n_estimators=300, score=0.9450757575757576, total=   1.5s\n",
      "[CV] criterion=gini, max_depth=15, max_features=5, min_samples_split=40, n_estimators=300 \n",
      "[CV]  criterion=gini, max_depth=15, max_features=5, min_samples_split=40, n_estimators=300, score=0.9829545454545454, total=   1.6s\n",
      "[CV] criterion=gini, max_depth=15, max_features=5, min_samples_split=40, n_estimators=300 \n",
      "[CV]  criterion=gini, max_depth=15, max_features=5, min_samples_split=40, n_estimators=300, score=0.9715909090909091, total=   1.6s\n",
      "[CV] criterion=gini, max_depth=15, max_features=5, min_samples_split=40, n_estimators=500 \n",
      "[CV]  criterion=gini, max_depth=15, max_features=5, min_samples_split=40, n_estimators=500, score=0.9450757575757576, total=   2.4s\n",
      "[CV] criterion=gini, max_depth=15, max_features=5, min_samples_split=40, n_estimators=500 \n",
      "[CV]  criterion=gini, max_depth=15, max_features=5, min_samples_split=40, n_estimators=500, score=0.9820075757575758, total=   2.7s\n",
      "[CV] criterion=gini, max_depth=15, max_features=5, min_samples_split=40, n_estimators=500 \n",
      "[CV]  criterion=gini, max_depth=15, max_features=5, min_samples_split=40, n_estimators=500, score=0.9715909090909091, total=   2.7s\n",
      "[CV] criterion=gini, max_depth=15, max_features=7, min_samples_split=10, n_estimators=100 \n",
      "[CV]  criterion=gini, max_depth=15, max_features=7, min_samples_split=10, n_estimators=100, score=0.9460227272727273, total=   0.6s\n",
      "[CV] criterion=gini, max_depth=15, max_features=7, min_samples_split=10, n_estimators=100 \n",
      "[CV]  criterion=gini, max_depth=15, max_features=7, min_samples_split=10, n_estimators=100, score=0.9820075757575758, total=   0.7s\n",
      "[CV] criterion=gini, max_depth=15, max_features=7, min_samples_split=10, n_estimators=100 \n",
      "[CV]  criterion=gini, max_depth=15, max_features=7, min_samples_split=10, n_estimators=100, score=0.9744318181818182, total=   0.7s\n",
      "[CV] criterion=gini, max_depth=15, max_features=7, min_samples_split=10, n_estimators=200 \n",
      "[CV]  criterion=gini, max_depth=15, max_features=7, min_samples_split=10, n_estimators=200, score=0.9431818181818182, total=   1.3s\n",
      "[CV] criterion=gini, max_depth=15, max_features=7, min_samples_split=10, n_estimators=200 \n",
      "[CV]  criterion=gini, max_depth=15, max_features=7, min_samples_split=10, n_estimators=200, score=0.9820075757575758, total=   1.4s\n",
      "[CV] criterion=gini, max_depth=15, max_features=7, min_samples_split=10, n_estimators=200 \n",
      "[CV]  criterion=gini, max_depth=15, max_features=7, min_samples_split=10, n_estimators=200, score=0.9744318181818182, total=   1.3s\n",
      "[CV] criterion=gini, max_depth=15, max_features=7, min_samples_split=10, n_estimators=300 \n",
      "[CV]  criterion=gini, max_depth=15, max_features=7, min_samples_split=10, n_estimators=300, score=0.9431818181818182, total=   1.9s\n",
      "[CV] criterion=gini, max_depth=15, max_features=7, min_samples_split=10, n_estimators=300 \n",
      "[CV]  criterion=gini, max_depth=15, max_features=7, min_samples_split=10, n_estimators=300, score=0.9810606060606061, total=   2.5s\n",
      "[CV] criterion=gini, max_depth=15, max_features=7, min_samples_split=10, n_estimators=300 \n",
      "[CV]  criterion=gini, max_depth=15, max_features=7, min_samples_split=10, n_estimators=300, score=0.9744318181818182, total=   2.3s\n",
      "[CV] criterion=gini, max_depth=15, max_features=7, min_samples_split=10, n_estimators=500 \n",
      "[CV]  criterion=gini, max_depth=15, max_features=7, min_samples_split=10, n_estimators=500, score=0.9441287878787878, total=   3.4s\n",
      "[CV] criterion=gini, max_depth=15, max_features=7, min_samples_split=10, n_estimators=500 \n",
      "[CV]  criterion=gini, max_depth=15, max_features=7, min_samples_split=10, n_estimators=500, score=0.9810606060606061, total=   3.9s\n",
      "[CV] criterion=gini, max_depth=15, max_features=7, min_samples_split=10, n_estimators=500 \n",
      "[CV]  criterion=gini, max_depth=15, max_features=7, min_samples_split=10, n_estimators=500, score=0.9753787878787878, total=   4.3s\n",
      "[CV] criterion=gini, max_depth=15, max_features=7, min_samples_split=30, n_estimators=100 \n",
      "[CV]  criterion=gini, max_depth=15, max_features=7, min_samples_split=30, n_estimators=100, score=0.9412878787878788, total=   0.8s\n",
      "[CV] criterion=gini, max_depth=15, max_features=7, min_samples_split=30, n_estimators=100 \n",
      "[CV]  criterion=gini, max_depth=15, max_features=7, min_samples_split=30, n_estimators=100, score=0.9810606060606061, total=   0.8s\n",
      "[CV] criterion=gini, max_depth=15, max_features=7, min_samples_split=30, n_estimators=100 \n",
      "[CV]  criterion=gini, max_depth=15, max_features=7, min_samples_split=30, n_estimators=100, score=0.9715909090909091, total=   0.8s\n",
      "[CV] criterion=gini, max_depth=15, max_features=7, min_samples_split=30, n_estimators=200 \n"
     ]
    },
    {
     "name": "stdout",
     "output_type": "stream",
     "text": [
      "[CV]  criterion=gini, max_depth=15, max_features=7, min_samples_split=30, n_estimators=200, score=0.9450757575757576, total=   1.5s\n",
      "[CV] criterion=gini, max_depth=15, max_features=7, min_samples_split=30, n_estimators=200 \n",
      "[CV]  criterion=gini, max_depth=15, max_features=7, min_samples_split=30, n_estimators=200, score=0.9801136363636364, total=   1.5s\n",
      "[CV] criterion=gini, max_depth=15, max_features=7, min_samples_split=30, n_estimators=200 \n",
      "[CV]  criterion=gini, max_depth=15, max_features=7, min_samples_split=30, n_estimators=200, score=0.9715909090909091, total=   1.5s\n",
      "[CV] criterion=gini, max_depth=15, max_features=7, min_samples_split=30, n_estimators=300 \n",
      "[CV]  criterion=gini, max_depth=15, max_features=7, min_samples_split=30, n_estimators=300, score=0.946969696969697, total=   2.1s\n",
      "[CV] criterion=gini, max_depth=15, max_features=7, min_samples_split=30, n_estimators=300 \n",
      "[CV]  criterion=gini, max_depth=15, max_features=7, min_samples_split=30, n_estimators=300, score=0.9801136363636364, total=   2.3s\n",
      "[CV] criterion=gini, max_depth=15, max_features=7, min_samples_split=30, n_estimators=300 \n",
      "[CV]  criterion=gini, max_depth=15, max_features=7, min_samples_split=30, n_estimators=300, score=0.9715909090909091, total=   2.0s\n",
      "[CV] criterion=gini, max_depth=15, max_features=7, min_samples_split=30, n_estimators=500 \n",
      "[CV]  criterion=gini, max_depth=15, max_features=7, min_samples_split=30, n_estimators=500, score=0.9488636363636364, total=   3.3s\n",
      "[CV] criterion=gini, max_depth=15, max_features=7, min_samples_split=30, n_estimators=500 \n",
      "[CV]  criterion=gini, max_depth=15, max_features=7, min_samples_split=30, n_estimators=500, score=0.9829545454545454, total=   3.6s\n",
      "[CV] criterion=gini, max_depth=15, max_features=7, min_samples_split=30, n_estimators=500 \n",
      "[CV]  criterion=gini, max_depth=15, max_features=7, min_samples_split=30, n_estimators=500, score=0.9725378787878788, total=   3.2s\n",
      "[CV] criterion=gini, max_depth=15, max_features=7, min_samples_split=40, n_estimators=100 \n",
      "[CV]  criterion=gini, max_depth=15, max_features=7, min_samples_split=40, n_estimators=100, score=0.946969696969697, total=   0.6s\n",
      "[CV] criterion=gini, max_depth=15, max_features=7, min_samples_split=40, n_estimators=100 \n",
      "[CV]  criterion=gini, max_depth=15, max_features=7, min_samples_split=40, n_estimators=100, score=0.9801136363636364, total=   0.7s\n",
      "[CV] criterion=gini, max_depth=15, max_features=7, min_samples_split=40, n_estimators=100 \n",
      "[CV]  criterion=gini, max_depth=15, max_features=7, min_samples_split=40, n_estimators=100, score=0.9706439393939394, total=   0.6s\n",
      "[CV] criterion=gini, max_depth=15, max_features=7, min_samples_split=40, n_estimators=200 \n",
      "[CV]  criterion=gini, max_depth=15, max_features=7, min_samples_split=40, n_estimators=200, score=0.946969696969697, total=   1.2s\n",
      "[CV] criterion=gini, max_depth=15, max_features=7, min_samples_split=40, n_estimators=200 \n",
      "[CV]  criterion=gini, max_depth=15, max_features=7, min_samples_split=40, n_estimators=200, score=0.9810606060606061, total=   1.4s\n",
      "[CV] criterion=gini, max_depth=15, max_features=7, min_samples_split=40, n_estimators=200 \n",
      "[CV]  criterion=gini, max_depth=15, max_features=7, min_samples_split=40, n_estimators=200, score=0.9706439393939394, total=   1.3s\n",
      "[CV] criterion=gini, max_depth=15, max_features=7, min_samples_split=40, n_estimators=300 \n",
      "[CV]  criterion=gini, max_depth=15, max_features=7, min_samples_split=40, n_estimators=300, score=0.9488636363636364, total=   1.8s\n",
      "[CV] criterion=gini, max_depth=15, max_features=7, min_samples_split=40, n_estimators=300 \n",
      "[CV]  criterion=gini, max_depth=15, max_features=7, min_samples_split=40, n_estimators=300, score=0.9801136363636364, total=   2.2s\n",
      "[CV] criterion=gini, max_depth=15, max_features=7, min_samples_split=40, n_estimators=300 \n",
      "[CV]  criterion=gini, max_depth=15, max_features=7, min_samples_split=40, n_estimators=300, score=0.9706439393939394, total=   2.4s\n",
      "[CV] criterion=gini, max_depth=15, max_features=7, min_samples_split=40, n_estimators=500 \n",
      "[CV]  criterion=gini, max_depth=15, max_features=7, min_samples_split=40, n_estimators=500, score=0.9488636363636364, total=   3.4s\n",
      "[CV] criterion=gini, max_depth=15, max_features=7, min_samples_split=40, n_estimators=500 \n",
      "[CV]  criterion=gini, max_depth=15, max_features=7, min_samples_split=40, n_estimators=500, score=0.9820075757575758, total=   3.9s\n",
      "[CV] criterion=gini, max_depth=15, max_features=7, min_samples_split=40, n_estimators=500 \n",
      "[CV]  criterion=gini, max_depth=15, max_features=7, min_samples_split=40, n_estimators=500, score=0.9696969696969697, total=   3.2s\n",
      "[CV] criterion=gini, max_depth=15, max_features=10, min_samples_split=10, n_estimators=100 \n",
      "[CV]  criterion=gini, max_depth=15, max_features=10, min_samples_split=10, n_estimators=100, score=0.9431818181818182, total=   0.8s\n",
      "[CV] criterion=gini, max_depth=15, max_features=10, min_samples_split=10, n_estimators=100 \n",
      "[CV]  criterion=gini, max_depth=15, max_features=10, min_samples_split=10, n_estimators=100, score=0.9801136363636364, total=   0.9s\n",
      "[CV] criterion=gini, max_depth=15, max_features=10, min_samples_split=10, n_estimators=100 \n",
      "[CV]  criterion=gini, max_depth=15, max_features=10, min_samples_split=10, n_estimators=100, score=0.9715909090909091, total=   0.9s\n",
      "[CV] criterion=gini, max_depth=15, max_features=10, min_samples_split=10, n_estimators=200 \n",
      "[CV]  criterion=gini, max_depth=15, max_features=10, min_samples_split=10, n_estimators=200, score=0.9450757575757576, total=   1.6s\n",
      "[CV] criterion=gini, max_depth=15, max_features=10, min_samples_split=10, n_estimators=200 \n",
      "[CV]  criterion=gini, max_depth=15, max_features=10, min_samples_split=10, n_estimators=200, score=0.9810606060606061, total=   1.9s\n",
      "[CV] criterion=gini, max_depth=15, max_features=10, min_samples_split=10, n_estimators=200 \n",
      "[CV]  criterion=gini, max_depth=15, max_features=10, min_samples_split=10, n_estimators=200, score=0.9734848484848485, total=   1.9s\n",
      "[CV] criterion=gini, max_depth=15, max_features=10, min_samples_split=10, n_estimators=300 \n",
      "[CV]  criterion=gini, max_depth=15, max_features=10, min_samples_split=10, n_estimators=300, score=0.9479166666666666, total=   2.6s\n",
      "[CV] criterion=gini, max_depth=15, max_features=10, min_samples_split=10, n_estimators=300 \n",
      "[CV]  criterion=gini, max_depth=15, max_features=10, min_samples_split=10, n_estimators=300, score=0.9801136363636364, total=   2.8s\n",
      "[CV] criterion=gini, max_depth=15, max_features=10, min_samples_split=10, n_estimators=300 \n",
      "[CV]  criterion=gini, max_depth=15, max_features=10, min_samples_split=10, n_estimators=300, score=0.9744318181818182, total=   2.8s\n",
      "[CV] criterion=gini, max_depth=15, max_features=10, min_samples_split=10, n_estimators=500 \n",
      "[CV]  criterion=gini, max_depth=15, max_features=10, min_samples_split=10, n_estimators=500, score=0.946969696969697, total=   4.4s\n",
      "[CV] criterion=gini, max_depth=15, max_features=10, min_samples_split=10, n_estimators=500 \n",
      "[CV]  criterion=gini, max_depth=15, max_features=10, min_samples_split=10, n_estimators=500, score=0.9810606060606061, total=   4.9s\n",
      "[CV] criterion=gini, max_depth=15, max_features=10, min_samples_split=10, n_estimators=500 \n",
      "[CV]  criterion=gini, max_depth=15, max_features=10, min_samples_split=10, n_estimators=500, score=0.9744318181818182, total=   4.7s\n",
      "[CV] criterion=gini, max_depth=15, max_features=10, min_samples_split=30, n_estimators=100 \n",
      "[CV]  criterion=gini, max_depth=15, max_features=10, min_samples_split=30, n_estimators=100, score=0.9488636363636364, total=   1.0s\n",
      "[CV] criterion=gini, max_depth=15, max_features=10, min_samples_split=30, n_estimators=100 \n",
      "[CV]  criterion=gini, max_depth=15, max_features=10, min_samples_split=30, n_estimators=100, score=0.978219696969697, total=   1.1s\n",
      "[CV] criterion=gini, max_depth=15, max_features=10, min_samples_split=30, n_estimators=100 \n",
      "[CV]  criterion=gini, max_depth=15, max_features=10, min_samples_split=30, n_estimators=100, score=0.9715909090909091, total=   0.8s\n",
      "[CV] criterion=gini, max_depth=15, max_features=10, min_samples_split=30, n_estimators=200 \n",
      "[CV]  criterion=gini, max_depth=15, max_features=10, min_samples_split=30, n_estimators=200, score=0.9441287878787878, total=   1.6s\n",
      "[CV] criterion=gini, max_depth=15, max_features=10, min_samples_split=30, n_estimators=200 \n"
     ]
    },
    {
     "name": "stdout",
     "output_type": "stream",
     "text": [
      "[CV]  criterion=gini, max_depth=15, max_features=10, min_samples_split=30, n_estimators=200, score=0.978219696969697, total=   2.1s\n",
      "[CV] criterion=gini, max_depth=15, max_features=10, min_samples_split=30, n_estimators=200 \n",
      "[CV]  criterion=gini, max_depth=15, max_features=10, min_samples_split=30, n_estimators=200, score=0.9696969696969697, total=   1.9s\n",
      "[CV] criterion=gini, max_depth=15, max_features=10, min_samples_split=30, n_estimators=300 \n",
      "[CV]  criterion=gini, max_depth=15, max_features=10, min_samples_split=30, n_estimators=300, score=0.9441287878787878, total=   2.4s\n",
      "[CV] criterion=gini, max_depth=15, max_features=10, min_samples_split=30, n_estimators=300 \n",
      "[CV]  criterion=gini, max_depth=15, max_features=10, min_samples_split=30, n_estimators=300, score=0.9791666666666666, total=   2.9s\n",
      "[CV] criterion=gini, max_depth=15, max_features=10, min_samples_split=30, n_estimators=300 \n",
      "[CV]  criterion=gini, max_depth=15, max_features=10, min_samples_split=30, n_estimators=300, score=0.9706439393939394, total=   3.1s\n",
      "[CV] criterion=gini, max_depth=15, max_features=10, min_samples_split=30, n_estimators=500 \n",
      "[CV]  criterion=gini, max_depth=15, max_features=10, min_samples_split=30, n_estimators=500, score=0.946969696969697, total=   4.2s\n",
      "[CV] criterion=gini, max_depth=15, max_features=10, min_samples_split=30, n_estimators=500 \n",
      "[CV]  criterion=gini, max_depth=15, max_features=10, min_samples_split=30, n_estimators=500, score=0.9791666666666666, total=   4.9s\n",
      "[CV] criterion=gini, max_depth=15, max_features=10, min_samples_split=30, n_estimators=500 \n",
      "[CV]  criterion=gini, max_depth=15, max_features=10, min_samples_split=30, n_estimators=500, score=0.9715909090909091, total=   4.6s\n",
      "[CV] criterion=gini, max_depth=15, max_features=10, min_samples_split=40, n_estimators=100 \n",
      "[CV]  criterion=gini, max_depth=15, max_features=10, min_samples_split=40, n_estimators=100, score=0.9479166666666666, total=   0.9s\n",
      "[CV] criterion=gini, max_depth=15, max_features=10, min_samples_split=40, n_estimators=100 \n",
      "[CV]  criterion=gini, max_depth=15, max_features=10, min_samples_split=40, n_estimators=100, score=0.978219696969697, total=   1.0s\n",
      "[CV] criterion=gini, max_depth=15, max_features=10, min_samples_split=40, n_estimators=100 \n",
      "[CV]  criterion=gini, max_depth=15, max_features=10, min_samples_split=40, n_estimators=100, score=0.96875, total=   0.9s\n",
      "[CV] criterion=gini, max_depth=15, max_features=10, min_samples_split=40, n_estimators=200 \n",
      "[CV]  criterion=gini, max_depth=15, max_features=10, min_samples_split=40, n_estimators=200, score=0.9479166666666666, total=   1.7s\n",
      "[CV] criterion=gini, max_depth=15, max_features=10, min_samples_split=40, n_estimators=200 \n",
      "[CV]  criterion=gini, max_depth=15, max_features=10, min_samples_split=40, n_estimators=200, score=0.978219696969697, total=   1.9s\n",
      "[CV] criterion=gini, max_depth=15, max_features=10, min_samples_split=40, n_estimators=200 \n",
      "[CV]  criterion=gini, max_depth=15, max_features=10, min_samples_split=40, n_estimators=200, score=0.96875, total=   1.9s\n",
      "[CV] criterion=gini, max_depth=15, max_features=10, min_samples_split=40, n_estimators=300 \n",
      "[CV]  criterion=gini, max_depth=15, max_features=10, min_samples_split=40, n_estimators=300, score=0.9479166666666666, total=   2.4s\n",
      "[CV] criterion=gini, max_depth=15, max_features=10, min_samples_split=40, n_estimators=300 \n",
      "[CV]  criterion=gini, max_depth=15, max_features=10, min_samples_split=40, n_estimators=300, score=0.9791666666666666, total=   3.0s\n",
      "[CV] criterion=gini, max_depth=15, max_features=10, min_samples_split=40, n_estimators=300 \n",
      "[CV]  criterion=gini, max_depth=15, max_features=10, min_samples_split=40, n_estimators=300, score=0.9706439393939394, total=   2.7s\n",
      "[CV] criterion=gini, max_depth=15, max_features=10, min_samples_split=40, n_estimators=500 \n",
      "[CV]  criterion=gini, max_depth=15, max_features=10, min_samples_split=40, n_estimators=500, score=0.9488636363636364, total=   4.1s\n",
      "[CV] criterion=gini, max_depth=15, max_features=10, min_samples_split=40, n_estimators=500 \n",
      "[CV]  criterion=gini, max_depth=15, max_features=10, min_samples_split=40, n_estimators=500, score=0.978219696969697, total=   4.7s\n",
      "[CV] criterion=gini, max_depth=15, max_features=10, min_samples_split=40, n_estimators=500 \n",
      "[CV]  criterion=gini, max_depth=15, max_features=10, min_samples_split=40, n_estimators=500, score=0.9696969696969697, total=   4.5s\n",
      "[CV] criterion=entropy, max_depth=5, max_features=3, min_samples_split=10, n_estimators=100 \n",
      "[CV]  criterion=entropy, max_depth=5, max_features=3, min_samples_split=10, n_estimators=100, score=0.9422348484848485, total=   0.5s\n",
      "[CV] criterion=entropy, max_depth=5, max_features=3, min_samples_split=10, n_estimators=100 \n",
      "[CV]  criterion=entropy, max_depth=5, max_features=3, min_samples_split=10, n_estimators=100, score=0.9829545454545454, total=   0.4s\n",
      "[CV] criterion=entropy, max_depth=5, max_features=3, min_samples_split=10, n_estimators=100 \n",
      "[CV]  criterion=entropy, max_depth=5, max_features=3, min_samples_split=10, n_estimators=100, score=0.9640151515151515, total=   0.4s\n",
      "[CV] criterion=entropy, max_depth=5, max_features=3, min_samples_split=10, n_estimators=200 \n",
      "[CV]  criterion=entropy, max_depth=5, max_features=3, min_samples_split=10, n_estimators=200, score=0.9232954545454546, total=   0.8s\n",
      "[CV] criterion=entropy, max_depth=5, max_features=3, min_samples_split=10, n_estimators=200 \n",
      "[CV]  criterion=entropy, max_depth=5, max_features=3, min_samples_split=10, n_estimators=200, score=0.9839015151515151, total=   0.9s\n",
      "[CV] criterion=entropy, max_depth=5, max_features=3, min_samples_split=10, n_estimators=200 \n",
      "[CV]  criterion=entropy, max_depth=5, max_features=3, min_samples_split=10, n_estimators=200, score=0.9659090909090909, total=   0.7s\n",
      "[CV] criterion=entropy, max_depth=5, max_features=3, min_samples_split=10, n_estimators=300 \n",
      "[CV]  criterion=entropy, max_depth=5, max_features=3, min_samples_split=10, n_estimators=300, score=0.9441287878787878, total=   1.0s\n",
      "[CV] criterion=entropy, max_depth=5, max_features=3, min_samples_split=10, n_estimators=300 \n",
      "[CV]  criterion=entropy, max_depth=5, max_features=3, min_samples_split=10, n_estimators=300, score=0.9848484848484849, total=   1.1s\n",
      "[CV] criterion=entropy, max_depth=5, max_features=3, min_samples_split=10, n_estimators=300 \n",
      "[CV]  criterion=entropy, max_depth=5, max_features=3, min_samples_split=10, n_estimators=300, score=0.9678030303030303, total=   1.2s\n",
      "[CV] criterion=entropy, max_depth=5, max_features=3, min_samples_split=10, n_estimators=500 \n",
      "[CV]  criterion=entropy, max_depth=5, max_features=3, min_samples_split=10, n_estimators=500, score=0.9384469696969697, total=   2.0s\n",
      "[CV] criterion=entropy, max_depth=5, max_features=3, min_samples_split=10, n_estimators=500 \n",
      "[CV]  criterion=entropy, max_depth=5, max_features=3, min_samples_split=10, n_estimators=500, score=0.9848484848484849, total=   1.9s\n",
      "[CV] criterion=entropy, max_depth=5, max_features=3, min_samples_split=10, n_estimators=500 \n",
      "[CV]  criterion=entropy, max_depth=5, max_features=3, min_samples_split=10, n_estimators=500, score=0.9659090909090909, total=   2.1s\n",
      "[CV] criterion=entropy, max_depth=5, max_features=3, min_samples_split=30, n_estimators=100 \n",
      "[CV]  criterion=entropy, max_depth=5, max_features=3, min_samples_split=30, n_estimators=100, score=0.9365530303030303, total=   0.4s\n",
      "[CV] criterion=entropy, max_depth=5, max_features=3, min_samples_split=30, n_estimators=100 \n",
      "[CV]  criterion=entropy, max_depth=5, max_features=3, min_samples_split=30, n_estimators=100, score=0.9829545454545454, total=   0.4s\n",
      "[CV] criterion=entropy, max_depth=5, max_features=3, min_samples_split=30, n_estimators=100 \n",
      "[CV]  criterion=entropy, max_depth=5, max_features=3, min_samples_split=30, n_estimators=100, score=0.9678030303030303, total=   0.4s\n",
      "[CV] criterion=entropy, max_depth=5, max_features=3, min_samples_split=30, n_estimators=200 \n",
      "[CV]  criterion=entropy, max_depth=5, max_features=3, min_samples_split=30, n_estimators=200, score=0.9384469696969697, total=   0.9s\n",
      "[CV] criterion=entropy, max_depth=5, max_features=3, min_samples_split=30, n_estimators=200 \n",
      "[CV]  criterion=entropy, max_depth=5, max_features=3, min_samples_split=30, n_estimators=200, score=0.9839015151515151, total=   0.9s\n",
      "[CV] criterion=entropy, max_depth=5, max_features=3, min_samples_split=30, n_estimators=200 \n"
     ]
    },
    {
     "name": "stdout",
     "output_type": "stream",
     "text": [
      "[CV]  criterion=entropy, max_depth=5, max_features=3, min_samples_split=30, n_estimators=200, score=0.9696969696969697, total=   0.8s\n",
      "[CV] criterion=entropy, max_depth=5, max_features=3, min_samples_split=30, n_estimators=300 \n",
      "[CV]  criterion=entropy, max_depth=5, max_features=3, min_samples_split=30, n_estimators=300, score=0.9403409090909091, total=   1.2s\n",
      "[CV] criterion=entropy, max_depth=5, max_features=3, min_samples_split=30, n_estimators=300 \n",
      "[CV]  criterion=entropy, max_depth=5, max_features=3, min_samples_split=30, n_estimators=300, score=0.9839015151515151, total=   1.2s\n",
      "[CV] criterion=entropy, max_depth=5, max_features=3, min_samples_split=30, n_estimators=300 \n",
      "[CV]  criterion=entropy, max_depth=5, max_features=3, min_samples_split=30, n_estimators=300, score=0.9668560606060606, total=   1.1s\n",
      "[CV] criterion=entropy, max_depth=5, max_features=3, min_samples_split=30, n_estimators=500 \n",
      "[CV]  criterion=entropy, max_depth=5, max_features=3, min_samples_split=30, n_estimators=500, score=0.9356060606060606, total=   1.9s\n",
      "[CV] criterion=entropy, max_depth=5, max_features=3, min_samples_split=30, n_estimators=500 \n",
      "[CV]  criterion=entropy, max_depth=5, max_features=3, min_samples_split=30, n_estimators=500, score=0.9839015151515151, total=   2.0s\n",
      "[CV] criterion=entropy, max_depth=5, max_features=3, min_samples_split=30, n_estimators=500 \n",
      "[CV]  criterion=entropy, max_depth=5, max_features=3, min_samples_split=30, n_estimators=500, score=0.9649621212121212, total=   2.1s\n",
      "[CV] criterion=entropy, max_depth=5, max_features=3, min_samples_split=40, n_estimators=100 \n",
      "[CV]  criterion=entropy, max_depth=5, max_features=3, min_samples_split=40, n_estimators=100, score=0.9393939393939394, total=   0.4s\n",
      "[CV] criterion=entropy, max_depth=5, max_features=3, min_samples_split=40, n_estimators=100 \n",
      "[CV]  criterion=entropy, max_depth=5, max_features=3, min_samples_split=40, n_estimators=100, score=0.9839015151515151, total=   0.4s\n",
      "[CV] criterion=entropy, max_depth=5, max_features=3, min_samples_split=40, n_estimators=100 \n",
      "[CV]  criterion=entropy, max_depth=5, max_features=3, min_samples_split=40, n_estimators=100, score=0.9640151515151515, total=   0.4s\n",
      "[CV] criterion=entropy, max_depth=5, max_features=3, min_samples_split=40, n_estimators=200 \n",
      "[CV]  criterion=entropy, max_depth=5, max_features=3, min_samples_split=40, n_estimators=200, score=0.9384469696969697, total=   0.7s\n",
      "[CV] criterion=entropy, max_depth=5, max_features=3, min_samples_split=40, n_estimators=200 \n",
      "[CV]  criterion=entropy, max_depth=5, max_features=3, min_samples_split=40, n_estimators=200, score=0.9848484848484849, total=   0.8s\n",
      "[CV] criterion=entropy, max_depth=5, max_features=3, min_samples_split=40, n_estimators=200 \n",
      "[CV]  criterion=entropy, max_depth=5, max_features=3, min_samples_split=40, n_estimators=200, score=0.9668560606060606, total=   0.8s\n",
      "[CV] criterion=entropy, max_depth=5, max_features=3, min_samples_split=40, n_estimators=300 \n",
      "[CV]  criterion=entropy, max_depth=5, max_features=3, min_samples_split=40, n_estimators=300, score=0.9384469696969697, total=   1.2s\n",
      "[CV] criterion=entropy, max_depth=5, max_features=3, min_samples_split=40, n_estimators=300 \n",
      "[CV]  criterion=entropy, max_depth=5, max_features=3, min_samples_split=40, n_estimators=300, score=0.9829545454545454, total=   1.2s\n",
      "[CV] criterion=entropy, max_depth=5, max_features=3, min_samples_split=40, n_estimators=300 \n",
      "[CV]  criterion=entropy, max_depth=5, max_features=3, min_samples_split=40, n_estimators=300, score=0.9668560606060606, total=   1.1s\n",
      "[CV] criterion=entropy, max_depth=5, max_features=3, min_samples_split=40, n_estimators=500 \n",
      "[CV]  criterion=entropy, max_depth=5, max_features=3, min_samples_split=40, n_estimators=500, score=0.9384469696969697, total=   1.9s\n",
      "[CV] criterion=entropy, max_depth=5, max_features=3, min_samples_split=40, n_estimators=500 \n",
      "[CV]  criterion=entropy, max_depth=5, max_features=3, min_samples_split=40, n_estimators=500, score=0.9848484848484849, total=   2.0s\n",
      "[CV] criterion=entropy, max_depth=5, max_features=3, min_samples_split=40, n_estimators=500 \n",
      "[CV]  criterion=entropy, max_depth=5, max_features=3, min_samples_split=40, n_estimators=500, score=0.9659090909090909, total=   1.9s\n",
      "[CV] criterion=entropy, max_depth=5, max_features=5, min_samples_split=10, n_estimators=100 \n",
      "[CV]  criterion=entropy, max_depth=5, max_features=5, min_samples_split=10, n_estimators=100, score=0.9450757575757576, total=   0.5s\n",
      "[CV] criterion=entropy, max_depth=5, max_features=5, min_samples_split=10, n_estimators=100 \n",
      "[CV]  criterion=entropy, max_depth=5, max_features=5, min_samples_split=10, n_estimators=100, score=0.9820075757575758, total=   0.6s\n",
      "[CV] criterion=entropy, max_depth=5, max_features=5, min_samples_split=10, n_estimators=100 \n",
      "[CV]  criterion=entropy, max_depth=5, max_features=5, min_samples_split=10, n_estimators=100, score=0.9696969696969697, total=   0.6s\n",
      "[CV] criterion=entropy, max_depth=5, max_features=5, min_samples_split=10, n_estimators=200 \n",
      "[CV]  criterion=entropy, max_depth=5, max_features=5, min_samples_split=10, n_estimators=200, score=0.9441287878787878, total=   1.0s\n",
      "[CV] criterion=entropy, max_depth=5, max_features=5, min_samples_split=10, n_estimators=200 \n",
      "[CV]  criterion=entropy, max_depth=5, max_features=5, min_samples_split=10, n_estimators=200, score=0.9829545454545454, total=   1.0s\n",
      "[CV] criterion=entropy, max_depth=5, max_features=5, min_samples_split=10, n_estimators=200 \n",
      "[CV]  criterion=entropy, max_depth=5, max_features=5, min_samples_split=10, n_estimators=200, score=0.9715909090909091, total=   1.1s\n",
      "[CV] criterion=entropy, max_depth=5, max_features=5, min_samples_split=10, n_estimators=300 \n",
      "[CV]  criterion=entropy, max_depth=5, max_features=5, min_samples_split=10, n_estimators=300, score=0.9431818181818182, total=   1.6s\n",
      "[CV] criterion=entropy, max_depth=5, max_features=5, min_samples_split=10, n_estimators=300 \n",
      "[CV]  criterion=entropy, max_depth=5, max_features=5, min_samples_split=10, n_estimators=300, score=0.9848484848484849, total=   1.7s\n",
      "[CV] criterion=entropy, max_depth=5, max_features=5, min_samples_split=10, n_estimators=300 \n",
      "[CV]  criterion=entropy, max_depth=5, max_features=5, min_samples_split=10, n_estimators=300, score=0.9715909090909091, total=   1.6s\n",
      "[CV] criterion=entropy, max_depth=5, max_features=5, min_samples_split=10, n_estimators=500 \n",
      "[CV]  criterion=entropy, max_depth=5, max_features=5, min_samples_split=10, n_estimators=500, score=0.9441287878787878, total=   2.4s\n",
      "[CV] criterion=entropy, max_depth=5, max_features=5, min_samples_split=10, n_estimators=500 \n",
      "[CV]  criterion=entropy, max_depth=5, max_features=5, min_samples_split=10, n_estimators=500, score=0.9829545454545454, total=   2.9s\n",
      "[CV] criterion=entropy, max_depth=5, max_features=5, min_samples_split=10, n_estimators=500 \n",
      "[CV]  criterion=entropy, max_depth=5, max_features=5, min_samples_split=10, n_estimators=500, score=0.9696969696969697, total=   2.8s\n",
      "[CV] criterion=entropy, max_depth=5, max_features=5, min_samples_split=30, n_estimators=100 \n",
      "[CV]  criterion=entropy, max_depth=5, max_features=5, min_samples_split=30, n_estimators=100, score=0.9441287878787878, total=   0.5s\n",
      "[CV] criterion=entropy, max_depth=5, max_features=5, min_samples_split=30, n_estimators=100 \n",
      "[CV]  criterion=entropy, max_depth=5, max_features=5, min_samples_split=30, n_estimators=100, score=0.9829545454545454, total=   0.5s\n",
      "[CV] criterion=entropy, max_depth=5, max_features=5, min_samples_split=30, n_estimators=100 \n",
      "[CV]  criterion=entropy, max_depth=5, max_features=5, min_samples_split=30, n_estimators=100, score=0.9734848484848485, total=   0.5s\n",
      "[CV] criterion=entropy, max_depth=5, max_features=5, min_samples_split=30, n_estimators=200 \n",
      "[CV]  criterion=entropy, max_depth=5, max_features=5, min_samples_split=30, n_estimators=200, score=0.9431818181818182, total=   1.0s\n",
      "[CV] criterion=entropy, max_depth=5, max_features=5, min_samples_split=30, n_estimators=200 \n",
      "[CV]  criterion=entropy, max_depth=5, max_features=5, min_samples_split=30, n_estimators=200, score=0.9820075757575758, total=   1.1s\n",
      "[CV] criterion=entropy, max_depth=5, max_features=5, min_samples_split=30, n_estimators=200 \n",
      "[CV]  criterion=entropy, max_depth=5, max_features=5, min_samples_split=30, n_estimators=200, score=0.96875, total=   1.1s\n",
      "[CV] criterion=entropy, max_depth=5, max_features=5, min_samples_split=30, n_estimators=300 \n"
     ]
    },
    {
     "name": "stdout",
     "output_type": "stream",
     "text": [
      "[CV]  criterion=entropy, max_depth=5, max_features=5, min_samples_split=30, n_estimators=300, score=0.9441287878787878, total=   1.7s\n",
      "[CV] criterion=entropy, max_depth=5, max_features=5, min_samples_split=30, n_estimators=300 \n",
      "[CV]  criterion=entropy, max_depth=5, max_features=5, min_samples_split=30, n_estimators=300, score=0.9829545454545454, total=   1.9s\n",
      "[CV] criterion=entropy, max_depth=5, max_features=5, min_samples_split=30, n_estimators=300 \n",
      "[CV]  criterion=entropy, max_depth=5, max_features=5, min_samples_split=30, n_estimators=300, score=0.9678030303030303, total=   1.8s\n",
      "[CV] criterion=entropy, max_depth=5, max_features=5, min_samples_split=30, n_estimators=500 \n",
      "[CV]  criterion=entropy, max_depth=5, max_features=5, min_samples_split=30, n_estimators=500, score=0.9441287878787878, total=   2.8s\n",
      "[CV] criterion=entropy, max_depth=5, max_features=5, min_samples_split=30, n_estimators=500 \n",
      "[CV]  criterion=entropy, max_depth=5, max_features=5, min_samples_split=30, n_estimators=500, score=0.9829545454545454, total=   3.2s\n",
      "[CV] criterion=entropy, max_depth=5, max_features=5, min_samples_split=30, n_estimators=500 \n",
      "[CV]  criterion=entropy, max_depth=5, max_features=5, min_samples_split=30, n_estimators=500, score=0.9696969696969697, total=   3.0s\n",
      "[CV] criterion=entropy, max_depth=5, max_features=5, min_samples_split=40, n_estimators=100 \n",
      "[CV]  criterion=entropy, max_depth=5, max_features=5, min_samples_split=40, n_estimators=100, score=0.9422348484848485, total=   0.5s\n",
      "[CV] criterion=entropy, max_depth=5, max_features=5, min_samples_split=40, n_estimators=100 \n",
      "[CV]  criterion=entropy, max_depth=5, max_features=5, min_samples_split=40, n_estimators=100, score=0.9839015151515151, total=   0.6s\n",
      "[CV] criterion=entropy, max_depth=5, max_features=5, min_samples_split=40, n_estimators=100 \n",
      "[CV]  criterion=entropy, max_depth=5, max_features=5, min_samples_split=40, n_estimators=100, score=0.9649621212121212, total=   0.6s\n",
      "[CV] criterion=entropy, max_depth=5, max_features=5, min_samples_split=40, n_estimators=200 \n",
      "[CV]  criterion=entropy, max_depth=5, max_features=5, min_samples_split=40, n_estimators=200, score=0.9441287878787878, total=   1.0s\n",
      "[CV] criterion=entropy, max_depth=5, max_features=5, min_samples_split=40, n_estimators=200 \n",
      "[CV]  criterion=entropy, max_depth=5, max_features=5, min_samples_split=40, n_estimators=200, score=0.9829545454545454, total=   1.2s\n",
      "[CV] criterion=entropy, max_depth=5, max_features=5, min_samples_split=40, n_estimators=200 \n",
      "[CV]  criterion=entropy, max_depth=5, max_features=5, min_samples_split=40, n_estimators=200, score=0.96875, total=   1.0s\n",
      "[CV] criterion=entropy, max_depth=5, max_features=5, min_samples_split=40, n_estimators=300 \n",
      "[CV]  criterion=entropy, max_depth=5, max_features=5, min_samples_split=40, n_estimators=300, score=0.946969696969697, total=   1.4s\n",
      "[CV] criterion=entropy, max_depth=5, max_features=5, min_samples_split=40, n_estimators=300 \n",
      "[CV]  criterion=entropy, max_depth=5, max_features=5, min_samples_split=40, n_estimators=300, score=0.9829545454545454, total=   1.5s\n",
      "[CV] criterion=entropy, max_depth=5, max_features=5, min_samples_split=40, n_estimators=300 \n",
      "[CV]  criterion=entropy, max_depth=5, max_features=5, min_samples_split=40, n_estimators=300, score=0.9678030303030303, total=   1.7s\n",
      "[CV] criterion=entropy, max_depth=5, max_features=5, min_samples_split=40, n_estimators=500 \n",
      "[CV]  criterion=entropy, max_depth=5, max_features=5, min_samples_split=40, n_estimators=500, score=0.9460227272727273, total=   2.7s\n",
      "[CV] criterion=entropy, max_depth=5, max_features=5, min_samples_split=40, n_estimators=500 \n",
      "[CV]  criterion=entropy, max_depth=5, max_features=5, min_samples_split=40, n_estimators=500, score=0.9820075757575758, total=   2.8s\n",
      "[CV] criterion=entropy, max_depth=5, max_features=5, min_samples_split=40, n_estimators=500 \n",
      "[CV]  criterion=entropy, max_depth=5, max_features=5, min_samples_split=40, n_estimators=500, score=0.9706439393939394, total=   2.6s\n",
      "[CV] criterion=entropy, max_depth=5, max_features=7, min_samples_split=10, n_estimators=100 \n",
      "[CV]  criterion=entropy, max_depth=5, max_features=7, min_samples_split=10, n_estimators=100, score=0.9460227272727273, total=   0.6s\n",
      "[CV] criterion=entropy, max_depth=5, max_features=7, min_samples_split=10, n_estimators=100 \n",
      "[CV]  criterion=entropy, max_depth=5, max_features=7, min_samples_split=10, n_estimators=100, score=0.9820075757575758, total=   0.7s\n",
      "[CV] criterion=entropy, max_depth=5, max_features=7, min_samples_split=10, n_estimators=100 \n",
      "[CV]  criterion=entropy, max_depth=5, max_features=7, min_samples_split=10, n_estimators=100, score=0.9734848484848485, total=   0.7s\n",
      "[CV] criterion=entropy, max_depth=5, max_features=7, min_samples_split=10, n_estimators=200 \n",
      "[CV]  criterion=entropy, max_depth=5, max_features=7, min_samples_split=10, n_estimators=200, score=0.9441287878787878, total=   1.2s\n",
      "[CV] criterion=entropy, max_depth=5, max_features=7, min_samples_split=10, n_estimators=200 \n",
      "[CV]  criterion=entropy, max_depth=5, max_features=7, min_samples_split=10, n_estimators=200, score=0.9829545454545454, total=   1.3s\n",
      "[CV] criterion=entropy, max_depth=5, max_features=7, min_samples_split=10, n_estimators=200 \n",
      "[CV]  criterion=entropy, max_depth=5, max_features=7, min_samples_split=10, n_estimators=200, score=0.9734848484848485, total=   1.3s\n",
      "[CV] criterion=entropy, max_depth=5, max_features=7, min_samples_split=10, n_estimators=300 \n",
      "[CV]  criterion=entropy, max_depth=5, max_features=7, min_samples_split=10, n_estimators=300, score=0.9450757575757576, total=   1.8s\n",
      "[CV] criterion=entropy, max_depth=5, max_features=7, min_samples_split=10, n_estimators=300 \n",
      "[CV]  criterion=entropy, max_depth=5, max_features=7, min_samples_split=10, n_estimators=300, score=0.9829545454545454, total=   2.0s\n",
      "[CV] criterion=entropy, max_depth=5, max_features=7, min_samples_split=10, n_estimators=300 \n",
      "[CV]  criterion=entropy, max_depth=5, max_features=7, min_samples_split=10, n_estimators=300, score=0.9725378787878788, total=   2.0s\n",
      "[CV] criterion=entropy, max_depth=5, max_features=7, min_samples_split=10, n_estimators=500 \n",
      "[CV]  criterion=entropy, max_depth=5, max_features=7, min_samples_split=10, n_estimators=500, score=0.9460227272727273, total=   3.3s\n",
      "[CV] criterion=entropy, max_depth=5, max_features=7, min_samples_split=10, n_estimators=500 \n",
      "[CV]  criterion=entropy, max_depth=5, max_features=7, min_samples_split=10, n_estimators=500, score=0.9839015151515151, total=   4.2s\n",
      "[CV] criterion=entropy, max_depth=5, max_features=7, min_samples_split=10, n_estimators=500 \n",
      "[CV]  criterion=entropy, max_depth=5, max_features=7, min_samples_split=10, n_estimators=500, score=0.9734848484848485, total=   3.6s\n",
      "[CV] criterion=entropy, max_depth=5, max_features=7, min_samples_split=30, n_estimators=100 \n",
      "[CV]  criterion=entropy, max_depth=5, max_features=7, min_samples_split=30, n_estimators=100, score=0.9460227272727273, total=   0.7s\n",
      "[CV] criterion=entropy, max_depth=5, max_features=7, min_samples_split=30, n_estimators=100 \n",
      "[CV]  criterion=entropy, max_depth=5, max_features=7, min_samples_split=30, n_estimators=100, score=0.9810606060606061, total=   0.7s\n",
      "[CV] criterion=entropy, max_depth=5, max_features=7, min_samples_split=30, n_estimators=100 \n",
      "[CV]  criterion=entropy, max_depth=5, max_features=7, min_samples_split=30, n_estimators=100, score=0.9744318181818182, total=   0.8s\n",
      "[CV] criterion=entropy, max_depth=5, max_features=7, min_samples_split=30, n_estimators=200 \n",
      "[CV]  criterion=entropy, max_depth=5, max_features=7, min_samples_split=30, n_estimators=200, score=0.9450757575757576, total=   1.3s\n",
      "[CV] criterion=entropy, max_depth=5, max_features=7, min_samples_split=30, n_estimators=200 \n",
      "[CV]  criterion=entropy, max_depth=5, max_features=7, min_samples_split=30, n_estimators=200, score=0.9839015151515151, total=   1.4s\n",
      "[CV] criterion=entropy, max_depth=5, max_features=7, min_samples_split=30, n_estimators=200 \n",
      "[CV]  criterion=entropy, max_depth=5, max_features=7, min_samples_split=30, n_estimators=200, score=0.9725378787878788, total=   1.4s\n",
      "[CV] criterion=entropy, max_depth=5, max_features=7, min_samples_split=30, n_estimators=300 \n",
      "[CV]  criterion=entropy, max_depth=5, max_features=7, min_samples_split=30, n_estimators=300, score=0.9460227272727273, total=   2.0s\n",
      "[CV] criterion=entropy, max_depth=5, max_features=7, min_samples_split=30, n_estimators=300 \n"
     ]
    },
    {
     "name": "stdout",
     "output_type": "stream",
     "text": [
      "[CV]  criterion=entropy, max_depth=5, max_features=7, min_samples_split=30, n_estimators=300, score=0.9820075757575758, total=   2.0s\n",
      "[CV] criterion=entropy, max_depth=5, max_features=7, min_samples_split=30, n_estimators=300 \n",
      "[CV]  criterion=entropy, max_depth=5, max_features=7, min_samples_split=30, n_estimators=300, score=0.9725378787878788, total=   2.3s\n",
      "[CV] criterion=entropy, max_depth=5, max_features=7, min_samples_split=30, n_estimators=500 \n",
      "[CV]  criterion=entropy, max_depth=5, max_features=7, min_samples_split=30, n_estimators=500, score=0.946969696969697, total=   3.3s\n",
      "[CV] criterion=entropy, max_depth=5, max_features=7, min_samples_split=30, n_estimators=500 \n",
      "[CV]  criterion=entropy, max_depth=5, max_features=7, min_samples_split=30, n_estimators=500, score=0.9829545454545454, total=   3.8s\n",
      "[CV] criterion=entropy, max_depth=5, max_features=7, min_samples_split=30, n_estimators=500 \n",
      "[CV]  criterion=entropy, max_depth=5, max_features=7, min_samples_split=30, n_estimators=500, score=0.9734848484848485, total=   3.6s\n",
      "[CV] criterion=entropy, max_depth=5, max_features=7, min_samples_split=40, n_estimators=100 \n",
      "[CV]  criterion=entropy, max_depth=5, max_features=7, min_samples_split=40, n_estimators=100, score=0.9488636363636364, total=   0.6s\n",
      "[CV] criterion=entropy, max_depth=5, max_features=7, min_samples_split=40, n_estimators=100 \n",
      "[CV]  criterion=entropy, max_depth=5, max_features=7, min_samples_split=40, n_estimators=100, score=0.9820075757575758, total=   0.8s\n",
      "[CV] criterion=entropy, max_depth=5, max_features=7, min_samples_split=40, n_estimators=100 \n",
      "[CV]  criterion=entropy, max_depth=5, max_features=7, min_samples_split=40, n_estimators=100, score=0.9734848484848485, total=   0.7s\n",
      "[CV] criterion=entropy, max_depth=5, max_features=7, min_samples_split=40, n_estimators=200 \n",
      "[CV]  criterion=entropy, max_depth=5, max_features=7, min_samples_split=40, n_estimators=200, score=0.946969696969697, total=   1.2s\n",
      "[CV] criterion=entropy, max_depth=5, max_features=7, min_samples_split=40, n_estimators=200 \n",
      "[CV]  criterion=entropy, max_depth=5, max_features=7, min_samples_split=40, n_estimators=200, score=0.9839015151515151, total=   1.3s\n",
      "[CV] criterion=entropy, max_depth=5, max_features=7, min_samples_split=40, n_estimators=200 \n",
      "[CV]  criterion=entropy, max_depth=5, max_features=7, min_samples_split=40, n_estimators=200, score=0.96875, total=   1.4s\n",
      "[CV] criterion=entropy, max_depth=5, max_features=7, min_samples_split=40, n_estimators=300 \n",
      "[CV]  criterion=entropy, max_depth=5, max_features=7, min_samples_split=40, n_estimators=300, score=0.946969696969697, total=   1.8s\n",
      "[CV] criterion=entropy, max_depth=5, max_features=7, min_samples_split=40, n_estimators=300 \n",
      "[CV]  criterion=entropy, max_depth=5, max_features=7, min_samples_split=40, n_estimators=300, score=0.9829545454545454, total=   2.0s\n",
      "[CV] criterion=entropy, max_depth=5, max_features=7, min_samples_split=40, n_estimators=300 \n",
      "[CV]  criterion=entropy, max_depth=5, max_features=7, min_samples_split=40, n_estimators=300, score=0.9734848484848485, total=   2.1s\n",
      "[CV] criterion=entropy, max_depth=5, max_features=7, min_samples_split=40, n_estimators=500 \n",
      "[CV]  criterion=entropy, max_depth=5, max_features=7, min_samples_split=40, n_estimators=500, score=0.946969696969697, total=   3.1s\n",
      "[CV] criterion=entropy, max_depth=5, max_features=7, min_samples_split=40, n_estimators=500 \n",
      "[CV]  criterion=entropy, max_depth=5, max_features=7, min_samples_split=40, n_estimators=500, score=0.9820075757575758, total=   3.8s\n",
      "[CV] criterion=entropy, max_depth=5, max_features=7, min_samples_split=40, n_estimators=500 \n",
      "[CV]  criterion=entropy, max_depth=5, max_features=7, min_samples_split=40, n_estimators=500, score=0.9715909090909091, total=   3.4s\n",
      "[CV] criterion=entropy, max_depth=5, max_features=10, min_samples_split=10, n_estimators=100 \n",
      "[CV]  criterion=entropy, max_depth=5, max_features=10, min_samples_split=10, n_estimators=100, score=0.9450757575757576, total=   0.8s\n",
      "[CV] criterion=entropy, max_depth=5, max_features=10, min_samples_split=10, n_estimators=100 \n",
      "[CV]  criterion=entropy, max_depth=5, max_features=10, min_samples_split=10, n_estimators=100, score=0.9829545454545454, total=   0.9s\n",
      "[CV] criterion=entropy, max_depth=5, max_features=10, min_samples_split=10, n_estimators=100 \n",
      "[CV]  criterion=entropy, max_depth=5, max_features=10, min_samples_split=10, n_estimators=100, score=0.9744318181818182, total=   0.9s\n",
      "[CV] criterion=entropy, max_depth=5, max_features=10, min_samples_split=10, n_estimators=200 \n",
      "[CV]  criterion=entropy, max_depth=5, max_features=10, min_samples_split=10, n_estimators=200, score=0.946969696969697, total=   1.6s\n",
      "[CV] criterion=entropy, max_depth=5, max_features=10, min_samples_split=10, n_estimators=200 \n",
      "[CV]  criterion=entropy, max_depth=5, max_features=10, min_samples_split=10, n_estimators=200, score=0.9820075757575758, total=   1.8s\n",
      "[CV] criterion=entropy, max_depth=5, max_features=10, min_samples_split=10, n_estimators=200 \n",
      "[CV]  criterion=entropy, max_depth=5, max_features=10, min_samples_split=10, n_estimators=200, score=0.9725378787878788, total=   1.9s\n",
      "[CV] criterion=entropy, max_depth=5, max_features=10, min_samples_split=10, n_estimators=300 \n",
      "[CV]  criterion=entropy, max_depth=5, max_features=10, min_samples_split=10, n_estimators=300, score=0.9479166666666666, total=   2.5s\n",
      "[CV] criterion=entropy, max_depth=5, max_features=10, min_samples_split=10, n_estimators=300 \n",
      "[CV]  criterion=entropy, max_depth=5, max_features=10, min_samples_split=10, n_estimators=300, score=0.9820075757575758, total=   2.8s\n",
      "[CV] criterion=entropy, max_depth=5, max_features=10, min_samples_split=10, n_estimators=300 \n",
      "[CV]  criterion=entropy, max_depth=5, max_features=10, min_samples_split=10, n_estimators=300, score=0.9725378787878788, total=   2.8s\n",
      "[CV] criterion=entropy, max_depth=5, max_features=10, min_samples_split=10, n_estimators=500 \n",
      "[CV]  criterion=entropy, max_depth=5, max_features=10, min_samples_split=10, n_estimators=500, score=0.946969696969697, total=   4.1s\n",
      "[CV] criterion=entropy, max_depth=5, max_features=10, min_samples_split=10, n_estimators=500 \n",
      "[CV]  criterion=entropy, max_depth=5, max_features=10, min_samples_split=10, n_estimators=500, score=0.9829545454545454, total=   4.7s\n",
      "[CV] criterion=entropy, max_depth=5, max_features=10, min_samples_split=10, n_estimators=500 \n",
      "[CV]  criterion=entropy, max_depth=5, max_features=10, min_samples_split=10, n_estimators=500, score=0.9715909090909091, total=   4.3s\n",
      "[CV] criterion=entropy, max_depth=5, max_features=10, min_samples_split=30, n_estimators=100 \n",
      "[CV]  criterion=entropy, max_depth=5, max_features=10, min_samples_split=30, n_estimators=100, score=0.9479166666666666, total=   0.8s\n",
      "[CV] criterion=entropy, max_depth=5, max_features=10, min_samples_split=30, n_estimators=100 \n",
      "[CV]  criterion=entropy, max_depth=5, max_features=10, min_samples_split=30, n_estimators=100, score=0.9810606060606061, total=   0.9s\n",
      "[CV] criterion=entropy, max_depth=5, max_features=10, min_samples_split=30, n_estimators=100 \n",
      "[CV]  criterion=entropy, max_depth=5, max_features=10, min_samples_split=30, n_estimators=100, score=0.9715909090909091, total=   0.9s\n",
      "[CV] criterion=entropy, max_depth=5, max_features=10, min_samples_split=30, n_estimators=200 \n",
      "[CV]  criterion=entropy, max_depth=5, max_features=10, min_samples_split=30, n_estimators=200, score=0.946969696969697, total=   1.6s\n",
      "[CV] criterion=entropy, max_depth=5, max_features=10, min_samples_split=30, n_estimators=200 \n",
      "[CV]  criterion=entropy, max_depth=5, max_features=10, min_samples_split=30, n_estimators=200, score=0.9820075757575758, total=   2.0s\n",
      "[CV] criterion=entropy, max_depth=5, max_features=10, min_samples_split=30, n_estimators=200 \n",
      "[CV]  criterion=entropy, max_depth=5, max_features=10, min_samples_split=30, n_estimators=200, score=0.9696969696969697, total=   1.7s\n",
      "[CV] criterion=entropy, max_depth=5, max_features=10, min_samples_split=30, n_estimators=300 \n",
      "[CV]  criterion=entropy, max_depth=5, max_features=10, min_samples_split=30, n_estimators=300, score=0.9479166666666666, total=   2.3s\n",
      "[CV] criterion=entropy, max_depth=5, max_features=10, min_samples_split=30, n_estimators=300 \n"
     ]
    },
    {
     "name": "stdout",
     "output_type": "stream",
     "text": [
      "[CV]  criterion=entropy, max_depth=5, max_features=10, min_samples_split=30, n_estimators=300, score=0.9801136363636364, total=   2.9s\n",
      "[CV] criterion=entropy, max_depth=5, max_features=10, min_samples_split=30, n_estimators=300 \n",
      "[CV]  criterion=entropy, max_depth=5, max_features=10, min_samples_split=30, n_estimators=300, score=0.9715909090909091, total=   2.7s\n",
      "[CV] criterion=entropy, max_depth=5, max_features=10, min_samples_split=30, n_estimators=500 \n",
      "[CV]  criterion=entropy, max_depth=5, max_features=10, min_samples_split=30, n_estimators=500, score=0.946969696969697, total=   4.0s\n",
      "[CV] criterion=entropy, max_depth=5, max_features=10, min_samples_split=30, n_estimators=500 \n",
      "[CV]  criterion=entropy, max_depth=5, max_features=10, min_samples_split=30, n_estimators=500, score=0.9810606060606061, total=   4.7s\n",
      "[CV] criterion=entropy, max_depth=5, max_features=10, min_samples_split=30, n_estimators=500 \n",
      "[CV]  criterion=entropy, max_depth=5, max_features=10, min_samples_split=30, n_estimators=500, score=0.9734848484848485, total=   4.4s\n",
      "[CV] criterion=entropy, max_depth=5, max_features=10, min_samples_split=40, n_estimators=100 \n",
      "[CV]  criterion=entropy, max_depth=5, max_features=10, min_samples_split=40, n_estimators=100, score=0.9479166666666666, total=   0.8s\n",
      "[CV] criterion=entropy, max_depth=5, max_features=10, min_samples_split=40, n_estimators=100 \n",
      "[CV]  criterion=entropy, max_depth=5, max_features=10, min_samples_split=40, n_estimators=100, score=0.9801136363636364, total=   0.9s\n",
      "[CV] criterion=entropy, max_depth=5, max_features=10, min_samples_split=40, n_estimators=100 \n",
      "[CV]  criterion=entropy, max_depth=5, max_features=10, min_samples_split=40, n_estimators=100, score=0.9668560606060606, total=   0.9s\n",
      "[CV] criterion=entropy, max_depth=5, max_features=10, min_samples_split=40, n_estimators=200 \n",
      "[CV]  criterion=entropy, max_depth=5, max_features=10, min_samples_split=40, n_estimators=200, score=0.9460227272727273, total=   1.8s\n",
      "[CV] criterion=entropy, max_depth=5, max_features=10, min_samples_split=40, n_estimators=200 \n",
      "[CV]  criterion=entropy, max_depth=5, max_features=10, min_samples_split=40, n_estimators=200, score=0.9810606060606061, total=   1.9s\n",
      "[CV] criterion=entropy, max_depth=5, max_features=10, min_samples_split=40, n_estimators=200 \n",
      "[CV]  criterion=entropy, max_depth=5, max_features=10, min_samples_split=40, n_estimators=200, score=0.96875, total=   1.7s\n",
      "[CV] criterion=entropy, max_depth=5, max_features=10, min_samples_split=40, n_estimators=300 \n",
      "[CV]  criterion=entropy, max_depth=5, max_features=10, min_samples_split=40, n_estimators=300, score=0.9488636363636364, total=   2.3s\n",
      "[CV] criterion=entropy, max_depth=5, max_features=10, min_samples_split=40, n_estimators=300 \n",
      "[CV]  criterion=entropy, max_depth=5, max_features=10, min_samples_split=40, n_estimators=300, score=0.9810606060606061, total=   2.6s\n",
      "[CV] criterion=entropy, max_depth=5, max_features=10, min_samples_split=40, n_estimators=300 \n",
      "[CV]  criterion=entropy, max_depth=5, max_features=10, min_samples_split=40, n_estimators=300, score=0.9696969696969697, total=   2.6s\n",
      "[CV] criterion=entropy, max_depth=5, max_features=10, min_samples_split=40, n_estimators=500 \n",
      "[CV]  criterion=entropy, max_depth=5, max_features=10, min_samples_split=40, n_estimators=500, score=0.946969696969697, total=   3.9s\n",
      "[CV] criterion=entropy, max_depth=5, max_features=10, min_samples_split=40, n_estimators=500 \n",
      "[CV]  criterion=entropy, max_depth=5, max_features=10, min_samples_split=40, n_estimators=500, score=0.9820075757575758, total=   4.4s\n",
      "[CV] criterion=entropy, max_depth=5, max_features=10, min_samples_split=40, n_estimators=500 \n",
      "[CV]  criterion=entropy, max_depth=5, max_features=10, min_samples_split=40, n_estimators=500, score=0.9678030303030303, total=   4.6s\n",
      "[CV] criterion=entropy, max_depth=10, max_features=3, min_samples_split=10, n_estimators=100 \n",
      "[CV]  criterion=entropy, max_depth=10, max_features=3, min_samples_split=10, n_estimators=100, score=0.9431818181818182, total=   0.5s\n",
      "[CV] criterion=entropy, max_depth=10, max_features=3, min_samples_split=10, n_estimators=100 \n",
      "[CV]  criterion=entropy, max_depth=10, max_features=3, min_samples_split=10, n_estimators=100, score=0.9820075757575758, total=   0.6s\n",
      "[CV] criterion=entropy, max_depth=10, max_features=3, min_samples_split=10, n_estimators=100 \n",
      "[CV]  criterion=entropy, max_depth=10, max_features=3, min_samples_split=10, n_estimators=100, score=0.9696969696969697, total=   0.5s\n",
      "[CV] criterion=entropy, max_depth=10, max_features=3, min_samples_split=10, n_estimators=200 \n",
      "[CV]  criterion=entropy, max_depth=10, max_features=3, min_samples_split=10, n_estimators=200, score=0.9422348484848485, total=   1.0s\n",
      "[CV] criterion=entropy, max_depth=10, max_features=3, min_samples_split=10, n_estimators=200 \n",
      "[CV]  criterion=entropy, max_depth=10, max_features=3, min_samples_split=10, n_estimators=200, score=0.9839015151515151, total=   1.0s\n",
      "[CV] criterion=entropy, max_depth=10, max_features=3, min_samples_split=10, n_estimators=200 \n",
      "[CV]  criterion=entropy, max_depth=10, max_features=3, min_samples_split=10, n_estimators=200, score=0.96875, total=   0.9s\n",
      "[CV] criterion=entropy, max_depth=10, max_features=3, min_samples_split=10, n_estimators=300 \n",
      "[CV]  criterion=entropy, max_depth=10, max_features=3, min_samples_split=10, n_estimators=300, score=0.9403409090909091, total=   1.2s\n",
      "[CV] criterion=entropy, max_depth=10, max_features=3, min_samples_split=10, n_estimators=300 \n",
      "[CV]  criterion=entropy, max_depth=10, max_features=3, min_samples_split=10, n_estimators=300, score=0.9829545454545454, total=   1.4s\n",
      "[CV] criterion=entropy, max_depth=10, max_features=3, min_samples_split=10, n_estimators=300 \n",
      "[CV]  criterion=entropy, max_depth=10, max_features=3, min_samples_split=10, n_estimators=300, score=0.9696969696969697, total=   1.3s\n",
      "[CV] criterion=entropy, max_depth=10, max_features=3, min_samples_split=10, n_estimators=500 \n",
      "[CV]  criterion=entropy, max_depth=10, max_features=3, min_samples_split=10, n_estimators=500, score=0.9412878787878788, total=   2.0s\n",
      "[CV] criterion=entropy, max_depth=10, max_features=3, min_samples_split=10, n_estimators=500 \n",
      "[CV]  criterion=entropy, max_depth=10, max_features=3, min_samples_split=10, n_estimators=500, score=0.9848484848484849, total=   2.2s\n",
      "[CV] criterion=entropy, max_depth=10, max_features=3, min_samples_split=10, n_estimators=500 \n",
      "[CV]  criterion=entropy, max_depth=10, max_features=3, min_samples_split=10, n_estimators=500, score=0.9668560606060606, total=   2.2s\n",
      "[CV] criterion=entropy, max_depth=10, max_features=3, min_samples_split=30, n_estimators=100 \n",
      "[CV]  criterion=entropy, max_depth=10, max_features=3, min_samples_split=30, n_estimators=100, score=0.9431818181818182, total=   0.4s\n",
      "[CV] criterion=entropy, max_depth=10, max_features=3, min_samples_split=30, n_estimators=100 \n",
      "[CV]  criterion=entropy, max_depth=10, max_features=3, min_samples_split=30, n_estimators=100, score=0.9829545454545454, total=   0.5s\n",
      "[CV] criterion=entropy, max_depth=10, max_features=3, min_samples_split=30, n_estimators=100 \n",
      "[CV]  criterion=entropy, max_depth=10, max_features=3, min_samples_split=30, n_estimators=100, score=0.9659090909090909, total=   0.4s\n",
      "[CV] criterion=entropy, max_depth=10, max_features=3, min_samples_split=30, n_estimators=200 \n",
      "[CV]  criterion=entropy, max_depth=10, max_features=3, min_samples_split=30, n_estimators=200, score=0.9441287878787878, total=   0.8s\n",
      "[CV] criterion=entropy, max_depth=10, max_features=3, min_samples_split=30, n_estimators=200 \n",
      "[CV]  criterion=entropy, max_depth=10, max_features=3, min_samples_split=30, n_estimators=200, score=0.9839015151515151, total=   0.9s\n",
      "[CV] criterion=entropy, max_depth=10, max_features=3, min_samples_split=30, n_estimators=200 \n",
      "[CV]  criterion=entropy, max_depth=10, max_features=3, min_samples_split=30, n_estimators=200, score=0.9678030303030303, total=   0.8s\n",
      "[CV] criterion=entropy, max_depth=10, max_features=3, min_samples_split=30, n_estimators=300 \n",
      "[CV]  criterion=entropy, max_depth=10, max_features=3, min_samples_split=30, n_estimators=300, score=0.946969696969697, total=   1.2s\n",
      "[CV] criterion=entropy, max_depth=10, max_features=3, min_samples_split=30, n_estimators=300 \n"
     ]
    },
    {
     "name": "stdout",
     "output_type": "stream",
     "text": [
      "[CV]  criterion=entropy, max_depth=10, max_features=3, min_samples_split=30, n_estimators=300, score=0.9829545454545454, total=   1.3s\n",
      "[CV] criterion=entropy, max_depth=10, max_features=3, min_samples_split=30, n_estimators=300 \n",
      "[CV]  criterion=entropy, max_depth=10, max_features=3, min_samples_split=30, n_estimators=300, score=0.9678030303030303, total=   1.3s\n",
      "[CV] criterion=entropy, max_depth=10, max_features=3, min_samples_split=30, n_estimators=500 \n",
      "[CV]  criterion=entropy, max_depth=10, max_features=3, min_samples_split=30, n_estimators=500, score=0.9450757575757576, total=   1.9s\n",
      "[CV] criterion=entropy, max_depth=10, max_features=3, min_samples_split=30, n_estimators=500 \n",
      "[CV]  criterion=entropy, max_depth=10, max_features=3, min_samples_split=30, n_estimators=500, score=0.9829545454545454, total=   2.2s\n",
      "[CV] criterion=entropy, max_depth=10, max_features=3, min_samples_split=30, n_estimators=500 \n",
      "[CV]  criterion=entropy, max_depth=10, max_features=3, min_samples_split=30, n_estimators=500, score=0.96875, total=   2.1s\n",
      "[CV] criterion=entropy, max_depth=10, max_features=3, min_samples_split=40, n_estimators=100 \n",
      "[CV]  criterion=entropy, max_depth=10, max_features=3, min_samples_split=40, n_estimators=100, score=0.9441287878787878, total=   0.4s\n",
      "[CV] criterion=entropy, max_depth=10, max_features=3, min_samples_split=40, n_estimators=100 \n",
      "[CV]  criterion=entropy, max_depth=10, max_features=3, min_samples_split=40, n_estimators=100, score=0.9829545454545454, total=   0.5s\n",
      "[CV] criterion=entropy, max_depth=10, max_features=3, min_samples_split=40, n_estimators=100 \n",
      "[CV]  criterion=entropy, max_depth=10, max_features=3, min_samples_split=40, n_estimators=100, score=0.9659090909090909, total=   0.5s\n",
      "[CV] criterion=entropy, max_depth=10, max_features=3, min_samples_split=40, n_estimators=200 \n",
      "[CV]  criterion=entropy, max_depth=10, max_features=3, min_samples_split=40, n_estimators=200, score=0.9422348484848485, total=   0.8s\n",
      "[CV] criterion=entropy, max_depth=10, max_features=3, min_samples_split=40, n_estimators=200 \n",
      "[CV]  criterion=entropy, max_depth=10, max_features=3, min_samples_split=40, n_estimators=200, score=0.9829545454545454, total=   0.9s\n",
      "[CV] criterion=entropy, max_depth=10, max_features=3, min_samples_split=40, n_estimators=200 \n",
      "[CV]  criterion=entropy, max_depth=10, max_features=3, min_samples_split=40, n_estimators=200, score=0.96875, total=   0.9s\n",
      "[CV] criterion=entropy, max_depth=10, max_features=3, min_samples_split=40, n_estimators=300 \n",
      "[CV]  criterion=entropy, max_depth=10, max_features=3, min_samples_split=40, n_estimators=300, score=0.9412878787878788, total=   1.2s\n",
      "[CV] criterion=entropy, max_depth=10, max_features=3, min_samples_split=40, n_estimators=300 \n",
      "[CV]  criterion=entropy, max_depth=10, max_features=3, min_samples_split=40, n_estimators=300, score=0.9839015151515151, total=   1.3s\n",
      "[CV] criterion=entropy, max_depth=10, max_features=3, min_samples_split=40, n_estimators=300 \n",
      "[CV]  criterion=entropy, max_depth=10, max_features=3, min_samples_split=40, n_estimators=300, score=0.9668560606060606, total=   1.3s\n",
      "[CV] criterion=entropy, max_depth=10, max_features=3, min_samples_split=40, n_estimators=500 \n",
      "[CV]  criterion=entropy, max_depth=10, max_features=3, min_samples_split=40, n_estimators=500, score=0.9431818181818182, total=   1.9s\n",
      "[CV] criterion=entropy, max_depth=10, max_features=3, min_samples_split=40, n_estimators=500 \n",
      "[CV]  criterion=entropy, max_depth=10, max_features=3, min_samples_split=40, n_estimators=500, score=0.9829545454545454, total=   2.4s\n",
      "[CV] criterion=entropy, max_depth=10, max_features=3, min_samples_split=40, n_estimators=500 \n",
      "[CV]  criterion=entropy, max_depth=10, max_features=3, min_samples_split=40, n_estimators=500, score=0.96875, total=   2.1s\n",
      "[CV] criterion=entropy, max_depth=10, max_features=5, min_samples_split=10, n_estimators=100 \n",
      "[CV]  criterion=entropy, max_depth=10, max_features=5, min_samples_split=10, n_estimators=100, score=0.9450757575757576, total=   0.5s\n",
      "[CV] criterion=entropy, max_depth=10, max_features=5, min_samples_split=10, n_estimators=100 \n",
      "[CV]  criterion=entropy, max_depth=10, max_features=5, min_samples_split=10, n_estimators=100, score=0.9820075757575758, total=   0.6s\n",
      "[CV] criterion=entropy, max_depth=10, max_features=5, min_samples_split=10, n_estimators=100 \n",
      "[CV]  criterion=entropy, max_depth=10, max_features=5, min_samples_split=10, n_estimators=100, score=0.9715909090909091, total=   0.6s\n",
      "[CV] criterion=entropy, max_depth=10, max_features=5, min_samples_split=10, n_estimators=200 \n",
      "[CV]  criterion=entropy, max_depth=10, max_features=5, min_samples_split=10, n_estimators=200, score=0.9460227272727273, total=   1.1s\n",
      "[CV] criterion=entropy, max_depth=10, max_features=5, min_samples_split=10, n_estimators=200 \n",
      "[CV]  criterion=entropy, max_depth=10, max_features=5, min_samples_split=10, n_estimators=200, score=0.9829545454545454, total=   1.4s\n",
      "[CV] criterion=entropy, max_depth=10, max_features=5, min_samples_split=10, n_estimators=200 \n",
      "[CV]  criterion=entropy, max_depth=10, max_features=5, min_samples_split=10, n_estimators=200, score=0.9696969696969697, total=   1.4s\n",
      "[CV] criterion=entropy, max_depth=10, max_features=5, min_samples_split=10, n_estimators=300 \n",
      "[CV]  criterion=entropy, max_depth=10, max_features=5, min_samples_split=10, n_estimators=300, score=0.9460227272727273, total=   1.9s\n",
      "[CV] criterion=entropy, max_depth=10, max_features=5, min_samples_split=10, n_estimators=300 \n",
      "[CV]  criterion=entropy, max_depth=10, max_features=5, min_samples_split=10, n_estimators=300, score=0.9820075757575758, total=   2.0s\n",
      "[CV] criterion=entropy, max_depth=10, max_features=5, min_samples_split=10, n_estimators=300 \n",
      "[CV]  criterion=entropy, max_depth=10, max_features=5, min_samples_split=10, n_estimators=300, score=0.9706439393939394, total=   1.8s\n",
      "[CV] criterion=entropy, max_depth=10, max_features=5, min_samples_split=10, n_estimators=500 \n",
      "[CV]  criterion=entropy, max_depth=10, max_features=5, min_samples_split=10, n_estimators=500, score=0.946969696969697, total=   2.6s\n",
      "[CV] criterion=entropy, max_depth=10, max_features=5, min_samples_split=10, n_estimators=500 \n",
      "[CV]  criterion=entropy, max_depth=10, max_features=5, min_samples_split=10, n_estimators=500, score=0.9820075757575758, total=   3.0s\n",
      "[CV] criterion=entropy, max_depth=10, max_features=5, min_samples_split=10, n_estimators=500 \n",
      "[CV]  criterion=entropy, max_depth=10, max_features=5, min_samples_split=10, n_estimators=500, score=0.9715909090909091, total=   2.9s\n",
      "[CV] criterion=entropy, max_depth=10, max_features=5, min_samples_split=30, n_estimators=100 \n",
      "[CV]  criterion=entropy, max_depth=10, max_features=5, min_samples_split=30, n_estimators=100, score=0.9507575757575758, total=   0.5s\n",
      "[CV] criterion=entropy, max_depth=10, max_features=5, min_samples_split=30, n_estimators=100 \n",
      "[CV]  criterion=entropy, max_depth=10, max_features=5, min_samples_split=30, n_estimators=100, score=0.9829545454545454, total=   0.6s\n",
      "[CV] criterion=entropy, max_depth=10, max_features=5, min_samples_split=30, n_estimators=100 \n",
      "[CV]  criterion=entropy, max_depth=10, max_features=5, min_samples_split=30, n_estimators=100, score=0.9696969696969697, total=   0.6s\n",
      "[CV] criterion=entropy, max_depth=10, max_features=5, min_samples_split=30, n_estimators=200 \n",
      "[CV]  criterion=entropy, max_depth=10, max_features=5, min_samples_split=30, n_estimators=200, score=0.9460227272727273, total=   1.0s\n",
      "[CV] criterion=entropy, max_depth=10, max_features=5, min_samples_split=30, n_estimators=200 \n",
      "[CV]  criterion=entropy, max_depth=10, max_features=5, min_samples_split=30, n_estimators=200, score=0.9829545454545454, total=   1.2s\n",
      "[CV] criterion=entropy, max_depth=10, max_features=5, min_samples_split=30, n_estimators=200 \n",
      "[CV]  criterion=entropy, max_depth=10, max_features=5, min_samples_split=30, n_estimators=200, score=0.9725378787878788, total=   1.1s\n",
      "[CV] criterion=entropy, max_depth=10, max_features=5, min_samples_split=30, n_estimators=300 \n",
      "[CV]  criterion=entropy, max_depth=10, max_features=5, min_samples_split=30, n_estimators=300, score=0.9498106060606061, total=   1.6s\n",
      "[CV] criterion=entropy, max_depth=10, max_features=5, min_samples_split=30, n_estimators=300 \n"
     ]
    },
    {
     "name": "stdout",
     "output_type": "stream",
     "text": [
      "[CV]  criterion=entropy, max_depth=10, max_features=5, min_samples_split=30, n_estimators=300, score=0.9810606060606061, total=   1.8s\n",
      "[CV] criterion=entropy, max_depth=10, max_features=5, min_samples_split=30, n_estimators=300 \n",
      "[CV]  criterion=entropy, max_depth=10, max_features=5, min_samples_split=30, n_estimators=300, score=0.9725378787878788, total=   1.7s\n",
      "[CV] criterion=entropy, max_depth=10, max_features=5, min_samples_split=30, n_estimators=500 \n",
      "[CV]  criterion=entropy, max_depth=10, max_features=5, min_samples_split=30, n_estimators=500, score=0.9488636363636364, total=   2.9s\n",
      "[CV] criterion=entropy, max_depth=10, max_features=5, min_samples_split=30, n_estimators=500 \n",
      "[CV]  criterion=entropy, max_depth=10, max_features=5, min_samples_split=30, n_estimators=500, score=0.9829545454545454, total=   3.0s\n",
      "[CV] criterion=entropy, max_depth=10, max_features=5, min_samples_split=30, n_estimators=500 \n",
      "[CV]  criterion=entropy, max_depth=10, max_features=5, min_samples_split=30, n_estimators=500, score=0.9696969696969697, total=   2.9s\n",
      "[CV] criterion=entropy, max_depth=10, max_features=5, min_samples_split=40, n_estimators=100 \n",
      "[CV]  criterion=entropy, max_depth=10, max_features=5, min_samples_split=40, n_estimators=100, score=0.946969696969697, total=   0.7s\n",
      "[CV] criterion=entropy, max_depth=10, max_features=5, min_samples_split=40, n_estimators=100 \n",
      "[CV]  criterion=entropy, max_depth=10, max_features=5, min_samples_split=40, n_estimators=100, score=0.9839015151515151, total=   0.6s\n",
      "[CV] criterion=entropy, max_depth=10, max_features=5, min_samples_split=40, n_estimators=100 \n",
      "[CV]  criterion=entropy, max_depth=10, max_features=5, min_samples_split=40, n_estimators=100, score=0.9706439393939394, total=   0.6s\n",
      "[CV] criterion=entropy, max_depth=10, max_features=5, min_samples_split=40, n_estimators=200 \n",
      "[CV]  criterion=entropy, max_depth=10, max_features=5, min_samples_split=40, n_estimators=200, score=0.946969696969697, total=   1.1s\n",
      "[CV] criterion=entropy, max_depth=10, max_features=5, min_samples_split=40, n_estimators=200 \n",
      "[CV]  criterion=entropy, max_depth=10, max_features=5, min_samples_split=40, n_estimators=200, score=0.9829545454545454, total=   1.2s\n",
      "[CV] criterion=entropy, max_depth=10, max_features=5, min_samples_split=40, n_estimators=200 \n",
      "[CV]  criterion=entropy, max_depth=10, max_features=5, min_samples_split=40, n_estimators=200, score=0.9725378787878788, total=   1.3s\n",
      "[CV] criterion=entropy, max_depth=10, max_features=5, min_samples_split=40, n_estimators=300 \n",
      "[CV]  criterion=entropy, max_depth=10, max_features=5, min_samples_split=40, n_estimators=300, score=0.9488636363636364, total=   1.6s\n",
      "[CV] criterion=entropy, max_depth=10, max_features=5, min_samples_split=40, n_estimators=300 \n",
      "[CV]  criterion=entropy, max_depth=10, max_features=5, min_samples_split=40, n_estimators=300, score=0.9820075757575758, total=   1.8s\n",
      "[CV] criterion=entropy, max_depth=10, max_features=5, min_samples_split=40, n_estimators=300 \n",
      "[CV]  criterion=entropy, max_depth=10, max_features=5, min_samples_split=40, n_estimators=300, score=0.9696969696969697, total=   1.7s\n",
      "[CV] criterion=entropy, max_depth=10, max_features=5, min_samples_split=40, n_estimators=500 \n",
      "[CV]  criterion=entropy, max_depth=10, max_features=5, min_samples_split=40, n_estimators=500, score=0.946969696969697, total=   2.5s\n",
      "[CV] criterion=entropy, max_depth=10, max_features=5, min_samples_split=40, n_estimators=500 \n",
      "[CV]  criterion=entropy, max_depth=10, max_features=5, min_samples_split=40, n_estimators=500, score=0.9829545454545454, total=   3.1s\n",
      "[CV] criterion=entropy, max_depth=10, max_features=5, min_samples_split=40, n_estimators=500 \n",
      "[CV]  criterion=entropy, max_depth=10, max_features=5, min_samples_split=40, n_estimators=500, score=0.9706439393939394, total=   3.0s\n",
      "[CV] criterion=entropy, max_depth=10, max_features=7, min_samples_split=10, n_estimators=100 \n",
      "[CV]  criterion=entropy, max_depth=10, max_features=7, min_samples_split=10, n_estimators=100, score=0.946969696969697, total=   0.7s\n",
      "[CV] criterion=entropy, max_depth=10, max_features=7, min_samples_split=10, n_estimators=100 \n",
      "[CV]  criterion=entropy, max_depth=10, max_features=7, min_samples_split=10, n_estimators=100, score=0.9820075757575758, total=   0.8s\n",
      "[CV] criterion=entropy, max_depth=10, max_features=7, min_samples_split=10, n_estimators=100 \n",
      "[CV]  criterion=entropy, max_depth=10, max_features=7, min_samples_split=10, n_estimators=100, score=0.9725378787878788, total=   0.7s\n",
      "[CV] criterion=entropy, max_depth=10, max_features=7, min_samples_split=10, n_estimators=200 \n",
      "[CV]  criterion=entropy, max_depth=10, max_features=7, min_samples_split=10, n_estimators=200, score=0.946969696969697, total=   1.3s\n",
      "[CV] criterion=entropy, max_depth=10, max_features=7, min_samples_split=10, n_estimators=200 \n",
      "[CV]  criterion=entropy, max_depth=10, max_features=7, min_samples_split=10, n_estimators=200, score=0.9810606060606061, total=   1.5s\n",
      "[CV] criterion=entropy, max_depth=10, max_features=7, min_samples_split=10, n_estimators=200 \n",
      "[CV]  criterion=entropy, max_depth=10, max_features=7, min_samples_split=10, n_estimators=200, score=0.9725378787878788, total=   1.5s\n",
      "[CV] criterion=entropy, max_depth=10, max_features=7, min_samples_split=10, n_estimators=300 \n",
      "[CV]  criterion=entropy, max_depth=10, max_features=7, min_samples_split=10, n_estimators=300, score=0.9450757575757576, total=   2.0s\n",
      "[CV] criterion=entropy, max_depth=10, max_features=7, min_samples_split=10, n_estimators=300 \n",
      "[CV]  criterion=entropy, max_depth=10, max_features=7, min_samples_split=10, n_estimators=300, score=0.9810606060606061, total=   2.3s\n",
      "[CV] criterion=entropy, max_depth=10, max_features=7, min_samples_split=10, n_estimators=300 \n",
      "[CV]  criterion=entropy, max_depth=10, max_features=7, min_samples_split=10, n_estimators=300, score=0.9734848484848485, total=   2.2s\n",
      "[CV] criterion=entropy, max_depth=10, max_features=7, min_samples_split=10, n_estimators=500 \n",
      "[CV]  criterion=entropy, max_depth=10, max_features=7, min_samples_split=10, n_estimators=500, score=0.946969696969697, total=   3.5s\n",
      "[CV] criterion=entropy, max_depth=10, max_features=7, min_samples_split=10, n_estimators=500 \n",
      "[CV]  criterion=entropy, max_depth=10, max_features=7, min_samples_split=10, n_estimators=500, score=0.9810606060606061, total=   4.1s\n",
      "[CV] criterion=entropy, max_depth=10, max_features=7, min_samples_split=10, n_estimators=500 \n",
      "[CV]  criterion=entropy, max_depth=10, max_features=7, min_samples_split=10, n_estimators=500, score=0.9715909090909091, total=   4.0s\n",
      "[CV] criterion=entropy, max_depth=10, max_features=7, min_samples_split=30, n_estimators=100 \n",
      "[CV]  criterion=entropy, max_depth=10, max_features=7, min_samples_split=30, n_estimators=100, score=0.9488636363636364, total=   0.8s\n",
      "[CV] criterion=entropy, max_depth=10, max_features=7, min_samples_split=30, n_estimators=100 \n",
      "[CV]  criterion=entropy, max_depth=10, max_features=7, min_samples_split=30, n_estimators=100, score=0.9820075757575758, total=   0.8s\n",
      "[CV] criterion=entropy, max_depth=10, max_features=7, min_samples_split=30, n_estimators=100 \n",
      "[CV]  criterion=entropy, max_depth=10, max_features=7, min_samples_split=30, n_estimators=100, score=0.9696969696969697, total=   0.7s\n",
      "[CV] criterion=entropy, max_depth=10, max_features=7, min_samples_split=30, n_estimators=200 \n",
      "[CV]  criterion=entropy, max_depth=10, max_features=7, min_samples_split=30, n_estimators=200, score=0.9460227272727273, total=   1.4s\n",
      "[CV] criterion=entropy, max_depth=10, max_features=7, min_samples_split=30, n_estimators=200 \n",
      "[CV]  criterion=entropy, max_depth=10, max_features=7, min_samples_split=30, n_estimators=200, score=0.9820075757575758, total=   1.6s\n",
      "[CV] criterion=entropy, max_depth=10, max_features=7, min_samples_split=30, n_estimators=200 \n",
      "[CV]  criterion=entropy, max_depth=10, max_features=7, min_samples_split=30, n_estimators=200, score=0.9706439393939394, total=   1.4s\n",
      "[CV] criterion=entropy, max_depth=10, max_features=7, min_samples_split=30, n_estimators=300 \n",
      "[CV]  criterion=entropy, max_depth=10, max_features=7, min_samples_split=30, n_estimators=300, score=0.9498106060606061, total=   2.0s\n",
      "[CV] criterion=entropy, max_depth=10, max_features=7, min_samples_split=30, n_estimators=300 \n"
     ]
    },
    {
     "name": "stdout",
     "output_type": "stream",
     "text": [
      "[CV]  criterion=entropy, max_depth=10, max_features=7, min_samples_split=30, n_estimators=300, score=0.9820075757575758, total=   2.7s\n",
      "[CV] criterion=entropy, max_depth=10, max_features=7, min_samples_split=30, n_estimators=300 \n",
      "[CV]  criterion=entropy, max_depth=10, max_features=7, min_samples_split=30, n_estimators=300, score=0.9734848484848485, total=   2.1s\n",
      "[CV] criterion=entropy, max_depth=10, max_features=7, min_samples_split=30, n_estimators=500 \n",
      "[CV]  criterion=entropy, max_depth=10, max_features=7, min_samples_split=30, n_estimators=500, score=0.9479166666666666, total=   3.1s\n",
      "[CV] criterion=entropy, max_depth=10, max_features=7, min_samples_split=30, n_estimators=500 \n",
      "[CV]  criterion=entropy, max_depth=10, max_features=7, min_samples_split=30, n_estimators=500, score=0.9820075757575758, total=   4.1s\n",
      "[CV] criterion=entropy, max_depth=10, max_features=7, min_samples_split=30, n_estimators=500 \n",
      "[CV]  criterion=entropy, max_depth=10, max_features=7, min_samples_split=30, n_estimators=500, score=0.9734848484848485, total=   3.8s\n",
      "[CV] criterion=entropy, max_depth=10, max_features=7, min_samples_split=40, n_estimators=100 \n",
      "[CV]  criterion=entropy, max_depth=10, max_features=7, min_samples_split=40, n_estimators=100, score=0.9479166666666666, total=   0.7s\n",
      "[CV] criterion=entropy, max_depth=10, max_features=7, min_samples_split=40, n_estimators=100 \n",
      "[CV]  criterion=entropy, max_depth=10, max_features=7, min_samples_split=40, n_estimators=100, score=0.9820075757575758, total=   0.8s\n",
      "[CV] criterion=entropy, max_depth=10, max_features=7, min_samples_split=40, n_estimators=100 \n",
      "[CV]  criterion=entropy, max_depth=10, max_features=7, min_samples_split=40, n_estimators=100, score=0.9715909090909091, total=   0.8s\n",
      "[CV] criterion=entropy, max_depth=10, max_features=7, min_samples_split=40, n_estimators=200 \n",
      "[CV]  criterion=entropy, max_depth=10, max_features=7, min_samples_split=40, n_estimators=200, score=0.946969696969697, total=   1.3s\n",
      "[CV] criterion=entropy, max_depth=10, max_features=7, min_samples_split=40, n_estimators=200 \n",
      "[CV]  criterion=entropy, max_depth=10, max_features=7, min_samples_split=40, n_estimators=200, score=0.9810606060606061, total=   1.6s\n",
      "[CV] criterion=entropy, max_depth=10, max_features=7, min_samples_split=40, n_estimators=200 \n",
      "[CV]  criterion=entropy, max_depth=10, max_features=7, min_samples_split=40, n_estimators=200, score=0.9696969696969697, total=   1.4s\n",
      "[CV] criterion=entropy, max_depth=10, max_features=7, min_samples_split=40, n_estimators=300 \n",
      "[CV]  criterion=entropy, max_depth=10, max_features=7, min_samples_split=40, n_estimators=300, score=0.9507575757575758, total=   2.0s\n",
      "[CV] criterion=entropy, max_depth=10, max_features=7, min_samples_split=40, n_estimators=300 \n",
      "[CV]  criterion=entropy, max_depth=10, max_features=7, min_samples_split=40, n_estimators=300, score=0.9839015151515151, total=   2.2s\n",
      "[CV] criterion=entropy, max_depth=10, max_features=7, min_samples_split=40, n_estimators=300 \n",
      "[CV]  criterion=entropy, max_depth=10, max_features=7, min_samples_split=40, n_estimators=300, score=0.9725378787878788, total=   2.2s\n",
      "[CV] criterion=entropy, max_depth=10, max_features=7, min_samples_split=40, n_estimators=500 \n",
      "[CV]  criterion=entropy, max_depth=10, max_features=7, min_samples_split=40, n_estimators=500, score=0.9507575757575758, total=   3.4s\n",
      "[CV] criterion=entropy, max_depth=10, max_features=7, min_samples_split=40, n_estimators=500 \n",
      "[CV]  criterion=entropy, max_depth=10, max_features=7, min_samples_split=40, n_estimators=500, score=0.9820075757575758, total=   3.9s\n",
      "[CV] criterion=entropy, max_depth=10, max_features=7, min_samples_split=40, n_estimators=500 \n",
      "[CV]  criterion=entropy, max_depth=10, max_features=7, min_samples_split=40, n_estimators=500, score=0.9696969696969697, total=   3.9s\n",
      "[CV] criterion=entropy, max_depth=10, max_features=10, min_samples_split=10, n_estimators=100 \n",
      "[CV]  criterion=entropy, max_depth=10, max_features=10, min_samples_split=10, n_estimators=100, score=0.9460227272727273, total=   0.8s\n",
      "[CV] criterion=entropy, max_depth=10, max_features=10, min_samples_split=10, n_estimators=100 \n",
      "[CV]  criterion=entropy, max_depth=10, max_features=10, min_samples_split=10, n_estimators=100, score=0.9801136363636364, total=   0.9s\n",
      "[CV] criterion=entropy, max_depth=10, max_features=10, min_samples_split=10, n_estimators=100 \n",
      "[CV]  criterion=entropy, max_depth=10, max_features=10, min_samples_split=10, n_estimators=100, score=0.9734848484848485, total=   0.9s\n",
      "[CV] criterion=entropy, max_depth=10, max_features=10, min_samples_split=10, n_estimators=200 \n",
      "[CV]  criterion=entropy, max_depth=10, max_features=10, min_samples_split=10, n_estimators=200, score=0.946969696969697, total=   1.6s\n",
      "[CV] criterion=entropy, max_depth=10, max_features=10, min_samples_split=10, n_estimators=200 \n",
      "[CV]  criterion=entropy, max_depth=10, max_features=10, min_samples_split=10, n_estimators=200, score=0.9810606060606061, total=   2.0s\n",
      "[CV] criterion=entropy, max_depth=10, max_features=10, min_samples_split=10, n_estimators=200 \n",
      "[CV]  criterion=entropy, max_depth=10, max_features=10, min_samples_split=10, n_estimators=200, score=0.9734848484848485, total=   1.8s\n",
      "[CV] criterion=entropy, max_depth=10, max_features=10, min_samples_split=10, n_estimators=300 \n",
      "[CV]  criterion=entropy, max_depth=10, max_features=10, min_samples_split=10, n_estimators=300, score=0.946969696969697, total=   2.4s\n",
      "[CV] criterion=entropy, max_depth=10, max_features=10, min_samples_split=10, n_estimators=300 \n",
      "[CV]  criterion=entropy, max_depth=10, max_features=10, min_samples_split=10, n_estimators=300, score=0.9810606060606061, total=   2.8s\n",
      "[CV] criterion=entropy, max_depth=10, max_features=10, min_samples_split=10, n_estimators=300 \n",
      "[CV]  criterion=entropy, max_depth=10, max_features=10, min_samples_split=10, n_estimators=300, score=0.9734848484848485, total=   2.8s\n",
      "[CV] criterion=entropy, max_depth=10, max_features=10, min_samples_split=10, n_estimators=500 \n",
      "[CV]  criterion=entropy, max_depth=10, max_features=10, min_samples_split=10, n_estimators=500, score=0.9488636363636364, total=   4.2s\n",
      "[CV] criterion=entropy, max_depth=10, max_features=10, min_samples_split=10, n_estimators=500 \n",
      "[CV]  criterion=entropy, max_depth=10, max_features=10, min_samples_split=10, n_estimators=500, score=0.9810606060606061, total=   4.8s\n",
      "[CV] criterion=entropy, max_depth=10, max_features=10, min_samples_split=10, n_estimators=500 \n",
      "[CV]  criterion=entropy, max_depth=10, max_features=10, min_samples_split=10, n_estimators=500, score=0.9725378787878788, total=   4.6s\n",
      "[CV] criterion=entropy, max_depth=10, max_features=10, min_samples_split=30, n_estimators=100 \n",
      "[CV]  criterion=entropy, max_depth=10, max_features=10, min_samples_split=30, n_estimators=100, score=0.9460227272727273, total=   0.8s\n",
      "[CV] criterion=entropy, max_depth=10, max_features=10, min_samples_split=30, n_estimators=100 \n",
      "[CV]  criterion=entropy, max_depth=10, max_features=10, min_samples_split=30, n_estimators=100, score=0.9791666666666666, total=   1.0s\n",
      "[CV] criterion=entropy, max_depth=10, max_features=10, min_samples_split=30, n_estimators=100 \n",
      "[CV]  criterion=entropy, max_depth=10, max_features=10, min_samples_split=30, n_estimators=100, score=0.9715909090909091, total=   1.0s\n",
      "[CV] criterion=entropy, max_depth=10, max_features=10, min_samples_split=30, n_estimators=200 \n",
      "[CV]  criterion=entropy, max_depth=10, max_features=10, min_samples_split=30, n_estimators=200, score=0.9431818181818182, total=   1.9s\n",
      "[CV] criterion=entropy, max_depth=10, max_features=10, min_samples_split=30, n_estimators=200 \n",
      "[CV]  criterion=entropy, max_depth=10, max_features=10, min_samples_split=30, n_estimators=200, score=0.9791666666666666, total=   2.1s\n",
      "[CV] criterion=entropy, max_depth=10, max_features=10, min_samples_split=30, n_estimators=200 \n",
      "[CV]  criterion=entropy, max_depth=10, max_features=10, min_samples_split=30, n_estimators=200, score=0.9725378787878788, total=   1.8s\n",
      "[CV] criterion=entropy, max_depth=10, max_features=10, min_samples_split=30, n_estimators=300 \n",
      "[CV]  criterion=entropy, max_depth=10, max_features=10, min_samples_split=30, n_estimators=300, score=0.9479166666666666, total=   2.4s\n",
      "[CV] criterion=entropy, max_depth=10, max_features=10, min_samples_split=30, n_estimators=300 \n"
     ]
    },
    {
     "name": "stdout",
     "output_type": "stream",
     "text": [
      "[CV]  criterion=entropy, max_depth=10, max_features=10, min_samples_split=30, n_estimators=300, score=0.9810606060606061, total=   3.1s\n",
      "[CV] criterion=entropy, max_depth=10, max_features=10, min_samples_split=30, n_estimators=300 \n",
      "[CV]  criterion=entropy, max_depth=10, max_features=10, min_samples_split=30, n_estimators=300, score=0.9725378787878788, total=   2.9s\n",
      "[CV] criterion=entropy, max_depth=10, max_features=10, min_samples_split=30, n_estimators=500 \n",
      "[CV]  criterion=entropy, max_depth=10, max_features=10, min_samples_split=30, n_estimators=500, score=0.946969696969697, total=   5.0s\n",
      "[CV] criterion=entropy, max_depth=10, max_features=10, min_samples_split=30, n_estimators=500 \n",
      "[CV]  criterion=entropy, max_depth=10, max_features=10, min_samples_split=30, n_estimators=500, score=0.9801136363636364, total=   4.9s\n",
      "[CV] criterion=entropy, max_depth=10, max_features=10, min_samples_split=30, n_estimators=500 \n",
      "[CV]  criterion=entropy, max_depth=10, max_features=10, min_samples_split=30, n_estimators=500, score=0.9706439393939394, total=   5.2s\n",
      "[CV] criterion=entropy, max_depth=10, max_features=10, min_samples_split=40, n_estimators=100 \n",
      "[CV]  criterion=entropy, max_depth=10, max_features=10, min_samples_split=40, n_estimators=100, score=0.9460227272727273, total=   0.9s\n",
      "[CV] criterion=entropy, max_depth=10, max_features=10, min_samples_split=40, n_estimators=100 \n",
      "[CV]  criterion=entropy, max_depth=10, max_features=10, min_samples_split=40, n_estimators=100, score=0.9810606060606061, total=   1.1s\n",
      "[CV] criterion=entropy, max_depth=10, max_features=10, min_samples_split=40, n_estimators=100 \n",
      "[CV]  criterion=entropy, max_depth=10, max_features=10, min_samples_split=40, n_estimators=100, score=0.9715909090909091, total=   1.1s\n",
      "[CV] criterion=entropy, max_depth=10, max_features=10, min_samples_split=40, n_estimators=200 \n",
      "[CV]  criterion=entropy, max_depth=10, max_features=10, min_samples_split=40, n_estimators=200, score=0.946969696969697, total=   1.6s\n",
      "[CV] criterion=entropy, max_depth=10, max_features=10, min_samples_split=40, n_estimators=200 \n",
      "[CV]  criterion=entropy, max_depth=10, max_features=10, min_samples_split=40, n_estimators=200, score=0.9772727272727273, total=   2.0s\n",
      "[CV] criterion=entropy, max_depth=10, max_features=10, min_samples_split=40, n_estimators=200 \n",
      "[CV]  criterion=entropy, max_depth=10, max_features=10, min_samples_split=40, n_estimators=200, score=0.96875, total=   1.8s\n",
      "[CV] criterion=entropy, max_depth=10, max_features=10, min_samples_split=40, n_estimators=300 \n",
      "[CV]  criterion=entropy, max_depth=10, max_features=10, min_samples_split=40, n_estimators=300, score=0.9507575757575758, total=   2.4s\n",
      "[CV] criterion=entropy, max_depth=10, max_features=10, min_samples_split=40, n_estimators=300 \n",
      "[CV]  criterion=entropy, max_depth=10, max_features=10, min_samples_split=40, n_estimators=300, score=0.9810606060606061, total=   2.9s\n",
      "[CV] criterion=entropy, max_depth=10, max_features=10, min_samples_split=40, n_estimators=300 \n",
      "[CV]  criterion=entropy, max_depth=10, max_features=10, min_samples_split=40, n_estimators=300, score=0.9696969696969697, total=   2.6s\n",
      "[CV] criterion=entropy, max_depth=10, max_features=10, min_samples_split=40, n_estimators=500 \n",
      "[CV]  criterion=entropy, max_depth=10, max_features=10, min_samples_split=40, n_estimators=500, score=0.946969696969697, total=   3.9s\n",
      "[CV] criterion=entropy, max_depth=10, max_features=10, min_samples_split=40, n_estimators=500 \n",
      "[CV]  criterion=entropy, max_depth=10, max_features=10, min_samples_split=40, n_estimators=500, score=0.9810606060606061, total=   4.8s\n",
      "[CV] criterion=entropy, max_depth=10, max_features=10, min_samples_split=40, n_estimators=500 \n",
      "[CV]  criterion=entropy, max_depth=10, max_features=10, min_samples_split=40, n_estimators=500, score=0.9706439393939394, total=   4.4s\n",
      "[CV] criterion=entropy, max_depth=15, max_features=3, min_samples_split=10, n_estimators=100 \n",
      "[CV]  criterion=entropy, max_depth=15, max_features=3, min_samples_split=10, n_estimators=100, score=0.9403409090909091, total=   0.4s\n",
      "[CV] criterion=entropy, max_depth=15, max_features=3, min_samples_split=10, n_estimators=100 \n",
      "[CV]  criterion=entropy, max_depth=15, max_features=3, min_samples_split=10, n_estimators=100, score=0.9829545454545454, total=   0.5s\n",
      "[CV] criterion=entropy, max_depth=15, max_features=3, min_samples_split=10, n_estimators=100 \n",
      "[CV]  criterion=entropy, max_depth=15, max_features=3, min_samples_split=10, n_estimators=100, score=0.9659090909090909, total=   0.4s\n",
      "[CV] criterion=entropy, max_depth=15, max_features=3, min_samples_split=10, n_estimators=200 \n",
      "[CV]  criterion=entropy, max_depth=15, max_features=3, min_samples_split=10, n_estimators=200, score=0.9422348484848485, total=   0.8s\n",
      "[CV] criterion=entropy, max_depth=15, max_features=3, min_samples_split=10, n_estimators=200 \n",
      "[CV]  criterion=entropy, max_depth=15, max_features=3, min_samples_split=10, n_estimators=200, score=0.9839015151515151, total=   1.0s\n",
      "[CV] criterion=entropy, max_depth=15, max_features=3, min_samples_split=10, n_estimators=200 \n",
      "[CV]  criterion=entropy, max_depth=15, max_features=3, min_samples_split=10, n_estimators=200, score=0.96875, total=   0.9s\n",
      "[CV] criterion=entropy, max_depth=15, max_features=3, min_samples_split=10, n_estimators=300 \n",
      "[CV]  criterion=entropy, max_depth=15, max_features=3, min_samples_split=10, n_estimators=300, score=0.9450757575757576, total=   1.2s\n",
      "[CV] criterion=entropy, max_depth=15, max_features=3, min_samples_split=10, n_estimators=300 \n",
      "[CV]  criterion=entropy, max_depth=15, max_features=3, min_samples_split=10, n_estimators=300, score=0.9839015151515151, total=   1.4s\n",
      "[CV] criterion=entropy, max_depth=15, max_features=3, min_samples_split=10, n_estimators=300 \n",
      "[CV]  criterion=entropy, max_depth=15, max_features=3, min_samples_split=10, n_estimators=300, score=0.9668560606060606, total=   1.3s\n",
      "[CV] criterion=entropy, max_depth=15, max_features=3, min_samples_split=10, n_estimators=500 \n",
      "[CV]  criterion=entropy, max_depth=15, max_features=3, min_samples_split=10, n_estimators=500, score=0.9384469696969697, total=   2.1s\n",
      "[CV] criterion=entropy, max_depth=15, max_features=3, min_samples_split=10, n_estimators=500 \n",
      "[CV]  criterion=entropy, max_depth=15, max_features=3, min_samples_split=10, n_estimators=500, score=0.9839015151515151, total=   2.6s\n",
      "[CV] criterion=entropy, max_depth=15, max_features=3, min_samples_split=10, n_estimators=500 \n",
      "[CV]  criterion=entropy, max_depth=15, max_features=3, min_samples_split=10, n_estimators=500, score=0.96875, total=   2.3s\n",
      "[CV] criterion=entropy, max_depth=15, max_features=3, min_samples_split=30, n_estimators=100 \n",
      "[CV]  criterion=entropy, max_depth=15, max_features=3, min_samples_split=30, n_estimators=100, score=0.9450757575757576, total=   0.4s\n",
      "[CV] criterion=entropy, max_depth=15, max_features=3, min_samples_split=30, n_estimators=100 \n",
      "[CV]  criterion=entropy, max_depth=15, max_features=3, min_samples_split=30, n_estimators=100, score=0.9839015151515151, total=   0.4s\n",
      "[CV] criterion=entropy, max_depth=15, max_features=3, min_samples_split=30, n_estimators=100 \n",
      "[CV]  criterion=entropy, max_depth=15, max_features=3, min_samples_split=30, n_estimators=100, score=0.9706439393939394, total=   0.4s\n",
      "[CV] criterion=entropy, max_depth=15, max_features=3, min_samples_split=30, n_estimators=200 \n",
      "[CV]  criterion=entropy, max_depth=15, max_features=3, min_samples_split=30, n_estimators=200, score=0.9450757575757576, total=   0.8s\n",
      "[CV] criterion=entropy, max_depth=15, max_features=3, min_samples_split=30, n_estimators=200 \n",
      "[CV]  criterion=entropy, max_depth=15, max_features=3, min_samples_split=30, n_estimators=200, score=0.9820075757575758, total=   0.9s\n",
      "[CV] criterion=entropy, max_depth=15, max_features=3, min_samples_split=30, n_estimators=200 \n",
      "[CV]  criterion=entropy, max_depth=15, max_features=3, min_samples_split=30, n_estimators=200, score=0.9668560606060606, total=   0.8s\n",
      "[CV] criterion=entropy, max_depth=15, max_features=3, min_samples_split=30, n_estimators=300 \n",
      "[CV]  criterion=entropy, max_depth=15, max_features=3, min_samples_split=30, n_estimators=300, score=0.9450757575757576, total=   1.2s\n",
      "[CV] criterion=entropy, max_depth=15, max_features=3, min_samples_split=30, n_estimators=300 \n"
     ]
    },
    {
     "name": "stdout",
     "output_type": "stream",
     "text": [
      "[CV]  criterion=entropy, max_depth=15, max_features=3, min_samples_split=30, n_estimators=300, score=0.9829545454545454, total=   1.4s\n",
      "[CV] criterion=entropy, max_depth=15, max_features=3, min_samples_split=30, n_estimators=300 \n",
      "[CV]  criterion=entropy, max_depth=15, max_features=3, min_samples_split=30, n_estimators=300, score=0.96875, total=   1.3s\n",
      "[CV] criterion=entropy, max_depth=15, max_features=3, min_samples_split=30, n_estimators=500 \n",
      "[CV]  criterion=entropy, max_depth=15, max_features=3, min_samples_split=30, n_estimators=500, score=0.9431818181818182, total=   2.0s\n",
      "[CV] criterion=entropy, max_depth=15, max_features=3, min_samples_split=30, n_estimators=500 \n",
      "[CV]  criterion=entropy, max_depth=15, max_features=3, min_samples_split=30, n_estimators=500, score=0.9829545454545454, total=   2.3s\n",
      "[CV] criterion=entropy, max_depth=15, max_features=3, min_samples_split=30, n_estimators=500 \n",
      "[CV]  criterion=entropy, max_depth=15, max_features=3, min_samples_split=30, n_estimators=500, score=0.9668560606060606, total=   2.3s\n",
      "[CV] criterion=entropy, max_depth=15, max_features=3, min_samples_split=40, n_estimators=100 \n",
      "[CV]  criterion=entropy, max_depth=15, max_features=3, min_samples_split=40, n_estimators=100, score=0.9450757575757576, total=   0.4s\n",
      "[CV] criterion=entropy, max_depth=15, max_features=3, min_samples_split=40, n_estimators=100 \n",
      "[CV]  criterion=entropy, max_depth=15, max_features=3, min_samples_split=40, n_estimators=100, score=0.9829545454545454, total=   0.5s\n",
      "[CV] criterion=entropy, max_depth=15, max_features=3, min_samples_split=40, n_estimators=100 \n",
      "[CV]  criterion=entropy, max_depth=15, max_features=3, min_samples_split=40, n_estimators=100, score=0.9678030303030303, total=   0.5s\n",
      "[CV] criterion=entropy, max_depth=15, max_features=3, min_samples_split=40, n_estimators=200 \n",
      "[CV]  criterion=entropy, max_depth=15, max_features=3, min_samples_split=40, n_estimators=200, score=0.9441287878787878, total=   0.9s\n",
      "[CV] criterion=entropy, max_depth=15, max_features=3, min_samples_split=40, n_estimators=200 \n",
      "[CV]  criterion=entropy, max_depth=15, max_features=3, min_samples_split=40, n_estimators=200, score=0.9839015151515151, total=   0.9s\n",
      "[CV] criterion=entropy, max_depth=15, max_features=3, min_samples_split=40, n_estimators=200 \n",
      "[CV]  criterion=entropy, max_depth=15, max_features=3, min_samples_split=40, n_estimators=200, score=0.9678030303030303, total=   0.9s\n",
      "[CV] criterion=entropy, max_depth=15, max_features=3, min_samples_split=40, n_estimators=300 \n",
      "[CV]  criterion=entropy, max_depth=15, max_features=3, min_samples_split=40, n_estimators=300, score=0.9460227272727273, total=   1.2s\n",
      "[CV] criterion=entropy, max_depth=15, max_features=3, min_samples_split=40, n_estimators=300 \n",
      "[CV]  criterion=entropy, max_depth=15, max_features=3, min_samples_split=40, n_estimators=300, score=0.9820075757575758, total=   1.2s\n",
      "[CV] criterion=entropy, max_depth=15, max_features=3, min_samples_split=40, n_estimators=300 \n",
      "[CV]  criterion=entropy, max_depth=15, max_features=3, min_samples_split=40, n_estimators=300, score=0.9668560606060606, total=   1.2s\n",
      "[CV] criterion=entropy, max_depth=15, max_features=3, min_samples_split=40, n_estimators=500 \n",
      "[CV]  criterion=entropy, max_depth=15, max_features=3, min_samples_split=40, n_estimators=500, score=0.9422348484848485, total=   2.0s\n",
      "[CV] criterion=entropy, max_depth=15, max_features=3, min_samples_split=40, n_estimators=500 \n",
      "[CV]  criterion=entropy, max_depth=15, max_features=3, min_samples_split=40, n_estimators=500, score=0.9820075757575758, total=   2.1s\n",
      "[CV] criterion=entropy, max_depth=15, max_features=3, min_samples_split=40, n_estimators=500 \n",
      "[CV]  criterion=entropy, max_depth=15, max_features=3, min_samples_split=40, n_estimators=500, score=0.9668560606060606, total=   2.1s\n",
      "[CV] criterion=entropy, max_depth=15, max_features=5, min_samples_split=10, n_estimators=100 \n",
      "[CV]  criterion=entropy, max_depth=15, max_features=5, min_samples_split=10, n_estimators=100, score=0.9479166666666666, total=   0.5s\n",
      "[CV] criterion=entropy, max_depth=15, max_features=5, min_samples_split=10, n_estimators=100 \n",
      "[CV]  criterion=entropy, max_depth=15, max_features=5, min_samples_split=10, n_estimators=100, score=0.9829545454545454, total=   0.6s\n",
      "[CV] criterion=entropy, max_depth=15, max_features=5, min_samples_split=10, n_estimators=100 \n",
      "[CV]  criterion=entropy, max_depth=15, max_features=5, min_samples_split=10, n_estimators=100, score=0.96875, total=   0.6s\n",
      "[CV] criterion=entropy, max_depth=15, max_features=5, min_samples_split=10, n_estimators=200 \n",
      "[CV]  criterion=entropy, max_depth=15, max_features=5, min_samples_split=10, n_estimators=200, score=0.9479166666666666, total=   1.1s\n",
      "[CV] criterion=entropy, max_depth=15, max_features=5, min_samples_split=10, n_estimators=200 \n",
      "[CV]  criterion=entropy, max_depth=15, max_features=5, min_samples_split=10, n_estimators=200, score=0.9829545454545454, total=   1.3s\n",
      "[CV] criterion=entropy, max_depth=15, max_features=5, min_samples_split=10, n_estimators=200 \n",
      "[CV]  criterion=entropy, max_depth=15, max_features=5, min_samples_split=10, n_estimators=200, score=0.9696969696969697, total=   1.2s\n",
      "[CV] criterion=entropy, max_depth=15, max_features=5, min_samples_split=10, n_estimators=300 \n",
      "[CV]  criterion=entropy, max_depth=15, max_features=5, min_samples_split=10, n_estimators=300, score=0.946969696969697, total=   1.6s\n",
      "[CV] criterion=entropy, max_depth=15, max_features=5, min_samples_split=10, n_estimators=300 \n",
      "[CV]  criterion=entropy, max_depth=15, max_features=5, min_samples_split=10, n_estimators=300, score=0.9829545454545454, total=   1.8s\n",
      "[CV] criterion=entropy, max_depth=15, max_features=5, min_samples_split=10, n_estimators=300 \n",
      "[CV]  criterion=entropy, max_depth=15, max_features=5, min_samples_split=10, n_estimators=300, score=0.9696969696969697, total=   1.7s\n",
      "[CV] criterion=entropy, max_depth=15, max_features=5, min_samples_split=10, n_estimators=500 \n",
      "[CV]  criterion=entropy, max_depth=15, max_features=5, min_samples_split=10, n_estimators=500, score=0.9460227272727273, total=   2.8s\n",
      "[CV] criterion=entropy, max_depth=15, max_features=5, min_samples_split=10, n_estimators=500 \n",
      "[CV]  criterion=entropy, max_depth=15, max_features=5, min_samples_split=10, n_estimators=500, score=0.9820075757575758, total=   3.2s\n",
      "[CV] criterion=entropy, max_depth=15, max_features=5, min_samples_split=10, n_estimators=500 \n",
      "[CV]  criterion=entropy, max_depth=15, max_features=5, min_samples_split=10, n_estimators=500, score=0.9715909090909091, total=   2.9s\n",
      "[CV] criterion=entropy, max_depth=15, max_features=5, min_samples_split=30, n_estimators=100 \n",
      "[CV]  criterion=entropy, max_depth=15, max_features=5, min_samples_split=30, n_estimators=100, score=0.9498106060606061, total=   0.5s\n",
      "[CV] criterion=entropy, max_depth=15, max_features=5, min_samples_split=30, n_estimators=100 \n",
      "[CV]  criterion=entropy, max_depth=15, max_features=5, min_samples_split=30, n_estimators=100, score=0.9839015151515151, total=   0.6s\n",
      "[CV] criterion=entropy, max_depth=15, max_features=5, min_samples_split=30, n_estimators=100 \n",
      "[CV]  criterion=entropy, max_depth=15, max_features=5, min_samples_split=30, n_estimators=100, score=0.9715909090909091, total=   0.5s\n",
      "[CV] criterion=entropy, max_depth=15, max_features=5, min_samples_split=30, n_estimators=200 \n",
      "[CV]  criterion=entropy, max_depth=15, max_features=5, min_samples_split=30, n_estimators=200, score=0.9488636363636364, total=   1.1s\n",
      "[CV] criterion=entropy, max_depth=15, max_features=5, min_samples_split=30, n_estimators=200 \n",
      "[CV]  criterion=entropy, max_depth=15, max_features=5, min_samples_split=30, n_estimators=200, score=0.9839015151515151, total=   1.3s\n",
      "[CV] criterion=entropy, max_depth=15, max_features=5, min_samples_split=30, n_estimators=200 \n",
      "[CV]  criterion=entropy, max_depth=15, max_features=5, min_samples_split=30, n_estimators=200, score=0.9706439393939394, total=   1.2s\n",
      "[CV] criterion=entropy, max_depth=15, max_features=5, min_samples_split=30, n_estimators=300 \n",
      "[CV]  criterion=entropy, max_depth=15, max_features=5, min_samples_split=30, n_estimators=300, score=0.9460227272727273, total=   1.6s\n",
      "[CV] criterion=entropy, max_depth=15, max_features=5, min_samples_split=30, n_estimators=300 \n"
     ]
    },
    {
     "name": "stdout",
     "output_type": "stream",
     "text": [
      "[CV]  criterion=entropy, max_depth=15, max_features=5, min_samples_split=30, n_estimators=300, score=0.9829545454545454, total=   1.9s\n",
      "[CV] criterion=entropy, max_depth=15, max_features=5, min_samples_split=30, n_estimators=300 \n",
      "[CV]  criterion=entropy, max_depth=15, max_features=5, min_samples_split=30, n_estimators=300, score=0.9706439393939394, total=   1.8s\n",
      "[CV] criterion=entropy, max_depth=15, max_features=5, min_samples_split=30, n_estimators=500 \n",
      "[CV]  criterion=entropy, max_depth=15, max_features=5, min_samples_split=30, n_estimators=500, score=0.9498106060606061, total=   2.6s\n",
      "[CV] criterion=entropy, max_depth=15, max_features=5, min_samples_split=30, n_estimators=500 \n",
      "[CV]  criterion=entropy, max_depth=15, max_features=5, min_samples_split=30, n_estimators=500, score=0.9839015151515151, total=   2.9s\n",
      "[CV] criterion=entropy, max_depth=15, max_features=5, min_samples_split=30, n_estimators=500 \n",
      "[CV]  criterion=entropy, max_depth=15, max_features=5, min_samples_split=30, n_estimators=500, score=0.9706439393939394, total=   2.8s\n",
      "[CV] criterion=entropy, max_depth=15, max_features=5, min_samples_split=40, n_estimators=100 \n",
      "[CV]  criterion=entropy, max_depth=15, max_features=5, min_samples_split=40, n_estimators=100, score=0.946969696969697, total=   0.7s\n",
      "[CV] criterion=entropy, max_depth=15, max_features=5, min_samples_split=40, n_estimators=100 \n",
      "[CV]  criterion=entropy, max_depth=15, max_features=5, min_samples_split=40, n_estimators=100, score=0.9820075757575758, total=   0.8s\n",
      "[CV] criterion=entropy, max_depth=15, max_features=5, min_samples_split=40, n_estimators=100 \n",
      "[CV]  criterion=entropy, max_depth=15, max_features=5, min_samples_split=40, n_estimators=100, score=0.96875, total=   0.7s\n",
      "[CV] criterion=entropy, max_depth=15, max_features=5, min_samples_split=40, n_estimators=200 \n",
      "[CV]  criterion=entropy, max_depth=15, max_features=5, min_samples_split=40, n_estimators=200, score=0.9460227272727273, total=   1.3s\n",
      "[CV] criterion=entropy, max_depth=15, max_features=5, min_samples_split=40, n_estimators=200 \n",
      "[CV]  criterion=entropy, max_depth=15, max_features=5, min_samples_split=40, n_estimators=200, score=0.9820075757575758, total=   1.3s\n",
      "[CV] criterion=entropy, max_depth=15, max_features=5, min_samples_split=40, n_estimators=200 \n",
      "[CV]  criterion=entropy, max_depth=15, max_features=5, min_samples_split=40, n_estimators=200, score=0.9696969696969697, total=   1.4s\n",
      "[CV] criterion=entropy, max_depth=15, max_features=5, min_samples_split=40, n_estimators=300 \n",
      "[CV]  criterion=entropy, max_depth=15, max_features=5, min_samples_split=40, n_estimators=300, score=0.9450757575757576, total=   1.8s\n",
      "[CV] criterion=entropy, max_depth=15, max_features=5, min_samples_split=40, n_estimators=300 \n",
      "[CV]  criterion=entropy, max_depth=15, max_features=5, min_samples_split=40, n_estimators=300, score=0.9820075757575758, total=   1.8s\n",
      "[CV] criterion=entropy, max_depth=15, max_features=5, min_samples_split=40, n_estimators=300 \n",
      "[CV]  criterion=entropy, max_depth=15, max_features=5, min_samples_split=40, n_estimators=300, score=0.9715909090909091, total=   1.7s\n",
      "[CV] criterion=entropy, max_depth=15, max_features=5, min_samples_split=40, n_estimators=500 \n",
      "[CV]  criterion=entropy, max_depth=15, max_features=5, min_samples_split=40, n_estimators=500, score=0.9479166666666666, total=   2.6s\n",
      "[CV] criterion=entropy, max_depth=15, max_features=5, min_samples_split=40, n_estimators=500 \n",
      "[CV]  criterion=entropy, max_depth=15, max_features=5, min_samples_split=40, n_estimators=500, score=0.9820075757575758, total=   3.0s\n",
      "[CV] criterion=entropy, max_depth=15, max_features=5, min_samples_split=40, n_estimators=500 \n",
      "[CV]  criterion=entropy, max_depth=15, max_features=5, min_samples_split=40, n_estimators=500, score=0.9706439393939394, total=   2.8s\n",
      "[CV] criterion=entropy, max_depth=15, max_features=7, min_samples_split=10, n_estimators=100 \n",
      "[CV]  criterion=entropy, max_depth=15, max_features=7, min_samples_split=10, n_estimators=100, score=0.9450757575757576, total=   0.8s\n",
      "[CV] criterion=entropy, max_depth=15, max_features=7, min_samples_split=10, n_estimators=100 \n",
      "[CV]  criterion=entropy, max_depth=15, max_features=7, min_samples_split=10, n_estimators=100, score=0.9810606060606061, total=   0.8s\n",
      "[CV] criterion=entropy, max_depth=15, max_features=7, min_samples_split=10, n_estimators=100 \n",
      "[CV]  criterion=entropy, max_depth=15, max_features=7, min_samples_split=10, n_estimators=100, score=0.9725378787878788, total=   1.2s\n",
      "[CV] criterion=entropy, max_depth=15, max_features=7, min_samples_split=10, n_estimators=200 \n",
      "[CV]  criterion=entropy, max_depth=15, max_features=7, min_samples_split=10, n_estimators=200, score=0.9460227272727273, total=   1.4s\n",
      "[CV] criterion=entropy, max_depth=15, max_features=7, min_samples_split=10, n_estimators=200 \n",
      "[CV]  criterion=entropy, max_depth=15, max_features=7, min_samples_split=10, n_estimators=200, score=0.9820075757575758, total=   1.5s\n",
      "[CV] criterion=entropy, max_depth=15, max_features=7, min_samples_split=10, n_estimators=200 \n",
      "[CV]  criterion=entropy, max_depth=15, max_features=7, min_samples_split=10, n_estimators=200, score=0.9725378787878788, total=   1.4s\n",
      "[CV] criterion=entropy, max_depth=15, max_features=7, min_samples_split=10, n_estimators=300 \n",
      "[CV]  criterion=entropy, max_depth=15, max_features=7, min_samples_split=10, n_estimators=300, score=0.9488636363636364, total=   2.0s\n",
      "[CV] criterion=entropy, max_depth=15, max_features=7, min_samples_split=10, n_estimators=300 \n",
      "[CV]  criterion=entropy, max_depth=15, max_features=7, min_samples_split=10, n_estimators=300, score=0.9829545454545454, total=   2.3s\n",
      "[CV] criterion=entropy, max_depth=15, max_features=7, min_samples_split=10, n_estimators=300 \n",
      "[CV]  criterion=entropy, max_depth=15, max_features=7, min_samples_split=10, n_estimators=300, score=0.9725378787878788, total=   2.5s\n",
      "[CV] criterion=entropy, max_depth=15, max_features=7, min_samples_split=10, n_estimators=500 \n",
      "[CV]  criterion=entropy, max_depth=15, max_features=7, min_samples_split=10, n_estimators=500, score=0.946969696969697, total=   3.4s\n",
      "[CV] criterion=entropy, max_depth=15, max_features=7, min_samples_split=10, n_estimators=500 \n",
      "[CV]  criterion=entropy, max_depth=15, max_features=7, min_samples_split=10, n_estimators=500, score=0.9810606060606061, total=   4.3s\n",
      "[CV] criterion=entropy, max_depth=15, max_features=7, min_samples_split=10, n_estimators=500 \n",
      "[CV]  criterion=entropy, max_depth=15, max_features=7, min_samples_split=10, n_estimators=500, score=0.9734848484848485, total=   4.0s\n",
      "[CV] criterion=entropy, max_depth=15, max_features=7, min_samples_split=30, n_estimators=100 \n",
      "[CV]  criterion=entropy, max_depth=15, max_features=7, min_samples_split=30, n_estimators=100, score=0.9488636363636364, total=   0.7s\n",
      "[CV] criterion=entropy, max_depth=15, max_features=7, min_samples_split=30, n_estimators=100 \n",
      "[CV]  criterion=entropy, max_depth=15, max_features=7, min_samples_split=30, n_estimators=100, score=0.9820075757575758, total=   0.8s\n",
      "[CV] criterion=entropy, max_depth=15, max_features=7, min_samples_split=30, n_estimators=100 \n",
      "[CV]  criterion=entropy, max_depth=15, max_features=7, min_samples_split=30, n_estimators=100, score=0.9715909090909091, total=   0.7s\n",
      "[CV] criterion=entropy, max_depth=15, max_features=7, min_samples_split=30, n_estimators=200 \n",
      "[CV]  criterion=entropy, max_depth=15, max_features=7, min_samples_split=30, n_estimators=200, score=0.9460227272727273, total=   1.3s\n",
      "[CV] criterion=entropy, max_depth=15, max_features=7, min_samples_split=30, n_estimators=200 \n",
      "[CV]  criterion=entropy, max_depth=15, max_features=7, min_samples_split=30, n_estimators=200, score=0.9810606060606061, total=   1.5s\n",
      "[CV] criterion=entropy, max_depth=15, max_features=7, min_samples_split=30, n_estimators=200 \n",
      "[CV]  criterion=entropy, max_depth=15, max_features=7, min_samples_split=30, n_estimators=200, score=0.9734848484848485, total=   1.5s\n",
      "[CV] criterion=entropy, max_depth=15, max_features=7, min_samples_split=30, n_estimators=300 \n",
      "[CV]  criterion=entropy, max_depth=15, max_features=7, min_samples_split=30, n_estimators=300, score=0.9498106060606061, total=   2.1s\n",
      "[CV] criterion=entropy, max_depth=15, max_features=7, min_samples_split=30, n_estimators=300 \n"
     ]
    },
    {
     "name": "stdout",
     "output_type": "stream",
     "text": [
      "[CV]  criterion=entropy, max_depth=15, max_features=7, min_samples_split=30, n_estimators=300, score=0.9810606060606061, total=   2.6s\n",
      "[CV] criterion=entropy, max_depth=15, max_features=7, min_samples_split=30, n_estimators=300 \n",
      "[CV]  criterion=entropy, max_depth=15, max_features=7, min_samples_split=30, n_estimators=300, score=0.9744318181818182, total=   2.5s\n",
      "[CV] criterion=entropy, max_depth=15, max_features=7, min_samples_split=30, n_estimators=500 \n",
      "[CV]  criterion=entropy, max_depth=15, max_features=7, min_samples_split=30, n_estimators=500, score=0.9507575757575758, total=   3.3s\n",
      "[CV] criterion=entropy, max_depth=15, max_features=7, min_samples_split=30, n_estimators=500 \n",
      "[CV]  criterion=entropy, max_depth=15, max_features=7, min_samples_split=30, n_estimators=500, score=0.9820075757575758, total=   3.7s\n",
      "[CV] criterion=entropy, max_depth=15, max_features=7, min_samples_split=30, n_estimators=500 \n",
      "[CV]  criterion=entropy, max_depth=15, max_features=7, min_samples_split=30, n_estimators=500, score=0.9715909090909091, total=   3.5s\n",
      "[CV] criterion=entropy, max_depth=15, max_features=7, min_samples_split=40, n_estimators=100 \n",
      "[CV]  criterion=entropy, max_depth=15, max_features=7, min_samples_split=40, n_estimators=100, score=0.9517045454545454, total=   0.6s\n",
      "[CV] criterion=entropy, max_depth=15, max_features=7, min_samples_split=40, n_estimators=100 \n",
      "[CV]  criterion=entropy, max_depth=15, max_features=7, min_samples_split=40, n_estimators=100, score=0.9820075757575758, total=   0.7s\n",
      "[CV] criterion=entropy, max_depth=15, max_features=7, min_samples_split=40, n_estimators=100 \n",
      "[CV]  criterion=entropy, max_depth=15, max_features=7, min_samples_split=40, n_estimators=100, score=0.9734848484848485, total=   0.7s\n",
      "[CV] criterion=entropy, max_depth=15, max_features=7, min_samples_split=40, n_estimators=200 \n",
      "[CV]  criterion=entropy, max_depth=15, max_features=7, min_samples_split=40, n_estimators=200, score=0.9517045454545454, total=   1.2s\n",
      "[CV] criterion=entropy, max_depth=15, max_features=7, min_samples_split=40, n_estimators=200 \n",
      "[CV]  criterion=entropy, max_depth=15, max_features=7, min_samples_split=40, n_estimators=200, score=0.9820075757575758, total=   1.4s\n",
      "[CV] criterion=entropy, max_depth=15, max_features=7, min_samples_split=40, n_estimators=200 \n",
      "[CV]  criterion=entropy, max_depth=15, max_features=7, min_samples_split=40, n_estimators=200, score=0.9725378787878788, total=   1.3s\n",
      "[CV] criterion=entropy, max_depth=15, max_features=7, min_samples_split=40, n_estimators=300 \n",
      "[CV]  criterion=entropy, max_depth=15, max_features=7, min_samples_split=40, n_estimators=300, score=0.9498106060606061, total=   1.9s\n",
      "[CV] criterion=entropy, max_depth=15, max_features=7, min_samples_split=40, n_estimators=300 \n",
      "[CV]  criterion=entropy, max_depth=15, max_features=7, min_samples_split=40, n_estimators=300, score=0.9810606060606061, total=   2.2s\n",
      "[CV] criterion=entropy, max_depth=15, max_features=7, min_samples_split=40, n_estimators=300 \n",
      "[CV]  criterion=entropy, max_depth=15, max_features=7, min_samples_split=40, n_estimators=300, score=0.9696969696969697, total=   2.1s\n",
      "[CV] criterion=entropy, max_depth=15, max_features=7, min_samples_split=40, n_estimators=500 \n",
      "[CV]  criterion=entropy, max_depth=15, max_features=7, min_samples_split=40, n_estimators=500, score=0.9498106060606061, total=   3.1s\n",
      "[CV] criterion=entropy, max_depth=15, max_features=7, min_samples_split=40, n_estimators=500 \n",
      "[CV]  criterion=entropy, max_depth=15, max_features=7, min_samples_split=40, n_estimators=500, score=0.9829545454545454, total=   3.8s\n",
      "[CV] criterion=entropy, max_depth=15, max_features=7, min_samples_split=40, n_estimators=500 \n",
      "[CV]  criterion=entropy, max_depth=15, max_features=7, min_samples_split=40, n_estimators=500, score=0.9734848484848485, total=   3.7s\n",
      "[CV] criterion=entropy, max_depth=15, max_features=10, min_samples_split=10, n_estimators=100 \n",
      "[CV]  criterion=entropy, max_depth=15, max_features=10, min_samples_split=10, n_estimators=100, score=0.9422348484848485, total=   0.9s\n",
      "[CV] criterion=entropy, max_depth=15, max_features=10, min_samples_split=10, n_estimators=100 \n",
      "[CV]  criterion=entropy, max_depth=15, max_features=10, min_samples_split=10, n_estimators=100, score=0.9801136363636364, total=   1.0s\n",
      "[CV] criterion=entropy, max_depth=15, max_features=10, min_samples_split=10, n_estimators=100 \n",
      "[CV]  criterion=entropy, max_depth=15, max_features=10, min_samples_split=10, n_estimators=100, score=0.9725378787878788, total=   0.9s\n",
      "[CV] criterion=entropy, max_depth=15, max_features=10, min_samples_split=10, n_estimators=200 \n",
      "[CV]  criterion=entropy, max_depth=15, max_features=10, min_samples_split=10, n_estimators=200, score=0.9488636363636364, total=   2.0s\n",
      "[CV] criterion=entropy, max_depth=15, max_features=10, min_samples_split=10, n_estimators=200 \n",
      "[CV]  criterion=entropy, max_depth=15, max_features=10, min_samples_split=10, n_estimators=200, score=0.9820075757575758, total=   2.1s\n",
      "[CV] criterion=entropy, max_depth=15, max_features=10, min_samples_split=10, n_estimators=200 \n",
      "[CV]  criterion=entropy, max_depth=15, max_features=10, min_samples_split=10, n_estimators=200, score=0.9753787878787878, total=   1.9s\n",
      "[CV] criterion=entropy, max_depth=15, max_features=10, min_samples_split=10, n_estimators=300 \n",
      "[CV]  criterion=entropy, max_depth=15, max_features=10, min_samples_split=10, n_estimators=300, score=0.9488636363636364, total=   2.5s\n",
      "[CV] criterion=entropy, max_depth=15, max_features=10, min_samples_split=10, n_estimators=300 \n",
      "[CV]  criterion=entropy, max_depth=15, max_features=10, min_samples_split=10, n_estimators=300, score=0.9829545454545454, total=   2.8s\n",
      "[CV] criterion=entropy, max_depth=15, max_features=10, min_samples_split=10, n_estimators=300 \n",
      "[CV]  criterion=entropy, max_depth=15, max_features=10, min_samples_split=10, n_estimators=300, score=0.9725378787878788, total=   2.7s\n",
      "[CV] criterion=entropy, max_depth=15, max_features=10, min_samples_split=10, n_estimators=500 \n",
      "[CV]  criterion=entropy, max_depth=15, max_features=10, min_samples_split=10, n_estimators=500, score=0.9488636363636364, total=   4.0s\n",
      "[CV] criterion=entropy, max_depth=15, max_features=10, min_samples_split=10, n_estimators=500 \n",
      "[CV]  criterion=entropy, max_depth=15, max_features=10, min_samples_split=10, n_estimators=500, score=0.9829545454545454, total=   4.8s\n",
      "[CV] criterion=entropy, max_depth=15, max_features=10, min_samples_split=10, n_estimators=500 \n",
      "[CV]  criterion=entropy, max_depth=15, max_features=10, min_samples_split=10, n_estimators=500, score=0.9744318181818182, total=   4.5s\n",
      "[CV] criterion=entropy, max_depth=15, max_features=10, min_samples_split=30, n_estimators=100 \n",
      "[CV]  criterion=entropy, max_depth=15, max_features=10, min_samples_split=30, n_estimators=100, score=0.9498106060606061, total=   0.8s\n",
      "[CV] criterion=entropy, max_depth=15, max_features=10, min_samples_split=30, n_estimators=100 \n",
      "[CV]  criterion=entropy, max_depth=15, max_features=10, min_samples_split=30, n_estimators=100, score=0.9801136363636364, total=   1.0s\n",
      "[CV] criterion=entropy, max_depth=15, max_features=10, min_samples_split=30, n_estimators=100 \n",
      "[CV]  criterion=entropy, max_depth=15, max_features=10, min_samples_split=30, n_estimators=100, score=0.9734848484848485, total=   0.9s\n",
      "[CV] criterion=entropy, max_depth=15, max_features=10, min_samples_split=30, n_estimators=200 \n",
      "[CV]  criterion=entropy, max_depth=15, max_features=10, min_samples_split=30, n_estimators=200, score=0.9488636363636364, total=   1.7s\n",
      "[CV] criterion=entropy, max_depth=15, max_features=10, min_samples_split=30, n_estimators=200 \n",
      "[CV]  criterion=entropy, max_depth=15, max_features=10, min_samples_split=30, n_estimators=200, score=0.9829545454545454, total=   2.0s\n",
      "[CV] criterion=entropy, max_depth=15, max_features=10, min_samples_split=30, n_estimators=200 \n",
      "[CV]  criterion=entropy, max_depth=15, max_features=10, min_samples_split=30, n_estimators=200, score=0.9725378787878788, total=   1.8s\n",
      "[CV] criterion=entropy, max_depth=15, max_features=10, min_samples_split=30, n_estimators=300 \n",
      "[CV]  criterion=entropy, max_depth=15, max_features=10, min_samples_split=30, n_estimators=300, score=0.9498106060606061, total=   2.6s\n",
      "[CV] criterion=entropy, max_depth=15, max_features=10, min_samples_split=30, n_estimators=300 \n"
     ]
    },
    {
     "name": "stdout",
     "output_type": "stream",
     "text": [
      "[CV]  criterion=entropy, max_depth=15, max_features=10, min_samples_split=30, n_estimators=300, score=0.9820075757575758, total=   3.0s\n",
      "[CV] criterion=entropy, max_depth=15, max_features=10, min_samples_split=30, n_estimators=300 \n",
      "[CV]  criterion=entropy, max_depth=15, max_features=10, min_samples_split=30, n_estimators=300, score=0.9734848484848485, total=   2.8s\n",
      "[CV] criterion=entropy, max_depth=15, max_features=10, min_samples_split=30, n_estimators=500 \n",
      "[CV]  criterion=entropy, max_depth=15, max_features=10, min_samples_split=30, n_estimators=500, score=0.9498106060606061, total=   4.3s\n",
      "[CV] criterion=entropy, max_depth=15, max_features=10, min_samples_split=30, n_estimators=500 \n",
      "[CV]  criterion=entropy, max_depth=15, max_features=10, min_samples_split=30, n_estimators=500, score=0.9810606060606061, total=   5.4s\n",
      "[CV] criterion=entropy, max_depth=15, max_features=10, min_samples_split=30, n_estimators=500 \n",
      "[CV]  criterion=entropy, max_depth=15, max_features=10, min_samples_split=30, n_estimators=500, score=0.9715909090909091, total=   5.0s\n",
      "[CV] criterion=entropy, max_depth=15, max_features=10, min_samples_split=40, n_estimators=100 \n",
      "[CV]  criterion=entropy, max_depth=15, max_features=10, min_samples_split=40, n_estimators=100, score=0.9507575757575758, total=   0.8s\n",
      "[CV] criterion=entropy, max_depth=15, max_features=10, min_samples_split=40, n_estimators=100 \n",
      "[CV]  criterion=entropy, max_depth=15, max_features=10, min_samples_split=40, n_estimators=100, score=0.9791666666666666, total=   0.9s\n",
      "[CV] criterion=entropy, max_depth=15, max_features=10, min_samples_split=40, n_estimators=100 \n",
      "[CV]  criterion=entropy, max_depth=15, max_features=10, min_samples_split=40, n_estimators=100, score=0.9706439393939394, total=   0.9s\n",
      "[CV] criterion=entropy, max_depth=15, max_features=10, min_samples_split=40, n_estimators=200 \n",
      "[CV]  criterion=entropy, max_depth=15, max_features=10, min_samples_split=40, n_estimators=200, score=0.946969696969697, total=   1.6s\n",
      "[CV] criterion=entropy, max_depth=15, max_features=10, min_samples_split=40, n_estimators=200 \n",
      "[CV]  criterion=entropy, max_depth=15, max_features=10, min_samples_split=40, n_estimators=200, score=0.9801136363636364, total=   1.8s\n",
      "[CV] criterion=entropy, max_depth=15, max_features=10, min_samples_split=40, n_estimators=200 \n",
      "[CV]  criterion=entropy, max_depth=15, max_features=10, min_samples_split=40, n_estimators=200, score=0.9696969696969697, total=   1.8s\n",
      "[CV] criterion=entropy, max_depth=15, max_features=10, min_samples_split=40, n_estimators=300 \n",
      "[CV]  criterion=entropy, max_depth=15, max_features=10, min_samples_split=40, n_estimators=300, score=0.9507575757575758, total=   2.6s\n",
      "[CV] criterion=entropy, max_depth=15, max_features=10, min_samples_split=40, n_estimators=300 \n",
      "[CV]  criterion=entropy, max_depth=15, max_features=10, min_samples_split=40, n_estimators=300, score=0.9810606060606061, total=   3.2s\n",
      "[CV] criterion=entropy, max_depth=15, max_features=10, min_samples_split=40, n_estimators=300 \n",
      "[CV]  criterion=entropy, max_depth=15, max_features=10, min_samples_split=40, n_estimators=300, score=0.9696969696969697, total=   2.8s\n",
      "[CV] criterion=entropy, max_depth=15, max_features=10, min_samples_split=40, n_estimators=500 \n",
      "[CV]  criterion=entropy, max_depth=15, max_features=10, min_samples_split=40, n_estimators=500, score=0.9460227272727273, total=   4.5s\n",
      "[CV] criterion=entropy, max_depth=15, max_features=10, min_samples_split=40, n_estimators=500 \n",
      "[CV]  criterion=entropy, max_depth=15, max_features=10, min_samples_split=40, n_estimators=500, score=0.9801136363636364, total=   5.1s\n",
      "[CV] criterion=entropy, max_depth=15, max_features=10, min_samples_split=40, n_estimators=500 \n",
      "[CV]  criterion=entropy, max_depth=15, max_features=10, min_samples_split=40, n_estimators=500, score=0.9678030303030303, total=   4.6s\n"
     ]
    },
    {
     "name": "stderr",
     "output_type": "stream",
     "text": [
      "[Parallel(n_jobs=1)]: Done 864 out of 864 | elapsed: 25.8min finished\n"
     ]
    },
    {
     "data": {
      "text/plain": [
       "{'criterion': 'entropy',\n",
       " 'max_depth': 10,\n",
       " 'max_features': 7,\n",
       " 'min_samples_split': 40,\n",
       " 'n_estimators': 300}"
      ]
     },
     "execution_count": 55,
     "metadata": {},
     "output_type": "execute_result"
    }
   ],
   "source": [
    "param_grid = {'max_depth': [5,10,15],\n",
    "              'min_samples_split' : [10,40],\n",
    "              'n_estimators':[300],\n",
    "              'max_features':[5,7,10],\n",
    "              'criterion': ['gini', 'entropy']}\n",
    "rf = GridSearchCV(RandomForestClassifier(),param_grid,refit=True,verbose=4)\n",
    "rf= rf.fit(voice, y)\n",
    "rf.best_params_"
   ]
  },
  {
   "cell_type": "markdown",
   "metadata": {},
   "source": [
    "Best params:\n",
    "{'criterion': 'entropy',\n",
    " 'max_depth': 10,\n",
    " 'max_features': 7,\n",
    " 'min_samples_split': 40,\n",
    " 'n_estimators': 300}"
   ]
  },
  {
   "cell_type": "code",
   "execution_count": 230,
   "metadata": {},
   "outputs": [],
   "source": [
    "kfold = KFold(n_splits=10,random_state=1)\n",
    "rf = RandomForestClassifier(max_depth = 10,max_features=7,min_samples_split=40, n_estimators = 300, criterion='entropy',random_state=0)\n",
    "rf.fit(X=voice,y=y)\n",
    "rf_score_pc=np.mean(cross_val_score(rf, X=voice, y=y, cv=kfold))"
   ]
  },
  {
   "cell_type": "markdown",
   "metadata": {},
   "source": [
    "#### Feature Importance"
   ]
  },
  {
   "cell_type": "code",
   "execution_count": 189,
   "metadata": {},
   "outputs": [
    {
     "name": "stderr",
     "output_type": "stream",
     "text": [
      "/Applications/anaconda3/lib/python3.6/site-packages/seaborn/categorical.py:342: DeprecationWarning: pandas.core.common.is_categorical_dtype is deprecated. import from the public API: pandas.api.types.is_categorical_dtype instead\n",
      "  elif is_categorical(y):\n"
     ]
    },
    {
     "data": {
      "text/plain": [
       "<matplotlib.axes._subplots.AxesSubplot at 0x1a21a0d748>"
      ]
     },
     "execution_count": 189,
     "metadata": {},
     "output_type": "execute_result"
    },
    {
     "data": {
      "image/png": "[encoded data removed]",
      "text/plain": [
       "<matplotlib.figure.Figure at 0x1a21a0de10>"
      ]
     },
     "metadata": {},
     "output_type": "display_data"
    }
   ],
   "source": [
    "Imp=pd.DataFrame(rf.feature_importances_)\n",
    "Imp.index=list(voice.columns)\n",
    "Imp['Feature']=list(voice.columns)\n",
    "Imp.columns=[\"Importance\",\"Feature\"]\n",
    "Imp10=Imp.sort_values(by=\"Importance\",ascending=False)[1:10]\n",
    "sns.barplot(x=\"Feature\", y=\"Importance\", data=Imp10)"
   ]
  },
  {
   "cell_type": "code",
   "execution_count": 196,
   "metadata": {},
   "outputs": [
    {
     "data": {
      "text/plain": [
       "['IQR', 'Q25', 'sd', 'sp.ent', 'sfm', 'minfun', 'meanfreq', 'centroid', 'Q75']"
      ]
     },
     "execution_count": 196,
     "metadata": {},
     "output_type": "execute_result"
    }
   ],
   "source": [
    "list(Imp10.Feature)"
   ]
  },
  {
   "cell_type": "markdown",
   "metadata": {},
   "source": [
    "#### With PC"
   ]
  },
  {
   "cell_type": "code",
   "execution_count": 62,
   "metadata": {},
   "outputs": [
    {
     "name": "stdout",
     "output_type": "stream",
     "text": [
      "Fitting 3 folds for each of 36 candidates, totalling 108 fits\n",
      "[CV] criterion=gini, max_depth=5, min_samples_split=10, n_estimators=300 \n",
      "[CV]  criterion=gini, max_depth=5, min_samples_split=10, n_estimators=300, score=0.8759469696969697, total=   1.0s\n",
      "[CV] criterion=gini, max_depth=5, min_samples_split=10, n_estimators=300 \n"
     ]
    },
    {
     "name": "stderr",
     "output_type": "stream",
     "text": [
      "[Parallel(n_jobs=1)]: Done   1 out of   1 | elapsed:    1.0s remaining:    0.0s\n"
     ]
    },
    {
     "name": "stdout",
     "output_type": "stream",
     "text": [
      "[CV]  criterion=gini, max_depth=5, min_samples_split=10, n_estimators=300, score=0.9431818181818182, total=   0.8s\n",
      "[CV] criterion=gini, max_depth=5, min_samples_split=10, n_estimators=300 \n"
     ]
    },
    {
     "name": "stderr",
     "output_type": "stream",
     "text": [
      "[Parallel(n_jobs=1)]: Done   2 out of   2 | elapsed:    1.9s remaining:    0.0s\n"
     ]
    },
    {
     "name": "stdout",
     "output_type": "stream",
     "text": [
      "[CV]  criterion=gini, max_depth=5, min_samples_split=10, n_estimators=300, score=0.8816287878787878, total=   0.8s\n",
      "[CV] criterion=gini, max_depth=5, min_samples_split=10, n_estimators=500 \n"
     ]
    },
    {
     "name": "stderr",
     "output_type": "stream",
     "text": [
      "[Parallel(n_jobs=1)]: Done   3 out of   3 | elapsed:    2.8s remaining:    0.0s\n"
     ]
    },
    {
     "name": "stdout",
     "output_type": "stream",
     "text": [
      "[CV]  criterion=gini, max_depth=5, min_samples_split=10, n_estimators=500, score=0.8702651515151515, total=   1.4s\n",
      "[CV] criterion=gini, max_depth=5, min_samples_split=10, n_estimators=500 \n",
      "[CV]  criterion=gini, max_depth=5, min_samples_split=10, n_estimators=500, score=0.9441287878787878, total=   1.4s\n",
      "[CV] criterion=gini, max_depth=5, min_samples_split=10, n_estimators=500 \n",
      "[CV]  criterion=gini, max_depth=5, min_samples_split=10, n_estimators=500, score=0.8693181818181818, total=   1.4s\n",
      "[CV] criterion=gini, max_depth=5, min_samples_split=30, n_estimators=300 \n",
      "[CV]  criterion=gini, max_depth=5, min_samples_split=30, n_estimators=300, score=0.8721590909090909, total=   0.9s\n",
      "[CV] criterion=gini, max_depth=5, min_samples_split=30, n_estimators=300 \n",
      "[CV]  criterion=gini, max_depth=5, min_samples_split=30, n_estimators=300, score=0.9460227272727273, total=   0.9s\n",
      "[CV] criterion=gini, max_depth=5, min_samples_split=30, n_estimators=300 \n",
      "[CV]  criterion=gini, max_depth=5, min_samples_split=30, n_estimators=300, score=0.8617424242424242, total=   0.8s\n",
      "[CV] criterion=gini, max_depth=5, min_samples_split=30, n_estimators=500 \n",
      "[CV]  criterion=gini, max_depth=5, min_samples_split=30, n_estimators=500, score=0.8712121212121212, total=   1.3s\n",
      "[CV] criterion=gini, max_depth=5, min_samples_split=30, n_estimators=500 \n",
      "[CV]  criterion=gini, max_depth=5, min_samples_split=30, n_estimators=500, score=0.9450757575757576, total=   1.5s\n",
      "[CV] criterion=gini, max_depth=5, min_samples_split=30, n_estimators=500 \n",
      "[CV]  criterion=gini, max_depth=5, min_samples_split=30, n_estimators=500, score=0.865530303030303, total=   1.4s\n",
      "[CV] criterion=gini, max_depth=5, min_samples_split=40, n_estimators=300 \n",
      "[CV]  criterion=gini, max_depth=5, min_samples_split=40, n_estimators=300, score=0.8731060606060606, total=   0.9s\n",
      "[CV] criterion=gini, max_depth=5, min_samples_split=40, n_estimators=300 \n",
      "[CV]  criterion=gini, max_depth=5, min_samples_split=40, n_estimators=300, score=0.946969696969697, total=   0.9s\n",
      "[CV] criterion=gini, max_depth=5, min_samples_split=40, n_estimators=300 \n",
      "[CV]  criterion=gini, max_depth=5, min_samples_split=40, n_estimators=300, score=0.8645833333333334, total=   0.9s\n",
      "[CV] criterion=gini, max_depth=5, min_samples_split=40, n_estimators=500 \n",
      "[CV]  criterion=gini, max_depth=5, min_samples_split=40, n_estimators=500, score=0.8683712121212122, total=   1.5s\n",
      "[CV] criterion=gini, max_depth=5, min_samples_split=40, n_estimators=500 \n",
      "[CV]  criterion=gini, max_depth=5, min_samples_split=40, n_estimators=500, score=0.9441287878787878, total=   1.5s\n",
      "[CV] criterion=gini, max_depth=5, min_samples_split=40, n_estimators=500 \n",
      "[CV]  criterion=gini, max_depth=5, min_samples_split=40, n_estimators=500, score=0.8579545454545454, total=   1.5s\n",
      "[CV] criterion=gini, max_depth=10, min_samples_split=10, n_estimators=300 \n",
      "[CV]  criterion=gini, max_depth=10, min_samples_split=10, n_estimators=300, score=0.8825757575757576, total=   1.0s\n",
      "[CV] criterion=gini, max_depth=10, min_samples_split=10, n_estimators=300 \n",
      "[CV]  criterion=gini, max_depth=10, min_samples_split=10, n_estimators=300, score=0.9479166666666666, total=   1.2s\n",
      "[CV] criterion=gini, max_depth=10, min_samples_split=10, n_estimators=300 \n",
      "[CV]  criterion=gini, max_depth=10, min_samples_split=10, n_estimators=300, score=0.8948863636363636, total=   1.7s\n",
      "[CV] criterion=gini, max_depth=10, min_samples_split=10, n_estimators=500 \n",
      "[CV]  criterion=gini, max_depth=10, min_samples_split=10, n_estimators=500, score=0.8787878787878788, total=   1.9s\n",
      "[CV] criterion=gini, max_depth=10, min_samples_split=10, n_estimators=500 \n",
      "[CV]  criterion=gini, max_depth=10, min_samples_split=10, n_estimators=500, score=0.9460227272727273, total=   1.8s\n",
      "[CV] criterion=gini, max_depth=10, min_samples_split=10, n_estimators=500 \n",
      "[CV]  criterion=gini, max_depth=10, min_samples_split=10, n_estimators=500, score=0.8958333333333334, total=   1.9s\n",
      "[CV] criterion=gini, max_depth=10, min_samples_split=30, n_estimators=300 \n",
      "[CV]  criterion=gini, max_depth=10, min_samples_split=30, n_estimators=300, score=0.8712121212121212, total=   1.1s\n",
      "[CV] criterion=gini, max_depth=10, min_samples_split=30, n_estimators=300 \n",
      "[CV]  criterion=gini, max_depth=10, min_samples_split=30, n_estimators=300, score=0.946969696969697, total=   1.0s\n",
      "[CV] criterion=gini, max_depth=10, min_samples_split=30, n_estimators=300 \n",
      "[CV]  criterion=gini, max_depth=10, min_samples_split=30, n_estimators=300, score=0.8882575757575758, total=   1.0s\n",
      "[CV] criterion=gini, max_depth=10, min_samples_split=30, n_estimators=500 \n",
      "[CV]  criterion=gini, max_depth=10, min_samples_split=30, n_estimators=500, score=0.8702651515151515, total=   1.7s\n",
      "[CV] criterion=gini, max_depth=10, min_samples_split=30, n_estimators=500 \n",
      "[CV]  criterion=gini, max_depth=10, min_samples_split=30, n_estimators=500, score=0.9488636363636364, total=   1.8s\n",
      "[CV] criterion=gini, max_depth=10, min_samples_split=30, n_estimators=500 \n",
      "[CV]  criterion=gini, max_depth=10, min_samples_split=30, n_estimators=500, score=0.8835227272727273, total=   1.8s\n",
      "[CV] criterion=gini, max_depth=10, min_samples_split=40, n_estimators=300 \n",
      "[CV]  criterion=gini, max_depth=10, min_samples_split=40, n_estimators=300, score=0.8731060606060606, total=   1.1s\n",
      "[CV] criterion=gini, max_depth=10, min_samples_split=40, n_estimators=300 \n",
      "[CV]  criterion=gini, max_depth=10, min_samples_split=40, n_estimators=300, score=0.9450757575757576, total=   1.1s\n",
      "[CV] criterion=gini, max_depth=10, min_samples_split=40, n_estimators=300 \n",
      "[CV]  criterion=gini, max_depth=10, min_samples_split=40, n_estimators=300, score=0.8806818181818182, total=   1.0s\n",
      "[CV] criterion=gini, max_depth=10, min_samples_split=40, n_estimators=500 \n",
      "[CV]  criterion=gini, max_depth=10, min_samples_split=40, n_estimators=500, score=0.8721590909090909, total=   1.7s\n",
      "[CV] criterion=gini, max_depth=10, min_samples_split=40, n_estimators=500 \n",
      "[CV]  criterion=gini, max_depth=10, min_samples_split=40, n_estimators=500, score=0.9460227272727273, total=   1.7s\n",
      "[CV] criterion=gini, max_depth=10, min_samples_split=40, n_estimators=500 \n",
      "[CV]  criterion=gini, max_depth=10, min_samples_split=40, n_estimators=500, score=0.8787878787878788, total=   1.9s\n",
      "[CV] criterion=gini, max_depth=15, min_samples_split=10, n_estimators=300 \n",
      "[CV]  criterion=gini, max_depth=15, min_samples_split=10, n_estimators=300, score=0.8816287878787878, total=   1.1s\n",
      "[CV] criterion=gini, max_depth=15, min_samples_split=10, n_estimators=300 \n",
      "[CV]  criterion=gini, max_depth=15, min_samples_split=10, n_estimators=300, score=0.9460227272727273, total=   1.2s\n",
      "[CV] criterion=gini, max_depth=15, min_samples_split=10, n_estimators=300 \n",
      "[CV]  criterion=gini, max_depth=15, min_samples_split=10, n_estimators=300, score=0.8939393939393939, total=   1.1s\n",
      "[CV] criterion=gini, max_depth=15, min_samples_split=10, n_estimators=500 \n",
      "[CV]  criterion=gini, max_depth=15, min_samples_split=10, n_estimators=500, score=0.8797348484848485, total=   1.9s\n",
      "[CV] criterion=gini, max_depth=15, min_samples_split=10, n_estimators=500 \n",
      "[CV]  criterion=gini, max_depth=15, min_samples_split=10, n_estimators=500, score=0.946969696969697, total=   2.0s\n",
      "[CV] criterion=gini, max_depth=15, min_samples_split=10, n_estimators=500 \n",
      "[CV]  criterion=gini, max_depth=15, min_samples_split=10, n_estimators=500, score=0.8977272727272727, total=   1.8s\n",
      "[CV] criterion=gini, max_depth=15, min_samples_split=30, n_estimators=300 \n",
      "[CV]  criterion=gini, max_depth=15, min_samples_split=30, n_estimators=300, score=0.8712121212121212, total=   1.1s\n",
      "[CV] criterion=gini, max_depth=15, min_samples_split=30, n_estimators=300 \n",
      "[CV]  criterion=gini, max_depth=15, min_samples_split=30, n_estimators=300, score=0.946969696969697, total=   1.2s\n",
      "[CV] criterion=gini, max_depth=15, min_samples_split=30, n_estimators=300 \n",
      "[CV]  criterion=gini, max_depth=15, min_samples_split=30, n_estimators=300, score=0.8835227272727273, total=   1.0s\n",
      "[CV] criterion=gini, max_depth=15, min_samples_split=30, n_estimators=500 \n",
      "[CV]  criterion=gini, max_depth=15, min_samples_split=30, n_estimators=500, score=0.8731060606060606, total=   1.8s\n",
      "[CV] criterion=gini, max_depth=15, min_samples_split=30, n_estimators=500 \n",
      "[CV]  criterion=gini, max_depth=15, min_samples_split=30, n_estimators=500, score=0.9488636363636364, total=   1.8s\n",
      "[CV] criterion=gini, max_depth=15, min_samples_split=30, n_estimators=500 \n"
     ]
    },
    {
     "name": "stdout",
     "output_type": "stream",
     "text": [
      "[CV]  criterion=gini, max_depth=15, min_samples_split=30, n_estimators=500, score=0.8882575757575758, total=   1.7s\n",
      "[CV] criterion=gini, max_depth=15, min_samples_split=40, n_estimators=300 \n",
      "[CV]  criterion=gini, max_depth=15, min_samples_split=40, n_estimators=300, score=0.8778409090909091, total=   1.1s\n",
      "[CV] criterion=gini, max_depth=15, min_samples_split=40, n_estimators=300 \n",
      "[CV]  criterion=gini, max_depth=15, min_samples_split=40, n_estimators=300, score=0.9479166666666666, total=   1.1s\n",
      "[CV] criterion=gini, max_depth=15, min_samples_split=40, n_estimators=300 \n",
      "[CV]  criterion=gini, max_depth=15, min_samples_split=40, n_estimators=300, score=0.8778409090909091, total=   1.1s\n",
      "[CV] criterion=gini, max_depth=15, min_samples_split=40, n_estimators=500 \n",
      "[CV]  criterion=gini, max_depth=15, min_samples_split=40, n_estimators=500, score=0.8740530303030303, total=   1.8s\n",
      "[CV] criterion=gini, max_depth=15, min_samples_split=40, n_estimators=500 \n",
      "[CV]  criterion=gini, max_depth=15, min_samples_split=40, n_estimators=500, score=0.9479166666666666, total=   1.9s\n",
      "[CV] criterion=gini, max_depth=15, min_samples_split=40, n_estimators=500 \n",
      "[CV]  criterion=gini, max_depth=15, min_samples_split=40, n_estimators=500, score=0.8787878787878788, total=   1.9s\n",
      "[CV] criterion=entropy, max_depth=5, min_samples_split=10, n_estimators=300 \n",
      "[CV]  criterion=entropy, max_depth=5, min_samples_split=10, n_estimators=300, score=0.8702651515151515, total=   1.0s\n",
      "[CV] criterion=entropy, max_depth=5, min_samples_split=10, n_estimators=300 \n",
      "[CV]  criterion=entropy, max_depth=5, min_samples_split=10, n_estimators=300, score=0.9431818181818182, total=   1.5s\n",
      "[CV] criterion=entropy, max_depth=5, min_samples_split=10, n_estimators=300 \n",
      "[CV]  criterion=entropy, max_depth=5, min_samples_split=10, n_estimators=300, score=0.8607954545454546, total=   1.2s\n",
      "[CV] criterion=entropy, max_depth=5, min_samples_split=10, n_estimators=500 \n",
      "[CV]  criterion=entropy, max_depth=5, min_samples_split=10, n_estimators=500, score=0.8645833333333334, total=   2.0s\n",
      "[CV] criterion=entropy, max_depth=5, min_samples_split=10, n_estimators=500 \n",
      "[CV]  criterion=entropy, max_depth=5, min_samples_split=10, n_estimators=500, score=0.9431818181818182, total=   2.4s\n",
      "[CV] criterion=entropy, max_depth=5, min_samples_split=10, n_estimators=500 \n",
      "[CV]  criterion=entropy, max_depth=5, min_samples_split=10, n_estimators=500, score=0.8560606060606061, total=   1.9s\n",
      "[CV] criterion=entropy, max_depth=5, min_samples_split=30, n_estimators=300 \n",
      "[CV]  criterion=entropy, max_depth=5, min_samples_split=30, n_estimators=300, score=0.8626893939393939, total=   1.0s\n",
      "[CV] criterion=entropy, max_depth=5, min_samples_split=30, n_estimators=300 \n",
      "[CV]  criterion=entropy, max_depth=5, min_samples_split=30, n_estimators=300, score=0.9441287878787878, total=   1.1s\n",
      "[CV] criterion=entropy, max_depth=5, min_samples_split=30, n_estimators=300 \n",
      "[CV]  criterion=entropy, max_depth=5, min_samples_split=30, n_estimators=300, score=0.8551136363636364, total=   1.0s\n",
      "[CV] criterion=entropy, max_depth=5, min_samples_split=30, n_estimators=500 \n",
      "[CV]  criterion=entropy, max_depth=5, min_samples_split=30, n_estimators=500, score=0.8702651515151515, total=   1.6s\n",
      "[CV] criterion=entropy, max_depth=5, min_samples_split=30, n_estimators=500 \n",
      "[CV]  criterion=entropy, max_depth=5, min_samples_split=30, n_estimators=500, score=0.9422348484848485, total=   1.8s\n",
      "[CV] criterion=entropy, max_depth=5, min_samples_split=30, n_estimators=500 \n",
      "[CV]  criterion=entropy, max_depth=5, min_samples_split=30, n_estimators=500, score=0.8551136363636364, total=   1.7s\n",
      "[CV] criterion=entropy, max_depth=5, min_samples_split=40, n_estimators=300 \n",
      "[CV]  criterion=entropy, max_depth=5, min_samples_split=40, n_estimators=300, score=0.8693181818181818, total=   1.1s\n",
      "[CV] criterion=entropy, max_depth=5, min_samples_split=40, n_estimators=300 \n",
      "[CV]  criterion=entropy, max_depth=5, min_samples_split=40, n_estimators=300, score=0.9403409090909091, total=   1.1s\n",
      "[CV] criterion=entropy, max_depth=5, min_samples_split=40, n_estimators=300 \n",
      "[CV]  criterion=entropy, max_depth=5, min_samples_split=40, n_estimators=300, score=0.8522727272727273, total=   1.3s\n",
      "[CV] criterion=entropy, max_depth=5, min_samples_split=40, n_estimators=500 \n",
      "[CV]  criterion=entropy, max_depth=5, min_samples_split=40, n_estimators=500, score=0.865530303030303, total=   1.9s\n",
      "[CV] criterion=entropy, max_depth=5, min_samples_split=40, n_estimators=500 \n",
      "[CV]  criterion=entropy, max_depth=5, min_samples_split=40, n_estimators=500, score=0.9450757575757576, total=   2.1s\n",
      "[CV] criterion=entropy, max_depth=5, min_samples_split=40, n_estimators=500 \n",
      "[CV]  criterion=entropy, max_depth=5, min_samples_split=40, n_estimators=500, score=0.8551136363636364, total=   2.2s\n",
      "[CV] criterion=entropy, max_depth=10, min_samples_split=10, n_estimators=300 \n",
      "[CV]  criterion=entropy, max_depth=10, min_samples_split=10, n_estimators=300, score=0.8740530303030303, total=   1.2s\n",
      "[CV] criterion=entropy, max_depth=10, min_samples_split=10, n_estimators=300 \n",
      "[CV]  criterion=entropy, max_depth=10, min_samples_split=10, n_estimators=300, score=0.9479166666666666, total=   1.4s\n",
      "[CV] criterion=entropy, max_depth=10, min_samples_split=10, n_estimators=300 \n",
      "[CV]  criterion=entropy, max_depth=10, min_samples_split=10, n_estimators=300, score=0.8939393939393939, total=   1.3s\n",
      "[CV] criterion=entropy, max_depth=10, min_samples_split=10, n_estimators=500 \n",
      "[CV]  criterion=entropy, max_depth=10, min_samples_split=10, n_estimators=500, score=0.8806818181818182, total=   2.3s\n",
      "[CV] criterion=entropy, max_depth=10, min_samples_split=10, n_estimators=500 \n",
      "[CV]  criterion=entropy, max_depth=10, min_samples_split=10, n_estimators=500, score=0.9488636363636364, total=   2.3s\n",
      "[CV] criterion=entropy, max_depth=10, min_samples_split=10, n_estimators=500 \n",
      "[CV]  criterion=entropy, max_depth=10, min_samples_split=10, n_estimators=500, score=0.896780303030303, total=   2.4s\n",
      "[CV] criterion=entropy, max_depth=10, min_samples_split=30, n_estimators=300 \n",
      "[CV]  criterion=entropy, max_depth=10, min_samples_split=30, n_estimators=300, score=0.8721590909090909, total=   1.3s\n",
      "[CV] criterion=entropy, max_depth=10, min_samples_split=30, n_estimators=300 \n",
      "[CV]  criterion=entropy, max_depth=10, min_samples_split=30, n_estimators=300, score=0.9498106060606061, total=   1.3s\n",
      "[CV] criterion=entropy, max_depth=10, min_samples_split=30, n_estimators=300 \n",
      "[CV]  criterion=entropy, max_depth=10, min_samples_split=30, n_estimators=300, score=0.8873106060606061, total=   1.4s\n",
      "[CV] criterion=entropy, max_depth=10, min_samples_split=30, n_estimators=500 \n",
      "[CV]  criterion=entropy, max_depth=10, min_samples_split=30, n_estimators=500, score=0.8636363636363636, total=   2.2s\n",
      "[CV] criterion=entropy, max_depth=10, min_samples_split=30, n_estimators=500 \n",
      "[CV]  criterion=entropy, max_depth=10, min_samples_split=30, n_estimators=500, score=0.946969696969697, total=   2.3s\n",
      "[CV] criterion=entropy, max_depth=10, min_samples_split=30, n_estimators=500 \n",
      "[CV]  criterion=entropy, max_depth=10, min_samples_split=30, n_estimators=500, score=0.8759469696969697, total=   2.3s\n",
      "[CV] criterion=entropy, max_depth=10, min_samples_split=40, n_estimators=300 \n",
      "[CV]  criterion=entropy, max_depth=10, min_samples_split=40, n_estimators=300, score=0.8702651515151515, total=   1.3s\n",
      "[CV] criterion=entropy, max_depth=10, min_samples_split=40, n_estimators=300 \n",
      "[CV]  criterion=entropy, max_depth=10, min_samples_split=40, n_estimators=300, score=0.946969696969697, total=   1.3s\n",
      "[CV] criterion=entropy, max_depth=10, min_samples_split=40, n_estimators=300 \n",
      "[CV]  criterion=entropy, max_depth=10, min_samples_split=40, n_estimators=300, score=0.8797348484848485, total=   1.3s\n",
      "[CV] criterion=entropy, max_depth=10, min_samples_split=40, n_estimators=500 \n",
      "[CV]  criterion=entropy, max_depth=10, min_samples_split=40, n_estimators=500, score=0.8598484848484849, total=   1.9s\n",
      "[CV] criterion=entropy, max_depth=10, min_samples_split=40, n_estimators=500 \n",
      "[CV]  criterion=entropy, max_depth=10, min_samples_split=40, n_estimators=500, score=0.9479166666666666, total=   2.2s\n",
      "[CV] criterion=entropy, max_depth=10, min_samples_split=40, n_estimators=500 \n"
     ]
    },
    {
     "name": "stdout",
     "output_type": "stream",
     "text": [
      "[CV]  criterion=entropy, max_depth=10, min_samples_split=40, n_estimators=500, score=0.8778409090909091, total=   2.0s\n",
      "[CV] criterion=entropy, max_depth=15, min_samples_split=10, n_estimators=300 \n",
      "[CV]  criterion=entropy, max_depth=15, min_samples_split=10, n_estimators=300, score=0.8835227272727273, total=   1.4s\n",
      "[CV] criterion=entropy, max_depth=15, min_samples_split=10, n_estimators=300 \n",
      "[CV]  criterion=entropy, max_depth=15, min_samples_split=10, n_estimators=300, score=0.9479166666666666, total=   1.4s\n",
      "[CV] criterion=entropy, max_depth=15, min_samples_split=10, n_estimators=300 \n",
      "[CV]  criterion=entropy, max_depth=15, min_samples_split=10, n_estimators=300, score=0.9015151515151515, total=   1.3s\n",
      "[CV] criterion=entropy, max_depth=15, min_samples_split=10, n_estimators=500 \n",
      "[CV]  criterion=entropy, max_depth=15, min_samples_split=10, n_estimators=500, score=0.8787878787878788, total=   2.2s\n",
      "[CV] criterion=entropy, max_depth=15, min_samples_split=10, n_estimators=500 \n",
      "[CV]  criterion=entropy, max_depth=15, min_samples_split=10, n_estimators=500, score=0.946969696969697, total=   2.3s\n",
      "[CV] criterion=entropy, max_depth=15, min_samples_split=10, n_estimators=500 \n",
      "[CV]  criterion=entropy, max_depth=15, min_samples_split=10, n_estimators=500, score=0.8996212121212122, total=   2.3s\n",
      "[CV] criterion=entropy, max_depth=15, min_samples_split=30, n_estimators=300 \n",
      "[CV]  criterion=entropy, max_depth=15, min_samples_split=30, n_estimators=300, score=0.8674242424242424, total=   1.3s\n",
      "[CV] criterion=entropy, max_depth=15, min_samples_split=30, n_estimators=300 \n",
      "[CV]  criterion=entropy, max_depth=15, min_samples_split=30, n_estimators=300, score=0.9479166666666666, total=   1.5s\n",
      "[CV] criterion=entropy, max_depth=15, min_samples_split=30, n_estimators=300 \n",
      "[CV]  criterion=entropy, max_depth=15, min_samples_split=30, n_estimators=300, score=0.8901515151515151, total=   1.3s\n",
      "[CV] criterion=entropy, max_depth=15, min_samples_split=30, n_estimators=500 \n",
      "[CV]  criterion=entropy, max_depth=15, min_samples_split=30, n_estimators=500, score=0.8598484848484849, total=   2.2s\n",
      "[CV] criterion=entropy, max_depth=15, min_samples_split=30, n_estimators=500 \n",
      "[CV]  criterion=entropy, max_depth=15, min_samples_split=30, n_estimators=500, score=0.9441287878787878, total=   2.2s\n",
      "[CV] criterion=entropy, max_depth=15, min_samples_split=30, n_estimators=500 \n",
      "[CV]  criterion=entropy, max_depth=15, min_samples_split=30, n_estimators=500, score=0.8825757575757576, total=   2.3s\n",
      "[CV] criterion=entropy, max_depth=15, min_samples_split=40, n_estimators=300 \n",
      "[CV]  criterion=entropy, max_depth=15, min_samples_split=40, n_estimators=300, score=0.8617424242424242, total=   1.3s\n",
      "[CV] criterion=entropy, max_depth=15, min_samples_split=40, n_estimators=300 \n",
      "[CV]  criterion=entropy, max_depth=15, min_samples_split=40, n_estimators=300, score=0.9479166666666666, total=   1.5s\n",
      "[CV] criterion=entropy, max_depth=15, min_samples_split=40, n_estimators=300 \n",
      "[CV]  criterion=entropy, max_depth=15, min_samples_split=40, n_estimators=300, score=0.8806818181818182, total=   1.5s\n",
      "[CV] criterion=entropy, max_depth=15, min_samples_split=40, n_estimators=500 \n",
      "[CV]  criterion=entropy, max_depth=15, min_samples_split=40, n_estimators=500, score=0.8693181818181818, total=   2.3s\n",
      "[CV] criterion=entropy, max_depth=15, min_samples_split=40, n_estimators=500 \n",
      "[CV]  criterion=entropy, max_depth=15, min_samples_split=40, n_estimators=500, score=0.9450757575757576, total=   2.4s\n",
      "[CV] criterion=entropy, max_depth=15, min_samples_split=40, n_estimators=500 \n",
      "[CV]  criterion=entropy, max_depth=15, min_samples_split=40, n_estimators=500, score=0.8768939393939394, total=   2.2s\n"
     ]
    },
    {
     "name": "stderr",
     "output_type": "stream",
     "text": [
      "[Parallel(n_jobs=1)]: Done 108 out of 108 | elapsed:  2.9min finished\n"
     ]
    },
    {
     "data": {
      "text/plain": [
       "{'criterion': 'entropy',\n",
       " 'max_depth': 15,\n",
       " 'min_samples_split': 10,\n",
       " 'n_estimators': 300}"
      ]
     },
     "execution_count": 62,
     "metadata": {},
     "output_type": "execute_result"
    }
   ],
   "source": [
    "param_grid = {'max_depth': [5,10,15],\n",
    "              'min_samples_split' : [10,30,40],\n",
    "              'n_estimators':[300],\n",
    "              'criterion': ['gini', 'entropy']}\n",
    "rf2 = GridSearchCV(RandomForestClassifier(),param_grid,refit=True,verbose=4)\n",
    "rf2= rf2.fit(voice_pc, y)\n",
    "rf2.best_params_"
   ]
  },
  {
   "cell_type": "markdown",
   "metadata": {},
   "source": [
    "Best params: {'criterion': 'gini',\n",
    " 'max_depth': 10,\n",
    " 'min_samples_split': 10,\n",
    " 'n_estimators': 300}"
   ]
  },
  {
   "cell_type": "code",
   "execution_count": 229,
   "metadata": {},
   "outputs": [],
   "source": [
    "kfold = KFold(n_splits=10,random_state=1)\n",
    "rf2 = RandomForestClassifier(max_depth = 10,min_samples_split=10, n_estimators = 300, criterion='gini',random_state=0)\n",
    "rf2.fit(X=voice_pc,y=y)\n",
    "rf_score_npc=np.mean(cross_val_score(rf2, X=voice, y=y, cv=kfold))"
   ]
  },
  {
   "cell_type": "markdown",
   "metadata": {},
   "source": [
    "<a name=\"XGB\"></a>\n",
    "## XGBoost\n",
    "[Return to Top](#top)"
   ]
  },
  {
   "cell_type": "markdown",
   "metadata": {},
   "source": [
    "#### Without PC"
   ]
  },
  {
   "cell_type": "code",
   "execution_count": 127,
   "metadata": {},
   "outputs": [
    {
     "name": "stdout",
     "output_type": "stream",
     "text": [
      "Fitting 3 folds for each of 3 candidates, totalling 9 fits\n",
      "[CV] colsample_bytree=0.8, gamma=0, learning_rate=0.1, max_depth=2, min_child_weight=5, n_estimators=100, objective=binary:logistic, silent=1, subsample=0.8 \n",
      "[CV]  colsample_bytree=0.8, gamma=0, learning_rate=0.1, max_depth=2, min_child_weight=5, n_estimators=100, objective=binary:logistic, silent=1, subsample=0.8, score=0.946969696969697, total=   0.2s"
     ]
    },
    {
     "name": "stderr",
     "output_type": "stream",
     "text": [
      "[Parallel(n_jobs=1)]: Done   1 out of   1 | elapsed:    0.2s remaining:    0.0s\n",
      "[Parallel(n_jobs=1)]: Done   2 out of   2 | elapsed:    0.4s remaining:    0.0s\n"
     ]
    },
    {
     "name": "stdout",
     "output_type": "stream",
     "text": [
      "\n",
      "[CV] colsample_bytree=0.8, gamma=0, learning_rate=0.1, max_depth=2, min_child_weight=5, n_estimators=100, objective=binary:logistic, silent=1, subsample=0.8 \n",
      "[CV]  colsample_bytree=0.8, gamma=0, learning_rate=0.1, max_depth=2, min_child_weight=5, n_estimators=100, objective=binary:logistic, silent=1, subsample=0.8, score=0.9829545454545454, total=   0.2s\n",
      "[CV] colsample_bytree=0.8, gamma=0, learning_rate=0.1, max_depth=2, min_child_weight=5, n_estimators=100, objective=binary:logistic, silent=1, subsample=0.8 \n",
      "[CV]  colsample_bytree=0.8, gamma=0, learning_rate=0.1, max_depth=2, min_child_weight=5, n_estimators=100, objective=binary:logistic, silent=1, subsample=0.8, score=0.9715909090909091, total=   0.2s\n",
      "[CV] colsample_bytree=0.8, gamma=0, learning_rate=0.1, max_depth=3, min_child_weight=5, n_estimators=100, objective=binary:logistic, silent=1, subsample=0.8 \n"
     ]
    },
    {
     "name": "stderr",
     "output_type": "stream",
     "text": [
      "[Parallel(n_jobs=1)]: Done   3 out of   3 | elapsed:    0.5s remaining:    0.0s\n"
     ]
    },
    {
     "name": "stdout",
     "output_type": "stream",
     "text": [
      "[CV]  colsample_bytree=0.8, gamma=0, learning_rate=0.1, max_depth=3, min_child_weight=5, n_estimators=100, objective=binary:logistic, silent=1, subsample=0.8, score=0.9535984848484849, total=   0.2s\n",
      "[CV] colsample_bytree=0.8, gamma=0, learning_rate=0.1, max_depth=3, min_child_weight=5, n_estimators=100, objective=binary:logistic, silent=1, subsample=0.8 \n",
      "[CV]  colsample_bytree=0.8, gamma=0, learning_rate=0.1, max_depth=3, min_child_weight=5, n_estimators=100, objective=binary:logistic, silent=1, subsample=0.8, score=0.9829545454545454, total=   0.2s\n",
      "[CV] colsample_bytree=0.8, gamma=0, learning_rate=0.1, max_depth=3, min_child_weight=5, n_estimators=100, objective=binary:logistic, silent=1, subsample=0.8 \n",
      "[CV]  colsample_bytree=0.8, gamma=0, learning_rate=0.1, max_depth=3, min_child_weight=5, n_estimators=100, objective=binary:logistic, silent=1, subsample=0.8, score=0.9725378787878788, total=   0.2s\n",
      "[CV] colsample_bytree=0.8, gamma=0, learning_rate=0.1, max_depth=5, min_child_weight=5, n_estimators=100, objective=binary:logistic, silent=1, subsample=0.8 \n",
      "[CV]  colsample_bytree=0.8, gamma=0, learning_rate=0.1, max_depth=5, min_child_weight=5, n_estimators=100, objective=binary:logistic, silent=1, subsample=0.8, score=0.9488636363636364, total=   0.2s\n",
      "[CV] colsample_bytree=0.8, gamma=0, learning_rate=0.1, max_depth=5, min_child_weight=5, n_estimators=100, objective=binary:logistic, silent=1, subsample=0.8 \n",
      "[CV]  colsample_bytree=0.8, gamma=0, learning_rate=0.1, max_depth=5, min_child_weight=5, n_estimators=100, objective=binary:logistic, silent=1, subsample=0.8, score=0.9829545454545454, total=   0.3s\n",
      "[CV] colsample_bytree=0.8, gamma=0, learning_rate=0.1, max_depth=5, min_child_weight=5, n_estimators=100, objective=binary:logistic, silent=1, subsample=0.8 \n",
      "[CV]  colsample_bytree=0.8, gamma=0, learning_rate=0.1, max_depth=5, min_child_weight=5, n_estimators=100, objective=binary:logistic, silent=1, subsample=0.8, score=0.9696969696969697, total=   0.3s\n"
     ]
    },
    {
     "name": "stderr",
     "output_type": "stream",
     "text": [
      "[Parallel(n_jobs=1)]: Done   9 out of   9 | elapsed:    2.0s finished\n"
     ]
    },
    {
     "data": {
      "text/plain": [
       "GridSearchCV(cv=None, error_score='raise',\n",
       "       estimator=XGBClassifier(base_score=0.5, colsample_bylevel=1, colsample_bytree=1,\n",
       "       gamma=0, learning_rate=0.1, max_delta_step=0, max_depth=3,\n",
       "       min_child_weight=1, missing=None, n_estimators=100, nthread=-1,\n",
       "       objective='binary:logistic', reg_alpha=0, reg_lambda=1,\n",
       "       scale_pos_weight=1, seed=0, silent=True, subsample=1),\n",
       "       fit_params=None, iid=True, n_jobs=1,\n",
       "       param_grid={'max_depth': [2, 3, 5], 'min_child_weight': [5], 'gamma': [0], 'subsample': [0.8], 'colsample_bytree': [0.8], 'learning_rate': [0.1], 'n_estimators': [100], 'silent': [1], 'objective': ['binary:logistic']},\n",
       "       pre_dispatch='2*n_jobs', refit=True, return_train_score='warn',\n",
       "       scoring=None, verbose=4)"
      ]
     },
     "execution_count": 127,
     "metadata": {},
     "output_type": "execute_result"
    }
   ],
   "source": [
    "param_grid = {'max_depth':[2,3,5],\n",
    "              'min_child_weight':[5],\n",
    "              'gamma':[0],\n",
    "              'subsample':[0.8],\n",
    "              'colsample_bytree':[0.8],\n",
    "              'learning_rate':[0.1],\n",
    "              'n_estimators':[100],\n",
    "              'silent':[1],\n",
    "              'objective':['binary:logistic']}\n",
    "\n",
    "xgb = GridSearchCV(XGBClassifier(),param_grid,refit=True,verbose=4)\n",
    "xgb.fit(voice, y)"
   ]
  },
  {
   "cell_type": "code",
   "execution_count": 128,
   "metadata": {},
   "outputs": [
    {
     "name": "stdout",
     "output_type": "stream",
     "text": [
      "Best score: 0.969696969697\n",
      "Best parameter set: {'colsample_bytree': 0.8, 'gamma': 0, 'learning_rate': 0.1, 'max_depth': 3, 'min_child_weight': 5, 'n_estimators': 100, 'objective': 'binary:logistic', 'silent': 1, 'subsample': 0.8}\n"
     ]
    }
   ],
   "source": [
    "print(\"Best score: %s\" % (xgb.best_score_))\n",
    "print(\"Best parameter set: %s\" % (xgb.best_params_))"
   ]
  },
  {
   "cell_type": "markdown",
   "metadata": {},
   "source": [
    "Best parameter set: {'colsample_bytree': 0.8, 'gamma': 0, 'learning_rate': 0.1, 'max_depth': 3, 'min_child_weight': 5, 'n_estimators': 100, 'objective': 'binary:logistic', 'silent': 1, 'subsample': 0.8}"
   ]
  },
  {
   "cell_type": "code",
   "execution_count": 238,
   "metadata": {},
   "outputs": [
    {
     "data": {
      "text/plain": [
       "0.96558120033542316"
      ]
     },
     "execution_count": 238,
     "metadata": {},
     "output_type": "execute_result"
    }
   ],
   "source": [
    "kfold = KFold(n_splits=10,random_state=1)\n",
    "xgb = XGBClassifier(colsample_bytree=0.8,\n",
    "       gamma=0, learning_rate= 0.1,\n",
    "       max_depth= 3, min_child_weight= 5,\n",
    "       n_estimators=100,\n",
    "       objective='binary:logistic',\n",
    "       silent=1, subsample=0.8)\n",
    "xgb.fit(X=voice,y=y)\n",
    "xgb_score_pc=np.mean(cross_val_score(xgb, X=voice, y=y, cv=kfold))\n",
    "xgb_score_pc"
   ]
  },
  {
   "cell_type": "markdown",
   "metadata": {},
   "source": [
    "#### With PC"
   ]
  },
  {
   "cell_type": "code",
   "execution_count": 232,
   "metadata": {},
   "outputs": [
    {
     "name": "stdout",
     "output_type": "stream",
     "text": [
      "Fitting 3 folds for each of 3 candidates, totalling 9 fits\n",
      "[CV] colsample_bytree=0.8, gamma=0, learning_rate=0.1, max_depth=2, min_child_weight=5, n_estimators=100, objective=binary:logistic, silent=1, subsample=0.8 \n",
      "[CV]  colsample_bytree=0.8, gamma=0, learning_rate=0.1, max_depth=2, min_child_weight=5, n_estimators=100, objective=binary:logistic, silent=1, subsample=0.8, score=0.8607954545454546, total=   0.1s\n",
      "[CV] colsample_bytree=0.8, gamma=0, learning_rate=0.1, max_depth=2, min_child_weight=5, n_estimators=100, objective=binary:logistic, silent=1, subsample=0.8 \n"
     ]
    },
    {
     "name": "stderr",
     "output_type": "stream",
     "text": [
      "[Parallel(n_jobs=1)]: Done   1 out of   1 | elapsed:    0.1s remaining:    0.0s\n",
      "[Parallel(n_jobs=1)]: Done   2 out of   2 | elapsed:    0.2s remaining:    0.0s\n"
     ]
    },
    {
     "name": "stdout",
     "output_type": "stream",
     "text": [
      "[CV]  colsample_bytree=0.8, gamma=0, learning_rate=0.1, max_depth=2, min_child_weight=5, n_estimators=100, objective=binary:logistic, silent=1, subsample=0.8, score=0.946969696969697, total=   0.1s\n",
      "[CV] colsample_bytree=0.8, gamma=0, learning_rate=0.1, max_depth=2, min_child_weight=5, n_estimators=100, objective=binary:logistic, silent=1, subsample=0.8 \n",
      "[CV]  colsample_bytree=0.8, gamma=0, learning_rate=0.1, max_depth=2, min_child_weight=5, n_estimators=100, objective=binary:logistic, silent=1, subsample=0.8, score=0.8825757575757576, total=   0.1s\n",
      "[CV] colsample_bytree=0.8, gamma=0, learning_rate=0.1, max_depth=3, min_child_weight=5, n_estimators=100, objective=binary:logistic, silent=1, subsample=0.8 \n"
     ]
    },
    {
     "name": "stderr",
     "output_type": "stream",
     "text": [
      "[Parallel(n_jobs=1)]: Done   3 out of   3 | elapsed:    0.3s remaining:    0.0s\n"
     ]
    },
    {
     "name": "stdout",
     "output_type": "stream",
     "text": [
      "[CV]  colsample_bytree=0.8, gamma=0, learning_rate=0.1, max_depth=3, min_child_weight=5, n_estimators=100, objective=binary:logistic, silent=1, subsample=0.8, score=0.8607954545454546, total=   0.3s\n",
      "[CV] colsample_bytree=0.8, gamma=0, learning_rate=0.1, max_depth=3, min_child_weight=5, n_estimators=100, objective=binary:logistic, silent=1, subsample=0.8 \n",
      "[CV]  colsample_bytree=0.8, gamma=0, learning_rate=0.1, max_depth=3, min_child_weight=5, n_estimators=100, objective=binary:logistic, silent=1, subsample=0.8, score=0.9450757575757576, total=   0.2s\n",
      "[CV] colsample_bytree=0.8, gamma=0, learning_rate=0.1, max_depth=3, min_child_weight=5, n_estimators=100, objective=binary:logistic, silent=1, subsample=0.8 \n",
      "[CV]  colsample_bytree=0.8, gamma=0, learning_rate=0.1, max_depth=3, min_child_weight=5, n_estimators=100, objective=binary:logistic, silent=1, subsample=0.8, score=0.90625, total=   0.1s\n",
      "[CV] colsample_bytree=0.8, gamma=0, learning_rate=0.1, max_depth=5, min_child_weight=5, n_estimators=100, objective=binary:logistic, silent=1, subsample=0.8 \n",
      "[CV]  colsample_bytree=0.8, gamma=0, learning_rate=0.1, max_depth=5, min_child_weight=5, n_estimators=100, objective=binary:logistic, silent=1, subsample=0.8, score=0.8740530303030303, total=   0.1s\n",
      "[CV] colsample_bytree=0.8, gamma=0, learning_rate=0.1, max_depth=5, min_child_weight=5, n_estimators=100, objective=binary:logistic, silent=1, subsample=0.8 \n",
      "[CV]  colsample_bytree=0.8, gamma=0, learning_rate=0.1, max_depth=5, min_child_weight=5, n_estimators=100, objective=binary:logistic, silent=1, subsample=0.8, score=0.9479166666666666, total=   0.1s\n",
      "[CV] colsample_bytree=0.8, gamma=0, learning_rate=0.1, max_depth=5, min_child_weight=5, n_estimators=100, objective=binary:logistic, silent=1, subsample=0.8 \n",
      "[CV]  colsample_bytree=0.8, gamma=0, learning_rate=0.1, max_depth=5, min_child_weight=5, n_estimators=100, objective=binary:logistic, silent=1, subsample=0.8, score=0.9053030303030303, total=   0.1s\n"
     ]
    },
    {
     "name": "stderr",
     "output_type": "stream",
     "text": [
      "[Parallel(n_jobs=1)]: Done   9 out of   9 | elapsed:    1.4s finished\n"
     ]
    },
    {
     "data": {
      "text/plain": [
       "GridSearchCV(cv=None, error_score='raise',\n",
       "       estimator=XGBClassifier(base_score=0.5, colsample_bylevel=1, colsample_bytree=1,\n",
       "       gamma=0, learning_rate=0.1, max_delta_step=0, max_depth=3,\n",
       "       min_child_weight=1, missing=None, n_estimators=100, nthread=-1,\n",
       "       objective='binary:logistic', reg_alpha=0, reg_lambda=1,\n",
       "       scale_pos_weight=1, seed=0, silent=True, subsample=1),\n",
       "       fit_params=None, iid=True, n_jobs=1,\n",
       "       param_grid={'max_depth': [2, 3, 5], 'min_child_weight': [5], 'gamma': [0], 'subsample': [0.8], 'colsample_bytree': [0.8], 'learning_rate': [0.1], 'n_estimators': [100], 'silent': [1], 'objective': ['binary:logistic']},\n",
       "       pre_dispatch='2*n_jobs', refit=True, return_train_score='warn',\n",
       "       scoring=None, verbose=4)"
      ]
     },
     "execution_count": 232,
     "metadata": {},
     "output_type": "execute_result"
    }
   ],
   "source": [
    "param_grid = {'max_depth':[2,3,5],\n",
    "              'min_child_weight':[5],\n",
    "              'gamma':[0],\n",
    "              'subsample':[0.8],\n",
    "              'colsample_bytree':[0.8],\n",
    "              'learning_rate':[0.1],\n",
    "              'n_estimators':[100],\n",
    "              'silent':[1],\n",
    "              'objective':['binary:logistic']}\n",
    "\n",
    "xgb = GridSearchCV(XGBClassifier(),param_grid,refit=True,verbose=4)\n",
    "xgb.fit(voice_pc, y)"
   ]
  },
  {
   "cell_type": "code",
   "execution_count": 233,
   "metadata": {},
   "outputs": [
    {
     "name": "stdout",
     "output_type": "stream",
     "text": [
      "Best score: 0.909090909091\n",
      "Best parameter set: {'colsample_bytree': 0.8, 'gamma': 0, 'learning_rate': 0.1, 'max_depth': 5, 'min_child_weight': 5, 'n_estimators': 100, 'objective': 'binary:logistic', 'silent': 1, 'subsample': 0.8}\n"
     ]
    }
   ],
   "source": [
    "print(\"Best score: %s\" % (xgb.best_score_))\n",
    "print(\"Best parameter set: %s\" % (xgb.best_params_))"
   ]
  },
  {
   "cell_type": "code",
   "execution_count": 287,
   "metadata": {},
   "outputs": [
    {
     "data": {
      "text/plain": [
       "0.88982150700794627"
      ]
     },
     "execution_count": 287,
     "metadata": {},
     "output_type": "execute_result"
    }
   ],
   "source": [
    "kfold = KFold(n_splits=10,random_state=1)\n",
    "xgb = XGBClassifier(colsample_bytree=0.8,\n",
    "       gamma=0, learning_rate= 0.1,\n",
    "       max_depth= 3, min_child_weight= 5,\n",
    "       n_estimators=100,\n",
    "       objective='binary:logistic',\n",
    "       silent=1, subsample=0.8)\n",
    "xgb.fit(X=voice,y=y)\n",
    "xgb_score_npc=np.mean(cross_val_score(xgb, X=voice_pc, y=y, cv=kfold))\n",
    "xgb_score_npc"
   ]
  },
  {
   "cell_type": "markdown",
   "metadata": {},
   "source": [
    "<a name=\"GAM\"></a>\n",
    "## GAM\n",
    "[Return to top](#top)"
   ]
  },
  {
   "cell_type": "markdown",
   "metadata": {},
   "source": [
    "Note: There's no GAM implementation in sklearn. Pygam is used. Instead of doing 10-folds cv, the accuracy is calculated based on 10 repetitions of train test split."
   ]
  },
  {
   "cell_type": "markdown",
   "metadata": {
    "collapsed": true
   },
   "source": [
    "#### Without PC"
   ]
  },
  {
   "cell_type": "code",
   "execution_count": 197,
   "metadata": {},
   "outputs": [
    {
     "name": "stderr",
     "output_type": "stream",
     "text": [
      "/Applications/anaconda3/lib/python3.6/site-packages/pygam/utils.py:69: UserWarning: Could not import Scikit-Sparse or Suite-Sparse.\n",
      "This will slow down optimization for models with monotonicity/convexity penalties and many splines.\n",
      "See installation instructions for installing Scikit-Sparse and Suite-Sparse via Conda.\n",
      "  warnings.warn(msg)\n",
      "/Applications/anaconda3/lib/python3.6/site-packages/pygam/utils.py:69: UserWarning: Could not import Scikit-Sparse or Suite-Sparse.\n",
      "This will slow down optimization for models with monotonicity/convexity penalties and many splines.\n",
      "See installation instructions for installing Scikit-Sparse and Suite-Sparse via Conda.\n",
      "  warnings.warn(msg)\n",
      "/Applications/anaconda3/lib/python3.6/site-packages/pygam/utils.py:69: UserWarning: Could not import Scikit-Sparse or Suite-Sparse.\n",
      "This will slow down optimization for models with monotonicity/convexity penalties and many splines.\n",
      "See installation instructions for installing Scikit-Sparse and Suite-Sparse via Conda.\n",
      "  warnings.warn(msg)\n",
      "/Applications/anaconda3/lib/python3.6/site-packages/pygam/utils.py:69: UserWarning: Could not import Scikit-Sparse or Suite-Sparse.\n",
      "This will slow down optimization for models with monotonicity/convexity penalties and many splines.\n",
      "See installation instructions for installing Scikit-Sparse and Suite-Sparse via Conda.\n",
      "  warnings.warn(msg)\n",
      "/Applications/anaconda3/lib/python3.6/site-packages/pygam/utils.py:69: UserWarning: Could not import Scikit-Sparse or Suite-Sparse.\n",
      "This will slow down optimization for models with monotonicity/convexity penalties and many splines.\n",
      "See installation instructions for installing Scikit-Sparse and Suite-Sparse via Conda.\n",
      "  warnings.warn(msg)\n",
      "/Applications/anaconda3/lib/python3.6/site-packages/pygam/utils.py:69: UserWarning: Could not import Scikit-Sparse or Suite-Sparse.\n",
      "This will slow down optimization for models with monotonicity/convexity penalties and many splines.\n",
      "See installation instructions for installing Scikit-Sparse and Suite-Sparse via Conda.\n",
      "  warnings.warn(msg)\n",
      "/Applications/anaconda3/lib/python3.6/site-packages/pygam/utils.py:69: UserWarning: Could not import Scikit-Sparse or Suite-Sparse.\n",
      "This will slow down optimization for models with monotonicity/convexity penalties and many splines.\n",
      "See installation instructions for installing Scikit-Sparse and Suite-Sparse via Conda.\n",
      "  warnings.warn(msg)\n",
      "/Applications/anaconda3/lib/python3.6/site-packages/pygam/utils.py:69: UserWarning: Could not import Scikit-Sparse or Suite-Sparse.\n",
      "This will slow down optimization for models with monotonicity/convexity penalties and many splines.\n",
      "See installation instructions for installing Scikit-Sparse and Suite-Sparse via Conda.\n",
      "  warnings.warn(msg)\n",
      "/Applications/anaconda3/lib/python3.6/site-packages/pygam/utils.py:69: UserWarning: Could not import Scikit-Sparse or Suite-Sparse.\n",
      "This will slow down optimization for models with monotonicity/convexity penalties and many splines.\n",
      "See installation instructions for installing Scikit-Sparse and Suite-Sparse via Conda.\n",
      "  warnings.warn(msg)\n",
      "/Applications/anaconda3/lib/python3.6/site-packages/pygam/utils.py:69: UserWarning: Could not import Scikit-Sparse or Suite-Sparse.\n",
      "This will slow down optimization for models with monotonicity/convexity penalties and many splines.\n",
      "See installation instructions for installing Scikit-Sparse and Suite-Sparse via Conda.\n",
      "  warnings.warn(msg)\n"
     ]
    }
   ],
   "source": [
    "ccr = []\n",
    "for i in range(10):\n",
    "    voice_train, voice_test, y_train, y_test = train_test_split(voice,y, test_size = 0.1, random_state = i)\n",
    "    gam = LogisticGAM().fit(X = voice_train,y = (y_train==\"female\").astype(int))\n",
    "    predictions = gam.predict(voice_test)\n",
    "    ccr.append(accuracy_score((y_test==\"female\").astype(int), predictions))"
   ]
  },
  {
   "cell_type": "code",
   "execution_count": 198,
   "metadata": {},
   "outputs": [
    {
     "data": {
      "text/plain": [
       "0.97665615141955819"
      ]
     },
     "execution_count": 198,
     "metadata": {},
     "output_type": "execute_result"
    }
   ],
   "source": [
    "np.mean(ccr)"
   ]
  },
  {
   "cell_type": "markdown",
   "metadata": {},
   "source": [
    "#### With PC"
   ]
  },
  {
   "cell_type": "code",
   "execution_count": null,
   "metadata": {
    "collapsed": true
   },
   "outputs": [],
   "source": [
    "ccr = []\n",
    "for i in range(10):\n",
    "    voice_train, voice_test, y_train, y_test = train_test_split(voice_pc,y, test_size = 0.1, random_state = i)\n",
    "    gam = LogisticGAM().fit(X = voice_train,y = (y_train==\"female\").astype(int))\n",
    "    predictions = gam.predict(voice_test)\n",
    "    ccr.append(accuracy_score((y_test==\"female\").astype(int), predictions))"
   ]
  },
  {
   "cell_type": "code",
   "execution_count": 92,
   "metadata": {},
   "outputs": [
    {
     "data": {
      "text/plain": [
       "0.93249211356466888"
      ]
     },
     "execution_count": 92,
     "metadata": {},
     "output_type": "execute_result"
    }
   ],
   "source": [
    "np.mean(ccr)"
   ]
  },
  {
   "cell_type": "markdown",
   "metadata": {},
   "source": [
    "<a name=\"NB\"></a>\n",
    "## Naive Bayes\n",
    "\n",
    "[Return to top](#top)"
   ]
  },
  {
   "cell_type": "markdown",
   "metadata": {
    "collapsed": true
   },
   "source": [
    "#### Without PC"
   ]
  },
  {
   "cell_type": "code",
   "execution_count": 240,
   "metadata": {},
   "outputs": [],
   "source": [
    "from sklearn.naive_bayes import GaussianNB\n",
    "nb = GaussianNB()\n",
    "nb.fit(voice,y)\n",
    "nb_score_pc=np.mean(cross_val_score(knn, X=voice, y=y, cv=kfold))"
   ]
  },
  {
   "cell_type": "markdown",
   "metadata": {},
   "source": [
    "#### With PC"
   ]
  },
  {
   "cell_type": "code",
   "execution_count": 241,
   "metadata": {},
   "outputs": [],
   "source": [
    "from sklearn.naive_bayes import GaussianNB\n",
    "nb = GaussianNB()\n",
    "nb.fit(voice_pc,y)\n",
    "nb_score_npc=np.mean(cross_val_score(knn, X=voice_pc, y=y, cv=kfold))"
   ]
  },
  {
   "cell_type": "markdown",
   "metadata": {},
   "source": [
    "<a name=\"RESULTS\"></a>\n",
    "## Final results comparison\n",
    "[Return to top](#top)"
   ]
  },
  {
   "cell_type": "code",
   "execution_count": 298,
   "metadata": {},
   "outputs": [],
   "source": [
    "allscores = [{'Method': 'Logistic Regression', 'no PCA': lr_score_pc, 'PCA': lr_score_npc},\n",
    "         {'Method': 'Neural Network', 'no PCA': nnet_score_pc, 'PCA': nnet_score_npc},\n",
    "         {'Method': 'CART', 'no PCA': cart_score_pc, 'PCA': cart_score_npc},\n",
    "         {'Method': 'KNN', 'no PCA': knn_score_pc, 'PCA': knn_score_npc},\n",
    "         {'Method': 'Boosted Tree', 'no PCA': bt_score_pc, 'PCA': bt_score_npc},\n",
    "         {'Method': 'Random Forest', 'no PCA': rf_score_pc, 'PCA': rf_score_npc},\n",
    "         {'Method': 'XGBoost', 'no PCA': xgb_score_pc, 'PCA': xgb_score_npc},\n",
    "         {'Method': 'SVM', 'no PCA': svm_score_pc, 'PCA': svm_score_npc},\n",
    "         {'Method': 'Naive Bayes', 'no PCA': nb_score_pc, 'PCA': nb_score_npc}]\n",
    "df = pd.DataFrame(allscores)\n",
    "#{'Method': 'GAM', 'PCA': gam_score_pc, 'No PCA': gam_score_npc}"
   ]
  },
  {
   "cell_type": "code",
   "execution_count": 303,
   "metadata": {},
   "outputs": [
    {
     "data": {
      "text/html": [
       "<div>\n",
       "<style>\n",
       "    .dataframe thead tr:only-child th {\n",
       "        text-align: right;\n",
       "    }\n",
       "\n",
       "    .dataframe thead th {\n",
       "        text-align: left;\n",
       "    }\n",
       "\n",
       "    .dataframe tbody tr th {\n",
       "        vertical-align: top;\n",
       "    }\n",
       "</style>\n",
       "<table border=\"1\" class=\"dataframe\">\n",
       "  <thead>\n",
       "    <tr style=\"text-align: right;\">\n",
       "      <th></th>\n",
       "      <th>no PCA</th>\n",
       "      <th>PCA</th>\n",
       "    </tr>\n",
       "    <tr>\n",
       "      <th>Method</th>\n",
       "      <th></th>\n",
       "      <th></th>\n",
       "    </tr>\n",
       "  </thead>\n",
       "  <tbody>\n",
       "    <tr>\n",
       "      <th>XGBoost</th>\n",
       "      <td>0.965581</td>\n",
       "      <td>0.889822</td>\n",
       "    </tr>\n",
       "    <tr>\n",
       "      <th>Boosted Tree</th>\n",
       "      <td>0.962746</td>\n",
       "      <td>0.910967</td>\n",
       "    </tr>\n",
       "    <tr>\n",
       "      <th>SVM</th>\n",
       "      <td>0.962436</td>\n",
       "      <td>0.852897</td>\n",
       "    </tr>\n",
       "    <tr>\n",
       "      <th>Random Forest</th>\n",
       "      <td>0.962114</td>\n",
       "      <td>0.962429</td>\n",
       "    </tr>\n",
       "    <tr>\n",
       "      <th>Neural Network</th>\n",
       "      <td>0.960216</td>\n",
       "      <td>0.931811</td>\n",
       "    </tr>\n",
       "    <tr>\n",
       "      <th>Logistic Regression</th>\n",
       "      <td>0.958644</td>\n",
       "      <td>0.844066</td>\n",
       "    </tr>\n",
       "    <tr>\n",
       "      <th>CART</th>\n",
       "      <td>0.954844</td>\n",
       "      <td>0.931811</td>\n",
       "    </tr>\n",
       "    <tr>\n",
       "      <th>KNN</th>\n",
       "      <td>0.937483</td>\n",
       "      <td>0.902445</td>\n",
       "    </tr>\n",
       "    <tr>\n",
       "      <th>Naive Bayes</th>\n",
       "      <td>0.928325</td>\n",
       "      <td>0.902445</td>\n",
       "    </tr>\n",
       "  </tbody>\n",
       "</table>\n",
       "</div>"
      ],
      "text/plain": [
       "                       no PCA       PCA\n",
       "Method                                 \n",
       "XGBoost              0.965581  0.889822\n",
       "Boosted Tree         0.962746  0.910967\n",
       "SVM                  0.962436  0.852897\n",
       "Random Forest        0.962114  0.962429\n",
       "Neural Network       0.960216  0.931811\n",
       "Logistic Regression  0.958644  0.844066\n",
       "CART                 0.954844  0.931811\n",
       "KNN                  0.937483  0.902445\n",
       "Naive Bayes          0.928325  0.902445"
      ]
     },
     "execution_count": 303,
     "metadata": {},
     "output_type": "execute_result"
    }
   ],
   "source": [
    "df.index=df['Method']\n",
    "df[['no PCA','PCA']].sort_values(by=\"no PCA\",ascending=False)"
   ]
  }
 ],
 "metadata": {
  "kernelspec": {
   "display_name": "Python 3",
   "language": "python",
   "name": "python3"
  },
  "language_info": {
   "codemirror_mode": {
    "name": "ipython",
    "version": 3
   },
   "file_extension": ".py",
   "mimetype": "text/x-python",
   "name": "python",
   "nbconvert_exporter": "python",
   "pygments_lexer": "ipython3",
   "version": "3.6.3"
  }
 },
 "nbformat": 4,
 "nbformat_minor": 2
}
