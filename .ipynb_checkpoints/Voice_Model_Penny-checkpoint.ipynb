{
 "cells": [
  {
   "cell_type": "markdown",
   "metadata": {},
   "source": [
    "# Model Building"
   ]
  },
  {
   "cell_type": "code",
   "execution_count": 1,
   "metadata": {},
   "outputs": [
    {
     "name": "stderr",
     "output_type": "stream",
     "text": [
      "/Applications/anaconda3/lib/python3.6/site-packages/sklearn/cross_validation.py:41: DeprecationWarning: This module was deprecated in version 0.18 in favor of the model_selection module into which all the refactored classes and functions are moved. Also note that the interface of the new CV iterators are different from that of this module. This module will be removed in 0.20.\n",
      "  \"This module will be removed in 0.20.\", DeprecationWarning)\n",
      "/Applications/anaconda3/lib/python3.6/site-packages/sklearn/grid_search.py:42: DeprecationWarning: This module was deprecated in version 0.18 in favor of the model_selection module into which all the refactored classes and functions are moved. This module will be removed in 0.20.\n",
      "  DeprecationWarning)\n"
     ]
    }
   ],
   "source": [
    "import pandas as pd\n",
    "import numpy as np\n",
    "import matplotlib.pyplot as plt\n",
    "import seaborn as sns\n",
    "%matplotlib inline\n",
    "from sklearn import cross_validation, metrics   #Additional scklearn functions\n",
    "\n",
    "import xgboost\n",
    "from xgboost.sklearn import XGBClassifier\n",
    "from xgboost.sklearn import XGBRegressor\n",
    "\n",
    "from sklearn.pipeline import Pipeline\n",
    "from sklearn.preprocessing import StandardScaler\n",
    "\n",
    "from sklearn.model_selection import train_test_split  \n",
    "from sklearn.cross_validation import cross_val_score\n",
    "from sklearn.metrics import accuracy_score\n",
    "\n",
    "from xgboost import plot_importance\n",
    "from matplotlib import pyplot\n",
    "import pprint\n",
    "%matplotlib inline\n",
    "\n",
    "import matplotlib.pylab as plt\n",
    "%matplotlib inline\n",
    "from matplotlib.pylab import rcParams\n",
    "rcParams['figure.figsize'] = 12, 4\n",
    "\n",
    "from scipy.stats import randint\n",
    "\n",
    "from sklearn.grid_search import GridSearchCV\n",
    "from sklearn.metrics import classification_report,confusion_matrix"
   ]
  },
  {
   "cell_type": "code",
   "execution_count": 9,
   "metadata": {},
   "outputs": [
    {
     "data": {
      "text/plain": [
       "(3168, 21)"
      ]
     },
     "execution_count": 9,
     "metadata": {},
     "output_type": "execute_result"
    }
   ],
   "source": [
    "voice = pd.read_csv(\"voiceN.csv\", index_col=0)\n",
    "voice.shape\n",
    "#voice.head()"
   ]
  },
  {
   "cell_type": "code",
   "execution_count": 18,
   "metadata": {},
   "outputs": [],
   "source": [
    "voice_data=voice.iloc[:,0:20]\n",
    "#voice_data.head()\n",
    "voice_target=voice['label']"
   ]
  },
  {
   "cell_type": "markdown",
   "metadata": {},
   "source": [
    "# Split Train & Test"
   ]
  },
  {
   "cell_type": "code",
   "execution_count": 20,
   "metadata": {
    "collapsed": true
   },
   "outputs": [],
   "source": [
    "from sklearn.model_selection import train_test_split"
   ]
  },
  {
   "cell_type": "code",
   "execution_count": 21,
   "metadata": {},
   "outputs": [],
   "source": [
    "X_train, X_test, y_train, y_test = train_test_split(voice_data, voice_target, test_size=0.20, random_state=101)"
   ]
  },
  {
   "cell_type": "markdown",
   "metadata": {},
   "source": [
    "# Logistic"
   ]
  },
  {
   "cell_type": "code",
   "execution_count": 55,
   "metadata": {
    "collapsed": true
   },
   "outputs": [],
   "source": [
    "from sklearn.linear_model import LogisticRegression"
   ]
  },
  {
   "cell_type": "code",
   "execution_count": 56,
   "metadata": {},
   "outputs": [
    {
     "data": {
      "text/plain": [
       "LogisticRegression(C=1.0, class_weight=None, dual=False, fit_intercept=True,\n",
       "          intercept_scaling=1, max_iter=100, multi_class='ovr', n_jobs=1,\n",
       "          penalty='l2', random_state=None, solver='liblinear', tol=0.0001,\n",
       "          verbose=0, warm_start=False)"
      ]
     },
     "execution_count": 56,
     "metadata": {},
     "output_type": "execute_result"
    }
   ],
   "source": [
    "logmodel = LogisticRegression()\n",
    "logmodel.fit(X_train,y_train)"
   ]
  },
  {
   "cell_type": "code",
   "execution_count": 57,
   "metadata": {},
   "outputs": [
    {
     "data": {
      "text/plain": [
       "0.90378548895899058"
      ]
     },
     "execution_count": 57,
     "metadata": {},
     "output_type": "execute_result"
    }
   ],
   "source": [
    "logmodel.score(X_test, y_test)"
   ]
  },
  {
   "cell_type": "code",
   "execution_count": 58,
   "metadata": {},
   "outputs": [
    {
     "data": {
      "text/plain": [
       "array([ 0.73028391,  0.88485804,  0.92744479,  0.96845426,  0.89556962])"
      ]
     },
     "execution_count": 58,
     "metadata": {},
     "output_type": "execute_result"
    }
   ],
   "source": [
    "log_scores = cross_val_score(logmodel,voice_data, voice_target, cv=5)\n",
    "log_scores"
   ]
  },
  {
   "cell_type": "code",
   "execution_count": 59,
   "metadata": {},
   "outputs": [
    {
     "name": "stdout",
     "output_type": "stream",
     "text": [
      "Accuracy: 0.88 (+/- 0.16)\n"
     ]
    }
   ],
   "source": [
    "print(\"Accuracy: %0.2f (+/- %0.2f)\" % (log_scores.mean(), log_scores.std() * 2))"
   ]
  },
  {
   "cell_type": "code",
   "execution_count": 60,
   "metadata": {
    "collapsed": true
   },
   "outputs": [],
   "source": [
    "predictions_lg = logmodel.predict(X_test)"
   ]
  },
  {
   "cell_type": "code",
   "execution_count": 61,
   "metadata": {
    "collapsed": true
   },
   "outputs": [],
   "source": [
    "from sklearn.metrics import classification_report"
   ]
  },
  {
   "cell_type": "code",
   "execution_count": 62,
   "metadata": {},
   "outputs": [
    {
     "name": "stdout",
     "output_type": "stream",
     "text": [
      "             precision    recall  f1-score   support\n",
      "\n",
      "        0.0       0.86      0.97      0.91       325\n",
      "        1.0       0.96      0.83      0.89       309\n",
      "\n",
      "avg / total       0.91      0.90      0.90       634\n",
      "\n"
     ]
    }
   ],
   "source": [
    "print(classification_report(y_test,predictions_lg))"
   ]
  },
  {
   "cell_type": "markdown",
   "metadata": {},
   "source": [
    "# SVM"
   ]
  },
  {
   "cell_type": "code",
   "execution_count": 64,
   "metadata": {
    "collapsed": true
   },
   "outputs": [],
   "source": [
    "from sklearn.svm import SVC"
   ]
  },
  {
   "cell_type": "code",
   "execution_count": 65,
   "metadata": {},
   "outputs": [],
   "source": [
    "clf = SVC(kernel='linear', C=1).fit(X_train, y_train)"
   ]
  },
  {
   "cell_type": "code",
   "execution_count": 68,
   "metadata": {},
   "outputs": [
    {
     "data": {
      "text/plain": [
       "0.91955835962145105"
      ]
     },
     "execution_count": 68,
     "metadata": {},
     "output_type": "execute_result"
    }
   ],
   "source": [
    "clf.score(X_test, y_test)"
   ]
  },
  {
   "cell_type": "code",
   "execution_count": 69,
   "metadata": {},
   "outputs": [
    {
     "data": {
      "text/plain": [
       "array([ 0.8170347 ,  0.90063091,  0.97318612,  0.97634069,  0.9193038 ])"
      ]
     },
     "execution_count": 69,
     "metadata": {},
     "output_type": "execute_result"
    }
   ],
   "source": [
    "scores = cross_val_score(clf,voice_data, voice_target, cv=5)\n",
    "scores"
   ]
  },
  {
   "cell_type": "code",
   "execution_count": 70,
   "metadata": {},
   "outputs": [
    {
     "name": "stdout",
     "output_type": "stream",
     "text": [
      "Accuracy: 0.92 (+/- 0.12)\n"
     ]
    }
   ],
   "source": [
    "print(\"Accuracy: %0.2f (+/- %0.2f)\" % (scores.mean(), scores.std() * 2))"
   ]
  },
  {
   "cell_type": "code",
   "execution_count": 71,
   "metadata": {
    "collapsed": true
   },
   "outputs": [],
   "source": [
    "predictions_svm = clf.predict(X_test)"
   ]
  },
  {
   "cell_type": "code",
   "execution_count": 72,
   "metadata": {
    "collapsed": true
   },
   "outputs": [],
   "source": [
    "from sklearn.metrics import classification_report,confusion_matrix"
   ]
  },
  {
   "cell_type": "code",
   "execution_count": 73,
   "metadata": {},
   "outputs": [
    {
     "name": "stdout",
     "output_type": "stream",
     "text": [
      "             precision    recall  f1-score   support\n",
      "\n",
      "        0.0       0.88      0.98      0.93       325\n",
      "        1.0       0.97      0.86      0.91       309\n",
      "\n",
      "avg / total       0.93      0.92      0.92       634\n",
      "\n"
     ]
    }
   ],
   "source": [
    "print(classification_report(y_test,predictions_svm))"
   ]
  },
  {
   "cell_type": "code",
   "execution_count": 74,
   "metadata": {},
   "outputs": [
    {
     "name": "stdout",
     "output_type": "stream",
     "text": [
      "[[318   7]\n",
      " [ 44 265]]\n",
      "Accuracy: 91.96%\n"
     ]
    }
   ],
   "source": [
    "print(confusion_matrix(y_test,predictions_svm))\n",
    "accuracy=confusion_matrix(y_test,predictions_svm).trace()/confusion_matrix(y_test,predictions_svm).sum()\n",
    "print(\"Accuracy: %.2f%%\" % (accuracy * 100.0))"
   ]
  },
  {
   "cell_type": "markdown",
   "metadata": {},
   "source": [
    " ## Decision Tree"
   ]
  },
  {
   "cell_type": "code",
   "execution_count": 75,
   "metadata": {
    "collapsed": true
   },
   "outputs": [],
   "source": [
    "from sklearn.tree import DecisionTreeClassifier"
   ]
  },
  {
   "cell_type": "code",
   "execution_count": 76,
   "metadata": {
    "collapsed": true
   },
   "outputs": [],
   "source": [
    "dtree = DecisionTreeClassifier()"
   ]
  },
  {
   "cell_type": "code",
   "execution_count": 77,
   "metadata": {},
   "outputs": [
    {
     "data": {
      "text/plain": [
       "DecisionTreeClassifier(class_weight=None, criterion='gini', max_depth=None,\n",
       "            max_features=None, max_leaf_nodes=None,\n",
       "            min_impurity_decrease=0.0, min_impurity_split=None,\n",
       "            min_samples_leaf=1, min_samples_split=2,\n",
       "            min_weight_fraction_leaf=0.0, presort=False, random_state=None,\n",
       "            splitter='best')"
      ]
     },
     "execution_count": 77,
     "metadata": {},
     "output_type": "execute_result"
    }
   ],
   "source": [
    "dtree.fit(X_train,y_train)"
   ]
  },
  {
   "cell_type": "code",
   "execution_count": 78,
   "metadata": {
    "collapsed": true
   },
   "outputs": [],
   "source": [
    "predictions_dtree = dtree.predict(X_test)"
   ]
  },
  {
   "cell_type": "code",
   "execution_count": 79,
   "metadata": {
    "collapsed": true
   },
   "outputs": [],
   "source": [
    "from sklearn.metrics import classification_report,confusion_matrix"
   ]
  },
  {
   "cell_type": "code",
   "execution_count": 80,
   "metadata": {},
   "outputs": [
    {
     "name": "stdout",
     "output_type": "stream",
     "text": [
      "             precision    recall  f1-score   support\n",
      "\n",
      "        0.0       0.95      0.96      0.96       325\n",
      "        1.0       0.96      0.95      0.95       309\n",
      "\n",
      "avg / total       0.96      0.96      0.96       634\n",
      "\n"
     ]
    }
   ],
   "source": [
    "print(classification_report(y_test,predictions_dtree))"
   ]
  },
  {
   "cell_type": "code",
   "execution_count": 81,
   "metadata": {},
   "outputs": [
    {
     "name": "stdout",
     "output_type": "stream",
     "text": [
      "[[312  13]\n",
      " [ 15 294]]\n",
      "Accuracy: 95.58%\n"
     ]
    }
   ],
   "source": [
    "print(confusion_matrix(y_test,predictions_dtree))\n",
    "accuracy=confusion_matrix(y_test,predictions_dtree).trace()/confusion_matrix(y_test,predictions_dtree).sum()\n",
    "print(\"Accuracy: %.2f%%\" % (accuracy * 100.0))"
   ]
  },
  {
   "cell_type": "code",
   "execution_count": 92,
   "metadata": {},
   "outputs": [
    {
     "name": "stdout",
     "output_type": "stream",
     "text": [
      "Accuracy: 0.92 (+/- 0.12)\n"
     ]
    }
   ],
   "source": [
    "scores = cross_val_score(clf,voice_data, voice_target, cv=5)\n",
    "print(\"Accuracy: %0.2f (+/- %0.2f)\" % (scores.mean(), scores.std() * 2))"
   ]
  },
  {
   "cell_type": "markdown",
   "metadata": {
    "collapsed": true
   },
   "source": [
    "# Random Forrest"
   ]
  },
  {
   "cell_type": "code",
   "execution_count": 86,
   "metadata": {},
   "outputs": [
    {
     "name": "stdout",
     "output_type": "stream",
     "text": [
      "Fitting 3 folds for each of 36 candidates, totalling 108 fits\n",
      "[CV] criterion=gini, max_depth=3, n_estimators=3 .....................\n",
      "[CV]  criterion=gini, max_depth=3, n_estimators=3, score=0.930178 -   0.0s\n",
      "[CV] criterion=gini, max_depth=3, n_estimators=3 .....................\n",
      "[CV]  criterion=gini, max_depth=3, n_estimators=3, score=0.960947 -   0.0s\n",
      "[CV] criterion=gini, max_depth=3, n_estimators=3 .....................\n",
      "[CV]  criterion=gini, max_depth=3, n_estimators=3, score=0.960900 -   0.0s\n",
      "[CV] criterion=gini, max_depth=3, n_estimators=5 .....................\n",
      "[CV]  criterion=gini, max_depth=3, n_estimators=5, score=0.956213 -   0.0s\n",
      "[CV] criterion=gini, max_depth=3, n_estimators=5 .....................\n",
      "[CV]  criterion=gini, max_depth=3, n_estimators=5, score=0.968047 -   0.0s\n",
      "[CV] criterion=gini, max_depth=3, n_estimators=5 .....................\n",
      "[CV]  criterion=gini, max_depth=3, n_estimators=5, score=0.966825 -   0.0s\n",
      "[CV] criterion=gini, max_depth=3, n_estimators=10 ....................\n",
      "[CV]  criterion=gini, max_depth=3, n_estimators=10, score=0.963314 -   0.0s\n",
      "[CV] criterion=gini, max_depth=3, n_estimators=10 ....................\n",
      "[CV]  criterion=gini, max_depth=3, n_estimators=10, score=0.975148 -   0.0s\n",
      "[CV] criterion=gini, max_depth=3, n_estimators=10 ....................\n"
     ]
    },
    {
     "name": "stderr",
     "output_type": "stream",
     "text": [
      "[Parallel(n_jobs=1)]: Done   1 out of   1 | elapsed:    0.0s remaining:    0.0s\n",
      "[Parallel(n_jobs=1)]: Done   2 out of   2 | elapsed:    0.0s remaining:    0.0s\n",
      "[Parallel(n_jobs=1)]: Done   3 out of   3 | elapsed:    0.0s remaining:    0.0s\n"
     ]
    },
    {
     "name": "stdout",
     "output_type": "stream",
     "text": [
      "[CV]  criterion=gini, max_depth=3, n_estimators=10, score=0.963270 -   0.0s\n",
      "[CV] criterion=gini, max_depth=3, n_estimators=20 ....................\n",
      "[CV]  criterion=gini, max_depth=3, n_estimators=20, score=0.962130 -   0.1s\n",
      "[CV] criterion=gini, max_depth=3, n_estimators=20 ....................\n",
      "[CV]  criterion=gini, max_depth=3, n_estimators=20, score=0.959763 -   0.1s\n",
      "[CV] criterion=gini, max_depth=3, n_estimators=20 ....................\n",
      "[CV]  criterion=gini, max_depth=3, n_estimators=20, score=0.932464 -   0.1s\n",
      "[CV] criterion=gini, max_depth=3, n_estimators=30 ....................\n",
      "[CV]  criterion=gini, max_depth=3, n_estimators=30, score=0.960947 -   0.1s\n",
      "[CV] criterion=gini, max_depth=3, n_estimators=30 ....................\n",
      "[CV]  criterion=gini, max_depth=3, n_estimators=30, score=0.972781 -   0.1s\n",
      "[CV] criterion=gini, max_depth=3, n_estimators=30 ....................\n",
      "[CV]  criterion=gini, max_depth=3, n_estimators=30, score=0.957346 -   0.1s\n",
      "[CV] criterion=gini, max_depth=3, n_estimators=40 ....................\n",
      "[CV]  criterion=gini, max_depth=3, n_estimators=40, score=0.965680 -   0.1s\n",
      "[CV] criterion=gini, max_depth=3, n_estimators=40 ....................\n",
      "[CV]  criterion=gini, max_depth=3, n_estimators=40, score=0.976331 -   0.1s\n",
      "[CV] criterion=gini, max_depth=3, n_estimators=40 ....................\n",
      "[CV]  criterion=gini, max_depth=3, n_estimators=40, score=0.963270 -   0.1s\n",
      "[CV] criterion=gini, max_depth=5, n_estimators=3 .....................\n",
      "[CV]  criterion=gini, max_depth=5, n_estimators=3, score=0.946746 -   0.0s\n",
      "[CV] criterion=gini, max_depth=5, n_estimators=3 .....................\n",
      "[CV]  criterion=gini, max_depth=5, n_estimators=3, score=0.970414 -   0.0s\n",
      "[CV] criterion=gini, max_depth=5, n_estimators=3 .....................\n",
      "[CV]  criterion=gini, max_depth=5, n_estimators=3, score=0.965640 -   0.0s\n",
      "[CV] criterion=gini, max_depth=5, n_estimators=5 .....................\n",
      "[CV]  criterion=gini, max_depth=5, n_estimators=5, score=0.959763 -   0.0s\n",
      "[CV] criterion=gini, max_depth=5, n_estimators=5 .....................\n",
      "[CV]  criterion=gini, max_depth=5, n_estimators=5, score=0.977515 -   0.0s\n",
      "[CV] criterion=gini, max_depth=5, n_estimators=5 .....................\n",
      "[CV]  criterion=gini, max_depth=5, n_estimators=5, score=0.944313 -   0.0s\n",
      "[CV] criterion=gini, max_depth=5, n_estimators=10 ....................\n",
      "[CV]  criterion=gini, max_depth=5, n_estimators=10, score=0.965680 -   0.0s\n",
      "[CV] criterion=gini, max_depth=5, n_estimators=10 ....................\n",
      "[CV]  criterion=gini, max_depth=5, n_estimators=10, score=0.985799 -   0.0s\n",
      "[CV] criterion=gini, max_depth=5, n_estimators=10 ....................\n",
      "[CV]  criterion=gini, max_depth=5, n_estimators=10, score=0.969194 -   0.0s\n",
      "[CV] criterion=gini, max_depth=5, n_estimators=20 ....................\n",
      "[CV]  criterion=gini, max_depth=5, n_estimators=20, score=0.968047 -   0.1s\n",
      "[CV] criterion=gini, max_depth=5, n_estimators=20 ....................\n",
      "[CV]  criterion=gini, max_depth=5, n_estimators=20, score=0.982249 -   0.1s\n",
      "[CV] criterion=gini, max_depth=5, n_estimators=20 ....................\n",
      "[CV]  criterion=gini, max_depth=5, n_estimators=20, score=0.965640 -   0.1s\n",
      "[CV] criterion=gini, max_depth=5, n_estimators=30 ....................\n",
      "[CV]  criterion=gini, max_depth=5, n_estimators=30, score=0.970414 -   0.1s\n",
      "[CV] criterion=gini, max_depth=5, n_estimators=30 ....................\n",
      "[CV]  criterion=gini, max_depth=5, n_estimators=30, score=0.981065 -   0.1s\n",
      "[CV] criterion=gini, max_depth=5, n_estimators=30 ....................\n",
      "[CV]  criterion=gini, max_depth=5, n_estimators=30, score=0.960900 -   0.1s\n",
      "[CV] criterion=gini, max_depth=5, n_estimators=40 ....................\n",
      "[CV]  criterion=gini, max_depth=5, n_estimators=40, score=0.971598 -   0.1s\n",
      "[CV] criterion=gini, max_depth=5, n_estimators=40 ....................\n",
      "[CV]  criterion=gini, max_depth=5, n_estimators=40, score=0.982249 -   0.1s\n",
      "[CV] criterion=gini, max_depth=5, n_estimators=40 ....................\n",
      "[CV]  criterion=gini, max_depth=5, n_estimators=40, score=0.968009 -   0.1s\n",
      "[CV] criterion=gini, max_depth=7, n_estimators=3 .....................\n",
      "[CV]  criterion=gini, max_depth=7, n_estimators=3, score=0.945562 -   0.0s\n",
      "[CV] criterion=gini, max_depth=7, n_estimators=3 .....................\n",
      "[CV]  criterion=gini, max_depth=7, n_estimators=3, score=0.976331 -   0.0s\n",
      "[CV] criterion=gini, max_depth=7, n_estimators=3 .....................\n",
      "[CV]  criterion=gini, max_depth=7, n_estimators=3, score=0.959716 -   0.0s\n",
      "[CV] criterion=gini, max_depth=7, n_estimators=5 .....................\n",
      "[CV]  criterion=gini, max_depth=7, n_estimators=5, score=0.970414 -   0.0s\n",
      "[CV] criterion=gini, max_depth=7, n_estimators=5 .....................\n",
      "[CV]  criterion=gini, max_depth=7, n_estimators=5, score=0.975148 -   0.0s\n",
      "[CV] criterion=gini, max_depth=7, n_estimators=5 .....................\n",
      "[CV]  criterion=gini, max_depth=7, n_estimators=5, score=0.966825 -   0.0s\n",
      "[CV] criterion=gini, max_depth=7, n_estimators=10 ....................\n",
      "[CV]  criterion=gini, max_depth=7, n_estimators=10, score=0.981065 -   0.0s\n",
      "[CV] criterion=gini, max_depth=7, n_estimators=10 ....................\n",
      "[CV]  criterion=gini, max_depth=7, n_estimators=10, score=0.984615 -   0.0s\n",
      "[CV] criterion=gini, max_depth=7, n_estimators=10 ....................\n",
      "[CV]  criterion=gini, max_depth=7, n_estimators=10, score=0.965640 -   0.0s\n",
      "[CV] criterion=gini, max_depth=7, n_estimators=20 ....................\n",
      "[CV]  criterion=gini, max_depth=7, n_estimators=20, score=0.977515 -   0.1s\n",
      "[CV] criterion=gini, max_depth=7, n_estimators=20 ....................\n",
      "[CV]  criterion=gini, max_depth=7, n_estimators=20, score=0.988166 -   0.1s\n",
      "[CV] criterion=gini, max_depth=7, n_estimators=20 ....................\n",
      "[CV]  criterion=gini, max_depth=7, n_estimators=20, score=0.966825 -   0.1s\n",
      "[CV] criterion=gini, max_depth=7, n_estimators=30 ....................\n",
      "[CV]  criterion=gini, max_depth=7, n_estimators=30, score=0.978698 -   0.1s\n",
      "[CV] criterion=gini, max_depth=7, n_estimators=30 ....................\n",
      "[CV]  criterion=gini, max_depth=7, n_estimators=30, score=0.984615 -   0.1s\n",
      "[CV] criterion=gini, max_depth=7, n_estimators=30 ....................\n",
      "[CV]  criterion=gini, max_depth=7, n_estimators=30, score=0.968009 -   0.1s\n",
      "[CV] criterion=gini, max_depth=7, n_estimators=40 ....................\n",
      "[CV]  criterion=gini, max_depth=7, n_estimators=40, score=0.976331 -   0.1s\n",
      "[CV] criterion=gini, max_depth=7, n_estimators=40 ....................\n",
      "[CV]  criterion=gini, max_depth=7, n_estimators=40, score=0.986982 -   0.2s\n",
      "[CV] criterion=gini, max_depth=7, n_estimators=40 ....................\n",
      "[CV]  criterion=gini, max_depth=7, n_estimators=40, score=0.969194 -   0.1s\n",
      "[CV] criterion=entropy, max_depth=3, n_estimators=3 ..................\n",
      "[CV]  criterion=entropy, max_depth=3, n_estimators=3, score=0.949112 -   0.0s\n",
      "[CV] criterion=entropy, max_depth=3, n_estimators=3 ..................\n",
      "[CV]  criterion=entropy, max_depth=3, n_estimators=3, score=0.947929 -   0.0s\n",
      "[CV] criterion=entropy, max_depth=3, n_estimators=3 ..................\n",
      "[CV]  criterion=entropy, max_depth=3, n_estimators=3, score=0.951422 -   0.0s\n",
      "[CV] criterion=entropy, max_depth=3, n_estimators=5 ..................\n",
      "[CV]  criterion=entropy, max_depth=3, n_estimators=5, score=0.957396 -   0.0s\n",
      "[CV] criterion=entropy, max_depth=3, n_estimators=5 ..................\n",
      "[CV]  criterion=entropy, max_depth=3, n_estimators=5, score=0.936095 -   0.0s\n",
      "[CV] criterion=entropy, max_depth=3, n_estimators=5 ..................\n",
      "[CV]  criterion=entropy, max_depth=3, n_estimators=5, score=0.964455 -   0.0s\n",
      "[CV] criterion=entropy, max_depth=3, n_estimators=10 .................\n",
      "[CV]  criterion=entropy, max_depth=3, n_estimators=10, score=0.915976 -   0.0s\n",
      "[CV] criterion=entropy, max_depth=3, n_estimators=10 .................\n",
      "[CV]  criterion=entropy, max_depth=3, n_estimators=10, score=0.970414 -   0.0s\n",
      "[CV] criterion=entropy, max_depth=3, n_estimators=10 .................\n",
      "[CV]  criterion=entropy, max_depth=3, n_estimators=10, score=0.956161 -   0.0s\n",
      "[CV] criterion=entropy, max_depth=3, n_estimators=20 .................\n",
      "[CV]  criterion=entropy, max_depth=3, n_estimators=20, score=0.960947 -   0.1s\n",
      "[CV] criterion=entropy, max_depth=3, n_estimators=20 .................\n",
      "[CV]  criterion=entropy, max_depth=3, n_estimators=20, score=0.973964 -   0.1s\n",
      "[CV] criterion=entropy, max_depth=3, n_estimators=20 .................\n",
      "[CV]  criterion=entropy, max_depth=3, n_estimators=20, score=0.954976 -   0.1s\n",
      "[CV] criterion=entropy, max_depth=3, n_estimators=30 .................\n"
     ]
    },
    {
     "name": "stdout",
     "output_type": "stream",
     "text": [
      "[CV]  criterion=entropy, max_depth=3, n_estimators=30, score=0.963314 -   0.1s\n",
      "[CV] criterion=entropy, max_depth=3, n_estimators=30 .................\n",
      "[CV]  criterion=entropy, max_depth=3, n_estimators=30, score=0.972781 -   0.1s\n",
      "[CV] criterion=entropy, max_depth=3, n_estimators=30 .................\n",
      "[CV]  criterion=entropy, max_depth=3, n_estimators=30, score=0.962085 -   0.1s\n",
      "[CV] criterion=entropy, max_depth=3, n_estimators=40 .................\n",
      "[CV]  criterion=entropy, max_depth=3, n_estimators=40, score=0.953846 -   0.1s\n",
      "[CV] criterion=entropy, max_depth=3, n_estimators=40 .................\n",
      "[CV]  criterion=entropy, max_depth=3, n_estimators=40, score=0.971598 -   0.1s\n",
      "[CV] criterion=entropy, max_depth=3, n_estimators=40 .................\n",
      "[CV]  criterion=entropy, max_depth=3, n_estimators=40, score=0.960900 -   0.1s\n",
      "[CV] criterion=entropy, max_depth=5, n_estimators=3 ..................\n",
      "[CV]  criterion=entropy, max_depth=5, n_estimators=3, score=0.971598 -   0.0s\n",
      "[CV] criterion=entropy, max_depth=5, n_estimators=3 ..................\n",
      "[CV]  criterion=entropy, max_depth=5, n_estimators=3, score=0.969231 -   0.0s\n",
      "[CV] criterion=entropy, max_depth=5, n_estimators=3 ..................\n",
      "[CV]  criterion=entropy, max_depth=5, n_estimators=3, score=0.952607 -   0.0s\n",
      "[CV] criterion=entropy, max_depth=5, n_estimators=5 ..................\n",
      "[CV]  criterion=entropy, max_depth=5, n_estimators=5, score=0.973964 -   0.0s\n",
      "[CV] criterion=entropy, max_depth=5, n_estimators=5 ..................\n",
      "[CV]  criterion=entropy, max_depth=5, n_estimators=5, score=0.972781 -   0.0s\n",
      "[CV] criterion=entropy, max_depth=5, n_estimators=5 ..................\n",
      "[CV]  criterion=entropy, max_depth=5, n_estimators=5, score=0.965640 -   0.0s\n",
      "[CV] criterion=entropy, max_depth=5, n_estimators=10 .................\n",
      "[CV]  criterion=entropy, max_depth=5, n_estimators=10, score=0.972781 -   0.0s\n",
      "[CV] criterion=entropy, max_depth=5, n_estimators=10 .................\n",
      "[CV]  criterion=entropy, max_depth=5, n_estimators=10, score=0.982249 -   0.0s\n",
      "[CV] criterion=entropy, max_depth=5, n_estimators=10 .................\n",
      "[CV]  criterion=entropy, max_depth=5, n_estimators=10, score=0.964455 -   0.0s\n",
      "[CV] criterion=entropy, max_depth=5, n_estimators=20 .................\n",
      "[CV]  criterion=entropy, max_depth=5, n_estimators=20, score=0.969231 -   0.1s\n",
      "[CV] criterion=entropy, max_depth=5, n_estimators=20 .................\n",
      "[CV]  criterion=entropy, max_depth=5, n_estimators=20, score=0.986982 -   0.1s\n",
      "[CV] criterion=entropy, max_depth=5, n_estimators=20 .................\n",
      "[CV]  criterion=entropy, max_depth=5, n_estimators=20, score=0.963270 -   0.1s\n",
      "[CV] criterion=entropy, max_depth=5, n_estimators=30 .................\n",
      "[CV]  criterion=entropy, max_depth=5, n_estimators=30, score=0.976331 -   0.1s\n",
      "[CV] criterion=entropy, max_depth=5, n_estimators=30 .................\n",
      "[CV]  criterion=entropy, max_depth=5, n_estimators=30, score=0.986982 -   0.1s\n",
      "[CV] criterion=entropy, max_depth=5, n_estimators=30 .................\n",
      "[CV]  criterion=entropy, max_depth=5, n_estimators=30, score=0.968009 -   0.1s\n",
      "[CV] criterion=entropy, max_depth=5, n_estimators=40 .................\n",
      "[CV]  criterion=entropy, max_depth=5, n_estimators=40, score=0.972781 -   0.2s\n",
      "[CV] criterion=entropy, max_depth=5, n_estimators=40 .................\n",
      "[CV]  criterion=entropy, max_depth=5, n_estimators=40, score=0.982249 -   0.2s\n",
      "[CV] criterion=entropy, max_depth=5, n_estimators=40 .................\n",
      "[CV]  criterion=entropy, max_depth=5, n_estimators=40, score=0.971564 -   0.1s\n",
      "[CV] criterion=entropy, max_depth=7, n_estimators=3 ..................\n",
      "[CV]  criterion=entropy, max_depth=7, n_estimators=3, score=0.973964 -   0.0s\n",
      "[CV] criterion=entropy, max_depth=7, n_estimators=3 ..................\n",
      "[CV]  criterion=entropy, max_depth=7, n_estimators=3, score=0.971598 -   0.0s\n",
      "[CV] criterion=entropy, max_depth=7, n_estimators=3 ..................\n",
      "[CV]  criterion=entropy, max_depth=7, n_estimators=3, score=0.966825 -   0.0s\n",
      "[CV] criterion=entropy, max_depth=7, n_estimators=5 ..................\n",
      "[CV]  criterion=entropy, max_depth=7, n_estimators=5, score=0.969231 -   0.0s\n",
      "[CV] criterion=entropy, max_depth=7, n_estimators=5 ..................\n",
      "[CV]  criterion=entropy, max_depth=7, n_estimators=5, score=0.975148 -   0.0s\n",
      "[CV] criterion=entropy, max_depth=7, n_estimators=5 ..................\n",
      "[CV]  criterion=entropy, max_depth=7, n_estimators=5, score=0.963270 -   0.0s\n",
      "[CV] criterion=entropy, max_depth=7, n_estimators=10 .................\n",
      "[CV]  criterion=entropy, max_depth=7, n_estimators=10, score=0.979882 -   0.1s\n",
      "[CV] criterion=entropy, max_depth=7, n_estimators=10 .................\n",
      "[CV]  criterion=entropy, max_depth=7, n_estimators=10, score=0.983432 -   0.1s\n",
      "[CV] criterion=entropy, max_depth=7, n_estimators=10 .................\n",
      "[CV]  criterion=entropy, max_depth=7, n_estimators=10, score=0.972749 -   0.0s\n",
      "[CV] criterion=entropy, max_depth=7, n_estimators=20 .................\n",
      "[CV]  criterion=entropy, max_depth=7, n_estimators=20, score=0.975148 -   0.1s\n",
      "[CV] criterion=entropy, max_depth=7, n_estimators=20 .................\n",
      "[CV]  criterion=entropy, max_depth=7, n_estimators=20, score=0.988166 -   0.1s\n",
      "[CV] criterion=entropy, max_depth=7, n_estimators=20 .................\n",
      "[CV]  criterion=entropy, max_depth=7, n_estimators=20, score=0.966825 -   0.1s\n",
      "[CV] criterion=entropy, max_depth=7, n_estimators=30 .................\n",
      "[CV]  criterion=entropy, max_depth=7, n_estimators=30, score=0.978698 -   0.1s\n",
      "[CV] criterion=entropy, max_depth=7, n_estimators=30 .................\n",
      "[CV]  criterion=entropy, max_depth=7, n_estimators=30, score=0.984615 -   0.1s\n",
      "[CV] criterion=entropy, max_depth=7, n_estimators=30 .................\n",
      "[CV]  criterion=entropy, max_depth=7, n_estimators=30, score=0.968009 -   0.1s\n",
      "[CV] criterion=entropy, max_depth=7, n_estimators=40 .................\n",
      "[CV]  criterion=entropy, max_depth=7, n_estimators=40, score=0.979882 -   0.2s\n",
      "[CV] criterion=entropy, max_depth=7, n_estimators=40 .................\n",
      "[CV]  criterion=entropy, max_depth=7, n_estimators=40, score=0.988166 -   0.2s\n",
      "[CV] criterion=entropy, max_depth=7, n_estimators=40 .................\n",
      "[CV]  criterion=entropy, max_depth=7, n_estimators=40, score=0.971564 -   0.2s\n"
     ]
    },
    {
     "name": "stderr",
     "output_type": "stream",
     "text": [
      "[Parallel(n_jobs=1)]: Done 108 out of 108 | elapsed:    6.9s finished\n"
     ]
    },
    {
     "data": {
      "text/plain": [
       "GridSearchCV(cv=None, error_score='raise',\n",
       "       estimator=RandomForestClassifier(bootstrap=True, class_weight=None, criterion='gini',\n",
       "            max_depth=None, max_features='auto', max_leaf_nodes=None,\n",
       "            min_impurity_decrease=0.0, min_impurity_split=None,\n",
       "            min_samples_leaf=1, min_samples_split=2,\n",
       "            min_weight_fraction_leaf=0.0, n_estimators=10, n_jobs=1,\n",
       "            oob_score=False, random_state=None, verbose=0,\n",
       "            warm_start=False),\n",
       "       fit_params={}, iid=True, n_jobs=1,\n",
       "       param_grid={'max_depth': [3, 5, 7], 'n_estimators': [3, 5, 10, 20, 30, 40], 'criterion': ['gini', 'entropy']},\n",
       "       pre_dispatch='2*n_jobs', refit=True, scoring=None, verbose=4)"
      ]
     },
     "execution_count": 86,
     "metadata": {},
     "output_type": "execute_result"
    }
   ],
   "source": [
    "from sklearn.ensemble import RandomForestClassifier\n",
    "\n",
    "param_grid = {'max_depth': [3,5,7],\n",
    "              'n_estimators':[3,5,10,20,30,40],\n",
    "              'criterion': ['gini', 'entropy']}\n",
    "from sklearn.grid_search import GridSearchCV\n",
    "rfc = GridSearchCV(RandomForestClassifier(),param_grid,refit=True,verbose=4)\n",
    "\n",
    "rfc.fit(X_train, y_train)"
   ]
  },
  {
   "cell_type": "code",
   "execution_count": 87,
   "metadata": {
    "collapsed": true
   },
   "outputs": [],
   "source": [
    "rfc_pred = rfc.predict(X_test)"
   ]
  },
  {
   "cell_type": "code",
   "execution_count": 88,
   "metadata": {},
   "outputs": [
    {
     "data": {
      "text/plain": [
       "[mean: 0.95067, std: 0.01449, params: {'criterion': 'gini', 'max_depth': 3, 'n_estimators': 3},\n",
       " mean: 0.96369, std: 0.00531, params: {'criterion': 'gini', 'max_depth': 3, 'n_estimators': 5},\n",
       " mean: 0.96725, std: 0.00559, params: {'criterion': 'gini', 'max_depth': 3, 'n_estimators': 10},\n",
       " mean: 0.95146, std: 0.01346, params: {'criterion': 'gini', 'max_depth': 3, 'n_estimators': 20},\n",
       " mean: 0.96369, std: 0.00659, params: {'criterion': 'gini', 'max_depth': 3, 'n_estimators': 30},\n",
       " mean: 0.96843, std: 0.00567, params: {'criterion': 'gini', 'max_depth': 3, 'n_estimators': 40},\n",
       " mean: 0.96093, std: 0.01022, params: {'criterion': 'gini', 'max_depth': 5, 'n_estimators': 3},\n",
       " mean: 0.96054, std: 0.01357, params: {'criterion': 'gini', 'max_depth': 5, 'n_estimators': 5},\n",
       " mean: 0.97356, std: 0.00877, params: {'criterion': 'gini', 'max_depth': 5, 'n_estimators': 10},\n",
       " mean: 0.97198, std: 0.00733, params: {'criterion': 'gini', 'max_depth': 5, 'n_estimators': 20},\n",
       " mean: 0.97080, std: 0.00824, params: {'criterion': 'gini', 'max_depth': 5, 'n_estimators': 30},\n",
       " mean: 0.97395, std: 0.00605, params: {'criterion': 'gini', 'max_depth': 5, 'n_estimators': 40},\n",
       " mean: 0.96054, std: 0.01257, params: {'criterion': 'gini', 'max_depth': 7, 'n_estimators': 3},\n",
       " mean: 0.97080, std: 0.00341, params: {'criterion': 'gini', 'max_depth': 7, 'n_estimators': 5},\n",
       " mean: 0.97711, std: 0.00824, params: {'criterion': 'gini', 'max_depth': 7, 'n_estimators': 10},\n",
       " mean: 0.97751, std: 0.00871, params: {'criterion': 'gini', 'max_depth': 7, 'n_estimators': 20},\n",
       " mean: 0.97711, std: 0.00687, params: {'criterion': 'gini', 'max_depth': 7, 'n_estimators': 30},\n",
       " mean: 0.97751, std: 0.00731, params: {'criterion': 'gini', 'max_depth': 7, 'n_estimators': 40},\n",
       " mean: 0.94949, std: 0.00145, params: {'criterion': 'entropy', 'max_depth': 3, 'n_estimators': 3},\n",
       " mean: 0.95264, std: 0.01205, params: {'criterion': 'entropy', 'max_depth': 3, 'n_estimators': 5},\n",
       " mean: 0.94751, std: 0.02305, params: {'criterion': 'entropy', 'max_depth': 3, 'n_estimators': 10},\n",
       " mean: 0.96330, std: 0.00793, params: {'criterion': 'entropy', 'max_depth': 3, 'n_estimators': 20},\n",
       " mean: 0.96606, std: 0.00478, params: {'criterion': 'entropy', 'max_depth': 3, 'n_estimators': 30},\n",
       " mean: 0.96212, std: 0.00730, params: {'criterion': 'entropy', 'max_depth': 3, 'n_estimators': 40},\n",
       " mean: 0.96448, std: 0.00845, params: {'criterion': 'entropy', 'max_depth': 5, 'n_estimators': 3},\n",
       " mean: 0.97080, std: 0.00368, params: {'criterion': 'entropy', 'max_depth': 5, 'n_estimators': 5},\n",
       " mean: 0.97316, std: 0.00727, params: {'criterion': 'entropy', 'max_depth': 5, 'n_estimators': 10},\n",
       " mean: 0.97316, std: 0.01007, params: {'criterion': 'entropy', 'max_depth': 5, 'n_estimators': 20},\n",
       " mean: 0.97711, std: 0.00777, params: {'criterion': 'entropy', 'max_depth': 5, 'n_estimators': 30},\n",
       " mean: 0.97553, std: 0.00478, params: {'criterion': 'entropy', 'max_depth': 5, 'n_estimators': 40},\n",
       " mean: 0.97080, std: 0.00297, params: {'criterion': 'entropy', 'max_depth': 7, 'n_estimators': 3},\n",
       " mean: 0.96922, std: 0.00485, params: {'criterion': 'entropy', 'max_depth': 7, 'n_estimators': 5},\n",
       " mean: 0.97869, std: 0.00444, params: {'criterion': 'entropy', 'max_depth': 7, 'n_estimators': 10},\n",
       " mean: 0.97672, std: 0.00878, params: {'criterion': 'entropy', 'max_depth': 7, 'n_estimators': 20},\n",
       " mean: 0.97711, std: 0.00687, params: {'criterion': 'entropy', 'max_depth': 7, 'n_estimators': 30},\n",
       " mean: 0.97987, std: 0.00678, params: {'criterion': 'entropy', 'max_depth': 7, 'n_estimators': 40}]"
      ]
     },
     "execution_count": 88,
     "metadata": {},
     "output_type": "execute_result"
    }
   ],
   "source": [
    "rfc.grid_scores_"
   ]
  },
  {
   "cell_type": "code",
   "execution_count": 89,
   "metadata": {},
   "outputs": [
    {
     "name": "stdout",
     "output_type": "stream",
     "text": [
      "Best score: 0.9798737174427782\n",
      "Best parameter set: {'criterion': 'entropy', 'max_depth': 7, 'n_estimators': 40}\n"
     ]
    }
   ],
   "source": [
    "print(\"Best score: %s\" % (rfc.best_score_))\n",
    "print(\"Best parameter set: %s\" % (rfc.best_params_))"
   ]
  },
  {
   "cell_type": "code",
   "execution_count": 90,
   "metadata": {},
   "outputs": [
    {
     "name": "stdout",
     "output_type": "stream",
     "text": [
      "[[318   7]\n",
      " [  8 301]]\n",
      "Accuracy: 97.63%\n"
     ]
    }
   ],
   "source": [
    "print(confusion_matrix(y_test,rfc_pred))\n",
    "accuracy=confusion_matrix(y_test,rfc_pred).trace()/confusion_matrix(y_test,rfc_pred).sum()\n",
    "print(\"Accuracy: %.2f%%\" % (accuracy * 100.0))"
   ]
  },
  {
   "cell_type": "code",
   "execution_count": 91,
   "metadata": {},
   "outputs": [
    {
     "name": "stdout",
     "output_type": "stream",
     "text": [
      "             precision    recall  f1-score   support\n",
      "\n",
      "        0.0       0.98      0.98      0.98       325\n",
      "        1.0       0.98      0.97      0.98       309\n",
      "\n",
      "avg / total       0.98      0.98      0.98       634\n",
      "\n"
     ]
    }
   ],
   "source": [
    "print(classification_report(y_test,rfc_pred))"
   ]
  },
  {
   "cell_type": "code",
   "execution_count": 94,
   "metadata": {},
   "outputs": [
    {
     "name": "stdout",
     "output_type": "stream",
     "text": [
      "Fitting 3 folds for each of 36 candidates, totalling 108 fits\n",
      "[CV] criterion=gini, max_depth=3, n_estimators=3 .....................\n",
      "[CV]  criterion=gini, max_depth=3, n_estimators=3, score=0.951537 -   0.0s\n",
      "[CV] criterion=gini, max_depth=3, n_estimators=3 .....................\n",
      "[CV]  criterion=gini, max_depth=3, n_estimators=3, score=0.989336 -   0.0s\n",
      "[CV] criterion=gini, max_depth=3, n_estimators=3 .....................\n",
      "[CV]  criterion=gini, max_depth=3, n_estimators=3, score=0.945498 -   0.0s\n",
      "[CV] criterion=gini, max_depth=3, n_estimators=5 .....................\n",
      "[CV]  criterion=gini, max_depth=3, n_estimators=5, score=0.957447 -   0.0s\n",
      "[CV] criterion=gini, max_depth=3, n_estimators=5 .....................\n",
      "[CV]  criterion=gini, max_depth=3, n_estimators=5, score=0.977488 -   0.0s\n",
      "[CV] criterion=gini, max_depth=3, n_estimators=5 .....................\n",
      "[CV]  criterion=gini, max_depth=3, n_estimators=5, score=0.951422 -   0.0s\n",
      "[CV] criterion=gini, max_depth=3, n_estimators=10 ....................\n",
      "[CV]  criterion=gini, max_depth=3, n_estimators=10, score=0.947991 -   0.0s\n",
      "[CV] criterion=gini, max_depth=3, n_estimators=10 ....................\n",
      "[CV]  criterion=gini, max_depth=3, n_estimators=10, score=0.988152 -   0.0s\n",
      "[CV] criterion=gini, max_depth=3, n_estimators=10 ....................\n"
     ]
    },
    {
     "name": "stderr",
     "output_type": "stream",
     "text": [
      "[Parallel(n_jobs=1)]: Done   1 out of   1 | elapsed:    0.0s remaining:    0.0s\n",
      "[Parallel(n_jobs=1)]: Done   2 out of   2 | elapsed:    0.0s remaining:    0.0s\n",
      "[Parallel(n_jobs=1)]: Done   3 out of   3 | elapsed:    0.0s remaining:    0.0s\n"
     ]
    },
    {
     "name": "stdout",
     "output_type": "stream",
     "text": [
      "[CV]  criterion=gini, max_depth=3, n_estimators=10, score=0.956161 -   0.0s\n",
      "[CV] criterion=gini, max_depth=3, n_estimators=20 ....................\n",
      "[CV]  criterion=gini, max_depth=3, n_estimators=20, score=0.960993 -   0.1s\n",
      "[CV] criterion=gini, max_depth=3, n_estimators=20 ....................\n",
      "[CV]  criterion=gini, max_depth=3, n_estimators=20, score=0.970379 -   0.1s\n",
      "[CV] criterion=gini, max_depth=3, n_estimators=20 ....................\n",
      "[CV]  criterion=gini, max_depth=3, n_estimators=20, score=0.958531 -   0.1s\n",
      "[CV] criterion=gini, max_depth=3, n_estimators=30 ....................\n",
      "[CV]  criterion=gini, max_depth=3, n_estimators=30, score=0.953901 -   0.1s\n",
      "[CV] criterion=gini, max_depth=3, n_estimators=30 ....................\n",
      "[CV]  criterion=gini, max_depth=3, n_estimators=30, score=0.976303 -   0.1s\n",
      "[CV] criterion=gini, max_depth=3, n_estimators=30 ....................\n",
      "[CV]  criterion=gini, max_depth=3, n_estimators=30, score=0.968009 -   0.1s\n",
      "[CV] criterion=gini, max_depth=3, n_estimators=40 ....................\n",
      "[CV]  criterion=gini, max_depth=3, n_estimators=40, score=0.952719 -   0.1s\n",
      "[CV] criterion=gini, max_depth=3, n_estimators=40 ....................\n",
      "[CV]  criterion=gini, max_depth=3, n_estimators=40, score=0.988152 -   0.1s\n",
      "[CV] criterion=gini, max_depth=3, n_estimators=40 ....................\n",
      "[CV]  criterion=gini, max_depth=3, n_estimators=40, score=0.951422 -   0.1s\n",
      "[CV] criterion=gini, max_depth=5, n_estimators=3 .....................\n",
      "[CV]  criterion=gini, max_depth=5, n_estimators=3, score=0.951537 -   0.0s\n",
      "[CV] criterion=gini, max_depth=5, n_estimators=3 .....................\n",
      "[CV]  criterion=gini, max_depth=5, n_estimators=3, score=0.982227 -   0.0s\n",
      "[CV] criterion=gini, max_depth=5, n_estimators=3 .....................\n",
      "[CV]  criterion=gini, max_depth=5, n_estimators=3, score=0.953791 -   0.0s\n",
      "[CV] criterion=gini, max_depth=5, n_estimators=5 .....................\n",
      "[CV]  criterion=gini, max_depth=5, n_estimators=5, score=0.950355 -   0.0s\n",
      "[CV] criterion=gini, max_depth=5, n_estimators=5 .....................\n",
      "[CV]  criterion=gini, max_depth=5, n_estimators=5, score=0.979858 -   0.0s\n",
      "[CV] criterion=gini, max_depth=5, n_estimators=5 .....................\n",
      "[CV]  criterion=gini, max_depth=5, n_estimators=5, score=0.932464 -   0.0s\n",
      "[CV] criterion=gini, max_depth=5, n_estimators=10 ....................\n",
      "[CV]  criterion=gini, max_depth=5, n_estimators=10, score=0.947991 -   0.0s\n",
      "[CV] criterion=gini, max_depth=5, n_estimators=10 ....................\n",
      "[CV]  criterion=gini, max_depth=5, n_estimators=10, score=0.969194 -   0.0s\n",
      "[CV] criterion=gini, max_depth=5, n_estimators=10 ....................\n",
      "[CV]  criterion=gini, max_depth=5, n_estimators=10, score=0.965640 -   0.0s\n",
      "[CV] criterion=gini, max_depth=5, n_estimators=20 ....................\n",
      "[CV]  criterion=gini, max_depth=5, n_estimators=20, score=0.953901 -   0.1s\n",
      "[CV] criterion=gini, max_depth=5, n_estimators=20 ....................\n",
      "[CV]  criterion=gini, max_depth=5, n_estimators=20, score=0.983412 -   0.1s\n",
      "[CV] criterion=gini, max_depth=5, n_estimators=20 ....................\n",
      "[CV]  criterion=gini, max_depth=5, n_estimators=20, score=0.966825 -   0.1s\n",
      "[CV] criterion=gini, max_depth=5, n_estimators=30 ....................\n",
      "[CV]  criterion=gini, max_depth=5, n_estimators=30, score=0.959811 -   0.1s\n",
      "[CV] criterion=gini, max_depth=5, n_estimators=30 ....................\n",
      "[CV]  criterion=gini, max_depth=5, n_estimators=30, score=0.988152 -   0.1s\n",
      "[CV] criterion=gini, max_depth=5, n_estimators=30 ....................\n",
      "[CV]  criterion=gini, max_depth=5, n_estimators=30, score=0.960900 -   0.1s\n",
      "[CV] criterion=gini, max_depth=5, n_estimators=40 ....................\n",
      "[CV]  criterion=gini, max_depth=5, n_estimators=40, score=0.957447 -   0.1s\n",
      "[CV] criterion=gini, max_depth=5, n_estimators=40 ....................\n",
      "[CV]  criterion=gini, max_depth=5, n_estimators=40, score=0.986967 -   0.1s\n",
      "[CV] criterion=gini, max_depth=5, n_estimators=40 ....................\n",
      "[CV]  criterion=gini, max_depth=5, n_estimators=40, score=0.964455 -   0.1s\n",
      "[CV] criterion=gini, max_depth=7, n_estimators=3 .....................\n",
      "[CV]  criterion=gini, max_depth=7, n_estimators=3, score=0.938534 -   0.0s\n",
      "[CV] criterion=gini, max_depth=7, n_estimators=3 .....................\n",
      "[CV]  criterion=gini, max_depth=7, n_estimators=3, score=0.972749 -   0.0s\n",
      "[CV] criterion=gini, max_depth=7, n_estimators=3 .....................\n",
      "[CV]  criterion=gini, max_depth=7, n_estimators=3, score=0.949052 -   0.0s\n",
      "[CV] criterion=gini, max_depth=7, n_estimators=5 .....................\n",
      "[CV]  criterion=gini, max_depth=7, n_estimators=5, score=0.950355 -   0.0s\n",
      "[CV] criterion=gini, max_depth=7, n_estimators=5 .....................\n",
      "[CV]  criterion=gini, max_depth=7, n_estimators=5, score=0.972749 -   0.0s\n",
      "[CV] criterion=gini, max_depth=7, n_estimators=5 .....................\n",
      "[CV]  criterion=gini, max_depth=7, n_estimators=5, score=0.946682 -   0.0s\n",
      "[CV] criterion=gini, max_depth=7, n_estimators=10 ....................\n",
      "[CV]  criterion=gini, max_depth=7, n_estimators=10, score=0.963357 -   0.0s\n",
      "[CV] criterion=gini, max_depth=7, n_estimators=10 ....................\n",
      "[CV]  criterion=gini, max_depth=7, n_estimators=10, score=0.989336 -   0.0s\n",
      "[CV] criterion=gini, max_depth=7, n_estimators=10 ....................\n",
      "[CV]  criterion=gini, max_depth=7, n_estimators=10, score=0.962085 -   0.0s\n",
      "[CV] criterion=gini, max_depth=7, n_estimators=20 ....................\n",
      "[CV]  criterion=gini, max_depth=7, n_estimators=20, score=0.949173 -   0.1s\n",
      "[CV] criterion=gini, max_depth=7, n_estimators=20 ....................\n",
      "[CV]  criterion=gini, max_depth=7, n_estimators=20, score=0.988152 -   0.1s\n",
      "[CV] criterion=gini, max_depth=7, n_estimators=20 ....................\n",
      "[CV]  criterion=gini, max_depth=7, n_estimators=20, score=0.958531 -   0.1s\n",
      "[CV] criterion=gini, max_depth=7, n_estimators=30 ....................\n",
      "[CV]  criterion=gini, max_depth=7, n_estimators=30, score=0.958629 -   0.1s\n",
      "[CV] criterion=gini, max_depth=7, n_estimators=30 ....................\n",
      "[CV]  criterion=gini, max_depth=7, n_estimators=30, score=0.983412 -   0.1s\n",
      "[CV] criterion=gini, max_depth=7, n_estimators=30 ....................\n",
      "[CV]  criterion=gini, max_depth=7, n_estimators=30, score=0.953791 -   0.1s\n",
      "[CV] criterion=gini, max_depth=7, n_estimators=40 ....................\n",
      "[CV]  criterion=gini, max_depth=7, n_estimators=40, score=0.963357 -   0.2s\n",
      "[CV] criterion=gini, max_depth=7, n_estimators=40 ....................\n",
      "[CV]  criterion=gini, max_depth=7, n_estimators=40, score=0.986967 -   0.2s\n",
      "[CV] criterion=gini, max_depth=7, n_estimators=40 ....................\n",
      "[CV]  criterion=gini, max_depth=7, n_estimators=40, score=0.957346 -   0.2s\n",
      "[CV] criterion=entropy, max_depth=3, n_estimators=3 ..................\n",
      "[CV]  criterion=entropy, max_depth=3, n_estimators=3, score=0.923168 -   0.0s\n",
      "[CV] criterion=entropy, max_depth=3, n_estimators=3 ..................\n",
      "[CV]  criterion=entropy, max_depth=3, n_estimators=3, score=0.971564 -   0.0s\n",
      "[CV] criterion=entropy, max_depth=3, n_estimators=3 ..................\n",
      "[CV]  criterion=entropy, max_depth=3, n_estimators=3, score=0.934834 -   0.0s\n",
      "[CV] criterion=entropy, max_depth=3, n_estimators=5 ..................\n",
      "[CV]  criterion=entropy, max_depth=3, n_estimators=5, score=0.945626 -   0.0s\n",
      "[CV] criterion=entropy, max_depth=3, n_estimators=5 ..................\n",
      "[CV]  criterion=entropy, max_depth=3, n_estimators=5, score=0.972749 -   0.0s\n",
      "[CV] criterion=entropy, max_depth=3, n_estimators=5 ..................\n",
      "[CV]  criterion=entropy, max_depth=3, n_estimators=5, score=0.922986 -   0.0s\n",
      "[CV] criterion=entropy, max_depth=3, n_estimators=10 .................\n",
      "[CV]  criterion=entropy, max_depth=3, n_estimators=10, score=0.960993 -   0.0s\n",
      "[CV] criterion=entropy, max_depth=3, n_estimators=10 .................\n",
      "[CV]  criterion=entropy, max_depth=3, n_estimators=10, score=0.970379 -   0.0s\n",
      "[CV] criterion=entropy, max_depth=3, n_estimators=10 .................\n",
      "[CV]  criterion=entropy, max_depth=3, n_estimators=10, score=0.951422 -   0.0s\n",
      "[CV] criterion=entropy, max_depth=3, n_estimators=20 .................\n",
      "[CV]  criterion=entropy, max_depth=3, n_estimators=20, score=0.952719 -   0.1s\n",
      "[CV] criterion=entropy, max_depth=3, n_estimators=20 .................\n",
      "[CV]  criterion=entropy, max_depth=3, n_estimators=20, score=0.982227 -   0.1s\n",
      "[CV] criterion=entropy, max_depth=3, n_estimators=20 .................\n",
      "[CV]  criterion=entropy, max_depth=3, n_estimators=20, score=0.959716 -   0.1s\n",
      "[CV] criterion=entropy, max_depth=3, n_estimators=30 .................\n"
     ]
    },
    {
     "name": "stdout",
     "output_type": "stream",
     "text": [
      "[CV]  criterion=entropy, max_depth=3, n_estimators=30, score=0.953901 -   0.1s\n",
      "[CV] criterion=entropy, max_depth=3, n_estimators=30 .................\n",
      "[CV]  criterion=entropy, max_depth=3, n_estimators=30, score=0.978673 -   0.1s\n",
      "[CV] criterion=entropy, max_depth=3, n_estimators=30 .................\n",
      "[CV]  criterion=entropy, max_depth=3, n_estimators=30, score=0.943128 -   0.1s\n",
      "[CV] criterion=entropy, max_depth=3, n_estimators=40 .................\n",
      "[CV]  criterion=entropy, max_depth=3, n_estimators=40, score=0.952719 -   0.1s\n",
      "[CV] criterion=entropy, max_depth=3, n_estimators=40 .................\n",
      "[CV]  criterion=entropy, max_depth=3, n_estimators=40, score=0.985782 -   0.1s\n",
      "[CV] criterion=entropy, max_depth=3, n_estimators=40 .................\n",
      "[CV]  criterion=entropy, max_depth=3, n_estimators=40, score=0.953791 -   0.1s\n",
      "[CV] criterion=entropy, max_depth=5, n_estimators=3 ..................\n",
      "[CV]  criterion=entropy, max_depth=5, n_estimators=3, score=0.949173 -   0.0s\n",
      "[CV] criterion=entropy, max_depth=5, n_estimators=3 ..................\n",
      "[CV]  criterion=entropy, max_depth=5, n_estimators=3, score=0.953791 -   0.0s\n",
      "[CV] criterion=entropy, max_depth=5, n_estimators=3 ..................\n",
      "[CV]  criterion=entropy, max_depth=5, n_estimators=3, score=0.943128 -   0.0s\n",
      "[CV] criterion=entropy, max_depth=5, n_estimators=5 ..................\n",
      "[CV]  criterion=entropy, max_depth=5, n_estimators=5, score=0.953901 -   0.0s\n",
      "[CV] criterion=entropy, max_depth=5, n_estimators=5 ..................\n",
      "[CV]  criterion=entropy, max_depth=5, n_estimators=5, score=0.983412 -   0.0s\n",
      "[CV] criterion=entropy, max_depth=5, n_estimators=5 ..................\n",
      "[CV]  criterion=entropy, max_depth=5, n_estimators=5, score=0.956161 -   0.0s\n",
      "[CV] criterion=entropy, max_depth=5, n_estimators=10 .................\n",
      "[CV]  criterion=entropy, max_depth=5, n_estimators=10, score=0.955083 -   0.0s\n",
      "[CV] criterion=entropy, max_depth=5, n_estimators=10 .................\n",
      "[CV]  criterion=entropy, max_depth=5, n_estimators=10, score=0.986967 -   0.1s\n",
      "[CV] criterion=entropy, max_depth=5, n_estimators=10 .................\n",
      "[CV]  criterion=entropy, max_depth=5, n_estimators=10, score=0.956161 -   0.1s\n",
      "[CV] criterion=entropy, max_depth=5, n_estimators=20 .................\n",
      "[CV]  criterion=entropy, max_depth=5, n_estimators=20, score=0.960993 -   0.1s\n",
      "[CV] criterion=entropy, max_depth=5, n_estimators=20 .................\n",
      "[CV]  criterion=entropy, max_depth=5, n_estimators=20, score=0.982227 -   0.1s\n",
      "[CV] criterion=entropy, max_depth=5, n_estimators=20 .................\n",
      "[CV]  criterion=entropy, max_depth=5, n_estimators=20, score=0.959716 -   0.1s\n",
      "[CV] criterion=entropy, max_depth=5, n_estimators=30 .................\n",
      "[CV]  criterion=entropy, max_depth=5, n_estimators=30, score=0.956265 -   0.1s\n",
      "[CV] criterion=entropy, max_depth=5, n_estimators=30 .................\n",
      "[CV]  criterion=entropy, max_depth=5, n_estimators=30, score=0.981043 -   0.1s\n",
      "[CV] criterion=entropy, max_depth=5, n_estimators=30 .................\n",
      "[CV]  criterion=entropy, max_depth=5, n_estimators=30, score=0.963270 -   0.1s\n",
      "[CV] criterion=entropy, max_depth=5, n_estimators=40 .................\n",
      "[CV]  criterion=entropy, max_depth=5, n_estimators=40, score=0.963357 -   0.1s\n",
      "[CV] criterion=entropy, max_depth=5, n_estimators=40 .................\n",
      "[CV]  criterion=entropy, max_depth=5, n_estimators=40, score=0.982227 -   0.1s\n",
      "[CV] criterion=entropy, max_depth=5, n_estimators=40 .................\n",
      "[CV]  criterion=entropy, max_depth=5, n_estimators=40, score=0.962085 -   0.1s\n",
      "[CV] criterion=entropy, max_depth=7, n_estimators=3 ..................\n",
      "[CV]  criterion=entropy, max_depth=7, n_estimators=3, score=0.938534 -   0.0s\n",
      "[CV] criterion=entropy, max_depth=7, n_estimators=3 ..................\n",
      "[CV]  criterion=entropy, max_depth=7, n_estimators=3, score=0.964455 -   0.0s\n",
      "[CV] criterion=entropy, max_depth=7, n_estimators=3 ..................\n",
      "[CV]  criterion=entropy, max_depth=7, n_estimators=3, score=0.959716 -   0.0s\n",
      "[CV] criterion=entropy, max_depth=7, n_estimators=5 ..................\n",
      "[CV]  criterion=entropy, max_depth=7, n_estimators=5, score=0.946809 -   0.0s\n",
      "[CV] criterion=entropy, max_depth=7, n_estimators=5 ..................\n",
      "[CV]  criterion=entropy, max_depth=7, n_estimators=5, score=0.978673 -   0.0s\n",
      "[CV] criterion=entropy, max_depth=7, n_estimators=5 ..................\n",
      "[CV]  criterion=entropy, max_depth=7, n_estimators=5, score=0.956161 -   0.0s\n",
      "[CV] criterion=entropy, max_depth=7, n_estimators=10 .................\n",
      "[CV]  criterion=entropy, max_depth=7, n_estimators=10, score=0.950355 -   0.0s\n",
      "[CV] criterion=entropy, max_depth=7, n_estimators=10 .................\n",
      "[CV]  criterion=entropy, max_depth=7, n_estimators=10, score=0.976303 -   0.1s\n",
      "[CV] criterion=entropy, max_depth=7, n_estimators=10 .................\n",
      "[CV]  criterion=entropy, max_depth=7, n_estimators=10, score=0.950237 -   0.1s\n",
      "[CV] criterion=entropy, max_depth=7, n_estimators=20 .................\n",
      "[CV]  criterion=entropy, max_depth=7, n_estimators=20, score=0.956265 -   0.1s\n",
      "[CV] criterion=entropy, max_depth=7, n_estimators=20 .................\n",
      "[CV]  criterion=entropy, max_depth=7, n_estimators=20, score=0.985782 -   0.1s\n",
      "[CV] criterion=entropy, max_depth=7, n_estimators=20 .................\n",
      "[CV]  criterion=entropy, max_depth=7, n_estimators=20, score=0.957346 -   0.1s\n",
      "[CV] criterion=entropy, max_depth=7, n_estimators=30 .................\n",
      "[CV]  criterion=entropy, max_depth=7, n_estimators=30, score=0.960993 -   0.1s\n",
      "[CV] criterion=entropy, max_depth=7, n_estimators=30 .................\n",
      "[CV]  criterion=entropy, max_depth=7, n_estimators=30, score=0.988152 -   0.1s\n",
      "[CV] criterion=entropy, max_depth=7, n_estimators=30 .................\n",
      "[CV]  criterion=entropy, max_depth=7, n_estimators=30, score=0.963270 -   0.1s\n",
      "[CV] criterion=entropy, max_depth=7, n_estimators=40 .................\n",
      "[CV]  criterion=entropy, max_depth=7, n_estimators=40, score=0.956265 -   0.2s\n",
      "[CV] criterion=entropy, max_depth=7, n_estimators=40 .................\n",
      "[CV]  criterion=entropy, max_depth=7, n_estimators=40, score=0.988152 -   0.2s\n",
      "[CV] criterion=entropy, max_depth=7, n_estimators=40 .................\n",
      "[CV]  criterion=entropy, max_depth=7, n_estimators=40, score=0.963270 -   0.2s\n",
      "Fitting 3 folds for each of 36 candidates, totalling 108 fits\n",
      "[CV] criterion=gini, max_depth=3, n_estimators=3 .....................\n",
      "[CV]  criterion=gini, max_depth=3, n_estimators=3, score=0.904255 -   0.0s\n",
      "[CV] criterion=gini, max_depth=3, n_estimators=3 .....................\n",
      "[CV]  criterion=gini, max_depth=3, n_estimators=3, score=0.966825 -   0.0s\n",
      "[CV] criterion=gini, max_depth=3, n_estimators=3 .....................\n",
      "[CV]  criterion=gini, max_depth=3, n_estimators=3, score=0.904028 -   0.0s\n",
      "[CV] criterion=gini, max_depth=3, n_estimators=5 .....................\n",
      "[CV]  criterion=gini, max_depth=3, n_estimators=5, score=0.932624 -   0.0s\n",
      "[CV] criterion=gini, max_depth=3, n_estimators=5 .....................\n",
      "[CV]  criterion=gini, max_depth=3, n_estimators=5, score=0.975118 -   0.0s\n",
      "[CV] criterion=gini, max_depth=3, n_estimators=5 .....................\n",
      "[CV]  criterion=gini, max_depth=3, n_estimators=5, score=0.946682 -   0.0s\n",
      "[CV] criterion=gini, max_depth=3, n_estimators=10 ....................\n",
      "[CV]  criterion=gini, max_depth=3, n_estimators=10, score=0.938534 -   0.0s\n",
      "[CV] criterion=gini, max_depth=3, n_estimators=10 ....................\n"
     ]
    },
    {
     "name": "stderr",
     "output_type": "stream",
     "text": [
      "[Parallel(n_jobs=1)]: Done 108 out of 108 | elapsed:    7.3s finished\n",
      "[Parallel(n_jobs=1)]: Done   1 out of   1 | elapsed:    0.0s remaining:    0.0s\n",
      "[Parallel(n_jobs=1)]: Done   2 out of   2 | elapsed:    0.0s remaining:    0.0s\n",
      "[Parallel(n_jobs=1)]: Done   3 out of   3 | elapsed:    0.0s remaining:    0.0s\n"
     ]
    },
    {
     "name": "stdout",
     "output_type": "stream",
     "text": [
      "[CV]  criterion=gini, max_depth=3, n_estimators=10, score=0.978673 -   0.0s\n",
      "[CV] criterion=gini, max_depth=3, n_estimators=10 ....................\n",
      "[CV]  criterion=gini, max_depth=3, n_estimators=10, score=0.927725 -   0.0s\n",
      "[CV] criterion=gini, max_depth=3, n_estimators=20 ....................\n",
      "[CV]  criterion=gini, max_depth=3, n_estimators=20, score=0.930260 -   0.1s\n",
      "[CV] criterion=gini, max_depth=3, n_estimators=20 ....................\n",
      "[CV]  criterion=gini, max_depth=3, n_estimators=20, score=0.982227 -   0.1s\n",
      "[CV] criterion=gini, max_depth=3, n_estimators=20 ....................\n",
      "[CV]  criterion=gini, max_depth=3, n_estimators=20, score=0.949052 -   0.0s\n",
      "[CV] criterion=gini, max_depth=3, n_estimators=30 ....................\n",
      "[CV]  criterion=gini, max_depth=3, n_estimators=30, score=0.920804 -   0.1s\n",
      "[CV] criterion=gini, max_depth=3, n_estimators=30 ....................\n",
      "[CV]  criterion=gini, max_depth=3, n_estimators=30, score=0.988152 -   0.1s\n",
      "[CV] criterion=gini, max_depth=3, n_estimators=30 ....................\n",
      "[CV]  criterion=gini, max_depth=3, n_estimators=30, score=0.957346 -   0.1s\n",
      "[CV] criterion=gini, max_depth=3, n_estimators=40 ....................\n",
      "[CV]  criterion=gini, max_depth=3, n_estimators=40, score=0.925532 -   0.1s\n",
      "[CV] criterion=gini, max_depth=3, n_estimators=40 ....................\n",
      "[CV]  criterion=gini, max_depth=3, n_estimators=40, score=0.983412 -   0.1s\n",
      "[CV] criterion=gini, max_depth=3, n_estimators=40 ....................\n",
      "[CV]  criterion=gini, max_depth=3, n_estimators=40, score=0.957346 -   0.1s\n",
      "[CV] criterion=gini, max_depth=5, n_estimators=3 .....................\n",
      "[CV]  criterion=gini, max_depth=5, n_estimators=3, score=0.942080 -   0.0s\n",
      "[CV] criterion=gini, max_depth=5, n_estimators=3 .....................\n",
      "[CV]  criterion=gini, max_depth=5, n_estimators=3, score=0.958531 -   0.0s\n",
      "[CV] criterion=gini, max_depth=5, n_estimators=3 .....................\n",
      "[CV]  criterion=gini, max_depth=5, n_estimators=3, score=0.904028 -   0.0s\n",
      "[CV] criterion=gini, max_depth=5, n_estimators=5 .....................\n",
      "[CV]  criterion=gini, max_depth=5, n_estimators=5, score=0.936170 -   0.0s\n",
      "[CV] criterion=gini, max_depth=5, n_estimators=5 .....................\n",
      "[CV]  criterion=gini, max_depth=5, n_estimators=5, score=0.972749 -   0.0s\n",
      "[CV] criterion=gini, max_depth=5, n_estimators=5 .....................\n",
      "[CV]  criterion=gini, max_depth=5, n_estimators=5, score=0.946682 -   0.0s\n",
      "[CV] criterion=gini, max_depth=5, n_estimators=10 ....................\n",
      "[CV]  criterion=gini, max_depth=5, n_estimators=10, score=0.939716 -   0.0s\n",
      "[CV] criterion=gini, max_depth=5, n_estimators=10 ....................\n",
      "[CV]  criterion=gini, max_depth=5, n_estimators=10, score=0.977488 -   0.0s\n",
      "[CV] criterion=gini, max_depth=5, n_estimators=10 ....................\n",
      "[CV]  criterion=gini, max_depth=5, n_estimators=10, score=0.952607 -   0.0s\n",
      "[CV] criterion=gini, max_depth=5, n_estimators=20 ....................\n",
      "[CV]  criterion=gini, max_depth=5, n_estimators=20, score=0.940898 -   0.1s\n",
      "[CV] criterion=gini, max_depth=5, n_estimators=20 ....................\n",
      "[CV]  criterion=gini, max_depth=5, n_estimators=20, score=0.970379 -   0.1s\n",
      "[CV] criterion=gini, max_depth=5, n_estimators=20 ....................\n",
      "[CV]  criterion=gini, max_depth=5, n_estimators=20, score=0.951422 -   0.1s\n",
      "[CV] criterion=gini, max_depth=5, n_estimators=30 ....................\n",
      "[CV]  criterion=gini, max_depth=5, n_estimators=30, score=0.939716 -   0.1s\n",
      "[CV] criterion=gini, max_depth=5, n_estimators=30 ....................\n",
      "[CV]  criterion=gini, max_depth=5, n_estimators=30, score=0.978673 -   0.1s\n",
      "[CV] criterion=gini, max_depth=5, n_estimators=30 ....................\n",
      "[CV]  criterion=gini, max_depth=5, n_estimators=30, score=0.953791 -   0.1s\n",
      "[CV] criterion=gini, max_depth=5, n_estimators=40 ....................\n",
      "[CV]  criterion=gini, max_depth=5, n_estimators=40, score=0.938534 -   0.1s\n",
      "[CV] criterion=gini, max_depth=5, n_estimators=40 ....................\n",
      "[CV]  criterion=gini, max_depth=5, n_estimators=40, score=0.977488 -   0.1s\n",
      "[CV] criterion=gini, max_depth=5, n_estimators=40 ....................\n",
      "[CV]  criterion=gini, max_depth=5, n_estimators=40, score=0.957346 -   0.1s\n",
      "[CV] criterion=gini, max_depth=7, n_estimators=3 .....................\n",
      "[CV]  criterion=gini, max_depth=7, n_estimators=3, score=0.874704 -   0.0s\n",
      "[CV] criterion=gini, max_depth=7, n_estimators=3 .....................\n",
      "[CV]  criterion=gini, max_depth=7, n_estimators=3, score=0.958531 -   0.0s\n",
      "[CV] criterion=gini, max_depth=7, n_estimators=3 .....................\n",
      "[CV]  criterion=gini, max_depth=7, n_estimators=3, score=0.943128 -   0.0s\n",
      "[CV] criterion=gini, max_depth=7, n_estimators=5 .....................\n",
      "[CV]  criterion=gini, max_depth=7, n_estimators=5, score=0.937352 -   0.0s\n",
      "[CV] criterion=gini, max_depth=7, n_estimators=5 .....................\n",
      "[CV]  criterion=gini, max_depth=7, n_estimators=5, score=0.973934 -   0.0s\n",
      "[CV] criterion=gini, max_depth=7, n_estimators=5 .....................\n",
      "[CV]  criterion=gini, max_depth=7, n_estimators=5, score=0.945498 -   0.0s\n",
      "[CV] criterion=gini, max_depth=7, n_estimators=10 ....................\n",
      "[CV]  criterion=gini, max_depth=7, n_estimators=10, score=0.932624 -   0.0s\n",
      "[CV] criterion=gini, max_depth=7, n_estimators=10 ....................\n",
      "[CV]  criterion=gini, max_depth=7, n_estimators=10, score=0.978673 -   0.0s\n",
      "[CV] criterion=gini, max_depth=7, n_estimators=10 ....................\n",
      "[CV]  criterion=gini, max_depth=7, n_estimators=10, score=0.962085 -   0.0s\n",
      "[CV] criterion=gini, max_depth=7, n_estimators=20 ....................\n",
      "[CV]  criterion=gini, max_depth=7, n_estimators=20, score=0.943262 -   0.1s\n",
      "[CV] criterion=gini, max_depth=7, n_estimators=20 ....................\n",
      "[CV]  criterion=gini, max_depth=7, n_estimators=20, score=0.979858 -   0.1s\n",
      "[CV] criterion=gini, max_depth=7, n_estimators=20 ....................\n",
      "[CV]  criterion=gini, max_depth=7, n_estimators=20, score=0.953791 -   0.1s\n",
      "[CV] criterion=gini, max_depth=7, n_estimators=30 ....................\n",
      "[CV]  criterion=gini, max_depth=7, n_estimators=30, score=0.937352 -   0.1s\n",
      "[CV] criterion=gini, max_depth=7, n_estimators=30 ....................\n",
      "[CV]  criterion=gini, max_depth=7, n_estimators=30, score=0.983412 -   0.1s\n",
      "[CV] criterion=gini, max_depth=7, n_estimators=30 ....................\n",
      "[CV]  criterion=gini, max_depth=7, n_estimators=30, score=0.956161 -   0.1s\n",
      "[CV] criterion=gini, max_depth=7, n_estimators=40 ....................\n",
      "[CV]  criterion=gini, max_depth=7, n_estimators=40, score=0.936170 -   0.2s\n",
      "[CV] criterion=gini, max_depth=7, n_estimators=40 ....................\n",
      "[CV]  criterion=gini, max_depth=7, n_estimators=40, score=0.979858 -   0.2s\n",
      "[CV] criterion=gini, max_depth=7, n_estimators=40 ....................\n",
      "[CV]  criterion=gini, max_depth=7, n_estimators=40, score=0.959716 -   0.2s\n",
      "[CV] criterion=entropy, max_depth=3, n_estimators=3 ..................\n",
      "[CV]  criterion=entropy, max_depth=3, n_estimators=3, score=0.803783 -   0.0s\n",
      "[CV] criterion=entropy, max_depth=3, n_estimators=3 ..................\n",
      "[CV]  criterion=entropy, max_depth=3, n_estimators=3, score=0.969194 -   0.0s\n",
      "[CV] criterion=entropy, max_depth=3, n_estimators=3 ..................\n",
      "[CV]  criterion=entropy, max_depth=3, n_estimators=3, score=0.941943 -   0.0s\n",
      "[CV] criterion=entropy, max_depth=3, n_estimators=5 ..................\n",
      "[CV]  criterion=entropy, max_depth=3, n_estimators=5, score=0.936170 -   0.0s\n",
      "[CV] criterion=entropy, max_depth=3, n_estimators=5 ..................\n",
      "[CV]  criterion=entropy, max_depth=3, n_estimators=5, score=0.963270 -   0.0s\n",
      "[CV] criterion=entropy, max_depth=3, n_estimators=5 ..................\n",
      "[CV]  criterion=entropy, max_depth=3, n_estimators=5, score=0.953791 -   0.0s\n",
      "[CV] criterion=entropy, max_depth=3, n_estimators=10 .................\n",
      "[CV]  criterion=entropy, max_depth=3, n_estimators=10, score=0.926714 -   0.0s\n",
      "[CV] criterion=entropy, max_depth=3, n_estimators=10 .................\n",
      "[CV]  criterion=entropy, max_depth=3, n_estimators=10, score=0.971564 -   0.0s\n",
      "[CV] criterion=entropy, max_depth=3, n_estimators=10 .................\n",
      "[CV]  criterion=entropy, max_depth=3, n_estimators=10, score=0.946682 -   0.0s\n",
      "[CV] criterion=entropy, max_depth=3, n_estimators=20 .................\n",
      "[CV]  criterion=entropy, max_depth=3, n_estimators=20, score=0.923168 -   0.1s\n",
      "[CV] criterion=entropy, max_depth=3, n_estimators=20 .................\n",
      "[CV]  criterion=entropy, max_depth=3, n_estimators=20, score=0.985782 -   0.1s\n",
      "[CV] criterion=entropy, max_depth=3, n_estimators=20 .................\n"
     ]
    },
    {
     "name": "stdout",
     "output_type": "stream",
     "text": [
      "[CV]  criterion=entropy, max_depth=3, n_estimators=20, score=0.936019 -   0.1s\n",
      "[CV] criterion=entropy, max_depth=3, n_estimators=30 .................\n",
      "[CV]  criterion=entropy, max_depth=3, n_estimators=30, score=0.931442 -   0.1s\n",
      "[CV] criterion=entropy, max_depth=3, n_estimators=30 .................\n",
      "[CV]  criterion=entropy, max_depth=3, n_estimators=30, score=0.984597 -   0.1s\n",
      "[CV] criterion=entropy, max_depth=3, n_estimators=30 .................\n",
      "[CV]  criterion=entropy, max_depth=3, n_estimators=30, score=0.954976 -   0.1s\n",
      "[CV] criterion=entropy, max_depth=3, n_estimators=40 .................\n",
      "[CV]  criterion=entropy, max_depth=3, n_estimators=40, score=0.923168 -   0.1s\n",
      "[CV] criterion=entropy, max_depth=3, n_estimators=40 .................\n",
      "[CV]  criterion=entropy, max_depth=3, n_estimators=40, score=0.971564 -   0.1s\n",
      "[CV] criterion=entropy, max_depth=3, n_estimators=40 .................\n",
      "[CV]  criterion=entropy, max_depth=3, n_estimators=40, score=0.957346 -   0.2s\n",
      "[CV] criterion=entropy, max_depth=5, n_estimators=3 ..................\n",
      "[CV]  criterion=entropy, max_depth=5, n_estimators=3, score=0.930260 -   0.0s\n",
      "[CV] criterion=entropy, max_depth=5, n_estimators=3 ..................\n",
      "[CV]  criterion=entropy, max_depth=5, n_estimators=3, score=0.962085 -   0.0s\n",
      "[CV] criterion=entropy, max_depth=5, n_estimators=3 ..................\n",
      "[CV]  criterion=entropy, max_depth=5, n_estimators=3, score=0.966825 -   0.0s\n",
      "[CV] criterion=entropy, max_depth=5, n_estimators=5 ..................\n",
      "[CV]  criterion=entropy, max_depth=5, n_estimators=5, score=0.932624 -   0.0s\n",
      "[CV] criterion=entropy, max_depth=5, n_estimators=5 ..................\n",
      "[CV]  criterion=entropy, max_depth=5, n_estimators=5, score=0.977488 -   0.0s\n",
      "[CV] criterion=entropy, max_depth=5, n_estimators=5 ..................\n",
      "[CV]  criterion=entropy, max_depth=5, n_estimators=5, score=0.965640 -   0.0s\n",
      "[CV] criterion=entropy, max_depth=5, n_estimators=10 .................\n",
      "[CV]  criterion=entropy, max_depth=5, n_estimators=10, score=0.940898 -   0.0s\n",
      "[CV] criterion=entropy, max_depth=5, n_estimators=10 .................\n",
      "[CV]  criterion=entropy, max_depth=5, n_estimators=10, score=0.983412 -   0.1s\n",
      "[CV] criterion=entropy, max_depth=5, n_estimators=10 .................\n",
      "[CV]  criterion=entropy, max_depth=5, n_estimators=10, score=0.950237 -   0.1s\n",
      "[CV] criterion=entropy, max_depth=5, n_estimators=20 .................\n",
      "[CV]  criterion=entropy, max_depth=5, n_estimators=20, score=0.940898 -   0.1s\n",
      "[CV] criterion=entropy, max_depth=5, n_estimators=20 .................\n",
      "[CV]  criterion=entropy, max_depth=5, n_estimators=20, score=0.978673 -   0.1s\n",
      "[CV] criterion=entropy, max_depth=5, n_estimators=20 .................\n",
      "[CV]  criterion=entropy, max_depth=5, n_estimators=20, score=0.968009 -   0.1s\n",
      "[CV] criterion=entropy, max_depth=5, n_estimators=30 .................\n",
      "[CV]  criterion=entropy, max_depth=5, n_estimators=30, score=0.944444 -   0.1s\n",
      "[CV] criterion=entropy, max_depth=5, n_estimators=30 .................\n",
      "[CV]  criterion=entropy, max_depth=5, n_estimators=30, score=0.979858 -   0.1s\n",
      "[CV] criterion=entropy, max_depth=5, n_estimators=30 .................\n",
      "[CV]  criterion=entropy, max_depth=5, n_estimators=30, score=0.957346 -   0.1s\n",
      "[CV] criterion=entropy, max_depth=5, n_estimators=40 .................\n",
      "[CV]  criterion=entropy, max_depth=5, n_estimators=40, score=0.939716 -   0.2s\n",
      "[CV] criterion=entropy, max_depth=5, n_estimators=40 .................\n",
      "[CV]  criterion=entropy, max_depth=5, n_estimators=40, score=0.981043 -   0.2s\n",
      "[CV] criterion=entropy, max_depth=5, n_estimators=40 .................\n",
      "[CV]  criterion=entropy, max_depth=5, n_estimators=40, score=0.962085 -   0.2s\n",
      "[CV] criterion=entropy, max_depth=7, n_estimators=3 ..................\n",
      "[CV]  criterion=entropy, max_depth=7, n_estimators=3, score=0.917258 -   0.0s\n",
      "[CV] criterion=entropy, max_depth=7, n_estimators=3 ..................\n",
      "[CV]  criterion=entropy, max_depth=7, n_estimators=3, score=0.968009 -   0.0s\n",
      "[CV] criterion=entropy, max_depth=7, n_estimators=3 ..................\n",
      "[CV]  criterion=entropy, max_depth=7, n_estimators=3, score=0.943128 -   0.0s\n",
      "[CV] criterion=entropy, max_depth=7, n_estimators=5 ..................\n",
      "[CV]  criterion=entropy, max_depth=7, n_estimators=5, score=0.888889 -   0.0s\n",
      "[CV] criterion=entropy, max_depth=7, n_estimators=5 ..................\n",
      "[CV]  criterion=entropy, max_depth=7, n_estimators=5, score=0.984597 -   0.0s\n",
      "[CV] criterion=entropy, max_depth=7, n_estimators=5 ..................\n",
      "[CV]  criterion=entropy, max_depth=7, n_estimators=5, score=0.952607 -   0.0s\n",
      "[CV] criterion=entropy, max_depth=7, n_estimators=10 .................\n",
      "[CV]  criterion=entropy, max_depth=7, n_estimators=10, score=0.936170 -   0.1s\n",
      "[CV] criterion=entropy, max_depth=7, n_estimators=10 .................\n",
      "[CV]  criterion=entropy, max_depth=7, n_estimators=10, score=0.969194 -   0.1s\n",
      "[CV] criterion=entropy, max_depth=7, n_estimators=10 .................\n",
      "[CV]  criterion=entropy, max_depth=7, n_estimators=10, score=0.940758 -   0.1s\n",
      "[CV] criterion=entropy, max_depth=7, n_estimators=20 .................\n",
      "[CV]  criterion=entropy, max_depth=7, n_estimators=20, score=0.931442 -   0.1s\n",
      "[CV] criterion=entropy, max_depth=7, n_estimators=20 .................\n",
      "[CV]  criterion=entropy, max_depth=7, n_estimators=20, score=0.983412 -   0.1s\n",
      "[CV] criterion=entropy, max_depth=7, n_estimators=20 .................\n",
      "[CV]  criterion=entropy, max_depth=7, n_estimators=20, score=0.959716 -   0.1s\n",
      "[CV] criterion=entropy, max_depth=7, n_estimators=30 .................\n",
      "[CV]  criterion=entropy, max_depth=7, n_estimators=30, score=0.936170 -   0.1s\n",
      "[CV] criterion=entropy, max_depth=7, n_estimators=30 .................\n",
      "[CV]  criterion=entropy, max_depth=7, n_estimators=30, score=0.983412 -   0.1s\n",
      "[CV] criterion=entropy, max_depth=7, n_estimators=30 .................\n",
      "[CV]  criterion=entropy, max_depth=7, n_estimators=30, score=0.963270 -   0.2s\n",
      "[CV] criterion=entropy, max_depth=7, n_estimators=40 .................\n",
      "[CV]  criterion=entropy, max_depth=7, n_estimators=40, score=0.934988 -   0.2s\n",
      "[CV] criterion=entropy, max_depth=7, n_estimators=40 .................\n",
      "[CV]  criterion=entropy, max_depth=7, n_estimators=40, score=0.976303 -   0.2s\n",
      "[CV] criterion=entropy, max_depth=7, n_estimators=40 .................\n",
      "[CV]  criterion=entropy, max_depth=7, n_estimators=40, score=0.959716 -   0.2s\n",
      "Fitting 3 folds for each of 36 candidates, totalling 108 fits\n",
      "[CV] criterion=gini, max_depth=3, n_estimators=3 .....................\n",
      "[CV]  criterion=gini, max_depth=3, n_estimators=3, score=0.956265 -   0.0s\n",
      "[CV] criterion=gini, max_depth=3, n_estimators=3 .....................\n",
      "[CV]  criterion=gini, max_depth=3, n_estimators=3, score=0.945498 -   0.0s\n",
      "[CV] criterion=gini, max_depth=3, n_estimators=3 .....................\n",
      "[CV]  criterion=gini, max_depth=3, n_estimators=3, score=0.941943 -   0.0s\n",
      "[CV] criterion=gini, max_depth=3, n_estimators=5 .....................\n",
      "[CV]  criterion=gini, max_depth=3, n_estimators=5, score=0.939716 -   0.0s\n",
      "[CV] criterion=gini, max_depth=3, n_estimators=5 .....................\n",
      "[CV]  criterion=gini, max_depth=3, n_estimators=5, score=0.938389 -   0.0s\n",
      "[CV] criterion=gini, max_depth=3, n_estimators=5 .....................\n",
      "[CV]  criterion=gini, max_depth=3, n_estimators=5, score=0.970379 -   0.0s\n",
      "[CV] criterion=gini, max_depth=3, n_estimators=10 ...................."
     ]
    },
    {
     "name": "stderr",
     "output_type": "stream",
     "text": [
      "[Parallel(n_jobs=1)]: Done 108 out of 108 | elapsed:    7.9s finished\n",
      "[Parallel(n_jobs=1)]: Done   1 out of   1 | elapsed:    0.0s remaining:    0.0s\n",
      "[Parallel(n_jobs=1)]: Done   2 out of   2 | elapsed:    0.0s remaining:    0.0s\n",
      "[Parallel(n_jobs=1)]: Done   3 out of   3 | elapsed:    0.0s remaining:    0.0s\n"
     ]
    },
    {
     "name": "stdout",
     "output_type": "stream",
     "text": [
      "\n",
      "[CV]  criterion=gini, max_depth=3, n_estimators=10, score=0.918440 -   0.0s\n",
      "[CV] criterion=gini, max_depth=3, n_estimators=10 ....................\n",
      "[CV]  criterion=gini, max_depth=3, n_estimators=10, score=0.972749 -   0.0s\n",
      "[CV] criterion=gini, max_depth=3, n_estimators=10 ....................\n",
      "[CV]  criterion=gini, max_depth=3, n_estimators=10, score=0.958531 -   0.0s\n",
      "[CV] criterion=gini, max_depth=3, n_estimators=20 ....................\n",
      "[CV]  criterion=gini, max_depth=3, n_estimators=20, score=0.945626 -   0.1s\n",
      "[CV] criterion=gini, max_depth=3, n_estimators=20 ....................\n",
      "[CV]  criterion=gini, max_depth=3, n_estimators=20, score=0.968009 -   0.1s\n",
      "[CV] criterion=gini, max_depth=3, n_estimators=20 ....................\n",
      "[CV]  criterion=gini, max_depth=3, n_estimators=20, score=0.957346 -   0.0s\n",
      "[CV] criterion=gini, max_depth=3, n_estimators=30 ....................\n",
      "[CV]  criterion=gini, max_depth=3, n_estimators=30, score=0.943262 -   0.1s\n",
      "[CV] criterion=gini, max_depth=3, n_estimators=30 ....................\n",
      "[CV]  criterion=gini, max_depth=3, n_estimators=30, score=0.958531 -   0.1s\n",
      "[CV] criterion=gini, max_depth=3, n_estimators=30 ....................\n",
      "[CV]  criterion=gini, max_depth=3, n_estimators=30, score=0.964455 -   0.1s\n",
      "[CV] criterion=gini, max_depth=3, n_estimators=40 ....................\n",
      "[CV]  criterion=gini, max_depth=3, n_estimators=40, score=0.939716 -   0.1s\n",
      "[CV] criterion=gini, max_depth=3, n_estimators=40 ....................\n",
      "[CV]  criterion=gini, max_depth=3, n_estimators=40, score=0.964455 -   0.1s\n",
      "[CV] criterion=gini, max_depth=3, n_estimators=40 ....................\n",
      "[CV]  criterion=gini, max_depth=3, n_estimators=40, score=0.962085 -   0.1s\n",
      "[CV] criterion=gini, max_depth=5, n_estimators=3 .....................\n",
      "[CV]  criterion=gini, max_depth=5, n_estimators=3, score=0.956265 -   0.0s\n",
      "[CV] criterion=gini, max_depth=5, n_estimators=3 .....................\n",
      "[CV]  criterion=gini, max_depth=5, n_estimators=3, score=0.959716 -   0.0s\n",
      "[CV] criterion=gini, max_depth=5, n_estimators=3 .....................\n",
      "[CV]  criterion=gini, max_depth=5, n_estimators=3, score=0.964455 -   0.0s\n",
      "[CV] criterion=gini, max_depth=5, n_estimators=5 .....................\n",
      "[CV]  criterion=gini, max_depth=5, n_estimators=5, score=0.923168 -   0.0s\n",
      "[CV] criterion=gini, max_depth=5, n_estimators=5 .....................\n",
      "[CV]  criterion=gini, max_depth=5, n_estimators=5, score=0.968009 -   0.0s\n",
      "[CV] criterion=gini, max_depth=5, n_estimators=5 .....................\n",
      "[CV]  criterion=gini, max_depth=5, n_estimators=5, score=0.959716 -   0.0s\n",
      "[CV] criterion=gini, max_depth=5, n_estimators=10 ....................\n",
      "[CV]  criterion=gini, max_depth=5, n_estimators=10, score=0.947991 -   0.0s\n",
      "[CV] criterion=gini, max_depth=5, n_estimators=10 ....................\n",
      "[CV]  criterion=gini, max_depth=5, n_estimators=10, score=0.976303 -   0.0s\n",
      "[CV] criterion=gini, max_depth=5, n_estimators=10 ....................\n",
      "[CV]  criterion=gini, max_depth=5, n_estimators=10, score=0.965640 -   0.0s\n",
      "[CV] criterion=gini, max_depth=5, n_estimators=20 ....................\n",
      "[CV]  criterion=gini, max_depth=5, n_estimators=20, score=0.942080 -   0.1s\n",
      "[CV] criterion=gini, max_depth=5, n_estimators=20 ....................\n",
      "[CV]  criterion=gini, max_depth=5, n_estimators=20, score=0.957346 -   0.1s\n",
      "[CV] criterion=gini, max_depth=5, n_estimators=20 ....................\n",
      "[CV]  criterion=gini, max_depth=5, n_estimators=20, score=0.971564 -   0.1s\n",
      "[CV] criterion=gini, max_depth=5, n_estimators=30 ....................\n",
      "[CV]  criterion=gini, max_depth=5, n_estimators=30, score=0.942080 -   0.1s\n",
      "[CV] criterion=gini, max_depth=5, n_estimators=30 ....................\n",
      "[CV]  criterion=gini, max_depth=5, n_estimators=30, score=0.970379 -   0.1s\n",
      "[CV] criterion=gini, max_depth=5, n_estimators=30 ....................\n",
      "[CV]  criterion=gini, max_depth=5, n_estimators=30, score=0.968009 -   0.1s\n",
      "[CV] criterion=gini, max_depth=5, n_estimators=40 ....................\n",
      "[CV]  criterion=gini, max_depth=5, n_estimators=40, score=0.949173 -   0.1s\n",
      "[CV] criterion=gini, max_depth=5, n_estimators=40 ....................\n",
      "[CV]  criterion=gini, max_depth=5, n_estimators=40, score=0.962085 -   0.1s\n",
      "[CV] criterion=gini, max_depth=5, n_estimators=40 ....................\n",
      "[CV]  criterion=gini, max_depth=5, n_estimators=40, score=0.968009 -   0.1s\n",
      "[CV] criterion=gini, max_depth=7, n_estimators=3 .....................\n",
      "[CV]  criterion=gini, max_depth=7, n_estimators=3, score=0.951537 -   0.0s\n",
      "[CV] criterion=gini, max_depth=7, n_estimators=3 .....................\n",
      "[CV]  criterion=gini, max_depth=7, n_estimators=3, score=0.932464 -   0.0s\n",
      "[CV] criterion=gini, max_depth=7, n_estimators=3 .....................\n",
      "[CV]  criterion=gini, max_depth=7, n_estimators=3, score=0.940758 -   0.0s\n",
      "[CV] criterion=gini, max_depth=7, n_estimators=5 .....................\n",
      "[CV]  criterion=gini, max_depth=7, n_estimators=5, score=0.934988 -   0.0s\n",
      "[CV] criterion=gini, max_depth=7, n_estimators=5 .....................\n",
      "[CV]  criterion=gini, max_depth=7, n_estimators=5, score=0.939573 -   0.0s\n",
      "[CV] criterion=gini, max_depth=7, n_estimators=5 .....................\n",
      "[CV]  criterion=gini, max_depth=7, n_estimators=5, score=0.962085 -   0.0s\n",
      "[CV] criterion=gini, max_depth=7, n_estimators=10 ....................\n",
      "[CV]  criterion=gini, max_depth=7, n_estimators=10, score=0.949173 -   0.0s\n",
      "[CV] criterion=gini, max_depth=7, n_estimators=10 ....................\n",
      "[CV]  criterion=gini, max_depth=7, n_estimators=10, score=0.958531 -   0.0s\n",
      "[CV] criterion=gini, max_depth=7, n_estimators=10 ....................\n",
      "[CV]  criterion=gini, max_depth=7, n_estimators=10, score=0.969194 -   0.0s\n",
      "[CV] criterion=gini, max_depth=7, n_estimators=20 ....................\n",
      "[CV]  criterion=gini, max_depth=7, n_estimators=20, score=0.952719 -   0.1s\n",
      "[CV] criterion=gini, max_depth=7, n_estimators=20 ....................\n",
      "[CV]  criterion=gini, max_depth=7, n_estimators=20, score=0.965640 -   0.1s\n",
      "[CV] criterion=gini, max_depth=7, n_estimators=20 ....................\n",
      "[CV]  criterion=gini, max_depth=7, n_estimators=20, score=0.972749 -   0.1s\n",
      "[CV] criterion=gini, max_depth=7, n_estimators=30 ....................\n",
      "[CV]  criterion=gini, max_depth=7, n_estimators=30, score=0.945626 -   0.1s\n",
      "[CV] criterion=gini, max_depth=7, n_estimators=30 ....................\n",
      "[CV]  criterion=gini, max_depth=7, n_estimators=30, score=0.965640 -   0.1s\n",
      "[CV] criterion=gini, max_depth=7, n_estimators=30 ....................\n",
      "[CV]  criterion=gini, max_depth=7, n_estimators=30, score=0.972749 -   0.1s\n",
      "[CV] criterion=gini, max_depth=7, n_estimators=40 ....................\n",
      "[CV]  criterion=gini, max_depth=7, n_estimators=40, score=0.951537 -   0.2s\n",
      "[CV] criterion=gini, max_depth=7, n_estimators=40 ....................\n",
      "[CV]  criterion=gini, max_depth=7, n_estimators=40, score=0.962085 -   0.2s\n",
      "[CV] criterion=gini, max_depth=7, n_estimators=40 ....................\n",
      "[CV]  criterion=gini, max_depth=7, n_estimators=40, score=0.972749 -   0.1s\n",
      "[CV] criterion=entropy, max_depth=3, n_estimators=3 ..................\n",
      "[CV]  criterion=entropy, max_depth=3, n_estimators=3, score=0.801418 -   0.0s\n",
      "[CV] criterion=entropy, max_depth=3, n_estimators=3 ..................\n",
      "[CV]  criterion=entropy, max_depth=3, n_estimators=3, score=0.925355 -   0.0s\n",
      "[CV] criterion=entropy, max_depth=3, n_estimators=3 ..................\n",
      "[CV]  criterion=entropy, max_depth=3, n_estimators=3, score=0.956161 -   0.0s\n",
      "[CV] criterion=entropy, max_depth=3, n_estimators=5 ..................\n",
      "[CV]  criterion=entropy, max_depth=3, n_estimators=5, score=0.806147 -   0.0s\n",
      "[CV] criterion=entropy, max_depth=3, n_estimators=5 ..................\n",
      "[CV]  criterion=entropy, max_depth=3, n_estimators=5, score=0.963270 -   0.0s\n",
      "[CV] criterion=entropy, max_depth=3, n_estimators=5 ..................\n",
      "[CV]  criterion=entropy, max_depth=3, n_estimators=5, score=0.960900 -   0.0s\n",
      "[CV] criterion=entropy, max_depth=3, n_estimators=10 .................\n",
      "[CV]  criterion=entropy, max_depth=3, n_estimators=10, score=0.923168 -   0.0s\n",
      "[CV] criterion=entropy, max_depth=3, n_estimators=10 .................\n",
      "[CV]  criterion=entropy, max_depth=3, n_estimators=10, score=0.968009 -   0.0s\n",
      "[CV] criterion=entropy, max_depth=3, n_estimators=10 .................\n",
      "[CV]  criterion=entropy, max_depth=3, n_estimators=10, score=0.968009 -   0.0s\n",
      "[CV] criterion=entropy, max_depth=3, n_estimators=20 .................\n"
     ]
    },
    {
     "name": "stdout",
     "output_type": "stream",
     "text": [
      "[CV]  criterion=entropy, max_depth=3, n_estimators=20, score=0.946809 -   0.1s\n",
      "[CV] criterion=entropy, max_depth=3, n_estimators=20 .................\n",
      "[CV]  criterion=entropy, max_depth=3, n_estimators=20, score=0.965640 -   0.1s\n",
      "[CV] criterion=entropy, max_depth=3, n_estimators=20 .................\n",
      "[CV]  criterion=entropy, max_depth=3, n_estimators=20, score=0.966825 -   0.1s\n",
      "[CV] criterion=entropy, max_depth=3, n_estimators=30 .................\n",
      "[CV]  criterion=entropy, max_depth=3, n_estimators=30, score=0.940898 -   0.1s\n",
      "[CV] criterion=entropy, max_depth=3, n_estimators=30 .................\n",
      "[CV]  criterion=entropy, max_depth=3, n_estimators=30, score=0.977488 -   0.1s\n",
      "[CV] criterion=entropy, max_depth=3, n_estimators=30 .................\n",
      "[CV]  criterion=entropy, max_depth=3, n_estimators=30, score=0.962085 -   0.1s\n",
      "[CV] criterion=entropy, max_depth=3, n_estimators=40 .................\n",
      "[CV]  criterion=entropy, max_depth=3, n_estimators=40, score=0.921986 -   0.2s\n",
      "[CV] criterion=entropy, max_depth=3, n_estimators=40 .................\n",
      "[CV]  criterion=entropy, max_depth=3, n_estimators=40, score=0.964455 -   0.1s\n",
      "[CV] criterion=entropy, max_depth=3, n_estimators=40 .................\n",
      "[CV]  criterion=entropy, max_depth=3, n_estimators=40, score=0.965640 -   0.1s\n",
      "[CV] criterion=entropy, max_depth=5, n_estimators=3 ..................\n",
      "[CV]  criterion=entropy, max_depth=5, n_estimators=3, score=0.923168 -   0.0s\n",
      "[CV] criterion=entropy, max_depth=5, n_estimators=3 ..................\n",
      "[CV]  criterion=entropy, max_depth=5, n_estimators=3, score=0.956161 -   0.0s\n",
      "[CV] criterion=entropy, max_depth=5, n_estimators=3 ..................\n",
      "[CV]  criterion=entropy, max_depth=5, n_estimators=3, score=0.958531 -   0.0s\n",
      "[CV] criterion=entropy, max_depth=5, n_estimators=5 ..................\n",
      "[CV]  criterion=entropy, max_depth=5, n_estimators=5, score=0.949173 -   0.0s\n",
      "[CV] criterion=entropy, max_depth=5, n_estimators=5 ..................\n",
      "[CV]  criterion=entropy, max_depth=5, n_estimators=5, score=0.973934 -   0.0s\n",
      "[CV] criterion=entropy, max_depth=5, n_estimators=5 ..................\n",
      "[CV]  criterion=entropy, max_depth=5, n_estimators=5, score=0.972749 -   0.0s\n",
      "[CV] criterion=entropy, max_depth=5, n_estimators=10 .................\n",
      "[CV]  criterion=entropy, max_depth=5, n_estimators=10, score=0.957447 -   0.0s\n",
      "[CV] criterion=entropy, max_depth=5, n_estimators=10 .................\n",
      "[CV]  criterion=entropy, max_depth=5, n_estimators=10, score=0.975118 -   0.1s\n",
      "[CV] criterion=entropy, max_depth=5, n_estimators=10 .................\n",
      "[CV]  criterion=entropy, max_depth=5, n_estimators=10, score=0.970379 -   0.0s\n",
      "[CV] criterion=entropy, max_depth=5, n_estimators=20 .................\n",
      "[CV]  criterion=entropy, max_depth=5, n_estimators=20, score=0.951537 -   0.1s\n",
      "[CV] criterion=entropy, max_depth=5, n_estimators=20 .................\n",
      "[CV]  criterion=entropy, max_depth=5, n_estimators=20, score=0.965640 -   0.1s\n",
      "[CV] criterion=entropy, max_depth=5, n_estimators=20 .................\n",
      "[CV]  criterion=entropy, max_depth=5, n_estimators=20, score=0.966825 -   0.1s\n",
      "[CV] criterion=entropy, max_depth=5, n_estimators=30 .................\n",
      "[CV]  criterion=entropy, max_depth=5, n_estimators=30, score=0.946809 -   0.1s\n",
      "[CV] criterion=entropy, max_depth=5, n_estimators=30 .................\n",
      "[CV]  criterion=entropy, max_depth=5, n_estimators=30, score=0.964455 -   0.1s\n",
      "[CV] criterion=entropy, max_depth=5, n_estimators=30 .................\n",
      "[CV]  criterion=entropy, max_depth=5, n_estimators=30, score=0.970379 -   0.1s\n",
      "[CV] criterion=entropy, max_depth=5, n_estimators=40 .................\n",
      "[CV]  criterion=entropy, max_depth=5, n_estimators=40, score=0.950355 -   0.2s\n",
      "[CV] criterion=entropy, max_depth=5, n_estimators=40 .................\n",
      "[CV]  criterion=entropy, max_depth=5, n_estimators=40, score=0.969194 -   0.2s\n",
      "[CV] criterion=entropy, max_depth=5, n_estimators=40 .................\n",
      "[CV]  criterion=entropy, max_depth=5, n_estimators=40, score=0.970379 -   0.2s\n",
      "[CV] criterion=entropy, max_depth=7, n_estimators=3 ..................\n",
      "[CV]  criterion=entropy, max_depth=7, n_estimators=3, score=0.936170 -   0.0s\n",
      "[CV] criterion=entropy, max_depth=7, n_estimators=3 ..................\n",
      "[CV]  criterion=entropy, max_depth=7, n_estimators=3, score=0.951422 -   0.0s\n",
      "[CV] criterion=entropy, max_depth=7, n_estimators=3 ..................\n",
      "[CV]  criterion=entropy, max_depth=7, n_estimators=3, score=0.938389 -   0.0s\n",
      "[CV] criterion=entropy, max_depth=7, n_estimators=5 ..................\n",
      "[CV]  criterion=entropy, max_depth=7, n_estimators=5, score=0.950355 -   0.0s\n",
      "[CV] criterion=entropy, max_depth=7, n_estimators=5 ..................\n",
      "[CV]  criterion=entropy, max_depth=7, n_estimators=5, score=0.964455 -   0.0s\n",
      "[CV] criterion=entropy, max_depth=7, n_estimators=5 ..................\n",
      "[CV]  criterion=entropy, max_depth=7, n_estimators=5, score=0.964455 -   0.0s\n",
      "[CV] criterion=entropy, max_depth=7, n_estimators=10 .................\n",
      "[CV]  criterion=entropy, max_depth=7, n_estimators=10, score=0.953901 -   0.1s\n",
      "[CV] criterion=entropy, max_depth=7, n_estimators=10 .................\n",
      "[CV]  criterion=entropy, max_depth=7, n_estimators=10, score=0.952607 -   0.1s\n",
      "[CV] criterion=entropy, max_depth=7, n_estimators=10 .................\n",
      "[CV]  criterion=entropy, max_depth=7, n_estimators=10, score=0.966825 -   0.0s\n",
      "[CV] criterion=entropy, max_depth=7, n_estimators=20 .................\n",
      "[CV]  criterion=entropy, max_depth=7, n_estimators=20, score=0.955083 -   0.1s\n",
      "[CV] criterion=entropy, max_depth=7, n_estimators=20 .................\n",
      "[CV]  criterion=entropy, max_depth=7, n_estimators=20, score=0.957346 -   0.1s\n",
      "[CV] criterion=entropy, max_depth=7, n_estimators=20 .................\n",
      "[CV]  criterion=entropy, max_depth=7, n_estimators=20, score=0.972749 -   0.1s\n",
      "[CV] criterion=entropy, max_depth=7, n_estimators=30 .................\n",
      "[CV]  criterion=entropy, max_depth=7, n_estimators=30, score=0.952719 -   0.1s\n",
      "[CV] criterion=entropy, max_depth=7, n_estimators=30 .................\n",
      "[CV]  criterion=entropy, max_depth=7, n_estimators=30, score=0.959716 -   0.2s\n",
      "[CV] criterion=entropy, max_depth=7, n_estimators=30 .................\n",
      "[CV]  criterion=entropy, max_depth=7, n_estimators=30, score=0.971564 -   0.1s\n",
      "[CV] criterion=entropy, max_depth=7, n_estimators=40 .................\n",
      "[CV]  criterion=entropy, max_depth=7, n_estimators=40, score=0.950355 -   0.2s\n",
      "[CV] criterion=entropy, max_depth=7, n_estimators=40 .................\n",
      "[CV]  criterion=entropy, max_depth=7, n_estimators=40, score=0.964455 -   0.2s\n",
      "[CV] criterion=entropy, max_depth=7, n_estimators=40 .................\n",
      "[CV]  criterion=entropy, max_depth=7, n_estimators=40, score=0.969194 -   0.2s\n"
     ]
    },
    {
     "name": "stderr",
     "output_type": "stream",
     "text": [
      "[Parallel(n_jobs=1)]: Done 108 out of 108 | elapsed:    7.6s finished\n",
      "[Parallel(n_jobs=1)]: Done   1 out of   1 | elapsed:    0.0s remaining:    0.0s\n",
      "[Parallel(n_jobs=1)]: Done   2 out of   2 | elapsed:    0.0s remaining:    0.0s\n",
      "[Parallel(n_jobs=1)]: Done   3 out of   3 | elapsed:    0.0s remaining:    0.0s\n"
     ]
    },
    {
     "name": "stdout",
     "output_type": "stream",
     "text": [
      "Fitting 3 folds for each of 36 candidates, totalling 108 fits\n",
      "[CV] criterion=gini, max_depth=3, n_estimators=3 .....................\n",
      "[CV]  criterion=gini, max_depth=3, n_estimators=3, score=0.921986 -   0.0s\n",
      "[CV] criterion=gini, max_depth=3, n_estimators=3 .....................\n",
      "[CV]  criterion=gini, max_depth=3, n_estimators=3, score=0.960900 -   0.0s\n",
      "[CV] criterion=gini, max_depth=3, n_estimators=3 .....................\n",
      "[CV]  criterion=gini, max_depth=3, n_estimators=3, score=0.937204 -   0.0s\n",
      "[CV] criterion=gini, max_depth=3, n_estimators=5 .....................\n",
      "[CV]  criterion=gini, max_depth=3, n_estimators=5, score=0.932624 -   0.0s\n",
      "[CV] criterion=gini, max_depth=3, n_estimators=5 .....................\n",
      "[CV]  criterion=gini, max_depth=3, n_estimators=5, score=0.966825 -   0.0s\n",
      "[CV] criterion=gini, max_depth=3, n_estimators=5 .....................\n",
      "[CV]  criterion=gini, max_depth=3, n_estimators=5, score=0.864929 -   0.0s\n",
      "[CV] criterion=gini, max_depth=3, n_estimators=10 ....................\n",
      "[CV]  criterion=gini, max_depth=3, n_estimators=10, score=0.897163 -   0.0s\n",
      "[CV] criterion=gini, max_depth=3, n_estimators=10 ....................\n",
      "[CV]  criterion=gini, max_depth=3, n_estimators=10, score=0.972749 -   0.0s\n",
      "[CV] criterion=gini, max_depth=3, n_estimators=10 ....................\n",
      "[CV]  criterion=gini, max_depth=3, n_estimators=10, score=0.939573 -   0.0s\n",
      "[CV] criterion=gini, max_depth=3, n_estimators=20 ....................\n",
      "[CV]  criterion=gini, max_depth=3, n_estimators=20, score=0.920804 -   0.1s\n",
      "[CV] criterion=gini, max_depth=3, n_estimators=20 ....................\n",
      "[CV]  criterion=gini, max_depth=3, n_estimators=20, score=0.963270 -   0.1s\n",
      "[CV] criterion=gini, max_depth=3, n_estimators=20 ....................\n",
      "[CV]  criterion=gini, max_depth=3, n_estimators=20, score=0.936019 -   0.1s\n",
      "[CV] criterion=gini, max_depth=3, n_estimators=30 ....................\n",
      "[CV]  criterion=gini, max_depth=3, n_estimators=30, score=0.933806 -   0.1s\n",
      "[CV] criterion=gini, max_depth=3, n_estimators=30 ....................\n",
      "[CV]  criterion=gini, max_depth=3, n_estimators=30, score=0.969194 -   0.1s\n",
      "[CV] criterion=gini, max_depth=3, n_estimators=30 ....................\n",
      "[CV]  criterion=gini, max_depth=3, n_estimators=30, score=0.960900 -   0.1s\n",
      "[CV] criterion=gini, max_depth=3, n_estimators=40 ....................\n",
      "[CV]  criterion=gini, max_depth=3, n_estimators=40, score=0.934988 -   0.1s\n",
      "[CV] criterion=gini, max_depth=3, n_estimators=40 ....................\n",
      "[CV]  criterion=gini, max_depth=3, n_estimators=40, score=0.958531 -   0.1s\n",
      "[CV] criterion=gini, max_depth=3, n_estimators=40 ....................\n",
      "[CV]  criterion=gini, max_depth=3, n_estimators=40, score=0.960900 -   0.1s\n",
      "[CV] criterion=gini, max_depth=5, n_estimators=3 .....................\n",
      "[CV]  criterion=gini, max_depth=5, n_estimators=3, score=0.908983 -   0.0s\n",
      "[CV] criterion=gini, max_depth=5, n_estimators=3 .....................\n",
      "[CV]  criterion=gini, max_depth=5, n_estimators=3, score=0.949052 -   0.0s\n",
      "[CV] criterion=gini, max_depth=5, n_estimators=3 .....................\n",
      "[CV]  criterion=gini, max_depth=5, n_estimators=3, score=0.895735 -   0.0s\n",
      "[CV] criterion=gini, max_depth=5, n_estimators=5 .....................\n",
      "[CV]  criterion=gini, max_depth=5, n_estimators=5, score=0.931442 -   0.0s\n",
      "[CV] criterion=gini, max_depth=5, n_estimators=5 .....................\n",
      "[CV]  criterion=gini, max_depth=5, n_estimators=5, score=0.957346 -   0.0s\n",
      "[CV] criterion=gini, max_depth=5, n_estimators=5 .....................\n",
      "[CV]  criterion=gini, max_depth=5, n_estimators=5, score=0.945498 -   0.0s\n",
      "[CV] criterion=gini, max_depth=5, n_estimators=10 ....................\n",
      "[CV]  criterion=gini, max_depth=5, n_estimators=10, score=0.939716 -   0.1s\n",
      "[CV] criterion=gini, max_depth=5, n_estimators=10 ....................\n",
      "[CV]  criterion=gini, max_depth=5, n_estimators=10, score=0.956161 -   0.1s\n",
      "[CV] criterion=gini, max_depth=5, n_estimators=10 ....................\n",
      "[CV]  criterion=gini, max_depth=5, n_estimators=10, score=0.959716 -   0.0s\n",
      "[CV] criterion=gini, max_depth=5, n_estimators=20 ....................\n",
      "[CV]  criterion=gini, max_depth=5, n_estimators=20, score=0.944444 -   0.1s\n",
      "[CV] criterion=gini, max_depth=5, n_estimators=20 ....................\n",
      "[CV]  criterion=gini, max_depth=5, n_estimators=20, score=0.963270 -   0.1s\n",
      "[CV] criterion=gini, max_depth=5, n_estimators=20 ....................\n",
      "[CV]  criterion=gini, max_depth=5, n_estimators=20, score=0.956161 -   0.1s\n",
      "[CV] criterion=gini, max_depth=5, n_estimators=30 ....................\n",
      "[CV]  criterion=gini, max_depth=5, n_estimators=30, score=0.946809 -   0.1s\n",
      "[CV] criterion=gini, max_depth=5, n_estimators=30 ....................\n",
      "[CV]  criterion=gini, max_depth=5, n_estimators=30, score=0.965640 -   0.1s\n",
      "[CV] criterion=gini, max_depth=5, n_estimators=30 ....................\n",
      "[CV]  criterion=gini, max_depth=5, n_estimators=30, score=0.953791 -   0.1s\n",
      "[CV] criterion=gini, max_depth=5, n_estimators=40 ....................\n",
      "[CV]  criterion=gini, max_depth=5, n_estimators=40, score=0.946809 -   0.2s\n",
      "[CV] criterion=gini, max_depth=5, n_estimators=40 ....................\n",
      "[CV]  criterion=gini, max_depth=5, n_estimators=40, score=0.963270 -   0.2s\n",
      "[CV] criterion=gini, max_depth=5, n_estimators=40 ....................\n",
      "[CV]  criterion=gini, max_depth=5, n_estimators=40, score=0.953791 -   0.2s\n",
      "[CV] criterion=gini, max_depth=7, n_estimators=3 .....................\n",
      "[CV]  criterion=gini, max_depth=7, n_estimators=3, score=0.947991 -   0.0s\n",
      "[CV] criterion=gini, max_depth=7, n_estimators=3 .....................\n",
      "[CV]  criterion=gini, max_depth=7, n_estimators=3, score=0.949052 -   0.0s\n",
      "[CV] criterion=gini, max_depth=7, n_estimators=3 .....................\n",
      "[CV]  criterion=gini, max_depth=7, n_estimators=3, score=0.945498 -   0.0s\n",
      "[CV] criterion=gini, max_depth=7, n_estimators=5 .....................\n",
      "[CV]  criterion=gini, max_depth=7, n_estimators=5, score=0.933806 -   0.0s\n",
      "[CV] criterion=gini, max_depth=7, n_estimators=5 .....................\n",
      "[CV]  criterion=gini, max_depth=7, n_estimators=5, score=0.960900 -   0.0s\n",
      "[CV] criterion=gini, max_depth=7, n_estimators=5 .....................\n",
      "[CV]  criterion=gini, max_depth=7, n_estimators=5, score=0.953791 -   0.0s\n",
      "[CV] criterion=gini, max_depth=7, n_estimators=10 ....................\n",
      "[CV]  criterion=gini, max_depth=7, n_estimators=10, score=0.938534 -   0.0s\n",
      "[CV] criterion=gini, max_depth=7, n_estimators=10 ....................\n",
      "[CV]  criterion=gini, max_depth=7, n_estimators=10, score=0.964455 -   0.0s\n",
      "[CV] criterion=gini, max_depth=7, n_estimators=10 ....................\n",
      "[CV]  criterion=gini, max_depth=7, n_estimators=10, score=0.949052 -   0.0s\n",
      "[CV] criterion=gini, max_depth=7, n_estimators=20 ....................\n",
      "[CV]  criterion=gini, max_depth=7, n_estimators=20, score=0.940898 -   0.1s\n",
      "[CV] criterion=gini, max_depth=7, n_estimators=20 ....................\n",
      "[CV]  criterion=gini, max_depth=7, n_estimators=20, score=0.964455 -   0.1s\n",
      "[CV] criterion=gini, max_depth=7, n_estimators=20 ....................\n",
      "[CV]  criterion=gini, max_depth=7, n_estimators=20, score=0.958531 -   0.1s\n",
      "[CV] criterion=gini, max_depth=7, n_estimators=30 ....................\n",
      "[CV]  criterion=gini, max_depth=7, n_estimators=30, score=0.949173 -   0.1s\n",
      "[CV] criterion=gini, max_depth=7, n_estimators=30 ....................\n",
      "[CV]  criterion=gini, max_depth=7, n_estimators=30, score=0.963270 -   0.1s\n",
      "[CV] criterion=gini, max_depth=7, n_estimators=30 ....................\n",
      "[CV]  criterion=gini, max_depth=7, n_estimators=30, score=0.964455 -   0.1s\n",
      "[CV] criterion=gini, max_depth=7, n_estimators=40 ....................\n",
      "[CV]  criterion=gini, max_depth=7, n_estimators=40, score=0.944444 -   0.1s\n",
      "[CV] criterion=gini, max_depth=7, n_estimators=40 ....................\n",
      "[CV]  criterion=gini, max_depth=7, n_estimators=40, score=0.966825 -   0.2s\n",
      "[CV] criterion=gini, max_depth=7, n_estimators=40 ....................\n",
      "[CV]  criterion=gini, max_depth=7, n_estimators=40, score=0.954976 -   0.2s\n",
      "[CV] criterion=entropy, max_depth=3, n_estimators=3 ..................\n",
      "[CV]  criterion=entropy, max_depth=3, n_estimators=3, score=0.943262 -   0.0s\n",
      "[CV] criterion=entropy, max_depth=3, n_estimators=3 ..................\n",
      "[CV]  criterion=entropy, max_depth=3, n_estimators=3, score=0.966825 -   0.0s\n",
      "[CV] criterion=entropy, max_depth=3, n_estimators=3 ..................\n",
      "[CV]  criterion=entropy, max_depth=3, n_estimators=3, score=0.930095 -   0.0s\n",
      "[CV] criterion=entropy, max_depth=3, n_estimators=5 ..................\n",
      "[CV]  criterion=entropy, max_depth=3, n_estimators=5, score=0.939716 -   0.0s\n",
      "[CV] criterion=entropy, max_depth=3, n_estimators=5 ..................\n",
      "[CV]  criterion=entropy, max_depth=3, n_estimators=5, score=0.952607 -   0.0s\n",
      "[CV] criterion=entropy, max_depth=3, n_estimators=5 ..................\n",
      "[CV]  criterion=entropy, max_depth=3, n_estimators=5, score=0.930095 -   0.0s\n",
      "[CV] criterion=entropy, max_depth=3, n_estimators=10 .................\n",
      "[CV]  criterion=entropy, max_depth=3, n_estimators=10, score=0.903073 -   0.0s\n",
      "[CV] criterion=entropy, max_depth=3, n_estimators=10 .................\n",
      "[CV]  criterion=entropy, max_depth=3, n_estimators=10, score=0.954976 -   0.0s\n",
      "[CV] criterion=entropy, max_depth=3, n_estimators=10 .................\n"
     ]
    },
    {
     "name": "stdout",
     "output_type": "stream",
     "text": [
      "[CV]  criterion=entropy, max_depth=3, n_estimators=10, score=0.934834 -   0.0s\n",
      "[CV] criterion=entropy, max_depth=3, n_estimators=20 .................\n",
      "[CV]  criterion=entropy, max_depth=3, n_estimators=20, score=0.884161 -   0.1s\n",
      "[CV] criterion=entropy, max_depth=3, n_estimators=20 .................\n",
      "[CV]  criterion=entropy, max_depth=3, n_estimators=20, score=0.969194 -   0.1s\n",
      "[CV] criterion=entropy, max_depth=3, n_estimators=20 .................\n",
      "[CV]  criterion=entropy, max_depth=3, n_estimators=20, score=0.934834 -   0.1s\n",
      "[CV] criterion=entropy, max_depth=3, n_estimators=30 .................\n",
      "[CV]  criterion=entropy, max_depth=3, n_estimators=30, score=0.917258 -   0.1s\n",
      "[CV] criterion=entropy, max_depth=3, n_estimators=30 .................\n",
      "[CV]  criterion=entropy, max_depth=3, n_estimators=30, score=0.964455 -   0.1s\n",
      "[CV] criterion=entropy, max_depth=3, n_estimators=30 .................\n",
      "[CV]  criterion=entropy, max_depth=3, n_estimators=30, score=0.953791 -   0.1s\n",
      "[CV] criterion=entropy, max_depth=3, n_estimators=40 .................\n",
      "[CV]  criterion=entropy, max_depth=3, n_estimators=40, score=0.841608 -   0.1s\n",
      "[CV] criterion=entropy, max_depth=3, n_estimators=40 .................\n",
      "[CV]  criterion=entropy, max_depth=3, n_estimators=40, score=0.970379 -   0.1s\n",
      "[CV] criterion=entropy, max_depth=3, n_estimators=40 .................\n",
      "[CV]  criterion=entropy, max_depth=3, n_estimators=40, score=0.941943 -   0.1s\n",
      "[CV] criterion=entropy, max_depth=5, n_estimators=3 ..................\n",
      "[CV]  criterion=entropy, max_depth=5, n_estimators=3, score=0.933806 -   0.0s\n",
      "[CV] criterion=entropy, max_depth=5, n_estimators=3 ..................\n",
      "[CV]  criterion=entropy, max_depth=5, n_estimators=3, score=0.939573 -   0.0s\n",
      "[CV] criterion=entropy, max_depth=5, n_estimators=3 ..................\n",
      "[CV]  criterion=entropy, max_depth=5, n_estimators=3, score=0.945498 -   0.0s\n",
      "[CV] criterion=entropy, max_depth=5, n_estimators=5 ..................\n",
      "[CV]  criterion=entropy, max_depth=5, n_estimators=5, score=0.950355 -   0.0s\n",
      "[CV] criterion=entropy, max_depth=5, n_estimators=5 ..................\n",
      "[CV]  criterion=entropy, max_depth=5, n_estimators=5, score=0.953791 -   0.0s\n",
      "[CV] criterion=entropy, max_depth=5, n_estimators=5 ..................\n",
      "[CV]  criterion=entropy, max_depth=5, n_estimators=5, score=0.940758 -   0.0s\n",
      "[CV] criterion=entropy, max_depth=5, n_estimators=10 .................\n",
      "[CV]  criterion=entropy, max_depth=5, n_estimators=10, score=0.934988 -   0.0s\n",
      "[CV] criterion=entropy, max_depth=5, n_estimators=10 .................\n",
      "[CV]  criterion=entropy, max_depth=5, n_estimators=10, score=0.963270 -   0.0s\n",
      "[CV] criterion=entropy, max_depth=5, n_estimators=10 .................\n",
      "[CV]  criterion=entropy, max_depth=5, n_estimators=10, score=0.947867 -   0.0s\n",
      "[CV] criterion=entropy, max_depth=5, n_estimators=20 .................\n",
      "[CV]  criterion=entropy, max_depth=5, n_estimators=20, score=0.952719 -   0.1s\n",
      "[CV] criterion=entropy, max_depth=5, n_estimators=20 .................\n",
      "[CV]  criterion=entropy, max_depth=5, n_estimators=20, score=0.966825 -   0.1s\n",
      "[CV] criterion=entropy, max_depth=5, n_estimators=20 .................\n",
      "[CV]  criterion=entropy, max_depth=5, n_estimators=20, score=0.949052 -   0.1s\n",
      "[CV] criterion=entropy, max_depth=5, n_estimators=30 .................\n",
      "[CV]  criterion=entropy, max_depth=5, n_estimators=30, score=0.949173 -   0.1s\n",
      "[CV] criterion=entropy, max_depth=5, n_estimators=30 .................\n",
      "[CV]  criterion=entropy, max_depth=5, n_estimators=30, score=0.960900 -   0.1s\n",
      "[CV] criterion=entropy, max_depth=5, n_estimators=30 .................\n",
      "[CV]  criterion=entropy, max_depth=5, n_estimators=30, score=0.964455 -   0.1s\n",
      "[CV] criterion=entropy, max_depth=5, n_estimators=40 .................\n",
      "[CV]  criterion=entropy, max_depth=5, n_estimators=40, score=0.946809 -   0.2s\n",
      "[CV] criterion=entropy, max_depth=5, n_estimators=40 .................\n",
      "[CV]  criterion=entropy, max_depth=5, n_estimators=40, score=0.965640 -   0.2s\n",
      "[CV] criterion=entropy, max_depth=5, n_estimators=40 .................\n",
      "[CV]  criterion=entropy, max_depth=5, n_estimators=40, score=0.946682 -   0.1s\n",
      "[CV] criterion=entropy, max_depth=7, n_estimators=3 ..................\n",
      "[CV]  criterion=entropy, max_depth=7, n_estimators=3, score=0.942080 -   0.0s\n",
      "[CV] criterion=entropy, max_depth=7, n_estimators=3 ..................\n",
      "[CV]  criterion=entropy, max_depth=7, n_estimators=3, score=0.960900 -   0.0s\n",
      "[CV] criterion=entropy, max_depth=7, n_estimators=3 ..................\n",
      "[CV]  criterion=entropy, max_depth=7, n_estimators=3, score=0.911137 -   0.0s\n",
      "[CV] criterion=entropy, max_depth=7, n_estimators=5 ..................\n",
      "[CV]  criterion=entropy, max_depth=7, n_estimators=5, score=0.942080 -   0.0s\n",
      "[CV] criterion=entropy, max_depth=7, n_estimators=5 ..................\n",
      "[CV]  criterion=entropy, max_depth=7, n_estimators=5, score=0.954976 -   0.0s\n",
      "[CV] criterion=entropy, max_depth=7, n_estimators=5 ..................\n",
      "[CV]  criterion=entropy, max_depth=7, n_estimators=5, score=0.930095 -   0.0s\n",
      "[CV] criterion=entropy, max_depth=7, n_estimators=10 .................\n",
      "[CV]  criterion=entropy, max_depth=7, n_estimators=10, score=0.944444 -   0.0s\n",
      "[CV] criterion=entropy, max_depth=7, n_estimators=10 .................\n",
      "[CV]  criterion=entropy, max_depth=7, n_estimators=10, score=0.962085 -   0.0s\n",
      "[CV] criterion=entropy, max_depth=7, n_estimators=10 .................\n",
      "[CV]  criterion=entropy, max_depth=7, n_estimators=10, score=0.950237 -   0.1s\n",
      "[CV] criterion=entropy, max_depth=7, n_estimators=20 .................\n",
      "[CV]  criterion=entropy, max_depth=7, n_estimators=20, score=0.951537 -   0.1s\n",
      "[CV] criterion=entropy, max_depth=7, n_estimators=20 .................\n",
      "[CV]  criterion=entropy, max_depth=7, n_estimators=20, score=0.960900 -   0.1s\n",
      "[CV] criterion=entropy, max_depth=7, n_estimators=20 .................\n",
      "[CV]  criterion=entropy, max_depth=7, n_estimators=20, score=0.950237 -   0.1s\n",
      "[CV] criterion=entropy, max_depth=7, n_estimators=30 .................\n",
      "[CV]  criterion=entropy, max_depth=7, n_estimators=30, score=0.946809 -   0.1s\n",
      "[CV] criterion=entropy, max_depth=7, n_estimators=30 .................\n",
      "[CV]  criterion=entropy, max_depth=7, n_estimators=30, score=0.966825 -   0.1s\n",
      "[CV] criterion=entropy, max_depth=7, n_estimators=30 .................\n",
      "[CV]  criterion=entropy, max_depth=7, n_estimators=30, score=0.965640 -   0.1s\n",
      "[CV] criterion=entropy, max_depth=7, n_estimators=40 .................\n",
      "[CV]  criterion=entropy, max_depth=7, n_estimators=40, score=0.953901 -   0.2s\n",
      "[CV] criterion=entropy, max_depth=7, n_estimators=40 .................\n",
      "[CV]  criterion=entropy, max_depth=7, n_estimators=40, score=0.968009 -   0.2s\n",
      "[CV] criterion=entropy, max_depth=7, n_estimators=40 .................\n",
      "[CV]  criterion=entropy, max_depth=7, n_estimators=40, score=0.949052 -   0.2s\n",
      "Fitting 3 folds for each of 36 candidates, totalling 108 fits\n",
      "[CV] criterion=gini, max_depth=3, n_estimators=3 .....................\n",
      "[CV]  criterion=gini, max_depth=3, n_estimators=3, score=0.801418 -   0.0s\n",
      "[CV] criterion=gini, max_depth=3, n_estimators=3 .....................\n",
      "[CV]  criterion=gini, max_depth=3, n_estimators=3, score=0.956265 -   0.0s\n"
     ]
    },
    {
     "name": "stderr",
     "output_type": "stream",
     "text": [
      "[Parallel(n_jobs=1)]: Done 108 out of 108 | elapsed:    7.5s finished\n",
      "[Parallel(n_jobs=1)]: Done   1 out of   1 | elapsed:    0.0s remaining:    0.0s\n",
      "[Parallel(n_jobs=1)]: Done   2 out of   2 | elapsed:    0.0s remaining:    0.0s\n"
     ]
    },
    {
     "name": "stdout",
     "output_type": "stream",
     "text": [
      "[CV] criterion=gini, max_depth=3, n_estimators=3 .....................\n",
      "[CV]  criterion=gini, max_depth=3, n_estimators=3, score=0.972749 -   0.0s\n",
      "[CV] criterion=gini, max_depth=3, n_estimators=5 .....................\n",
      "[CV]  criterion=gini, max_depth=3, n_estimators=5, score=0.904255 -   0.0s\n",
      "[CV] criterion=gini, max_depth=3, n_estimators=5 .....................\n",
      "[CV]  criterion=gini, max_depth=3, n_estimators=5, score=0.955083 -   0.0s\n",
      "[CV] criterion=gini, max_depth=3, n_estimators=5 .....................\n",
      "[CV]  criterion=gini, max_depth=3, n_estimators=5, score=0.965640 -   0.0s\n",
      "[CV] criterion=gini, max_depth=3, n_estimators=10 ....................\n",
      "[CV]  criterion=gini, max_depth=3, n_estimators=10, score=0.894799 -   0.1s\n",
      "[CV] criterion=gini, max_depth=3, n_estimators=10 ....................\n",
      "[CV]  criterion=gini, max_depth=3, n_estimators=10, score=0.962175 -   0.0s\n",
      "[CV] criterion=gini, max_depth=3, n_estimators=10 ....................\n"
     ]
    },
    {
     "name": "stderr",
     "output_type": "stream",
     "text": [
      "[Parallel(n_jobs=1)]: Done   3 out of   3 | elapsed:    0.0s remaining:    0.0s\n"
     ]
    },
    {
     "name": "stdout",
     "output_type": "stream",
     "text": [
      "[CV]  criterion=gini, max_depth=3, n_estimators=10, score=0.970379 -   0.0s\n",
      "[CV] criterion=gini, max_depth=3, n_estimators=20 ....................\n",
      "[CV]  criterion=gini, max_depth=3, n_estimators=20, score=0.874704 -   0.1s\n",
      "[CV] criterion=gini, max_depth=3, n_estimators=20 ....................\n",
      "[CV]  criterion=gini, max_depth=3, n_estimators=20, score=0.965721 -   0.1s\n",
      "[CV] criterion=gini, max_depth=3, n_estimators=20 ....................\n",
      "[CV]  criterion=gini, max_depth=3, n_estimators=20, score=0.982227 -   0.0s\n",
      "[CV] criterion=gini, max_depth=3, n_estimators=30 ....................\n",
      "[CV]  criterion=gini, max_depth=3, n_estimators=30, score=0.823877 -   0.1s\n",
      "[CV] criterion=gini, max_depth=3, n_estimators=30 ....................\n",
      "[CV]  criterion=gini, max_depth=3, n_estimators=30, score=0.965721 -   0.1s\n",
      "[CV] criterion=gini, max_depth=3, n_estimators=30 ....................\n",
      "[CV]  criterion=gini, max_depth=3, n_estimators=30, score=0.968009 -   0.1s\n",
      "[CV] criterion=gini, max_depth=3, n_estimators=40 ....................\n",
      "[CV]  criterion=gini, max_depth=3, n_estimators=40, score=0.925532 -   0.1s\n",
      "[CV] criterion=gini, max_depth=3, n_estimators=40 ....................\n",
      "[CV]  criterion=gini, max_depth=3, n_estimators=40, score=0.963357 -   0.1s\n",
      "[CV] criterion=gini, max_depth=3, n_estimators=40 ....................\n",
      "[CV]  criterion=gini, max_depth=3, n_estimators=40, score=0.956161 -   0.1s\n",
      "[CV] criterion=gini, max_depth=5, n_estimators=3 .....................\n",
      "[CV]  criterion=gini, max_depth=5, n_estimators=3, score=0.884161 -   0.0s\n",
      "[CV] criterion=gini, max_depth=5, n_estimators=3 .....................\n",
      "[CV]  criterion=gini, max_depth=5, n_estimators=3, score=0.964539 -   0.0s\n",
      "[CV] criterion=gini, max_depth=5, n_estimators=3 .....................\n",
      "[CV]  criterion=gini, max_depth=5, n_estimators=3, score=0.864929 -   0.0s\n",
      "[CV] criterion=gini, max_depth=5, n_estimators=5 .....................\n",
      "[CV]  criterion=gini, max_depth=5, n_estimators=5, score=0.906619 -   0.0s\n",
      "[CV] criterion=gini, max_depth=5, n_estimators=5 .....................\n",
      "[CV]  criterion=gini, max_depth=5, n_estimators=5, score=0.959811 -   0.0s\n",
      "[CV] criterion=gini, max_depth=5, n_estimators=5 .....................\n",
      "[CV]  criterion=gini, max_depth=5, n_estimators=5, score=0.960900 -   0.0s\n",
      "[CV] criterion=gini, max_depth=5, n_estimators=10 ....................\n",
      "[CV]  criterion=gini, max_depth=5, n_estimators=10, score=0.914894 -   0.0s\n",
      "[CV] criterion=gini, max_depth=5, n_estimators=10 ....................\n",
      "[CV]  criterion=gini, max_depth=5, n_estimators=10, score=0.957447 -   0.0s\n",
      "[CV] criterion=gini, max_depth=5, n_estimators=10 ....................\n",
      "[CV]  criterion=gini, max_depth=5, n_estimators=10, score=0.965640 -   0.0s\n",
      "[CV] criterion=gini, max_depth=5, n_estimators=20 ....................\n",
      "[CV]  criterion=gini, max_depth=5, n_estimators=20, score=0.925532 -   0.1s\n",
      "[CV] criterion=gini, max_depth=5, n_estimators=20 ....................\n",
      "[CV]  criterion=gini, max_depth=5, n_estimators=20, score=0.965721 -   0.1s\n",
      "[CV] criterion=gini, max_depth=5, n_estimators=20 ....................\n",
      "[CV]  criterion=gini, max_depth=5, n_estimators=20, score=0.966825 -   0.1s\n",
      "[CV] criterion=gini, max_depth=5, n_estimators=30 ....................\n",
      "[CV]  criterion=gini, max_depth=5, n_estimators=30, score=0.923168 -   0.1s\n",
      "[CV] criterion=gini, max_depth=5, n_estimators=30 ....................\n",
      "[CV]  criterion=gini, max_depth=5, n_estimators=30, score=0.968085 -   0.1s\n",
      "[CV] criterion=gini, max_depth=5, n_estimators=30 ....................\n",
      "[CV]  criterion=gini, max_depth=5, n_estimators=30, score=0.969194 -   0.1s\n",
      "[CV] criterion=gini, max_depth=5, n_estimators=40 ....................\n",
      "[CV]  criterion=gini, max_depth=5, n_estimators=40, score=0.923168 -   0.1s\n",
      "[CV] criterion=gini, max_depth=5, n_estimators=40 ....................\n",
      "[CV]  criterion=gini, max_depth=5, n_estimators=40, score=0.966903 -   0.1s\n",
      "[CV] criterion=gini, max_depth=5, n_estimators=40 ....................\n",
      "[CV]  criterion=gini, max_depth=5, n_estimators=40, score=0.975118 -   0.1s\n",
      "[CV] criterion=gini, max_depth=7, n_estimators=3 .....................\n",
      "[CV]  criterion=gini, max_depth=7, n_estimators=3, score=0.910165 -   0.0s\n",
      "[CV] criterion=gini, max_depth=7, n_estimators=3 .....................\n",
      "[CV]  criterion=gini, max_depth=7, n_estimators=3, score=0.959811 -   0.0s\n",
      "[CV] criterion=gini, max_depth=7, n_estimators=3 .....................\n",
      "[CV]  criterion=gini, max_depth=7, n_estimators=3, score=0.944313 -   0.0s\n",
      "[CV] criterion=gini, max_depth=7, n_estimators=5 .....................\n",
      "[CV]  criterion=gini, max_depth=7, n_estimators=5, score=0.918440 -   0.0s\n",
      "[CV] criterion=gini, max_depth=7, n_estimators=5 .....................\n",
      "[CV]  criterion=gini, max_depth=7, n_estimators=5, score=0.962175 -   0.0s\n",
      "[CV] criterion=gini, max_depth=7, n_estimators=5 .....................\n",
      "[CV]  criterion=gini, max_depth=7, n_estimators=5, score=0.984597 -   0.0s\n",
      "[CV] criterion=gini, max_depth=7, n_estimators=10 ....................\n",
      "[CV]  criterion=gini, max_depth=7, n_estimators=10, score=0.920804 -   0.1s\n",
      "[CV] criterion=gini, max_depth=7, n_estimators=10 ....................\n",
      "[CV]  criterion=gini, max_depth=7, n_estimators=10, score=0.960993 -   0.1s\n",
      "[CV] criterion=gini, max_depth=7, n_estimators=10 ....................\n",
      "[CV]  criterion=gini, max_depth=7, n_estimators=10, score=0.977488 -   0.0s\n",
      "[CV] criterion=gini, max_depth=7, n_estimators=20 ....................\n",
      "[CV]  criterion=gini, max_depth=7, n_estimators=20, score=0.918440 -   0.1s\n",
      "[CV] criterion=gini, max_depth=7, n_estimators=20 ....................\n",
      "[CV]  criterion=gini, max_depth=7, n_estimators=20, score=0.965721 -   0.1s\n",
      "[CV] criterion=gini, max_depth=7, n_estimators=20 ....................\n",
      "[CV]  criterion=gini, max_depth=7, n_estimators=20, score=0.970379 -   0.1s\n",
      "[CV] criterion=gini, max_depth=7, n_estimators=30 ....................\n",
      "[CV]  criterion=gini, max_depth=7, n_estimators=30, score=0.921986 -   0.1s\n",
      "[CV] criterion=gini, max_depth=7, n_estimators=30 ....................\n",
      "[CV]  criterion=gini, max_depth=7, n_estimators=30, score=0.963357 -   0.1s\n",
      "[CV] criterion=gini, max_depth=7, n_estimators=30 ....................\n",
      "[CV]  criterion=gini, max_depth=7, n_estimators=30, score=0.958531 -   0.1s\n",
      "[CV] criterion=gini, max_depth=7, n_estimators=40 ....................\n",
      "[CV]  criterion=gini, max_depth=7, n_estimators=40, score=0.926714 -   0.2s\n",
      "[CV] criterion=gini, max_depth=7, n_estimators=40 ....................\n",
      "[CV]  criterion=gini, max_depth=7, n_estimators=40, score=0.968085 -   0.2s\n",
      "[CV] criterion=gini, max_depth=7, n_estimators=40 ....................\n",
      "[CV]  criterion=gini, max_depth=7, n_estimators=40, score=0.971564 -   0.1s\n",
      "[CV] criterion=entropy, max_depth=3, n_estimators=3 ..................\n",
      "[CV]  criterion=entropy, max_depth=3, n_estimators=3, score=0.799054 -   0.0s\n",
      "[CV] criterion=entropy, max_depth=3, n_estimators=3 ..................\n",
      "[CV]  criterion=entropy, max_depth=3, n_estimators=3, score=0.946809 -   0.0s\n",
      "[CV] criterion=entropy, max_depth=3, n_estimators=3 ..................\n",
      "[CV]  criterion=entropy, max_depth=3, n_estimators=3, score=0.931280 -   0.0s\n",
      "[CV] criterion=entropy, max_depth=3, n_estimators=5 ..................\n",
      "[CV]  criterion=entropy, max_depth=3, n_estimators=5, score=0.884161 -   0.0s\n",
      "[CV] criterion=entropy, max_depth=3, n_estimators=5 ..................\n",
      "[CV]  criterion=entropy, max_depth=3, n_estimators=5, score=0.927896 -   0.0s\n",
      "[CV] criterion=entropy, max_depth=3, n_estimators=5 ..................\n",
      "[CV]  criterion=entropy, max_depth=3, n_estimators=5, score=0.954976 -   0.0s\n",
      "[CV] criterion=entropy, max_depth=3, n_estimators=10 .................\n",
      "[CV]  criterion=entropy, max_depth=3, n_estimators=10, score=0.788416 -   0.0s\n",
      "[CV] criterion=entropy, max_depth=3, n_estimators=10 .................\n",
      "[CV]  criterion=entropy, max_depth=3, n_estimators=10, score=0.938534 -   0.0s\n",
      "[CV] criterion=entropy, max_depth=3, n_estimators=10 .................\n",
      "[CV]  criterion=entropy, max_depth=3, n_estimators=10, score=0.956161 -   0.0s\n",
      "[CV] criterion=entropy, max_depth=3, n_estimators=20 .................\n",
      "[CV]  criterion=entropy, max_depth=3, n_estimators=20, score=0.878251 -   0.1s\n",
      "[CV] criterion=entropy, max_depth=3, n_estimators=20 .................\n",
      "[CV]  criterion=entropy, max_depth=3, n_estimators=20, score=0.960993 -   0.1s\n",
      "[CV] criterion=entropy, max_depth=3, n_estimators=20 .................\n"
     ]
    },
    {
     "name": "stdout",
     "output_type": "stream",
     "text": [
      "[CV]  criterion=entropy, max_depth=3, n_estimators=20, score=0.946682 -   0.1s\n",
      "[CV] criterion=entropy, max_depth=3, n_estimators=30 .................\n",
      "[CV]  criterion=entropy, max_depth=3, n_estimators=30, score=0.904255 -   0.1s\n",
      "[CV] criterion=entropy, max_depth=3, n_estimators=30 .................\n",
      "[CV]  criterion=entropy, max_depth=3, n_estimators=30, score=0.964539 -   0.1s\n",
      "[CV] criterion=entropy, max_depth=3, n_estimators=30 .................\n",
      "[CV]  criterion=entropy, max_depth=3, n_estimators=30, score=0.958531 -   0.1s\n",
      "[CV] criterion=entropy, max_depth=3, n_estimators=40 .................\n",
      "[CV]  criterion=entropy, max_depth=3, n_estimators=40, score=0.894799 -   0.1s\n",
      "[CV] criterion=entropy, max_depth=3, n_estimators=40 .................\n",
      "[CV]  criterion=entropy, max_depth=3, n_estimators=40, score=0.962175 -   0.2s\n",
      "[CV] criterion=entropy, max_depth=3, n_estimators=40 .................\n",
      "[CV]  criterion=entropy, max_depth=3, n_estimators=40, score=0.986967 -   0.2s\n",
      "[CV] criterion=entropy, max_depth=5, n_estimators=3 ..................\n",
      "[CV]  criterion=entropy, max_depth=5, n_estimators=3, score=0.894799 -   0.0s\n",
      "[CV] criterion=entropy, max_depth=5, n_estimators=3 ..................\n",
      "[CV]  criterion=entropy, max_depth=5, n_estimators=3, score=0.944444 -   0.0s\n",
      "[CV] criterion=entropy, max_depth=5, n_estimators=3 ..................\n",
      "[CV]  criterion=entropy, max_depth=5, n_estimators=3, score=0.914692 -   0.0s\n",
      "[CV] criterion=entropy, max_depth=5, n_estimators=5 ..................\n",
      "[CV]  criterion=entropy, max_depth=5, n_estimators=5, score=0.920804 -   0.0s\n",
      "[CV] criterion=entropy, max_depth=5, n_estimators=5 ..................\n",
      "[CV]  criterion=entropy, max_depth=5, n_estimators=5, score=0.955083 -   0.0s\n",
      "[CV] criterion=entropy, max_depth=5, n_estimators=5 ..................\n",
      "[CV]  criterion=entropy, max_depth=5, n_estimators=5, score=0.963270 -   0.0s\n",
      "[CV] criterion=entropy, max_depth=5, n_estimators=10 .................\n",
      "[CV]  criterion=entropy, max_depth=5, n_estimators=10, score=0.931442 -   0.0s\n",
      "[CV] criterion=entropy, max_depth=5, n_estimators=10 .................\n",
      "[CV]  criterion=entropy, max_depth=5, n_estimators=10, score=0.960993 -   0.0s\n",
      "[CV] criterion=entropy, max_depth=5, n_estimators=10 .................\n",
      "[CV]  criterion=entropy, max_depth=5, n_estimators=10, score=0.943128 -   0.1s\n",
      "[CV] criterion=entropy, max_depth=5, n_estimators=20 .................\n",
      "[CV]  criterion=entropy, max_depth=5, n_estimators=20, score=0.925532 -   0.1s\n",
      "[CV] criterion=entropy, max_depth=5, n_estimators=20 .................\n",
      "[CV]  criterion=entropy, max_depth=5, n_estimators=20, score=0.966903 -   0.1s\n",
      "[CV] criterion=entropy, max_depth=5, n_estimators=20 .................\n",
      "[CV]  criterion=entropy, max_depth=5, n_estimators=20, score=0.981043 -   0.1s\n",
      "[CV] criterion=entropy, max_depth=5, n_estimators=30 .................\n",
      "[CV]  criterion=entropy, max_depth=5, n_estimators=30, score=0.927896 -   0.1s\n",
      "[CV] criterion=entropy, max_depth=5, n_estimators=30 .................\n",
      "[CV]  criterion=entropy, max_depth=5, n_estimators=30, score=0.965721 -   0.1s\n",
      "[CV] criterion=entropy, max_depth=5, n_estimators=30 .................\n",
      "[CV]  criterion=entropy, max_depth=5, n_estimators=30, score=0.963270 -   0.1s\n",
      "[CV] criterion=entropy, max_depth=5, n_estimators=40 .................\n",
      "[CV]  criterion=entropy, max_depth=5, n_estimators=40, score=0.927896 -   0.2s\n",
      "[CV] criterion=entropy, max_depth=5, n_estimators=40 .................\n",
      "[CV]  criterion=entropy, max_depth=5, n_estimators=40, score=0.965721 -   0.2s\n",
      "[CV] criterion=entropy, max_depth=5, n_estimators=40 .................\n",
      "[CV]  criterion=entropy, max_depth=5, n_estimators=40, score=0.969194 -   0.2s\n",
      "[CV] criterion=entropy, max_depth=7, n_estimators=3 ..................\n",
      "[CV]  criterion=entropy, max_depth=7, n_estimators=3, score=0.800236 -   0.0s\n",
      "[CV] criterion=entropy, max_depth=7, n_estimators=3 ..................\n",
      "[CV]  criterion=entropy, max_depth=7, n_estimators=3, score=0.957447 -   0.0s\n",
      "[CV] criterion=entropy, max_depth=7, n_estimators=3 ..................\n",
      "[CV]  criterion=entropy, max_depth=7, n_estimators=3, score=0.936019 -   0.0s\n",
      "[CV] criterion=entropy, max_depth=7, n_estimators=5 ..................\n",
      "[CV]  criterion=entropy, max_depth=7, n_estimators=5, score=0.939716 -   0.0s\n",
      "[CV] criterion=entropy, max_depth=7, n_estimators=5 ..................\n",
      "[CV]  criterion=entropy, max_depth=7, n_estimators=5, score=0.950355 -   0.0s\n",
      "[CV] criterion=entropy, max_depth=7, n_estimators=5 ..................\n",
      "[CV]  criterion=entropy, max_depth=7, n_estimators=5, score=0.956161 -   0.0s\n",
      "[CV] criterion=entropy, max_depth=7, n_estimators=10 .................\n",
      "[CV]  criterion=entropy, max_depth=7, n_estimators=10, score=0.929078 -   0.1s\n",
      "[CV] criterion=entropy, max_depth=7, n_estimators=10 .................\n",
      "[CV]  criterion=entropy, max_depth=7, n_estimators=10, score=0.968085 -   0.0s\n",
      "[CV] criterion=entropy, max_depth=7, n_estimators=10 .................\n",
      "[CV]  criterion=entropy, max_depth=7, n_estimators=10, score=0.975118 -   0.1s\n",
      "[CV] criterion=entropy, max_depth=7, n_estimators=20 .................\n",
      "[CV]  criterion=entropy, max_depth=7, n_estimators=20, score=0.929078 -   0.1s\n",
      "[CV] criterion=entropy, max_depth=7, n_estimators=20 .................\n",
      "[CV]  criterion=entropy, max_depth=7, n_estimators=20, score=0.962175 -   0.1s\n",
      "[CV] criterion=entropy, max_depth=7, n_estimators=20 .................\n",
      "[CV]  criterion=entropy, max_depth=7, n_estimators=20, score=0.950237 -   0.1s\n",
      "[CV] criterion=entropy, max_depth=7, n_estimators=30 .................\n",
      "[CV]  criterion=entropy, max_depth=7, n_estimators=30, score=0.927896 -   0.1s\n",
      "[CV] criterion=entropy, max_depth=7, n_estimators=30 .................\n",
      "[CV]  criterion=entropy, max_depth=7, n_estimators=30, score=0.966903 -   0.2s\n",
      "[CV] criterion=entropy, max_depth=7, n_estimators=30 .................\n",
      "[CV]  criterion=entropy, max_depth=7, n_estimators=30, score=0.978673 -   0.2s\n",
      "[CV] criterion=entropy, max_depth=7, n_estimators=40 .................\n",
      "[CV]  criterion=entropy, max_depth=7, n_estimators=40, score=0.924350 -   0.2s\n",
      "[CV] criterion=entropy, max_depth=7, n_estimators=40 .................\n",
      "[CV]  criterion=entropy, max_depth=7, n_estimators=40, score=0.970449 -   0.2s\n",
      "[CV] criterion=entropy, max_depth=7, n_estimators=40 .................\n",
      "[CV]  criterion=entropy, max_depth=7, n_estimators=40, score=0.964455 -   0.2s\n",
      "Accuracy: 0.97 (+/- 0.04)\n"
     ]
    },
    {
     "name": "stderr",
     "output_type": "stream",
     "text": [
      "[Parallel(n_jobs=1)]: Done 108 out of 108 | elapsed:    8.0s finished\n"
     ]
    }
   ],
   "source": [
    "scores = cross_val_score(rfc,voice_data, voice_target, cv=5)"
   ]
  },
  {
   "cell_type": "code",
   "execution_count": 95,
   "metadata": {},
   "outputs": [
    {
     "name": "stdout",
     "output_type": "stream",
     "text": [
      "Accuracy: 0.97 (+/- 0.04)\n"
     ]
    }
   ],
   "source": [
    "print(\"Accuracy: %0.2f (+/- %0.2f)\" % (scores.mean(), scores.std() * 2))"
   ]
  },
  {
   "cell_type": "markdown",
   "metadata": {},
   "source": [
    "## XGBoost"
   ]
  },
  {
   "cell_type": "code",
   "execution_count": 97,
   "metadata": {
    "collapsed": true
   },
   "outputs": [],
   "source": [
    "import xgboost\n",
    "from xgboost.sklearn import XGBClassifier\n",
    "from xgboost.sklearn import XGBRegressor\n",
    "\n",
    "from sklearn.pipeline import Pipeline\n",
    "from sklearn.preprocessing import StandardScaler\n",
    "\n",
    "from sklearn.model_selection import train_test_split  \n",
    "from sklearn.cross_validation import cross_val_score\n",
    "from sklearn.metrics import accuracy_score\n",
    "\n",
    "from xgboost import plot_importance\n",
    "from matplotlib import pyplot\n",
    "import pprint\n",
    "%matplotlib inline\n",
    "\n",
    "import matplotlib.pylab as plt\n",
    "%matplotlib inline\n",
    "from matplotlib.pylab import rcParams\n",
    "rcParams['figure.figsize'] = 12, 4\n",
    "\n",
    "from scipy.stats import randint"
   ]
  },
  {
   "cell_type": "code",
   "execution_count": 98,
   "metadata": {
    "collapsed": true
   },
   "outputs": [],
   "source": [
    "pipeline = Pipeline([('scaler', StandardScaler()), ('classifier', XGBClassifier())])"
   ]
  },
  {
   "cell_type": "code",
   "execution_count": 99,
   "metadata": {},
   "outputs": [
    {
     "data": {
      "text/plain": [
       "Pipeline(memory=None,\n",
       "     steps=[('scaler', StandardScaler(copy=True, with_mean=True, with_std=True)), ('classifier', XGBClassifier(base_score=0.5, colsample_bylevel=1, colsample_bytree=1,\n",
       "       gamma=0, learning_rate=0.1, max_delta_step=0, max_depth=3,\n",
       "       min_child_weight=1, missing=None, n_estimators=100, nthread=-1,\n",
       "       objective='binary:logistic', reg_alpha=0, reg_lambda=1,\n",
       "       scale_pos_weight=1, seed=0, silent=True, subsample=1))])"
      ]
     },
     "execution_count": 99,
     "metadata": {},
     "output_type": "execute_result"
    }
   ],
   "source": [
    "pipeline"
   ]
  },
  {
   "cell_type": "code",
   "execution_count": 100,
   "metadata": {},
   "outputs": [
    {
     "data": {
      "text/plain": [
       "Pipeline(memory=None,\n",
       "     steps=[('scaler', StandardScaler(copy=True, with_mean=True, with_std=True)), ('classifier', XGBClassifier(base_score=0.5, colsample_bylevel=1, colsample_bytree=1,\n",
       "       gamma=0, learning_rate=0.1, max_delta_step=0, max_depth=3,\n",
       "       min_child_weight=1, missing=None, n_estimators=100, nthread=-1,\n",
       "       objective='binary:logistic', reg_alpha=0, reg_lambda=1,\n",
       "       scale_pos_weight=1, seed=0, silent=True, subsample=1))])"
      ]
     },
     "execution_count": 100,
     "metadata": {},
     "output_type": "execute_result"
    }
   ],
   "source": [
    "pipeline.fit(X_train, y_train)"
   ]
  },
  {
   "cell_type": "code",
   "execution_count": 101,
   "metadata": {},
   "outputs": [
    {
     "data": {
      "text/plain": [
       "<matplotlib.axes._subplots.AxesSubplot at 0x1a1858d780>"
      ]
     },
     "execution_count": 101,
     "metadata": {},
     "output_type": "execute_result"
    },
    {
     "data": {
      "image/png": "[encoded data removed]",
      "text/plain": [
       "<matplotlib.figure.Figure at 0x1a1852c470>"
      ]
     },
     "metadata": {},
     "output_type": "display_data"
    }
   ],
   "source": [
    "xgboost.plot_importance(pipeline.steps[1][1])"
   ]
  },
  {
   "cell_type": "code",
   "execution_count": 102,
   "metadata": {
    "collapsed": true
   },
   "outputs": [],
   "source": [
    "y_pred = pipeline.predict(X_test)"
   ]
  },
  {
   "cell_type": "code",
   "execution_count": 103,
   "metadata": {},
   "outputs": [
    {
     "name": "stdout",
     "output_type": "stream",
     "text": [
      "Accuracy: 97.16%\n"
     ]
    }
   ],
   "source": [
    "accuracy = accuracy_score(y_test, y_pred)\n",
    "\n",
    "print(\"Accuracy: %.2f%%\" % (accuracy * 100.0))"
   ]
  },
  {
   "cell_type": "markdown",
   "metadata": {},
   "source": [
    "#### Step 1: Fix learning rate and number of estimators, tune only tree-based parameters"
   ]
  },
  {
   "cell_type": "code",
   "execution_count": 105,
   "metadata": {
    "collapsed": true
   },
   "outputs": [],
   "source": [
    "pipeline_gs = Pipeline([('scaler', StandardScaler()), ('classifier', XGBClassifier())])\n",
    "parameters = {'classifier__learning_rate': [0.1], 'classifier__n_estimators': [10,20,30,40,50,60,80,100],\n",
    "              'classifier__max_depth':[3],'classifier__min_child_weight':[1],\n",
    "              'classifier__gamma':[0],'classifier__subsample':[1],\n",
    "              'classifier__colsample_bytree':[1],'classifier__nthread':[-1],\n",
    "              'classifier__colsample_bylevel':[1],\n",
    "              'classifier__max_delta_step':[0],\n",
    "              'classifier__objective':['binary:logistic'],\n",
    "              'classifier__reg_alpha':[0],\n",
    "              'classifier__reg_lambda':[1],\n",
    "              'classifier__scale_pos_weight':[1],\n",
    "              'classifier__seed':[0]\n",
    "             }"
   ]
  },
  {
   "cell_type": "code",
   "execution_count": 116,
   "metadata": {},
   "outputs": [
    {
     "data": {
      "text/plain": [
       "GridSearchCV(cv=None, error_score='raise',\n",
       "       estimator=Pipeline(memory=None,\n",
       "     steps=[('scaler', StandardScaler(copy=True, with_mean=True, with_std=True)), ('classifier', XGBClassifier(base_score=0.5, colsample_bylevel=1, colsample_bytree=1,\n",
       "       gamma=0, learning_rate=0.1, max_delta_step=0, max_depth=3,\n",
       "       min_child_weight=1, missing=None, n_estimators=100, nthread=-1,\n",
       "       objective='binary:logistic', reg_alpha=0, reg_lambda=1,\n",
       "       scale_pos_weight=1, seed=0, silent=True, subsample=1))]),\n",
       "       fit_params={}, iid=True, n_jobs=1,\n",
       "       param_grid={'classifier__learning_rate': [0.1], 'classifier__n_estimators': [80], 'classifier__max_depth': [5], 'classifier__min_child_weight': [5], 'classifier__gamma': [0, 0.1, 0.2, 0.5], 'classifier__subsample': [1], 'classifier__colsample_bytree': [1], 'classifier__nthread': [-1], 'classifier__c...': [0], 'classifier__reg_lambda': [1], 'classifier__scale_pos_weight': [1], 'classifier__seed': [0]},\n",
       "       pre_dispatch='2*n_jobs', refit=True, scoring=None, verbose=0)"
      ]
     },
     "execution_count": 116,
     "metadata": {},
     "output_type": "execute_result"
    }
   ],
   "source": [
    "from sklearn.grid_search import GridSearchCV\n",
    "rfc1 = GridSearchCV(pipeline_gs, parameters)\n",
    "rfc1.fit(X_train, y_train)"
   ]
  },
  {
   "cell_type": "code",
   "execution_count": 117,
   "metadata": {},
   "outputs": [
    {
     "name": "stdout",
     "output_type": "stream",
     "text": [
      "Best score: 0.9802683504340963\n",
      "Best parameter set: {'classifier__colsample_bylevel': 1, 'classifier__colsample_bytree': 1, 'classifier__gamma': 0, 'classifier__learning_rate': 0.1, 'classifier__max_delta_step': 0, 'classifier__max_depth': 5, 'classifier__min_child_weight': 5, 'classifier__n_estimators': 80, 'classifier__nthread': -1, 'classifier__objective': 'binary:logistic', 'classifier__reg_alpha': 0, 'classifier__reg_lambda': 1, 'classifier__scale_pos_weight': 1, 'classifier__seed': 0, 'classifier__subsample': 1}\n"
     ]
    }
   ],
   "source": [
    "print(\"Best score: %s\" % (rfc1.best_score_))\n",
    "print(\"Best parameter set: %s\" % (rfc1.best_params_))"
   ]
  },
  {
   "cell_type": "code",
   "execution_count": 118,
   "metadata": {},
   "outputs": [
    {
     "name": "stdout",
     "output_type": "stream",
     "text": [
      "Accuracy: 97.32%\n"
     ]
    }
   ],
   "source": [
    "y_pred = rfc1.predict(X_test)\n",
    "\n",
    "accuracy = accuracy_score(y_test, y_pred)\n",
    "print(\"Accuracy: %.2f%%\" % (accuracy * 100.0))"
   ]
  },
  {
   "cell_type": "code",
   "execution_count": 119,
   "metadata": {
    "collapsed": true
   },
   "outputs": [],
   "source": [
    "#Best parameter set: 'classifier__n_estimators': 80"
   ]
  },
  {
   "cell_type": "markdown",
   "metadata": {},
   "source": [
    "#### Step 2: Tune max_depth and min_child_weight"
   ]
  },
  {
   "cell_type": "code",
   "execution_count": 120,
   "metadata": {},
   "outputs": [
    {
     "name": "stdout",
     "output_type": "stream",
     "text": [
      "Best score: 0.9802683504340963\n",
      "Best parameter set: {'classifier__colsample_bylevel': 1, 'classifier__colsample_bytree': 1, 'classifier__gamma': 0, 'classifier__learning_rate': 0.1, 'classifier__max_delta_step': 0, 'classifier__max_depth': 5, 'classifier__min_child_weight': 5, 'classifier__n_estimators': 80, 'classifier__nthread': -1, 'classifier__objective': 'binary:logistic', 'classifier__reg_alpha': 0, 'classifier__reg_lambda': 1, 'classifier__scale_pos_weight': 1, 'classifier__seed': 0, 'classifier__subsample': 1}\n",
      "---------------------\n",
      "Accuracy: 97.32%\n"
     ]
    }
   ],
   "source": [
    "pipeline_gs = Pipeline([('scaler', StandardScaler()), ('classifier', XGBClassifier())])\n",
    "\n",
    "parameters = {'classifier__learning_rate': [0.1], 'classifier__n_estimators': [80],\n",
    "              'classifier__max_depth':[2,3,5,7,10],'classifier__min_child_weight':[1,3,5,7],\n",
    "              'classifier__gamma':[0],'classifier__subsample':[1],\n",
    "              'classifier__colsample_bytree':[1],'classifier__nthread':[-1],\n",
    "              'classifier__colsample_bylevel':[1],\n",
    "              'classifier__max_delta_step':[0],\n",
    "              'classifier__objective':['binary:logistic'],\n",
    "              'classifier__reg_alpha':[0],\n",
    "              'classifier__reg_lambda':[1],\n",
    "              'classifier__scale_pos_weight':[1],\n",
    "              'classifier__seed':[0]\n",
    "             }\n",
    "\n",
    "rfc2 = GridSearchCV(pipeline_gs, parameters)\n",
    "rfc2.fit(X_train, y_train)\n",
    "print(\"Best score: %s\" % (rfc2.best_score_))\n",
    "print(\"Best parameter set: %s\" % (rfc2.best_params_))\n",
    "y_pred = rfc2.predict(X_test)\n",
    "\n",
    "accuracy = accuracy_score(y_test, y_pred)\n",
    "\n",
    "print('---------------------')\n",
    "print(\"Accuracy: %.2f%%\" % (accuracy * 100.0))\n"
   ]
  },
  {
   "cell_type": "code",
   "execution_count": 121,
   "metadata": {
    "collapsed": true
   },
   "outputs": [],
   "source": [
    "#Best parameter set: 'classifier__max_depth': 5, 'classifier__min_child_weight': 5"
   ]
  },
  {
   "cell_type": "markdown",
   "metadata": {},
   "source": [
    "#### Step 3: Tune gamma"
   ]
  },
  {
   "cell_type": "code",
   "execution_count": 122,
   "metadata": {},
   "outputs": [
    {
     "name": "stdout",
     "output_type": "stream",
     "text": [
      "Best score: 0.9802683504340963\n",
      "Best parameter set: {'classifier__colsample_bylevel': 1, 'classifier__colsample_bytree': 1, 'classifier__gamma': 0, 'classifier__learning_rate': 0.1, 'classifier__max_delta_step': 0, 'classifier__max_depth': 5, 'classifier__min_child_weight': 5, 'classifier__n_estimators': 80, 'classifier__nthread': -1, 'classifier__objective': 'binary:logistic', 'classifier__reg_alpha': 0, 'classifier__reg_lambda': 1, 'classifier__scale_pos_weight': 1, 'classifier__seed': 0, 'classifier__subsample': 1}\n",
      "\n",
      "\n",
      "---------------------\n",
      "Accuracy: 97.32%\n"
     ]
    }
   ],
   "source": [
    "pipeline_gs = Pipeline([('scaler', StandardScaler()), ('classifier', XGBClassifier())])\n",
    "\n",
    "parameters = {'classifier__learning_rate': [0.1], 'classifier__n_estimators': [80],\n",
    "              'classifier__max_depth':[5],'classifier__min_child_weight':[5],\n",
    "              'classifier__gamma':[0,0.1,0.2,0.5],'classifier__subsample':[1],\n",
    "              'classifier__colsample_bytree':[1],'classifier__nthread':[-1],\n",
    "              'classifier__colsample_bylevel':[1],\n",
    "              'classifier__max_delta_step':[0],\n",
    "              'classifier__objective':['binary:logistic'],\n",
    "              'classifier__reg_alpha':[0],\n",
    "              'classifier__reg_lambda':[1],\n",
    "              'classifier__scale_pos_weight':[1],\n",
    "              'classifier__seed':[0]\n",
    "             }\n",
    "rfc3 = GridSearchCV(pipeline_gs, parameters)\n",
    "rfc3.fit(X_train, y_train)\n",
    "print(\"Best score: %s\" % (rfc3.best_score_))\n",
    "print(\"Best parameter set: %s\" % (rfc3.best_params_))\n",
    "print('\\n')\n",
    "y_pred = rfc3.predict(X_test)\n",
    "\n",
    "accuracy = accuracy_score(y_test, y_pred)\n",
    "print('---------------------')\n",
    "print(\"Accuracy: %.2f%%\" % (accuracy * 100.0))\n"
   ]
  },
  {
   "cell_type": "code",
   "execution_count": 123,
   "metadata": {
    "collapsed": true
   },
   "outputs": [],
   "source": [
    "#Best parameter set:'classifier__gamma': 0"
   ]
  },
  {
   "cell_type": "markdown",
   "metadata": {},
   "source": [
    "#### Step 4: Tune subsample and colsample_bytree"
   ]
  },
  {
   "cell_type": "code",
   "execution_count": 128,
   "metadata": {
    "scrolled": true
   },
   "outputs": [
    {
     "name": "stdout",
     "output_type": "stream",
     "text": [
      "Best score: 0.9806629834254144\n",
      "Best parameter set: {'classifier__colsample_bylevel': 0.7, 'classifier__colsample_bytree': 0.6, 'classifier__gamma': 0, 'classifier__learning_rate': 0.1, 'classifier__max_delta_step': 0, 'classifier__max_depth': 5, 'classifier__min_child_weight': 5, 'classifier__n_estimators': 80, 'classifier__nthread': -1, 'classifier__objective': 'binary:logistic', 'classifier__reg_alpha': 0, 'classifier__reg_lambda': 1, 'classifier__scale_pos_weight': 1, 'classifier__seed': 0, 'classifier__subsample': 1}\n",
      "\n",
      "\n",
      "---------------------\n",
      "Accuracy: 97.48%\n"
     ]
    }
   ],
   "source": [
    "pipeline_gs = Pipeline([('scaler', StandardScaler()), ('classifier', XGBClassifier())])\n",
    "parameters = {'classifier__learning_rate': [0.1], 'classifier__n_estimators': [80],\n",
    "              'classifier__max_depth':[5],'classifier__min_child_weight':[5],\n",
    "              'classifier__gamma':[0],'classifier__subsample':[1],\n",
    "              'classifier__colsample_bytree':[0.6,0.7,0.8,0.9,1.0],'classifier__nthread':[-1],\n",
    "              'classifier__colsample_bylevel':[0.6,0.7,0.8,0.9,1.0],\n",
    "              'classifier__max_delta_step':[0],\n",
    "              'classifier__objective':['binary:logistic'],\n",
    "              'classifier__reg_alpha':[0],\n",
    "              'classifier__reg_lambda':[1],\n",
    "              'classifier__scale_pos_weight':[1],\n",
    "              'classifier__seed':[0]\n",
    "             }\n",
    "rfc4 = GridSearchCV(pipeline_gs, parameters)\n",
    "rfc4.fit(X_train, y_train)\n",
    "print(\"Best score: %s\" % (rfc4.best_score_))\n",
    "print(\"Best parameter set: %s\" % (rfc4.best_params_))\n",
    "print('\\n')\n",
    "y_pred = rfc4.predict(X_test)\n",
    "\n",
    "accuracy = accuracy_score(y_test, y_pred)\n",
    "print('---------------------')\n",
    "print(\"Accuracy: %.2f%%\" % (accuracy * 100.0))"
   ]
  },
  {
   "cell_type": "code",
   "execution_count": null,
   "metadata": {
    "collapsed": true
   },
   "outputs": [],
   "source": [
    "#Best parameter set:'classifier__colsample_bylevel': 0.7, 'classifier__colsample_bytree': 0.6"
   ]
  },
  {
   "cell_type": "markdown",
   "metadata": {},
   "source": [
    "#### Step 5: Tuning Regularization Parameters"
   ]
  },
  {
   "cell_type": "code",
   "execution_count": 129,
   "metadata": {},
   "outputs": [
    {
     "name": "stdout",
     "output_type": "stream",
     "text": [
      "Best score: 0.9806629834254144\n",
      "Best parameter set: {'classifier__colsample_bylevel': 0.7, 'classifier__colsample_bytree': 0.6, 'classifier__gamma': 0, 'classifier__learning_rate': 0.1, 'classifier__max_delta_step': 0, 'classifier__max_depth': 5, 'classifier__min_child_weight': 5, 'classifier__n_estimators': 80, 'classifier__nthread': -1, 'classifier__objective': 'binary:logistic', 'classifier__reg_alpha': 0.001, 'classifier__reg_lambda': 1, 'classifier__scale_pos_weight': 1, 'classifier__seed': 0, 'classifier__subsample': 1}\n",
      "\n",
      "\n",
      "---------------------\n",
      "Accuracy: 97.48%\n"
     ]
    }
   ],
   "source": [
    "pipeline_gs = Pipeline([('scaler', StandardScaler()), ('classifier', XGBClassifier())])\n",
    "parameters = {'classifier__learning_rate': [0.1], 'classifier__n_estimators': [80],\n",
    "              'classifier__max_depth':[5],'classifier__min_child_weight':[5],\n",
    "              'classifier__gamma':[0],'classifier__subsample':[1],\n",
    "              'classifier__colsample_bytree':[0.6],'classifier__nthread':[-1],\n",
    "              'classifier__colsample_bylevel':[0.7],\n",
    "              'classifier__max_delta_step':[0],\n",
    "              'classifier__objective':['binary:logistic'],\n",
    "              'classifier__reg_alpha':[1e-3, 1e-2, 0.1, 1, 100],\n",
    "              'classifier__reg_lambda':[1],\n",
    "              'classifier__scale_pos_weight':[1],\n",
    "              'classifier__seed':[0]\n",
    "             }\n",
    "rfc4 = GridSearchCV(pipeline_gs, parameters)\n",
    "rfc4.fit(X_train, y_train)\n",
    "print(\"Best score: %s\" % (rfc4.best_score_))\n",
    "print(\"Best parameter set: %s\" % (rfc4.best_params_))\n",
    "print('\\n')\n",
    "y_pred = rfc4.predict(X_test)\n",
    "\n",
    "accuracy = accuracy_score(y_test, y_pred)\n",
    "print('---------------------')\n",
    "print(\"Accuracy: %.2f%%\" % (accuracy * 100.0))"
   ]
  },
  {
   "cell_type": "code",
   "execution_count": 127,
   "metadata": {
    "collapsed": true
   },
   "outputs": [],
   "source": [
    "#Best parameter set: 'classifier__reg_alpha': 0.001"
   ]
  },
  {
   "cell_type": "markdown",
   "metadata": {},
   "source": [
    "#### Step 6: Reducing Learning Rate"
   ]
  },
  {
   "cell_type": "code",
   "execution_count": 130,
   "metadata": {},
   "outputs": [
    {
     "name": "stdout",
     "output_type": "stream",
     "text": [
      "Best score: 0.9806629834254144\n",
      "Best parameter set: {'classifier__colsample_bylevel': 0.7, 'classifier__colsample_bytree': 0.6, 'classifier__gamma': 0, 'classifier__learning_rate': 0.1, 'classifier__max_delta_step': 0, 'classifier__max_depth': 5, 'classifier__min_child_weight': 5, 'classifier__n_estimators': 80, 'classifier__nthread': -1, 'classifier__objective': 'binary:logistic', 'classifier__reg_alpha': 0.001, 'classifier__reg_lambda': 1, 'classifier__scale_pos_weight': 1, 'classifier__seed': 0, 'classifier__subsample': 1}\n",
      "\n",
      "\n",
      "---------------------\n",
      "Accuracy: 97.48%\n"
     ]
    }
   ],
   "source": [
    "pipeline_gs = Pipeline([('scaler', StandardScaler()), ('classifier', XGBClassifier())])\n",
    "parameters = {'classifier__learning_rate': [0.001,0.01,0.1,0.5], 'classifier__n_estimators': [80],\n",
    "              'classifier__max_depth':[5],'classifier__min_child_weight':[5],\n",
    "              'classifier__gamma':[0],'classifier__subsample':[1],\n",
    "              'classifier__colsample_bytree':[0.6],'classifier__nthread':[-1],\n",
    "              'classifier__colsample_bylevel':[0.7],\n",
    "              'classifier__max_delta_step':[0],\n",
    "              'classifier__objective':['binary:logistic'],\n",
    "              'classifier__reg_alpha':[0.001],\n",
    "              'classifier__reg_lambda':[1],\n",
    "              'classifier__scale_pos_weight':[1],\n",
    "              'classifier__seed':[0]\n",
    "             }\n",
    "clf6 = GridSearchCV(pipeline_gs, parameters)\n",
    "clf6.fit(X_train, y_train)\n",
    "print(\"Best score: %s\" % (clf6.best_score_))\n",
    "print(\"Best parameter set: %s\" % (clf6.best_params_))\n",
    "print('\\n')\n",
    "y_pred = clf6.predict(X_test)\n",
    "\n",
    "accuracy = accuracy_score(y_test, y_pred)\n",
    "print('---------------------')\n",
    "print(\"Accuracy: %.2f%%\" % (accuracy * 100.0))"
   ]
  },
  {
   "cell_type": "code",
   "execution_count": 131,
   "metadata": {
    "collapsed": true
   },
   "outputs": [],
   "source": [
    "#Best parameter set: 'classifier__learning_rate': 0.1"
   ]
  },
  {
   "cell_type": "markdown",
   "metadata": {},
   "source": [
    "# Final XGBoost model:"
   ]
  },
  {
   "cell_type": "code",
   "execution_count": 21,
   "metadata": {
    "collapsed": true
   },
   "outputs": [],
   "source": [
    "import xgboost\n",
    "from xgboost.sklearn import XGBClassifier\n",
    "from xgboost.sklearn import XGBRegressor\n",
    "\n",
    "from sklearn.pipeline import Pipeline\n",
    "from sklearn.preprocessing import StandardScaler\n",
    "\n",
    "from sklearn.model_selection import train_test_split  \n",
    "from sklearn.cross_validation import cross_val_score\n",
    "from sklearn.metrics import accuracy_score\n",
    "\n",
    "from xgboost import plot_importance\n",
    "from matplotlib import pyplot\n",
    "import pprint\n",
    "%matplotlib inline\n",
    "\n",
    "import matplotlib.pylab as plt\n",
    "%matplotlib inline\n",
    "from matplotlib.pylab import rcParams\n",
    "rcParams['figure.figsize'] = 12, 4\n",
    "\n",
    "from scipy.stats import randint\n",
    "\n",
    "from sklearn.grid_search import GridSearchCV"
   ]
  },
  {
   "cell_type": "code",
   "execution_count": 22,
   "metadata": {},
   "outputs": [
    {
     "name": "stdout",
     "output_type": "stream",
     "text": [
      "Best score: 0.6410256410256411\n",
      "Best parameter set: {'classifier__colsample_bylevel': 1, 'classifier__colsample_bytree': 1, 'classifier__gamma': 0.5, 'classifier__learning_rate': 0.1, 'classifier__max_delta_step': 0, 'classifier__max_depth': 3, 'classifier__min_child_weight': 7, 'classifier__n_estimators': 80, 'classifier__nthread': -1, 'classifier__objective': 'binary:logistic', 'classifier__reg_alpha': 0.01, 'classifier__reg_lambda': 1, 'classifier__scale_pos_weight': 1, 'classifier__seed': 0, 'classifier__subsample': 1}\n",
      "\n",
      "\n",
      "---------------------\n",
      "Accuracy: 64.32%\n"
     ]
    }
   ],
   "source": [
    "pipeline_gs = Pipeline([('scaler', StandardScaler()), ('classifier', XGBClassifier())])\n",
    "parameters = {'classifier__learning_rate': [0.1], 'classifier__n_estimators': [80],\n",
    "              'classifier__max_depth':[5],'classifier__min_child_weight':[5],\n",
    "              'classifier__gamma':[0],'classifier__subsample':[1],\n",
    "              'classifier__colsample_bytree':[0.6],'classifier__nthread':[-1],\n",
    "              'classifier__colsample_bylevel':[0.7],\n",
    "              'classifier__max_delta_step':[0],\n",
    "              'classifier__objective':['binary:logistic'],\n",
    "              'classifier__reg_alpha':[0.001],\n",
    "              'classifier__reg_lambda':[1],\n",
    "              'classifier__scale_pos_weight':[1],\n",
    "              'classifier__seed':[0]\n",
    "             }\n",
    "clf_f = GridSearchCV(pipeline_gs, parameters)\n",
    "clf_f.fit(X_train, y_train)\n",
    "print(\"Best score: %s\" % (clf_f.best_score_))\n",
    "print(\"Best parameter set: %s\" % (clf_f.best_params_))\n",
    "print('\\n')\n",
    "y_pred = clf_f.predict(X_test)\n",
    "\n",
    "accuracy = accuracy_score(y_test, y_pred)\n",
    "print('---------------------')\n",
    "print(\"Accuracy: %.2f%%\" % (accuracy * 100.0))"
   ]
  },
  {
   "cell_type": "code",
   "execution_count": 23,
   "metadata": {},
   "outputs": [
    {
     "name": "stdout",
     "output_type": "stream",
     "text": [
      "[[797 511]\n",
      " [397 840]]\n",
      "Accuracy: 64.32%\n"
     ]
    }
   ],
   "source": [
    "print(confusion_matrix(y_test,y_pred))\n",
    "accuracy=confusion_matrix(y_test,y_pred).trace()/confusion_matrix(y_test,y_pred).sum()\n",
    "print(\"Accuracy: %.2f%%\" % (accuracy * 100.0))"
   ]
  },
  {
   "cell_type": "code",
   "execution_count": 24,
   "metadata": {
    "collapsed": true
   },
   "outputs": [],
   "source": [
    "# [[797 511]\n",
    "# [397 840]]\n",
    "# Accuracy: 64.32%"
   ]
  },
  {
   "cell_type": "markdown",
   "metadata": {},
   "source": [
    "## Neural Network"
   ]
  },
  {
   "cell_type": "code",
   "execution_count": 345,
   "metadata": {},
   "outputs": [
    {
     "name": "stdout",
     "output_type": "stream",
     "text": [
      "0.001 20 finished\n",
      "0.001 30 finished\n",
      "0.001 40 finished\n",
      "0.001 50 finished\n",
      "0.001 60 finished\n",
      "0.001 70 finished\n",
      "0.001 80 finished\n",
      "0.001 90 finished\n",
      "0.001 100 finished\n",
      "0.01 20 finished\n",
      "0.01 30 finished\n",
      "0.01 40 finished\n",
      "0.01 50 finished\n",
      "0.01 60 finished\n",
      "0.01 70 finished\n",
      "0.01 80 finished\n",
      "0.01 90 finished\n",
      "0.01 100 finished\n",
      "0.1 20 finished\n",
      "0.1 30 finished\n",
      "0.1 40 finished\n",
      "0.1 50 finished\n",
      "0.1 60 finished\n",
      "0.1 70 finished\n",
      "0.1 80 finished\n",
      "0.1 90 finished\n",
      "0.1 100 finished\n",
      "1 20 finished\n",
      "1 30 finished\n",
      "1 40 finished\n",
      "1 50 finished\n",
      "1 60 finished\n",
      "1 70 finished\n",
      "1 80 finished\n",
      "1 90 finished\n",
      "1 100 finished\n",
      "10 20 finished\n",
      "10 30 finished\n",
      "10 40 finished\n",
      "10 50 finished\n",
      "10 60 finished\n",
      "10 70 finished\n",
      "10 80 finished\n",
      "10 90 finished\n",
      "10 100 finished\n"
     ]
    },
    {
     "data": {
      "text/plain": [
       "array([ 0.63707777,  0.62765122,  0.62136685,  0.62765122,  0.60691824,\n",
       "        0.62893082,  0.63443396,  0.61713836,  0.63600629,  0.62893082])"
      ]
     },
     "execution_count": 345,
     "metadata": {},
     "output_type": "execute_result"
    }
   ],
   "source": [
    "import pandas as pd\n",
    "import numpy as np\n",
    "from sklearn import linear_model\n",
    "from sklearn.neural_network import MLPClassifier\n",
    "from sklearn.model_selection import cross_val_score, KFold\n",
    "\n",
    "# finding a best combination of hidden nodes number and alpha using 5-fold cross validation\n",
    "alphaList = [0.001,0.01,0.1,1,10]\n",
    "numNodesList = [20,30,40,50,60,70,80,90,100]\n",
    "ccr = pd.DataFrame(({\"alpha\":[],\"numNodes\":[],\"score\":[]}))\n",
    "\n",
    "kfold = KFold(n_splits=10,random_state=1)\n",
    "for alpha in alphaList:\n",
    "    for numNodes in numNodesList:\n",
    "        nn = MLPClassifier(hidden_layer_sizes=numNodes, activation=\"logistic\", alpha=alpha, solver=\"lbfgs\", random_state=1)\n",
    "        nn.fit(cancer_data,y=cancer_target)\n",
    "        scores = cross_val_score(nn, X=cancer_data, y=cancer_target, cv=kfold)\n",
    "        ccr = ccr.append(pd.Series((alpha, numNodes, scores.mean()), index=[\"alpha\", \"numNodes\", \"score\"]), ignore_index=True)\n",
    "        print(str(alpha)+\" \"+str(numNodes)+\" finished\")\n",
    "\n",
    "ccr[ccr.score == ccr.score.max()]\n",
    "ccr.to_csv(\"ccr_neural_network\",index=False,encoding=\"utf-8\")\n",
    "\n",
    "# neural network with alpha = 0.01, one hidden layer with 20 hidden nodes, logistic form for both hidden and output layer\n",
    "nn = MLPClassifier(hidden_layer_sizes=20,activation=\"logistic\",alpha=0.01,solver=\"lbfgs\",random_state=1)\n",
    "nn.fit(X=cancer_data,y=cancer_target)\n",
    "cross_val_score(nn, X=cancer_data, y=cancer_target, cv=kfold)"
   ]
  },
  {
   "cell_type": "code",
   "execution_count": 45,
   "metadata": {
    "collapsed": true
   },
   "outputs": [],
   "source": [
    "a=[ 0.63707777,  0.62765122,  0.62136685,  0.62765122,  0.60691824,0.62893082,  0.63443396,  0.61713836,  0.63600629,  0.62893082]"
   ]
  },
  {
   "cell_type": "code",
   "execution_count": 51,
   "metadata": {},
   "outputs": [
    {
     "data": {
      "text/plain": [
       "0.62661055499999996"
      ]
     },
     "execution_count": 51,
     "metadata": {},
     "output_type": "execute_result"
    }
   ],
   "source": [
    "np.mean(a)"
   ]
  },
  {
   "cell_type": "markdown",
   "metadata": {},
   "source": [
    "## Conclusion: best model is XGBoost"
   ]
  },
  {
   "cell_type": "code",
   "execution_count": 348,
   "metadata": {
    "collapsed": true
   },
   "outputs": [],
   "source": [
    "# Now we include the data where survival_1_year = 0, \n",
    "#for which cases we will directly assign survival_7_years to be 0\n",
    "#since these samples already died in 1 year."
   ]
  },
  {
   "cell_type": "code",
   "execution_count": 351,
   "metadata": {
    "collapsed": true
   },
   "outputs": [],
   "source": [
    "cancer_final=cancer\n",
    "\n",
    "cancer_final['survival_7_years_pred']=clf_f.predict(cancer_final.drop(['id','survival_7_years'],axis=1))\n",
    "cancer_final.loc[cancer_final.survival_1_year==0,'survival_7_years_pred']=0"
   ]
  },
  {
   "cell_type": "code",
   "execution_count": 353,
   "metadata": {},
   "outputs": [
    {
     "name": "stdout",
     "output_type": "stream",
     "text": [
      "Final Accuracy: 69.94%\n"
     ]
    }
   ],
   "source": [
    "f_accuracy=len(cancer_final[cancer_final.survival_7_years==cancer_final.survival_7_years_pred])/len(cancer_final['survival_7_years'])\n",
    "\n",
    "print(\"Final Accuracy: %.2f%%\" % (f_accuracy * 100.0))"
   ]
  },
  {
   "cell_type": "code",
   "execution_count": null,
   "metadata": {
    "collapsed": true
   },
   "outputs": [],
   "source": [
    "# Final Accuracy: 69.94%"
   ]
  },
  {
   "cell_type": "markdown",
   "metadata": {},
   "source": [
    "# Predictions on Test Set"
   ]
  },
  {
   "cell_type": "code",
   "execution_count": 30,
   "metadata": {
    "collapsed": true
   },
   "outputs": [],
   "source": [
    "test = pd.read_csv(\"testNew.csv\", index_col=0)\n",
    "#test.head()\n",
    "test_1yrgreater = test[test.survival_1_year != 0]\n",
    "test_data=test_1yrgreater.drop(['survival_7_years','id.1'],axis=1)\n",
    "test_target=test_1yrgreater.survival_7_years"
   ]
  },
  {
   "cell_type": "code",
   "execution_count": 31,
   "metadata": {
    "collapsed": true
   },
   "outputs": [],
   "source": [
    "test_pred = clf_f.predict(test_data)"
   ]
  },
  {
   "cell_type": "code",
   "execution_count": 40,
   "metadata": {},
   "outputs": [
    {
     "data": {
      "text/plain": [
       "<matplotlib.axes._subplots.AxesSubplot at 0x1120d3048>"
      ]
     },
     "execution_count": 40,
     "metadata": {},
     "output_type": "execute_result"
    },
    {
     "data": {
      "image/png": "[encoded data removed]",
      "text/plain": [
       "<matplotlib.figure.Figure at 0x114d4b3c8>"
      ]
     },
     "metadata": {},
     "output_type": "display_data"
    }
   ],
   "source": [
    "prediction_df=pd.DataFrame(data=[test_pred,list(test_1yrgreater['id.1'])])\n",
    "prediction_df_final=prediction_df.transpose()\n",
    "prediction_df_final.columns=[\"prediction\",\"id.1\"]\n",
    "prediction_df_final.index=prediction_df_final['id.1']\n",
    "test.index=test['id.1']\n",
    "test.loc[prediction_df_final['id.1'],\"survival_7_years\"]=list(prediction_df_final.prediction)\n",
    "test.loc[test.survival_1_year == 0,\"survival_7_years\"]=0\n",
    "sns.countplot(test['survival_7_years'])"
   ]
  },
  {
   "cell_type": "code",
   "execution_count": 41,
   "metadata": {},
   "outputs": [
    {
     "data": {
      "text/html": [
       "<div>\n",
       "<style>\n",
       "    .dataframe thead tr:only-child th {\n",
       "        text-align: right;\n",
       "    }\n",
       "\n",
       "    .dataframe thead th {\n",
       "        text-align: left;\n",
       "    }\n",
       "\n",
       "    .dataframe tbody tr th {\n",
       "        vertical-align: top;\n",
       "    }\n",
       "</style>\n",
       "<table border=\"1\" class=\"dataframe\">\n",
       "  <thead>\n",
       "    <tr style=\"text-align: right;\">\n",
       "      <th></th>\n",
       "      <th>id.1</th>\n",
       "      <th>tumor_speed</th>\n",
       "      <th>psa_speed</th>\n",
       "      <th>survival_7_years</th>\n",
       "      <th>gleason_score</th>\n",
       "      <th>age</th>\n",
       "      <th>race</th>\n",
       "      <th>side_right</th>\n",
       "      <th>side_left</th>\n",
       "      <th>side_both</th>\n",
       "      <th>...</th>\n",
       "      <th>family_history_new</th>\n",
       "      <th>first_degree_history_new</th>\n",
       "      <th>previous_cancer_new</th>\n",
       "      <th>weight_new</th>\n",
       "      <th>height_new</th>\n",
       "      <th>BMI</th>\n",
       "      <th>tumor_diagnosis_imp</th>\n",
       "      <th>psa_diagnosis_imp</th>\n",
       "      <th>tumor_1_year_imp</th>\n",
       "      <th>psa_1_year_imp</th>\n",
       "    </tr>\n",
       "  </thead>\n",
       "  <tbody>\n",
       "    <tr>\n",
       "      <th>count</th>\n",
       "      <td>11531.000000</td>\n",
       "      <td>11531.000000</td>\n",
       "      <td>11531.000000</td>\n",
       "      <td>11531.000000</td>\n",
       "      <td>11531.000000</td>\n",
       "      <td>11531.000000</td>\n",
       "      <td>11531.000000</td>\n",
       "      <td>11531.000000</td>\n",
       "      <td>11531.000000</td>\n",
       "      <td>11531.000000</td>\n",
       "      <td>...</td>\n",
       "      <td>11531.000000</td>\n",
       "      <td>11531.000000</td>\n",
       "      <td>11531.000000</td>\n",
       "      <td>11531.000000</td>\n",
       "      <td>11531.000000</td>\n",
       "      <td>11531.000000</td>\n",
       "      <td>11531.000000</td>\n",
       "      <td>11531.00000</td>\n",
       "      <td>11531.000000</td>\n",
       "      <td>11531.000000</td>\n",
       "    </tr>\n",
       "    <tr>\n",
       "      <th>mean</th>\n",
       "      <td>25766.000000</td>\n",
       "      <td>0.666707</td>\n",
       "      <td>0.744999</td>\n",
       "      <td>0.584685</td>\n",
       "      <td>7.247854</td>\n",
       "      <td>76.899315</td>\n",
       "      <td>3.466135</td>\n",
       "      <td>0.301015</td>\n",
       "      <td>0.198942</td>\n",
       "      <td>0.500043</td>\n",
       "      <td>...</td>\n",
       "      <td>0.378111</td>\n",
       "      <td>0.191831</td>\n",
       "      <td>0.067037</td>\n",
       "      <td>176.612870</td>\n",
       "      <td>69.140664</td>\n",
       "      <td>0.027973</td>\n",
       "      <td>46.617553</td>\n",
       "      <td>11.64376</td>\n",
       "      <td>34.785621</td>\n",
       "      <td>9.027994</td>\n",
       "    </tr>\n",
       "    <tr>\n",
       "      <th>std</th>\n",
       "      <td>3328.857311</td>\n",
       "      <td>0.498252</td>\n",
       "      <td>0.477358</td>\n",
       "      <td>0.492798</td>\n",
       "      <td>1.930708</td>\n",
       "      <td>9.331628</td>\n",
       "      <td>0.965651</td>\n",
       "      <td>0.458719</td>\n",
       "      <td>0.399222</td>\n",
       "      <td>0.500022</td>\n",
       "      <td>...</td>\n",
       "      <td>0.594090</td>\n",
       "      <td>0.438565</td>\n",
       "      <td>0.250096</td>\n",
       "      <td>16.691715</td>\n",
       "      <td>1.107799</td>\n",
       "      <td>0.004440</td>\n",
       "      <td>17.970462</td>\n",
       "      <td>4.02258</td>\n",
       "      <td>30.427720</td>\n",
       "      <td>5.666281</td>\n",
       "    </tr>\n",
       "    <tr>\n",
       "      <th>min</th>\n",
       "      <td>20001.000000</td>\n",
       "      <td>0.000000</td>\n",
       "      <td>0.000000</td>\n",
       "      <td>0.000000</td>\n",
       "      <td>3.000000</td>\n",
       "      <td>35.000000</td>\n",
       "      <td>1.000000</td>\n",
       "      <td>0.000000</td>\n",
       "      <td>0.000000</td>\n",
       "      <td>0.000000</td>\n",
       "      <td>...</td>\n",
       "      <td>0.000000</td>\n",
       "      <td>0.000000</td>\n",
       "      <td>0.000000</td>\n",
       "      <td>123.000000</td>\n",
       "      <td>65.000000</td>\n",
       "      <td>0.008477</td>\n",
       "      <td>4.000000</td>\n",
       "      <td>1.20000</td>\n",
       "      <td>0.000000</td>\n",
       "      <td>0.000000</td>\n",
       "    </tr>\n",
       "    <tr>\n",
       "      <th>25%</th>\n",
       "      <td>22883.500000</td>\n",
       "      <td>0.218750</td>\n",
       "      <td>0.514599</td>\n",
       "      <td>0.000000</td>\n",
       "      <td>6.000000</td>\n",
       "      <td>72.000000</td>\n",
       "      <td>3.000000</td>\n",
       "      <td>0.000000</td>\n",
       "      <td>0.000000</td>\n",
       "      <td>0.000000</td>\n",
       "      <td>...</td>\n",
       "      <td>0.000000</td>\n",
       "      <td>0.000000</td>\n",
       "      <td>0.000000</td>\n",
       "      <td>167.000000</td>\n",
       "      <td>68.000000</td>\n",
       "      <td>0.026200</td>\n",
       "      <td>35.000000</td>\n",
       "      <td>8.60000</td>\n",
       "      <td>8.000000</td>\n",
       "      <td>5.300000</td>\n",
       "    </tr>\n",
       "    <tr>\n",
       "      <th>50%</th>\n",
       "      <td>25766.000000</td>\n",
       "      <td>0.672727</td>\n",
       "      <td>0.748092</td>\n",
       "      <td>1.000000</td>\n",
       "      <td>7.000000</td>\n",
       "      <td>78.000000</td>\n",
       "      <td>4.000000</td>\n",
       "      <td>0.000000</td>\n",
       "      <td>0.000000</td>\n",
       "      <td>1.000000</td>\n",
       "      <td>...</td>\n",
       "      <td>0.000000</td>\n",
       "      <td>0.000000</td>\n",
       "      <td>0.000000</td>\n",
       "      <td>173.000000</td>\n",
       "      <td>69.000000</td>\n",
       "      <td>0.028462</td>\n",
       "      <td>43.000000</td>\n",
       "      <td>11.60000</td>\n",
       "      <td>31.000000</td>\n",
       "      <td>8.900000</td>\n",
       "    </tr>\n",
       "    <tr>\n",
       "      <th>75%</th>\n",
       "      <td>28648.500000</td>\n",
       "      <td>1.023256</td>\n",
       "      <td>0.960000</td>\n",
       "      <td>1.000000</td>\n",
       "      <td>9.000000</td>\n",
       "      <td>84.000000</td>\n",
       "      <td>4.000000</td>\n",
       "      <td>1.000000</td>\n",
       "      <td>0.000000</td>\n",
       "      <td>1.000000</td>\n",
       "      <td>...</td>\n",
       "      <td>1.000000</td>\n",
       "      <td>0.000000</td>\n",
       "      <td>0.000000</td>\n",
       "      <td>180.000000</td>\n",
       "      <td>70.000000</td>\n",
       "      <td>0.030465</td>\n",
       "      <td>55.000000</td>\n",
       "      <td>14.60000</td>\n",
       "      <td>52.000000</td>\n",
       "      <td>12.000000</td>\n",
       "    </tr>\n",
       "    <tr>\n",
       "      <th>max</th>\n",
       "      <td>31531.000000</td>\n",
       "      <td>3.465116</td>\n",
       "      <td>13.913043</td>\n",
       "      <td>1.000000</td>\n",
       "      <td>14.000000</td>\n",
       "      <td>108.000000</td>\n",
       "      <td>4.000000</td>\n",
       "      <td>1.000000</td>\n",
       "      <td>1.000000</td>\n",
       "      <td>1.000000</td>\n",
       "      <td>...</td>\n",
       "      <td>5.000000</td>\n",
       "      <td>5.000000</td>\n",
       "      <td>1.000000</td>\n",
       "      <td>317.000000</td>\n",
       "      <td>74.000000</td>\n",
       "      <td>0.055488</td>\n",
       "      <td>192.000000</td>\n",
       "      <td>28.00000</td>\n",
       "      <td>201.000000</td>\n",
       "      <td>35.000000</td>\n",
       "    </tr>\n",
       "  </tbody>\n",
       "</table>\n",
       "<p>8 rows × 55 columns</p>\n",
       "</div>"
      ],
      "text/plain": [
       "               id.1   tumor_speed     psa_speed  survival_7_years  \\\n",
       "count  11531.000000  11531.000000  11531.000000      11531.000000   \n",
       "mean   25766.000000      0.666707      0.744999          0.584685   \n",
       "std     3328.857311      0.498252      0.477358          0.492798   \n",
       "min    20001.000000      0.000000      0.000000          0.000000   \n",
       "25%    22883.500000      0.218750      0.514599          0.000000   \n",
       "50%    25766.000000      0.672727      0.748092          1.000000   \n",
       "75%    28648.500000      1.023256      0.960000          1.000000   \n",
       "max    31531.000000      3.465116     13.913043          1.000000   \n",
       "\n",
       "       gleason_score           age          race    side_right     side_left  \\\n",
       "count   11531.000000  11531.000000  11531.000000  11531.000000  11531.000000   \n",
       "mean        7.247854     76.899315      3.466135      0.301015      0.198942   \n",
       "std         1.930708      9.331628      0.965651      0.458719      0.399222   \n",
       "min         3.000000     35.000000      1.000000      0.000000      0.000000   \n",
       "25%         6.000000     72.000000      3.000000      0.000000      0.000000   \n",
       "50%         7.000000     78.000000      4.000000      0.000000      0.000000   \n",
       "75%         9.000000     84.000000      4.000000      1.000000      0.000000   \n",
       "max        14.000000    108.000000      4.000000      1.000000      1.000000   \n",
       "\n",
       "          side_both       ...        family_history_new  \\\n",
       "count  11531.000000       ...              11531.000000   \n",
       "mean       0.500043       ...                  0.378111   \n",
       "std        0.500022       ...                  0.594090   \n",
       "min        0.000000       ...                  0.000000   \n",
       "25%        0.000000       ...                  0.000000   \n",
       "50%        1.000000       ...                  0.000000   \n",
       "75%        1.000000       ...                  1.000000   \n",
       "max        1.000000       ...                  5.000000   \n",
       "\n",
       "       first_degree_history_new  previous_cancer_new    weight_new  \\\n",
       "count              11531.000000         11531.000000  11531.000000   \n",
       "mean                   0.191831             0.067037    176.612870   \n",
       "std                    0.438565             0.250096     16.691715   \n",
       "min                    0.000000             0.000000    123.000000   \n",
       "25%                    0.000000             0.000000    167.000000   \n",
       "50%                    0.000000             0.000000    173.000000   \n",
       "75%                    0.000000             0.000000    180.000000   \n",
       "max                    5.000000             1.000000    317.000000   \n",
       "\n",
       "         height_new           BMI  tumor_diagnosis_imp  psa_diagnosis_imp  \\\n",
       "count  11531.000000  11531.000000         11531.000000        11531.00000   \n",
       "mean      69.140664      0.027973            46.617553           11.64376   \n",
       "std        1.107799      0.004440            17.970462            4.02258   \n",
       "min       65.000000      0.008477             4.000000            1.20000   \n",
       "25%       68.000000      0.026200            35.000000            8.60000   \n",
       "50%       69.000000      0.028462            43.000000           11.60000   \n",
       "75%       70.000000      0.030465            55.000000           14.60000   \n",
       "max       74.000000      0.055488           192.000000           28.00000   \n",
       "\n",
       "       tumor_1_year_imp  psa_1_year_imp  \n",
       "count      11531.000000    11531.000000  \n",
       "mean          34.785621        9.027994  \n",
       "std           30.427720        5.666281  \n",
       "min            0.000000        0.000000  \n",
       "25%            8.000000        5.300000  \n",
       "50%           31.000000        8.900000  \n",
       "75%           52.000000       12.000000  \n",
       "max          201.000000       35.000000  \n",
       "\n",
       "[8 rows x 55 columns]"
      ]
     },
     "execution_count": 41,
     "metadata": {},
     "output_type": "execute_result"
    }
   ],
   "source": [
    "test.describe()"
   ]
  },
  {
   "cell_type": "code",
   "execution_count": 42,
   "metadata": {
    "collapsed": true
   },
   "outputs": [],
   "source": [
    "test.to_csv(\"mengyusun_score.csv\")"
   ]
  },
  {
   "cell_type": "code",
   "execution_count": null,
   "metadata": {
    "collapsed": true
   },
   "outputs": [],
   "source": []
  }
 ],
 "metadata": {
  "kernelspec": {
   "display_name": "Python 3",
   "language": "python",
   "name": "python3"
  },
  "language_info": {
   "codemirror_mode": {
    "name": "ipython",
    "version": 3
   },
   "file_extension": ".py",
   "mimetype": "text/x-python",
   "name": "python",
   "nbconvert_exporter": "python",
   "pygments_lexer": "ipython3",
   "version": "3.6.3"
  }
 },
 "nbformat": 4,
 "nbformat_minor": 2
}
